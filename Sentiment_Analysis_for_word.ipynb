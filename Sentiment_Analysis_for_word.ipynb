{
  "nbformat": 4,
  "nbformat_minor": 0,
  "metadata": {
    "colab": {
      "name": "01-02-simple-project-강의.ipynb",
      "provenance": [],
      "collapsed_sections": [
        "BuaFwJqDVumT",
        "sFo_3tAlzneI",
        "erIr-mg8zneJ",
        "wS_edoagzneJ",
        "-0Mbb5GWzneK",
        "milX02G6zneK",
        "DhXN7DHvlEpp",
        "hjSlRk99zneL"
      ],
      "toc_visible": true,
      "include_colab_link": true
    },
    "kernelspec": {
      "name": "python3",
      "display_name": "Python 3"
    },
    "accelerator": "GPU"
  },
  "cells": [
    {
      "cell_type": "markdown",
      "metadata": {
        "id": "view-in-github",
        "colab_type": "text"
      },
      "source": [
        "<a href=\"https://colab.research.google.com/github/nainye/nlp_practice/blob/main/Sentiment_Analysis_for_word.ipynb\" target=\"_parent\"><img src=\"https://colab.research.google.com/assets/colab-badge.svg\" alt=\"Open In Colab\"/></a>"
      ]
    },
    {
      "cell_type": "markdown",
      "metadata": {
        "id": "BuaFwJqDVumT"
      },
      "source": [
        "# EVN"
      ]
    },
    {
      "cell_type": "code",
      "metadata": {
        "id": "ODiNPGQ9VwLK"
      },
      "source": [
        "import numpy as np # 행렬 연산\n",
        "import matplotlib.pyplot as plt\n",
        "\n",
        "import tensorflow as tf"
      ],
      "execution_count": 1,
      "outputs": []
    },
    {
      "cell_type": "markdown",
      "metadata": {
        "id": "sFo_3tAlzneI"
      },
      "source": [
        "# 단어 긍정(2), 중립(1), 부정(0) 분류 프로젝트"
      ]
    },
    {
      "cell_type": "markdown",
      "metadata": {
        "id": "erIr-mg8zneJ"
      },
      "source": [
        "## 데이터"
      ]
    },
    {
      "cell_type": "code",
      "metadata": {
        "id": "KQqU4MBIzneJ"
      },
      "source": [
        "# 입력 문장\n",
        "sentences = [\n",
        "    '나는 오늘 기분이 좋아',\n",
        "    '나는 오늘 우울해'\n",
        "]\n",
        "\n",
        "# 출력 정답\n",
        "labels = [[1, 1, 1, 2],\n",
        "          [1, 1, 0]]  # 긍정(2), 중립(1), 부정(0)\n",
        "\n",
        "# 정답 dic\n",
        "id_to_label = {0: '부정', 1: '중립', 2: '긍정'}"
      ],
      "execution_count": 2,
      "outputs": []
    },
    {
      "cell_type": "code",
      "metadata": {
        "colab": {
          "base_uri": "https://localhost:8080/"
        },
        "id": "ifp-6kceVan1",
        "outputId": "9a1bb7f5-9358-48b2-cfb8-3f742a54515d"
      },
      "source": [
        "sentences"
      ],
      "execution_count": 3,
      "outputs": [
        {
          "output_type": "execute_result",
          "data": {
            "text/plain": [
              "['나는 오늘 기분이 좋아', '나는 오늘 우울해']"
            ]
          },
          "metadata": {
            "tags": []
          },
          "execution_count": 3
        }
      ]
    },
    {
      "cell_type": "code",
      "metadata": {
        "colab": {
          "base_uri": "https://localhost:8080/"
        },
        "id": "X4Irth1kVdVJ",
        "outputId": "ea61986c-d6a4-40ce-b86c-c7c87491c1ff"
      },
      "source": [
        "labels"
      ],
      "execution_count": 4,
      "outputs": [
        {
          "output_type": "execute_result",
          "data": {
            "text/plain": [
              "[[1, 1, 1, 2], [1, 1, 0]]"
            ]
          },
          "metadata": {
            "tags": []
          },
          "execution_count": 4
        }
      ]
    },
    {
      "cell_type": "code",
      "metadata": {
        "colab": {
          "base_uri": "https://localhost:8080/",
          "height": 35
        },
        "id": "MZogG-sbVSEQ",
        "outputId": "c869e65e-aa86-474a-de73-3e9f909298ea"
      },
      "source": [
        "id_to_label[0]"
      ],
      "execution_count": 5,
      "outputs": [
        {
          "output_type": "execute_result",
          "data": {
            "application/vnd.google.colaboratory.intrinsic+json": {
              "type": "string"
            },
            "text/plain": [
              "'부정'"
            ]
          },
          "metadata": {
            "tags": []
          },
          "execution_count": 5
        }
      ]
    },
    {
      "cell_type": "markdown",
      "metadata": {
        "id": "wS_edoagzneJ"
      },
      "source": [
        "## Vocabulary"
      ]
    },
    {
      "cell_type": "code",
      "metadata": {
        "colab": {
          "base_uri": "https://localhost:8080/"
        },
        "id": "CSfk5q43WKdv",
        "outputId": "846fa947-e86c-482b-8de6-a9445963d16f"
      },
      "source": [
        "# 각 문장을 띄어쓰기 단위로 분할\n",
        "words = []\n",
        "for sentence in sentences:\n",
        "  print(sentence.split())\n",
        "  words.extend(sentence.split())\n",
        "words"
      ],
      "execution_count": 6,
      "outputs": [
        {
          "output_type": "stream",
          "text": [
            "['나는', '오늘', '기분이', '좋아']\n",
            "['나는', '오늘', '우울해']\n"
          ],
          "name": "stdout"
        },
        {
          "output_type": "execute_result",
          "data": {
            "text/plain": [
              "['나는', '오늘', '기분이', '좋아', '나는', '오늘', '우울해']"
            ]
          },
          "metadata": {
            "tags": []
          },
          "execution_count": 6
        }
      ]
    },
    {
      "cell_type": "code",
      "metadata": {
        "colab": {
          "base_uri": "https://localhost:8080/"
        },
        "id": "SD37-mHrWo24",
        "outputId": "66336f5f-cc25-45db-8616-a21b10591a0b"
      },
      "source": [
        "dict.fromkeys(words)"
      ],
      "execution_count": 7,
      "outputs": [
        {
          "output_type": "execute_result",
          "data": {
            "text/plain": [
              "{'기분이': None, '나는': None, '오늘': None, '우울해': None, '좋아': None}"
            ]
          },
          "metadata": {
            "tags": []
          },
          "execution_count": 7
        }
      ]
    },
    {
      "cell_type": "code",
      "metadata": {
        "colab": {
          "base_uri": "https://localhost:8080/"
        },
        "id": "Xrpw5cvfWfSW",
        "outputId": "ce4a1faf-0004-409f-92fc-0bf677301fd3"
      },
      "source": [
        "# 중복 단어 제거\n",
        "words = list(dict.fromkeys(words))\n",
        "words"
      ],
      "execution_count": 8,
      "outputs": [
        {
          "output_type": "execute_result",
          "data": {
            "text/plain": [
              "['나는', '오늘', '기분이', '좋아', '우울해']"
            ]
          },
          "metadata": {
            "tags": []
          },
          "execution_count": 8
        }
      ]
    },
    {
      "cell_type": "code",
      "metadata": {
        "id": "INGfjAEcWsWU",
        "colab": {
          "base_uri": "https://localhost:8080/"
        },
        "outputId": "d55be801-9ff8-4c11-bbce-803eb859157f"
      },
      "source": [
        "# 각 단어별 고유한 번호 부여\n",
        "word_to_id = {'[PAD]':0, '[UNK]':1} # PAD - 길이를 조절할 때 / UNK - vocab에 없는 단어\n",
        "for word in words:\n",
        "  word_to_id[word] = len(word_to_id)\n",
        "word_to_id"
      ],
      "execution_count": 9,
      "outputs": [
        {
          "output_type": "execute_result",
          "data": {
            "text/plain": [
              "{'[PAD]': 0, '[UNK]': 1, '기분이': 4, '나는': 2, '오늘': 3, '우울해': 6, '좋아': 5}"
            ]
          },
          "metadata": {
            "tags": []
          },
          "execution_count": 9
        }
      ]
    },
    {
      "cell_type": "code",
      "metadata": {
        "colab": {
          "base_uri": "https://localhost:8080/"
        },
        "id": "78dtLg2Qsltw",
        "outputId": "22b43826-f9c5-4da1-b6fd-67a6fc75da7b"
      },
      "source": [
        "# 각 숫자별 단어 부여\n",
        "id_to_word = {_id:word for word, _id in word_to_id.items()}\n",
        "id_to_word"
      ],
      "execution_count": 10,
      "outputs": [
        {
          "output_type": "execute_result",
          "data": {
            "text/plain": [
              "{0: '[PAD]', 1: '[UNK]', 2: '나는', 3: '오늘', 4: '기분이', 5: '좋아', 6: '우울해'}"
            ]
          },
          "metadata": {
            "tags": []
          },
          "execution_count": 10
        }
      ]
    },
    {
      "cell_type": "markdown",
      "metadata": {
        "id": "-0Mbb5GWzneK"
      },
      "source": [
        "## 모델 학습용 데이터 생성"
      ]
    },
    {
      "cell_type": "code",
      "metadata": {
        "colab": {
          "base_uri": "https://localhost:8080/"
        },
        "id": "dMbeu3sos37W",
        "outputId": "4c3e9868-d4e2-4f5e-d98f-1df67861d564"
      },
      "source": [
        "# 학습용 입력 데이터 생성\n",
        "train_inputs = []\n",
        "for sentence in sentences:\n",
        "  train_inputs.append([word_to_id[word] for word in sentence.split()])\n",
        "train_inputs"
      ],
      "execution_count": 11,
      "outputs": [
        {
          "output_type": "execute_result",
          "data": {
            "text/plain": [
              "[[2, 3, 4, 5], [2, 3, 6]]"
            ]
          },
          "metadata": {
            "tags": []
          },
          "execution_count": 11
        }
      ]
    },
    {
      "cell_type": "code",
      "metadata": {
        "colab": {
          "base_uri": "https://localhost:8080/"
        },
        "id": "4oEnxKhttL-X",
        "outputId": "0b0b3078-eb54-47b2-a031-c51c0e79dd95"
      },
      "source": [
        "# 문장의 길이를 모두 동일하게 변경 (최대길이 4)\n",
        "for row in train_inputs:\n",
        "  row += [0] * (4-len(row))\n",
        "train_inputs"
      ],
      "execution_count": 12,
      "outputs": [
        {
          "output_type": "execute_result",
          "data": {
            "text/plain": [
              "[[2, 3, 4, 5], [2, 3, 6, 0]]"
            ]
          },
          "metadata": {
            "tags": []
          },
          "execution_count": 12
        }
      ]
    },
    {
      "cell_type": "code",
      "metadata": {
        "colab": {
          "base_uri": "https://localhost:8080/"
        },
        "id": "Qu0ebEh6tOjF",
        "outputId": "c14d2d02-668c-4195-ba63-4818505fed56"
      },
      "source": [
        "# train inputs을 numpy array로 변환\n",
        "train_inputs = np.array(train_inputs)\n",
        "train_inputs"
      ],
      "execution_count": 13,
      "outputs": [
        {
          "output_type": "execute_result",
          "data": {
            "text/plain": [
              "array([[2, 3, 4, 5],\n",
              "       [2, 3, 6, 0]])"
            ]
          },
          "metadata": {
            "tags": []
          },
          "execution_count": 13
        }
      ]
    },
    {
      "cell_type": "code",
      "metadata": {
        "colab": {
          "base_uri": "https://localhost:8080/"
        },
        "id": "siApDfQPtuYE",
        "outputId": "e02941de-7727-445b-a502-2fa503f278b1"
      },
      "source": [
        "# train label은 labels를 그대로 사용\n",
        "train_labels = labels\n",
        "train_labels"
      ],
      "execution_count": 14,
      "outputs": [
        {
          "output_type": "execute_result",
          "data": {
            "text/plain": [
              "[[1, 1, 1, 2], [1, 1, 0]]"
            ]
          },
          "metadata": {
            "tags": []
          },
          "execution_count": 14
        }
      ]
    },
    {
      "cell_type": "code",
      "metadata": {
        "colab": {
          "base_uri": "https://localhost:8080/"
        },
        "id": "wQfGFI9mt12X",
        "outputId": "589546df-4eb4-4b2c-9eef-24e6f8310338"
      },
      "source": [
        "# 정답 길이를 모두 동일하게 변경 (최대길이 4)\n",
        "for row in train_labels:\n",
        "  row += [1] * (4-len(row)) # padding을 중립(1)으로 넣어줌\n",
        "train_labels"
      ],
      "execution_count": 15,
      "outputs": [
        {
          "output_type": "execute_result",
          "data": {
            "text/plain": [
              "[[1, 1, 1, 2], [1, 1, 0, 1]]"
            ]
          },
          "metadata": {
            "tags": []
          },
          "execution_count": 15
        }
      ]
    },
    {
      "cell_type": "code",
      "metadata": {
        "colab": {
          "base_uri": "https://localhost:8080/"
        },
        "id": "ZdKVOw8yt-e-",
        "outputId": "a08f086c-d953-4e31-d715-1d555c2d712d"
      },
      "source": [
        "# 학습용 정답을 numpy array로 변환\n",
        "train_labels = np.array(train_labels)\n",
        "train_labels"
      ],
      "execution_count": 16,
      "outputs": [
        {
          "output_type": "execute_result",
          "data": {
            "text/plain": [
              "array([[1, 1, 1, 2],\n",
              "       [1, 1, 0, 1]])"
            ]
          },
          "metadata": {
            "tags": []
          },
          "execution_count": 16
        }
      ]
    },
    {
      "cell_type": "markdown",
      "metadata": {
        "id": "milX02G6zneK"
      },
      "source": [
        "## 모델링"
      ]
    },
    {
      "cell_type": "code",
      "metadata": {
        "colab": {
          "base_uri": "https://localhost:8080/"
        },
        "id": "sSbrdj8DuJZf",
        "outputId": "a404bc94-ade0-4679-bfa8-10f675c46cdb"
      },
      "source": [
        "# 입력 단어를 vector로 변환\n",
        "embedding = tf.keras.layers.Embedding(len(word_to_id), 8) # n_vocab, d_model\n",
        "hidden = embedding(train_inputs)\n",
        "train_inputs.shape, hidden"
      ],
      "execution_count": 17,
      "outputs": [
        {
          "output_type": "execute_result",
          "data": {
            "text/plain": [
              "((2, 4), <tf.Tensor: shape=(2, 4, 8), dtype=float32, numpy=\n",
              " array([[[ 0.03295927,  0.0238332 , -0.03036853,  0.03405949,\n",
              "           0.04865254,  0.04874854, -0.02357194,  0.01103355],\n",
              "         [-0.04274449, -0.0184322 , -0.04394152,  0.01070675,\n",
              "           0.00237236, -0.03367039,  0.03718961,  0.00759315],\n",
              "         [-0.03134853,  0.03122164, -0.01091693, -0.00697402,\n",
              "           0.0303806 ,  0.00173264, -0.00952514,  0.04804396],\n",
              "         [ 0.03684061,  0.03160981,  0.04799986,  0.04882406,\n",
              "           0.01868287,  0.03292627, -0.00333792, -0.00985336]],\n",
              " \n",
              "        [[ 0.03295927,  0.0238332 , -0.03036853,  0.03405949,\n",
              "           0.04865254,  0.04874854, -0.02357194,  0.01103355],\n",
              "         [-0.04274449, -0.0184322 , -0.04394152,  0.01070675,\n",
              "           0.00237236, -0.03367039,  0.03718961,  0.00759315],\n",
              "         [ 0.02581311, -0.02983182, -0.02752206,  0.01278606,\n",
              "           0.04507127,  0.0022285 , -0.01990139,  0.02601205],\n",
              "         [-0.00164317, -0.02575587, -0.01750348,  0.04963363,\n",
              "          -0.0464178 ,  0.01199602, -0.00813876, -0.04793539]]],\n",
              "       dtype=float32)>)"
            ]
          },
          "metadata": {
            "tags": []
          },
          "execution_count": 17
        }
      ]
    },
    {
      "cell_type": "code",
      "metadata": {
        "colab": {
          "base_uri": "https://localhost:8080/"
        },
        "id": "W4i2x-dRXaFm",
        "outputId": "77d2e2f7-1f6d-48cd-fc1a-202a9443cb35"
      },
      "source": [
        "# 단어의 vector를 이용해서 긍정(2), 부정(0), 중립(1) 확률값 예측\n",
        "linear = tf.keras.layers.Dense(3, activation=tf.nn.softmax)\n",
        "outputs = linear(hidden)\n",
        "outputs"
      ],
      "execution_count": 18,
      "outputs": [
        {
          "output_type": "execute_result",
          "data": {
            "text/plain": [
              "<tf.Tensor: shape=(2, 4, 3), dtype=float32, numpy=\n",
              "array([[[0.33330816, 0.34599075, 0.32070106],\n",
              "        [0.3375472 , 0.31344795, 0.34900486],\n",
              "        [0.35372278, 0.33434272, 0.31193444],\n",
              "        [0.31688252, 0.36375156, 0.31936592]],\n",
              "\n",
              "       [[0.33330816, 0.34599075, 0.32070106],\n",
              "        [0.3375472 , 0.31344795, 0.34900486],\n",
              "        [0.3394382 , 0.32990488, 0.3306569 ],\n",
              "        [0.3006343 , 0.33178684, 0.36757883]]], dtype=float32)>"
            ]
          },
          "metadata": {
            "tags": []
          },
          "execution_count": 18
        }
      ]
    },
    {
      "cell_type": "markdown",
      "metadata": {
        "id": "HGzuRC6cZ8kz"
      },
      "source": [
        "### Softmax 함수 구현"
      ]
    },
    {
      "cell_type": "code",
      "metadata": {
        "colab": {
          "base_uri": "https://localhost:8080/"
        },
        "id": "I9UlmK3UXjZ7",
        "outputId": "1709a323-4077-4ead-90ef-0e1147837419"
      },
      "source": [
        "# 단어의 vector를 이용해서 긍정(2), 부정(0), 중립(1) 확률값 예측\n",
        "linear_2 = tf.keras.layers.Dense(3)\n",
        "logits = linear_2(hidden)\n",
        "logits\n",
        "\n",
        "# 확률값을 더해도 1이 되지 않음"
      ],
      "execution_count": 19,
      "outputs": [
        {
          "output_type": "execute_result",
          "data": {
            "text/plain": [
              "<tf.Tensor: shape=(2, 4, 3), dtype=float32, numpy=\n",
              "array([[[-0.05812749, -0.04607526,  0.03151188],\n",
              "        [ 0.00641242,  0.00108495, -0.00701688],\n",
              "        [-0.00666871,  0.02526805,  0.03627986],\n",
              "        [-0.0132829 , -0.05018648,  0.06177241]],\n",
              "\n",
              "       [[-0.05812749, -0.04607526,  0.03151188],\n",
              "        [ 0.00641242,  0.00108495, -0.00701688],\n",
              "        [-0.03883871,  0.00919486, -0.01391043],\n",
              "        [ 0.01480837, -0.03052844, -0.0110285 ]]], dtype=float32)>"
            ]
          },
          "metadata": {
            "tags": []
          },
          "execution_count": 19
        }
      ]
    },
    {
      "cell_type": "code",
      "metadata": {
        "colab": {
          "base_uri": "https://localhost:8080/"
        },
        "id": "axwy0yc-YLWa",
        "outputId": "21e4120f-1bc6-443f-c4b0-f80e89336ffb"
      },
      "source": [
        "# softmax 계산을 위한 준비 exp(x') / sum(exp(x))\n",
        "numerator = np.exp(logits)\n",
        "denominator = np.sum(numerator, axis=2, keepdims=True)\n",
        "numerator, denominator # 분모와 분자"
      ],
      "execution_count": 20,
      "outputs": [
        {
          "output_type": "execute_result",
          "data": {
            "text/plain": [
              "(array([[[0.9435296 , 0.95497006, 1.0320137 ],\n",
              "         [1.006433  , 1.0010855 , 0.99300766],\n",
              "         [0.9933535 , 1.0255901 , 1.036946  ],\n",
              "         [0.98680496, 0.95105207, 1.0637202 ]],\n",
              " \n",
              "        [[0.9435296 , 0.95497006, 1.0320137 ],\n",
              "         [1.006433  , 1.0010855 , 0.99300766],\n",
              "         [0.9619059 , 1.0092373 , 0.9861859 ],\n",
              "         [1.0149186 , 0.9699328 , 0.98903215]]], dtype=float32),\n",
              " array([[[2.9305134],\n",
              "         [3.0005262],\n",
              "         [3.0558896],\n",
              "         [3.0015774]],\n",
              " \n",
              "        [[2.9305134],\n",
              "         [3.0005262],\n",
              "         [2.9573293],\n",
              "         [2.9738836]]], dtype=float32))"
            ]
          },
          "metadata": {
            "tags": []
          },
          "execution_count": 20
        }
      ]
    },
    {
      "cell_type": "code",
      "metadata": {
        "colab": {
          "base_uri": "https://localhost:8080/"
        },
        "id": "JbTHluP5Yga1",
        "outputId": "c2854858-dfcd-4778-9786-82884c4d4b24"
      },
      "source": [
        "# 두 결과값 비교\n",
        "probs = numerator / denominator\n",
        "probs"
      ],
      "execution_count": 21,
      "outputs": [
        {
          "output_type": "execute_result",
          "data": {
            "text/plain": [
              "array([[[0.32196733, 0.32587126, 0.35216138],\n",
              "        [0.33541885, 0.33363664, 0.3309445 ],\n",
              "        [0.32506198, 0.33561096, 0.33932707],\n",
              "        [0.3287621 , 0.31685075, 0.35438707]],\n",
              "\n",
              "       [[0.32196733, 0.32587126, 0.35216138],\n",
              "        [0.33541885, 0.33363664, 0.3309445 ],\n",
              "        [0.32526168, 0.34126645, 0.3334718 ],\n",
              "        [0.34127715, 0.3261502 , 0.33257258]]], dtype=float32)"
            ]
          },
          "metadata": {
            "tags": []
          },
          "execution_count": 21
        }
      ]
    },
    {
      "cell_type": "markdown",
      "metadata": {
        "id": "tq-NLoWybjhf"
      },
      "source": [
        "### Softmax 구현 2"
      ]
    },
    {
      "cell_type": "code",
      "metadata": {
        "colab": {
          "base_uri": "https://localhost:8080/"
        },
        "id": "tL5BtPaMbNRW",
        "outputId": "178b8519-61b4-48d9-d8ad-a6dcc9325b13"
      },
      "source": [
        "# dense의 weight, bias\n",
        "weight, bias = linear_2.get_weights()\n",
        "weight, bias"
      ],
      "execution_count": 22,
      "outputs": [
        {
          "output_type": "execute_result",
          "data": {
            "text/plain": [
              "(array([[-0.6136201 , -0.4527505 , -0.34575266],\n",
              "        [-0.33625242, -0.41546196,  0.47392207],\n",
              "        [ 0.51914734,  0.2805286 ,  0.4159884 ],\n",
              "        [-0.05555516, -0.40293834,  0.58505386],\n",
              "        [-0.3913404 , -0.03341752,  0.18522799],\n",
              "        [ 0.1798451 , -0.3546222 ,  0.34344548],\n",
              "        [ 0.10717428, -0.6523677 ,  0.20720255],\n",
              "        [ 0.05145293,  0.41034478,  0.3125704 ]], dtype=float32),\n",
              " array([0., 0., 0.], dtype=float32))"
            ]
          },
          "metadata": {
            "tags": []
          },
          "execution_count": 22
        }
      ]
    },
    {
      "cell_type": "code",
      "metadata": {
        "colab": {
          "base_uri": "https://localhost:8080/"
        },
        "id": "VEkavWAwbqsx",
        "outputId": "83f3569f-4080-463d-99ec-00e3103280c2"
      },
      "source": [
        "# numpy를 이용한 xW + b\n",
        "logits = np.matmul(hidden, weight) + bias\n",
        "logits"
      ],
      "execution_count": 23,
      "outputs": [
        {
          "output_type": "execute_result",
          "data": {
            "text/plain": [
              "array([[[-0.05812748, -0.04607527,  0.03151188],\n",
              "        [ 0.00641242,  0.00108495, -0.00701688],\n",
              "        [-0.00666871,  0.02526805,  0.03627985],\n",
              "        [-0.01328289, -0.05018648,  0.06177242]],\n",
              "\n",
              "       [[-0.05812748, -0.04607527,  0.03151188],\n",
              "        [ 0.00641242,  0.00108495, -0.00701688],\n",
              "        [-0.03883871,  0.00919486, -0.01391043],\n",
              "        [ 0.01480837, -0.03052844, -0.0110285 ]]], dtype=float32)"
            ]
          },
          "metadata": {
            "tags": []
          },
          "execution_count": 23
        }
      ]
    },
    {
      "cell_type": "markdown",
      "metadata": {
        "id": "Xb624FWKm5TE"
      },
      "source": [
        "## 모델링"
      ]
    },
    {
      "cell_type": "code",
      "metadata": {
        "id": "kt9R6fK_mK3g"
      },
      "source": [
        "def build_model(n_vocab, d_model, n_seq, n_out):\n",
        "    \"\"\"\n",
        "    동작만 하는 간단한 모델\n",
        "    :param n_vocab: vocabulary 단어 수\n",
        "    :param d_model: 단어를 의미하는 벡터의 차원 수\n",
        "    :param n_seq: 문장 길이 (단어 수)\n",
        "    :param n_out: 예측할 class 개수\n",
        "    \"\"\"\n",
        "    # bs : batch size\n",
        "    inputs = tf.keras.layers.Input((n_seq,))  # (bs, n_seq)\n",
        "\n",
        "    # 입력 단어를 vector로 변환\n",
        "    embedding = tf.keras.layers.Embedding(n_vocab, d_model)\n",
        "    hidden = embedding(inputs)  # (bs, n_seq, d_model)\n",
        "    # 단어의 vector를 이용해서 정답 확률값 예측\n",
        "    linear = tf.keras.layers.Dense(n_out, activation=tf.nn.softmax)\n",
        "    outputs = linear(hidden)  # (bs, n_seq, n_out)\n",
        "    \n",
        "    # 학습할 모델 선언\n",
        "    model = tf.keras.Model(inputs=inputs, outputs=outputs)\n",
        "    return model"
      ],
      "execution_count": 24,
      "outputs": []
    },
    {
      "cell_type": "code",
      "metadata": {
        "colab": {
          "base_uri": "https://localhost:8080/",
          "height": 312
        },
        "id": "o0UBBHNIm9PO",
        "outputId": "d332b434-4b72-4993-ec33-2d482a193b31"
      },
      "source": [
        "# 모델 생성\n",
        "model = build_model(len(word_to_id), 8, 4, 3)\n",
        "\n",
        "# 모델 내용 그래프 출력\n",
        "tf.keras.utils.plot_model(model, 'model.png', show_shapes=True)"
      ],
      "execution_count": 25,
      "outputs": [
        {
          "output_type": "execute_result",
          "data": {
            "image/png": "[encoded data removed]",
            "text/plain": [
              "<IPython.core.display.Image object>"
            ]
          },
          "metadata": {
            "tags": []
          },
          "execution_count": 25
        }
      ]
    },
    {
      "cell_type": "code",
      "metadata": {
        "colab": {
          "base_uri": "https://localhost:8080/"
        },
        "id": "-5lioALsn_SJ",
        "outputId": "aff6c7bd-def3-4487-e7ac-d79af8b3c6a5"
      },
      "source": [
        "model.summary()"
      ],
      "execution_count": 26,
      "outputs": [
        {
          "output_type": "stream",
          "text": [
            "Model: \"model\"\n",
            "_________________________________________________________________\n",
            "Layer (type)                 Output Shape              Param #   \n",
            "=================================================================\n",
            "input_1 (InputLayer)         [(None, 4)]               0         \n",
            "_________________________________________________________________\n",
            "embedding_1 (Embedding)      (None, 4, 8)              56        \n",
            "_________________________________________________________________\n",
            "dense_2 (Dense)              (None, 4, 3)              27        \n",
            "=================================================================\n",
            "Total params: 83\n",
            "Trainable params: 83\n",
            "Non-trainable params: 0\n",
            "_________________________________________________________________\n"
          ],
          "name": "stdout"
        }
      ]
    },
    {
      "cell_type": "markdown",
      "metadata": {
        "id": "f9hWJJVSpqYj"
      },
      "source": [
        "## 학습"
      ]
    },
    {
      "cell_type": "code",
      "metadata": {
        "id": "ycVPfqSkoF88"
      },
      "source": [
        "# 모델 loss, optimizer, metric 정의\n",
        "model.compile(loss='sparse_categorical_crossentropy', optimizer='adam', metrics=['accuracy'])"
      ],
      "execution_count": 27,
      "outputs": []
    },
    {
      "cell_type": "code",
      "metadata": {
        "colab": {
          "base_uri": "https://localhost:8080/"
        },
        "id": "yHCcvs0Doa4s",
        "outputId": "209400db-d344-45e8-da1f-03242084a46e"
      },
      "source": [
        "# 모델 학습\n",
        "history = model.fit(train_inputs, train_labels, epochs=100, batch_size=16)"
      ],
      "execution_count": 28,
      "outputs": [
        {
          "output_type": "stream",
          "text": [
            "Epoch 1/100\n",
            "1/1 [==============================] - 0s 400ms/step - loss: 1.1022 - accuracy: 0.1250\n",
            "Epoch 2/100\n",
            "1/1 [==============================] - 0s 4ms/step - loss: 1.0986 - accuracy: 0.1250\n",
            "Epoch 3/100\n",
            "1/1 [==============================] - 0s 3ms/step - loss: 1.0950 - accuracy: 0.3750\n",
            "Epoch 4/100\n",
            "1/1 [==============================] - 0s 5ms/step - loss: 1.0915 - accuracy: 0.3750\n",
            "Epoch 5/100\n",
            "1/1 [==============================] - 0s 5ms/step - loss: 1.0879 - accuracy: 0.3750\n",
            "Epoch 6/100\n",
            "1/1 [==============================] - 0s 5ms/step - loss: 1.0844 - accuracy: 0.3750\n",
            "Epoch 7/100\n",
            "1/1 [==============================] - 0s 6ms/step - loss: 1.0809 - accuracy: 0.3750\n",
            "Epoch 8/100\n",
            "1/1 [==============================] - 0s 6ms/step - loss: 1.0773 - accuracy: 0.3750\n",
            "Epoch 9/100\n",
            "1/1 [==============================] - 0s 5ms/step - loss: 1.0738 - accuracy: 0.6250\n",
            "Epoch 10/100\n",
            "1/1 [==============================] - 0s 4ms/step - loss: 1.0703 - accuracy: 0.6250\n",
            "Epoch 11/100\n",
            "1/1 [==============================] - 0s 3ms/step - loss: 1.0668 - accuracy: 0.6250\n",
            "Epoch 12/100\n",
            "1/1 [==============================] - 0s 4ms/step - loss: 1.0633 - accuracy: 0.6250\n",
            "Epoch 13/100\n",
            "1/1 [==============================] - 0s 4ms/step - loss: 1.0598 - accuracy: 0.6250\n",
            "Epoch 14/100\n",
            "1/1 [==============================] - 0s 4ms/step - loss: 1.0563 - accuracy: 0.7500\n",
            "Epoch 15/100\n",
            "1/1 [==============================] - 0s 5ms/step - loss: 1.0529 - accuracy: 0.7500\n",
            "Epoch 16/100\n",
            "1/1 [==============================] - 0s 6ms/step - loss: 1.0494 - accuracy: 0.8750\n",
            "Epoch 17/100\n",
            "1/1 [==============================] - 0s 4ms/step - loss: 1.0459 - accuracy: 0.8750\n",
            "Epoch 18/100\n",
            "1/1 [==============================] - 0s 6ms/step - loss: 1.0424 - accuracy: 0.8750\n",
            "Epoch 19/100\n",
            "1/1 [==============================] - 0s 6ms/step - loss: 1.0389 - accuracy: 0.8750\n",
            "Epoch 20/100\n",
            "1/1 [==============================] - 0s 5ms/step - loss: 1.0355 - accuracy: 0.8750\n",
            "Epoch 21/100\n",
            "1/1 [==============================] - 0s 4ms/step - loss: 1.0320 - accuracy: 0.8750\n",
            "Epoch 22/100\n",
            "1/1 [==============================] - 0s 3ms/step - loss: 1.0285 - accuracy: 0.8750\n",
            "Epoch 23/100\n",
            "1/1 [==============================] - 0s 3ms/step - loss: 1.0250 - accuracy: 0.8750\n",
            "Epoch 24/100\n",
            "1/1 [==============================] - 0s 4ms/step - loss: 1.0215 - accuracy: 0.8750\n",
            "Epoch 25/100\n",
            "1/1 [==============================] - 0s 6ms/step - loss: 1.0181 - accuracy: 0.8750\n",
            "Epoch 26/100\n",
            "1/1 [==============================] - 0s 6ms/step - loss: 1.0146 - accuracy: 0.8750\n",
            "Epoch 27/100\n",
            "1/1 [==============================] - 0s 7ms/step - loss: 1.0111 - accuracy: 0.8750\n",
            "Epoch 28/100\n",
            "1/1 [==============================] - 0s 7ms/step - loss: 1.0076 - accuracy: 0.8750\n",
            "Epoch 29/100\n",
            "1/1 [==============================] - 0s 8ms/step - loss: 1.0041 - accuracy: 0.8750\n",
            "Epoch 30/100\n",
            "1/1 [==============================] - 0s 7ms/step - loss: 1.0005 - accuracy: 0.8750\n",
            "Epoch 31/100\n",
            "1/1 [==============================] - 0s 4ms/step - loss: 0.9970 - accuracy: 0.8750\n",
            "Epoch 32/100\n",
            "1/1 [==============================] - 0s 7ms/step - loss: 0.9935 - accuracy: 0.8750\n",
            "Epoch 33/100\n",
            "1/1 [==============================] - 0s 6ms/step - loss: 0.9900 - accuracy: 0.8750\n",
            "Epoch 34/100\n",
            "1/1 [==============================] - 0s 6ms/step - loss: 0.9864 - accuracy: 0.8750\n",
            "Epoch 35/100\n",
            "1/1 [==============================] - 0s 6ms/step - loss: 0.9829 - accuracy: 0.8750\n",
            "Epoch 36/100\n",
            "1/1 [==============================] - 0s 7ms/step - loss: 0.9793 - accuracy: 0.8750\n",
            "Epoch 37/100\n",
            "1/1 [==============================] - 0s 8ms/step - loss: 0.9757 - accuracy: 0.8750\n",
            "Epoch 38/100\n",
            "1/1 [==============================] - 0s 6ms/step - loss: 0.9721 - accuracy: 0.8750\n",
            "Epoch 39/100\n",
            "1/1 [==============================] - 0s 5ms/step - loss: 0.9685 - accuracy: 0.8750\n",
            "Epoch 40/100\n",
            "1/1 [==============================] - 0s 8ms/step - loss: 0.9649 - accuracy: 0.8750\n",
            "Epoch 41/100\n",
            "1/1 [==============================] - 0s 6ms/step - loss: 0.9613 - accuracy: 0.8750\n",
            "Epoch 42/100\n",
            "1/1 [==============================] - 0s 7ms/step - loss: 0.9577 - accuracy: 0.8750\n",
            "Epoch 43/100\n",
            "1/1 [==============================] - 0s 9ms/step - loss: 0.9540 - accuracy: 1.0000\n",
            "Epoch 44/100\n",
            "1/1 [==============================] - 0s 5ms/step - loss: 0.9504 - accuracy: 1.0000\n",
            "Epoch 45/100\n",
            "1/1 [==============================] - 0s 6ms/step - loss: 0.9467 - accuracy: 1.0000\n",
            "Epoch 46/100\n",
            "1/1 [==============================] - 0s 6ms/step - loss: 0.9430 - accuracy: 1.0000\n",
            "Epoch 47/100\n",
            "1/1 [==============================] - 0s 6ms/step - loss: 0.9393 - accuracy: 1.0000\n",
            "Epoch 48/100\n",
            "1/1 [==============================] - 0s 17ms/step - loss: 0.9356 - accuracy: 1.0000\n",
            "Epoch 49/100\n",
            "1/1 [==============================] - 0s 9ms/step - loss: 0.9319 - accuracy: 1.0000\n",
            "Epoch 50/100\n",
            "1/1 [==============================] - 0s 6ms/step - loss: 0.9281 - accuracy: 1.0000\n",
            "Epoch 51/100\n",
            "1/1 [==============================] - 0s 4ms/step - loss: 0.9244 - accuracy: 1.0000\n",
            "Epoch 52/100\n",
            "1/1 [==============================] - 0s 8ms/step - loss: 0.9206 - accuracy: 1.0000\n",
            "Epoch 53/100\n",
            "1/1 [==============================] - 0s 8ms/step - loss: 0.9169 - accuracy: 1.0000\n",
            "Epoch 54/100\n",
            "1/1 [==============================] - 0s 5ms/step - loss: 0.9131 - accuracy: 1.0000\n",
            "Epoch 55/100\n",
            "1/1 [==============================] - 0s 9ms/step - loss: 0.9093 - accuracy: 1.0000\n",
            "Epoch 56/100\n",
            "1/1 [==============================] - 0s 7ms/step - loss: 0.9054 - accuracy: 1.0000\n",
            "Epoch 57/100\n",
            "1/1 [==============================] - 0s 7ms/step - loss: 0.9016 - accuracy: 1.0000\n",
            "Epoch 58/100\n",
            "1/1 [==============================] - 0s 7ms/step - loss: 0.8978 - accuracy: 1.0000\n",
            "Epoch 59/100\n",
            "1/1 [==============================] - 0s 9ms/step - loss: 0.8939 - accuracy: 1.0000\n",
            "Epoch 60/100\n",
            "1/1 [==============================] - 0s 4ms/step - loss: 0.8901 - accuracy: 1.0000\n",
            "Epoch 61/100\n",
            "1/1 [==============================] - 0s 8ms/step - loss: 0.8862 - accuracy: 1.0000\n",
            "Epoch 62/100\n",
            "1/1 [==============================] - 0s 9ms/step - loss: 0.8823 - accuracy: 1.0000\n",
            "Epoch 63/100\n",
            "1/1 [==============================] - 0s 8ms/step - loss: 0.8784 - accuracy: 1.0000\n",
            "Epoch 64/100\n",
            "1/1 [==============================] - 0s 8ms/step - loss: 0.8745 - accuracy: 1.0000\n",
            "Epoch 65/100\n",
            "1/1 [==============================] - 0s 7ms/step - loss: 0.8706 - accuracy: 1.0000\n",
            "Epoch 66/100\n",
            "1/1 [==============================] - 0s 8ms/step - loss: 0.8666 - accuracy: 1.0000\n",
            "Epoch 67/100\n",
            "1/1 [==============================] - 0s 7ms/step - loss: 0.8627 - accuracy: 1.0000\n",
            "Epoch 68/100\n",
            "1/1 [==============================] - 0s 7ms/step - loss: 0.8588 - accuracy: 1.0000\n",
            "Epoch 69/100\n",
            "1/1 [==============================] - 0s 5ms/step - loss: 0.8548 - accuracy: 1.0000\n",
            "Epoch 70/100\n",
            "1/1 [==============================] - 0s 6ms/step - loss: 0.8508 - accuracy: 1.0000\n",
            "Epoch 71/100\n",
            "1/1 [==============================] - 0s 8ms/step - loss: 0.8468 - accuracy: 1.0000\n",
            "Epoch 72/100\n",
            "1/1 [==============================] - 0s 10ms/step - loss: 0.8428 - accuracy: 1.0000\n",
            "Epoch 73/100\n",
            "1/1 [==============================] - 0s 6ms/step - loss: 0.8388 - accuracy: 1.0000\n",
            "Epoch 74/100\n",
            "1/1 [==============================] - 0s 6ms/step - loss: 0.8348 - accuracy: 1.0000\n",
            "Epoch 75/100\n",
            "1/1 [==============================] - 0s 9ms/step - loss: 0.8308 - accuracy: 1.0000\n",
            "Epoch 76/100\n",
            "1/1 [==============================] - 0s 8ms/step - loss: 0.8268 - accuracy: 1.0000\n",
            "Epoch 77/100\n",
            "1/1 [==============================] - 0s 14ms/step - loss: 0.8228 - accuracy: 1.0000\n",
            "Epoch 78/100\n",
            "1/1 [==============================] - 0s 6ms/step - loss: 0.8187 - accuracy: 1.0000\n",
            "Epoch 79/100\n",
            "1/1 [==============================] - 0s 6ms/step - loss: 0.8147 - accuracy: 1.0000\n",
            "Epoch 80/100\n",
            "1/1 [==============================] - 0s 6ms/step - loss: 0.8106 - accuracy: 1.0000\n",
            "Epoch 81/100\n",
            "1/1 [==============================] - 0s 6ms/step - loss: 0.8066 - accuracy: 1.0000\n",
            "Epoch 82/100\n",
            "1/1 [==============================] - 0s 5ms/step - loss: 0.8025 - accuracy: 1.0000\n",
            "Epoch 83/100\n",
            "1/1 [==============================] - 0s 5ms/step - loss: 0.7985 - accuracy: 1.0000\n",
            "Epoch 84/100\n",
            "1/1 [==============================] - 0s 8ms/step - loss: 0.7944 - accuracy: 1.0000\n",
            "Epoch 85/100\n",
            "1/1 [==============================] - 0s 7ms/step - loss: 0.7903 - accuracy: 1.0000\n",
            "Epoch 86/100\n",
            "1/1 [==============================] - 0s 8ms/step - loss: 0.7862 - accuracy: 1.0000\n",
            "Epoch 87/100\n",
            "1/1 [==============================] - 0s 11ms/step - loss: 0.7821 - accuracy: 1.0000\n",
            "Epoch 88/100\n",
            "1/1 [==============================] - 0s 8ms/step - loss: 0.7781 - accuracy: 1.0000\n",
            "Epoch 89/100\n",
            "1/1 [==============================] - 0s 7ms/step - loss: 0.7740 - accuracy: 1.0000\n",
            "Epoch 90/100\n",
            "1/1 [==============================] - 0s 10ms/step - loss: 0.7699 - accuracy: 1.0000\n",
            "Epoch 91/100\n",
            "1/1 [==============================] - 0s 7ms/step - loss: 0.7658 - accuracy: 1.0000\n",
            "Epoch 92/100\n",
            "1/1 [==============================] - 0s 7ms/step - loss: 0.7617 - accuracy: 1.0000\n",
            "Epoch 93/100\n",
            "1/1 [==============================] - 0s 6ms/step - loss: 0.7576 - accuracy: 1.0000\n",
            "Epoch 94/100\n",
            "1/1 [==============================] - 0s 8ms/step - loss: 0.7535 - accuracy: 1.0000\n",
            "Epoch 95/100\n",
            "1/1 [==============================] - 0s 7ms/step - loss: 0.7494 - accuracy: 1.0000\n",
            "Epoch 96/100\n",
            "1/1 [==============================] - 0s 8ms/step - loss: 0.7453 - accuracy: 1.0000\n",
            "Epoch 97/100\n",
            "1/1 [==============================] - 0s 3ms/step - loss: 0.7412 - accuracy: 1.0000\n",
            "Epoch 98/100\n",
            "1/1 [==============================] - 0s 8ms/step - loss: 0.7371 - accuracy: 1.0000\n",
            "Epoch 99/100\n",
            "1/1 [==============================] - 0s 8ms/step - loss: 0.7330 - accuracy: 1.0000\n",
            "Epoch 100/100\n",
            "1/1 [==============================] - 0s 8ms/step - loss: 0.7289 - accuracy: 1.0000\n"
          ],
          "name": "stdout"
        }
      ]
    },
    {
      "cell_type": "code",
      "metadata": {
        "colab": {
          "base_uri": "https://localhost:8080/",
          "height": 278
        },
        "id": "qSi7gHCFp_le",
        "outputId": "e8928774-934d-423e-dd66-2cbb22ee5895"
      },
      "source": [
        "plt.figure(figsize=(12, 4))\n",
        "\n",
        "plt.subplot(1, 2, 1)\n",
        "plt.plot(history.history['loss'], 'b-', label='loss')\n",
        "plt.xlabel('Epoch')\n",
        "plt.legend()\n",
        "\n",
        "plt.subplot(1, 2, 2)\n",
        "plt.plot(history.history['accuracy'], 'g-', label='accuracy')\n",
        "plt.xlabel('Epoch')\n",
        "plt.legend()\n",
        "\n",
        "plt.show()"
      ],
      "execution_count": 29,
      "outputs": [
        {
          "output_type": "display_data",
          "data": {
            "image/png": "[encoded data removed]",
            "text/plain": [
              "<Figure size 864x288 with 2 Axes>"
            ]
          },
          "metadata": {
            "tags": [],
            "needs_background": "light"
          }
        }
      ]
    },
    {
      "cell_type": "markdown",
      "metadata": {
        "id": "hjSlRk99zneL"
      },
      "source": [
        "## 평가"
      ]
    },
    {
      "cell_type": "code",
      "metadata": {
        "colab": {
          "base_uri": "https://localhost:8080/"
        },
        "id": "LLas6iP9qc18",
        "outputId": "8458284a-f8fb-4414-cfb7-7b0d84c14d9a"
      },
      "source": [
        "# 모델 평가\n",
        "model.evaluate(train_inputs, train_labels)"
      ],
      "execution_count": 30,
      "outputs": [
        {
          "output_type": "stream",
          "text": [
            "1/1 [==============================] - 0s 131ms/step - loss: 0.7248 - accuracy: 1.0000\n"
          ],
          "name": "stdout"
        },
        {
          "output_type": "execute_result",
          "data": {
            "text/plain": [
              "[0.7248378396034241, 1.0]"
            ]
          },
          "metadata": {
            "tags": []
          },
          "execution_count": 30
        }
      ]
    },
    {
      "cell_type": "markdown",
      "metadata": {
        "id": "XpcISJ_ozneL"
      },
      "source": [
        "## 예측"
      ]
    },
    {
      "cell_type": "code",
      "metadata": {
        "id": "EmssMqd6qf7w"
      },
      "source": [
        "# 추론할 입력\n",
        "string = '나는 기분이 우울해'"
      ],
      "execution_count": 31,
      "outputs": []
    },
    {
      "cell_type": "code",
      "metadata": {
        "colab": {
          "base_uri": "https://localhost:8080/"
        },
        "id": "348lg7iCqyIe",
        "outputId": "100052b1-dedf-47e1-d51c-1505f9225986"
      },
      "source": [
        "# 입력을 숫자로 변경\n",
        "infer_input = [word_to_id[word] for word in string.split()]\n",
        "infer_input"
      ],
      "execution_count": 32,
      "outputs": [
        {
          "output_type": "execute_result",
          "data": {
            "text/plain": [
              "[2, 4, 6]"
            ]
          },
          "metadata": {
            "tags": []
          },
          "execution_count": 32
        }
      ]
    },
    {
      "cell_type": "code",
      "metadata": {
        "colab": {
          "base_uri": "https://localhost:8080/"
        },
        "id": "fck9muXjr6QW",
        "outputId": "b48841dd-2393-45a6-b3d2-c986b021328b"
      },
      "source": [
        "# 문장의 길이를 모두 동일하게 변경 (최대길이 4)\n",
        "infer_input += [0] * (4 - len(infer_input))\n",
        "infer_input"
      ],
      "execution_count": 33,
      "outputs": [
        {
          "output_type": "execute_result",
          "data": {
            "text/plain": [
              "[2, 4, 6, 0]"
            ]
          },
          "metadata": {
            "tags": []
          },
          "execution_count": 33
        }
      ]
    },
    {
      "cell_type": "code",
      "metadata": {
        "colab": {
          "base_uri": "https://localhost:8080/"
        },
        "id": "y71hvgDqrIao",
        "outputId": "61364300-d37c-47b6-cbff-db8fc8a70506"
      },
      "source": [
        "# numpy array 변환 (batch size 1 추가)\n",
        "infer_inputs = np.array([infer_input])\n",
        "infer_inputs"
      ],
      "execution_count": 34,
      "outputs": [
        {
          "output_type": "execute_result",
          "data": {
            "text/plain": [
              "array([[2, 4, 6, 0]])"
            ]
          },
          "metadata": {
            "tags": []
          },
          "execution_count": 34
        }
      ]
    },
    {
      "cell_type": "code",
      "metadata": {
        "colab": {
          "base_uri": "https://localhost:8080/"
        },
        "id": "t7D5e-yQrRaf",
        "outputId": "3a1640d1-45f4-4387-9fdf-bff3201bc178"
      },
      "source": [
        "# 긍정/부정 추론\n",
        "y_preds = model.predict(infer_inputs)\n",
        "y_preds"
      ],
      "execution_count": 35,
      "outputs": [
        {
          "output_type": "execute_result",
          "data": {
            "text/plain": [
              "array([[[0.24994186, 0.52586186, 0.22419624],\n",
              "        [0.25570872, 0.5057439 , 0.23854731],\n",
              "        [0.35732964, 0.30531225, 0.33735815],\n",
              "        [0.26257244, 0.49815172, 0.23927583]]], dtype=float32)"
            ]
          },
          "metadata": {
            "tags": []
          },
          "execution_count": 35
        }
      ]
    },
    {
      "cell_type": "code",
      "metadata": {
        "colab": {
          "base_uri": "https://localhost:8080/"
        },
        "id": "8G4iLgNhsDIk",
        "outputId": "f7bb993b-bf3b-4891-f28e-1df9825c6f64"
      },
      "source": [
        "# 확률의 max 값을 추론 값으로 결정\n",
        "y_pred_class = np.argmax(y_preds, axis=2)\n",
        "y_pred_class"
      ],
      "execution_count": 36,
      "outputs": [
        {
          "output_type": "execute_result",
          "data": {
            "text/plain": [
              "array([[1, 1, 0, 1]])"
            ]
          },
          "metadata": {
            "tags": []
          },
          "execution_count": 36
        }
      ]
    }
  ]
}