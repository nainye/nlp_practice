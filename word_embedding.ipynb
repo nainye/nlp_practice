{
  "nbformat": 4,
  "nbformat_minor": 0,
  "metadata": {
    "colab": {
      "name": "03-01-word-embedding-강의.ipynb",
      "provenance": [],
      "collapsed_sections": [
        "g78tzmjN3mzF",
        "6dfJPT-2XMTB",
        "JHkHg6XAXoyK",
        "tTgMu2U6fG5s",
        "o-IvskQKhM4z",
        "HjnXhHytfRgg",
        "J5W6CGdjfa2O",
        "6BUlIvj7gIpd",
        "Eq1cQ_Cclshq",
        "xmV0WfkslAWW",
        "6_OmrpU5nroZ",
        "So8bPpOEoMCm"
      ],
      "include_colab_link": true
    },
    "kernelspec": {
      "name": "python3",
      "display_name": "Python 3"
    },
    "accelerator": "GPU"
  },
  "cells": [
    {
      "cell_type": "markdown",
      "metadata": {
        "id": "view-in-github",
        "colab_type": "text"
      },
      "source": [
        "<a href=\"https://colab.research.google.com/github/nainye/nlp_practice/blob/main/word_embedding.ipynb\" target=\"_parent\"><img src=\"https://colab.research.google.com/assets/colab-badge.svg\" alt=\"Open In Colab\"/></a>"
      ]
    },
    {
      "cell_type": "markdown",
      "metadata": {
        "id": "g78tzmjN3mzF"
      },
      "source": [
        "# 한글폰트 설치\n",
      ]
    },
    {
      "cell_type": "code",
      "metadata": {
        "id": "Co97FHic3p0D",
        "colab": {
          "base_uri": "https://localhost:8080/"
        },
        "outputId": "4aad5072-9c1b-4426-a061-2e12bcc6754f"
      },
      "source": [
        "# 폰트 설치\n",
        "!apt-get update -qq # 나눔고딕 설치\n",
        "!apt-get install fonts-nanum* -qq\n",
        "\n",
        "import matplotlib as mpl\n",
        "import matplotlib.pyplot as plt\n",
        "import matplotlib.font_manager as fm\n",
        "\n",
        "# 폰트 로딩\n",
        "fontpath = '/usr/share/fonts/truetype/nanum/NanumBarunGothic.ttf'\n",
        "font = fm.FontProperties(fname=fontpath, size=9)\n",
        "plt.rc('font', family='NanumBarunGothic') \n",
        "mpl.font_manager._rebuild()"
      ],
      "execution_count": 2,
      "outputs": [
        {
          "output_type": "stream",
          "text": [
            "Selecting previously unselected package fonts-nanum.\n",
            "(Reading database ... 146374 files and directories currently installed.)\n",
            "Preparing to unpack .../fonts-nanum_20170925-1_all.deb ...\n",
            "Unpacking fonts-nanum (20170925-1) ...\n",
            "Selecting previously unselected package fonts-nanum-eco.\n",
            "Preparing to unpack .../fonts-nanum-eco_1.000-6_all.deb ...\n",
            "Unpacking fonts-nanum-eco (1.000-6) ...\n",
            "Selecting previously unselected package fonts-nanum-extra.\n",
            "Preparing to unpack .../fonts-nanum-extra_20170925-1_all.deb ...\n",
            "Unpacking fonts-nanum-extra (20170925-1) ...\n",
            "Selecting previously unselected package fonts-nanum-coding.\n",
            "Preparing to unpack .../fonts-nanum-coding_2.5-1_all.deb ...\n",
            "Unpacking fonts-nanum-coding (2.5-1) ...\n",
            "Setting up fonts-nanum-extra (20170925-1) ...\n",
            "Setting up fonts-nanum (20170925-1) ...\n",
            "Setting up fonts-nanum-coding (2.5-1) ...\n",
            "Setting up fonts-nanum-eco (1.000-6) ...\n",
            "Processing triggers for fontconfig (2.12.6-0ubuntu2) ...\n"
          ],
          "name": "stdout"
        }
      ]
    },
    {
      "cell_type": "markdown",
      "metadata": {
        "id": "6dfJPT-2XMTB"
      },
      "source": [
        "# Install"
      ]
    },
    {
      "cell_type": "code",
      "metadata": {
        "id": "a193aGJWVaqb",
        "colab": {
          "base_uri": "https://localhost:8080/"
        },
        "outputId": "495a6377-7bce-4629-a764-031dfcfd4ddd"
      },
      "source": [
        "!pip install sentencepiece"
      ],
      "execution_count": 3,
      "outputs": [
        {
          "output_type": "stream",
          "text": [
            "Collecting sentencepiece\n",
            "\u001b[?25l  Downloading https://files.pythonhosted.org/packages/14/67/e42bd1181472c95c8cda79305df848264f2a7f62740995a46945d9797b67/sentencepiece-0.1.95-cp36-cp36m-manylinux2014_x86_64.whl (1.2MB)\n",
            "\r\u001b[K     |▎                               | 10kB 23.9MB/s eta 0:00:01\r\u001b[K     |▌                               | 20kB 15.7MB/s eta 0:00:01\r\u001b[K     |▉                               | 30kB 10.1MB/s eta 0:00:01\r\u001b[K     |█                               | 40kB 8.5MB/s eta 0:00:01\r\u001b[K     |█▍                              | 51kB 4.2MB/s eta 0:00:01\r\u001b[K     |█▋                              | 61kB 4.7MB/s eta 0:00:01\r\u001b[K     |██                              | 71kB 5.1MB/s eta 0:00:01\r\u001b[K     |██▏                             | 81kB 5.2MB/s eta 0:00:01\r\u001b[K     |██▌                             | 92kB 5.3MB/s eta 0:00:01\r\u001b[K     |██▊                             | 102kB 5.8MB/s eta 0:00:01\r\u001b[K     |███                             | 112kB 5.8MB/s eta 0:00:01\r\u001b[K     |███▎                            | 122kB 5.8MB/s eta 0:00:01\r\u001b[K     |███▌                            | 133kB 5.8MB/s eta 0:00:01\r\u001b[K     |███▉                            | 143kB 5.8MB/s eta 0:00:01\r\u001b[K     |████                            | 153kB 5.8MB/s eta 0:00:01\r\u001b[K     |████▍                           | 163kB 5.8MB/s eta 0:00:01\r\u001b[K     |████▋                           | 174kB 5.8MB/s eta 0:00:01\r\u001b[K     |█████                           | 184kB 5.8MB/s eta 0:00:01\r\u001b[K     |█████▏                          | 194kB 5.8MB/s eta 0:00:01\r\u001b[K     |█████▌                          | 204kB 5.8MB/s eta 0:00:01\r\u001b[K     |█████▊                          | 215kB 5.8MB/s eta 0:00:01\r\u001b[K     |██████                          | 225kB 5.8MB/s eta 0:00:01\r\u001b[K     |██████▎                         | 235kB 5.8MB/s eta 0:00:01\r\u001b[K     |██████▌                         | 245kB 5.8MB/s eta 0:00:01\r\u001b[K     |██████▉                         | 256kB 5.8MB/s eta 0:00:01\r\u001b[K     |███████                         | 266kB 5.8MB/s eta 0:00:01\r\u001b[K     |███████▍                        | 276kB 5.8MB/s eta 0:00:01\r\u001b[K     |███████▋                        | 286kB 5.8MB/s eta 0:00:01\r\u001b[K     |████████                        | 296kB 5.8MB/s eta 0:00:01\r\u001b[K     |████████▏                       | 307kB 5.8MB/s eta 0:00:01\r\u001b[K     |████████▍                       | 317kB 5.8MB/s eta 0:00:01\r\u001b[K     |████████▊                       | 327kB 5.8MB/s eta 0:00:01\r\u001b[K     |█████████                       | 337kB 5.8MB/s eta 0:00:01\r\u001b[K     |█████████▎                      | 348kB 5.8MB/s eta 0:00:01\r\u001b[K     |█████████▌                      | 358kB 5.8MB/s eta 0:00:01\r\u001b[K     |█████████▉                      | 368kB 5.8MB/s eta 0:00:01\r\u001b[K     |██████████                      | 378kB 5.8MB/s eta 0:00:01\r\u001b[K     |██████████▍                     | 389kB 5.8MB/s eta 0:00:01\r\u001b[K     |██████████▋                     | 399kB 5.8MB/s eta 0:00:01\r\u001b[K     |███████████                     | 409kB 5.8MB/s eta 0:00:01\r\u001b[K     |███████████▏                    | 419kB 5.8MB/s eta 0:00:01\r\u001b[K     |███████████▍                    | 430kB 5.8MB/s eta 0:00:01\r\u001b[K     |███████████▊                    | 440kB 5.8MB/s eta 0:00:01\r\u001b[K     |████████████                    | 450kB 5.8MB/s eta 0:00:01\r\u001b[K     |████████████▎                   | 460kB 5.8MB/s eta 0:00:01\r\u001b[K     |████████████▌                   | 471kB 5.8MB/s eta 0:00:01\r\u001b[K     |████████████▉                   | 481kB 5.8MB/s eta 0:00:01\r\u001b[K     |█████████████                   | 491kB 5.8MB/s eta 0:00:01\r\u001b[K     |█████████████▍                  | 501kB 5.8MB/s eta 0:00:01\r\u001b[K     |█████████████▋                  | 512kB 5.8MB/s eta 0:00:01\r\u001b[K     |█████████████▉                  | 522kB 5.8MB/s eta 0:00:01\r\u001b[K     |██████████████▏                 | 532kB 5.8MB/s eta 0:00:01\r\u001b[K     |██████████████▍                 | 542kB 5.8MB/s eta 0:00:01\r\u001b[K     |██████████████▊                 | 552kB 5.8MB/s eta 0:00:01\r\u001b[K     |███████████████                 | 563kB 5.8MB/s eta 0:00:01\r\u001b[K     |███████████████▎                | 573kB 5.8MB/s eta 0:00:01\r\u001b[K     |███████████████▌                | 583kB 5.8MB/s eta 0:00:01\r\u001b[K     |███████████████▉                | 593kB 5.8MB/s eta 0:00:01\r\u001b[K     |████████████████                | 604kB 5.8MB/s eta 0:00:01\r\u001b[K     |████████████████▍               | 614kB 5.8MB/s eta 0:00:01\r\u001b[K     |████████████████▋               | 624kB 5.8MB/s eta 0:00:01\r\u001b[K     |████████████████▉               | 634kB 5.8MB/s eta 0:00:01\r\u001b[K     |█████████████████▏              | 645kB 5.8MB/s eta 0:00:01\r\u001b[K     |█████████████████▍              | 655kB 5.8MB/s eta 0:00:01\r\u001b[K     |█████████████████▊              | 665kB 5.8MB/s eta 0:00:01\r\u001b[K     |██████████████████              | 675kB 5.8MB/s eta 0:00:01\r\u001b[K     |██████████████████▎             | 686kB 5.8MB/s eta 0:00:01\r\u001b[K     |██████████████████▌             | 696kB 5.8MB/s eta 0:00:01\r\u001b[K     |██████████████████▉             | 706kB 5.8MB/s eta 0:00:01\r\u001b[K     |███████████████████             | 716kB 5.8MB/s eta 0:00:01\r\u001b[K     |███████████████████▎            | 727kB 5.8MB/s eta 0:00:01\r\u001b[K     |███████████████████▋            | 737kB 5.8MB/s eta 0:00:01\r\u001b[K     |███████████████████▉            | 747kB 5.8MB/s eta 0:00:01\r\u001b[K     |████████████████████▏           | 757kB 5.8MB/s eta 0:00:01\r\u001b[K     |████████████████████▍           | 768kB 5.8MB/s eta 0:00:01\r\u001b[K     |████████████████████▊           | 778kB 5.8MB/s eta 0:00:01\r\u001b[K     |█████████████████████           | 788kB 5.8MB/s eta 0:00:01\r\u001b[K     |█████████████████████▎          | 798kB 5.8MB/s eta 0:00:01\r\u001b[K     |█████████████████████▌          | 808kB 5.8MB/s eta 0:00:01\r\u001b[K     |█████████████████████▉          | 819kB 5.8MB/s eta 0:00:01\r\u001b[K     |██████████████████████          | 829kB 5.8MB/s eta 0:00:01\r\u001b[K     |██████████████████████▎         | 839kB 5.8MB/s eta 0:00:01\r\u001b[K     |██████████████████████▋         | 849kB 5.8MB/s eta 0:00:01\r\u001b[K     |██████████████████████▉         | 860kB 5.8MB/s eta 0:00:01\r\u001b[K     |███████████████████████▏        | 870kB 5.8MB/s eta 0:00:01\r\u001b[K     |███████████████████████▍        | 880kB 5.8MB/s eta 0:00:01\r\u001b[K     |███████████████████████▊        | 890kB 5.8MB/s eta 0:00:01\r\u001b[K     |████████████████████████        | 901kB 5.8MB/s eta 0:00:01\r\u001b[K     |████████████████████████▎       | 911kB 5.8MB/s eta 0:00:01\r\u001b[K     |████████████████████████▌       | 921kB 5.8MB/s eta 0:00:01\r\u001b[K     |████████████████████████▊       | 931kB 5.8MB/s eta 0:00:01\r\u001b[K     |█████████████████████████       | 942kB 5.8MB/s eta 0:00:01\r\u001b[K     |█████████████████████████▎      | 952kB 5.8MB/s eta 0:00:01\r\u001b[K     |█████████████████████████▋      | 962kB 5.8MB/s eta 0:00:01\r\u001b[K     |█████████████████████████▉      | 972kB 5.8MB/s eta 0:00:01\r\u001b[K     |██████████████████████████▏     | 983kB 5.8MB/s eta 0:00:01\r\u001b[K     |██████████████████████████▍     | 993kB 5.8MB/s eta 0:00:01\r\u001b[K     |██████████████████████████▊     | 1.0MB 5.8MB/s eta 0:00:01\r\u001b[K     |███████████████████████████     | 1.0MB 5.8MB/s eta 0:00:01\r\u001b[K     |███████████████████████████▎    | 1.0MB 5.8MB/s eta 0:00:01\r\u001b[K     |███████████████████████████▌    | 1.0MB 5.8MB/s eta 0:00:01\r\u001b[K     |███████████████████████████▊    | 1.0MB 5.8MB/s eta 0:00:01\r\u001b[K     |████████████████████████████    | 1.1MB 5.8MB/s eta 0:00:01\r\u001b[K     |████████████████████████████▎   | 1.1MB 5.8MB/s eta 0:00:01\r\u001b[K     |████████████████████████████▋   | 1.1MB 5.8MB/s eta 0:00:01\r\u001b[K     |████████████████████████████▉   | 1.1MB 5.8MB/s eta 0:00:01\r\u001b[K     |█████████████████████████████▏  | 1.1MB 5.8MB/s eta 0:00:01\r\u001b[K     |█████████████████████████████▍  | 1.1MB 5.8MB/s eta 0:00:01\r\u001b[K     |█████████████████████████████▊  | 1.1MB 5.8MB/s eta 0:00:01\r\u001b[K     |██████████████████████████████  | 1.1MB 5.8MB/s eta 0:00:01\r\u001b[K     |██████████████████████████████▏ | 1.1MB 5.8MB/s eta 0:00:01\r\u001b[K     |██████████████████████████████▌ | 1.1MB 5.8MB/s eta 0:00:01\r\u001b[K     |██████████████████████████████▊ | 1.2MB 5.8MB/s eta 0:00:01\r\u001b[K     |███████████████████████████████ | 1.2MB 5.8MB/s eta 0:00:01\r\u001b[K     |███████████████████████████████▎| 1.2MB 5.8MB/s eta 0:00:01\r\u001b[K     |███████████████████████████████▋| 1.2MB 5.8MB/s eta 0:00:01\r\u001b[K     |███████████████████████████████▉| 1.2MB 5.8MB/s eta 0:00:01\r\u001b[K     |████████████████████████████████| 1.2MB 5.8MB/s \n",
            "\u001b[?25hInstalling collected packages: sentencepiece\n",
            "Successfully installed sentencepiece-0.1.95\n"
          ],
          "name": "stdout"
        }
      ]
    },
    {
      "cell_type": "markdown",
      "metadata": {
        "id": "JHkHg6XAXoyK"
      },
      "source": [
        "# Evn"
      ]
    },
    {
      "cell_type": "code",
      "metadata": {
        "id": "WkYXFwcBXJDG"
      },
      "source": [
        "import os\n",
        "import random\n",
        "import shutil\n",
        "import json\n",
        "import zipfile\n",
        "import math\n",
        "import copy\n",
        "import collections\n",
        "import re\n",
        "\n",
        "import matplotlib.pyplot as plt\n",
        "import pandas as pd\n",
        "import numpy as np\n",
        "import sentencepiece as spm\n",
        "import tensorflow as tf\n",
        "import tensorflow.keras.backend as K\n",
        "\n",
        "from tqdm.notebook import tqdm"
      ],
      "execution_count": 4,
      "outputs": []
    },
    {
      "cell_type": "code",
      "metadata": {
        "id": "wlSTGfo8mV4A"
      },
      "source": [
        "from sklearn.decomposition import PCA"
      ],
      "execution_count": 5,
      "outputs": []
    },
    {
      "cell_type": "code",
      "metadata": {
        "id": "nvjyruUlXtlR"
      },
      "source": [
        "# random seed initialize\n",
        "random_seed = 1234\n",
        "random.seed(random_seed)\n",
        "np.random.seed(random_seed)\n",
        "tf.random.set_seed(random_seed)"
      ],
      "execution_count": 6,
      "outputs": []
    },
    {
      "cell_type": "code",
      "metadata": {
        "id": "BC3fXkhdYcYt",
        "colab": {
          "base_uri": "https://localhost:8080/"
        },
        "outputId": "77152d3c-65ff-464d-a028-e11805c6e1ea"
      },
      "source": [
        "!nvidia-smi"
      ],
      "execution_count": 7,
      "outputs": [
        {
          "output_type": "stream",
          "text": [
            "Sat Jan 30 13:57:00 2021       \n",
            "+-----------------------------------------------------------------------------+\n",
            "| NVIDIA-SMI 460.32.03    Driver Version: 418.67       CUDA Version: 10.1     |\n",
            "|-------------------------------+----------------------+----------------------+\n",
            "| GPU  Name        Persistence-M| Bus-Id        Disp.A | Volatile Uncorr. ECC |\n",
            "| Fan  Temp  Perf  Pwr:Usage/Cap|         Memory-Usage | GPU-Util  Compute M. |\n",
            "|                               |                      |               MIG M. |\n",
            "|===============================+======================+======================|\n",
            "|   0  Tesla P100-PCIE...  Off  | 00000000:00:04.0 Off |                    0 |\n",
            "| N/A   33C    P0    24W / 250W |      0MiB / 16280MiB |      0%      Default |\n",
            "|                               |                      |                 ERR! |\n",
            "+-------------------------------+----------------------+----------------------+\n",
            "                                                                               \n",
            "+-----------------------------------------------------------------------------+\n",
            "| Processes:                                                                  |\n",
            "|  GPU   GI   CI        PID   Type   Process name                  GPU Memory |\n",
            "|        ID   ID                                                   Usage      |\n",
            "|=============================================================================|\n",
            "|  No running processes found                                                 |\n",
            "+-----------------------------------------------------------------------------+\n"
          ],
          "name": "stdout"
        }
      ]
    },
    {
      "cell_type": "markdown",
      "metadata": {
        "id": "tTgMu2U6fG5s"
      },
      "source": [
        "# Word2Vec (Skip-gram)\n"
      ]
    },
    {
      "cell_type": "markdown",
      "metadata": {
        "id": "o-IvskQKhM4z"
      },
      "source": [
        "## 모델링"
      ]
    },
    {
      "cell_type": "code",
      "metadata": {
        "id": "i4LBNlTUuXhY",
        "colab": {
          "base_uri": "https://localhost:8080/"
        },
        "outputId": "4f2e5e1f-395b-4a3c-ff21-0df1331bd8fd"
      },
      "source": [
        "# 입력 문장\n",
        "sentences = \"\"\"나는 오늘 기분이 좋아\n",
        "나는 오늘 우울해\"\"\"\n",
        "\n",
        "# 문장을 띄어쓰기 단위로 분할\n",
        "words = sentences.split()\n",
        "\n",
        "# 중복 단어 제거\n",
        "words = list(dict.fromkeys(words))\n",
        "\n",
        "# 각 단어별 고유한 번호 부여\n",
        "word_to_id = {'[PAD]': 0, '[UNK]': 1}\n",
        "for word in words:\n",
        "    word_to_id[word] = len(word_to_id)\n",
        "word_to_id"
      ],
      "execution_count": 8,
      "outputs": [
        {
          "output_type": "execute_result",
          "data": {
            "text/plain": [
              "{'[PAD]': 0, '[UNK]': 1, '기분이': 4, '나는': 2, '오늘': 3, '우울해': 6, '좋아': 5}"
            ]
          },
          "metadata": {
            "tags": []
          },
          "execution_count": 8
        }
      ]
    },
    {
      "cell_type": "code",
      "metadata": {
        "id": "lAG2F9qDu9bJ",
        "colab": {
          "base_uri": "https://localhost:8080/"
        },
        "outputId": "2ec9e084-f8ba-4347-eee1-da23d2268dd1"
      },
      "source": [
        "# 입력(c), 출력(o) 정의\n",
        "inputs = np.array([word_to_id['나는']])\n",
        "labels = np.array([word_to_id['기분이']])\n",
        "inputs, labels"
      ],
      "execution_count": 9,
      "outputs": [
        {
          "output_type": "execute_result",
          "data": {
            "text/plain": [
              "(array([2]), array([4]))"
            ]
          },
          "metadata": {
            "tags": []
          },
          "execution_count": 9
        }
      ]
    },
    {
      "cell_type": "code",
      "metadata": {
        "id": "nVn56p8-hKWF",
        "colab": {
          "base_uri": "https://localhost:8080/"
        },
        "outputId": "767f01a6-f775-40c7-86a3-58c38a5f40bb"
      },
      "source": [
        "# center word embedding\n",
        "V = tf.keras.layers.Embedding(len(word_to_id), 4) # 4로 설정\n",
        "v = V(inputs)\n",
        "v"
      ],
      "execution_count": 10,
      "outputs": [
        {
          "output_type": "execute_result",
          "data": {
            "text/plain": [
              "<tf.Tensor: shape=(1, 4), dtype=float32, numpy=\n",
              "array([[ 0.02788493,  0.00853021,  0.02688133, -0.00167429]],\n",
              "      dtype=float32)>"
            ]
          },
          "metadata": {
            "tags": []
          },
          "execution_count": 10
        }
      ]
    },
    {
      "cell_type": "code",
      "metadata": {
        "id": "kxFz49L0kSTZ",
        "colab": {
          "base_uri": "https://localhost:8080/"
        },
        "outputId": "e87ef6c0-6cf4-4283-beef-03494ae6efba"
      },
      "source": [
        "# weight of center matrix\n",
        "V.get_weights()[0].shape, V.get_weights()"
      ],
      "execution_count": 11,
      "outputs": [
        {
          "output_type": "execute_result",
          "data": {
            "text/plain": [
              "((7, 4), [array([[ 0.00380393, -0.01353813,  0.00816301, -0.02561716],\n",
              "         [-0.00696643,  0.04061912,  0.00072207, -0.01411822],\n",
              "         [ 0.02788493,  0.00853021,  0.02688133, -0.00167429],\n",
              "         [ 0.00873896, -0.04772998, -0.00643448,  0.04782395],\n",
              "         [ 0.04810704, -0.03535189,  0.04945729,  0.02813626],\n",
              "         [-0.02798697, -0.00110071,  0.0133124 ,  0.00637371],\n",
              "         [-0.00963336, -0.01013004,  0.01826939,  0.02741292]],\n",
              "        dtype=float32)])"
            ]
          },
          "metadata": {
            "tags": []
          },
          "execution_count": 11
        }
      ]
    },
    {
      "cell_type": "code",
      "metadata": {
        "id": "39KxWUgAhfdC"
      },
      "source": [
        "# outer word embedding transpose\n",
        "U = tf.keras.layers.Dense(len(word_to_id), use_bias=False)"
      ],
      "execution_count": 12,
      "outputs": []
    },
    {
      "cell_type": "code",
      "metadata": {
        "id": "0khv1sySqX0o",
        "colab": {
          "base_uri": "https://localhost:8080/"
        },
        "outputId": "890c050c-f38f-40d5-ed40-be900669e135"
      },
      "source": [
        "vu = U(v)\n",
        "vu"
      ],
      "execution_count": 13,
      "outputs": [
        {
          "output_type": "execute_result",
          "data": {
            "text/plain": [
              "<tf.Tensor: shape=(1, 7), dtype=float32, numpy=\n",
              "array([[ 3.5610533e-04,  2.1611415e-05,  1.2270883e-02,  3.7757820e-03,\n",
              "         3.2251843e-03, -2.6024913e-02,  3.1729113e-02]], dtype=float32)>"
            ]
          },
          "metadata": {
            "tags": []
          },
          "execution_count": 13
        }
      ]
    },
    {
      "cell_type": "code",
      "metadata": {
        "id": "fSJ2GUSQv2H-",
        "colab": {
          "base_uri": "https://localhost:8080/"
        },
        "outputId": "37c8af64-6cd0-4cc8-b402-87a7ed5d82d9"
      },
      "source": [
        "# weight of outer matrix transpose\n",
        "U.get_weights()[0].shape, U.get_weights()[0]"
      ],
      "execution_count": 14,
      "outputs": [
        {
          "output_type": "execute_result",
          "data": {
            "text/plain": [
              "((4, 7),\n",
              " array([[-0.2579534 , -0.5336746 ,  0.21868336, -0.28948402, -0.24111664,\n",
              "         -0.54625964,  0.3039828 ],\n",
              "        [ 0.32288855, -0.16226333,  0.453376  , -0.03352547,  0.01449347,\n",
              "         -0.43671843,  0.44746655],\n",
              "        [ 0.20950413,  0.6314514 ,  0.12539876,  0.4274159 ,  0.32529944,\n",
              "         -0.26464936,  0.69570595],\n",
              "        [ 0.49987453,  0.41033334,  0.6363074 , -0.3849371 , -0.6454024 ,\n",
              "         -0.02802688, -0.43844774]], dtype=float32))"
            ]
          },
          "metadata": {
            "tags": []
          },
          "execution_count": 14
        }
      ]
    },
    {
      "cell_type": "code",
      "metadata": {
        "id": "zcNaAljerEyt",
        "colab": {
          "base_uri": "https://localhost:8080/"
        },
        "outputId": "b1c5bde7-16ba-4068-dba8-fc5d028ade5d"
      },
      "source": [
        "WU = U.get_weights()[0]\n",
        "np.dot(v, WU[:,1])"
      ],
      "execution_count": 15,
      "outputs": [
        {
          "output_type": "execute_result",
          "data": {
            "text/plain": [
              "array([2.1612272e-05], dtype=float32)"
            ]
          },
          "metadata": {
            "tags": []
          },
          "execution_count": 15
        }
      ]
    },
    {
      "cell_type": "code",
      "metadata": {
        "id": "9rWg8XzaiBb9",
        "colab": {
          "base_uri": "https://localhost:8080/"
        },
        "outputId": "a3ccc3d5-8209-4637-9831-05611aa86c8e"
      },
      "source": [
        "# exp(uv) / sum(exp(uv))\n",
        "vu_prob = tf.nn.softmax(vu)\n",
        "vu_prob"
      ],
      "execution_count": 16,
      "outputs": [
        {
          "output_type": "execute_result",
          "data": {
            "text/plain": [
              "<tf.Tensor: shape=(1, 7), dtype=float32, numpy=\n",
              "array([[0.14237338, 0.14232577, 0.14407988, 0.1428611 , 0.14278245,\n",
              "        0.13866654, 0.14691088]], dtype=float32)>"
            ]
          },
          "metadata": {
            "tags": []
          },
          "execution_count": 16
        }
      ]
    },
    {
      "cell_type": "code",
      "metadata": {
        "id": "wx-qa4aqjgOG",
        "colab": {
          "base_uri": "https://localhost:8080/"
        },
        "outputId": "d1ba815a-4fc8-4c0f-fecb-923da764443e"
      },
      "source": [
        "# outer word embedding transpose & softmax\n",
        "U = tf.keras.layers.Dense(len(word_to_id), use_bias=False, activation=tf.nn.softmax)\n",
        "vu_prob = U(v)\n",
        "vu_prob"
      ],
      "execution_count": 17,
      "outputs": [
        {
          "output_type": "execute_result",
          "data": {
            "text/plain": [
              "<tf.Tensor: shape=(1, 7), dtype=float32, numpy=\n",
              "array([[0.14448835, 0.14035739, 0.14572215, 0.14384103, 0.14423797,\n",
              "        0.13938786, 0.14196528]], dtype=float32)>"
            ]
          },
          "metadata": {
            "tags": []
          },
          "execution_count": 17
        }
      ]
    },
    {
      "cell_type": "code",
      "metadata": {
        "id": "3eHFOAQ7kXQB",
        "colab": {
          "base_uri": "https://localhost:8080/"
        },
        "outputId": "d7709fb5-3f66-4165-b689-4422669dc6b5"
      },
      "source": [
        "# weight of outer matrix transpose\n",
        "U.get_weights()[0].shape, U.get_weights()[0]"
      ],
      "execution_count": 18,
      "outputs": [
        {
          "output_type": "execute_result",
          "data": {
            "text/plain": [
              "((4, 7),\n",
              " array([[ 0.14403158, -0.29078478,  0.73512465,  0.45532328, -0.1224649 ,\n",
              "         -0.703691  ,  0.16324377],\n",
              "        [-0.7000179 ,  0.7047326 , -0.286127  ,  0.34271616,  0.15090996,\n",
              "         -0.13226604, -0.44013816],\n",
              "        [ 0.3430454 , -0.6646802 , -0.06911588, -0.45315602,  0.33291012,\n",
              "         -0.280751  , -0.40085226],\n",
              "        [-0.4404183 ,  0.62021023, -0.1831069 , -0.04489857,  0.32958573,\n",
              "         -0.21682096, -0.21829158]], dtype=float32))"
            ]
          },
          "metadata": {
            "tags": []
          },
          "execution_count": 18
        }
      ]
    },
    {
      "cell_type": "code",
      "metadata": {
        "id": "KGdheOqhiRYU",
        "colab": {
          "base_uri": "https://localhost:8080/"
        },
        "outputId": "512706ca-eba0-4106-bc0c-0b6a52e758a9"
      },
      "source": [
        "# label one hot\n",
        "vu_label = tf.one_hot(labels, len(word_to_id))\n",
        "vu_label"
      ],
      "execution_count": 19,
      "outputs": [
        {
          "output_type": "execute_result",
          "data": {
            "text/plain": [
              "<tf.Tensor: shape=(1, 7), dtype=float32, numpy=array([[0., 0., 0., 0., 1., 0., 0.]], dtype=float32)>"
            ]
          },
          "metadata": {
            "tags": []
          },
          "execution_count": 19
        }
      ]
    },
    {
      "cell_type": "code",
      "metadata": {
        "id": "7J0brQsOitM4",
        "colab": {
          "base_uri": "https://localhost:8080/"
        },
        "outputId": "da4ac1e3-3a7a-4de5-a99c-762f446416b8"
      },
      "source": [
        "# cross entroyp loss\n",
        "loss = - vu_label * tf.math.log(vu_prob)\n",
        "loss"
      ],
      "execution_count": 20,
      "outputs": [
        {
          "output_type": "execute_result",
          "data": {
            "text/plain": [
              "<tf.Tensor: shape=(1, 7), dtype=float32, numpy=\n",
              "array([[0.       , 0.       , 0.       , 0.       , 1.9362909, 0.       ,\n",
              "        0.       ]], dtype=float32)>"
            ]
          },
          "metadata": {
            "tags": []
          },
          "execution_count": 20
        }
      ]
    },
    {
      "cell_type": "code",
      "metadata": {
        "id": "lKKrcaQ9lC_J",
        "colab": {
          "base_uri": "https://localhost:8080/"
        },
        "outputId": "37486bbd-0d34-4a76-ab1d-be87653f5480"
      },
      "source": [
        "# sparse_categorical_crossentropy\n",
        "tf.keras.losses.sparse_categorical_crossentropy(labels, vu_prob)"
      ],
      "execution_count": 21,
      "outputs": [
        {
          "output_type": "execute_result",
          "data": {
            "text/plain": [
              "<tf.Tensor: shape=(1,), dtype=float32, numpy=array([1.9362909], dtype=float32)>"
            ]
          },
          "metadata": {
            "tags": []
          },
          "execution_count": 21
        }
      ]
    },
    {
      "cell_type": "code",
      "metadata": {
        "id": "ijIrAusEjGCC"
      },
      "source": [
        "def build_model(n_vocab, d_model):\n",
        "    \"\"\"\n",
        "    skim gram 학습 모델\n",
        "    :param n_vocab: vocabulary 단어 수\n",
        "    :param d_model: 단어를 의미하는 벡터의 차원 수\n",
        "    \"\"\"\n",
        "    tokens = tf.keras.layers.Input(shape=(1,))\n",
        "\n",
        "    ###########################################\n",
        "    # center word vector\n",
        "    V = tf.keras.layers.Embedding(n_vocab, d_model)  # (n_vocab, d_model)\n",
        "    v = V(tokens)  # (bs, 1, d_model)\n",
        "\n",
        "    # 단어 예측 (activation=tf.nn.softmax)\n",
        "    U = tf.keras.layers.Dense(n_vocab, use_bias=False, activation=tf.nn.softmax)  # (d_model, n_vocab)\n",
        "    vu_prob = U(v)  # (bs, 1, n_vocab)\n",
        "    ###########################################\n",
        "\n",
        "    model = tf.keras.Model(inputs=tokens, outputs=vu_prob)\n",
        "    return model, V # V는 보통 리턴하지 않지만, embedding 출력을 위한 것"
      ],
      "execution_count": 22,
      "outputs": []
    },
    {
      "cell_type": "code",
      "metadata": {
        "id": "s2aV1is0ko2X",
        "colab": {
          "base_uri": "https://localhost:8080/",
          "height": 312
        },
        "outputId": "e9a1fb47-982c-4aa1-d974-bd4e6884ce13"
      },
      "source": [
        "# 모델 생성\n",
        "model, V = build_model(len(word_to_id), 32)\n",
        "# 모델 내용 그래프 출력\n",
        "tf.keras.utils.plot_model(model, 'model.png', show_shapes=True)"
      ],
      "execution_count": 23,
      "outputs": [
        {
          "output_type": "execute_result",
          "data": {
            "image/png": "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\n",
            "text/plain": [
              "<IPython.core.display.Image object>"
            ]
          },
          "metadata": {
            "tags": []
          },
          "execution_count": 23
        }
      ]
    },
    {
      "cell_type": "markdown",
      "metadata": {
        "id": "HjnXhHytfRgg"
      },
      "source": [
        "## 데이터"
      ]
    },
    {
      "cell_type": "code",
      "metadata": {
        "id": "zY1Ve9HffKBe"
      },
      "source": [
        "# 학습할 말뭉치\n",
        "text = \"\"\"수학은 수식이 복잡해서 어렵다\n",
        "수학은 공식이 많아서 어렵다\n",
        "수학은 수식이 이해되면 쉽다\n",
        "수학은 공식이 능통하면 쉽다\n",
        "영어는 단어가 많아서 어렵다\n",
        "영어는 듣기가 복잡해서 어렵다\n",
        "영어는 단어가 이해되면 쉽다\n",
        "영어는 듣기가 능통하면 쉽다\n",
        "국어는 지문이 복잡해서 어렵다\n",
        "국어는 한문이 많아서 어렵다\n",
        "국어는 지문이 이해되면 쉽다\n",
        "국어는 한문이 능통하면 쉽다\"\"\""
      ],
      "execution_count": 24,
      "outputs": []
    },
    {
      "cell_type": "markdown",
      "metadata": {
        "id": "J5W6CGdjfa2O"
      },
      "source": [
        "## Vocabulary"
      ]
    },
    {
      "cell_type": "code",
      "metadata": {
        "id": "2PNZv9Z9faWn",
        "colab": {
          "base_uri": "https://localhost:8080/"
        },
        "outputId": "a2ab4405-ade0-43e2-8cd9-6445b4e9e668"
      },
      "source": [
        "# 띄어쓰기 기준 단어 목록\n",
        "words = list(dict.fromkeys(text.split()))\n",
        "words"
      ],
      "execution_count": 25,
      "outputs": [
        {
          "output_type": "execute_result",
          "data": {
            "text/plain": [
              "['수학은',\n",
              " '수식이',\n",
              " '복잡해서',\n",
              " '어렵다',\n",
              " '공식이',\n",
              " '많아서',\n",
              " '이해되면',\n",
              " '쉽다',\n",
              " '능통하면',\n",
              " '영어는',\n",
              " '단어가',\n",
              " '듣기가',\n",
              " '국어는',\n",
              " '지문이',\n",
              " '한문이']"
            ]
          },
          "metadata": {
            "tags": []
          },
          "execution_count": 25
        }
      ]
    },
    {
      "cell_type": "code",
      "metadata": {
        "id": "obQ_0PwxfjP7",
        "colab": {
          "base_uri": "https://localhost:8080/"
        },
        "outputId": "af17433b-6602-4fb8-ef63-64f11befa8b8"
      },
      "source": [
        "# 각 단어별 고유한 번호 부여\n",
        "word_to_id = {'[PAD]': 0, '[UNK]': 1}\n",
        "for word in words:\n",
        "    word_to_id[word] = len(word_to_id)\n",
        "word_to_id"
      ],
      "execution_count": 26,
      "outputs": [
        {
          "output_type": "execute_result",
          "data": {
            "text/plain": [
              "{'[PAD]': 0,\n",
              " '[UNK]': 1,\n",
              " '공식이': 6,\n",
              " '국어는': 14,\n",
              " '능통하면': 10,\n",
              " '단어가': 12,\n",
              " '듣기가': 13,\n",
              " '많아서': 7,\n",
              " '복잡해서': 4,\n",
              " '수식이': 3,\n",
              " '수학은': 2,\n",
              " '쉽다': 9,\n",
              " '어렵다': 5,\n",
              " '영어는': 11,\n",
              " '이해되면': 8,\n",
              " '지문이': 15,\n",
              " '한문이': 16}"
            ]
          },
          "metadata": {
            "tags": []
          },
          "execution_count": 26
        }
      ]
    },
    {
      "cell_type": "code",
      "metadata": {
        "id": "ylCYFKscfwvc",
        "colab": {
          "base_uri": "https://localhost:8080/"
        },
        "outputId": "018b3ed3-8a68-4c02-8f68-02327b2a127f"
      },
      "source": [
        "# 각 숫자별 단어 부여\n",
        "id_to_word = {_id:word for word, _id in word_to_id.items()}\n",
        "id_to_word"
      ],
      "execution_count": 27,
      "outputs": [
        {
          "output_type": "execute_result",
          "data": {
            "text/plain": [
              "{0: '[PAD]',\n",
              " 1: '[UNK]',\n",
              " 2: '수학은',\n",
              " 3: '수식이',\n",
              " 4: '복잡해서',\n",
              " 5: '어렵다',\n",
              " 6: '공식이',\n",
              " 7: '많아서',\n",
              " 8: '이해되면',\n",
              " 9: '쉽다',\n",
              " 10: '능통하면',\n",
              " 11: '영어는',\n",
              " 12: '단어가',\n",
              " 13: '듣기가',\n",
              " 14: '국어는',\n",
              " 15: '지문이',\n",
              " 16: '한문이'}"
            ]
          },
          "metadata": {
            "tags": []
          },
          "execution_count": 27
        }
      ]
    },
    {
      "cell_type": "markdown",
      "metadata": {
        "id": "6BUlIvj7gIpd"
      },
      "source": [
        "## 학습용 데이터 생성"
      ]
    },
    {
      "cell_type": "code",
      "metadata": {
        "id": "0YdmybRdfy27",
        "colab": {
          "base_uri": "https://localhost:8080/"
        },
        "outputId": "cd95919c-a6d8-47b8-a497-36663eaabf08"
      },
      "source": [
        "# 줄바꿈 단위로 문장 분리\n",
        "sentences = text.split(\"\\n\")\n",
        "sentences"
      ],
      "execution_count": 28,
      "outputs": [
        {
          "output_type": "execute_result",
          "data": {
            "text/plain": [
              "['수학은 수식이 복잡해서 어렵다',\n",
              " '수학은 공식이 많아서 어렵다',\n",
              " '수학은 수식이 이해되면 쉽다',\n",
              " '수학은 공식이 능통하면 쉽다',\n",
              " '영어는 단어가 많아서 어렵다',\n",
              " '영어는 듣기가 복잡해서 어렵다',\n",
              " '영어는 단어가 이해되면 쉽다',\n",
              " '영어는 듣기가 능통하면 쉽다',\n",
              " '국어는 지문이 복잡해서 어렵다',\n",
              " '국어는 한문이 많아서 어렵다',\n",
              " '국어는 지문이 이해되면 쉽다',\n",
              " '국어는 한문이 능통하면 쉽다']"
            ]
          },
          "metadata": {
            "tags": []
          },
          "execution_count": 28
        }
      ]
    },
    {
      "cell_type": "code",
      "metadata": {
        "id": "2BdPjI4TgNwh",
        "colab": {
          "base_uri": "https://localhost:8080/"
        },
        "outputId": "8c6d19fb-dd6d-44e2-c010-fd672114aad8"
      },
      "source": [
        "# 띄어쓰기 단위로 단어 분리\n",
        "tokens = []\n",
        "for sentence in sentences:\n",
        "    tokens.append(sentence.split())\n",
        "tokens"
      ],
      "execution_count": 29,
      "outputs": [
        {
          "output_type": "execute_result",
          "data": {
            "text/plain": [
              "[['수학은', '수식이', '복잡해서', '어렵다'],\n",
              " ['수학은', '공식이', '많아서', '어렵다'],\n",
              " ['수학은', '수식이', '이해되면', '쉽다'],\n",
              " ['수학은', '공식이', '능통하면', '쉽다'],\n",
              " ['영어는', '단어가', '많아서', '어렵다'],\n",
              " ['영어는', '듣기가', '복잡해서', '어렵다'],\n",
              " ['영어는', '단어가', '이해되면', '쉽다'],\n",
              " ['영어는', '듣기가', '능통하면', '쉽다'],\n",
              " ['국어는', '지문이', '복잡해서', '어렵다'],\n",
              " ['국어는', '한문이', '많아서', '어렵다'],\n",
              " ['국어는', '지문이', '이해되면', '쉽다'],\n",
              " ['국어는', '한문이', '능통하면', '쉽다']]"
            ]
          },
          "metadata": {
            "tags": []
          },
          "execution_count": 29
        }
      ]
    },
    {
      "cell_type": "code",
      "metadata": {
        "id": "j4GL0HkKgRsp",
        "colab": {
          "base_uri": "https://localhost:8080/"
        },
        "outputId": "6877182f-0f74-47ed-ce43-6ac77aba44d6"
      },
      "source": [
        "# center-outer 생성\n",
        "window_size = 2\n",
        "word_pairs = []\n",
        "for line_token in tokens:\n",
        "    print(line_token)\n",
        "    for i in range(len(line_token)):\n",
        "        #####################################\n",
        "        o_1 = max(0, i - window_size)\n",
        "        o_2 = min(len(line_token) - 1, i + window_size)\n",
        "        c = line_token[i]\n",
        "        o = [line_token[j] for j in range(o_1, o_2 + 1) if j != i]\n",
        "        print(i, '/', o_1, '/', o_2, '/', c, '/', o)\n",
        "        word_pairs.append({\"c\": c, \"o\": o})\n",
        "        #####################################\n",
        "print(len(word_pairs))\n",
        "word_pairs"
      ],
      "execution_count": 30,
      "outputs": [
        {
          "output_type": "stream",
          "text": [
            "['수학은', '수식이', '복잡해서', '어렵다']\n",
            "0 / 0 / 2 / 수학은 / ['수식이', '복잡해서']\n",
            "1 / 0 / 3 / 수식이 / ['수학은', '복잡해서', '어렵다']\n",
            "2 / 0 / 3 / 복잡해서 / ['수학은', '수식이', '어렵다']\n",
            "3 / 1 / 3 / 어렵다 / ['수식이', '복잡해서']\n",
            "['수학은', '공식이', '많아서', '어렵다']\n",
            "0 / 0 / 2 / 수학은 / ['공식이', '많아서']\n",
            "1 / 0 / 3 / 공식이 / ['수학은', '많아서', '어렵다']\n",
            "2 / 0 / 3 / 많아서 / ['수학은', '공식이', '어렵다']\n",
            "3 / 1 / 3 / 어렵다 / ['공식이', '많아서']\n",
            "['수학은', '수식이', '이해되면', '쉽다']\n",
            "0 / 0 / 2 / 수학은 / ['수식이', '이해되면']\n",
            "1 / 0 / 3 / 수식이 / ['수학은', '이해되면', '쉽다']\n",
            "2 / 0 / 3 / 이해되면 / ['수학은', '수식이', '쉽다']\n",
            "3 / 1 / 3 / 쉽다 / ['수식이', '이해되면']\n",
            "['수학은', '공식이', '능통하면', '쉽다']\n",
            "0 / 0 / 2 / 수학은 / ['공식이', '능통하면']\n",
            "1 / 0 / 3 / 공식이 / ['수학은', '능통하면', '쉽다']\n",
            "2 / 0 / 3 / 능통하면 / ['수학은', '공식이', '쉽다']\n",
            "3 / 1 / 3 / 쉽다 / ['공식이', '능통하면']\n",
            "['영어는', '단어가', '많아서', '어렵다']\n",
            "0 / 0 / 2 / 영어는 / ['단어가', '많아서']\n",
            "1 / 0 / 3 / 단어가 / ['영어는', '많아서', '어렵다']\n",
            "2 / 0 / 3 / 많아서 / ['영어는', '단어가', '어렵다']\n",
            "3 / 1 / 3 / 어렵다 / ['단어가', '많아서']\n",
            "['영어는', '듣기가', '복잡해서', '어렵다']\n",
            "0 / 0 / 2 / 영어는 / ['듣기가', '복잡해서']\n",
            "1 / 0 / 3 / 듣기가 / ['영어는', '복잡해서', '어렵다']\n",
            "2 / 0 / 3 / 복잡해서 / ['영어는', '듣기가', '어렵다']\n",
            "3 / 1 / 3 / 어렵다 / ['듣기가', '복잡해서']\n",
            "['영어는', '단어가', '이해되면', '쉽다']\n",
            "0 / 0 / 2 / 영어는 / ['단어가', '이해되면']\n",
            "1 / 0 / 3 / 단어가 / ['영어는', '이해되면', '쉽다']\n",
            "2 / 0 / 3 / 이해되면 / ['영어는', '단어가', '쉽다']\n",
            "3 / 1 / 3 / 쉽다 / ['단어가', '이해되면']\n",
            "['영어는', '듣기가', '능통하면', '쉽다']\n",
            "0 / 0 / 2 / 영어는 / ['듣기가', '능통하면']\n",
            "1 / 0 / 3 / 듣기가 / ['영어는', '능통하면', '쉽다']\n",
            "2 / 0 / 3 / 능통하면 / ['영어는', '듣기가', '쉽다']\n",
            "3 / 1 / 3 / 쉽다 / ['듣기가', '능통하면']\n",
            "['국어는', '지문이', '복잡해서', '어렵다']\n",
            "0 / 0 / 2 / 국어는 / ['지문이', '복잡해서']\n",
            "1 / 0 / 3 / 지문이 / ['국어는', '복잡해서', '어렵다']\n",
            "2 / 0 / 3 / 복잡해서 / ['국어는', '지문이', '어렵다']\n",
            "3 / 1 / 3 / 어렵다 / ['지문이', '복잡해서']\n",
            "['국어는', '한문이', '많아서', '어렵다']\n",
            "0 / 0 / 2 / 국어는 / ['한문이', '많아서']\n",
            "1 / 0 / 3 / 한문이 / ['국어는', '많아서', '어렵다']\n",
            "2 / 0 / 3 / 많아서 / ['국어는', '한문이', '어렵다']\n",
            "3 / 1 / 3 / 어렵다 / ['한문이', '많아서']\n",
            "['국어는', '지문이', '이해되면', '쉽다']\n",
            "0 / 0 / 2 / 국어는 / ['지문이', '이해되면']\n",
            "1 / 0 / 3 / 지문이 / ['국어는', '이해되면', '쉽다']\n",
            "2 / 0 / 3 / 이해되면 / ['국어는', '지문이', '쉽다']\n",
            "3 / 1 / 3 / 쉽다 / ['지문이', '이해되면']\n",
            "['국어는', '한문이', '능통하면', '쉽다']\n",
            "0 / 0 / 2 / 국어는 / ['한문이', '능통하면']\n",
            "1 / 0 / 3 / 한문이 / ['국어는', '능통하면', '쉽다']\n",
            "2 / 0 / 3 / 능통하면 / ['국어는', '한문이', '쉽다']\n",
            "3 / 1 / 3 / 쉽다 / ['한문이', '능통하면']\n",
            "48\n"
          ],
          "name": "stdout"
        },
        {
          "output_type": "execute_result",
          "data": {
            "text/plain": [
              "[{'c': '수학은', 'o': ['수식이', '복잡해서']},\n",
              " {'c': '수식이', 'o': ['수학은', '복잡해서', '어렵다']},\n",
              " {'c': '복잡해서', 'o': ['수학은', '수식이', '어렵다']},\n",
              " {'c': '어렵다', 'o': ['수식이', '복잡해서']},\n",
              " {'c': '수학은', 'o': ['공식이', '많아서']},\n",
              " {'c': '공식이', 'o': ['수학은', '많아서', '어렵다']},\n",
              " {'c': '많아서', 'o': ['수학은', '공식이', '어렵다']},\n",
              " {'c': '어렵다', 'o': ['공식이', '많아서']},\n",
              " {'c': '수학은', 'o': ['수식이', '이해되면']},\n",
              " {'c': '수식이', 'o': ['수학은', '이해되면', '쉽다']},\n",
              " {'c': '이해되면', 'o': ['수학은', '수식이', '쉽다']},\n",
              " {'c': '쉽다', 'o': ['수식이', '이해되면']},\n",
              " {'c': '수학은', 'o': ['공식이', '능통하면']},\n",
              " {'c': '공식이', 'o': ['수학은', '능통하면', '쉽다']},\n",
              " {'c': '능통하면', 'o': ['수학은', '공식이', '쉽다']},\n",
              " {'c': '쉽다', 'o': ['공식이', '능통하면']},\n",
              " {'c': '영어는', 'o': ['단어가', '많아서']},\n",
              " {'c': '단어가', 'o': ['영어는', '많아서', '어렵다']},\n",
              " {'c': '많아서', 'o': ['영어는', '단어가', '어렵다']},\n",
              " {'c': '어렵다', 'o': ['단어가', '많아서']},\n",
              " {'c': '영어는', 'o': ['듣기가', '복잡해서']},\n",
              " {'c': '듣기가', 'o': ['영어는', '복잡해서', '어렵다']},\n",
              " {'c': '복잡해서', 'o': ['영어는', '듣기가', '어렵다']},\n",
              " {'c': '어렵다', 'o': ['듣기가', '복잡해서']},\n",
              " {'c': '영어는', 'o': ['단어가', '이해되면']},\n",
              " {'c': '단어가', 'o': ['영어는', '이해되면', '쉽다']},\n",
              " {'c': '이해되면', 'o': ['영어는', '단어가', '쉽다']},\n",
              " {'c': '쉽다', 'o': ['단어가', '이해되면']},\n",
              " {'c': '영어는', 'o': ['듣기가', '능통하면']},\n",
              " {'c': '듣기가', 'o': ['영어는', '능통하면', '쉽다']},\n",
              " {'c': '능통하면', 'o': ['영어는', '듣기가', '쉽다']},\n",
              " {'c': '쉽다', 'o': ['듣기가', '능통하면']},\n",
              " {'c': '국어는', 'o': ['지문이', '복잡해서']},\n",
              " {'c': '지문이', 'o': ['국어는', '복잡해서', '어렵다']},\n",
              " {'c': '복잡해서', 'o': ['국어는', '지문이', '어렵다']},\n",
              " {'c': '어렵다', 'o': ['지문이', '복잡해서']},\n",
              " {'c': '국어는', 'o': ['한문이', '많아서']},\n",
              " {'c': '한문이', 'o': ['국어는', '많아서', '어렵다']},\n",
              " {'c': '많아서', 'o': ['국어는', '한문이', '어렵다']},\n",
              " {'c': '어렵다', 'o': ['한문이', '많아서']},\n",
              " {'c': '국어는', 'o': ['지문이', '이해되면']},\n",
              " {'c': '지문이', 'o': ['국어는', '이해되면', '쉽다']},\n",
              " {'c': '이해되면', 'o': ['국어는', '지문이', '쉽다']},\n",
              " {'c': '쉽다', 'o': ['지문이', '이해되면']},\n",
              " {'c': '국어는', 'o': ['한문이', '능통하면']},\n",
              " {'c': '한문이', 'o': ['국어는', '능통하면', '쉽다']},\n",
              " {'c': '능통하면', 'o': ['국어는', '한문이', '쉽다']},\n",
              " {'c': '쉽다', 'o': ['한문이', '능통하면']}]"
            ]
          },
          "metadata": {
            "tags": []
          },
          "execution_count": 30
        }
      ]
    },
    {
      "cell_type": "code",
      "metadata": {
        "id": "9e8ee8NygWER",
        "colab": {
          "base_uri": "https://localhost:8080/"
        },
        "outputId": "481e662d-2dae-4813-cfbc-1b126a30fd50"
      },
      "source": [
        "# skip gram dataset 생성\n",
        "train_tokens = []\n",
        "train_labels = []\n",
        "for word_pair in word_pairs:\n",
        "    c = word_pair[\"c\"]\n",
        "    o = word_pair[\"o\"]\n",
        "    for w in o:\n",
        "        # print(c, w)\n",
        "        # center word 입력\n",
        "        train_tokens.append(c)\n",
        "        # outer word 정답\n",
        "        train_labels.append(w)\n",
        "print(f\"tokens : {train_tokens}\")\n",
        "print(f\"labels : {train_labels}\")"
      ],
      "execution_count": 31,
      "outputs": [
        {
          "output_type": "stream",
          "text": [
            "tokens : ['수학은', '수학은', '수식이', '수식이', '수식이', '복잡해서', '복잡해서', '복잡해서', '어렵다', '어렵다', '수학은', '수학은', '공식이', '공식이', '공식이', '많아서', '많아서', '많아서', '어렵다', '어렵다', '수학은', '수학은', '수식이', '수식이', '수식이', '이해되면', '이해되면', '이해되면', '쉽다', '쉽다', '수학은', '수학은', '공식이', '공식이', '공식이', '능통하면', '능통하면', '능통하면', '쉽다', '쉽다', '영어는', '영어는', '단어가', '단어가', '단어가', '많아서', '많아서', '많아서', '어렵다', '어렵다', '영어는', '영어는', '듣기가', '듣기가', '듣기가', '복잡해서', '복잡해서', '복잡해서', '어렵다', '어렵다', '영어는', '영어는', '단어가', '단어가', '단어가', '이해되면', '이해되면', '이해되면', '쉽다', '쉽다', '영어는', '영어는', '듣기가', '듣기가', '듣기가', '능통하면', '능통하면', '능통하면', '쉽다', '쉽다', '국어는', '국어는', '지문이', '지문이', '지문이', '복잡해서', '복잡해서', '복잡해서', '어렵다', '어렵다', '국어는', '국어는', '한문이', '한문이', '한문이', '많아서', '많아서', '많아서', '어렵다', '어렵다', '국어는', '국어는', '지문이', '지문이', '지문이', '이해되면', '이해되면', '이해되면', '쉽다', '쉽다', '국어는', '국어는', '한문이', '한문이', '한문이', '능통하면', '능통하면', '능통하면', '쉽다', '쉽다']\n",
            "labels : ['수식이', '복잡해서', '수학은', '복잡해서', '어렵다', '수학은', '수식이', '어렵다', '수식이', '복잡해서', '공식이', '많아서', '수학은', '많아서', '어렵다', '수학은', '공식이', '어렵다', '공식이', '많아서', '수식이', '이해되면', '수학은', '이해되면', '쉽다', '수학은', '수식이', '쉽다', '수식이', '이해되면', '공식이', '능통하면', '수학은', '능통하면', '쉽다', '수학은', '공식이', '쉽다', '공식이', '능통하면', '단어가', '많아서', '영어는', '많아서', '어렵다', '영어는', '단어가', '어렵다', '단어가', '많아서', '듣기가', '복잡해서', '영어는', '복잡해서', '어렵다', '영어는', '듣기가', '어렵다', '듣기가', '복잡해서', '단어가', '이해되면', '영어는', '이해되면', '쉽다', '영어는', '단어가', '쉽다', '단어가', '이해되면', '듣기가', '능통하면', '영어는', '능통하면', '쉽다', '영어는', '듣기가', '쉽다', '듣기가', '능통하면', '지문이', '복잡해서', '국어는', '복잡해서', '어렵다', '국어는', '지문이', '어렵다', '지문이', '복잡해서', '한문이', '많아서', '국어는', '많아서', '어렵다', '국어는', '한문이', '어렵다', '한문이', '많아서', '지문이', '이해되면', '국어는', '이해되면', '쉽다', '국어는', '지문이', '쉽다', '지문이', '이해되면', '한문이', '능통하면', '국어는', '능통하면', '쉽다', '국어는', '한문이', '쉽다', '한문이', '능통하면']\n"
          ],
          "name": "stdout"
        }
      ]
    },
    {
      "cell_type": "code",
      "metadata": {
        "id": "Ru1EyncfgiPN",
        "colab": {
          "base_uri": "https://localhost:8080/"
        },
        "outputId": "831be11c-f24a-445e-8b8d-5a62ed6d915e"
      },
      "source": [
        "# input token to id\n",
        "train_token_ids = np.array([word_to_id[token] for token in train_tokens])\n",
        "train_token_ids"
      ],
      "execution_count": 32,
      "outputs": [
        {
          "output_type": "execute_result",
          "data": {
            "text/plain": [
              "array([ 2,  2,  3,  3,  3,  4,  4,  4,  5,  5,  2,  2,  6,  6,  6,  7,  7,\n",
              "        7,  5,  5,  2,  2,  3,  3,  3,  8,  8,  8,  9,  9,  2,  2,  6,  6,\n",
              "        6, 10, 10, 10,  9,  9, 11, 11, 12, 12, 12,  7,  7,  7,  5,  5, 11,\n",
              "       11, 13, 13, 13,  4,  4,  4,  5,  5, 11, 11, 12, 12, 12,  8,  8,  8,\n",
              "        9,  9, 11, 11, 13, 13, 13, 10, 10, 10,  9,  9, 14, 14, 15, 15, 15,\n",
              "        4,  4,  4,  5,  5, 14, 14, 16, 16, 16,  7,  7,  7,  5,  5, 14, 14,\n",
              "       15, 15, 15,  8,  8,  8,  9,  9, 14, 14, 16, 16, 16, 10, 10, 10,  9,\n",
              "        9])"
            ]
          },
          "metadata": {
            "tags": []
          },
          "execution_count": 32
        }
      ]
    },
    {
      "cell_type": "code",
      "metadata": {
        "id": "eWYRQ2J_gt-U",
        "colab": {
          "base_uri": "https://localhost:8080/"
        },
        "outputId": "9c350608-13f1-42fc-8cef-21571eafdd35"
      },
      "source": [
        "# label token to id\n",
        "train_label_ids = np.array([word_to_id[label] for label in train_labels])\n",
        "train_label_ids"
      ],
      "execution_count": 33,
      "outputs": [
        {
          "output_type": "execute_result",
          "data": {
            "text/plain": [
              "array([ 3,  4,  2,  4,  5,  2,  3,  5,  3,  4,  6,  7,  2,  7,  5,  2,  6,\n",
              "        5,  6,  7,  3,  8,  2,  8,  9,  2,  3,  9,  3,  8,  6, 10,  2, 10,\n",
              "        9,  2,  6,  9,  6, 10, 12,  7, 11,  7,  5, 11, 12,  5, 12,  7, 13,\n",
              "        4, 11,  4,  5, 11, 13,  5, 13,  4, 12,  8, 11,  8,  9, 11, 12,  9,\n",
              "       12,  8, 13, 10, 11, 10,  9, 11, 13,  9, 13, 10, 15,  4, 14,  4,  5,\n",
              "       14, 15,  5, 15,  4, 16,  7, 14,  7,  5, 14, 16,  5, 16,  7, 15,  8,\n",
              "       14,  8,  9, 14, 15,  9, 15,  8, 16, 10, 14, 10,  9, 14, 16,  9, 16,\n",
              "       10])"
            ]
          },
          "metadata": {
            "tags": []
          },
          "execution_count": 33
        }
      ]
    },
    {
      "cell_type": "markdown",
      "metadata": {
        "id": "Eq1cQ_Cclshq"
      },
      "source": [
        "## embedding 출력"
      ]
    },
    {
      "cell_type": "code",
      "metadata": {
        "id": "aIgloW26lvT1"
      },
      "source": [
        "def plot_embdeeding(embedding, word_to_id):\n",
        "    \"\"\"\n",
        "    word의 embedding vector를 2차원 공간에서 위치를 표현 함\n",
        "    :param embedding: tf.keras.layers.Embedding 객체\n",
        "    :param word_to_id: word_to_id vocab\n",
        "    \"\"\"\n",
        "    # 폰트\n",
        "    font_name = \"NanumBarunGothic\"\n",
        "\n",
        "    # plot 크기 및 폰트 설정\n",
        "    plt.figure(figsize=(8, 8))\n",
        "    plt.rc('font', family=font_name)\n",
        "    plt.rcParams[\"axes.unicode_minus\"] = False # 한글 폰트 사용시 - 깨지는 문제 해결\n",
        "\n",
        "    # word와 vector 값 추출\n",
        "    vectors = []\n",
        "    words = []\n",
        "    for word, id in word_to_id.items():\n",
        "        if id < 2: continue  # 0: PAD, 1: UNK\n",
        "        vectors.append(embedding(id).numpy())\n",
        "        words.append(word)\n",
        "\n",
        "    # 2차원 보다 큰 경우 PCA를 이용해 2차원으로 차원 축소\n",
        "    if 2 < len(vectors[0]):\n",
        "        vectors = PCA().fit_transform(vectors)[:,:2]\n",
        "\n",
        "    # 벡터와 단어를 화면에 출력\n",
        "    for word, vector in zip(words, vectors):\n",
        "        plt.scatter(vector[0], vector[1])\n",
        "        plt.annotate(word, xy=(vector[0], vector[1]), xytext=(6, 4), textcoords='offset points', ha='right', va='bottom')\n",
        "\n",
        "    # 출력\n",
        "    plt.show()"
      ],
      "execution_count": 34,
      "outputs": []
    },
    {
      "cell_type": "markdown",
      "metadata": {
        "id": "xmV0WfkslAWW"
      },
      "source": [
        "## 학습"
      ]
    },
    {
      "cell_type": "code",
      "metadata": {
        "colab": {
          "base_uri": "https://localhost:8080/",
          "height": 312
        },
        "id": "C8tvMt2K3kbb",
        "outputId": "1c898782-012d-424c-d9c4-c5daaefe466c"
      },
      "source": [
        "# 모델 생성\n",
        "model, V = build_model(len(word_to_id), 32)\n",
        "# 모델 내용 그래프 출력\n",
        "tf.keras.utils.plot_model(model, 'model.png', show_shapes=True)"
      ],
      "execution_count": 35,
      "outputs": [
        {
          "output_type": "execute_result",
          "data": {
            "image/png": "iVBORw0KGgoAAAANSUhEUgAAAbsAAAEnCAYAAAAwze0mAAAABmJLR0QA/wD/AP+gvaeTAAAgAElEQVR4nOzdeViTZ7o/8G+AQBIIq4CIoiyKVVHb6hxBqXUcOVYGURHBpa31qj/Utghqq7giInUb4KBwPC5De2pHVgesS+1YSx2vqseOG0OnilRccEEUAVlku39/eJExhiWBkITk/lxX/uiTJ8978z5Nbt/tuQVERGCMMcb0V6aRtiNgjDHGuhsnO8YYY3qPkx1jjDG9x8mOMcaY3jPRdgDtiY+Px9mzZ7UdBmOMsQ4sW7YM3t7e2g6jTTp9ZHf27FmcO3dO22Ew1ml3795FVlaWtsPocbKysnD37l1th8GUlJWVhTt37mg7jHbp9JEdAIwZMwaZmZnaDoOxTsnIyEBISAj/P6wigUCAyMhIzJo1S9uhMCUIBAJth9AhnT6yY4wxxtSBkx1jjDG9x8mOMcaY3uNkxxhjTO9xsmOMMab3ONkx1gMcO3YMVlZW+Oabb7Qdik5atGgRBAKB7DVv3jyFPidPnkRUVBSys7Ph5uYm6/vuu+8q9PXz84NUKoWxsTGGDh2KixcvauLP6LLm5mYkJCTAx8dH4b3Dhw9j69ataGpqkmvPycmR23e9evXSVLgaxcmOsR6Ai5N0zNbWFsePH8e1a9ewf/9+ufc2bNiApKQkrF69GkFBQfjtt9/g7u4OOzs7HDhwAEePHpXr/9133yEzMxMBAQEoKCjAG2+8ock/pVMKCwvx1ltvYdmyZaipqVF4f+rUqRCJRJg4cSKePn0qaw8MDMTdu3dx+vRpTJkyRZMhaxQnO8Z6AH9/f1RUVCAgIEDboaC2trbVIwdtE4vFmDx5MgYNGgQzMzNZ+5YtW5CWloaMjAxIpVK5zyQlJcHIyAhhYWGoqKjQdMhqc+XKFaxatQqLFy/GyJEj2+y3dOlSjBgxAlOmTEFjYyOAF8/IOTs7w9fXFwMHDtRUyBrHyY4xppL9+/ejtLRU22Eo5caNG1i3bh02btwIkUik8L6Pjw8iIiJQUlKCFStWaCFC9RgxYgSys7Mxd+5cuUTfmujoaFy+fBmJiYkaik43cLJjTMedOXMGLi4uEAgE2LVrFwAgJSUF5ubmkEgkyM3NxTvvvANLS0v07dsXBw8elH02KSkJIpEIDg4OWLRoEZycnCASieDj44Pz58/L+oWHh8PU1BS9e/eWtX300UcwNzeHQCBAWVkZACAiIgLLly9HUVERBAIBPDw8AADffvstLC0tsXnzZk3sEqUlJSWBiDB16tQ2+8TGxmLQoEHYt28fTp482e54RIT4+Hi89tprMDMzg42NDaZNm4Zff/1V1kfZuQGApqYmrF+/Hi4uLhCLxRg+fDjS09O79kd3wMbGBuPHj0diYqJBnR7nZMeYjhs3bhx++uknubYlS5YgMjIStbW1kEqlSE9PR1FREdzc3LBw4UI0NDQAeJHE5s+fj5qaGixduhTFxcW4ePEiGhsbMWnSJNl6hklJSQpLcyUnJ2Pjxo1ybYmJiQgICIC7uzuICDdu3AAA2U0Pzc3N3bIPOuvo0aPw9PSERCJps49YLMYXX3wBIyMjLFy4ENXV1W32jY6ORlRUFNasWYPS0lKcPn0ad+7cga+vLx4+fAhA+bkBgFWrVmHbtm1ISEjA/fv3ERAQgDlz5uDnn39W305oxeuvv46SkhJcuXKlW7ejSzjZMdbD+fj4wNLSEvb29ggNDUV1dTVu374t18fExER2NDJkyBCkpKSgqqoKqampaonB398flZWVWLdunVrGU4fq6mrcvHkT7u7uHfb19vZGZGQkiouLsWrVqlb71NbWIj4+HjNmzMC8efNgZWUFLy8v7N69G2VlZdizZ4/CZ9qbm7q6OqSkpGD69OkICgqCtbU11q5dC6FQqLZ5aUvLtbn8/Pxu3Y4u4WTHmB4xNTUFALmjh9aMGjUKEolE7vSbviktLQURtXtU97LY2Fh4enoiOTkZZ86cUXi/oKAAz549w6hRo+TaR48eDVNTU7nTwq15dW6uXbuGmpoaDBs2TNZHLBajd+/e3T4vLfuk5WjUEHCyY8xAmZmZ4dGjR9oOo9vU1dUBQIc3bLQQiURITU2FQCDAggULUFtbK/d+y+36FhYWCp+1trZGVVWVSvG1nC5du3at3HNut27davXRAXUSi8UA/r2PDAEnO8YMUENDA54+fYq+fftqO5Ru0/KD/upD1O3x9vbGsmXLUFhYiE2bNsm9Z21tDQCtJrXO7Et7e3sAQEJCAohI7tXdRavr6+sB/HsfGQJOdowZoLy8PBARxowZI2szMTHp8PRnT+Lg4ACBQKDy83ObNm3C4MGDcenSJbn2YcOGwcLCQuHmkfPnz6O+vh5vvvmmStvp168fRCIRLl++rNLn1KFlnzg6Omp829rCyY4xA9Dc3Izy8nI0Njbi6tWriIiIgIuLC+bPny/r4+HhgSdPniAnJwcNDQ149OgRbt26pTCWra0t7t27h+LiYlRVVaGhoQHHjx/XuUcPJBIJ3NzcVK543nI609jYWKF9+fLlOHToEA4cOIDKykrk5+dj8eLFcHJyQlhYmMrb+eCDD3Dw4EGkpKSgsrISTU1NuHv3Lu7fvw8ACA0NhaOjo9qXK2vZJ15eXmodV5dxsmNMx+3atQujR48GAKxcuRKBgYFISUlBQkICAGD48OH47bffsHfvXixfvhwAMHnyZBQWFsrGqKurg5eXF8RiMXx9fTFo0CD88MMPctezlixZggkTJmD27Nnw9PTEpk2bZKe5vL29ZY8pLF68GA4ODhgyZAimTJmCJ0+eaGQ/dIa/vz8KCgrkrr/99a9/hYeHB4qKijB69Gh88sknCp8bM2YMli1bptC+YcMGxMXFISYmBr169cL48eMxYMAA5OXlwdzcHABUmpvExERERkZi69atsLOzg5OTEyIiIlBeXg7gxenG0tJS5Obmtvt3njt3DuPGjUOfPn1w/vx5XLlyBU5OThg7dixOnz6t0P/ChQtwdnbG8OHDldmN+oF02MyZM2nmzJnaDoOxTktPTydtf83CwsLI1tZWqzGoCgClp6cr3T8sLIycnZ0V2gsLC8nExIS++uordYanMU1NTeTr60v79+9X25hlZWUkEolox44dCu8tXbqU7OzsVB5T1fnSggw+smPMAKhyk0ZPVVtbixMnTqCwsFB2A4aHhwdiYmIQExODZ8+eaTlC1TQ1NSEnJwdVVVUIDQ1V27jR0dEYOXIkwsPDAbxYFebevXs4c+aMbJEAfcTJjjGmF548eSJbCHrBggWy9qioKAQHByM0NLRHLfacl5eH7OxsHD9+XOlnBTsSHx+Py5cv49ixYxAKhQCA3Nxc2ULQr1Z/0Cd6l+z0pe5XTEwMhgwZAktLS5iZmcHDwwOfffZZp/51eu7cObz22mswMjKCQCCAo6MjYmNjuyHqznu1xljv3r1brUnGVLN69WqkpqaioqICrq6uyMrK0nZI3WL37t1yt+4fOHBA7v3NmzcjPDwcn3/+uZYiVN3EiRPx9ddfy61X2hW5ubl4/vw58vLyYGNjI2ufNm2a3L5rWQdV35hoOwB1Iz1Z2PTUqVP4+OOPERoaCqFQiOPHj2PevHnIz8/H8ePHVRprzJgx+Ne//oXJkyfjxIkTuHbtmuyZIV0RFBSEoKAgeHh4oKysDA8ePNB2SHohLi4OcXFx2g5DJ/j5+cHPz0/bYWhNYGAgAgMDtR2G1ujdkZ2+1P2ysLBAWFgYbG1tIZVKMWvWLEyfPh3ffvut7K64nkxXa6IxxvST3h3Z6ZKu1P06cuSIQluvXr0AoNuXEtKEnlQTjTHW8+nVkV1PqPvVFSUlJRCLxXB1dZW1daWOWE/fN3//+98xZMgQWFlZQSQSwcvLCydOnAAAfPjhh7Lrf+7u7rLVMD744ANIJBJYWVnh8OHDANqvKbZt2zZIJBJIpVKUlpZi+fLlcHZ2xrVr1zoVM2NMS7T32EPHOvOc3Z07dwgA7dy5U9a2Zs0aAkDff/89VVRUUGlpKfn6+pK5uTnV19fL+oWFhZG5uTn98ssvVFdXRwUFBTR69GiSSqV0+/ZtWb+5c+eSo6Oj3Ha3b99OAOjRo0eytqCgIHJ3d1f1z25VdXU1SaVSCg8Pl2s/cuQISaVSiomJ6XCM//zP/yQAVF5eLmvTtX3j7u5OVlZWHe8QIsrMzKTo6Gh68uQJPX78mMaMGSP3jFBQUBAZGxtTSUmJ3OfmzJlDhw8flv33ihUryMzMjLKysqi8vJxWr15NRkZGdOHCBbl9tHTpUtq5cyfNmDGD/vWvfykVoy48Z9cTQfef22Iv6QHzZVjP2elC3a/OiouLg5OTk8JdlOqqI9YT983MmTOxYcMG2NjYwNbWFlOnTsXjx49lK/kvXrwYTU1NcvFVVlbiwoULmDJlCgDVaopt2bIFH3/8MbKzszF48GDN/aGMsS4zqGT3sp5U9+vQoUPIyMjAiRMnIJVKu317PWnfvKzluaGWB6h///vfY9CgQfjzn/8su0s3LS0NoaGhsnUPNVVT7OUSLvzq+AUAISEhWo+DX8rPl67jG1SUoM26X2lpaYiPj0deXh769OmjlRjao819c/ToUWzfvh0FBQWorKxUSM4CgQCLFi3CsmXL8P333+MPf/gD/vd//xdff/21rM/LNcXWrl0r93knJye1xdpyDZApJyQkBBEREfD29tZ2KEwJISEh2g6hQ5zsOqDNul87d+7EiRMncOrUqVYLRmqbpvfN6dOn8Y9//AORkZG4ffs2pk+fjhkzZuDPf/4z+vTpg507d+Kzzz6T+8z8+fOxevVq7Nu3D/369YOlpSX69+8ve//lmmIRERHdFvusWbO6bWx9FBISAm9vb95vPQQnOz2gjbpfRIRVq1ahvLwcOTk5MDHRzWnS9L75xz/+IVtZPj8/Hw0NDViyZAnc3NwAoNXTKTY2NggJCUFaWhqkUikWLlwo9742a4oxxjTHYK/ZtaW7634p45dffsG2bduwd+9eCIVChfPjO3bskPXVZB0xbe2bhoYGPHz4UK6MiouLCwDg5MmTqKurQ2FhodxjEC9bvHgxnj9/jiNHjigsNqBMTTHGmB7Q7t2g7VP10YOdO3dS7969CQBJJBKaOnUqJScnk0QiIQA0cOBAKioqoj179pClpSUBoP79+9P169eJ6MXt9UKhkJydncnExIQsLS1p2rRpVFRUJLedx48f04QJE0gkEpGrqyt98skn9OmnnxIA8vDwkN2Kf/HiRerfvz+JxWIaN24cPXjwQKm/Iz8/nwC0+dq+fbus77Fjx0gqlVJsbGyb4507d46GDh1KRkZGBIB69+5Nmzdv1ql989///d/k7u7e7t8NgA4dOiTb1sqVK8nW1pasra0pODiYdu3aRQDI3d1d7nEIIqLXX3+doqKiWt0/z58/p5UrV5KLiwuZmJiQvb09BQUFUUFBAW3dupXEYjEBoH79+qlcKoYfPegc6P6t7OwlPWC+MgREuruYZHBwMAAgMzNTI9tbtGgRMjMz8fjxY41sryfp6fvG398fu3btwssP5GtCRkYGQkJC9GbNVk0RCARIT0/na3Y9RA+Yr0w+jfkKQ6j71Vk9ad+8fFr06tWrEIlEGk90jDHdwclOQ3799VelnldRZ5FGQ7Zy5UoUFhbi+vXr+OCDD7Bp0yZth8S60aJFi+S+R62Vhzp58iSioqIUykm9++67Cn39/PwglUphbGyMoUOH4uLFi5r4M7qsubkZCQkJrS6yfvjwYWzdulXhH605OTly+65lDV69o+XzqO3qzHJhnRUVFUWmpqYEgAYMGECZmZka2W5P0BP3zZo1a8jIyIj69esntzSYpvE1u86BiteAwsLCyNbWlo4fP07Xrl2juro6uffXr19PAQEBVFlZKWtzd3cnOzs7AkBHjhxRGPP48eMUGBjY+T9Cw65fv05jx44lADRixIhW+yQmJtL48ePllgxsbm6mu3fv0unTp2nKlClyS+4pS9X50gLDWi6sPXFxcXj+/DmICDdv3sTMmTO1HZLO6In7JjY2Fk1NTbh9+7ZOlHvSJk2UU9KFkk1isVhWqdzMzEzWvmXLFqSlpSEjI0NhBaKkpCQYGRkhLCysR1Uxf9WVK1ewatUqLF68GCNHjmyz39KlSzFixAhMmTIFjY2NAF5cb2upVD5w4EBNhaxxnOwY03OaKKekqyWbbty4gXXr1mHjxo0QiUQK7/v4+CAiIgIlJSVYsWKFFiJUjxEjRiA7Oxtz586VS/StiY6OxuXLl5GYmKih6HQDJzvGdAwRIT4+Xrboto2NDaZNmya3VmdXyilpqmRTV8pPqUtSUhKICFOnTm2zT2xsLAYNGoR9+/bh5MmT7Y6nzNwoWzoLaL+8VHexsbHB+PHjkZiYaFB3CXOyY0zHREdHIyoqCmvWrEFpaSlOnz6NO3fuwNfXFw8fPgTw4kf81du8k5OTsXHjRrm2xMREBAQEwN3dHUSEGzduIDw8HPPnz0dNTQ2WLl2K4uJiXLx4EY2NjZg0aRLu3LnT5W0A/757t7m5WX07R0VHjx6Fp6cnJBJJm33EYjG++OILGBkZYeHChbL1UlujzNwsWbIEkZGRqK2thVQqRXp6OoqKiuDm5oaFCxfK3Sm8atUqbNu2DQkJCbh//z4CAgIwZ84c/Pzzz+rbCa14/fXXUVJSgitXrnTrdnQJJzvGdEhtbS3i4+MxY8YMzJs3D1ZWVvDy8sLu3btRVlaGPXv2qG1b3V2ySV3lpzqruroaN2/ehLu7e4d9vb29ERkZieLiYqxatarVPp2Zm/ZKZ6lSXkrdWq7N5efnd+t2dAknO8Z0SEFBAZ49e4ZRo0bJtY8ePRqmpqZtLommDrpWsqmrSktLQUTtHtW9LDY2Fp6enkhOTsaZM2cU3u/q3LxaOktT5aVa07JPWo5GDQEnO8Z0yNOnTwGg1SoX1tbWqKqq6tbta7Nkk7rV1dUBQIc3bLQQiURITU2FQCDAggULUFtbK/e+uufm5fJSLz/nduvWLdTU1Kg0lqrEYjGAf+8jQ8DJjjEdYm1tDQCt/nB2dzklbZaz6g4tP+iqrPzj7e2NZcuWobCwUGEhAnXPzcvlpYhI7nX27FmVxlJVfX09gH/vI0PAyY4xHTJs2DBYWFgo3KBw/vx51NfX480335S1qbuckjbKWXUnBwcHCAQClZ+f27RpEwYPHoxLly7JtasyN8rQZnmpln3i6Oio8W1rCyc7xnSISCTC8uXLcejQIRw4cACVlZXIz8/H4sWL4eTkhLCwMFnfrpZT6u6STZosP9UaiUQCNzc33L17V6XPtZzONDY2VmhXdm6U3U5H5aVCQ0Ph6Oio9uXKWvaJl5eXWsfVZZzsGNMxGzZsQFxcHGJiYtCrVy+MHz8eAwYMkKvnB7y4xX3ChAmYPXs2PD09sWnTJtlpKW9vb9kjBIsXL4aDgwOGDBmCKVOm4MmTJwBeXK/x8vKCWCyGr68vBg0ahB9++EHuGldXt6Ft/v7+KCgokLv+9te//hUeHh4oKirC6NGj8cknnyh8bsyYMVi2bJlCuzJzk5KSgoSEBADA8OHD8dtvv2Hv3r1Yvnw5AGDy5MkoLCwE8OKxjcjISGzduhV2dnZwcnJCREQEysvLAbw43VhaWorc3Nx2/85z585h3Lhx6NOnD86fP48rV67AyckJY8eOxenTpxX6X7hwAc7Ozhg+fLgyu1E/aGORMmVpcm1MxrqDrq6N2bKWpK5CJ9bGdHZ2VmgvLCwkExMTlesQ6oqmpiby9fWl/fv3q23MsrIyEolEtGPHDoX3li5dymtjMsb0S08q2aSM2tpanDhxAoWFhbIbMDw8PBATE4OYmBg8e/ZMyxGqpqmpCTk5OaiqqlJrNZTo6GiMHDkS4eHhAF6sCnPv3j2cOXNGtiCAPuJkxxjTC0+ePJEtBL1gwQJZe1RUFIKDgxEaGtqjFnvOy8tDdnY2jh8/rvSzgh2Jj4/H5cuXcezYMQiFQgBAbm6ubCHoo0ePqmU7uoiTHWMGZvXq1UhNTUVFRQVcXV2RlZWl7ZC6bPfu3XK37h84cEDu/c2bNyM8PByff/65liJU3cSJE/H111/LrU3aFbm5uXj+/Dny8vJgY2Mja582bZrcvmtZ81TfmGg7AMaYZsXFxSEuLk7bYWicn58f/Pz8tB2G1gQGBiIwMFDbYWgNH9kxxhjTe5zsGGOM6T1OdowxxvQeJzvGGGN6T+dvULl79y4yMjK0HQZjndKyoC//P6y67l4MmRkWAZHu1mUPDg7Wi9uiGWNM36WnpytUttchmTqd7BjTNxkZGQgJCQF/7RjTqEy+ZscYY0zvcbJjjDGm9zjZMcYY03uc7BhjjOk9TnaMMcb0Hic7xhhjeo+THWOMMb3HyY4xxpje42THGGNM73GyY4wxpvc42THGGNN7nOwYY4zpPU52jDHG9B4nO8YYY3qPkx1jjDG9x8mOMcaY3uNkxxhjTO9xsmOMMab3ONkxxhjTe5zsGGOM6T1OdowxxvQeJzvGGGN6j5MdY4wxvcfJjjHGmN7jZMcYY0zvcbJjjDGm9zjZMcYY03uc7BhjjOk9TnaMMcb0Hic7xhhjeo+THWOMMb3HyY4xxpje42THGGNM75loOwDG9NXdu3fx/vvvo6mpSdZWXl4OqVSKt99+W66vp6cn/ud//kfDETJmODjZMdZN+vbti1u3bqGoqEjhvR9//FHuv9966y1NhcWYQeLTmIx1o/feew9CobDDfqGhoRqIhjHDxcmOsW40d+5cNDY2tttn6NChGDJkiIYiYswwcbJjrBu5u7tj+PDhEAgErb4vFArx/vvvazgqxgwPJzvGutl7770HY2PjVt9rbGxEcHCwhiNizPBwsmOsm82ePRvNzc0K7UZGRhgzZgwGDBig+aAYMzCc7BjrZk5OThg7diyMjOS/bkZGRnjvvfe0FBVjhoWTHWMa8O677yq0ERFmzJihhWgYMzyc7BjTgJkzZ8pdtzM2NsYf/vAHODg4aDEqxgwHJzvGNMDGxgaTJk2SJTwiwrx587QcFWOGg5MdYxoyb9482Y0qQqEQ06ZN03JEjBkOTnaMacjUqVNhZmYGAAgICICFhYWWI2LMcHCyY0xDzM3NZUdzfAqTMc0SEBG93JCRkYGQkBBtxcMYY4x1yStpDQAy26x6kJ6e3r3RMGaAmpqakJ6ejjlz5ijV/+zZs0hMTOTvo4pCQkIQEREBb29vbYfCNKjl+9KaNpPdrFmzui0gxgzZ9OnTIRKJlO6fmJjI30cVhYSEwNvbm/ebAWor2fE1O8Y0TJVExxhTD052jDHG9B4nO8YYY3qPkx1jjDG9x8mOMcaY3uNkx5gBOHbsGKysrPDNN99oOxS9d/LkSURFRSE7Oxtubm4QCAQQCAStVr7w8/ODVCqFsbExhg4diosXL2ohYtU1NzcjISEBPj4+Cu8dPnwYW7duRVNTkxYiaxsnO8YMQCsP2bJusGHDBiQlJWH16tUICgrCb7/9Bnd3d9jZ2eHAgQM4evSoXP/vvvsOmZmZCAgIQEFBAd544w0tRa68wsJCvPXWW1i2bBlqamoU3p86dSpEIhEmTpyIp0+faiHC1nGyY8wA+Pv7o6KiAgEBAdoOBbW1ta0eEfR0W7ZsQVpaGjIyMiCVSuXeS0pKgpGREcLCwlBRUaGlCLvuypUrWLVqFRYvXoyRI0e22W/p0qUYMWIEpkyZgsbGRg1G2DZOdowxjdq/fz9KS0u1HYZa3bhxA+vWrcPGjRtbfY7Sx8cHERERKCkpwYoVK7QQoXqMGDEC2dnZmDt3rmxR87ZER0fj8uXLbT7krWmc7BjTc2fOnIGLiwsEAgF27doFAEhJSYG5uTkkEglyc3PxzjvvwNLSEn379sXBgwdln01KSoJIJIKDgwMWLVoEJycniEQi+Pj44Pz587J+4eHhMDU1Re/evWVtH330EczNzSEQCFBWVgYAiIiIwPLly1FUVASBQAAPDw8AwLfffgtLS0ts3rxZE7tE7ZKSkkBEmDp1apt9YmNjMWjQIOzbtw8nT55sdzwiQnx8PF577TWYmZnBxsYG06ZNw6+//irro+wcAi+WqVu/fj1cXFwgFosxfPjwbl+CzsbGBuPHj0diYqJOnEbnZMeYnhs3bhx++uknubYlS5YgMjIStbW1kEqlSE9PR1FREdzc3LBw4UI0NDQAeJHE5s+fj5qaGixduhTFxcW4ePEiGhsbMWnSJNy5cwfAix/7V5fmSk5OxsaNG+XaEhMTERAQAHd3dxARbty4AQCymxla6v31NEePHoWnpyckEkmbfcRiMb744gsYGRlh4cKFqK6ubrNvdHQ0oqKisGbNGpSWluL06dO4c+cOfH198fDhQwDKzyEArFq1Ctu2bUNCQgLu37+PgIAAzJkzBz///LP6dkIrXn/9dZSUlODKlSvduh1lcLJjzMD5+PjA0tIS9vb2CA0NRXV1NW7fvi3Xx8TERHaUMWTIEKSkpKCqqgqpqalqicHf3x+VlZVYt26dWsbTpOrqaty8eRPu7u4d9vX29kZkZCSKi4uxatWqVvvU1tYiPj4eM2bMwLx582BlZQUvLy/s3r0bZWVl2LNnj8Jn2pvDuro6pKSkYPr06QgKCoK1tTXWrl0LoVCotvlry8CBAwEA+fn53bodZXCyY4zJmJqaAoDcUUFrRo0aBYlEIndazVCVlpaCiNo9qntZbGwsPD09kZycjDNnzii8X1BQgGfPnmHUqFFy7aNHj4apqanc6ePWvDqH165dQ01NDYYNGybrIxaL0bt3726fv5Z90nI0qk2c7BhjnWJmZoZHjx5pOwytq6urA4AOb9hoIRKJkJqaCoFAgAULFqC2tlbu/Zbb9VurZG9tbY2qqiqV4ms5Xbp27VrZM38CgQC3bt1q9dEBdRKLxQD+vY+0iZMdY0xlDQ0NePr0Kfr27avtULSu5QddlYeovb29sWzZMhQWFh7BLEoAACAASURBVGLTpk1y71lbWwNAq0mtM/vc3t4eAJCQkAAiknudPXtWpbFUVV9fD+Df+0ibONkxxlSWl5cHIsKYMWNkbSYmJh2e/tRHDg4OEAgEKj8/t2nTJgwePBiXLl2Sax82bBgsLCwUbh45f/486uvr8eabb6q0nX79+kEkEuHy5csqfU4dWvaJo6Ojxrf9Kk52jLEONTc3o7y8HI2Njbh69SoiIiLg4uKC+fPny/p4eHjgyZMnyMnJQUNDAx49eoRbt24pjGVra4t79+6huLgYVVVVaGhowPHjx3vsowcSiQRubm64e/euSp9rOZ1pbGys0L58+XIcOnQIBw4cQGVlJfLz87F48WI4OTkhLCxM5e188MEHOHjwIFJSUlBZWYmmpibcvXsX9+/fBwCEhobC0dFR7cuVtewTLy8vtY7bKfSK9PR0aqWZMaYF6vg+7ty5k3r37k0ASCKR0NSpUyk5OZkkEgkBoIEDB1JRURHt2bOHLC0tCQD179+frl+/TkREYWFhJBQKydnZmUxMTMjS0pKmTZtGRUVFctt5/PgxTZgwgUQiEbm6utInn3xCn376KQEgDw8Pun37NhERXbx4kfr3709isZjGjRtHDx48oGPHjpFUKqXY2Ngu/a0tAFB6erpaxlJGeHg4CYVCqqmpkbUdOnSI3N3dCQD16tWLPv7441Y/++mnn1JgYKBcW3NzM23fvp0GDhxIQqGQbGxsaPr06XTt2jVZH1Xm8Pnz57Ry5UpycXEhExMTsre3p6CgICooKCAiounTpxMAWr9+fbt/59mzZ2ns2LHk5OREAAgA9e7dm3x8fOjHH39U6O/v70/Ozs7U3Nys3I7sona+Lxmc7BjTYbrwfQwLCyNbW1utxqAqTSe7wsJCMjExoa+++kpj21SnpqYm8vX1pf3796ttzLKyMhKJRLRjxw61jdmR9pIdn8ZkjHVI11aw1zUeHh6IiYlBTEwMnj17pu1wVNLU1IScnBxUVVUhNDRUbeNGR0dj5MiRCA8PV9uYXaHTyW706NEwNjZud8HRzvrwww8hlUohEAjavXDbVj9dKpkSExODIUOGwNLSEmZmZvDw8MBnn33WqS/dq2VJWnsNGDBALXHz/DJ9EhUVheDgYISGhvaoxZ7z8vKQnZ2N48ePK/2sYEfi4+Nx+fJlHDt2DEKhUC1jdpVOJ7sLFy5gwoQJ3TL2vn37sHfv3k73Ix1Y663FqVOn8PHHH6O4uBhlZWWIi4tDYmIigoODVR7r5bIkVlZWsluUGxsbUVNTg4cPH6rtC8Hzq/tWr16N1NRUVFRUwNXVFVlZWdoOSadt3rwZ4eHh+Pzzz7UditImTpyIr7/+Wm5d067Izc3F8+fPkZeXBxsbG7WMqQ4m2g5AGQKBQNshKGgpmaILLCwsEBYWJrura9asWcjOzkZGRgbu3LmDfv36dXkbxsbGEIvFEIvFGDRoUJfHexnPr+6Ki4tDXFyctsPoUfz8/ODn56ftMLQmMDAQgYGB2g5DgU4f2bXorsNgZX9kNfFjTETIzMxsdd27jhw5ckTh9uVevXoBQLeskJCTk6PW8Xh+GWPdTS3Jrr3yEYmJiTA3N4eRkRHefPNNODo6QigUwtzcHG+88QZ8fX1lDz1aW1vjs88+Uxj/xo0bGDx4MMzNzSEWi+Hr66uwplxHJSyICNu3b4enpyfMzMxgZWWFTz/9VGFbyvTrSsmUlljj4uLg6ekJsViMXr16wdXVFXFxcQorx3dWSUkJxGIxXF1dZW3dUUaF51c788sYU5EKt262acWKFWRmZkZZWVlUXl5Oq1evJiMjI7pw4QIREW3YsIEA0Pnz56m6uprKyspo8uTJBICOHj1Kjx49ourqagoPDycAdPnyZdnYEydOJDc3N7p58yY1NDTQP//5T/qP//gPEolEsmdIlIlhzZo1JBAI6E9/+hOVl5dTTU0NJScnEwC6dOmSbBxl+925c4cA0M6dO+U+C4C+//57qqiooNLSUvL19SVzc3Oqr6+X9du8eTMZGxtTbm4u1dTU0D/+8Q9ydHSkt99+W6X93pbq6mqSSqUUHh4u137kyBGSSqUUExPT4Rju7u5kZWUl17Z06VLKz89X6Mvz233zqwuPHvRE0PCjB0w3dOtzdrW1tSSRSCg0NFTWVlNTQ2ZmZrRkyRIi+vePYVVVlazPl19+SQDkfjz/7//+jwBQWlqarG3ixIk0YsQIuW1evXqVANCKFSuUiqGmpoYkEglNmjRJbpyDBw/K/cgp24+o/R/D2tpaWVvLD+mNGzdkbaNHj6bf/e53ctv4f//v/5GRkRE9f/6cumrNmjU0aNAgqqys7PQYLQ/DvvpqL9nx/L6gzvnlZNc5nOwMU3vJrss3qHS2fERLGYrGxkZZW8u1m47W1/Py8oKVlRWuXr2qVAw3btxATU0NJk6c2O64yvZTRWslU+rq6iASieT6NTU1QSgUKlx7U9WhQ4eQkZGB7777DlKptEtjWVlZyVZgB15UmVYWz6965zcjI6PzQRqo7l7kmOme9ua8y8nu5fIRa9eulXvPycmpq8O3SSgUyn5gOoqhZX22ltW/26Jsv66aMmUKtm/fjtzcXPj5+aGgoAA5OTn44x//2KVkl5aWhvj4eOTl5aFPnz5qjPiFxMREtY/ZFp5feSEhIWqOUv8lJiZq9P9Zptu6fIOKNspHNDY24smTJ3BxcVEqhpZ/ZT9//rzdcZXt11XR0dH4/e9/j/nz58PS0hIzZszArFmzlHourC07d+7EgQMHcOrUqW5JdJrE86vo1b+bX+2/ACA9PV3rcfBLs6+Xb1p7VZeTnTbKR/zwww9obm7GG2+8oVQMw4YNg5GREX788cd2x1W2X1cVFBSgqKgIjx49QkNDA27fvo2UlJROPYBJRFi5ciXy8/ORk5PTasFHdbt//z4++OCDbhuf55cxpm5dTnbKlI/oqvr6elRUVKCxsREXL15EeHg4+vfvLysv0lEM9vb2CAoKQlZWFvbv34/KykpcvXpV4ZknZft11ccffwwXFxe1rKH3yy+/YNu2bdi7dy+EQqHC0l47duyQ9e1qGRUiQm1tLbKzs2Fpadnl2Fvw/DLGuh29ojN3f7VXPiIxMVFWhmLAgAH097//nbZs2UJWVlYEgBwdHenrr7+mtLQ0cnR0JABkY2NDBw8eJCKi1NRUmjBhAjk4OJCJiQnZ2dnR7Nmz6datW0rHQERUVVVFH374IdnZ2ZGFhQWNGzeO1q9fTwCob9++dOXKFaX7dbVkyqlTp8jOzk7uLkehUEivvfYaZWdnq7Tv8/PzW71rsuW1fft2WV9lyqi8XJakvdfatWuJiHh+u3l++W7MzgHfjWmQuMSPjklOTqaIiAi5tufPn1NkZCSZmZnJ1cRiPY8655e/j53Dyc4wdeujB0w1Dx48QHh4uML1J1NTU7i4uKChoQENDQ0Qi8VaipB1Bc8vY7qpR6yNqU/EYjGEQiH279+Phw8foqGhAffu3cO+ffuwfv16hIaG4t69e+2W2Gl5qbP2FFMPZeZXndc7GWPK4WSnYVZWVvjuu+/wz3/+E4MGDYJYLMaQIUOQmpqKLVu24Msvv8TgwYOVus02LS1N238Oe4Uy88t028mTJxEVFaVQ2/Hdd99V6Ovn5wepVApjY2MMHToUFy9e1ELEqmtubkZCQgJ8fHy6NM7WrVsxePBgiMVimJubY/DgwVi3bh0qKyvl+ilTc/Pw4cPYunVr9xUKVuGcJ2NMw/j72Dno5DW79evXU0BAgNxSe+7u7rIbjo4cOaLwmePHj1NgYGCX4tWk69ev09ixYwmAwlJ9qvL396cdO3ZQaWkpVVVVUUZGBgmFQoUl+caPH0/Jycn0+PFjqqyspPT0dBIKhTR58mS5fomJiTR+/HgqLy/vVDztXbPjIzvGWLtqa2u7fASgC9voyJYtW5CWloaMjAyFpfaSkpJgZGSEsLCwHl3n8MqVK1i1ahUWL16MkSNHdnk8U1NTfPTRR7C3t4eFhQWCg4Mxbdo0/O1vf5N79Kyl5qatrS2kUilmzZqF6dOn49tvv8WdO3dk/ZYuXYoRI0ZgypQpcksNqgMnO8ZYu/bv34/S0tIev4323LhxA+vWrcPGjRsV1jUFAB8fH0RERKCkpAQrVqzQQoTqMWLECGRnZ2Pu3LkwMzPr8niHDh1S2F/Ozs4AIHeKUpWam9HR0bh8+bLal3rjZMeYniEixMfH47XXXoOZmRlsbGwwbdo0uYXZw8PDYWpqit69e8vaPvroI5ibm0MgEKCsrAzAi8W/ly9fjqKiIggEAnh4eCApKQkikQgODg5YtGgRnJycIBKJ4OPjg/Pnz6tlG0D31F9sS1JSEogIU6dObbNPbGwsBg0ahH379uHkyZPtjqfMHKhaI7G9eo66pLCwENbW1ujfv3+7/VqruQkANjY2GD9+PBITE0FE6gtMhXOejDEN68z3cf369WRqakpfffUVPX36lK5evUpvvPEG9erVix48eCDrN3fuXHJ0dJT77Pbt2wkAPXr0SNYWFBRE7u7ucv3CwsLI3NycfvnlF6qrq6OCggIaPXo0SaVSun37tlq2oUr9xVdBxWt2bm5uNGTIkFbfc3d3p5s3bxIR0U8//URGRkY0YMAAevbsGRG1fs1O2TlQtkZiR/UcO+M//uM/unzNrkV9fT3dvXuXdu7cSWZmZvTVV1+127+tmpstoqKiFMpuKYOv2TFmIGpraxEfH48ZM2Zg3rx5sLKygpeXF3bv3o2ysjK1Lo1mYmIiO3IZMmQIUlJSUFVVhdTUVLWM7+/vj8rKSqxbt04t47WluroaN2/ehLu7e4d9vb29ERkZieLiYqxatarVPp2ZAx8fH1haWsLe3h6hoaGorq7G7du3AbwoGZWSkoLp06cjKCgI1tbWWLt2LYRCodr2dVf169cPffv2RXR0NLZt29ZhlY64uDg4OTkhNja21fcHDhwIAMjPz1dbjJzsGNMjBQUFePbsGUaNGiXXPnr0aJiamsqdZlS3UaNGQSKRtFvHUheVlpaCiCCRSJTqHxsbC09PTyQnJ+PMmTMK73d1Dl6tkdjZmqGadOfOHZSWluIvf/kLvvzyS7z++uttXoNtqbl54sSJNmtutszFw4cP1RYjJzvG9EhLsd3Wql9YW1ujqqqqW7dvZmaGR48edes21K2urg4AlL5hQyQSITU1FQKBAAsWLEBtba3c++qeg5frOb68qMStW7cUbu7QFqFQCHt7e/j5+SEtLQ0FBQWIi4tT6JeWloYtW7YgLy8PAwYMaHO8lhWGWuZGHTjZMaZHrK2tAaDVH9SnT5+ib9++3bbthoaGbt9Gd2j5YVXlYWZvb28sW7YMhYWF2LRpk9x76p4DbdQM7QoPDw8YGxujoKBArl2Vmpv19fUAoNZl9TjZMaZHhg0bBgsLC/z8889y7efPn0d9fT3efPNNWZuJiYnsVJk65OXlgYgwZsyYbttGd3BwcIBAIFD5+blNmzZh8ODBuHTpkly7KnOgDG3UDFXG48ePMWfOHIX2wsJCNDU1oV+/fgA6V3OzZS4cHR3VFi8nO8b0iEgkwvLly3Ho0CEcOHAAlZWVyM/Px+LFi+Hk5ISwsDBZXw8PDzx58gQ5OTloaGjAo0ePcOvWLYUxbW1tce/ePRQXF6OqqkqWvJqbm1FeXo7GxkZcvXoVERERcHFxkdUh7Oo2ulp/UVkSiQRubm64e/euSp9rOZ356vNjqsyBstvpqGZoaGgoHB0d1bZcmTLjmZub47vvvsOpU6dQWVmJhoYGXLp0Ce+//z7Mzc2xbNkyAKrV3GzRMhdeXl5q+XsA8KMHjOmyznwfm5ubafv27TRw4EASCoVkY2ND06dPp2vXrsn1e/z4MU2YMIFEIhG5urrSJ598Qp9++ikBIA8PD9kjBBcvXqT+/fuTWCymcePG0YMHDygsLIyEQiE5OzuTiYkJWVpa0rRp06ioqEht21Cm/mJboOKjB+Hh4SQUCuXKL71c27FXr1708ccft/rZTz/9VOHRA2XmQJUaiR3Vc5w+fToBoPXr17f7d549e5bGjh1LTk5OslqLvXv3Jh8fH/rxxx9l/ZQdb+rUqeTq6koWFhZkZmZG7u7uFBoaSvn5+bI+qtTcbOHv70/Ozs7U3Nzc7vZfxfXsGOuhdPX7GBYWRra2ttoOo02qJrvCwkIyMTHp8PkwXdXU1ES+vr60f/9+nRxPFWVlZSQSiWjHjh0qf5afs2OMqV23rU6vBR4eHoiJiUFMTIzcMlc9QVNTE3JyclBVVaWWsl/qHk9V0dHRGDlyJMLDw9U6Lic7xhgDEBUVheDgYISGhvaoxZ7z8vKQnZ2N48ePK/2soCbHU0V8fDwuX76MY8eOQSgUqnVsTnaMMZWsXr0aqampqKiogKurK7KysrQdktps3rwZ4eHh+Pzzz7UditImTpyIr7/+Wm4NUl0aT1m5ubl4/vw58vLyYGNjo/bxTdQ+ImNMr8XFxbX6wLC+8PPzg5+fn7bDMDiBgYEIDAzstvH5yI4xxpje42THGGNM73GyY4wxpvc42THGGNN7bd6gEhwcrMk4GGOtaFk2ib+PqktISEBmZqa2w2Aa1N6SbwIi+brnZ8+eRXx8fLcHxZghevDgAS5duoR33nlH26Ewprda+UdOpkKyY4x1n4yMDISEhIC/doxpVCZfs2OMMab3ONkxxhjTe5zsGGOM6T1OdowxxvQeJzvGGGN6j5MdY4wxvcfJjjHGmN7jZMcYY0zvcbJjjDGm9zjZMcYY03uc7BhjjOk9TnaMMcb0Hic7xhhjeo+THWOMMb3HyY4xxpje42THGGNM73GyY4wxpvc42THGGNN7nOwYY4zpPU52jDHG9B4nO8YYY3qPkx1jjDG9x8mOMcaY3uNkxxhjTO9xsmOMMab3ONkxxhjTe5zsGGOM6T1OdowxxvQeJzvGGGN6j5MdY4wxvcfJjjHGmN7jZMcYY0zvmWg7AMb0VUNDA549eybXVl1dDQAoLy+XaxcIBLC2ttZYbIwZGk52jHWTJ0+ewNnZGU1NTQrv2drayv33hAkTcOrUKU2FxpjB4dOYjHUTR0dHvPXWWzAyav9rJhAIMHv2bA1FxZhh4mTHWDd69913O+xjbGyMGTNmaCAaxgwXJzvGulFQUBBMTNq+WmBsbIzJkyfDzs5Og1ExZng42THWjSwtLfHOO++0mfCICPPmzdNwVIwZHk52jHWzefPmtXqTCgCYmprij3/8o4YjYszwcLJjrJv98Y9/hEQiUWgXCoWYPn06zM3NtRAVY4aFkx1j3UwkEmHGjBkQCoVy7Q0NDZg7d66WomLMsHCyY0wD5syZg4aGBrk2S0tLTJo0SUsRMWZYONkxpgF/+MMf5B4kFwqFmD17NkxNTbUYFWOGg5MdYxpgYmKC2bNny05lNjQ0YM6cOVqOijHDwcmOMQ2ZPXu27FSmo6Mjxo0bp+WIGDMcnOwY0xAfHx84OzsDAN57770OlxFjjKlPj14I+uzZs7hz5462w2BMaaNHj0ZJSQns7OyQkZGh7XAYU5qPjw/69u2r7TA6TUBEpO0gOis4OBhZWVnaDoMxxvReeno6Zs2ape0wOiuzRx/ZAcDMmTORmZmp7TBYDyMQCLT25c3KysLMmTM1vt2uCg4OBgD+vhkggUCg7RC6jC8aMKZhPTHRMdbTcbJjjDGm9zjZMcYY03uc7BhjjOk9TnaMMcb0Hic7xhhjeo+THWNdcOzYMVhZWeGbb77Rdig67+TJk4iKikJ2djbc3NwgEAggEAjw7rvvKvT18/ODVCqFsbExhg4diosXL2ohYtU1NzcjISEBPj4+XRpn69atGDx4MMRiMczNzTF48GCsW7cOlZWVcv1iYmIwZMgQWFpawszMDB4eHvjss8/w7NkzWZ/Dhw9j69atbRYQNhSc7Bjrgh68JoNGbdiwAUlJSVi9ejWCgoLw22+/wd3dHXZ2djhw4ACOHj0q1/+7775DZmYmAgICUFBQgDfeeENLkSuvsLAQb731FpYtW4aampoujfX3v/8dCxcuxO3bt/Hw4UNs2rQJW7duVXhs5dSpU/j4449RXFyMsrIyxMXFITExUfZMJABMnToVIpEIEydOxNOnT7sUV0/GyY6xLvD390dFRQUCAgK0HQpqa2u7fETRHbZs2YK0tDRkZGRAKpXKvZeUlAQjIyOEhYWhoqJCSxF23ZUrV7Bq1SosXrwYI0eO7PJ4pqam+Oijj2Bvbw8LCwsEBwdj2rRp+Nvf/ob79+/L+llYWCAsLAy2traQSqWYNWsWpk+fjm+//VZuKcWlS5dixIgRmDJlChobG7scX0/EyY4xPbF//36UlpZqOww5N27cwLp167Bx40aIRCKF9318fBAREYGSkhKsWLFCCxGqx4gRI5CdnY25c+fCzMysy+MdOnRIYX+1LCL+8inKI0eOwNjYWK5fr169AEDh6DI6OhqXL19GYmJil+PriTjZMdZJZ86cgYuLCwQCAXbt2gUASElJgbm5OSQSCXJzc/HOO+/A0tISffv2xcGDB2WfTUpKgkgkgoODAxYtWgQnJyeIRCL4+Pjg/Pnzsn7h4eEwNTVF7969ZW0fffQRzM3NIRAIUFZWBgCIiIjA8uXLUVRUBIFAAA8PDwDAt99+C0tLS2zevFkTu0RBUlISiAhTp05ts09sbCwGDRqEffv24eTJk+2OR0SIj4/Ha6+9BjMzM9jY2GDatGn49ddfZX2UnQMAaGpqwvr16+Hi4gKxWIzhw4cjPT29a390NyksLIS1tTX69+/fbr+SkhKIxWK4urrKtdvY2GD8+PFITEw0yNPvnOwY66Rx48bhp59+kmtbsmQJIiMjUVtbC6lUivT0dBQVFcHNzQ0LFy6U1bMLDw/H/PnzUVNTg6VLl6K4uBgXL15EY2MjJk2aJDsFlZSUpLB+Z3JyMjZu3CjXlpiYiICAALi7u4OIcOPGDQCQ3ZTQ3NzcLfugI0ePHoWnpyckEkmbfcRiMb744gsYGRlh4cKFqK6ubrNvdHQ0oqKisGbNGpSWluL06dO4c+cOfH198fDhQwDKzwEArFq1Ctu2bUNCQgLu37+PgIAAzJkzBz///LP6dkIXNDQ0oKSkBLt27cLJkyexc+fOdqvb19TU4NSpU1i4cGGr/V5//XWUlJTgypUr3Rm2TuJkx1g38fHxgaWlJezt7REaGorq6mrcvn1bro+JiYnsKGXIkCFISUlBVVUVUlNT1RKDv78/KisrsW7dOrWMp4rq6mrcvHkT7u7uHfb19vZGZGQkiouLsWrVqlb71NbWIj4+HjNmzMC8efNgZWUFLy8v7N69G2VlZdizZ4/CZ9qbg7q6OqSkpGD69OkICgqCtbU11q5dC6FQqLb931X9+vVD3759ER0djW3btiEkJKTd/nFxcXByckJsbGyr7w8cOBAAkJ+fr/ZYdR0nO8Y0oOVf2S8fVbRm1KhRkEgkcqfleqrS0lIQUbtHdS+LjY2Fp6cnkpOTcebMGYX3CwoK8OzZM4waNUquffTo0TA1NZU7/duaV+fg2rVrqKmpwbBhw2R9xGIxevfurTP7/86dOygtLcVf/vIXfPnll3j99dfbvC576NAhZGRk4MSJEwo3ArVomYuWo2BDwsmOMR1jZmaGR48eaTuMLqurqwMApW/YEIlESE1NhUAgwIIFC1BbWyv3fstt8xYWFgqftba2RlVVlUrxtZwuXbt2reyZP4FAgFu3bnX50QF1EQqFsLe3h5+fH9LS0lBQUIC4uDiFfmlpadiyZQvy8vIwYMCANscTi8UA/j03hoSTHWM6pKGhAU+fPu3RFaFbtPywqvIws7e3N5YtW4bCwkJs2rRJ7j1ra2sAaDWpdWaf2dvbAwASEhJARHKvs2fPqjSWJnh4eMDY2BgFBQVy7Tt37sSBAwdw6tQp9OnTp90x6uvrAfx7bgwJJzvGdEheXh6ICGPGjJG1mZiYdHj6Uxc5ODhAIBCo/Pzcpk2bMHjwYFy6dEmufdiwYbCwsFC4eeT8+fOor6/Hm2++qdJ2+vXrB5FIhMuXL6v0ue72+PFjzJkzR6G9sLAQTU1N6NevH4AXd6auXLkS+fn5yMnJafWI91Utc+Ho6KjeoHsATnaMaVFzczPKy8vR2NiIq1evIiIiAi4uLpg/f76sj4eHB548eYKcnBw0NDTg0aNHuHXrlsJYtra2uHfvHoqLi1FVVYWGhgYcP35ca48eSCQSuLm54e7duyp9ruV05qvPj4lEIixfvhyHDh3CgQMHUFlZifz8fCxevBhOTk4ICwtTeTsffPABDh48iJSUFFRWVqKpqQl3796VPbgdGhoKR0dHtS1Xpsx45ubm+O6773Dq1ClUVlaioaEBly5dwvvvvw9zc3MsW7YMAPDLL79g27Zt2Lt3L4RCodypWIFAgB07diiM3TIXXl5eavl7ehJOdox10q5duzB69GgAwMqVKxEYGIiUlBQkJCQAAIYPH47ffvsNe/fuxfLlywEAkydPRmFhoWyMuro6eHl5QSwWw9fXF4MGDcIPP/wgd51ryZIlmDBhAmbPng1PT09s2rRJdhrK29tb9pjC4sWL4eDggCFDhmDKlCl48uSJRvZDe/z9/VFQUCB3/e2vf/0rPDw8UFRUhNGjR+OTTz5R+NyYMWNkP+ov27BhA+Li4hATE4NevXph/PjxGDBgAPLy8mBubg4AKs1BYmIiIiMjsXXrVtjZ2cHJyQkREREoLy8H8OK0X2lpKXJzc9v9O8+dO4dx48ahT58+OH/+PK5cuQInJyeMHTsWp0+flvVTZjyRSISxY8fiww8/hLOzM6RSKYKDgzFgwACcO3dOdkNNZ56Vu3DhApydnTF8+HCVP9vjUQ82c+ZMmjlzprbDYD0QAEpPT9dqDGFhYWRra6vVGFTRme9bYWEhmZiY0FdffdVNUXWvjKDLkwAADs9JREFUpqYm8vX1pf379+vkeKooKysjkUhEO3bsUPmzuvB96aIMPrJjTIv0fSV6Dw8PxMTEICYmRm6Zq56gqakJOTk5qKqqQmhoqM6Np6ro6GiMHDkS4eHhGt+2LjD4ZPfhhx9CKpVCIBDo3IVqZSlbDkQZr5ZfaXmZmprCwcEBb7/9NrZv3y47zcNYR6KiohAcHIzQ0NAetdhzXl4esrOzcfz4caWfFdTkeKqIj4/H5cuXcezYMQiFQo1uW1cYfLLbt28f9u7dq+0wukTZciDKeLn8ipWVFYgIzc3NKC0tRUZGBlxdXbFy5UoMHTpUZ5ZU6olWr16N1NRUVFRUwNXVFVlZWdoOqVtt3rwZ4eHh+Pzzz7UditImTpyIr7/+Wm5dUl0aT1m5ubl4/vw58vLyYGNjo9Ft6xITbQfAuq6lHEjLKunBwcHIzMxEZmYm7t+/Dycnpy6NLxAIYG1tjbfffhtvv/02/P39ERISAn9/f1y/fh1WVlbq+DMMSlxcXKsPB+szPz8/+Pn5aTsMgxMYGIjAwEBth6F1Bn9kB7z4Me/JlC0Hoi4zZ87E/PnzUVpait27d6t9fMYYUzeDS3ZEhO3bt8PT0xNmZmawsrLCp59+qtCvvdIfqpQQ+fHHH/G73/0OEokElpaW8PLykl1L687yIq2VA1FnuZeW58COHz8ua+vp+4wxpse0fT9oV3TmVug1a9aQQCCgP/3pT1ReXk41NTWUnJxMAOjSpUuyfitWrCAzMzPKysqi8vJyWr16NRkZGdGFCxdk4wCg77//nioqKqi0tJR8fX3J3Nyc6uvriYjo2bNnZGlpSVu3bqXa2lp68OABzZgxgx49eqTUNlRVX19Pd+/epZ07d5KZmZnC7d5HjhwhqVRKMTExHY7l7u5OVlZWbb5fWVlJAKhfv36ytp60z9Dzb6XWOH7Ux3Dpwfclw6CSXU1NDUkkEpo0aZJc+8GDB+WSXW1tLUkkEgoNDZX7rJmZGS1ZsoSI/v3DXVtbK+vTkjRv3LhBRET//Oc/CQAdOXJEIRZltqEqR0dHAkB2dnb0X//1X7IE0hkdJTsiIoFAQNbW1kTU8/aZHnx5NY6TneHSg+9LhkHdoHLjxg3U1NRg4sSJ7fbrbOmPV0uIuLm5wcHBAfPmzcPSpUsxf/582Yrk3VFe5M6dO3j69CkuXbqEqKgo7NmzB6dOnYKDg0OnxmtPdXU1iAiWlpYAeuY+S0hIQGZmpsqfM1Tnzp0D8OIGKMZ6GoO6ZteyLlzLaudtUVfpD7FYjFOnTmHcuHHYvHkz3NzcEBoaitra2m4pL6JsORB1uH79OgBg8ODBAHruPmOMGQaDOrJruWPx+fPn7fZ7ufRHREREl7Y5dOhQfPPNN3j06BHi4+OxZcsWDB06VLaCgjq20Zq2yoGoy7fffgsAeOeddwD0zH0WGRmJWbNmdXkcQ9FyRMdHw4anp9+xDhjYkd2wYcNgZGSEH3/8sd1+6ir9ce/ePfzyyy8AXiSDzz//HG+88QZ++eUXtW1D2XIg6vTgwQMkJCSgb9++WLBgAYCetc8YY4bHoJKdvb09goKCkJWVhf3796OyshJXr17Fnj175PopU/pDGffu3cOiRYvw66+/or6+HpcuXcKtW7cwZswYtW1D2XIgAFQu90JEePbsGZqbm0FEePToEdLT0zF27FgYGxsjJydHds2uJ+0zxpgB0vIdMl3SmbvDqqqq6MMPPyQ7OzuysLCgcePG0fr16wkA9e3bl65cuUJERM+fP6eVK1eSi4sLmZiYkL29PQUFBVFBQQElJyeTRCIhADRw4EAqKiqiPXv2kKWlJQGg/v370/Xr16m4uJh8fHzIxsaGjI2NqU+fPrRmzRpqbGzscBuqmDp1Krm6upKFhQWZmZmRu7s7hYaGUn5+vly/Y8eOkVQqpdjY2DbHOnz4MA0fPpwkEgmZmpqSkZERAZDdefm73/2OYmJi6PHjxwqf7Un7DD3/7jKN47sxDZcefF8yBESdKIqkI/gaAussgUCA9PR0vmanAv6+GS49+L5kGtRpTMYYY4aJk50O+vXXXxVK7LT20kZNLMY66+TJk4iKilIoI/Xuu+8q9PXz84NUKoWxsTGGDh2KixcvaiFi1TU3NyMhIQE+Pj4aGe/tt99u8/fBwsICAHD48GFs3bpV72sndoSTnQ4aPHgwiKjDV1pamrZDZUwpGzZsQFJSElavXi1XRsrOzg4HDhzA0aNH5fp/9//bu7eQqLo2DuD/sRndapYjpolR6WgHSRRTysmKErxI8pCEgl5EEJOV4ylDI8XUTDFEhKSLzAsrXvKAdZHx0oVB5CdEmWYQJpqamFqZo2menu/i+/R9J01ndMY59Pwu9157rUcXe545rLWfv/9GVVUVjh8/jra2Nvj5+Rkocs21t7fj0KFDSElJ0cm+z9X2FxQUBAAICwuDIAgIDg7G8PDwquMyVZzsGDOA8fFxnb37N+QYmigoKMBff/2FBw8ewM7OTu1caWkpLCwsoFAoTKqw66/evHmD9PR0xMfHw9fXd836EwQBIyMjC94IKxQKXLp0ab5dYmIifHx8cOzYMUxPT686PlPEyY4xAygvL8fAwIDJj7GcDx8+IDMzE1evXl1QhgoA5HI5kpKS8OnTJ1y8eNEAEeqGj48PampqEBsbCysrqzXr78mTJwveQPT09ODt27c4evSo2vHs7Gw0NzejpKRk1fGZIk52jGmAiFBcXIzdu3fDysoKUqkUERERas/kVCqVsLS0VKtEff78edja2kIkEmFoaAgAkJSUhNTUVHR0dEAkEsHDwwOlpaUQBAFOTk44e/YsXFxcIAgC5HI5mpqadDIGoNsyT5ooLS0FESEsLOy3bfLy8rBjxw7cvn0bT58+XbI/TeZBm3JS5lgyqqCgAImJiQuOS6VSHD58GCUlJTDhRfgrt8Z7HXSK9/2wlYKW+4aysrLI0tKSKisraXh4mFpaWsjPz48cHR2pv79/vl1sbCw5OzurXVtUVEQA5ssUERFFRUWRTCZTa6dQKMjW1pbevXtHExMT1NbWRgEBAWRnZ0fd3d06GUObMk+/Wsn95u7uTl5eXouek8lk1NnZSUREL168IAsLC9q+fTuNjo4SEVF9fT2Fh4erXaPpPGhSTopI92W2iIj27dtHPj4+K75+Nf319vaSl5cXzczMLHo+IyNjQTkzTWh7vxihB/zJjrFljI+Po7i4GCdOnEBcXBw2btwIb29v3Lp1C0NDQwuewLMaYrF4/lOLl5cXysrKoFKpUFFRoZP+Q0NDMTIygszMTJ30t5SxsTF0dnZCJpMt2zYwMBDJycno6upCenr6om1WMg9yuRwbNmzApk2bEBMTg7GxMXR3dwMAJiYmUFZWhsjISERFRcHe3h5XrlyBRCLR2f97rRUUFCAhIQEWFou/tHt6egIAWltb1zIso8DJjrFltLW1YXR0FP7+/mrHAwICYGlpqfY1o675+/vDxsZmxWWfDGlgYABEBBsbG43a5+XlYefOnbh58yaeP3++4Pxq5+HXclL6KLNlSH19fXj06BFOnTr12zZzc/H58+c1isp4cLJjbBlzy7Xn9i39m729PVQqlV7Ht7KywuDgoF7H0IeJiQkA0HjBhiAIqKiogEgkwunTpzE+Pq52XtfzYG4lowoLC3HmzJlFFwLNsba2BvDP3PxJONkxtgx7e3sAWPTFdHh4GFu2bNHb2FNTU3ofQ1/mXli12cwcGBiIlJQUtLe3Izc3V+2crufh32Wp6Jel+42NjVr1ZWj9/f24f/8+zp07t2S7yclJAP/MzZ+Ekx1jy9izZw/Wr1+Ply9fqh1vamrC5OQk9u7dO39MLBbPf02mCw0NDSAi7N+/X29j6IuTkxNEIpHW++dyc3Oxa9cuvH79Wu24NvOgCXMqGVVYWIi4uDg4ODgs2W5uLpydndciLKPCyY6xZQiCgNTUVNTW1uLu3bsYGRlBa2sr4uPj4eLiAoVCMd/Ww8MDX79+RV1dHaampjA4OIiPHz8u6NPBwQF9fX3o6uqCSqWaT16zs7P49u0bpqen0dLSgqSkJGzdulXtd5jVjKFtmafVsLGxgbu7O3p7e7W6bu7rzHXr1i04ruk8aDrOciWjYmJi4OzsrLPHlem6P+B/v7/duXMHycnJy7admwtvb2+djW8yDLkWdLV46wFbKWi5lHp2dpaKiorI09OTJBIJSaVSioyMpPfv36u1+/LlCx05coQEQSA3NzdKSEigtLQ0AkAeHh7zWwhevXpF27ZtI2trawoKCqL+/n5SKBQkkUjI1dWVxGIxbdiwgSIiIqijo0NnY2hS5ul3VnK/KZVKkkgk9OPHj/ljtbW1JJPJCAA5OjrShQsXFr02LS1twdYDTeZB03JSRMuXjIqMjCQAlJWVteTf2djYSAcOHCAXFxcCQABo8+bNJJfL6dmzZ/PtdN0fEVFKSgrFxcUt2d+c0NBQcnV1pdnZWY3az9H2fjFCDzjZsT+SMd68CoWCHBwcDB3Gb63kfmtvbyexWEyVlZV6ikq/ZmZm6ODBg1ReXm6U/WljaGiIBEGgGzduaH2tMd4vWuJ9dowZE3N7Mr2HhwdycnKQk5OD0dFRQ4ejlZmZGdTV1UGlUumkwoiu+9NWdnY2fH19oVQq13xsY8DJjjGmVxkZGTh58iRiYmJM6mHPDQ0NqKmpQX19vcZ7BdeyP20UFxejubkZjx8/hkQiWdOxjQUnO8aMwOXLl1FRUYHv37/Dzc0N1dXVhg5Jp65duwalUonr168bOhSNBQcH4969e2rPITWm/jT18OFD/Pz5Ew0NDZBKpWs6tjERGzoAxhiQn5+P/Px8Q4ehVyEhIQgJCTF0GH+c8PBwhIeHGzoMg+NPdowxxsweJzvGGGNmj5MdY4wxs8fJjjHGmNnjZMcYY8zsmfxqzOrqaohEIkOHwUxQdHQ0oqOjDR2GyeH7jZkiERGRoYNYqcbGRvT09Bg6DMYYM3tyudwkS039X5VJJzvGGGNMA1X8mx1jjDGzx8mOMcaY2eNkxxhjzOyJAVQZOgjGGGNMj/7zX1HrYlkphNtjAAAAAElFTkSuQmCC\n",
            "text/plain": [
              "<IPython.core.display.Image object>"
            ]
          },
          "metadata": {
            "tags": []
          },
          "execution_count": 35
        }
      ]
    },
    {
      "cell_type": "code",
      "metadata": {
        "id": "osPj0nQfkvG2"
      },
      "source": [
        "# 모델 loss, optimizer, metric 정의\n",
        "model.compile(loss='sparse_categorical_crossentropy', optimizer='adam', metrics=['accuracy'])"
      ],
      "execution_count": 36,
      "outputs": []
    },
    {
      "cell_type": "code",
      "metadata": {
        "id": "TOF7EXM6lcGT",
        "colab": {
          "base_uri": "https://localhost:8080/",
          "height": 1000
        },
        "outputId": "691f89b9-3858-412b-e2ef-a973072ec9b5"
      },
      "source": [
        "plot_embdeeding(V, word_to_id)"
      ],
      "execution_count": 37,
      "outputs": [
        {
          "output_type": "stream",
          "text": [
            "findfont: Font family ['NanumBarunGothic'] not found. Falling back to DejaVu Sans.\n",
            "/usr/local/lib/python3.6/dist-packages/matplotlib/backends/backend_agg.py:214: RuntimeWarning: Glyph 49688 missing from current font.\n",
            "  font.set_text(s, 0.0, flags=flags)\n",
            "/usr/local/lib/python3.6/dist-packages/matplotlib/backends/backend_agg.py:214: RuntimeWarning: Glyph 54617 missing from current font.\n",
            "  font.set_text(s, 0.0, flags=flags)\n",
            "/usr/local/lib/python3.6/dist-packages/matplotlib/backends/backend_agg.py:214: RuntimeWarning: Glyph 51008 missing from current font.\n",
            "  font.set_text(s, 0.0, flags=flags)\n",
            "/usr/local/lib/python3.6/dist-packages/matplotlib/backends/backend_agg.py:214: RuntimeWarning: Glyph 49885 missing from current font.\n",
            "  font.set_text(s, 0.0, flags=flags)\n",
            "/usr/local/lib/python3.6/dist-packages/matplotlib/backends/backend_agg.py:214: RuntimeWarning: Glyph 51060 missing from current font.\n",
            "  font.set_text(s, 0.0, flags=flags)\n",
            "/usr/local/lib/python3.6/dist-packages/matplotlib/backends/backend_agg.py:214: RuntimeWarning: Glyph 48373 missing from current font.\n",
            "  font.set_text(s, 0.0, flags=flags)\n",
            "/usr/local/lib/python3.6/dist-packages/matplotlib/backends/backend_agg.py:214: RuntimeWarning: Glyph 51105 missing from current font.\n",
            "  font.set_text(s, 0.0, flags=flags)\n",
            "/usr/local/lib/python3.6/dist-packages/matplotlib/backends/backend_agg.py:214: RuntimeWarning: Glyph 54644 missing from current font.\n",
            "  font.set_text(s, 0.0, flags=flags)\n",
            "/usr/local/lib/python3.6/dist-packages/matplotlib/backends/backend_agg.py:214: RuntimeWarning: Glyph 49436 missing from current font.\n",
            "  font.set_text(s, 0.0, flags=flags)\n",
            "/usr/local/lib/python3.6/dist-packages/matplotlib/backends/backend_agg.py:214: RuntimeWarning: Glyph 50612 missing from current font.\n",
            "  font.set_text(s, 0.0, flags=flags)\n",
            "/usr/local/lib/python3.6/dist-packages/matplotlib/backends/backend_agg.py:214: RuntimeWarning: Glyph 47157 missing from current font.\n",
            "  font.set_text(s, 0.0, flags=flags)\n",
            "/usr/local/lib/python3.6/dist-packages/matplotlib/backends/backend_agg.py:214: RuntimeWarning: Glyph 45796 missing from current font.\n",
            "  font.set_text(s, 0.0, flags=flags)\n",
            "/usr/local/lib/python3.6/dist-packages/matplotlib/backends/backend_agg.py:214: RuntimeWarning: Glyph 44277 missing from current font.\n",
            "  font.set_text(s, 0.0, flags=flags)\n",
            "/usr/local/lib/python3.6/dist-packages/matplotlib/backends/backend_agg.py:214: RuntimeWarning: Glyph 47566 missing from current font.\n",
            "  font.set_text(s, 0.0, flags=flags)\n",
            "/usr/local/lib/python3.6/dist-packages/matplotlib/backends/backend_agg.py:214: RuntimeWarning: Glyph 50500 missing from current font.\n",
            "  font.set_text(s, 0.0, flags=flags)\n",
            "/usr/local/lib/python3.6/dist-packages/matplotlib/backends/backend_agg.py:214: RuntimeWarning: Glyph 46104 missing from current font.\n",
            "  font.set_text(s, 0.0, flags=flags)\n",
            "/usr/local/lib/python3.6/dist-packages/matplotlib/backends/backend_agg.py:214: RuntimeWarning: Glyph 47732 missing from current font.\n",
            "  font.set_text(s, 0.0, flags=flags)\n",
            "/usr/local/lib/python3.6/dist-packages/matplotlib/backends/backend_agg.py:214: RuntimeWarning: Glyph 49789 missing from current font.\n",
            "  font.set_text(s, 0.0, flags=flags)\n",
            "/usr/local/lib/python3.6/dist-packages/matplotlib/backends/backend_agg.py:214: RuntimeWarning: Glyph 45733 missing from current font.\n",
            "  font.set_text(s, 0.0, flags=flags)\n",
            "/usr/local/lib/python3.6/dist-packages/matplotlib/backends/backend_agg.py:214: RuntimeWarning: Glyph 53685 missing from current font.\n",
            "  font.set_text(s, 0.0, flags=flags)\n",
            "/usr/local/lib/python3.6/dist-packages/matplotlib/backends/backend_agg.py:214: RuntimeWarning: Glyph 54616 missing from current font.\n",
            "  font.set_text(s, 0.0, flags=flags)\n",
            "/usr/local/lib/python3.6/dist-packages/matplotlib/backends/backend_agg.py:214: RuntimeWarning: Glyph 50689 missing from current font.\n",
            "  font.set_text(s, 0.0, flags=flags)\n",
            "/usr/local/lib/python3.6/dist-packages/matplotlib/backends/backend_agg.py:214: RuntimeWarning: Glyph 45716 missing from current font.\n",
            "  font.set_text(s, 0.0, flags=flags)\n",
            "/usr/local/lib/python3.6/dist-packages/matplotlib/backends/backend_agg.py:214: RuntimeWarning: Glyph 45800 missing from current font.\n",
            "  font.set_text(s, 0.0, flags=flags)\n",
            "/usr/local/lib/python3.6/dist-packages/matplotlib/backends/backend_agg.py:214: RuntimeWarning: Glyph 44032 missing from current font.\n",
            "  font.set_text(s, 0.0, flags=flags)\n",
            "/usr/local/lib/python3.6/dist-packages/matplotlib/backends/backend_agg.py:214: RuntimeWarning: Glyph 46307 missing from current font.\n",
            "  font.set_text(s, 0.0, flags=flags)\n",
            "/usr/local/lib/python3.6/dist-packages/matplotlib/backends/backend_agg.py:214: RuntimeWarning: Glyph 44592 missing from current font.\n",
            "  font.set_text(s, 0.0, flags=flags)\n",
            "/usr/local/lib/python3.6/dist-packages/matplotlib/backends/backend_agg.py:214: RuntimeWarning: Glyph 44397 missing from current font.\n",
            "  font.set_text(s, 0.0, flags=flags)\n",
            "/usr/local/lib/python3.6/dist-packages/matplotlib/backends/backend_agg.py:214: RuntimeWarning: Glyph 51648 missing from current font.\n",
            "  font.set_text(s, 0.0, flags=flags)\n",
            "/usr/local/lib/python3.6/dist-packages/matplotlib/backends/backend_agg.py:214: RuntimeWarning: Glyph 47928 missing from current font.\n",
            "  font.set_text(s, 0.0, flags=flags)\n",
            "/usr/local/lib/python3.6/dist-packages/matplotlib/backends/backend_agg.py:214: RuntimeWarning: Glyph 54620 missing from current font.\n",
            "  font.set_text(s, 0.0, flags=flags)\n",
            "/usr/local/lib/python3.6/dist-packages/matplotlib/backends/backend_agg.py:183: RuntimeWarning: Glyph 49688 missing from current font.\n",
            "  font.set_text(s, 0, flags=flags)\n",
            "/usr/local/lib/python3.6/dist-packages/matplotlib/backends/backend_agg.py:183: RuntimeWarning: Glyph 54617 missing from current font.\n",
            "  font.set_text(s, 0, flags=flags)\n",
            "/usr/local/lib/python3.6/dist-packages/matplotlib/backends/backend_agg.py:183: RuntimeWarning: Glyph 51008 missing from current font.\n",
            "  font.set_text(s, 0, flags=flags)\n",
            "/usr/local/lib/python3.6/dist-packages/matplotlib/backends/backend_agg.py:183: RuntimeWarning: Glyph 49885 missing from current font.\n",
            "  font.set_text(s, 0, flags=flags)\n",
            "/usr/local/lib/python3.6/dist-packages/matplotlib/backends/backend_agg.py:183: RuntimeWarning: Glyph 51060 missing from current font.\n",
            "  font.set_text(s, 0, flags=flags)\n",
            "/usr/local/lib/python3.6/dist-packages/matplotlib/backends/backend_agg.py:183: RuntimeWarning: Glyph 48373 missing from current font.\n",
            "  font.set_text(s, 0, flags=flags)\n",
            "/usr/local/lib/python3.6/dist-packages/matplotlib/backends/backend_agg.py:183: RuntimeWarning: Glyph 51105 missing from current font.\n",
            "  font.set_text(s, 0, flags=flags)\n",
            "/usr/local/lib/python3.6/dist-packages/matplotlib/backends/backend_agg.py:183: RuntimeWarning: Glyph 54644 missing from current font.\n",
            "  font.set_text(s, 0, flags=flags)\n",
            "/usr/local/lib/python3.6/dist-packages/matplotlib/backends/backend_agg.py:183: RuntimeWarning: Glyph 49436 missing from current font.\n",
            "  font.set_text(s, 0, flags=flags)\n",
            "/usr/local/lib/python3.6/dist-packages/matplotlib/backends/backend_agg.py:183: RuntimeWarning: Glyph 50612 missing from current font.\n",
            "  font.set_text(s, 0, flags=flags)\n",
            "/usr/local/lib/python3.6/dist-packages/matplotlib/backends/backend_agg.py:183: RuntimeWarning: Glyph 47157 missing from current font.\n",
            "  font.set_text(s, 0, flags=flags)\n",
            "/usr/local/lib/python3.6/dist-packages/matplotlib/backends/backend_agg.py:183: RuntimeWarning: Glyph 45796 missing from current font.\n",
            "  font.set_text(s, 0, flags=flags)\n",
            "/usr/local/lib/python3.6/dist-packages/matplotlib/backends/backend_agg.py:183: RuntimeWarning: Glyph 44277 missing from current font.\n",
            "  font.set_text(s, 0, flags=flags)\n",
            "/usr/local/lib/python3.6/dist-packages/matplotlib/backends/backend_agg.py:183: RuntimeWarning: Glyph 47566 missing from current font.\n",
            "  font.set_text(s, 0, flags=flags)\n",
            "/usr/local/lib/python3.6/dist-packages/matplotlib/backends/backend_agg.py:183: RuntimeWarning: Glyph 50500 missing from current font.\n",
            "  font.set_text(s, 0, flags=flags)\n",
            "/usr/local/lib/python3.6/dist-packages/matplotlib/backends/backend_agg.py:183: RuntimeWarning: Glyph 46104 missing from current font.\n",
            "  font.set_text(s, 0, flags=flags)\n",
            "/usr/local/lib/python3.6/dist-packages/matplotlib/backends/backend_agg.py:183: RuntimeWarning: Glyph 47732 missing from current font.\n",
            "  font.set_text(s, 0, flags=flags)\n",
            "/usr/local/lib/python3.6/dist-packages/matplotlib/backends/backend_agg.py:183: RuntimeWarning: Glyph 49789 missing from current font.\n",
            "  font.set_text(s, 0, flags=flags)\n",
            "/usr/local/lib/python3.6/dist-packages/matplotlib/backends/backend_agg.py:183: RuntimeWarning: Glyph 45733 missing from current font.\n",
            "  font.set_text(s, 0, flags=flags)\n",
            "/usr/local/lib/python3.6/dist-packages/matplotlib/backends/backend_agg.py:183: RuntimeWarning: Glyph 53685 missing from current font.\n",
            "  font.set_text(s, 0, flags=flags)\n",
            "/usr/local/lib/python3.6/dist-packages/matplotlib/backends/backend_agg.py:183: RuntimeWarning: Glyph 54616 missing from current font.\n",
            "  font.set_text(s, 0, flags=flags)\n",
            "/usr/local/lib/python3.6/dist-packages/matplotlib/backends/backend_agg.py:183: RuntimeWarning: Glyph 50689 missing from current font.\n",
            "  font.set_text(s, 0, flags=flags)\n",
            "/usr/local/lib/python3.6/dist-packages/matplotlib/backends/backend_agg.py:183: RuntimeWarning: Glyph 45716 missing from current font.\n",
            "  font.set_text(s, 0, flags=flags)\n",
            "/usr/local/lib/python3.6/dist-packages/matplotlib/backends/backend_agg.py:183: RuntimeWarning: Glyph 45800 missing from current font.\n",
            "  font.set_text(s, 0, flags=flags)\n",
            "/usr/local/lib/python3.6/dist-packages/matplotlib/backends/backend_agg.py:183: RuntimeWarning: Glyph 44032 missing from current font.\n",
            "  font.set_text(s, 0, flags=flags)\n",
            "/usr/local/lib/python3.6/dist-packages/matplotlib/backends/backend_agg.py:183: RuntimeWarning: Glyph 46307 missing from current font.\n",
            "  font.set_text(s, 0, flags=flags)\n",
            "/usr/local/lib/python3.6/dist-packages/matplotlib/backends/backend_agg.py:183: RuntimeWarning: Glyph 44592 missing from current font.\n",
            "  font.set_text(s, 0, flags=flags)\n",
            "/usr/local/lib/python3.6/dist-packages/matplotlib/backends/backend_agg.py:183: RuntimeWarning: Glyph 44397 missing from current font.\n",
            "  font.set_text(s, 0, flags=flags)\n",
            "/usr/local/lib/python3.6/dist-packages/matplotlib/backends/backend_agg.py:183: RuntimeWarning: Glyph 51648 missing from current font.\n",
            "  font.set_text(s, 0, flags=flags)\n",
            "/usr/local/lib/python3.6/dist-packages/matplotlib/backends/backend_agg.py:183: RuntimeWarning: Glyph 47928 missing from current font.\n",
            "  font.set_text(s, 0, flags=flags)\n",
            "/usr/local/lib/python3.6/dist-packages/matplotlib/backends/backend_agg.py:183: RuntimeWarning: Glyph 54620 missing from current font.\n",
            "  font.set_text(s, 0, flags=flags)\n"
          ],
          "name": "stderr"
        },
        {
          "output_type": "display_data",
          "data": {
            "image/png": "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\n",
            "text/plain": [
              "<Figure size 576x576 with 1 Axes>"
            ]
          },
          "metadata": {
            "tags": [],
            "needs_background": "light"
          }
        }
      ]
    },
    {
      "cell_type": "code",
      "metadata": {
        "id": "BrIj0Y5_mdxC",
        "colab": {
          "base_uri": "https://localhost:8080/",
          "height": 1000
        },
        "outputId": "7db23e5f-fb17-4666-bea8-5b0d4d1f32c5"
      },
      "source": [
        "epochs = 100\n",
        "# 20번 반복 진행\n",
        "for i in range(20):\n",
        "    # epoch 학습 진행 후 vector를 화면에 출력\n",
        "    model.fit(train_token_ids, train_label_ids, batch_size=512, epochs=epochs, verbose=0)\n",
        "    print(f\"training >>> {(i+1) * epochs}\")\n",
        "    plot_embdeeding(V, word_to_id)"
      ],
      "execution_count": 38,
      "outputs": [
        {
          "output_type": "stream",
          "text": [
            "training >>> 100\n"
          ],
          "name": "stdout"
        },
        {
          "output_type": "stream",
          "text": [
            "/usr/local/lib/python3.6/dist-packages/matplotlib/backends/backend_agg.py:214: RuntimeWarning: Glyph 49688 missing from current font.\n",
            "  font.set_text(s, 0.0, flags=flags)\n",
            "/usr/local/lib/python3.6/dist-packages/matplotlib/backends/backend_agg.py:214: RuntimeWarning: Glyph 54617 missing from current font.\n",
            "  font.set_text(s, 0.0, flags=flags)\n",
            "/usr/local/lib/python3.6/dist-packages/matplotlib/backends/backend_agg.py:214: RuntimeWarning: Glyph 51008 missing from current font.\n",
            "  font.set_text(s, 0.0, flags=flags)\n",
            "/usr/local/lib/python3.6/dist-packages/matplotlib/backends/backend_agg.py:214: RuntimeWarning: Glyph 49885 missing from current font.\n",
            "  font.set_text(s, 0.0, flags=flags)\n",
            "/usr/local/lib/python3.6/dist-packages/matplotlib/backends/backend_agg.py:214: RuntimeWarning: Glyph 51060 missing from current font.\n",
            "  font.set_text(s, 0.0, flags=flags)\n",
            "/usr/local/lib/python3.6/dist-packages/matplotlib/backends/backend_agg.py:214: RuntimeWarning: Glyph 48373 missing from current font.\n",
            "  font.set_text(s, 0.0, flags=flags)\n",
            "/usr/local/lib/python3.6/dist-packages/matplotlib/backends/backend_agg.py:214: RuntimeWarning: Glyph 51105 missing from current font.\n",
            "  font.set_text(s, 0.0, flags=flags)\n",
            "/usr/local/lib/python3.6/dist-packages/matplotlib/backends/backend_agg.py:214: RuntimeWarning: Glyph 54644 missing from current font.\n",
            "  font.set_text(s, 0.0, flags=flags)\n",
            "/usr/local/lib/python3.6/dist-packages/matplotlib/backends/backend_agg.py:214: RuntimeWarning: Glyph 49436 missing from current font.\n",
            "  font.set_text(s, 0.0, flags=flags)\n",
            "/usr/local/lib/python3.6/dist-packages/matplotlib/backends/backend_agg.py:214: RuntimeWarning: Glyph 50612 missing from current font.\n",
            "  font.set_text(s, 0.0, flags=flags)\n",
            "/usr/local/lib/python3.6/dist-packages/matplotlib/backends/backend_agg.py:214: RuntimeWarning: Glyph 47157 missing from current font.\n",
            "  font.set_text(s, 0.0, flags=flags)\n",
            "/usr/local/lib/python3.6/dist-packages/matplotlib/backends/backend_agg.py:214: RuntimeWarning: Glyph 45796 missing from current font.\n",
            "  font.set_text(s, 0.0, flags=flags)\n",
            "/usr/local/lib/python3.6/dist-packages/matplotlib/backends/backend_agg.py:214: RuntimeWarning: Glyph 44277 missing from current font.\n",
            "  font.set_text(s, 0.0, flags=flags)\n",
            "/usr/local/lib/python3.6/dist-packages/matplotlib/backends/backend_agg.py:214: RuntimeWarning: Glyph 47566 missing from current font.\n",
            "  font.set_text(s, 0.0, flags=flags)\n",
            "/usr/local/lib/python3.6/dist-packages/matplotlib/backends/backend_agg.py:214: RuntimeWarning: Glyph 50500 missing from current font.\n",
            "  font.set_text(s, 0.0, flags=flags)\n",
            "/usr/local/lib/python3.6/dist-packages/matplotlib/backends/backend_agg.py:214: RuntimeWarning: Glyph 46104 missing from current font.\n",
            "  font.set_text(s, 0.0, flags=flags)\n",
            "/usr/local/lib/python3.6/dist-packages/matplotlib/backends/backend_agg.py:214: RuntimeWarning: Glyph 47732 missing from current font.\n",
            "  font.set_text(s, 0.0, flags=flags)\n",
            "/usr/local/lib/python3.6/dist-packages/matplotlib/backends/backend_agg.py:214: RuntimeWarning: Glyph 49789 missing from current font.\n",
            "  font.set_text(s, 0.0, flags=flags)\n",
            "/usr/local/lib/python3.6/dist-packages/matplotlib/backends/backend_agg.py:214: RuntimeWarning: Glyph 45733 missing from current font.\n",
            "  font.set_text(s, 0.0, flags=flags)\n",
            "/usr/local/lib/python3.6/dist-packages/matplotlib/backends/backend_agg.py:214: RuntimeWarning: Glyph 53685 missing from current font.\n",
            "  font.set_text(s, 0.0, flags=flags)\n",
            "/usr/local/lib/python3.6/dist-packages/matplotlib/backends/backend_agg.py:214: RuntimeWarning: Glyph 54616 missing from current font.\n",
            "  font.set_text(s, 0.0, flags=flags)\n",
            "/usr/local/lib/python3.6/dist-packages/matplotlib/backends/backend_agg.py:214: RuntimeWarning: Glyph 50689 missing from current font.\n",
            "  font.set_text(s, 0.0, flags=flags)\n",
            "/usr/local/lib/python3.6/dist-packages/matplotlib/backends/backend_agg.py:214: RuntimeWarning: Glyph 45716 missing from current font.\n",
            "  font.set_text(s, 0.0, flags=flags)\n",
            "/usr/local/lib/python3.6/dist-packages/matplotlib/backends/backend_agg.py:214: RuntimeWarning: Glyph 45800 missing from current font.\n",
            "  font.set_text(s, 0.0, flags=flags)\n",
            "/usr/local/lib/python3.6/dist-packages/matplotlib/backends/backend_agg.py:214: RuntimeWarning: Glyph 44032 missing from current font.\n",
            "  font.set_text(s, 0.0, flags=flags)\n",
            "/usr/local/lib/python3.6/dist-packages/matplotlib/backends/backend_agg.py:214: RuntimeWarning: Glyph 46307 missing from current font.\n",
            "  font.set_text(s, 0.0, flags=flags)\n",
            "/usr/local/lib/python3.6/dist-packages/matplotlib/backends/backend_agg.py:214: RuntimeWarning: Glyph 44592 missing from current font.\n",
            "  font.set_text(s, 0.0, flags=flags)\n",
            "/usr/local/lib/python3.6/dist-packages/matplotlib/backends/backend_agg.py:214: RuntimeWarning: Glyph 44397 missing from current font.\n",
            "  font.set_text(s, 0.0, flags=flags)\n",
            "/usr/local/lib/python3.6/dist-packages/matplotlib/backends/backend_agg.py:214: RuntimeWarning: Glyph 51648 missing from current font.\n",
            "  font.set_text(s, 0.0, flags=flags)\n",
            "/usr/local/lib/python3.6/dist-packages/matplotlib/backends/backend_agg.py:214: RuntimeWarning: Glyph 47928 missing from current font.\n",
            "  font.set_text(s, 0.0, flags=flags)\n",
            "/usr/local/lib/python3.6/dist-packages/matplotlib/backends/backend_agg.py:214: RuntimeWarning: Glyph 54620 missing from current font.\n",
            "  font.set_text(s, 0.0, flags=flags)\n",
            "/usr/local/lib/python3.6/dist-packages/matplotlib/backends/backend_agg.py:183: RuntimeWarning: Glyph 49688 missing from current font.\n",
            "  font.set_text(s, 0, flags=flags)\n",
            "/usr/local/lib/python3.6/dist-packages/matplotlib/backends/backend_agg.py:183: RuntimeWarning: Glyph 54617 missing from current font.\n",
            "  font.set_text(s, 0, flags=flags)\n",
            "/usr/local/lib/python3.6/dist-packages/matplotlib/backends/backend_agg.py:183: RuntimeWarning: Glyph 51008 missing from current font.\n",
            "  font.set_text(s, 0, flags=flags)\n",
            "/usr/local/lib/python3.6/dist-packages/matplotlib/backends/backend_agg.py:183: RuntimeWarning: Glyph 49885 missing from current font.\n",
            "  font.set_text(s, 0, flags=flags)\n",
            "/usr/local/lib/python3.6/dist-packages/matplotlib/backends/backend_agg.py:183: RuntimeWarning: Glyph 51060 missing from current font.\n",
            "  font.set_text(s, 0, flags=flags)\n",
            "/usr/local/lib/python3.6/dist-packages/matplotlib/backends/backend_agg.py:183: RuntimeWarning: Glyph 48373 missing from current font.\n",
            "  font.set_text(s, 0, flags=flags)\n",
            "/usr/local/lib/python3.6/dist-packages/matplotlib/backends/backend_agg.py:183: RuntimeWarning: Glyph 51105 missing from current font.\n",
            "  font.set_text(s, 0, flags=flags)\n",
            "/usr/local/lib/python3.6/dist-packages/matplotlib/backends/backend_agg.py:183: RuntimeWarning: Glyph 54644 missing from current font.\n",
            "  font.set_text(s, 0, flags=flags)\n",
            "/usr/local/lib/python3.6/dist-packages/matplotlib/backends/backend_agg.py:183: RuntimeWarning: Glyph 49436 missing from current font.\n",
            "  font.set_text(s, 0, flags=flags)\n",
            "/usr/local/lib/python3.6/dist-packages/matplotlib/backends/backend_agg.py:183: RuntimeWarning: Glyph 50612 missing from current font.\n",
            "  font.set_text(s, 0, flags=flags)\n",
            "/usr/local/lib/python3.6/dist-packages/matplotlib/backends/backend_agg.py:183: RuntimeWarning: Glyph 47157 missing from current font.\n",
            "  font.set_text(s, 0, flags=flags)\n",
            "/usr/local/lib/python3.6/dist-packages/matplotlib/backends/backend_agg.py:183: RuntimeWarning: Glyph 45796 missing from current font.\n",
            "  font.set_text(s, 0, flags=flags)\n",
            "/usr/local/lib/python3.6/dist-packages/matplotlib/backends/backend_agg.py:183: RuntimeWarning: Glyph 44277 missing from current font.\n",
            "  font.set_text(s, 0, flags=flags)\n",
            "/usr/local/lib/python3.6/dist-packages/matplotlib/backends/backend_agg.py:183: RuntimeWarning: Glyph 47566 missing from current font.\n",
            "  font.set_text(s, 0, flags=flags)\n",
            "/usr/local/lib/python3.6/dist-packages/matplotlib/backends/backend_agg.py:183: RuntimeWarning: Glyph 50500 missing from current font.\n",
            "  font.set_text(s, 0, flags=flags)\n",
            "/usr/local/lib/python3.6/dist-packages/matplotlib/backends/backend_agg.py:183: RuntimeWarning: Glyph 46104 missing from current font.\n",
            "  font.set_text(s, 0, flags=flags)\n",
            "/usr/local/lib/python3.6/dist-packages/matplotlib/backends/backend_agg.py:183: RuntimeWarning: Glyph 47732 missing from current font.\n",
            "  font.set_text(s, 0, flags=flags)\n",
            "/usr/local/lib/python3.6/dist-packages/matplotlib/backends/backend_agg.py:183: RuntimeWarning: Glyph 49789 missing from current font.\n",
            "  font.set_text(s, 0, flags=flags)\n",
            "/usr/local/lib/python3.6/dist-packages/matplotlib/backends/backend_agg.py:183: RuntimeWarning: Glyph 45733 missing from current font.\n",
            "  font.set_text(s, 0, flags=flags)\n",
            "/usr/local/lib/python3.6/dist-packages/matplotlib/backends/backend_agg.py:183: RuntimeWarning: Glyph 53685 missing from current font.\n",
            "  font.set_text(s, 0, flags=flags)\n",
            "/usr/local/lib/python3.6/dist-packages/matplotlib/backends/backend_agg.py:183: RuntimeWarning: Glyph 54616 missing from current font.\n",
            "  font.set_text(s, 0, flags=flags)\n",
            "/usr/local/lib/python3.6/dist-packages/matplotlib/backends/backend_agg.py:183: RuntimeWarning: Glyph 50689 missing from current font.\n",
            "  font.set_text(s, 0, flags=flags)\n",
            "/usr/local/lib/python3.6/dist-packages/matplotlib/backends/backend_agg.py:183: RuntimeWarning: Glyph 45716 missing from current font.\n",
            "  font.set_text(s, 0, flags=flags)\n",
            "/usr/local/lib/python3.6/dist-packages/matplotlib/backends/backend_agg.py:183: RuntimeWarning: Glyph 45800 missing from current font.\n",
            "  font.set_text(s, 0, flags=flags)\n",
            "/usr/local/lib/python3.6/dist-packages/matplotlib/backends/backend_agg.py:183: RuntimeWarning: Glyph 44032 missing from current font.\n",
            "  font.set_text(s, 0, flags=flags)\n",
            "/usr/local/lib/python3.6/dist-packages/matplotlib/backends/backend_agg.py:183: RuntimeWarning: Glyph 46307 missing from current font.\n",
            "  font.set_text(s, 0, flags=flags)\n",
            "/usr/local/lib/python3.6/dist-packages/matplotlib/backends/backend_agg.py:183: RuntimeWarning: Glyph 44592 missing from current font.\n",
            "  font.set_text(s, 0, flags=flags)\n",
            "/usr/local/lib/python3.6/dist-packages/matplotlib/backends/backend_agg.py:183: RuntimeWarning: Glyph 44397 missing from current font.\n",
            "  font.set_text(s, 0, flags=flags)\n",
            "/usr/local/lib/python3.6/dist-packages/matplotlib/backends/backend_agg.py:183: RuntimeWarning: Glyph 51648 missing from current font.\n",
            "  font.set_text(s, 0, flags=flags)\n",
            "/usr/local/lib/python3.6/dist-packages/matplotlib/backends/backend_agg.py:183: RuntimeWarning: Glyph 47928 missing from current font.\n",
            "  font.set_text(s, 0, flags=flags)\n",
            "/usr/local/lib/python3.6/dist-packages/matplotlib/backends/backend_agg.py:183: RuntimeWarning: Glyph 54620 missing from current font.\n",
            "  font.set_text(s, 0, flags=flags)\n"
          ],
          "name": "stderr"
        },
        {
          "output_type": "display_data",
          "data": {
            "image/png": "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\n",
            "text/plain": [
              "<Figure size 576x576 with 1 Axes>"
            ]
          },
          "metadata": {
            "tags": [],
            "needs_background": "light"
          }
        },
        {
          "output_type": "stream",
          "text": [
            "training >>> 200\n"
          ],
          "name": "stdout"
        },
        {
          "output_type": "stream",
          "text": [
            "/usr/local/lib/python3.6/dist-packages/matplotlib/backends/backend_agg.py:214: RuntimeWarning: Glyph 49688 missing from current font.\n",
            "  font.set_text(s, 0.0, flags=flags)\n",
            "/usr/local/lib/python3.6/dist-packages/matplotlib/backends/backend_agg.py:214: RuntimeWarning: Glyph 54617 missing from current font.\n",
            "  font.set_text(s, 0.0, flags=flags)\n",
            "/usr/local/lib/python3.6/dist-packages/matplotlib/backends/backend_agg.py:214: RuntimeWarning: Glyph 51008 missing from current font.\n",
            "  font.set_text(s, 0.0, flags=flags)\n",
            "/usr/local/lib/python3.6/dist-packages/matplotlib/backends/backend_agg.py:214: RuntimeWarning: Glyph 49885 missing from current font.\n",
            "  font.set_text(s, 0.0, flags=flags)\n",
            "/usr/local/lib/python3.6/dist-packages/matplotlib/backends/backend_agg.py:214: RuntimeWarning: Glyph 51060 missing from current font.\n",
            "  font.set_text(s, 0.0, flags=flags)\n",
            "/usr/local/lib/python3.6/dist-packages/matplotlib/backends/backend_agg.py:214: RuntimeWarning: Glyph 48373 missing from current font.\n",
            "  font.set_text(s, 0.0, flags=flags)\n",
            "/usr/local/lib/python3.6/dist-packages/matplotlib/backends/backend_agg.py:214: RuntimeWarning: Glyph 51105 missing from current font.\n",
            "  font.set_text(s, 0.0, flags=flags)\n",
            "/usr/local/lib/python3.6/dist-packages/matplotlib/backends/backend_agg.py:214: RuntimeWarning: Glyph 54644 missing from current font.\n",
            "  font.set_text(s, 0.0, flags=flags)\n",
            "/usr/local/lib/python3.6/dist-packages/matplotlib/backends/backend_agg.py:214: RuntimeWarning: Glyph 49436 missing from current font.\n",
            "  font.set_text(s, 0.0, flags=flags)\n",
            "/usr/local/lib/python3.6/dist-packages/matplotlib/backends/backend_agg.py:214: RuntimeWarning: Glyph 50612 missing from current font.\n",
            "  font.set_text(s, 0.0, flags=flags)\n",
            "/usr/local/lib/python3.6/dist-packages/matplotlib/backends/backend_agg.py:214: RuntimeWarning: Glyph 47157 missing from current font.\n",
            "  font.set_text(s, 0.0, flags=flags)\n",
            "/usr/local/lib/python3.6/dist-packages/matplotlib/backends/backend_agg.py:214: RuntimeWarning: Glyph 45796 missing from current font.\n",
            "  font.set_text(s, 0.0, flags=flags)\n",
            "/usr/local/lib/python3.6/dist-packages/matplotlib/backends/backend_agg.py:214: RuntimeWarning: Glyph 44277 missing from current font.\n",
            "  font.set_text(s, 0.0, flags=flags)\n",
            "/usr/local/lib/python3.6/dist-packages/matplotlib/backends/backend_agg.py:214: RuntimeWarning: Glyph 47566 missing from current font.\n",
            "  font.set_text(s, 0.0, flags=flags)\n",
            "/usr/local/lib/python3.6/dist-packages/matplotlib/backends/backend_agg.py:214: RuntimeWarning: Glyph 50500 missing from current font.\n",
            "  font.set_text(s, 0.0, flags=flags)\n",
            "/usr/local/lib/python3.6/dist-packages/matplotlib/backends/backend_agg.py:214: RuntimeWarning: Glyph 46104 missing from current font.\n",
            "  font.set_text(s, 0.0, flags=flags)\n",
            "/usr/local/lib/python3.6/dist-packages/matplotlib/backends/backend_agg.py:214: RuntimeWarning: Glyph 47732 missing from current font.\n",
            "  font.set_text(s, 0.0, flags=flags)\n",
            "/usr/local/lib/python3.6/dist-packages/matplotlib/backends/backend_agg.py:214: RuntimeWarning: Glyph 49789 missing from current font.\n",
            "  font.set_text(s, 0.0, flags=flags)\n",
            "/usr/local/lib/python3.6/dist-packages/matplotlib/backends/backend_agg.py:214: RuntimeWarning: Glyph 45733 missing from current font.\n",
            "  font.set_text(s, 0.0, flags=flags)\n",
            "/usr/local/lib/python3.6/dist-packages/matplotlib/backends/backend_agg.py:214: RuntimeWarning: Glyph 53685 missing from current font.\n",
            "  font.set_text(s, 0.0, flags=flags)\n",
            "/usr/local/lib/python3.6/dist-packages/matplotlib/backends/backend_agg.py:214: RuntimeWarning: Glyph 54616 missing from current font.\n",
            "  font.set_text(s, 0.0, flags=flags)\n",
            "/usr/local/lib/python3.6/dist-packages/matplotlib/backends/backend_agg.py:214: RuntimeWarning: Glyph 50689 missing from current font.\n",
            "  font.set_text(s, 0.0, flags=flags)\n",
            "/usr/local/lib/python3.6/dist-packages/matplotlib/backends/backend_agg.py:214: RuntimeWarning: Glyph 45716 missing from current font.\n",
            "  font.set_text(s, 0.0, flags=flags)\n",
            "/usr/local/lib/python3.6/dist-packages/matplotlib/backends/backend_agg.py:214: RuntimeWarning: Glyph 45800 missing from current font.\n",
            "  font.set_text(s, 0.0, flags=flags)\n",
            "/usr/local/lib/python3.6/dist-packages/matplotlib/backends/backend_agg.py:214: RuntimeWarning: Glyph 44032 missing from current font.\n",
            "  font.set_text(s, 0.0, flags=flags)\n",
            "/usr/local/lib/python3.6/dist-packages/matplotlib/backends/backend_agg.py:214: RuntimeWarning: Glyph 46307 missing from current font.\n",
            "  font.set_text(s, 0.0, flags=flags)\n",
            "/usr/local/lib/python3.6/dist-packages/matplotlib/backends/backend_agg.py:214: RuntimeWarning: Glyph 44592 missing from current font.\n",
            "  font.set_text(s, 0.0, flags=flags)\n",
            "/usr/local/lib/python3.6/dist-packages/matplotlib/backends/backend_agg.py:214: RuntimeWarning: Glyph 44397 missing from current font.\n",
            "  font.set_text(s, 0.0, flags=flags)\n",
            "/usr/local/lib/python3.6/dist-packages/matplotlib/backends/backend_agg.py:214: RuntimeWarning: Glyph 51648 missing from current font.\n",
            "  font.set_text(s, 0.0, flags=flags)\n",
            "/usr/local/lib/python3.6/dist-packages/matplotlib/backends/backend_agg.py:214: RuntimeWarning: Glyph 47928 missing from current font.\n",
            "  font.set_text(s, 0.0, flags=flags)\n",
            "/usr/local/lib/python3.6/dist-packages/matplotlib/backends/backend_agg.py:214: RuntimeWarning: Glyph 54620 missing from current font.\n",
            "  font.set_text(s, 0.0, flags=flags)\n",
            "/usr/local/lib/python3.6/dist-packages/matplotlib/backends/backend_agg.py:183: RuntimeWarning: Glyph 49688 missing from current font.\n",
            "  font.set_text(s, 0, flags=flags)\n",
            "/usr/local/lib/python3.6/dist-packages/matplotlib/backends/backend_agg.py:183: RuntimeWarning: Glyph 54617 missing from current font.\n",
            "  font.set_text(s, 0, flags=flags)\n",
            "/usr/local/lib/python3.6/dist-packages/matplotlib/backends/backend_agg.py:183: RuntimeWarning: Glyph 51008 missing from current font.\n",
            "  font.set_text(s, 0, flags=flags)\n",
            "/usr/local/lib/python3.6/dist-packages/matplotlib/backends/backend_agg.py:183: RuntimeWarning: Glyph 49885 missing from current font.\n",
            "  font.set_text(s, 0, flags=flags)\n",
            "/usr/local/lib/python3.6/dist-packages/matplotlib/backends/backend_agg.py:183: RuntimeWarning: Glyph 51060 missing from current font.\n",
            "  font.set_text(s, 0, flags=flags)\n",
            "/usr/local/lib/python3.6/dist-packages/matplotlib/backends/backend_agg.py:183: RuntimeWarning: Glyph 48373 missing from current font.\n",
            "  font.set_text(s, 0, flags=flags)\n",
            "/usr/local/lib/python3.6/dist-packages/matplotlib/backends/backend_agg.py:183: RuntimeWarning: Glyph 51105 missing from current font.\n",
            "  font.set_text(s, 0, flags=flags)\n",
            "/usr/local/lib/python3.6/dist-packages/matplotlib/backends/backend_agg.py:183: RuntimeWarning: Glyph 54644 missing from current font.\n",
            "  font.set_text(s, 0, flags=flags)\n",
            "/usr/local/lib/python3.6/dist-packages/matplotlib/backends/backend_agg.py:183: RuntimeWarning: Glyph 49436 missing from current font.\n",
            "  font.set_text(s, 0, flags=flags)\n",
            "/usr/local/lib/python3.6/dist-packages/matplotlib/backends/backend_agg.py:183: RuntimeWarning: Glyph 50612 missing from current font.\n",
            "  font.set_text(s, 0, flags=flags)\n",
            "/usr/local/lib/python3.6/dist-packages/matplotlib/backends/backend_agg.py:183: RuntimeWarning: Glyph 47157 missing from current font.\n",
            "  font.set_text(s, 0, flags=flags)\n",
            "/usr/local/lib/python3.6/dist-packages/matplotlib/backends/backend_agg.py:183: RuntimeWarning: Glyph 45796 missing from current font.\n",
            "  font.set_text(s, 0, flags=flags)\n",
            "/usr/local/lib/python3.6/dist-packages/matplotlib/backends/backend_agg.py:183: RuntimeWarning: Glyph 44277 missing from current font.\n",
            "  font.set_text(s, 0, flags=flags)\n",
            "/usr/local/lib/python3.6/dist-packages/matplotlib/backends/backend_agg.py:183: RuntimeWarning: Glyph 47566 missing from current font.\n",
            "  font.set_text(s, 0, flags=flags)\n",
            "/usr/local/lib/python3.6/dist-packages/matplotlib/backends/backend_agg.py:183: RuntimeWarning: Glyph 50500 missing from current font.\n",
            "  font.set_text(s, 0, flags=flags)\n",
            "/usr/local/lib/python3.6/dist-packages/matplotlib/backends/backend_agg.py:183: RuntimeWarning: Glyph 46104 missing from current font.\n",
            "  font.set_text(s, 0, flags=flags)\n",
            "/usr/local/lib/python3.6/dist-packages/matplotlib/backends/backend_agg.py:183: RuntimeWarning: Glyph 47732 missing from current font.\n",
            "  font.set_text(s, 0, flags=flags)\n",
            "/usr/local/lib/python3.6/dist-packages/matplotlib/backends/backend_agg.py:183: RuntimeWarning: Glyph 49789 missing from current font.\n",
            "  font.set_text(s, 0, flags=flags)\n",
            "/usr/local/lib/python3.6/dist-packages/matplotlib/backends/backend_agg.py:183: RuntimeWarning: Glyph 45733 missing from current font.\n",
            "  font.set_text(s, 0, flags=flags)\n",
            "/usr/local/lib/python3.6/dist-packages/matplotlib/backends/backend_agg.py:183: RuntimeWarning: Glyph 53685 missing from current font.\n",
            "  font.set_text(s, 0, flags=flags)\n",
            "/usr/local/lib/python3.6/dist-packages/matplotlib/backends/backend_agg.py:183: RuntimeWarning: Glyph 54616 missing from current font.\n",
            "  font.set_text(s, 0, flags=flags)\n",
            "/usr/local/lib/python3.6/dist-packages/matplotlib/backends/backend_agg.py:183: RuntimeWarning: Glyph 50689 missing from current font.\n",
            "  font.set_text(s, 0, flags=flags)\n",
            "/usr/local/lib/python3.6/dist-packages/matplotlib/backends/backend_agg.py:183: RuntimeWarning: Glyph 45716 missing from current font.\n",
            "  font.set_text(s, 0, flags=flags)\n",
            "/usr/local/lib/python3.6/dist-packages/matplotlib/backends/backend_agg.py:183: RuntimeWarning: Glyph 45800 missing from current font.\n",
            "  font.set_text(s, 0, flags=flags)\n",
            "/usr/local/lib/python3.6/dist-packages/matplotlib/backends/backend_agg.py:183: RuntimeWarning: Glyph 44032 missing from current font.\n",
            "  font.set_text(s, 0, flags=flags)\n",
            "/usr/local/lib/python3.6/dist-packages/matplotlib/backends/backend_agg.py:183: RuntimeWarning: Glyph 46307 missing from current font.\n",
            "  font.set_text(s, 0, flags=flags)\n",
            "/usr/local/lib/python3.6/dist-packages/matplotlib/backends/backend_agg.py:183: RuntimeWarning: Glyph 44592 missing from current font.\n",
            "  font.set_text(s, 0, flags=flags)\n",
            "/usr/local/lib/python3.6/dist-packages/matplotlib/backends/backend_agg.py:183: RuntimeWarning: Glyph 44397 missing from current font.\n",
            "  font.set_text(s, 0, flags=flags)\n",
            "/usr/local/lib/python3.6/dist-packages/matplotlib/backends/backend_agg.py:183: RuntimeWarning: Glyph 51648 missing from current font.\n",
            "  font.set_text(s, 0, flags=flags)\n",
            "/usr/local/lib/python3.6/dist-packages/matplotlib/backends/backend_agg.py:183: RuntimeWarning: Glyph 47928 missing from current font.\n",
            "  font.set_text(s, 0, flags=flags)\n",
            "/usr/local/lib/python3.6/dist-packages/matplotlib/backends/backend_agg.py:183: RuntimeWarning: Glyph 54620 missing from current font.\n",
            "  font.set_text(s, 0, flags=flags)\n"
          ],
          "name": "stderr"
        },
        {
          "output_type": "display_data",
          "data": {
            "image/png": "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\n",
            "text/plain": [
              "<Figure size 576x576 with 1 Axes>"
            ]
          },
          "metadata": {
            "tags": [],
            "needs_background": "light"
          }
        },
        {
          "output_type": "stream",
          "text": [
            "training >>> 300\n"
          ],
          "name": "stdout"
        },
        {
          "output_type": "stream",
          "text": [
            "/usr/local/lib/python3.6/dist-packages/matplotlib/backends/backend_agg.py:214: RuntimeWarning: Glyph 49688 missing from current font.\n",
            "  font.set_text(s, 0.0, flags=flags)\n",
            "/usr/local/lib/python3.6/dist-packages/matplotlib/backends/backend_agg.py:214: RuntimeWarning: Glyph 54617 missing from current font.\n",
            "  font.set_text(s, 0.0, flags=flags)\n",
            "/usr/local/lib/python3.6/dist-packages/matplotlib/backends/backend_agg.py:214: RuntimeWarning: Glyph 51008 missing from current font.\n",
            "  font.set_text(s, 0.0, flags=flags)\n",
            "/usr/local/lib/python3.6/dist-packages/matplotlib/backends/backend_agg.py:214: RuntimeWarning: Glyph 49885 missing from current font.\n",
            "  font.set_text(s, 0.0, flags=flags)\n",
            "/usr/local/lib/python3.6/dist-packages/matplotlib/backends/backend_agg.py:214: RuntimeWarning: Glyph 51060 missing from current font.\n",
            "  font.set_text(s, 0.0, flags=flags)\n",
            "/usr/local/lib/python3.6/dist-packages/matplotlib/backends/backend_agg.py:214: RuntimeWarning: Glyph 48373 missing from current font.\n",
            "  font.set_text(s, 0.0, flags=flags)\n",
            "/usr/local/lib/python3.6/dist-packages/matplotlib/backends/backend_agg.py:214: RuntimeWarning: Glyph 51105 missing from current font.\n",
            "  font.set_text(s, 0.0, flags=flags)\n",
            "/usr/local/lib/python3.6/dist-packages/matplotlib/backends/backend_agg.py:214: RuntimeWarning: Glyph 54644 missing from current font.\n",
            "  font.set_text(s, 0.0, flags=flags)\n",
            "/usr/local/lib/python3.6/dist-packages/matplotlib/backends/backend_agg.py:214: RuntimeWarning: Glyph 49436 missing from current font.\n",
            "  font.set_text(s, 0.0, flags=flags)\n",
            "/usr/local/lib/python3.6/dist-packages/matplotlib/backends/backend_agg.py:214: RuntimeWarning: Glyph 50612 missing from current font.\n",
            "  font.set_text(s, 0.0, flags=flags)\n",
            "/usr/local/lib/python3.6/dist-packages/matplotlib/backends/backend_agg.py:214: RuntimeWarning: Glyph 47157 missing from current font.\n",
            "  font.set_text(s, 0.0, flags=flags)\n",
            "/usr/local/lib/python3.6/dist-packages/matplotlib/backends/backend_agg.py:214: RuntimeWarning: Glyph 45796 missing from current font.\n",
            "  font.set_text(s, 0.0, flags=flags)\n",
            "/usr/local/lib/python3.6/dist-packages/matplotlib/backends/backend_agg.py:214: RuntimeWarning: Glyph 44277 missing from current font.\n",
            "  font.set_text(s, 0.0, flags=flags)\n",
            "/usr/local/lib/python3.6/dist-packages/matplotlib/backends/backend_agg.py:214: RuntimeWarning: Glyph 47566 missing from current font.\n",
            "  font.set_text(s, 0.0, flags=flags)\n",
            "/usr/local/lib/python3.6/dist-packages/matplotlib/backends/backend_agg.py:214: RuntimeWarning: Glyph 50500 missing from current font.\n",
            "  font.set_text(s, 0.0, flags=flags)\n",
            "/usr/local/lib/python3.6/dist-packages/matplotlib/backends/backend_agg.py:214: RuntimeWarning: Glyph 46104 missing from current font.\n",
            "  font.set_text(s, 0.0, flags=flags)\n",
            "/usr/local/lib/python3.6/dist-packages/matplotlib/backends/backend_agg.py:214: RuntimeWarning: Glyph 47732 missing from current font.\n",
            "  font.set_text(s, 0.0, flags=flags)\n",
            "/usr/local/lib/python3.6/dist-packages/matplotlib/backends/backend_agg.py:214: RuntimeWarning: Glyph 49789 missing from current font.\n",
            "  font.set_text(s, 0.0, flags=flags)\n",
            "/usr/local/lib/python3.6/dist-packages/matplotlib/backends/backend_agg.py:214: RuntimeWarning: Glyph 45733 missing from current font.\n",
            "  font.set_text(s, 0.0, flags=flags)\n",
            "/usr/local/lib/python3.6/dist-packages/matplotlib/backends/backend_agg.py:214: RuntimeWarning: Glyph 53685 missing from current font.\n",
            "  font.set_text(s, 0.0, flags=flags)\n",
            "/usr/local/lib/python3.6/dist-packages/matplotlib/backends/backend_agg.py:214: RuntimeWarning: Glyph 54616 missing from current font.\n",
            "  font.set_text(s, 0.0, flags=flags)\n",
            "/usr/local/lib/python3.6/dist-packages/matplotlib/backends/backend_agg.py:214: RuntimeWarning: Glyph 50689 missing from current font.\n",
            "  font.set_text(s, 0.0, flags=flags)\n",
            "/usr/local/lib/python3.6/dist-packages/matplotlib/backends/backend_agg.py:214: RuntimeWarning: Glyph 45716 missing from current font.\n",
            "  font.set_text(s, 0.0, flags=flags)\n",
            "/usr/local/lib/python3.6/dist-packages/matplotlib/backends/backend_agg.py:214: RuntimeWarning: Glyph 45800 missing from current font.\n",
            "  font.set_text(s, 0.0, flags=flags)\n",
            "/usr/local/lib/python3.6/dist-packages/matplotlib/backends/backend_agg.py:214: RuntimeWarning: Glyph 44032 missing from current font.\n",
            "  font.set_text(s, 0.0, flags=flags)\n",
            "/usr/local/lib/python3.6/dist-packages/matplotlib/backends/backend_agg.py:214: RuntimeWarning: Glyph 46307 missing from current font.\n",
            "  font.set_text(s, 0.0, flags=flags)\n",
            "/usr/local/lib/python3.6/dist-packages/matplotlib/backends/backend_agg.py:214: RuntimeWarning: Glyph 44592 missing from current font.\n",
            "  font.set_text(s, 0.0, flags=flags)\n",
            "/usr/local/lib/python3.6/dist-packages/matplotlib/backends/backend_agg.py:214: RuntimeWarning: Glyph 44397 missing from current font.\n",
            "  font.set_text(s, 0.0, flags=flags)\n",
            "/usr/local/lib/python3.6/dist-packages/matplotlib/backends/backend_agg.py:214: RuntimeWarning: Glyph 51648 missing from current font.\n",
            "  font.set_text(s, 0.0, flags=flags)\n",
            "/usr/local/lib/python3.6/dist-packages/matplotlib/backends/backend_agg.py:214: RuntimeWarning: Glyph 47928 missing from current font.\n",
            "  font.set_text(s, 0.0, flags=flags)\n",
            "/usr/local/lib/python3.6/dist-packages/matplotlib/backends/backend_agg.py:214: RuntimeWarning: Glyph 54620 missing from current font.\n",
            "  font.set_text(s, 0.0, flags=flags)\n",
            "/usr/local/lib/python3.6/dist-packages/matplotlib/backends/backend_agg.py:183: RuntimeWarning: Glyph 49688 missing from current font.\n",
            "  font.set_text(s, 0, flags=flags)\n",
            "/usr/local/lib/python3.6/dist-packages/matplotlib/backends/backend_agg.py:183: RuntimeWarning: Glyph 54617 missing from current font.\n",
            "  font.set_text(s, 0, flags=flags)\n",
            "/usr/local/lib/python3.6/dist-packages/matplotlib/backends/backend_agg.py:183: RuntimeWarning: Glyph 51008 missing from current font.\n",
            "  font.set_text(s, 0, flags=flags)\n",
            "/usr/local/lib/python3.6/dist-packages/matplotlib/backends/backend_agg.py:183: RuntimeWarning: Glyph 49885 missing from current font.\n",
            "  font.set_text(s, 0, flags=flags)\n",
            "/usr/local/lib/python3.6/dist-packages/matplotlib/backends/backend_agg.py:183: RuntimeWarning: Glyph 51060 missing from current font.\n",
            "  font.set_text(s, 0, flags=flags)\n",
            "/usr/local/lib/python3.6/dist-packages/matplotlib/backends/backend_agg.py:183: RuntimeWarning: Glyph 48373 missing from current font.\n",
            "  font.set_text(s, 0, flags=flags)\n",
            "/usr/local/lib/python3.6/dist-packages/matplotlib/backends/backend_agg.py:183: RuntimeWarning: Glyph 51105 missing from current font.\n",
            "  font.set_text(s, 0, flags=flags)\n",
            "/usr/local/lib/python3.6/dist-packages/matplotlib/backends/backend_agg.py:183: RuntimeWarning: Glyph 54644 missing from current font.\n",
            "  font.set_text(s, 0, flags=flags)\n",
            "/usr/local/lib/python3.6/dist-packages/matplotlib/backends/backend_agg.py:183: RuntimeWarning: Glyph 49436 missing from current font.\n",
            "  font.set_text(s, 0, flags=flags)\n",
            "/usr/local/lib/python3.6/dist-packages/matplotlib/backends/backend_agg.py:183: RuntimeWarning: Glyph 50612 missing from current font.\n",
            "  font.set_text(s, 0, flags=flags)\n",
            "/usr/local/lib/python3.6/dist-packages/matplotlib/backends/backend_agg.py:183: RuntimeWarning: Glyph 47157 missing from current font.\n",
            "  font.set_text(s, 0, flags=flags)\n",
            "/usr/local/lib/python3.6/dist-packages/matplotlib/backends/backend_agg.py:183: RuntimeWarning: Glyph 45796 missing from current font.\n",
            "  font.set_text(s, 0, flags=flags)\n",
            "/usr/local/lib/python3.6/dist-packages/matplotlib/backends/backend_agg.py:183: RuntimeWarning: Glyph 44277 missing from current font.\n",
            "  font.set_text(s, 0, flags=flags)\n",
            "/usr/local/lib/python3.6/dist-packages/matplotlib/backends/backend_agg.py:183: RuntimeWarning: Glyph 47566 missing from current font.\n",
            "  font.set_text(s, 0, flags=flags)\n",
            "/usr/local/lib/python3.6/dist-packages/matplotlib/backends/backend_agg.py:183: RuntimeWarning: Glyph 50500 missing from current font.\n",
            "  font.set_text(s, 0, flags=flags)\n",
            "/usr/local/lib/python3.6/dist-packages/matplotlib/backends/backend_agg.py:183: RuntimeWarning: Glyph 46104 missing from current font.\n",
            "  font.set_text(s, 0, flags=flags)\n",
            "/usr/local/lib/python3.6/dist-packages/matplotlib/backends/backend_agg.py:183: RuntimeWarning: Glyph 47732 missing from current font.\n",
            "  font.set_text(s, 0, flags=flags)\n",
            "/usr/local/lib/python3.6/dist-packages/matplotlib/backends/backend_agg.py:183: RuntimeWarning: Glyph 49789 missing from current font.\n",
            "  font.set_text(s, 0, flags=flags)\n",
            "/usr/local/lib/python3.6/dist-packages/matplotlib/backends/backend_agg.py:183: RuntimeWarning: Glyph 45733 missing from current font.\n",
            "  font.set_text(s, 0, flags=flags)\n",
            "/usr/local/lib/python3.6/dist-packages/matplotlib/backends/backend_agg.py:183: RuntimeWarning: Glyph 53685 missing from current font.\n",
            "  font.set_text(s, 0, flags=flags)\n",
            "/usr/local/lib/python3.6/dist-packages/matplotlib/backends/backend_agg.py:183: RuntimeWarning: Glyph 54616 missing from current font.\n",
            "  font.set_text(s, 0, flags=flags)\n",
            "/usr/local/lib/python3.6/dist-packages/matplotlib/backends/backend_agg.py:183: RuntimeWarning: Glyph 50689 missing from current font.\n",
            "  font.set_text(s, 0, flags=flags)\n",
            "/usr/local/lib/python3.6/dist-packages/matplotlib/backends/backend_agg.py:183: RuntimeWarning: Glyph 45716 missing from current font.\n",
            "  font.set_text(s, 0, flags=flags)\n",
            "/usr/local/lib/python3.6/dist-packages/matplotlib/backends/backend_agg.py:183: RuntimeWarning: Glyph 45800 missing from current font.\n",
            "  font.set_text(s, 0, flags=flags)\n",
            "/usr/local/lib/python3.6/dist-packages/matplotlib/backends/backend_agg.py:183: RuntimeWarning: Glyph 44032 missing from current font.\n",
            "  font.set_text(s, 0, flags=flags)\n",
            "/usr/local/lib/python3.6/dist-packages/matplotlib/backends/backend_agg.py:183: RuntimeWarning: Glyph 46307 missing from current font.\n",
            "  font.set_text(s, 0, flags=flags)\n",
            "/usr/local/lib/python3.6/dist-packages/matplotlib/backends/backend_agg.py:183: RuntimeWarning: Glyph 44592 missing from current font.\n",
            "  font.set_text(s, 0, flags=flags)\n",
            "/usr/local/lib/python3.6/dist-packages/matplotlib/backends/backend_agg.py:183: RuntimeWarning: Glyph 44397 missing from current font.\n",
            "  font.set_text(s, 0, flags=flags)\n",
            "/usr/local/lib/python3.6/dist-packages/matplotlib/backends/backend_agg.py:183: RuntimeWarning: Glyph 51648 missing from current font.\n",
            "  font.set_text(s, 0, flags=flags)\n",
            "/usr/local/lib/python3.6/dist-packages/matplotlib/backends/backend_agg.py:183: RuntimeWarning: Glyph 47928 missing from current font.\n",
            "  font.set_text(s, 0, flags=flags)\n",
            "/usr/local/lib/python3.6/dist-packages/matplotlib/backends/backend_agg.py:183: RuntimeWarning: Glyph 54620 missing from current font.\n",
            "  font.set_text(s, 0, flags=flags)\n"
          ],
          "name": "stderr"
        },
        {
          "output_type": "display_data",
          "data": {
            "image/png": "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\n",
            "text/plain": [
              "<Figure size 576x576 with 1 Axes>"
            ]
          },
          "metadata": {
            "tags": [],
            "needs_background": "light"
          }
        },
        {
          "output_type": "stream",
          "text": [
            "training >>> 400\n"
          ],
          "name": "stdout"
        },
        {
          "output_type": "stream",
          "text": [
            "/usr/local/lib/python3.6/dist-packages/matplotlib/backends/backend_agg.py:214: RuntimeWarning: Glyph 49688 missing from current font.\n",
            "  font.set_text(s, 0.0, flags=flags)\n",
            "/usr/local/lib/python3.6/dist-packages/matplotlib/backends/backend_agg.py:214: RuntimeWarning: Glyph 54617 missing from current font.\n",
            "  font.set_text(s, 0.0, flags=flags)\n",
            "/usr/local/lib/python3.6/dist-packages/matplotlib/backends/backend_agg.py:214: RuntimeWarning: Glyph 51008 missing from current font.\n",
            "  font.set_text(s, 0.0, flags=flags)\n",
            "/usr/local/lib/python3.6/dist-packages/matplotlib/backends/backend_agg.py:214: RuntimeWarning: Glyph 49885 missing from current font.\n",
            "  font.set_text(s, 0.0, flags=flags)\n",
            "/usr/local/lib/python3.6/dist-packages/matplotlib/backends/backend_agg.py:214: RuntimeWarning: Glyph 51060 missing from current font.\n",
            "  font.set_text(s, 0.0, flags=flags)\n",
            "/usr/local/lib/python3.6/dist-packages/matplotlib/backends/backend_agg.py:214: RuntimeWarning: Glyph 48373 missing from current font.\n",
            "  font.set_text(s, 0.0, flags=flags)\n",
            "/usr/local/lib/python3.6/dist-packages/matplotlib/backends/backend_agg.py:214: RuntimeWarning: Glyph 51105 missing from current font.\n",
            "  font.set_text(s, 0.0, flags=flags)\n",
            "/usr/local/lib/python3.6/dist-packages/matplotlib/backends/backend_agg.py:214: RuntimeWarning: Glyph 54644 missing from current font.\n",
            "  font.set_text(s, 0.0, flags=flags)\n",
            "/usr/local/lib/python3.6/dist-packages/matplotlib/backends/backend_agg.py:214: RuntimeWarning: Glyph 49436 missing from current font.\n",
            "  font.set_text(s, 0.0, flags=flags)\n",
            "/usr/local/lib/python3.6/dist-packages/matplotlib/backends/backend_agg.py:214: RuntimeWarning: Glyph 50612 missing from current font.\n",
            "  font.set_text(s, 0.0, flags=flags)\n",
            "/usr/local/lib/python3.6/dist-packages/matplotlib/backends/backend_agg.py:214: RuntimeWarning: Glyph 47157 missing from current font.\n",
            "  font.set_text(s, 0.0, flags=flags)\n",
            "/usr/local/lib/python3.6/dist-packages/matplotlib/backends/backend_agg.py:214: RuntimeWarning: Glyph 45796 missing from current font.\n",
            "  font.set_text(s, 0.0, flags=flags)\n",
            "/usr/local/lib/python3.6/dist-packages/matplotlib/backends/backend_agg.py:214: RuntimeWarning: Glyph 44277 missing from current font.\n",
            "  font.set_text(s, 0.0, flags=flags)\n",
            "/usr/local/lib/python3.6/dist-packages/matplotlib/backends/backend_agg.py:214: RuntimeWarning: Glyph 47566 missing from current font.\n",
            "  font.set_text(s, 0.0, flags=flags)\n",
            "/usr/local/lib/python3.6/dist-packages/matplotlib/backends/backend_agg.py:214: RuntimeWarning: Glyph 50500 missing from current font.\n",
            "  font.set_text(s, 0.0, flags=flags)\n",
            "/usr/local/lib/python3.6/dist-packages/matplotlib/backends/backend_agg.py:214: RuntimeWarning: Glyph 46104 missing from current font.\n",
            "  font.set_text(s, 0.0, flags=flags)\n",
            "/usr/local/lib/python3.6/dist-packages/matplotlib/backends/backend_agg.py:214: RuntimeWarning: Glyph 47732 missing from current font.\n",
            "  font.set_text(s, 0.0, flags=flags)\n",
            "/usr/local/lib/python3.6/dist-packages/matplotlib/backends/backend_agg.py:214: RuntimeWarning: Glyph 49789 missing from current font.\n",
            "  font.set_text(s, 0.0, flags=flags)\n",
            "/usr/local/lib/python3.6/dist-packages/matplotlib/backends/backend_agg.py:214: RuntimeWarning: Glyph 45733 missing from current font.\n",
            "  font.set_text(s, 0.0, flags=flags)\n",
            "/usr/local/lib/python3.6/dist-packages/matplotlib/backends/backend_agg.py:214: RuntimeWarning: Glyph 53685 missing from current font.\n",
            "  font.set_text(s, 0.0, flags=flags)\n",
            "/usr/local/lib/python3.6/dist-packages/matplotlib/backends/backend_agg.py:214: RuntimeWarning: Glyph 54616 missing from current font.\n",
            "  font.set_text(s, 0.0, flags=flags)\n",
            "/usr/local/lib/python3.6/dist-packages/matplotlib/backends/backend_agg.py:214: RuntimeWarning: Glyph 50689 missing from current font.\n",
            "  font.set_text(s, 0.0, flags=flags)\n",
            "/usr/local/lib/python3.6/dist-packages/matplotlib/backends/backend_agg.py:214: RuntimeWarning: Glyph 45716 missing from current font.\n",
            "  font.set_text(s, 0.0, flags=flags)\n",
            "/usr/local/lib/python3.6/dist-packages/matplotlib/backends/backend_agg.py:214: RuntimeWarning: Glyph 45800 missing from current font.\n",
            "  font.set_text(s, 0.0, flags=flags)\n",
            "/usr/local/lib/python3.6/dist-packages/matplotlib/backends/backend_agg.py:214: RuntimeWarning: Glyph 44032 missing from current font.\n",
            "  font.set_text(s, 0.0, flags=flags)\n",
            "/usr/local/lib/python3.6/dist-packages/matplotlib/backends/backend_agg.py:214: RuntimeWarning: Glyph 46307 missing from current font.\n",
            "  font.set_text(s, 0.0, flags=flags)\n",
            "/usr/local/lib/python3.6/dist-packages/matplotlib/backends/backend_agg.py:214: RuntimeWarning: Glyph 44592 missing from current font.\n",
            "  font.set_text(s, 0.0, flags=flags)\n",
            "/usr/local/lib/python3.6/dist-packages/matplotlib/backends/backend_agg.py:214: RuntimeWarning: Glyph 44397 missing from current font.\n",
            "  font.set_text(s, 0.0, flags=flags)\n",
            "/usr/local/lib/python3.6/dist-packages/matplotlib/backends/backend_agg.py:214: RuntimeWarning: Glyph 51648 missing from current font.\n",
            "  font.set_text(s, 0.0, flags=flags)\n",
            "/usr/local/lib/python3.6/dist-packages/matplotlib/backends/backend_agg.py:214: RuntimeWarning: Glyph 47928 missing from current font.\n",
            "  font.set_text(s, 0.0, flags=flags)\n",
            "/usr/local/lib/python3.6/dist-packages/matplotlib/backends/backend_agg.py:214: RuntimeWarning: Glyph 54620 missing from current font.\n",
            "  font.set_text(s, 0.0, flags=flags)\n",
            "/usr/local/lib/python3.6/dist-packages/matplotlib/backends/backend_agg.py:183: RuntimeWarning: Glyph 49688 missing from current font.\n",
            "  font.set_text(s, 0, flags=flags)\n",
            "/usr/local/lib/python3.6/dist-packages/matplotlib/backends/backend_agg.py:183: RuntimeWarning: Glyph 54617 missing from current font.\n",
            "  font.set_text(s, 0, flags=flags)\n",
            "/usr/local/lib/python3.6/dist-packages/matplotlib/backends/backend_agg.py:183: RuntimeWarning: Glyph 51008 missing from current font.\n",
            "  font.set_text(s, 0, flags=flags)\n",
            "/usr/local/lib/python3.6/dist-packages/matplotlib/backends/backend_agg.py:183: RuntimeWarning: Glyph 49885 missing from current font.\n",
            "  font.set_text(s, 0, flags=flags)\n",
            "/usr/local/lib/python3.6/dist-packages/matplotlib/backends/backend_agg.py:183: RuntimeWarning: Glyph 51060 missing from current font.\n",
            "  font.set_text(s, 0, flags=flags)\n",
            "/usr/local/lib/python3.6/dist-packages/matplotlib/backends/backend_agg.py:183: RuntimeWarning: Glyph 48373 missing from current font.\n",
            "  font.set_text(s, 0, flags=flags)\n",
            "/usr/local/lib/python3.6/dist-packages/matplotlib/backends/backend_agg.py:183: RuntimeWarning: Glyph 51105 missing from current font.\n",
            "  font.set_text(s, 0, flags=flags)\n",
            "/usr/local/lib/python3.6/dist-packages/matplotlib/backends/backend_agg.py:183: RuntimeWarning: Glyph 54644 missing from current font.\n",
            "  font.set_text(s, 0, flags=flags)\n",
            "/usr/local/lib/python3.6/dist-packages/matplotlib/backends/backend_agg.py:183: RuntimeWarning: Glyph 49436 missing from current font.\n",
            "  font.set_text(s, 0, flags=flags)\n",
            "/usr/local/lib/python3.6/dist-packages/matplotlib/backends/backend_agg.py:183: RuntimeWarning: Glyph 50612 missing from current font.\n",
            "  font.set_text(s, 0, flags=flags)\n",
            "/usr/local/lib/python3.6/dist-packages/matplotlib/backends/backend_agg.py:183: RuntimeWarning: Glyph 47157 missing from current font.\n",
            "  font.set_text(s, 0, flags=flags)\n",
            "/usr/local/lib/python3.6/dist-packages/matplotlib/backends/backend_agg.py:183: RuntimeWarning: Glyph 45796 missing from current font.\n",
            "  font.set_text(s, 0, flags=flags)\n",
            "/usr/local/lib/python3.6/dist-packages/matplotlib/backends/backend_agg.py:183: RuntimeWarning: Glyph 44277 missing from current font.\n",
            "  font.set_text(s, 0, flags=flags)\n",
            "/usr/local/lib/python3.6/dist-packages/matplotlib/backends/backend_agg.py:183: RuntimeWarning: Glyph 47566 missing from current font.\n",
            "  font.set_text(s, 0, flags=flags)\n",
            "/usr/local/lib/python3.6/dist-packages/matplotlib/backends/backend_agg.py:183: RuntimeWarning: Glyph 50500 missing from current font.\n",
            "  font.set_text(s, 0, flags=flags)\n",
            "/usr/local/lib/python3.6/dist-packages/matplotlib/backends/backend_agg.py:183: RuntimeWarning: Glyph 46104 missing from current font.\n",
            "  font.set_text(s, 0, flags=flags)\n",
            "/usr/local/lib/python3.6/dist-packages/matplotlib/backends/backend_agg.py:183: RuntimeWarning: Glyph 47732 missing from current font.\n",
            "  font.set_text(s, 0, flags=flags)\n",
            "/usr/local/lib/python3.6/dist-packages/matplotlib/backends/backend_agg.py:183: RuntimeWarning: Glyph 49789 missing from current font.\n",
            "  font.set_text(s, 0, flags=flags)\n",
            "/usr/local/lib/python3.6/dist-packages/matplotlib/backends/backend_agg.py:183: RuntimeWarning: Glyph 45733 missing from current font.\n",
            "  font.set_text(s, 0, flags=flags)\n",
            "/usr/local/lib/python3.6/dist-packages/matplotlib/backends/backend_agg.py:183: RuntimeWarning: Glyph 53685 missing from current font.\n",
            "  font.set_text(s, 0, flags=flags)\n",
            "/usr/local/lib/python3.6/dist-packages/matplotlib/backends/backend_agg.py:183: RuntimeWarning: Glyph 54616 missing from current font.\n",
            "  font.set_text(s, 0, flags=flags)\n",
            "/usr/local/lib/python3.6/dist-packages/matplotlib/backends/backend_agg.py:183: RuntimeWarning: Glyph 50689 missing from current font.\n",
            "  font.set_text(s, 0, flags=flags)\n",
            "/usr/local/lib/python3.6/dist-packages/matplotlib/backends/backend_agg.py:183: RuntimeWarning: Glyph 45716 missing from current font.\n",
            "  font.set_text(s, 0, flags=flags)\n",
            "/usr/local/lib/python3.6/dist-packages/matplotlib/backends/backend_agg.py:183: RuntimeWarning: Glyph 45800 missing from current font.\n",
            "  font.set_text(s, 0, flags=flags)\n",
            "/usr/local/lib/python3.6/dist-packages/matplotlib/backends/backend_agg.py:183: RuntimeWarning: Glyph 44032 missing from current font.\n",
            "  font.set_text(s, 0, flags=flags)\n",
            "/usr/local/lib/python3.6/dist-packages/matplotlib/backends/backend_agg.py:183: RuntimeWarning: Glyph 46307 missing from current font.\n",
            "  font.set_text(s, 0, flags=flags)\n",
            "/usr/local/lib/python3.6/dist-packages/matplotlib/backends/backend_agg.py:183: RuntimeWarning: Glyph 44592 missing from current font.\n",
            "  font.set_text(s, 0, flags=flags)\n",
            "/usr/local/lib/python3.6/dist-packages/matplotlib/backends/backend_agg.py:183: RuntimeWarning: Glyph 44397 missing from current font.\n",
            "  font.set_text(s, 0, flags=flags)\n",
            "/usr/local/lib/python3.6/dist-packages/matplotlib/backends/backend_agg.py:183: RuntimeWarning: Glyph 51648 missing from current font.\n",
            "  font.set_text(s, 0, flags=flags)\n",
            "/usr/local/lib/python3.6/dist-packages/matplotlib/backends/backend_agg.py:183: RuntimeWarning: Glyph 47928 missing from current font.\n",
            "  font.set_text(s, 0, flags=flags)\n",
            "/usr/local/lib/python3.6/dist-packages/matplotlib/backends/backend_agg.py:183: RuntimeWarning: Glyph 54620 missing from current font.\n",
            "  font.set_text(s, 0, flags=flags)\n"
          ],
          "name": "stderr"
        },
        {
          "output_type": "display_data",
          "data": {
            "image/png": "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\n",
            "text/plain": [
              "<Figure size 576x576 with 1 Axes>"
            ]
          },
          "metadata": {
            "tags": [],
            "needs_background": "light"
          }
        },
        {
          "output_type": "stream",
          "text": [
            "training >>> 500\n"
          ],
          "name": "stdout"
        },
        {
          "output_type": "stream",
          "text": [
            "/usr/local/lib/python3.6/dist-packages/matplotlib/backends/backend_agg.py:214: RuntimeWarning: Glyph 49688 missing from current font.\n",
            "  font.set_text(s, 0.0, flags=flags)\n",
            "/usr/local/lib/python3.6/dist-packages/matplotlib/backends/backend_agg.py:214: RuntimeWarning: Glyph 54617 missing from current font.\n",
            "  font.set_text(s, 0.0, flags=flags)\n",
            "/usr/local/lib/python3.6/dist-packages/matplotlib/backends/backend_agg.py:214: RuntimeWarning: Glyph 51008 missing from current font.\n",
            "  font.set_text(s, 0.0, flags=flags)\n",
            "/usr/local/lib/python3.6/dist-packages/matplotlib/backends/backend_agg.py:214: RuntimeWarning: Glyph 49885 missing from current font.\n",
            "  font.set_text(s, 0.0, flags=flags)\n",
            "/usr/local/lib/python3.6/dist-packages/matplotlib/backends/backend_agg.py:214: RuntimeWarning: Glyph 51060 missing from current font.\n",
            "  font.set_text(s, 0.0, flags=flags)\n",
            "/usr/local/lib/python3.6/dist-packages/matplotlib/backends/backend_agg.py:214: RuntimeWarning: Glyph 48373 missing from current font.\n",
            "  font.set_text(s, 0.0, flags=flags)\n",
            "/usr/local/lib/python3.6/dist-packages/matplotlib/backends/backend_agg.py:214: RuntimeWarning: Glyph 51105 missing from current font.\n",
            "  font.set_text(s, 0.0, flags=flags)\n",
            "/usr/local/lib/python3.6/dist-packages/matplotlib/backends/backend_agg.py:214: RuntimeWarning: Glyph 54644 missing from current font.\n",
            "  font.set_text(s, 0.0, flags=flags)\n",
            "/usr/local/lib/python3.6/dist-packages/matplotlib/backends/backend_agg.py:214: RuntimeWarning: Glyph 49436 missing from current font.\n",
            "  font.set_text(s, 0.0, flags=flags)\n",
            "/usr/local/lib/python3.6/dist-packages/matplotlib/backends/backend_agg.py:214: RuntimeWarning: Glyph 50612 missing from current font.\n",
            "  font.set_text(s, 0.0, flags=flags)\n",
            "/usr/local/lib/python3.6/dist-packages/matplotlib/backends/backend_agg.py:214: RuntimeWarning: Glyph 47157 missing from current font.\n",
            "  font.set_text(s, 0.0, flags=flags)\n",
            "/usr/local/lib/python3.6/dist-packages/matplotlib/backends/backend_agg.py:214: RuntimeWarning: Glyph 45796 missing from current font.\n",
            "  font.set_text(s, 0.0, flags=flags)\n",
            "/usr/local/lib/python3.6/dist-packages/matplotlib/backends/backend_agg.py:214: RuntimeWarning: Glyph 44277 missing from current font.\n",
            "  font.set_text(s, 0.0, flags=flags)\n",
            "/usr/local/lib/python3.6/dist-packages/matplotlib/backends/backend_agg.py:214: RuntimeWarning: Glyph 47566 missing from current font.\n",
            "  font.set_text(s, 0.0, flags=flags)\n",
            "/usr/local/lib/python3.6/dist-packages/matplotlib/backends/backend_agg.py:214: RuntimeWarning: Glyph 50500 missing from current font.\n",
            "  font.set_text(s, 0.0, flags=flags)\n",
            "/usr/local/lib/python3.6/dist-packages/matplotlib/backends/backend_agg.py:214: RuntimeWarning: Glyph 46104 missing from current font.\n",
            "  font.set_text(s, 0.0, flags=flags)\n",
            "/usr/local/lib/python3.6/dist-packages/matplotlib/backends/backend_agg.py:214: RuntimeWarning: Glyph 47732 missing from current font.\n",
            "  font.set_text(s, 0.0, flags=flags)\n",
            "/usr/local/lib/python3.6/dist-packages/matplotlib/backends/backend_agg.py:214: RuntimeWarning: Glyph 49789 missing from current font.\n",
            "  font.set_text(s, 0.0, flags=flags)\n",
            "/usr/local/lib/python3.6/dist-packages/matplotlib/backends/backend_agg.py:214: RuntimeWarning: Glyph 45733 missing from current font.\n",
            "  font.set_text(s, 0.0, flags=flags)\n",
            "/usr/local/lib/python3.6/dist-packages/matplotlib/backends/backend_agg.py:214: RuntimeWarning: Glyph 53685 missing from current font.\n",
            "  font.set_text(s, 0.0, flags=flags)\n",
            "/usr/local/lib/python3.6/dist-packages/matplotlib/backends/backend_agg.py:214: RuntimeWarning: Glyph 54616 missing from current font.\n",
            "  font.set_text(s, 0.0, flags=flags)\n",
            "/usr/local/lib/python3.6/dist-packages/matplotlib/backends/backend_agg.py:214: RuntimeWarning: Glyph 50689 missing from current font.\n",
            "  font.set_text(s, 0.0, flags=flags)\n",
            "/usr/local/lib/python3.6/dist-packages/matplotlib/backends/backend_agg.py:214: RuntimeWarning: Glyph 45716 missing from current font.\n",
            "  font.set_text(s, 0.0, flags=flags)\n",
            "/usr/local/lib/python3.6/dist-packages/matplotlib/backends/backend_agg.py:214: RuntimeWarning: Glyph 45800 missing from current font.\n",
            "  font.set_text(s, 0.0, flags=flags)\n",
            "/usr/local/lib/python3.6/dist-packages/matplotlib/backends/backend_agg.py:214: RuntimeWarning: Glyph 44032 missing from current font.\n",
            "  font.set_text(s, 0.0, flags=flags)\n",
            "/usr/local/lib/python3.6/dist-packages/matplotlib/backends/backend_agg.py:214: RuntimeWarning: Glyph 46307 missing from current font.\n",
            "  font.set_text(s, 0.0, flags=flags)\n",
            "/usr/local/lib/python3.6/dist-packages/matplotlib/backends/backend_agg.py:214: RuntimeWarning: Glyph 44592 missing from current font.\n",
            "  font.set_text(s, 0.0, flags=flags)\n",
            "/usr/local/lib/python3.6/dist-packages/matplotlib/backends/backend_agg.py:214: RuntimeWarning: Glyph 44397 missing from current font.\n",
            "  font.set_text(s, 0.0, flags=flags)\n",
            "/usr/local/lib/python3.6/dist-packages/matplotlib/backends/backend_agg.py:214: RuntimeWarning: Glyph 51648 missing from current font.\n",
            "  font.set_text(s, 0.0, flags=flags)\n",
            "/usr/local/lib/python3.6/dist-packages/matplotlib/backends/backend_agg.py:214: RuntimeWarning: Glyph 47928 missing from current font.\n",
            "  font.set_text(s, 0.0, flags=flags)\n",
            "/usr/local/lib/python3.6/dist-packages/matplotlib/backends/backend_agg.py:214: RuntimeWarning: Glyph 54620 missing from current font.\n",
            "  font.set_text(s, 0.0, flags=flags)\n",
            "/usr/local/lib/python3.6/dist-packages/matplotlib/backends/backend_agg.py:183: RuntimeWarning: Glyph 49688 missing from current font.\n",
            "  font.set_text(s, 0, flags=flags)\n",
            "/usr/local/lib/python3.6/dist-packages/matplotlib/backends/backend_agg.py:183: RuntimeWarning: Glyph 54617 missing from current font.\n",
            "  font.set_text(s, 0, flags=flags)\n",
            "/usr/local/lib/python3.6/dist-packages/matplotlib/backends/backend_agg.py:183: RuntimeWarning: Glyph 51008 missing from current font.\n",
            "  font.set_text(s, 0, flags=flags)\n",
            "/usr/local/lib/python3.6/dist-packages/matplotlib/backends/backend_agg.py:183: RuntimeWarning: Glyph 49885 missing from current font.\n",
            "  font.set_text(s, 0, flags=flags)\n",
            "/usr/local/lib/python3.6/dist-packages/matplotlib/backends/backend_agg.py:183: RuntimeWarning: Glyph 51060 missing from current font.\n",
            "  font.set_text(s, 0, flags=flags)\n",
            "/usr/local/lib/python3.6/dist-packages/matplotlib/backends/backend_agg.py:183: RuntimeWarning: Glyph 48373 missing from current font.\n",
            "  font.set_text(s, 0, flags=flags)\n",
            "/usr/local/lib/python3.6/dist-packages/matplotlib/backends/backend_agg.py:183: RuntimeWarning: Glyph 51105 missing from current font.\n",
            "  font.set_text(s, 0, flags=flags)\n",
            "/usr/local/lib/python3.6/dist-packages/matplotlib/backends/backend_agg.py:183: RuntimeWarning: Glyph 54644 missing from current font.\n",
            "  font.set_text(s, 0, flags=flags)\n",
            "/usr/local/lib/python3.6/dist-packages/matplotlib/backends/backend_agg.py:183: RuntimeWarning: Glyph 49436 missing from current font.\n",
            "  font.set_text(s, 0, flags=flags)\n",
            "/usr/local/lib/python3.6/dist-packages/matplotlib/backends/backend_agg.py:183: RuntimeWarning: Glyph 50612 missing from current font.\n",
            "  font.set_text(s, 0, flags=flags)\n",
            "/usr/local/lib/python3.6/dist-packages/matplotlib/backends/backend_agg.py:183: RuntimeWarning: Glyph 47157 missing from current font.\n",
            "  font.set_text(s, 0, flags=flags)\n",
            "/usr/local/lib/python3.6/dist-packages/matplotlib/backends/backend_agg.py:183: RuntimeWarning: Glyph 45796 missing from current font.\n",
            "  font.set_text(s, 0, flags=flags)\n",
            "/usr/local/lib/python3.6/dist-packages/matplotlib/backends/backend_agg.py:183: RuntimeWarning: Glyph 44277 missing from current font.\n",
            "  font.set_text(s, 0, flags=flags)\n",
            "/usr/local/lib/python3.6/dist-packages/matplotlib/backends/backend_agg.py:183: RuntimeWarning: Glyph 47566 missing from current font.\n",
            "  font.set_text(s, 0, flags=flags)\n",
            "/usr/local/lib/python3.6/dist-packages/matplotlib/backends/backend_agg.py:183: RuntimeWarning: Glyph 50500 missing from current font.\n",
            "  font.set_text(s, 0, flags=flags)\n",
            "/usr/local/lib/python3.6/dist-packages/matplotlib/backends/backend_agg.py:183: RuntimeWarning: Glyph 46104 missing from current font.\n",
            "  font.set_text(s, 0, flags=flags)\n",
            "/usr/local/lib/python3.6/dist-packages/matplotlib/backends/backend_agg.py:183: RuntimeWarning: Glyph 47732 missing from current font.\n",
            "  font.set_text(s, 0, flags=flags)\n",
            "/usr/local/lib/python3.6/dist-packages/matplotlib/backends/backend_agg.py:183: RuntimeWarning: Glyph 49789 missing from current font.\n",
            "  font.set_text(s, 0, flags=flags)\n",
            "/usr/local/lib/python3.6/dist-packages/matplotlib/backends/backend_agg.py:183: RuntimeWarning: Glyph 45733 missing from current font.\n",
            "  font.set_text(s, 0, flags=flags)\n",
            "/usr/local/lib/python3.6/dist-packages/matplotlib/backends/backend_agg.py:183: RuntimeWarning: Glyph 53685 missing from current font.\n",
            "  font.set_text(s, 0, flags=flags)\n",
            "/usr/local/lib/python3.6/dist-packages/matplotlib/backends/backend_agg.py:183: RuntimeWarning: Glyph 54616 missing from current font.\n",
            "  font.set_text(s, 0, flags=flags)\n",
            "/usr/local/lib/python3.6/dist-packages/matplotlib/backends/backend_agg.py:183: RuntimeWarning: Glyph 50689 missing from current font.\n",
            "  font.set_text(s, 0, flags=flags)\n",
            "/usr/local/lib/python3.6/dist-packages/matplotlib/backends/backend_agg.py:183: RuntimeWarning: Glyph 45716 missing from current font.\n",
            "  font.set_text(s, 0, flags=flags)\n",
            "/usr/local/lib/python3.6/dist-packages/matplotlib/backends/backend_agg.py:183: RuntimeWarning: Glyph 45800 missing from current font.\n",
            "  font.set_text(s, 0, flags=flags)\n",
            "/usr/local/lib/python3.6/dist-packages/matplotlib/backends/backend_agg.py:183: RuntimeWarning: Glyph 44032 missing from current font.\n",
            "  font.set_text(s, 0, flags=flags)\n",
            "/usr/local/lib/python3.6/dist-packages/matplotlib/backends/backend_agg.py:183: RuntimeWarning: Glyph 46307 missing from current font.\n",
            "  font.set_text(s, 0, flags=flags)\n",
            "/usr/local/lib/python3.6/dist-packages/matplotlib/backends/backend_agg.py:183: RuntimeWarning: Glyph 44592 missing from current font.\n",
            "  font.set_text(s, 0, flags=flags)\n",
            "/usr/local/lib/python3.6/dist-packages/matplotlib/backends/backend_agg.py:183: RuntimeWarning: Glyph 44397 missing from current font.\n",
            "  font.set_text(s, 0, flags=flags)\n",
            "/usr/local/lib/python3.6/dist-packages/matplotlib/backends/backend_agg.py:183: RuntimeWarning: Glyph 51648 missing from current font.\n",
            "  font.set_text(s, 0, flags=flags)\n",
            "/usr/local/lib/python3.6/dist-packages/matplotlib/backends/backend_agg.py:183: RuntimeWarning: Glyph 47928 missing from current font.\n",
            "  font.set_text(s, 0, flags=flags)\n",
            "/usr/local/lib/python3.6/dist-packages/matplotlib/backends/backend_agg.py:183: RuntimeWarning: Glyph 54620 missing from current font.\n",
            "  font.set_text(s, 0, flags=flags)\n"
          ],
          "name": "stderr"
        },
        {
          "output_type": "display_data",
          "data": {
            "image/png": "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\n",
            "text/plain": [
              "<Figure size 576x576 with 1 Axes>"
            ]
          },
          "metadata": {
            "tags": [],
            "needs_background": "light"
          }
        },
        {
          "output_type": "stream",
          "text": [
            "training >>> 600\n"
          ],
          "name": "stdout"
        },
        {
          "output_type": "stream",
          "text": [
            "/usr/local/lib/python3.6/dist-packages/matplotlib/backends/backend_agg.py:214: RuntimeWarning: Glyph 49688 missing from current font.\n",
            "  font.set_text(s, 0.0, flags=flags)\n",
            "/usr/local/lib/python3.6/dist-packages/matplotlib/backends/backend_agg.py:214: RuntimeWarning: Glyph 54617 missing from current font.\n",
            "  font.set_text(s, 0.0, flags=flags)\n",
            "/usr/local/lib/python3.6/dist-packages/matplotlib/backends/backend_agg.py:214: RuntimeWarning: Glyph 51008 missing from current font.\n",
            "  font.set_text(s, 0.0, flags=flags)\n",
            "/usr/local/lib/python3.6/dist-packages/matplotlib/backends/backend_agg.py:214: RuntimeWarning: Glyph 49885 missing from current font.\n",
            "  font.set_text(s, 0.0, flags=flags)\n",
            "/usr/local/lib/python3.6/dist-packages/matplotlib/backends/backend_agg.py:214: RuntimeWarning: Glyph 51060 missing from current font.\n",
            "  font.set_text(s, 0.0, flags=flags)\n",
            "/usr/local/lib/python3.6/dist-packages/matplotlib/backends/backend_agg.py:214: RuntimeWarning: Glyph 48373 missing from current font.\n",
            "  font.set_text(s, 0.0, flags=flags)\n",
            "/usr/local/lib/python3.6/dist-packages/matplotlib/backends/backend_agg.py:214: RuntimeWarning: Glyph 51105 missing from current font.\n",
            "  font.set_text(s, 0.0, flags=flags)\n",
            "/usr/local/lib/python3.6/dist-packages/matplotlib/backends/backend_agg.py:214: RuntimeWarning: Glyph 54644 missing from current font.\n",
            "  font.set_text(s, 0.0, flags=flags)\n",
            "/usr/local/lib/python3.6/dist-packages/matplotlib/backends/backend_agg.py:214: RuntimeWarning: Glyph 49436 missing from current font.\n",
            "  font.set_text(s, 0.0, flags=flags)\n",
            "/usr/local/lib/python3.6/dist-packages/matplotlib/backends/backend_agg.py:214: RuntimeWarning: Glyph 50612 missing from current font.\n",
            "  font.set_text(s, 0.0, flags=flags)\n",
            "/usr/local/lib/python3.6/dist-packages/matplotlib/backends/backend_agg.py:214: RuntimeWarning: Glyph 47157 missing from current font.\n",
            "  font.set_text(s, 0.0, flags=flags)\n",
            "/usr/local/lib/python3.6/dist-packages/matplotlib/backends/backend_agg.py:214: RuntimeWarning: Glyph 45796 missing from current font.\n",
            "  font.set_text(s, 0.0, flags=flags)\n",
            "/usr/local/lib/python3.6/dist-packages/matplotlib/backends/backend_agg.py:214: RuntimeWarning: Glyph 44277 missing from current font.\n",
            "  font.set_text(s, 0.0, flags=flags)\n",
            "/usr/local/lib/python3.6/dist-packages/matplotlib/backends/backend_agg.py:214: RuntimeWarning: Glyph 47566 missing from current font.\n",
            "  font.set_text(s, 0.0, flags=flags)\n",
            "/usr/local/lib/python3.6/dist-packages/matplotlib/backends/backend_agg.py:214: RuntimeWarning: Glyph 50500 missing from current font.\n",
            "  font.set_text(s, 0.0, flags=flags)\n",
            "/usr/local/lib/python3.6/dist-packages/matplotlib/backends/backend_agg.py:214: RuntimeWarning: Glyph 46104 missing from current font.\n",
            "  font.set_text(s, 0.0, flags=flags)\n",
            "/usr/local/lib/python3.6/dist-packages/matplotlib/backends/backend_agg.py:214: RuntimeWarning: Glyph 47732 missing from current font.\n",
            "  font.set_text(s, 0.0, flags=flags)\n",
            "/usr/local/lib/python3.6/dist-packages/matplotlib/backends/backend_agg.py:214: RuntimeWarning: Glyph 49789 missing from current font.\n",
            "  font.set_text(s, 0.0, flags=flags)\n",
            "/usr/local/lib/python3.6/dist-packages/matplotlib/backends/backend_agg.py:214: RuntimeWarning: Glyph 45733 missing from current font.\n",
            "  font.set_text(s, 0.0, flags=flags)\n",
            "/usr/local/lib/python3.6/dist-packages/matplotlib/backends/backend_agg.py:214: RuntimeWarning: Glyph 53685 missing from current font.\n",
            "  font.set_text(s, 0.0, flags=flags)\n",
            "/usr/local/lib/python3.6/dist-packages/matplotlib/backends/backend_agg.py:214: RuntimeWarning: Glyph 54616 missing from current font.\n",
            "  font.set_text(s, 0.0, flags=flags)\n",
            "/usr/local/lib/python3.6/dist-packages/matplotlib/backends/backend_agg.py:214: RuntimeWarning: Glyph 50689 missing from current font.\n",
            "  font.set_text(s, 0.0, flags=flags)\n",
            "/usr/local/lib/python3.6/dist-packages/matplotlib/backends/backend_agg.py:214: RuntimeWarning: Glyph 45716 missing from current font.\n",
            "  font.set_text(s, 0.0, flags=flags)\n",
            "/usr/local/lib/python3.6/dist-packages/matplotlib/backends/backend_agg.py:214: RuntimeWarning: Glyph 45800 missing from current font.\n",
            "  font.set_text(s, 0.0, flags=flags)\n",
            "/usr/local/lib/python3.6/dist-packages/matplotlib/backends/backend_agg.py:214: RuntimeWarning: Glyph 44032 missing from current font.\n",
            "  font.set_text(s, 0.0, flags=flags)\n",
            "/usr/local/lib/python3.6/dist-packages/matplotlib/backends/backend_agg.py:214: RuntimeWarning: Glyph 46307 missing from current font.\n",
            "  font.set_text(s, 0.0, flags=flags)\n",
            "/usr/local/lib/python3.6/dist-packages/matplotlib/backends/backend_agg.py:214: RuntimeWarning: Glyph 44592 missing from current font.\n",
            "  font.set_text(s, 0.0, flags=flags)\n",
            "/usr/local/lib/python3.6/dist-packages/matplotlib/backends/backend_agg.py:214: RuntimeWarning: Glyph 44397 missing from current font.\n",
            "  font.set_text(s, 0.0, flags=flags)\n",
            "/usr/local/lib/python3.6/dist-packages/matplotlib/backends/backend_agg.py:214: RuntimeWarning: Glyph 51648 missing from current font.\n",
            "  font.set_text(s, 0.0, flags=flags)\n",
            "/usr/local/lib/python3.6/dist-packages/matplotlib/backends/backend_agg.py:214: RuntimeWarning: Glyph 47928 missing from current font.\n",
            "  font.set_text(s, 0.0, flags=flags)\n",
            "/usr/local/lib/python3.6/dist-packages/matplotlib/backends/backend_agg.py:214: RuntimeWarning: Glyph 54620 missing from current font.\n",
            "  font.set_text(s, 0.0, flags=flags)\n",
            "/usr/local/lib/python3.6/dist-packages/matplotlib/backends/backend_agg.py:183: RuntimeWarning: Glyph 49688 missing from current font.\n",
            "  font.set_text(s, 0, flags=flags)\n",
            "/usr/local/lib/python3.6/dist-packages/matplotlib/backends/backend_agg.py:183: RuntimeWarning: Glyph 54617 missing from current font.\n",
            "  font.set_text(s, 0, flags=flags)\n",
            "/usr/local/lib/python3.6/dist-packages/matplotlib/backends/backend_agg.py:183: RuntimeWarning: Glyph 51008 missing from current font.\n",
            "  font.set_text(s, 0, flags=flags)\n",
            "/usr/local/lib/python3.6/dist-packages/matplotlib/backends/backend_agg.py:183: RuntimeWarning: Glyph 49885 missing from current font.\n",
            "  font.set_text(s, 0, flags=flags)\n",
            "/usr/local/lib/python3.6/dist-packages/matplotlib/backends/backend_agg.py:183: RuntimeWarning: Glyph 51060 missing from current font.\n",
            "  font.set_text(s, 0, flags=flags)\n",
            "/usr/local/lib/python3.6/dist-packages/matplotlib/backends/backend_agg.py:183: RuntimeWarning: Glyph 48373 missing from current font.\n",
            "  font.set_text(s, 0, flags=flags)\n",
            "/usr/local/lib/python3.6/dist-packages/matplotlib/backends/backend_agg.py:183: RuntimeWarning: Glyph 51105 missing from current font.\n",
            "  font.set_text(s, 0, flags=flags)\n",
            "/usr/local/lib/python3.6/dist-packages/matplotlib/backends/backend_agg.py:183: RuntimeWarning: Glyph 54644 missing from current font.\n",
            "  font.set_text(s, 0, flags=flags)\n",
            "/usr/local/lib/python3.6/dist-packages/matplotlib/backends/backend_agg.py:183: RuntimeWarning: Glyph 49436 missing from current font.\n",
            "  font.set_text(s, 0, flags=flags)\n",
            "/usr/local/lib/python3.6/dist-packages/matplotlib/backends/backend_agg.py:183: RuntimeWarning: Glyph 50612 missing from current font.\n",
            "  font.set_text(s, 0, flags=flags)\n",
            "/usr/local/lib/python3.6/dist-packages/matplotlib/backends/backend_agg.py:183: RuntimeWarning: Glyph 47157 missing from current font.\n",
            "  font.set_text(s, 0, flags=flags)\n",
            "/usr/local/lib/python3.6/dist-packages/matplotlib/backends/backend_agg.py:183: RuntimeWarning: Glyph 45796 missing from current font.\n",
            "  font.set_text(s, 0, flags=flags)\n",
            "/usr/local/lib/python3.6/dist-packages/matplotlib/backends/backend_agg.py:183: RuntimeWarning: Glyph 44277 missing from current font.\n",
            "  font.set_text(s, 0, flags=flags)\n",
            "/usr/local/lib/python3.6/dist-packages/matplotlib/backends/backend_agg.py:183: RuntimeWarning: Glyph 47566 missing from current font.\n",
            "  font.set_text(s, 0, flags=flags)\n",
            "/usr/local/lib/python3.6/dist-packages/matplotlib/backends/backend_agg.py:183: RuntimeWarning: Glyph 50500 missing from current font.\n",
            "  font.set_text(s, 0, flags=flags)\n",
            "/usr/local/lib/python3.6/dist-packages/matplotlib/backends/backend_agg.py:183: RuntimeWarning: Glyph 46104 missing from current font.\n",
            "  font.set_text(s, 0, flags=flags)\n",
            "/usr/local/lib/python3.6/dist-packages/matplotlib/backends/backend_agg.py:183: RuntimeWarning: Glyph 47732 missing from current font.\n",
            "  font.set_text(s, 0, flags=flags)\n",
            "/usr/local/lib/python3.6/dist-packages/matplotlib/backends/backend_agg.py:183: RuntimeWarning: Glyph 49789 missing from current font.\n",
            "  font.set_text(s, 0, flags=flags)\n",
            "/usr/local/lib/python3.6/dist-packages/matplotlib/backends/backend_agg.py:183: RuntimeWarning: Glyph 45733 missing from current font.\n",
            "  font.set_text(s, 0, flags=flags)\n",
            "/usr/local/lib/python3.6/dist-packages/matplotlib/backends/backend_agg.py:183: RuntimeWarning: Glyph 53685 missing from current font.\n",
            "  font.set_text(s, 0, flags=flags)\n",
            "/usr/local/lib/python3.6/dist-packages/matplotlib/backends/backend_agg.py:183: RuntimeWarning: Glyph 54616 missing from current font.\n",
            "  font.set_text(s, 0, flags=flags)\n",
            "/usr/local/lib/python3.6/dist-packages/matplotlib/backends/backend_agg.py:183: RuntimeWarning: Glyph 50689 missing from current font.\n",
            "  font.set_text(s, 0, flags=flags)\n",
            "/usr/local/lib/python3.6/dist-packages/matplotlib/backends/backend_agg.py:183: RuntimeWarning: Glyph 45716 missing from current font.\n",
            "  font.set_text(s, 0, flags=flags)\n",
            "/usr/local/lib/python3.6/dist-packages/matplotlib/backends/backend_agg.py:183: RuntimeWarning: Glyph 45800 missing from current font.\n",
            "  font.set_text(s, 0, flags=flags)\n",
            "/usr/local/lib/python3.6/dist-packages/matplotlib/backends/backend_agg.py:183: RuntimeWarning: Glyph 44032 missing from current font.\n",
            "  font.set_text(s, 0, flags=flags)\n",
            "/usr/local/lib/python3.6/dist-packages/matplotlib/backends/backend_agg.py:183: RuntimeWarning: Glyph 46307 missing from current font.\n",
            "  font.set_text(s, 0, flags=flags)\n",
            "/usr/local/lib/python3.6/dist-packages/matplotlib/backends/backend_agg.py:183: RuntimeWarning: Glyph 44592 missing from current font.\n",
            "  font.set_text(s, 0, flags=flags)\n",
            "/usr/local/lib/python3.6/dist-packages/matplotlib/backends/backend_agg.py:183: RuntimeWarning: Glyph 44397 missing from current font.\n",
            "  font.set_text(s, 0, flags=flags)\n",
            "/usr/local/lib/python3.6/dist-packages/matplotlib/backends/backend_agg.py:183: RuntimeWarning: Glyph 51648 missing from current font.\n",
            "  font.set_text(s, 0, flags=flags)\n",
            "/usr/local/lib/python3.6/dist-packages/matplotlib/backends/backend_agg.py:183: RuntimeWarning: Glyph 47928 missing from current font.\n",
            "  font.set_text(s, 0, flags=flags)\n",
            "/usr/local/lib/python3.6/dist-packages/matplotlib/backends/backend_agg.py:183: RuntimeWarning: Glyph 54620 missing from current font.\n",
            "  font.set_text(s, 0, flags=flags)\n"
          ],
          "name": "stderr"
        },
        {
          "output_type": "display_data",
          "data": {
            "image/png": "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\n",
            "text/plain": [
              "<Figure size 576x576 with 1 Axes>"
            ]
          },
          "metadata": {
            "tags": [],
            "needs_background": "light"
          }
        },
        {
          "output_type": "stream",
          "text": [
            "training >>> 700\n"
          ],
          "name": "stdout"
        },
        {
          "output_type": "stream",
          "text": [
            "/usr/local/lib/python3.6/dist-packages/matplotlib/backends/backend_agg.py:214: RuntimeWarning: Glyph 49688 missing from current font.\n",
            "  font.set_text(s, 0.0, flags=flags)\n",
            "/usr/local/lib/python3.6/dist-packages/matplotlib/backends/backend_agg.py:214: RuntimeWarning: Glyph 54617 missing from current font.\n",
            "  font.set_text(s, 0.0, flags=flags)\n",
            "/usr/local/lib/python3.6/dist-packages/matplotlib/backends/backend_agg.py:214: RuntimeWarning: Glyph 51008 missing from current font.\n",
            "  font.set_text(s, 0.0, flags=flags)\n",
            "/usr/local/lib/python3.6/dist-packages/matplotlib/backends/backend_agg.py:214: RuntimeWarning: Glyph 49885 missing from current font.\n",
            "  font.set_text(s, 0.0, flags=flags)\n",
            "/usr/local/lib/python3.6/dist-packages/matplotlib/backends/backend_agg.py:214: RuntimeWarning: Glyph 51060 missing from current font.\n",
            "  font.set_text(s, 0.0, flags=flags)\n",
            "/usr/local/lib/python3.6/dist-packages/matplotlib/backends/backend_agg.py:214: RuntimeWarning: Glyph 48373 missing from current font.\n",
            "  font.set_text(s, 0.0, flags=flags)\n",
            "/usr/local/lib/python3.6/dist-packages/matplotlib/backends/backend_agg.py:214: RuntimeWarning: Glyph 51105 missing from current font.\n",
            "  font.set_text(s, 0.0, flags=flags)\n",
            "/usr/local/lib/python3.6/dist-packages/matplotlib/backends/backend_agg.py:214: RuntimeWarning: Glyph 54644 missing from current font.\n",
            "  font.set_text(s, 0.0, flags=flags)\n",
            "/usr/local/lib/python3.6/dist-packages/matplotlib/backends/backend_agg.py:214: RuntimeWarning: Glyph 49436 missing from current font.\n",
            "  font.set_text(s, 0.0, flags=flags)\n",
            "/usr/local/lib/python3.6/dist-packages/matplotlib/backends/backend_agg.py:214: RuntimeWarning: Glyph 50612 missing from current font.\n",
            "  font.set_text(s, 0.0, flags=flags)\n",
            "/usr/local/lib/python3.6/dist-packages/matplotlib/backends/backend_agg.py:214: RuntimeWarning: Glyph 47157 missing from current font.\n",
            "  font.set_text(s, 0.0, flags=flags)\n",
            "/usr/local/lib/python3.6/dist-packages/matplotlib/backends/backend_agg.py:214: RuntimeWarning: Glyph 45796 missing from current font.\n",
            "  font.set_text(s, 0.0, flags=flags)\n",
            "/usr/local/lib/python3.6/dist-packages/matplotlib/backends/backend_agg.py:214: RuntimeWarning: Glyph 44277 missing from current font.\n",
            "  font.set_text(s, 0.0, flags=flags)\n",
            "/usr/local/lib/python3.6/dist-packages/matplotlib/backends/backend_agg.py:214: RuntimeWarning: Glyph 47566 missing from current font.\n",
            "  font.set_text(s, 0.0, flags=flags)\n",
            "/usr/local/lib/python3.6/dist-packages/matplotlib/backends/backend_agg.py:214: RuntimeWarning: Glyph 50500 missing from current font.\n",
            "  font.set_text(s, 0.0, flags=flags)\n",
            "/usr/local/lib/python3.6/dist-packages/matplotlib/backends/backend_agg.py:214: RuntimeWarning: Glyph 46104 missing from current font.\n",
            "  font.set_text(s, 0.0, flags=flags)\n",
            "/usr/local/lib/python3.6/dist-packages/matplotlib/backends/backend_agg.py:214: RuntimeWarning: Glyph 47732 missing from current font.\n",
            "  font.set_text(s, 0.0, flags=flags)\n",
            "/usr/local/lib/python3.6/dist-packages/matplotlib/backends/backend_agg.py:214: RuntimeWarning: Glyph 49789 missing from current font.\n",
            "  font.set_text(s, 0.0, flags=flags)\n",
            "/usr/local/lib/python3.6/dist-packages/matplotlib/backends/backend_agg.py:214: RuntimeWarning: Glyph 45733 missing from current font.\n",
            "  font.set_text(s, 0.0, flags=flags)\n",
            "/usr/local/lib/python3.6/dist-packages/matplotlib/backends/backend_agg.py:214: RuntimeWarning: Glyph 53685 missing from current font.\n",
            "  font.set_text(s, 0.0, flags=flags)\n",
            "/usr/local/lib/python3.6/dist-packages/matplotlib/backends/backend_agg.py:214: RuntimeWarning: Glyph 54616 missing from current font.\n",
            "  font.set_text(s, 0.0, flags=flags)\n",
            "/usr/local/lib/python3.6/dist-packages/matplotlib/backends/backend_agg.py:214: RuntimeWarning: Glyph 50689 missing from current font.\n",
            "  font.set_text(s, 0.0, flags=flags)\n",
            "/usr/local/lib/python3.6/dist-packages/matplotlib/backends/backend_agg.py:214: RuntimeWarning: Glyph 45716 missing from current font.\n",
            "  font.set_text(s, 0.0, flags=flags)\n",
            "/usr/local/lib/python3.6/dist-packages/matplotlib/backends/backend_agg.py:214: RuntimeWarning: Glyph 45800 missing from current font.\n",
            "  font.set_text(s, 0.0, flags=flags)\n",
            "/usr/local/lib/python3.6/dist-packages/matplotlib/backends/backend_agg.py:214: RuntimeWarning: Glyph 44032 missing from current font.\n",
            "  font.set_text(s, 0.0, flags=flags)\n",
            "/usr/local/lib/python3.6/dist-packages/matplotlib/backends/backend_agg.py:214: RuntimeWarning: Glyph 46307 missing from current font.\n",
            "  font.set_text(s, 0.0, flags=flags)\n",
            "/usr/local/lib/python3.6/dist-packages/matplotlib/backends/backend_agg.py:214: RuntimeWarning: Glyph 44592 missing from current font.\n",
            "  font.set_text(s, 0.0, flags=flags)\n",
            "/usr/local/lib/python3.6/dist-packages/matplotlib/backends/backend_agg.py:214: RuntimeWarning: Glyph 44397 missing from current font.\n",
            "  font.set_text(s, 0.0, flags=flags)\n",
            "/usr/local/lib/python3.6/dist-packages/matplotlib/backends/backend_agg.py:214: RuntimeWarning: Glyph 51648 missing from current font.\n",
            "  font.set_text(s, 0.0, flags=flags)\n",
            "/usr/local/lib/python3.6/dist-packages/matplotlib/backends/backend_agg.py:214: RuntimeWarning: Glyph 47928 missing from current font.\n",
            "  font.set_text(s, 0.0, flags=flags)\n",
            "/usr/local/lib/python3.6/dist-packages/matplotlib/backends/backend_agg.py:214: RuntimeWarning: Glyph 54620 missing from current font.\n",
            "  font.set_text(s, 0.0, flags=flags)\n",
            "/usr/local/lib/python3.6/dist-packages/matplotlib/backends/backend_agg.py:183: RuntimeWarning: Glyph 49688 missing from current font.\n",
            "  font.set_text(s, 0, flags=flags)\n",
            "/usr/local/lib/python3.6/dist-packages/matplotlib/backends/backend_agg.py:183: RuntimeWarning: Glyph 54617 missing from current font.\n",
            "  font.set_text(s, 0, flags=flags)\n",
            "/usr/local/lib/python3.6/dist-packages/matplotlib/backends/backend_agg.py:183: RuntimeWarning: Glyph 51008 missing from current font.\n",
            "  font.set_text(s, 0, flags=flags)\n",
            "/usr/local/lib/python3.6/dist-packages/matplotlib/backends/backend_agg.py:183: RuntimeWarning: Glyph 49885 missing from current font.\n",
            "  font.set_text(s, 0, flags=flags)\n",
            "/usr/local/lib/python3.6/dist-packages/matplotlib/backends/backend_agg.py:183: RuntimeWarning: Glyph 51060 missing from current font.\n",
            "  font.set_text(s, 0, flags=flags)\n",
            "/usr/local/lib/python3.6/dist-packages/matplotlib/backends/backend_agg.py:183: RuntimeWarning: Glyph 48373 missing from current font.\n",
            "  font.set_text(s, 0, flags=flags)\n",
            "/usr/local/lib/python3.6/dist-packages/matplotlib/backends/backend_agg.py:183: RuntimeWarning: Glyph 51105 missing from current font.\n",
            "  font.set_text(s, 0, flags=flags)\n",
            "/usr/local/lib/python3.6/dist-packages/matplotlib/backends/backend_agg.py:183: RuntimeWarning: Glyph 54644 missing from current font.\n",
            "  font.set_text(s, 0, flags=flags)\n",
            "/usr/local/lib/python3.6/dist-packages/matplotlib/backends/backend_agg.py:183: RuntimeWarning: Glyph 49436 missing from current font.\n",
            "  font.set_text(s, 0, flags=flags)\n",
            "/usr/local/lib/python3.6/dist-packages/matplotlib/backends/backend_agg.py:183: RuntimeWarning: Glyph 50612 missing from current font.\n",
            "  font.set_text(s, 0, flags=flags)\n",
            "/usr/local/lib/python3.6/dist-packages/matplotlib/backends/backend_agg.py:183: RuntimeWarning: Glyph 47157 missing from current font.\n",
            "  font.set_text(s, 0, flags=flags)\n",
            "/usr/local/lib/python3.6/dist-packages/matplotlib/backends/backend_agg.py:183: RuntimeWarning: Glyph 45796 missing from current font.\n",
            "  font.set_text(s, 0, flags=flags)\n",
            "/usr/local/lib/python3.6/dist-packages/matplotlib/backends/backend_agg.py:183: RuntimeWarning: Glyph 44277 missing from current font.\n",
            "  font.set_text(s, 0, flags=flags)\n",
            "/usr/local/lib/python3.6/dist-packages/matplotlib/backends/backend_agg.py:183: RuntimeWarning: Glyph 47566 missing from current font.\n",
            "  font.set_text(s, 0, flags=flags)\n",
            "/usr/local/lib/python3.6/dist-packages/matplotlib/backends/backend_agg.py:183: RuntimeWarning: Glyph 50500 missing from current font.\n",
            "  font.set_text(s, 0, flags=flags)\n",
            "/usr/local/lib/python3.6/dist-packages/matplotlib/backends/backend_agg.py:183: RuntimeWarning: Glyph 46104 missing from current font.\n",
            "  font.set_text(s, 0, flags=flags)\n",
            "/usr/local/lib/python3.6/dist-packages/matplotlib/backends/backend_agg.py:183: RuntimeWarning: Glyph 47732 missing from current font.\n",
            "  font.set_text(s, 0, flags=flags)\n",
            "/usr/local/lib/python3.6/dist-packages/matplotlib/backends/backend_agg.py:183: RuntimeWarning: Glyph 49789 missing from current font.\n",
            "  font.set_text(s, 0, flags=flags)\n",
            "/usr/local/lib/python3.6/dist-packages/matplotlib/backends/backend_agg.py:183: RuntimeWarning: Glyph 45733 missing from current font.\n",
            "  font.set_text(s, 0, flags=flags)\n",
            "/usr/local/lib/python3.6/dist-packages/matplotlib/backends/backend_agg.py:183: RuntimeWarning: Glyph 53685 missing from current font.\n",
            "  font.set_text(s, 0, flags=flags)\n",
            "/usr/local/lib/python3.6/dist-packages/matplotlib/backends/backend_agg.py:183: RuntimeWarning: Glyph 54616 missing from current font.\n",
            "  font.set_text(s, 0, flags=flags)\n",
            "/usr/local/lib/python3.6/dist-packages/matplotlib/backends/backend_agg.py:183: RuntimeWarning: Glyph 50689 missing from current font.\n",
            "  font.set_text(s, 0, flags=flags)\n",
            "/usr/local/lib/python3.6/dist-packages/matplotlib/backends/backend_agg.py:183: RuntimeWarning: Glyph 45716 missing from current font.\n",
            "  font.set_text(s, 0, flags=flags)\n",
            "/usr/local/lib/python3.6/dist-packages/matplotlib/backends/backend_agg.py:183: RuntimeWarning: Glyph 45800 missing from current font.\n",
            "  font.set_text(s, 0, flags=flags)\n",
            "/usr/local/lib/python3.6/dist-packages/matplotlib/backends/backend_agg.py:183: RuntimeWarning: Glyph 44032 missing from current font.\n",
            "  font.set_text(s, 0, flags=flags)\n",
            "/usr/local/lib/python3.6/dist-packages/matplotlib/backends/backend_agg.py:183: RuntimeWarning: Glyph 46307 missing from current font.\n",
            "  font.set_text(s, 0, flags=flags)\n",
            "/usr/local/lib/python3.6/dist-packages/matplotlib/backends/backend_agg.py:183: RuntimeWarning: Glyph 44592 missing from current font.\n",
            "  font.set_text(s, 0, flags=flags)\n",
            "/usr/local/lib/python3.6/dist-packages/matplotlib/backends/backend_agg.py:183: RuntimeWarning: Glyph 44397 missing from current font.\n",
            "  font.set_text(s, 0, flags=flags)\n",
            "/usr/local/lib/python3.6/dist-packages/matplotlib/backends/backend_agg.py:183: RuntimeWarning: Glyph 51648 missing from current font.\n",
            "  font.set_text(s, 0, flags=flags)\n",
            "/usr/local/lib/python3.6/dist-packages/matplotlib/backends/backend_agg.py:183: RuntimeWarning: Glyph 47928 missing from current font.\n",
            "  font.set_text(s, 0, flags=flags)\n",
            "/usr/local/lib/python3.6/dist-packages/matplotlib/backends/backend_agg.py:183: RuntimeWarning: Glyph 54620 missing from current font.\n",
            "  font.set_text(s, 0, flags=flags)\n"
          ],
          "name": "stderr"
        },
        {
          "output_type": "display_data",
          "data": {
            "image/png": "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\n",
            "text/plain": [
              "<Figure size 576x576 with 1 Axes>"
            ]
          },
          "metadata": {
            "tags": [],
            "needs_background": "light"
          }
        },
        {
          "output_type": "stream",
          "text": [
            "training >>> 800\n"
          ],
          "name": "stdout"
        },
        {
          "output_type": "stream",
          "text": [
            "/usr/local/lib/python3.6/dist-packages/matplotlib/backends/backend_agg.py:214: RuntimeWarning: Glyph 49688 missing from current font.\n",
            "  font.set_text(s, 0.0, flags=flags)\n",
            "/usr/local/lib/python3.6/dist-packages/matplotlib/backends/backend_agg.py:214: RuntimeWarning: Glyph 54617 missing from current font.\n",
            "  font.set_text(s, 0.0, flags=flags)\n",
            "/usr/local/lib/python3.6/dist-packages/matplotlib/backends/backend_agg.py:214: RuntimeWarning: Glyph 51008 missing from current font.\n",
            "  font.set_text(s, 0.0, flags=flags)\n",
            "/usr/local/lib/python3.6/dist-packages/matplotlib/backends/backend_agg.py:214: RuntimeWarning: Glyph 49885 missing from current font.\n",
            "  font.set_text(s, 0.0, flags=flags)\n",
            "/usr/local/lib/python3.6/dist-packages/matplotlib/backends/backend_agg.py:214: RuntimeWarning: Glyph 51060 missing from current font.\n",
            "  font.set_text(s, 0.0, flags=flags)\n",
            "/usr/local/lib/python3.6/dist-packages/matplotlib/backends/backend_agg.py:214: RuntimeWarning: Glyph 48373 missing from current font.\n",
            "  font.set_text(s, 0.0, flags=flags)\n",
            "/usr/local/lib/python3.6/dist-packages/matplotlib/backends/backend_agg.py:214: RuntimeWarning: Glyph 51105 missing from current font.\n",
            "  font.set_text(s, 0.0, flags=flags)\n",
            "/usr/local/lib/python3.6/dist-packages/matplotlib/backends/backend_agg.py:214: RuntimeWarning: Glyph 54644 missing from current font.\n",
            "  font.set_text(s, 0.0, flags=flags)\n",
            "/usr/local/lib/python3.6/dist-packages/matplotlib/backends/backend_agg.py:214: RuntimeWarning: Glyph 49436 missing from current font.\n",
            "  font.set_text(s, 0.0, flags=flags)\n",
            "/usr/local/lib/python3.6/dist-packages/matplotlib/backends/backend_agg.py:214: RuntimeWarning: Glyph 50612 missing from current font.\n",
            "  font.set_text(s, 0.0, flags=flags)\n",
            "/usr/local/lib/python3.6/dist-packages/matplotlib/backends/backend_agg.py:214: RuntimeWarning: Glyph 47157 missing from current font.\n",
            "  font.set_text(s, 0.0, flags=flags)\n",
            "/usr/local/lib/python3.6/dist-packages/matplotlib/backends/backend_agg.py:214: RuntimeWarning: Glyph 45796 missing from current font.\n",
            "  font.set_text(s, 0.0, flags=flags)\n",
            "/usr/local/lib/python3.6/dist-packages/matplotlib/backends/backend_agg.py:214: RuntimeWarning: Glyph 44277 missing from current font.\n",
            "  font.set_text(s, 0.0, flags=flags)\n",
            "/usr/local/lib/python3.6/dist-packages/matplotlib/backends/backend_agg.py:214: RuntimeWarning: Glyph 47566 missing from current font.\n",
            "  font.set_text(s, 0.0, flags=flags)\n",
            "/usr/local/lib/python3.6/dist-packages/matplotlib/backends/backend_agg.py:214: RuntimeWarning: Glyph 50500 missing from current font.\n",
            "  font.set_text(s, 0.0, flags=flags)\n",
            "/usr/local/lib/python3.6/dist-packages/matplotlib/backends/backend_agg.py:214: RuntimeWarning: Glyph 46104 missing from current font.\n",
            "  font.set_text(s, 0.0, flags=flags)\n",
            "/usr/local/lib/python3.6/dist-packages/matplotlib/backends/backend_agg.py:214: RuntimeWarning: Glyph 47732 missing from current font.\n",
            "  font.set_text(s, 0.0, flags=flags)\n",
            "/usr/local/lib/python3.6/dist-packages/matplotlib/backends/backend_agg.py:214: RuntimeWarning: Glyph 49789 missing from current font.\n",
            "  font.set_text(s, 0.0, flags=flags)\n",
            "/usr/local/lib/python3.6/dist-packages/matplotlib/backends/backend_agg.py:214: RuntimeWarning: Glyph 45733 missing from current font.\n",
            "  font.set_text(s, 0.0, flags=flags)\n",
            "/usr/local/lib/python3.6/dist-packages/matplotlib/backends/backend_agg.py:214: RuntimeWarning: Glyph 53685 missing from current font.\n",
            "  font.set_text(s, 0.0, flags=flags)\n",
            "/usr/local/lib/python3.6/dist-packages/matplotlib/backends/backend_agg.py:214: RuntimeWarning: Glyph 54616 missing from current font.\n",
            "  font.set_text(s, 0.0, flags=flags)\n",
            "/usr/local/lib/python3.6/dist-packages/matplotlib/backends/backend_agg.py:214: RuntimeWarning: Glyph 50689 missing from current font.\n",
            "  font.set_text(s, 0.0, flags=flags)\n",
            "/usr/local/lib/python3.6/dist-packages/matplotlib/backends/backend_agg.py:214: RuntimeWarning: Glyph 45716 missing from current font.\n",
            "  font.set_text(s, 0.0, flags=flags)\n",
            "/usr/local/lib/python3.6/dist-packages/matplotlib/backends/backend_agg.py:214: RuntimeWarning: Glyph 45800 missing from current font.\n",
            "  font.set_text(s, 0.0, flags=flags)\n",
            "/usr/local/lib/python3.6/dist-packages/matplotlib/backends/backend_agg.py:214: RuntimeWarning: Glyph 44032 missing from current font.\n",
            "  font.set_text(s, 0.0, flags=flags)\n",
            "/usr/local/lib/python3.6/dist-packages/matplotlib/backends/backend_agg.py:214: RuntimeWarning: Glyph 46307 missing from current font.\n",
            "  font.set_text(s, 0.0, flags=flags)\n",
            "/usr/local/lib/python3.6/dist-packages/matplotlib/backends/backend_agg.py:214: RuntimeWarning: Glyph 44592 missing from current font.\n",
            "  font.set_text(s, 0.0, flags=flags)\n",
            "/usr/local/lib/python3.6/dist-packages/matplotlib/backends/backend_agg.py:214: RuntimeWarning: Glyph 44397 missing from current font.\n",
            "  font.set_text(s, 0.0, flags=flags)\n",
            "/usr/local/lib/python3.6/dist-packages/matplotlib/backends/backend_agg.py:214: RuntimeWarning: Glyph 51648 missing from current font.\n",
            "  font.set_text(s, 0.0, flags=flags)\n",
            "/usr/local/lib/python3.6/dist-packages/matplotlib/backends/backend_agg.py:214: RuntimeWarning: Glyph 47928 missing from current font.\n",
            "  font.set_text(s, 0.0, flags=flags)\n",
            "/usr/local/lib/python3.6/dist-packages/matplotlib/backends/backend_agg.py:214: RuntimeWarning: Glyph 54620 missing from current font.\n",
            "  font.set_text(s, 0.0, flags=flags)\n",
            "/usr/local/lib/python3.6/dist-packages/matplotlib/backends/backend_agg.py:183: RuntimeWarning: Glyph 49688 missing from current font.\n",
            "  font.set_text(s, 0, flags=flags)\n",
            "/usr/local/lib/python3.6/dist-packages/matplotlib/backends/backend_agg.py:183: RuntimeWarning: Glyph 54617 missing from current font.\n",
            "  font.set_text(s, 0, flags=flags)\n",
            "/usr/local/lib/python3.6/dist-packages/matplotlib/backends/backend_agg.py:183: RuntimeWarning: Glyph 51008 missing from current font.\n",
            "  font.set_text(s, 0, flags=flags)\n",
            "/usr/local/lib/python3.6/dist-packages/matplotlib/backends/backend_agg.py:183: RuntimeWarning: Glyph 49885 missing from current font.\n",
            "  font.set_text(s, 0, flags=flags)\n",
            "/usr/local/lib/python3.6/dist-packages/matplotlib/backends/backend_agg.py:183: RuntimeWarning: Glyph 51060 missing from current font.\n",
            "  font.set_text(s, 0, flags=flags)\n",
            "/usr/local/lib/python3.6/dist-packages/matplotlib/backends/backend_agg.py:183: RuntimeWarning: Glyph 48373 missing from current font.\n",
            "  font.set_text(s, 0, flags=flags)\n",
            "/usr/local/lib/python3.6/dist-packages/matplotlib/backends/backend_agg.py:183: RuntimeWarning: Glyph 51105 missing from current font.\n",
            "  font.set_text(s, 0, flags=flags)\n",
            "/usr/local/lib/python3.6/dist-packages/matplotlib/backends/backend_agg.py:183: RuntimeWarning: Glyph 54644 missing from current font.\n",
            "  font.set_text(s, 0, flags=flags)\n",
            "/usr/local/lib/python3.6/dist-packages/matplotlib/backends/backend_agg.py:183: RuntimeWarning: Glyph 49436 missing from current font.\n",
            "  font.set_text(s, 0, flags=flags)\n",
            "/usr/local/lib/python3.6/dist-packages/matplotlib/backends/backend_agg.py:183: RuntimeWarning: Glyph 50612 missing from current font.\n",
            "  font.set_text(s, 0, flags=flags)\n",
            "/usr/local/lib/python3.6/dist-packages/matplotlib/backends/backend_agg.py:183: RuntimeWarning: Glyph 47157 missing from current font.\n",
            "  font.set_text(s, 0, flags=flags)\n",
            "/usr/local/lib/python3.6/dist-packages/matplotlib/backends/backend_agg.py:183: RuntimeWarning: Glyph 45796 missing from current font.\n",
            "  font.set_text(s, 0, flags=flags)\n",
            "/usr/local/lib/python3.6/dist-packages/matplotlib/backends/backend_agg.py:183: RuntimeWarning: Glyph 44277 missing from current font.\n",
            "  font.set_text(s, 0, flags=flags)\n",
            "/usr/local/lib/python3.6/dist-packages/matplotlib/backends/backend_agg.py:183: RuntimeWarning: Glyph 47566 missing from current font.\n",
            "  font.set_text(s, 0, flags=flags)\n",
            "/usr/local/lib/python3.6/dist-packages/matplotlib/backends/backend_agg.py:183: RuntimeWarning: Glyph 50500 missing from current font.\n",
            "  font.set_text(s, 0, flags=flags)\n",
            "/usr/local/lib/python3.6/dist-packages/matplotlib/backends/backend_agg.py:183: RuntimeWarning: Glyph 46104 missing from current font.\n",
            "  font.set_text(s, 0, flags=flags)\n",
            "/usr/local/lib/python3.6/dist-packages/matplotlib/backends/backend_agg.py:183: RuntimeWarning: Glyph 47732 missing from current font.\n",
            "  font.set_text(s, 0, flags=flags)\n",
            "/usr/local/lib/python3.6/dist-packages/matplotlib/backends/backend_agg.py:183: RuntimeWarning: Glyph 49789 missing from current font.\n",
            "  font.set_text(s, 0, flags=flags)\n",
            "/usr/local/lib/python3.6/dist-packages/matplotlib/backends/backend_agg.py:183: RuntimeWarning: Glyph 45733 missing from current font.\n",
            "  font.set_text(s, 0, flags=flags)\n",
            "/usr/local/lib/python3.6/dist-packages/matplotlib/backends/backend_agg.py:183: RuntimeWarning: Glyph 53685 missing from current font.\n",
            "  font.set_text(s, 0, flags=flags)\n",
            "/usr/local/lib/python3.6/dist-packages/matplotlib/backends/backend_agg.py:183: RuntimeWarning: Glyph 54616 missing from current font.\n",
            "  font.set_text(s, 0, flags=flags)\n",
            "/usr/local/lib/python3.6/dist-packages/matplotlib/backends/backend_agg.py:183: RuntimeWarning: Glyph 50689 missing from current font.\n",
            "  font.set_text(s, 0, flags=flags)\n",
            "/usr/local/lib/python3.6/dist-packages/matplotlib/backends/backend_agg.py:183: RuntimeWarning: Glyph 45716 missing from current font.\n",
            "  font.set_text(s, 0, flags=flags)\n",
            "/usr/local/lib/python3.6/dist-packages/matplotlib/backends/backend_agg.py:183: RuntimeWarning: Glyph 45800 missing from current font.\n",
            "  font.set_text(s, 0, flags=flags)\n",
            "/usr/local/lib/python3.6/dist-packages/matplotlib/backends/backend_agg.py:183: RuntimeWarning: Glyph 44032 missing from current font.\n",
            "  font.set_text(s, 0, flags=flags)\n",
            "/usr/local/lib/python3.6/dist-packages/matplotlib/backends/backend_agg.py:183: RuntimeWarning: Glyph 46307 missing from current font.\n",
            "  font.set_text(s, 0, flags=flags)\n",
            "/usr/local/lib/python3.6/dist-packages/matplotlib/backends/backend_agg.py:183: RuntimeWarning: Glyph 44592 missing from current font.\n",
            "  font.set_text(s, 0, flags=flags)\n",
            "/usr/local/lib/python3.6/dist-packages/matplotlib/backends/backend_agg.py:183: RuntimeWarning: Glyph 44397 missing from current font.\n",
            "  font.set_text(s, 0, flags=flags)\n",
            "/usr/local/lib/python3.6/dist-packages/matplotlib/backends/backend_agg.py:183: RuntimeWarning: Glyph 51648 missing from current font.\n",
            "  font.set_text(s, 0, flags=flags)\n",
            "/usr/local/lib/python3.6/dist-packages/matplotlib/backends/backend_agg.py:183: RuntimeWarning: Glyph 47928 missing from current font.\n",
            "  font.set_text(s, 0, flags=flags)\n",
            "/usr/local/lib/python3.6/dist-packages/matplotlib/backends/backend_agg.py:183: RuntimeWarning: Glyph 54620 missing from current font.\n",
            "  font.set_text(s, 0, flags=flags)\n"
          ],
          "name": "stderr"
        },
        {
          "output_type": "display_data",
          "data": {
            "image/png": "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\n",
            "text/plain": [
              "<Figure size 576x576 with 1 Axes>"
            ]
          },
          "metadata": {
            "tags": [],
            "needs_background": "light"
          }
        },
        {
          "output_type": "stream",
          "text": [
            "training >>> 900\n"
          ],
          "name": "stdout"
        },
        {
          "output_type": "stream",
          "text": [
            "/usr/local/lib/python3.6/dist-packages/matplotlib/backends/backend_agg.py:214: RuntimeWarning: Glyph 49688 missing from current font.\n",
            "  font.set_text(s, 0.0, flags=flags)\n",
            "/usr/local/lib/python3.6/dist-packages/matplotlib/backends/backend_agg.py:214: RuntimeWarning: Glyph 54617 missing from current font.\n",
            "  font.set_text(s, 0.0, flags=flags)\n",
            "/usr/local/lib/python3.6/dist-packages/matplotlib/backends/backend_agg.py:214: RuntimeWarning: Glyph 51008 missing from current font.\n",
            "  font.set_text(s, 0.0, flags=flags)\n",
            "/usr/local/lib/python3.6/dist-packages/matplotlib/backends/backend_agg.py:214: RuntimeWarning: Glyph 49885 missing from current font.\n",
            "  font.set_text(s, 0.0, flags=flags)\n",
            "/usr/local/lib/python3.6/dist-packages/matplotlib/backends/backend_agg.py:214: RuntimeWarning: Glyph 51060 missing from current font.\n",
            "  font.set_text(s, 0.0, flags=flags)\n",
            "/usr/local/lib/python3.6/dist-packages/matplotlib/backends/backend_agg.py:214: RuntimeWarning: Glyph 48373 missing from current font.\n",
            "  font.set_text(s, 0.0, flags=flags)\n",
            "/usr/local/lib/python3.6/dist-packages/matplotlib/backends/backend_agg.py:214: RuntimeWarning: Glyph 51105 missing from current font.\n",
            "  font.set_text(s, 0.0, flags=flags)\n",
            "/usr/local/lib/python3.6/dist-packages/matplotlib/backends/backend_agg.py:214: RuntimeWarning: Glyph 54644 missing from current font.\n",
            "  font.set_text(s, 0.0, flags=flags)\n",
            "/usr/local/lib/python3.6/dist-packages/matplotlib/backends/backend_agg.py:214: RuntimeWarning: Glyph 49436 missing from current font.\n",
            "  font.set_text(s, 0.0, flags=flags)\n",
            "/usr/local/lib/python3.6/dist-packages/matplotlib/backends/backend_agg.py:214: RuntimeWarning: Glyph 50612 missing from current font.\n",
            "  font.set_text(s, 0.0, flags=flags)\n",
            "/usr/local/lib/python3.6/dist-packages/matplotlib/backends/backend_agg.py:214: RuntimeWarning: Glyph 47157 missing from current font.\n",
            "  font.set_text(s, 0.0, flags=flags)\n",
            "/usr/local/lib/python3.6/dist-packages/matplotlib/backends/backend_agg.py:214: RuntimeWarning: Glyph 45796 missing from current font.\n",
            "  font.set_text(s, 0.0, flags=flags)\n",
            "/usr/local/lib/python3.6/dist-packages/matplotlib/backends/backend_agg.py:214: RuntimeWarning: Glyph 44277 missing from current font.\n",
            "  font.set_text(s, 0.0, flags=flags)\n",
            "/usr/local/lib/python3.6/dist-packages/matplotlib/backends/backend_agg.py:214: RuntimeWarning: Glyph 47566 missing from current font.\n",
            "  font.set_text(s, 0.0, flags=flags)\n",
            "/usr/local/lib/python3.6/dist-packages/matplotlib/backends/backend_agg.py:214: RuntimeWarning: Glyph 50500 missing from current font.\n",
            "  font.set_text(s, 0.0, flags=flags)\n",
            "/usr/local/lib/python3.6/dist-packages/matplotlib/backends/backend_agg.py:214: RuntimeWarning: Glyph 46104 missing from current font.\n",
            "  font.set_text(s, 0.0, flags=flags)\n",
            "/usr/local/lib/python3.6/dist-packages/matplotlib/backends/backend_agg.py:214: RuntimeWarning: Glyph 47732 missing from current font.\n",
            "  font.set_text(s, 0.0, flags=flags)\n",
            "/usr/local/lib/python3.6/dist-packages/matplotlib/backends/backend_agg.py:214: RuntimeWarning: Glyph 49789 missing from current font.\n",
            "  font.set_text(s, 0.0, flags=flags)\n",
            "/usr/local/lib/python3.6/dist-packages/matplotlib/backends/backend_agg.py:214: RuntimeWarning: Glyph 45733 missing from current font.\n",
            "  font.set_text(s, 0.0, flags=flags)\n",
            "/usr/local/lib/python3.6/dist-packages/matplotlib/backends/backend_agg.py:214: RuntimeWarning: Glyph 53685 missing from current font.\n",
            "  font.set_text(s, 0.0, flags=flags)\n",
            "/usr/local/lib/python3.6/dist-packages/matplotlib/backends/backend_agg.py:214: RuntimeWarning: Glyph 54616 missing from current font.\n",
            "  font.set_text(s, 0.0, flags=flags)\n",
            "/usr/local/lib/python3.6/dist-packages/matplotlib/backends/backend_agg.py:214: RuntimeWarning: Glyph 50689 missing from current font.\n",
            "  font.set_text(s, 0.0, flags=flags)\n",
            "/usr/local/lib/python3.6/dist-packages/matplotlib/backends/backend_agg.py:214: RuntimeWarning: Glyph 45716 missing from current font.\n",
            "  font.set_text(s, 0.0, flags=flags)\n",
            "/usr/local/lib/python3.6/dist-packages/matplotlib/backends/backend_agg.py:214: RuntimeWarning: Glyph 45800 missing from current font.\n",
            "  font.set_text(s, 0.0, flags=flags)\n",
            "/usr/local/lib/python3.6/dist-packages/matplotlib/backends/backend_agg.py:214: RuntimeWarning: Glyph 44032 missing from current font.\n",
            "  font.set_text(s, 0.0, flags=flags)\n",
            "/usr/local/lib/python3.6/dist-packages/matplotlib/backends/backend_agg.py:214: RuntimeWarning: Glyph 46307 missing from current font.\n",
            "  font.set_text(s, 0.0, flags=flags)\n",
            "/usr/local/lib/python3.6/dist-packages/matplotlib/backends/backend_agg.py:214: RuntimeWarning: Glyph 44592 missing from current font.\n",
            "  font.set_text(s, 0.0, flags=flags)\n",
            "/usr/local/lib/python3.6/dist-packages/matplotlib/backends/backend_agg.py:214: RuntimeWarning: Glyph 44397 missing from current font.\n",
            "  font.set_text(s, 0.0, flags=flags)\n",
            "/usr/local/lib/python3.6/dist-packages/matplotlib/backends/backend_agg.py:214: RuntimeWarning: Glyph 51648 missing from current font.\n",
            "  font.set_text(s, 0.0, flags=flags)\n",
            "/usr/local/lib/python3.6/dist-packages/matplotlib/backends/backend_agg.py:214: RuntimeWarning: Glyph 47928 missing from current font.\n",
            "  font.set_text(s, 0.0, flags=flags)\n",
            "/usr/local/lib/python3.6/dist-packages/matplotlib/backends/backend_agg.py:214: RuntimeWarning: Glyph 54620 missing from current font.\n",
            "  font.set_text(s, 0.0, flags=flags)\n",
            "/usr/local/lib/python3.6/dist-packages/matplotlib/backends/backend_agg.py:183: RuntimeWarning: Glyph 49688 missing from current font.\n",
            "  font.set_text(s, 0, flags=flags)\n",
            "/usr/local/lib/python3.6/dist-packages/matplotlib/backends/backend_agg.py:183: RuntimeWarning: Glyph 54617 missing from current font.\n",
            "  font.set_text(s, 0, flags=flags)\n",
            "/usr/local/lib/python3.6/dist-packages/matplotlib/backends/backend_agg.py:183: RuntimeWarning: Glyph 51008 missing from current font.\n",
            "  font.set_text(s, 0, flags=flags)\n",
            "/usr/local/lib/python3.6/dist-packages/matplotlib/backends/backend_agg.py:183: RuntimeWarning: Glyph 49885 missing from current font.\n",
            "  font.set_text(s, 0, flags=flags)\n",
            "/usr/local/lib/python3.6/dist-packages/matplotlib/backends/backend_agg.py:183: RuntimeWarning: Glyph 51060 missing from current font.\n",
            "  font.set_text(s, 0, flags=flags)\n",
            "/usr/local/lib/python3.6/dist-packages/matplotlib/backends/backend_agg.py:183: RuntimeWarning: Glyph 48373 missing from current font.\n",
            "  font.set_text(s, 0, flags=flags)\n",
            "/usr/local/lib/python3.6/dist-packages/matplotlib/backends/backend_agg.py:183: RuntimeWarning: Glyph 51105 missing from current font.\n",
            "  font.set_text(s, 0, flags=flags)\n",
            "/usr/local/lib/python3.6/dist-packages/matplotlib/backends/backend_agg.py:183: RuntimeWarning: Glyph 54644 missing from current font.\n",
            "  font.set_text(s, 0, flags=flags)\n",
            "/usr/local/lib/python3.6/dist-packages/matplotlib/backends/backend_agg.py:183: RuntimeWarning: Glyph 49436 missing from current font.\n",
            "  font.set_text(s, 0, flags=flags)\n",
            "/usr/local/lib/python3.6/dist-packages/matplotlib/backends/backend_agg.py:183: RuntimeWarning: Glyph 50612 missing from current font.\n",
            "  font.set_text(s, 0, flags=flags)\n",
            "/usr/local/lib/python3.6/dist-packages/matplotlib/backends/backend_agg.py:183: RuntimeWarning: Glyph 47157 missing from current font.\n",
            "  font.set_text(s, 0, flags=flags)\n",
            "/usr/local/lib/python3.6/dist-packages/matplotlib/backends/backend_agg.py:183: RuntimeWarning: Glyph 45796 missing from current font.\n",
            "  font.set_text(s, 0, flags=flags)\n",
            "/usr/local/lib/python3.6/dist-packages/matplotlib/backends/backend_agg.py:183: RuntimeWarning: Glyph 44277 missing from current font.\n",
            "  font.set_text(s, 0, flags=flags)\n",
            "/usr/local/lib/python3.6/dist-packages/matplotlib/backends/backend_agg.py:183: RuntimeWarning: Glyph 47566 missing from current font.\n",
            "  font.set_text(s, 0, flags=flags)\n",
            "/usr/local/lib/python3.6/dist-packages/matplotlib/backends/backend_agg.py:183: RuntimeWarning: Glyph 50500 missing from current font.\n",
            "  font.set_text(s, 0, flags=flags)\n",
            "/usr/local/lib/python3.6/dist-packages/matplotlib/backends/backend_agg.py:183: RuntimeWarning: Glyph 46104 missing from current font.\n",
            "  font.set_text(s, 0, flags=flags)\n",
            "/usr/local/lib/python3.6/dist-packages/matplotlib/backends/backend_agg.py:183: RuntimeWarning: Glyph 47732 missing from current font.\n",
            "  font.set_text(s, 0, flags=flags)\n",
            "/usr/local/lib/python3.6/dist-packages/matplotlib/backends/backend_agg.py:183: RuntimeWarning: Glyph 49789 missing from current font.\n",
            "  font.set_text(s, 0, flags=flags)\n",
            "/usr/local/lib/python3.6/dist-packages/matplotlib/backends/backend_agg.py:183: RuntimeWarning: Glyph 45733 missing from current font.\n",
            "  font.set_text(s, 0, flags=flags)\n",
            "/usr/local/lib/python3.6/dist-packages/matplotlib/backends/backend_agg.py:183: RuntimeWarning: Glyph 53685 missing from current font.\n",
            "  font.set_text(s, 0, flags=flags)\n",
            "/usr/local/lib/python3.6/dist-packages/matplotlib/backends/backend_agg.py:183: RuntimeWarning: Glyph 54616 missing from current font.\n",
            "  font.set_text(s, 0, flags=flags)\n",
            "/usr/local/lib/python3.6/dist-packages/matplotlib/backends/backend_agg.py:183: RuntimeWarning: Glyph 50689 missing from current font.\n",
            "  font.set_text(s, 0, flags=flags)\n",
            "/usr/local/lib/python3.6/dist-packages/matplotlib/backends/backend_agg.py:183: RuntimeWarning: Glyph 45716 missing from current font.\n",
            "  font.set_text(s, 0, flags=flags)\n",
            "/usr/local/lib/python3.6/dist-packages/matplotlib/backends/backend_agg.py:183: RuntimeWarning: Glyph 45800 missing from current font.\n",
            "  font.set_text(s, 0, flags=flags)\n",
            "/usr/local/lib/python3.6/dist-packages/matplotlib/backends/backend_agg.py:183: RuntimeWarning: Glyph 44032 missing from current font.\n",
            "  font.set_text(s, 0, flags=flags)\n",
            "/usr/local/lib/python3.6/dist-packages/matplotlib/backends/backend_agg.py:183: RuntimeWarning: Glyph 46307 missing from current font.\n",
            "  font.set_text(s, 0, flags=flags)\n",
            "/usr/local/lib/python3.6/dist-packages/matplotlib/backends/backend_agg.py:183: RuntimeWarning: Glyph 44592 missing from current font.\n",
            "  font.set_text(s, 0, flags=flags)\n",
            "/usr/local/lib/python3.6/dist-packages/matplotlib/backends/backend_agg.py:183: RuntimeWarning: Glyph 44397 missing from current font.\n",
            "  font.set_text(s, 0, flags=flags)\n",
            "/usr/local/lib/python3.6/dist-packages/matplotlib/backends/backend_agg.py:183: RuntimeWarning: Glyph 51648 missing from current font.\n",
            "  font.set_text(s, 0, flags=flags)\n",
            "/usr/local/lib/python3.6/dist-packages/matplotlib/backends/backend_agg.py:183: RuntimeWarning: Glyph 47928 missing from current font.\n",
            "  font.set_text(s, 0, flags=flags)\n",
            "/usr/local/lib/python3.6/dist-packages/matplotlib/backends/backend_agg.py:183: RuntimeWarning: Glyph 54620 missing from current font.\n",
            "  font.set_text(s, 0, flags=flags)\n"
          ],
          "name": "stderr"
        },
        {
          "output_type": "display_data",
          "data": {
            "image/png": "iVBORw0KGgoAAAANSUhEUgAAAecAAAHSCAYAAADWugNKAAAABHNCSVQICAgIfAhkiAAAAAlwSFlzAAALEgAACxIB0t1+/AAAADh0RVh0U29mdHdhcmUAbWF0cGxvdGxpYiB2ZXJzaW9uMy4yLjIsIGh0dHA6Ly9tYXRwbG90bGliLm9yZy+WH4yJAAAc7UlEQVR4nO3df4zcd33n8dfH9iZ2+eE9sH0ODrqQlKblWl+Srog5HSpcdJeF1ASJFIXj6lKRIJ1BJEhBR1Q1XaGTSAVSHA5EL6W0pSo1XEAkueSUtinVIREjNgkX6AW3jtVe7NgXk3QNCbbjzX7uj901tjtr76x3dz6z+3hIK3s+8/X67a/GfnpmPjNTaq0BANqxotcDAACnEmcAaIw4A0BjxBkAGiPOANAYcQaAxqzq9QDT1q1bVy+66KJejwEAi+KRRx75Ya11fafrmonzRRddlNHR0V6PAQCLopTyDzNd52FtAGiMOANAY8QZABojzgDQGHEGgMaIMwA0ppmXUk0bGRnJrl27smrV5Gjj4+PZsmVLx7UkXa2PjIws8p8GALrXXJyTZOfOnRkcHEySjI2NZceOHR3XZjr2TOsA0DoPawNAY8QZABojzgDQGHEGgMaIMwA0RpwBoDHNvZRqw4YN2bZtW1asmPx/w8TERIaHhzuuJel6HQBaV2qtvZ4hSTI0NFTn4/OcX3jsmfzowb/PS2PHsnLw/Lzy6ovysss3zMOEADB/SimP1FqHOl3X3D3nc/HCY89k7Gt/l3p8Ikny0tixjH3t75JEoAHoG0vqOecfPfj3J8I8rR6fyI8e/PveDAQAc7Ck4vzS2LGu1gGgRUsqzisHz+9qHQBatKTi/MqrL0oZOPWPVAZW5JVXX9SbgQBgDpbUhrDpTV92awPQz5ZUnJPJQIsxAP1sST2sDQBLgTgDQGPEGQAaI84A0BhxBoDGiDMANEacAaAx4gwAjVlyb0ICQPtGRkaya9eurFo1maHx8fFs2bKl41qSjusjIyM9mX0xiDMAPbFz584MDg4mScbGxrJjx46OazMdu5R5WBsAGiPOANAYcQaAxogzADSm2Q1h87GTb6b1pbzDD2A+dPNvsH9T51+zcU7mZyffctvhBzBfuvk3mPnVdJwBWJo2bNiQbdu2ZcWKyWdXJyYmMjw8fMrasQMHcuXYWCYOH867PvPZrP7ZSzKwceOJY5cycQZg0W3fvj3bt2/vuJ4kh++7Lwd++7bUsiIZ/Gd5T5Jy9FgueP/7s3br1kWedvHZEAZAc565Y0fq0aOnrNWjR/PMHcvjYXRxBqA54wcOdLW+1IgzAM1ZdcEFXa0vNeIMQHM2fOTmlNWrT1krq1dnw0du7tFEi6vZDWGz2cl38o69btcBmNnp/waPjY1l3bp1ufLKK3Peeedl/fr1efnLX75g/6ZOb/p65o4dGT9wIKsuuCAbPnLzstgMliSl1trrGZIkQ0NDdXR0dF6+14GD92Tvk5/K0WMHsvr8C3LxJbfkgo3Xzsv3BlhuHn/88dx33305fvz4ibWBgYFs3bo1mzdv7uFk/a2U8kitdajTdUvuYe0DB+/JD37wWzl67OkkNUePPZ0f/OC3cuDgPb0eDaAvPfTQQ6eEOUmOHz+ehx56qEcTLX3NPqw9V3uf/FQmJo6csjYxcSR7n/zUvNx79gHhwHJz+PDhrtY5d0suzkePdd5mP9P6XPiAcGA5Wbt2bccQr127tgfTLA9L7mHt1ed33mY/0zoAZ3bVVVdlYGDglLWBgYFcddVVPZpo6Vtycb74kluyYsWaU9ZWrFiTiy+5pUcTAfS3zZs3Z+vWrSfuKa9du9ZmsAW25B7Wnn5e2W5tgPmzefNmMV5ESy7OyWSgxRiAfrXkHtYGgH7XdZxLKV8opTxTSvn+DNeXUsqnSyl7SimPl1KuOPcxAWD5mMvD2n+U5DNJvjjD9W9L8vqpryuTfG7qxyVhvt5WFABmMqe37yylXJTkf9Raf7HDdf8tyV/XWv9s6vLuJG+ptZ7xhcbz+fadvfbEN7+Rb+78Yn787A/zilevy5uv35ZfePNbez0WAA0509t3LsSGsE1Jnjrp8r6ptWXxIZxPfPMb+fO7PpPxF48lSX78w0P587s+kyQCDcCs9HRDWCnlA6WU0VLK6KFDh3o5yrz55s4vngjztPEXj+WbO2d6FgAATrUQcd6f5LUnXb5wau2fqLXeVWsdqrUOrV+/fgFGWXw/fvaHXa0DwOkWIs73Jtk2tWt7S5LDZ3u+eSl5xavXdbUOAKfr+jnnUsqfJXlLknWllH1JfifJQJLUWn8vyQNJ3p5kT5KfJPnN+Rp2Ps3Hp0t1Wr/kgn+enzvv/FMe2l513vl58/XbFu3PBkB/6zrOtdb3nOX6muSDc55oEc3Hp0t1Wv/3V/2K3doAzNmSfPvOXvuFN79VjAGYM2/fCQCNEWcAaIw4A0BjxBkAGiPOANCYZbtbe74+XcqnTgEw3+b0qVQLod8+ler+vffnzkfvzMEXDmbjyzbmpituyjUXX9PrsQDoE4v9qVRL3v1778/It0Zy9KWjSZIDLxzIyLdGkkSgAThnnnOegzsfvfNEmKcdfelo7nz0zh5NBMBSIs5zcPCFg12tA0A3xHkONr5sY1frANANcZ6Dm664KatXrj5lbfXK1bnpipt6NBEAS4kNYXMwvenLbm0AFoI4z9E1F18jxgAsCA9rA0BjxBkAGiPOANAYcQaAxogzADRGnAGgMeIMAI0RZwBojDgDQGPEGQAaI84A0BhxBoDGiDMANEacAaAx4gwAjRFnAGiMOANAY8QZABojzgDQGHEGgMaIMwA0RpwBoDHiDACNEWcAaIw4A0BjxBkAGiPOANAYcQaAxogzADRGnAGgMeIMAI0RZwBojDgDQGPEGQAaI84A0BhxBoDGiDMANEacAaAx4gwAjRFnAGiMOANAY8QZABojzgDQGHEGgMaIMwA0RpwBoDHiDACNEWcAaIw4A0BjxBkAGiPOANAYcQaAxogzADRGnAGgMeIMAI0RZwBoTNdxLqUMl1J2l1L2lFI+1uH695VSDpVSvjv1dcP8jAoAy8Oqbg4upaxM8tkk/y7JviTfKaXcW2v9P6cd+uVa64fmaUYAWFa6vef8xiR7aq17a60vJtmZ5Nr5HwsAlq9u47wpyVMnXd43tXa6d5VSHi+l3F1Kee1M36yU8oFSymgpZfTQoUNdjgIAS9NCbAi7L8lFtdbNSf4iyR/PdGCt9a5a61CtdWj9+vULMAoA9J9u47w/ycn3hC+cWjuh1vpsrfXY1MXPJ/nluY8HAMtPt3H+TpLXl1JeV0o5L8n1Se49+YBSygUnXXxHkifObUQAWF662q1dax0vpXwoyYNJVib5Qq31b0opH08yWmu9N8mHSynvSDKe5Lkk75vnmQFgSSu11l7PkCQZGhqqo6OjvR4DABZFKeWRWutQp+u8QxgANEacAaAx4gwAjRFnAGiMOANAY8QZABojzgDQGHEGgMaIMwA0RpwBoDHiDACNEWcAaIw4A0BjxBkAGiPOANAYcQaAxogzADRGnAGgMeIMAI0RZwBojDgDQGPEGQAaI84A0BhxBoDGiDMANEacAaAx4gwAjRFnAGiMOANAY8QZABojzgDQGHEGgMaIMwA0RpwBoDHiDACNEWcAaIw4A0BjxBkAGiPOANAYcQaAxogzADRGnAGgMeIMAI0RZwBojDgDQGPEGQAaI84A0BhxBoDGiDMANEacAaAx4gwAjRFnAGiMOANAY8QZABojzgDQGHEGgMaIMwA0RpwBoDHiDACNEWcAaIw4A0BjxBkAGiPOANAYcQaAxogzADRGnAGgMeIMAI0RZwBojDgDQGPEGQAaM6c4l1KGSym7Syl7Sikf63D9+aWUL09d/+1SykXnOigALBddx7mUsjLJZ5O8LckbkrynlPKG0w57f5J/rLX+bJI7kvzuuQ4KAMvFXO45vzHJnlrr3lrri0l2Jrn2tGOuTfLHUz+/O8lVpZQy9zEBYPmYS5w3JXnqpMv7ptY6HlNrHU9yOMmr5zIgACw3Pd0QVkr5QClltJQyeujQoV6OAgDNWDWHX7M/yWtPunzh1FqnY/aVUlYlWZvk2dO/Ua31riR3JcnQ0FCdwywALCMjIyPZtWtXVq2azNf4+Hi2bNnScS1Jx/WRkZGezN6NucT5O0leX0p5XSYjfH2S/3DaMfcm+Y0kDye5Lslf1VrFF4BztnPnzgwODiZJxsbGsmPHjo5rMx3bD7qOc611vJTyoSQPJlmZ5Au11r8ppXw8yWit9d4kf5DkT0ope5I8l8mAAwCzMJd7zqm1PpDkgdPWbjvp50eT/Nq5jQYAy5N3CAOAxogzADRGnAGgMeIMAI2Z04YwAOiFDRs2ZNu2bVmxYvK+5cTERIaHhzuuJZlxPWn7NdPiDEDf2L59e7Zv395x/WRfPfhcPrH3QPb/wr/OpvMHcuvFF+RdG1/1T35dq6+ZFmcAlpSvHnwut+x+KkcmJt/7at+x47ll9+RHQnQKdIs85wzAkvKJvQdOhHnakYmaT+w90KOJuifOACwp+48d72q9ReIMwJKy6fyBrtZbJM4ALCm3XnxB1qwop6ytWVFy68UX9Gii7tkQBsCSMr3p6xN7D2T/seNn3K3dKnEGYMl518ZXnTXG8/ma6flWWvmY5aGhoTo6OtrrMQDgFPfvvT93PnpnDr5wMBtftjE3XXFTrrn4mnP+vqWUR2qtQ52uc88ZAGZw/977M/KtkRx96WiS5MALBzLyrZEkmZdAz8SGMACYwZ2P3nkizNOOvnQ0dz5654L+vuIMADM4+MLBrtbnizgDwAw2vmxjV+vzRZwBYAY3XXFTVq9cfcra6pWrc9MVNy3o72tDGADMYHrT10Ls1j4TcQaAM7jm4msWPMan87A2ADRGnAGgMeIMAI0RZwBojDgDQGPEGQAaI84A0BhxBoDGiDMANEacAaAx3r4TgCaNjIxk165dWbVqMlXj4+PZsmVLx7UkHddHRkZ6Mvu5EmcAmrVz584MDg4mScbGxrJjx46OazMd2688rA0AjRFnAGiMOANAY8QZABojzgDQGHEGgMZ4KRUATdqwYUO2bduWFSsm70dOTExkeHi441qSGdf7Uam19nqGJMnQ0FAdHR3t9RgA9JGvP7Y/n3xwd54eO5LXDK7JR6++NO+8fFOvx5qVUsojtdahTte55wxAX/r6Y/tz69e+lyPHX0qS7B87klu/9r0k6ZtAz8RzzgD0pU8+uPtEmKcdOf5SPvng7h5NNH/EGYC+9PTYka7W+4k4A9CXXjO4pqv1fiLOAPSlj159adYMrDxlbc3Aynz06kt7NNH8sSEMgL40vemrX3drn4k4A9C33nn5piUR49N5WBsAGiPOANAYcQaAxogzADRGnAGgMeIMAI0RZwBojDgDQGPEGQAaI84A0BhxBoDGiDMANEacAaAx4gwAjRFnAGiMOANAY8QZABojzgDQGHEGgMaIMwA0RpwBoDHiDACNEWcAaExXcS6TPl1K2VNKebyUcsUMx/11KWV3KeW7U18b5mdcAFj6VnV5/NuSvH7q68okn5v6sZP31lpHz2E2AFiWun1Y+9okX6yTdiUZLKVcsABzAcCy1W2cNyV56qTL+6bWOvnDqYe0f7uUUuY0HQAsQwu1Iey9tdZfSvLmqa9f73RQKeUDpZTRUsrooUOHFmgUAOgvZ41zKeWD0xu7khxI8tqTrr4wyf7Tf02tdf/Ujz9O8qUkb+z0vWutd9Vah2qtQ+vXr5/L/ACw5Jw1zrXWz9ZaL6u1Xpbk60m2Te3a3pLkcK31wMnHl1JWlVLWTf18IMmvJvn+AswOAEtSt7u1H0jy9iR7kvwkyW9OX1FK+e5UwM9P8uBUmFcm+cskvz8/4wLA0tdVnGutNckHZ7jusqkfX0jyy+c+GgAsT94hDAAaI84A0BhxBoDGiDMANEacAaAx4gwAjRFnAGiMOANAY8QZABojzgDQGHEGgMaIMwA0RpwBoDHiDACNEWcAaIw4A0BjxBkAGiPOANAYcQaAxogzADRGnAGgMeIMAI0RZwBojDgDQGPEGQAaI84A0BhxBoDGiDMANEacAaAx4gwAjRFnAGiMOANAY8QZABqzqtcDsDSNjIxk165dWbVq8iY2Pj6eLVu2dFxL0nF9ZGSkJ7MD9Jo4s2B27tyZwcHBJMnY2Fh27NjRcW2mYwGWKw9rA0BjxBkAGiPOANAYcQaAxogzADRGnAGgMV5KxYLYsGFDtm3blhUrJv//NzExkeHh4Y5rSWZcB1iOSq211zMkSYaGhuro6Givx2CxPf6V5KGPJ4f3JWsvTK66Ldn87l5PBbDgSimP1FqHOl3nnjO98/hXkvs+nBw/Mnn58FOTlxOBBpY1zznTOw99/Kdhnnb8yOQ6wDImzvTO4X3drQMsE+JM76y9sLt1gGXCc850bd4+ceqq2059zjlJBtZMrgMsY+LMnMzLJ05Nb/qyWxvgFOJMb21+txgDnMZzzgDQGHEGgMaIMwA0xnPOnLPbb789d999dx5++OEMDAxkfHw8l112We6+++6sWLEiDz/8cEop2bJlS44ePZq7774702/VesrubQCSiDPz5LrrrsvHPvaxDA4OZmxsLLfffnuuu+66rF69OjfffHOSnNilfd111+X2229PctrubQCSiDNzcPonTj3xxBO58cYbT6wdP348e/bsyY033pif+ZmfybZt2/LSSy/lySefTK01N954Y4//BABtE2e6tn379mzfvv3E5ZGRkdxwww255ZZbkvz03vCvbdqUF3//83nrgQP5ybp1+e+XX57Vl16aG264oVejA/QFcWZBHN29O//vq1/NK46PJ0nGDx7M83/3tz2eCqA/2K3Ngnhh167Uo8dOWavj43lh164eTQTQP8SZBTHx4+e7Wgfgp8SZBbHiFS/vah2An/KcM+fs9N3bExMT+ZXh4dz6pS+lTEwkSWpN/s3gYNYOD/+TY4eHh8/4/eftU7AA+oQ4c85O37097Ya3vz3P3LEj4wcOJK/akD2v25r/Wy/Pu37x/Lzp2kvyc1dunPXvMS+fggXQJ8R5GVvoe6Rrt27N2q1b87ffPphv/OkPMv7i5L3o5587lm/86Q+SpKtAAywX4rzMLcY90ofvefJEmKeNvziRh+95UpwBOrAhjAX3/HPHuloHWO7EmQX38led39U6wHInziy4N117SVadd+pNbdV5K/Kmay/p0UQAbfOcMwtu+nnlh+95Ms8/dywvf1X3u7UBlhNxZlH83JUb5xzjTq+jHj7D66W7fR01QGu6inMp5eeT/GGSK5L8Vq31UzMc97okO5O8OskjSX691vriOc7KMjXT66hPWXv8K8lDH08O78v2t16YXHVbsvndizglwPzp9p7zc0k+nOSdZznud5PcUWvdWUr5vSTvT/K5OczHAloy90gf/0py34eT40cmLx9+avJyItBAXyq11u5/USkjSZ7vdM+5lFKSHEqysdY6Xkp5U5KRWuvVZ/qeQ0NDdXR0tOtZWFh/++2D7T9XfMcvTgb5dGtfm3zk+4s/D8AslFIeqbUOdbpuIZ5zfnWSsVrr+NTlfUk2LcDvwwLrm3f2Oryvu3WAxvX0pVSllA+UUkZLKaOHDh3q5Sh0cKZ39mrK2gu7Wwdo3FnjXEr5YCnlu1Nfr5nF93w2yWApZfpe+YVJ9nc6sNZ6V611qNY6tH79+tlPzaLom3f2uuq2ZGDNqWsDaybXAfrQWeNca/1srfWyqa+nZ3F8TfKNJNdNLf1GknvObUx6oW/e2Wvzu5Otn558jjll8setn7YZDOhbXW0IK6VsTDKa5JVJJpI8n+QNtdYflVIeSHJDrfXpUsrFmXwp1auSPJbkP9Zaz3h3y4aw9pz+nHMy+c5eb33vz7f1nDNAH5q3DWG11oOZfJi603VvP+nne5O8sZvvTXu8sxdAb3iHMM7oXN7ZC4C58cEXANAYcQaAxogzADRGnAGgMeIMAI0RZwBojDgDQGPEGQAaI84A0BhxBoDGiDMANEacAaAx4gwAjRFnAGiMOANAY8QZABojzgDQGHEGgMas6vUAMJORkZHs2rUrq1ZN3kzHx8ezZcuWjmtJOq6PjIz0ZHaAcyHONG3nzp0ZHBxMkoyNjWXHjh0d12Y6FqAfeVgbABojzgDQGHEGgMaIMwA0RpwBoDHiDACN8VIqmrVhw4Zs27YtK1ZM/h9yYmIiw8PDHdeSzLgO0G9KrbXXMyRJhoaG6ujoaK/HoM98/bH9+eSDu/P02JG8ZnBNPnr1pXnn5Zt6PRbAWZVSHqm1DnW6zj1n+tbXH9ufW7/2vRw5/lKSZP/Ykdz6te8liUADfc1zzvStTz64+0SYpx05/lI++eDuHk0EMD/Emb719NiRrtYB+oU407deM7imq3WAfiHO9K2PXn1p1gysPGVtzcDKfPTqS3s0EcD8sCGMvjW96ctubWCpEWf62jsv3yTGwJLjYW0AaIw4A0BjxBkAGiPOANAYcQaAxogzADRGnAGgMeIMAI0RZwBojDgDQGPEGQAaI84A0BhxBoDGiDMANEacAaAxpdba6xmSJKWUQ0n+oddzdGldkh/2eog+4DzNjvM0O87T7DhPs9PL8/Qvaq3rO13RTJz7USlltNY61Os5Wuc8zY7zNDvO0+w4T7PT6nnysDYANEacAaAx4nxu7ur1AH3CeZod52l2nKfZcZ5mp8nz5DlnAGiMe84A0BhxnoVSys+XUh4upRwrpdxyhuNeV0r5dillTynly6WU8xZzzl4rkz499ed/vJRyxQzH/XUpZXcp5btTXxsWe9ZeKqUMT/3595RSPtbh+vOnbj97pm5PFy3+lL03i/P0vlLKoZNuRzf0Ys5eKqV8oZTyTCnl+zNcP6u/k0vdLM7TW0oph0+6Ld222DOeTpxn57kkH07yqbMc97tJ7qi1/mySf0zy/oUerDFvS/L6qa8PJPncGY59b631sqmvZxZlugaUUlYm+Wwmz9UbkrynlPKG0w57f5J/nLod3ZHJ29WyMsvzlCRfPul29PlFHbINf5Rk+AzXd/N3cin7o5z5PCXJN0+6LX18EWY6I3GehVrrM7XW7yQ5PtMxpZSS5N8muXtq6Y+TvHMRxmvJtUm+WCftSjJYSrmg10M15o1J9tRa99ZaX0yyM5Pn7WTXZvL2k0zenq6aun0tJ7M5T8terfV/ZfLOw0z8ncyszlNzxHn+vDrJWK11fOryviSbejhPL2xK8tRJl890Dv5w6uGj315m4ZnNOTpxzNTt6XAmb1/LyWxvS++aerj27lLKaxdntL7Szd/J5e5NpZT/XUr5n6WUf9nrYcSZXnhvrfWXkrx56uvXezwP/em+JBfVWjcn+Yv89NEG6NajmXwrzX+V5L8m+XqP5xHnmZRSPnjS5oDXzOKXPJvJh4xWTV2+MMn+hZuwDSefpyQHkpx876XjOai17p/68cdJvpTJhzCXi/05+zk6cczU7WltJm9fy8lZz1Ot9dla67Gpi59P8suLNFs/mc3tbdmrtf6o1vr81M8fSDJQSlnXy5nEeQa11s+etDng6VkcX5N8I8l1U0u/keSehZyxBSefp0z+b3Pb1A7RLUkO11oPnHx8KWXV9I2+lDKQ5FeTdNxBuUR9J8nrp3b2n5fk+iT3nnbMvZm8/SSTt6e/qsvvDQnOep5Oe+70HUmeWMT5+sW9OcvfSZJSysbpp9dKKW/MZBt7+h/iVWc/hFLKxiSjSV6ZZKKUcnOSN9Raf1RKeSDJDVMB/89JdpZS/kuSx5L8Qc+G7o0Hkrw9yZ4kP0nym9NXlFK+OxXw85M8OBXmlUn+Msnv92DWnqi1jpdSPpTkwUz++b9Qa/2bUsrHk4zWWu/N5O3mT0opezK5ieX63k3cG7M8Tx8upbwjyXgmz9P7ejZwj5RS/izJW5KsK6XsS/I7SQaSpNb6eznD38nlZBbn6bok/6mUMp7kSJLre/0fYu8QBgCN8bA2ADRGnAGgMeIMAI0RZwBojDgDQGPEGQAaI84A0BhxBoDG/H8HfBGLXm8z2QAAAABJRU5ErkJggg==\n",
            "text/plain": [
              "<Figure size 576x576 with 1 Axes>"
            ]
          },
          "metadata": {
            "tags": [],
            "needs_background": "light"
          }
        },
        {
          "output_type": "stream",
          "text": [
            "training >>> 1000\n"
          ],
          "name": "stdout"
        },
        {
          "output_type": "stream",
          "text": [
            "/usr/local/lib/python3.6/dist-packages/matplotlib/backends/backend_agg.py:214: RuntimeWarning: Glyph 49688 missing from current font.\n",
            "  font.set_text(s, 0.0, flags=flags)\n",
            "/usr/local/lib/python3.6/dist-packages/matplotlib/backends/backend_agg.py:214: RuntimeWarning: Glyph 54617 missing from current font.\n",
            "  font.set_text(s, 0.0, flags=flags)\n",
            "/usr/local/lib/python3.6/dist-packages/matplotlib/backends/backend_agg.py:214: RuntimeWarning: Glyph 51008 missing from current font.\n",
            "  font.set_text(s, 0.0, flags=flags)\n",
            "/usr/local/lib/python3.6/dist-packages/matplotlib/backends/backend_agg.py:214: RuntimeWarning: Glyph 49885 missing from current font.\n",
            "  font.set_text(s, 0.0, flags=flags)\n",
            "/usr/local/lib/python3.6/dist-packages/matplotlib/backends/backend_agg.py:214: RuntimeWarning: Glyph 51060 missing from current font.\n",
            "  font.set_text(s, 0.0, flags=flags)\n",
            "/usr/local/lib/python3.6/dist-packages/matplotlib/backends/backend_agg.py:214: RuntimeWarning: Glyph 48373 missing from current font.\n",
            "  font.set_text(s, 0.0, flags=flags)\n",
            "/usr/local/lib/python3.6/dist-packages/matplotlib/backends/backend_agg.py:214: RuntimeWarning: Glyph 51105 missing from current font.\n",
            "  font.set_text(s, 0.0, flags=flags)\n",
            "/usr/local/lib/python3.6/dist-packages/matplotlib/backends/backend_agg.py:214: RuntimeWarning: Glyph 54644 missing from current font.\n",
            "  font.set_text(s, 0.0, flags=flags)\n",
            "/usr/local/lib/python3.6/dist-packages/matplotlib/backends/backend_agg.py:214: RuntimeWarning: Glyph 49436 missing from current font.\n",
            "  font.set_text(s, 0.0, flags=flags)\n",
            "/usr/local/lib/python3.6/dist-packages/matplotlib/backends/backend_agg.py:214: RuntimeWarning: Glyph 50612 missing from current font.\n",
            "  font.set_text(s, 0.0, flags=flags)\n",
            "/usr/local/lib/python3.6/dist-packages/matplotlib/backends/backend_agg.py:214: RuntimeWarning: Glyph 47157 missing from current font.\n",
            "  font.set_text(s, 0.0, flags=flags)\n",
            "/usr/local/lib/python3.6/dist-packages/matplotlib/backends/backend_agg.py:214: RuntimeWarning: Glyph 45796 missing from current font.\n",
            "  font.set_text(s, 0.0, flags=flags)\n",
            "/usr/local/lib/python3.6/dist-packages/matplotlib/backends/backend_agg.py:214: RuntimeWarning: Glyph 44277 missing from current font.\n",
            "  font.set_text(s, 0.0, flags=flags)\n",
            "/usr/local/lib/python3.6/dist-packages/matplotlib/backends/backend_agg.py:214: RuntimeWarning: Glyph 47566 missing from current font.\n",
            "  font.set_text(s, 0.0, flags=flags)\n",
            "/usr/local/lib/python3.6/dist-packages/matplotlib/backends/backend_agg.py:214: RuntimeWarning: Glyph 50500 missing from current font.\n",
            "  font.set_text(s, 0.0, flags=flags)\n",
            "/usr/local/lib/python3.6/dist-packages/matplotlib/backends/backend_agg.py:214: RuntimeWarning: Glyph 46104 missing from current font.\n",
            "  font.set_text(s, 0.0, flags=flags)\n",
            "/usr/local/lib/python3.6/dist-packages/matplotlib/backends/backend_agg.py:214: RuntimeWarning: Glyph 47732 missing from current font.\n",
            "  font.set_text(s, 0.0, flags=flags)\n",
            "/usr/local/lib/python3.6/dist-packages/matplotlib/backends/backend_agg.py:214: RuntimeWarning: Glyph 49789 missing from current font.\n",
            "  font.set_text(s, 0.0, flags=flags)\n",
            "/usr/local/lib/python3.6/dist-packages/matplotlib/backends/backend_agg.py:214: RuntimeWarning: Glyph 45733 missing from current font.\n",
            "  font.set_text(s, 0.0, flags=flags)\n",
            "/usr/local/lib/python3.6/dist-packages/matplotlib/backends/backend_agg.py:214: RuntimeWarning: Glyph 53685 missing from current font.\n",
            "  font.set_text(s, 0.0, flags=flags)\n",
            "/usr/local/lib/python3.6/dist-packages/matplotlib/backends/backend_agg.py:214: RuntimeWarning: Glyph 54616 missing from current font.\n",
            "  font.set_text(s, 0.0, flags=flags)\n",
            "/usr/local/lib/python3.6/dist-packages/matplotlib/backends/backend_agg.py:214: RuntimeWarning: Glyph 50689 missing from current font.\n",
            "  font.set_text(s, 0.0, flags=flags)\n",
            "/usr/local/lib/python3.6/dist-packages/matplotlib/backends/backend_agg.py:214: RuntimeWarning: Glyph 45716 missing from current font.\n",
            "  font.set_text(s, 0.0, flags=flags)\n",
            "/usr/local/lib/python3.6/dist-packages/matplotlib/backends/backend_agg.py:214: RuntimeWarning: Glyph 45800 missing from current font.\n",
            "  font.set_text(s, 0.0, flags=flags)\n",
            "/usr/local/lib/python3.6/dist-packages/matplotlib/backends/backend_agg.py:214: RuntimeWarning: Glyph 44032 missing from current font.\n",
            "  font.set_text(s, 0.0, flags=flags)\n",
            "/usr/local/lib/python3.6/dist-packages/matplotlib/backends/backend_agg.py:214: RuntimeWarning: Glyph 46307 missing from current font.\n",
            "  font.set_text(s, 0.0, flags=flags)\n",
            "/usr/local/lib/python3.6/dist-packages/matplotlib/backends/backend_agg.py:214: RuntimeWarning: Glyph 44592 missing from current font.\n",
            "  font.set_text(s, 0.0, flags=flags)\n",
            "/usr/local/lib/python3.6/dist-packages/matplotlib/backends/backend_agg.py:214: RuntimeWarning: Glyph 44397 missing from current font.\n",
            "  font.set_text(s, 0.0, flags=flags)\n",
            "/usr/local/lib/python3.6/dist-packages/matplotlib/backends/backend_agg.py:214: RuntimeWarning: Glyph 51648 missing from current font.\n",
            "  font.set_text(s, 0.0, flags=flags)\n",
            "/usr/local/lib/python3.6/dist-packages/matplotlib/backends/backend_agg.py:214: RuntimeWarning: Glyph 47928 missing from current font.\n",
            "  font.set_text(s, 0.0, flags=flags)\n",
            "/usr/local/lib/python3.6/dist-packages/matplotlib/backends/backend_agg.py:214: RuntimeWarning: Glyph 54620 missing from current font.\n",
            "  font.set_text(s, 0.0, flags=flags)\n",
            "/usr/local/lib/python3.6/dist-packages/matplotlib/backends/backend_agg.py:183: RuntimeWarning: Glyph 49688 missing from current font.\n",
            "  font.set_text(s, 0, flags=flags)\n",
            "/usr/local/lib/python3.6/dist-packages/matplotlib/backends/backend_agg.py:183: RuntimeWarning: Glyph 54617 missing from current font.\n",
            "  font.set_text(s, 0, flags=flags)\n",
            "/usr/local/lib/python3.6/dist-packages/matplotlib/backends/backend_agg.py:183: RuntimeWarning: Glyph 51008 missing from current font.\n",
            "  font.set_text(s, 0, flags=flags)\n",
            "/usr/local/lib/python3.6/dist-packages/matplotlib/backends/backend_agg.py:183: RuntimeWarning: Glyph 49885 missing from current font.\n",
            "  font.set_text(s, 0, flags=flags)\n",
            "/usr/local/lib/python3.6/dist-packages/matplotlib/backends/backend_agg.py:183: RuntimeWarning: Glyph 51060 missing from current font.\n",
            "  font.set_text(s, 0, flags=flags)\n",
            "/usr/local/lib/python3.6/dist-packages/matplotlib/backends/backend_agg.py:183: RuntimeWarning: Glyph 48373 missing from current font.\n",
            "  font.set_text(s, 0, flags=flags)\n",
            "/usr/local/lib/python3.6/dist-packages/matplotlib/backends/backend_agg.py:183: RuntimeWarning: Glyph 51105 missing from current font.\n",
            "  font.set_text(s, 0, flags=flags)\n",
            "/usr/local/lib/python3.6/dist-packages/matplotlib/backends/backend_agg.py:183: RuntimeWarning: Glyph 54644 missing from current font.\n",
            "  font.set_text(s, 0, flags=flags)\n",
            "/usr/local/lib/python3.6/dist-packages/matplotlib/backends/backend_agg.py:183: RuntimeWarning: Glyph 49436 missing from current font.\n",
            "  font.set_text(s, 0, flags=flags)\n",
            "/usr/local/lib/python3.6/dist-packages/matplotlib/backends/backend_agg.py:183: RuntimeWarning: Glyph 50612 missing from current font.\n",
            "  font.set_text(s, 0, flags=flags)\n",
            "/usr/local/lib/python3.6/dist-packages/matplotlib/backends/backend_agg.py:183: RuntimeWarning: Glyph 47157 missing from current font.\n",
            "  font.set_text(s, 0, flags=flags)\n",
            "/usr/local/lib/python3.6/dist-packages/matplotlib/backends/backend_agg.py:183: RuntimeWarning: Glyph 45796 missing from current font.\n",
            "  font.set_text(s, 0, flags=flags)\n",
            "/usr/local/lib/python3.6/dist-packages/matplotlib/backends/backend_agg.py:183: RuntimeWarning: Glyph 44277 missing from current font.\n",
            "  font.set_text(s, 0, flags=flags)\n",
            "/usr/local/lib/python3.6/dist-packages/matplotlib/backends/backend_agg.py:183: RuntimeWarning: Glyph 47566 missing from current font.\n",
            "  font.set_text(s, 0, flags=flags)\n",
            "/usr/local/lib/python3.6/dist-packages/matplotlib/backends/backend_agg.py:183: RuntimeWarning: Glyph 50500 missing from current font.\n",
            "  font.set_text(s, 0, flags=flags)\n",
            "/usr/local/lib/python3.6/dist-packages/matplotlib/backends/backend_agg.py:183: RuntimeWarning: Glyph 46104 missing from current font.\n",
            "  font.set_text(s, 0, flags=flags)\n",
            "/usr/local/lib/python3.6/dist-packages/matplotlib/backends/backend_agg.py:183: RuntimeWarning: Glyph 47732 missing from current font.\n",
            "  font.set_text(s, 0, flags=flags)\n",
            "/usr/local/lib/python3.6/dist-packages/matplotlib/backends/backend_agg.py:183: RuntimeWarning: Glyph 49789 missing from current font.\n",
            "  font.set_text(s, 0, flags=flags)\n",
            "/usr/local/lib/python3.6/dist-packages/matplotlib/backends/backend_agg.py:183: RuntimeWarning: Glyph 45733 missing from current font.\n",
            "  font.set_text(s, 0, flags=flags)\n",
            "/usr/local/lib/python3.6/dist-packages/matplotlib/backends/backend_agg.py:183: RuntimeWarning: Glyph 53685 missing from current font.\n",
            "  font.set_text(s, 0, flags=flags)\n",
            "/usr/local/lib/python3.6/dist-packages/matplotlib/backends/backend_agg.py:183: RuntimeWarning: Glyph 54616 missing from current font.\n",
            "  font.set_text(s, 0, flags=flags)\n",
            "/usr/local/lib/python3.6/dist-packages/matplotlib/backends/backend_agg.py:183: RuntimeWarning: Glyph 50689 missing from current font.\n",
            "  font.set_text(s, 0, flags=flags)\n",
            "/usr/local/lib/python3.6/dist-packages/matplotlib/backends/backend_agg.py:183: RuntimeWarning: Glyph 45716 missing from current font.\n",
            "  font.set_text(s, 0, flags=flags)\n",
            "/usr/local/lib/python3.6/dist-packages/matplotlib/backends/backend_agg.py:183: RuntimeWarning: Glyph 45800 missing from current font.\n",
            "  font.set_text(s, 0, flags=flags)\n",
            "/usr/local/lib/python3.6/dist-packages/matplotlib/backends/backend_agg.py:183: RuntimeWarning: Glyph 44032 missing from current font.\n",
            "  font.set_text(s, 0, flags=flags)\n",
            "/usr/local/lib/python3.6/dist-packages/matplotlib/backends/backend_agg.py:183: RuntimeWarning: Glyph 46307 missing from current font.\n",
            "  font.set_text(s, 0, flags=flags)\n",
            "/usr/local/lib/python3.6/dist-packages/matplotlib/backends/backend_agg.py:183: RuntimeWarning: Glyph 44592 missing from current font.\n",
            "  font.set_text(s, 0, flags=flags)\n",
            "/usr/local/lib/python3.6/dist-packages/matplotlib/backends/backend_agg.py:183: RuntimeWarning: Glyph 44397 missing from current font.\n",
            "  font.set_text(s, 0, flags=flags)\n",
            "/usr/local/lib/python3.6/dist-packages/matplotlib/backends/backend_agg.py:183: RuntimeWarning: Glyph 51648 missing from current font.\n",
            "  font.set_text(s, 0, flags=flags)\n",
            "/usr/local/lib/python3.6/dist-packages/matplotlib/backends/backend_agg.py:183: RuntimeWarning: Glyph 47928 missing from current font.\n",
            "  font.set_text(s, 0, flags=flags)\n",
            "/usr/local/lib/python3.6/dist-packages/matplotlib/backends/backend_agg.py:183: RuntimeWarning: Glyph 54620 missing from current font.\n",
            "  font.set_text(s, 0, flags=flags)\n"
          ],
          "name": "stderr"
        },
        {
          "output_type": "display_data",
          "data": {
            "image/png": "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\n",
            "text/plain": [
              "<Figure size 576x576 with 1 Axes>"
            ]
          },
          "metadata": {
            "tags": [],
            "needs_background": "light"
          }
        },
        {
          "output_type": "stream",
          "text": [
            "training >>> 1100\n"
          ],
          "name": "stdout"
        },
        {
          "output_type": "stream",
          "text": [
            "/usr/local/lib/python3.6/dist-packages/matplotlib/backends/backend_agg.py:214: RuntimeWarning: Glyph 49688 missing from current font.\n",
            "  font.set_text(s, 0.0, flags=flags)\n",
            "/usr/local/lib/python3.6/dist-packages/matplotlib/backends/backend_agg.py:214: RuntimeWarning: Glyph 54617 missing from current font.\n",
            "  font.set_text(s, 0.0, flags=flags)\n",
            "/usr/local/lib/python3.6/dist-packages/matplotlib/backends/backend_agg.py:214: RuntimeWarning: Glyph 51008 missing from current font.\n",
            "  font.set_text(s, 0.0, flags=flags)\n",
            "/usr/local/lib/python3.6/dist-packages/matplotlib/backends/backend_agg.py:214: RuntimeWarning: Glyph 49885 missing from current font.\n",
            "  font.set_text(s, 0.0, flags=flags)\n",
            "/usr/local/lib/python3.6/dist-packages/matplotlib/backends/backend_agg.py:214: RuntimeWarning: Glyph 51060 missing from current font.\n",
            "  font.set_text(s, 0.0, flags=flags)\n",
            "/usr/local/lib/python3.6/dist-packages/matplotlib/backends/backend_agg.py:214: RuntimeWarning: Glyph 48373 missing from current font.\n",
            "  font.set_text(s, 0.0, flags=flags)\n",
            "/usr/local/lib/python3.6/dist-packages/matplotlib/backends/backend_agg.py:214: RuntimeWarning: Glyph 51105 missing from current font.\n",
            "  font.set_text(s, 0.0, flags=flags)\n",
            "/usr/local/lib/python3.6/dist-packages/matplotlib/backends/backend_agg.py:214: RuntimeWarning: Glyph 54644 missing from current font.\n",
            "  font.set_text(s, 0.0, flags=flags)\n",
            "/usr/local/lib/python3.6/dist-packages/matplotlib/backends/backend_agg.py:214: RuntimeWarning: Glyph 49436 missing from current font.\n",
            "  font.set_text(s, 0.0, flags=flags)\n",
            "/usr/local/lib/python3.6/dist-packages/matplotlib/backends/backend_agg.py:214: RuntimeWarning: Glyph 50612 missing from current font.\n",
            "  font.set_text(s, 0.0, flags=flags)\n",
            "/usr/local/lib/python3.6/dist-packages/matplotlib/backends/backend_agg.py:214: RuntimeWarning: Glyph 47157 missing from current font.\n",
            "  font.set_text(s, 0.0, flags=flags)\n",
            "/usr/local/lib/python3.6/dist-packages/matplotlib/backends/backend_agg.py:214: RuntimeWarning: Glyph 45796 missing from current font.\n",
            "  font.set_text(s, 0.0, flags=flags)\n",
            "/usr/local/lib/python3.6/dist-packages/matplotlib/backends/backend_agg.py:214: RuntimeWarning: Glyph 44277 missing from current font.\n",
            "  font.set_text(s, 0.0, flags=flags)\n",
            "/usr/local/lib/python3.6/dist-packages/matplotlib/backends/backend_agg.py:214: RuntimeWarning: Glyph 47566 missing from current font.\n",
            "  font.set_text(s, 0.0, flags=flags)\n",
            "/usr/local/lib/python3.6/dist-packages/matplotlib/backends/backend_agg.py:214: RuntimeWarning: Glyph 50500 missing from current font.\n",
            "  font.set_text(s, 0.0, flags=flags)\n",
            "/usr/local/lib/python3.6/dist-packages/matplotlib/backends/backend_agg.py:214: RuntimeWarning: Glyph 46104 missing from current font.\n",
            "  font.set_text(s, 0.0, flags=flags)\n",
            "/usr/local/lib/python3.6/dist-packages/matplotlib/backends/backend_agg.py:214: RuntimeWarning: Glyph 47732 missing from current font.\n",
            "  font.set_text(s, 0.0, flags=flags)\n",
            "/usr/local/lib/python3.6/dist-packages/matplotlib/backends/backend_agg.py:214: RuntimeWarning: Glyph 49789 missing from current font.\n",
            "  font.set_text(s, 0.0, flags=flags)\n",
            "/usr/local/lib/python3.6/dist-packages/matplotlib/backends/backend_agg.py:214: RuntimeWarning: Glyph 45733 missing from current font.\n",
            "  font.set_text(s, 0.0, flags=flags)\n",
            "/usr/local/lib/python3.6/dist-packages/matplotlib/backends/backend_agg.py:214: RuntimeWarning: Glyph 53685 missing from current font.\n",
            "  font.set_text(s, 0.0, flags=flags)\n",
            "/usr/local/lib/python3.6/dist-packages/matplotlib/backends/backend_agg.py:214: RuntimeWarning: Glyph 54616 missing from current font.\n",
            "  font.set_text(s, 0.0, flags=flags)\n",
            "/usr/local/lib/python3.6/dist-packages/matplotlib/backends/backend_agg.py:214: RuntimeWarning: Glyph 50689 missing from current font.\n",
            "  font.set_text(s, 0.0, flags=flags)\n",
            "/usr/local/lib/python3.6/dist-packages/matplotlib/backends/backend_agg.py:214: RuntimeWarning: Glyph 45716 missing from current font.\n",
            "  font.set_text(s, 0.0, flags=flags)\n",
            "/usr/local/lib/python3.6/dist-packages/matplotlib/backends/backend_agg.py:214: RuntimeWarning: Glyph 45800 missing from current font.\n",
            "  font.set_text(s, 0.0, flags=flags)\n",
            "/usr/local/lib/python3.6/dist-packages/matplotlib/backends/backend_agg.py:214: RuntimeWarning: Glyph 44032 missing from current font.\n",
            "  font.set_text(s, 0.0, flags=flags)\n",
            "/usr/local/lib/python3.6/dist-packages/matplotlib/backends/backend_agg.py:214: RuntimeWarning: Glyph 46307 missing from current font.\n",
            "  font.set_text(s, 0.0, flags=flags)\n",
            "/usr/local/lib/python3.6/dist-packages/matplotlib/backends/backend_agg.py:214: RuntimeWarning: Glyph 44592 missing from current font.\n",
            "  font.set_text(s, 0.0, flags=flags)\n",
            "/usr/local/lib/python3.6/dist-packages/matplotlib/backends/backend_agg.py:214: RuntimeWarning: Glyph 44397 missing from current font.\n",
            "  font.set_text(s, 0.0, flags=flags)\n",
            "/usr/local/lib/python3.6/dist-packages/matplotlib/backends/backend_agg.py:214: RuntimeWarning: Glyph 51648 missing from current font.\n",
            "  font.set_text(s, 0.0, flags=flags)\n",
            "/usr/local/lib/python3.6/dist-packages/matplotlib/backends/backend_agg.py:214: RuntimeWarning: Glyph 47928 missing from current font.\n",
            "  font.set_text(s, 0.0, flags=flags)\n",
            "/usr/local/lib/python3.6/dist-packages/matplotlib/backends/backend_agg.py:214: RuntimeWarning: Glyph 54620 missing from current font.\n",
            "  font.set_text(s, 0.0, flags=flags)\n",
            "/usr/local/lib/python3.6/dist-packages/matplotlib/backends/backend_agg.py:183: RuntimeWarning: Glyph 49688 missing from current font.\n",
            "  font.set_text(s, 0, flags=flags)\n",
            "/usr/local/lib/python3.6/dist-packages/matplotlib/backends/backend_agg.py:183: RuntimeWarning: Glyph 54617 missing from current font.\n",
            "  font.set_text(s, 0, flags=flags)\n",
            "/usr/local/lib/python3.6/dist-packages/matplotlib/backends/backend_agg.py:183: RuntimeWarning: Glyph 51008 missing from current font.\n",
            "  font.set_text(s, 0, flags=flags)\n",
            "/usr/local/lib/python3.6/dist-packages/matplotlib/backends/backend_agg.py:183: RuntimeWarning: Glyph 49885 missing from current font.\n",
            "  font.set_text(s, 0, flags=flags)\n",
            "/usr/local/lib/python3.6/dist-packages/matplotlib/backends/backend_agg.py:183: RuntimeWarning: Glyph 51060 missing from current font.\n",
            "  font.set_text(s, 0, flags=flags)\n",
            "/usr/local/lib/python3.6/dist-packages/matplotlib/backends/backend_agg.py:183: RuntimeWarning: Glyph 48373 missing from current font.\n",
            "  font.set_text(s, 0, flags=flags)\n",
            "/usr/local/lib/python3.6/dist-packages/matplotlib/backends/backend_agg.py:183: RuntimeWarning: Glyph 51105 missing from current font.\n",
            "  font.set_text(s, 0, flags=flags)\n",
            "/usr/local/lib/python3.6/dist-packages/matplotlib/backends/backend_agg.py:183: RuntimeWarning: Glyph 54644 missing from current font.\n",
            "  font.set_text(s, 0, flags=flags)\n",
            "/usr/local/lib/python3.6/dist-packages/matplotlib/backends/backend_agg.py:183: RuntimeWarning: Glyph 49436 missing from current font.\n",
            "  font.set_text(s, 0, flags=flags)\n",
            "/usr/local/lib/python3.6/dist-packages/matplotlib/backends/backend_agg.py:183: RuntimeWarning: Glyph 50612 missing from current font.\n",
            "  font.set_text(s, 0, flags=flags)\n",
            "/usr/local/lib/python3.6/dist-packages/matplotlib/backends/backend_agg.py:183: RuntimeWarning: Glyph 47157 missing from current font.\n",
            "  font.set_text(s, 0, flags=flags)\n",
            "/usr/local/lib/python3.6/dist-packages/matplotlib/backends/backend_agg.py:183: RuntimeWarning: Glyph 45796 missing from current font.\n",
            "  font.set_text(s, 0, flags=flags)\n",
            "/usr/local/lib/python3.6/dist-packages/matplotlib/backends/backend_agg.py:183: RuntimeWarning: Glyph 44277 missing from current font.\n",
            "  font.set_text(s, 0, flags=flags)\n",
            "/usr/local/lib/python3.6/dist-packages/matplotlib/backends/backend_agg.py:183: RuntimeWarning: Glyph 47566 missing from current font.\n",
            "  font.set_text(s, 0, flags=flags)\n",
            "/usr/local/lib/python3.6/dist-packages/matplotlib/backends/backend_agg.py:183: RuntimeWarning: Glyph 50500 missing from current font.\n",
            "  font.set_text(s, 0, flags=flags)\n",
            "/usr/local/lib/python3.6/dist-packages/matplotlib/backends/backend_agg.py:183: RuntimeWarning: Glyph 46104 missing from current font.\n",
            "  font.set_text(s, 0, flags=flags)\n",
            "/usr/local/lib/python3.6/dist-packages/matplotlib/backends/backend_agg.py:183: RuntimeWarning: Glyph 47732 missing from current font.\n",
            "  font.set_text(s, 0, flags=flags)\n",
            "/usr/local/lib/python3.6/dist-packages/matplotlib/backends/backend_agg.py:183: RuntimeWarning: Glyph 49789 missing from current font.\n",
            "  font.set_text(s, 0, flags=flags)\n",
            "/usr/local/lib/python3.6/dist-packages/matplotlib/backends/backend_agg.py:183: RuntimeWarning: Glyph 45733 missing from current font.\n",
            "  font.set_text(s, 0, flags=flags)\n",
            "/usr/local/lib/python3.6/dist-packages/matplotlib/backends/backend_agg.py:183: RuntimeWarning: Glyph 53685 missing from current font.\n",
            "  font.set_text(s, 0, flags=flags)\n",
            "/usr/local/lib/python3.6/dist-packages/matplotlib/backends/backend_agg.py:183: RuntimeWarning: Glyph 54616 missing from current font.\n",
            "  font.set_text(s, 0, flags=flags)\n",
            "/usr/local/lib/python3.6/dist-packages/matplotlib/backends/backend_agg.py:183: RuntimeWarning: Glyph 50689 missing from current font.\n",
            "  font.set_text(s, 0, flags=flags)\n",
            "/usr/local/lib/python3.6/dist-packages/matplotlib/backends/backend_agg.py:183: RuntimeWarning: Glyph 45716 missing from current font.\n",
            "  font.set_text(s, 0, flags=flags)\n",
            "/usr/local/lib/python3.6/dist-packages/matplotlib/backends/backend_agg.py:183: RuntimeWarning: Glyph 45800 missing from current font.\n",
            "  font.set_text(s, 0, flags=flags)\n",
            "/usr/local/lib/python3.6/dist-packages/matplotlib/backends/backend_agg.py:183: RuntimeWarning: Glyph 44032 missing from current font.\n",
            "  font.set_text(s, 0, flags=flags)\n",
            "/usr/local/lib/python3.6/dist-packages/matplotlib/backends/backend_agg.py:183: RuntimeWarning: Glyph 46307 missing from current font.\n",
            "  font.set_text(s, 0, flags=flags)\n",
            "/usr/local/lib/python3.6/dist-packages/matplotlib/backends/backend_agg.py:183: RuntimeWarning: Glyph 44592 missing from current font.\n",
            "  font.set_text(s, 0, flags=flags)\n",
            "/usr/local/lib/python3.6/dist-packages/matplotlib/backends/backend_agg.py:183: RuntimeWarning: Glyph 44397 missing from current font.\n",
            "  font.set_text(s, 0, flags=flags)\n",
            "/usr/local/lib/python3.6/dist-packages/matplotlib/backends/backend_agg.py:183: RuntimeWarning: Glyph 51648 missing from current font.\n",
            "  font.set_text(s, 0, flags=flags)\n",
            "/usr/local/lib/python3.6/dist-packages/matplotlib/backends/backend_agg.py:183: RuntimeWarning: Glyph 47928 missing from current font.\n",
            "  font.set_text(s, 0, flags=flags)\n",
            "/usr/local/lib/python3.6/dist-packages/matplotlib/backends/backend_agg.py:183: RuntimeWarning: Glyph 54620 missing from current font.\n",
            "  font.set_text(s, 0, flags=flags)\n"
          ],
          "name": "stderr"
        },
        {
          "output_type": "display_data",
          "data": {
            "image/png": "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\n",
            "text/plain": [
              "<Figure size 576x576 with 1 Axes>"
            ]
          },
          "metadata": {
            "tags": [],
            "needs_background": "light"
          }
        },
        {
          "output_type": "stream",
          "text": [
            "training >>> 1200\n"
          ],
          "name": "stdout"
        },
        {
          "output_type": "stream",
          "text": [
            "/usr/local/lib/python3.6/dist-packages/matplotlib/backends/backend_agg.py:214: RuntimeWarning: Glyph 49688 missing from current font.\n",
            "  font.set_text(s, 0.0, flags=flags)\n",
            "/usr/local/lib/python3.6/dist-packages/matplotlib/backends/backend_agg.py:214: RuntimeWarning: Glyph 54617 missing from current font.\n",
            "  font.set_text(s, 0.0, flags=flags)\n",
            "/usr/local/lib/python3.6/dist-packages/matplotlib/backends/backend_agg.py:214: RuntimeWarning: Glyph 51008 missing from current font.\n",
            "  font.set_text(s, 0.0, flags=flags)\n",
            "/usr/local/lib/python3.6/dist-packages/matplotlib/backends/backend_agg.py:214: RuntimeWarning: Glyph 49885 missing from current font.\n",
            "  font.set_text(s, 0.0, flags=flags)\n",
            "/usr/local/lib/python3.6/dist-packages/matplotlib/backends/backend_agg.py:214: RuntimeWarning: Glyph 51060 missing from current font.\n",
            "  font.set_text(s, 0.0, flags=flags)\n",
            "/usr/local/lib/python3.6/dist-packages/matplotlib/backends/backend_agg.py:214: RuntimeWarning: Glyph 48373 missing from current font.\n",
            "  font.set_text(s, 0.0, flags=flags)\n",
            "/usr/local/lib/python3.6/dist-packages/matplotlib/backends/backend_agg.py:214: RuntimeWarning: Glyph 51105 missing from current font.\n",
            "  font.set_text(s, 0.0, flags=flags)\n",
            "/usr/local/lib/python3.6/dist-packages/matplotlib/backends/backend_agg.py:214: RuntimeWarning: Glyph 54644 missing from current font.\n",
            "  font.set_text(s, 0.0, flags=flags)\n",
            "/usr/local/lib/python3.6/dist-packages/matplotlib/backends/backend_agg.py:214: RuntimeWarning: Glyph 49436 missing from current font.\n",
            "  font.set_text(s, 0.0, flags=flags)\n",
            "/usr/local/lib/python3.6/dist-packages/matplotlib/backends/backend_agg.py:214: RuntimeWarning: Glyph 50612 missing from current font.\n",
            "  font.set_text(s, 0.0, flags=flags)\n",
            "/usr/local/lib/python3.6/dist-packages/matplotlib/backends/backend_agg.py:214: RuntimeWarning: Glyph 47157 missing from current font.\n",
            "  font.set_text(s, 0.0, flags=flags)\n",
            "/usr/local/lib/python3.6/dist-packages/matplotlib/backends/backend_agg.py:214: RuntimeWarning: Glyph 45796 missing from current font.\n",
            "  font.set_text(s, 0.0, flags=flags)\n",
            "/usr/local/lib/python3.6/dist-packages/matplotlib/backends/backend_agg.py:214: RuntimeWarning: Glyph 44277 missing from current font.\n",
            "  font.set_text(s, 0.0, flags=flags)\n",
            "/usr/local/lib/python3.6/dist-packages/matplotlib/backends/backend_agg.py:214: RuntimeWarning: Glyph 47566 missing from current font.\n",
            "  font.set_text(s, 0.0, flags=flags)\n",
            "/usr/local/lib/python3.6/dist-packages/matplotlib/backends/backend_agg.py:214: RuntimeWarning: Glyph 50500 missing from current font.\n",
            "  font.set_text(s, 0.0, flags=flags)\n",
            "/usr/local/lib/python3.6/dist-packages/matplotlib/backends/backend_agg.py:214: RuntimeWarning: Glyph 46104 missing from current font.\n",
            "  font.set_text(s, 0.0, flags=flags)\n",
            "/usr/local/lib/python3.6/dist-packages/matplotlib/backends/backend_agg.py:214: RuntimeWarning: Glyph 47732 missing from current font.\n",
            "  font.set_text(s, 0.0, flags=flags)\n",
            "/usr/local/lib/python3.6/dist-packages/matplotlib/backends/backend_agg.py:214: RuntimeWarning: Glyph 49789 missing from current font.\n",
            "  font.set_text(s, 0.0, flags=flags)\n",
            "/usr/local/lib/python3.6/dist-packages/matplotlib/backends/backend_agg.py:214: RuntimeWarning: Glyph 45733 missing from current font.\n",
            "  font.set_text(s, 0.0, flags=flags)\n",
            "/usr/local/lib/python3.6/dist-packages/matplotlib/backends/backend_agg.py:214: RuntimeWarning: Glyph 53685 missing from current font.\n",
            "  font.set_text(s, 0.0, flags=flags)\n",
            "/usr/local/lib/python3.6/dist-packages/matplotlib/backends/backend_agg.py:214: RuntimeWarning: Glyph 54616 missing from current font.\n",
            "  font.set_text(s, 0.0, flags=flags)\n",
            "/usr/local/lib/python3.6/dist-packages/matplotlib/backends/backend_agg.py:214: RuntimeWarning: Glyph 50689 missing from current font.\n",
            "  font.set_text(s, 0.0, flags=flags)\n",
            "/usr/local/lib/python3.6/dist-packages/matplotlib/backends/backend_agg.py:214: RuntimeWarning: Glyph 45716 missing from current font.\n",
            "  font.set_text(s, 0.0, flags=flags)\n",
            "/usr/local/lib/python3.6/dist-packages/matplotlib/backends/backend_agg.py:214: RuntimeWarning: Glyph 45800 missing from current font.\n",
            "  font.set_text(s, 0.0, flags=flags)\n",
            "/usr/local/lib/python3.6/dist-packages/matplotlib/backends/backend_agg.py:214: RuntimeWarning: Glyph 44032 missing from current font.\n",
            "  font.set_text(s, 0.0, flags=flags)\n",
            "/usr/local/lib/python3.6/dist-packages/matplotlib/backends/backend_agg.py:214: RuntimeWarning: Glyph 46307 missing from current font.\n",
            "  font.set_text(s, 0.0, flags=flags)\n",
            "/usr/local/lib/python3.6/dist-packages/matplotlib/backends/backend_agg.py:214: RuntimeWarning: Glyph 44592 missing from current font.\n",
            "  font.set_text(s, 0.0, flags=flags)\n",
            "/usr/local/lib/python3.6/dist-packages/matplotlib/backends/backend_agg.py:214: RuntimeWarning: Glyph 44397 missing from current font.\n",
            "  font.set_text(s, 0.0, flags=flags)\n",
            "/usr/local/lib/python3.6/dist-packages/matplotlib/backends/backend_agg.py:214: RuntimeWarning: Glyph 51648 missing from current font.\n",
            "  font.set_text(s, 0.0, flags=flags)\n",
            "/usr/local/lib/python3.6/dist-packages/matplotlib/backends/backend_agg.py:214: RuntimeWarning: Glyph 47928 missing from current font.\n",
            "  font.set_text(s, 0.0, flags=flags)\n",
            "/usr/local/lib/python3.6/dist-packages/matplotlib/backends/backend_agg.py:214: RuntimeWarning: Glyph 54620 missing from current font.\n",
            "  font.set_text(s, 0.0, flags=flags)\n",
            "/usr/local/lib/python3.6/dist-packages/matplotlib/backends/backend_agg.py:183: RuntimeWarning: Glyph 49688 missing from current font.\n",
            "  font.set_text(s, 0, flags=flags)\n",
            "/usr/local/lib/python3.6/dist-packages/matplotlib/backends/backend_agg.py:183: RuntimeWarning: Glyph 54617 missing from current font.\n",
            "  font.set_text(s, 0, flags=flags)\n",
            "/usr/local/lib/python3.6/dist-packages/matplotlib/backends/backend_agg.py:183: RuntimeWarning: Glyph 51008 missing from current font.\n",
            "  font.set_text(s, 0, flags=flags)\n",
            "/usr/local/lib/python3.6/dist-packages/matplotlib/backends/backend_agg.py:183: RuntimeWarning: Glyph 49885 missing from current font.\n",
            "  font.set_text(s, 0, flags=flags)\n",
            "/usr/local/lib/python3.6/dist-packages/matplotlib/backends/backend_agg.py:183: RuntimeWarning: Glyph 51060 missing from current font.\n",
            "  font.set_text(s, 0, flags=flags)\n",
            "/usr/local/lib/python3.6/dist-packages/matplotlib/backends/backend_agg.py:183: RuntimeWarning: Glyph 48373 missing from current font.\n",
            "  font.set_text(s, 0, flags=flags)\n",
            "/usr/local/lib/python3.6/dist-packages/matplotlib/backends/backend_agg.py:183: RuntimeWarning: Glyph 51105 missing from current font.\n",
            "  font.set_text(s, 0, flags=flags)\n",
            "/usr/local/lib/python3.6/dist-packages/matplotlib/backends/backend_agg.py:183: RuntimeWarning: Glyph 54644 missing from current font.\n",
            "  font.set_text(s, 0, flags=flags)\n",
            "/usr/local/lib/python3.6/dist-packages/matplotlib/backends/backend_agg.py:183: RuntimeWarning: Glyph 49436 missing from current font.\n",
            "  font.set_text(s, 0, flags=flags)\n",
            "/usr/local/lib/python3.6/dist-packages/matplotlib/backends/backend_agg.py:183: RuntimeWarning: Glyph 50612 missing from current font.\n",
            "  font.set_text(s, 0, flags=flags)\n",
            "/usr/local/lib/python3.6/dist-packages/matplotlib/backends/backend_agg.py:183: RuntimeWarning: Glyph 47157 missing from current font.\n",
            "  font.set_text(s, 0, flags=flags)\n",
            "/usr/local/lib/python3.6/dist-packages/matplotlib/backends/backend_agg.py:183: RuntimeWarning: Glyph 45796 missing from current font.\n",
            "  font.set_text(s, 0, flags=flags)\n",
            "/usr/local/lib/python3.6/dist-packages/matplotlib/backends/backend_agg.py:183: RuntimeWarning: Glyph 44277 missing from current font.\n",
            "  font.set_text(s, 0, flags=flags)\n",
            "/usr/local/lib/python3.6/dist-packages/matplotlib/backends/backend_agg.py:183: RuntimeWarning: Glyph 47566 missing from current font.\n",
            "  font.set_text(s, 0, flags=flags)\n",
            "/usr/local/lib/python3.6/dist-packages/matplotlib/backends/backend_agg.py:183: RuntimeWarning: Glyph 50500 missing from current font.\n",
            "  font.set_text(s, 0, flags=flags)\n",
            "/usr/local/lib/python3.6/dist-packages/matplotlib/backends/backend_agg.py:183: RuntimeWarning: Glyph 46104 missing from current font.\n",
            "  font.set_text(s, 0, flags=flags)\n",
            "/usr/local/lib/python3.6/dist-packages/matplotlib/backends/backend_agg.py:183: RuntimeWarning: Glyph 47732 missing from current font.\n",
            "  font.set_text(s, 0, flags=flags)\n",
            "/usr/local/lib/python3.6/dist-packages/matplotlib/backends/backend_agg.py:183: RuntimeWarning: Glyph 49789 missing from current font.\n",
            "  font.set_text(s, 0, flags=flags)\n",
            "/usr/local/lib/python3.6/dist-packages/matplotlib/backends/backend_agg.py:183: RuntimeWarning: Glyph 45733 missing from current font.\n",
            "  font.set_text(s, 0, flags=flags)\n",
            "/usr/local/lib/python3.6/dist-packages/matplotlib/backends/backend_agg.py:183: RuntimeWarning: Glyph 53685 missing from current font.\n",
            "  font.set_text(s, 0, flags=flags)\n",
            "/usr/local/lib/python3.6/dist-packages/matplotlib/backends/backend_agg.py:183: RuntimeWarning: Glyph 54616 missing from current font.\n",
            "  font.set_text(s, 0, flags=flags)\n",
            "/usr/local/lib/python3.6/dist-packages/matplotlib/backends/backend_agg.py:183: RuntimeWarning: Glyph 50689 missing from current font.\n",
            "  font.set_text(s, 0, flags=flags)\n",
            "/usr/local/lib/python3.6/dist-packages/matplotlib/backends/backend_agg.py:183: RuntimeWarning: Glyph 45716 missing from current font.\n",
            "  font.set_text(s, 0, flags=flags)\n",
            "/usr/local/lib/python3.6/dist-packages/matplotlib/backends/backend_agg.py:183: RuntimeWarning: Glyph 45800 missing from current font.\n",
            "  font.set_text(s, 0, flags=flags)\n",
            "/usr/local/lib/python3.6/dist-packages/matplotlib/backends/backend_agg.py:183: RuntimeWarning: Glyph 44032 missing from current font.\n",
            "  font.set_text(s, 0, flags=flags)\n",
            "/usr/local/lib/python3.6/dist-packages/matplotlib/backends/backend_agg.py:183: RuntimeWarning: Glyph 46307 missing from current font.\n",
            "  font.set_text(s, 0, flags=flags)\n",
            "/usr/local/lib/python3.6/dist-packages/matplotlib/backends/backend_agg.py:183: RuntimeWarning: Glyph 44592 missing from current font.\n",
            "  font.set_text(s, 0, flags=flags)\n",
            "/usr/local/lib/python3.6/dist-packages/matplotlib/backends/backend_agg.py:183: RuntimeWarning: Glyph 44397 missing from current font.\n",
            "  font.set_text(s, 0, flags=flags)\n",
            "/usr/local/lib/python3.6/dist-packages/matplotlib/backends/backend_agg.py:183: RuntimeWarning: Glyph 51648 missing from current font.\n",
            "  font.set_text(s, 0, flags=flags)\n",
            "/usr/local/lib/python3.6/dist-packages/matplotlib/backends/backend_agg.py:183: RuntimeWarning: Glyph 47928 missing from current font.\n",
            "  font.set_text(s, 0, flags=flags)\n",
            "/usr/local/lib/python3.6/dist-packages/matplotlib/backends/backend_agg.py:183: RuntimeWarning: Glyph 54620 missing from current font.\n",
            "  font.set_text(s, 0, flags=flags)\n"
          ],
          "name": "stderr"
        },
        {
          "output_type": "display_data",
          "data": {
            "image/png": "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\n",
            "text/plain": [
              "<Figure size 576x576 with 1 Axes>"
            ]
          },
          "metadata": {
            "tags": [],
            "needs_background": "light"
          }
        },
        {
          "output_type": "stream",
          "text": [
            "training >>> 1300\n"
          ],
          "name": "stdout"
        },
        {
          "output_type": "stream",
          "text": [
            "/usr/local/lib/python3.6/dist-packages/matplotlib/backends/backend_agg.py:214: RuntimeWarning: Glyph 49688 missing from current font.\n",
            "  font.set_text(s, 0.0, flags=flags)\n",
            "/usr/local/lib/python3.6/dist-packages/matplotlib/backends/backend_agg.py:214: RuntimeWarning: Glyph 54617 missing from current font.\n",
            "  font.set_text(s, 0.0, flags=flags)\n",
            "/usr/local/lib/python3.6/dist-packages/matplotlib/backends/backend_agg.py:214: RuntimeWarning: Glyph 51008 missing from current font.\n",
            "  font.set_text(s, 0.0, flags=flags)\n",
            "/usr/local/lib/python3.6/dist-packages/matplotlib/backends/backend_agg.py:214: RuntimeWarning: Glyph 49885 missing from current font.\n",
            "  font.set_text(s, 0.0, flags=flags)\n",
            "/usr/local/lib/python3.6/dist-packages/matplotlib/backends/backend_agg.py:214: RuntimeWarning: Glyph 51060 missing from current font.\n",
            "  font.set_text(s, 0.0, flags=flags)\n",
            "/usr/local/lib/python3.6/dist-packages/matplotlib/backends/backend_agg.py:214: RuntimeWarning: Glyph 48373 missing from current font.\n",
            "  font.set_text(s, 0.0, flags=flags)\n",
            "/usr/local/lib/python3.6/dist-packages/matplotlib/backends/backend_agg.py:214: RuntimeWarning: Glyph 51105 missing from current font.\n",
            "  font.set_text(s, 0.0, flags=flags)\n",
            "/usr/local/lib/python3.6/dist-packages/matplotlib/backends/backend_agg.py:214: RuntimeWarning: Glyph 54644 missing from current font.\n",
            "  font.set_text(s, 0.0, flags=flags)\n",
            "/usr/local/lib/python3.6/dist-packages/matplotlib/backends/backend_agg.py:214: RuntimeWarning: Glyph 49436 missing from current font.\n",
            "  font.set_text(s, 0.0, flags=flags)\n",
            "/usr/local/lib/python3.6/dist-packages/matplotlib/backends/backend_agg.py:214: RuntimeWarning: Glyph 50612 missing from current font.\n",
            "  font.set_text(s, 0.0, flags=flags)\n",
            "/usr/local/lib/python3.6/dist-packages/matplotlib/backends/backend_agg.py:214: RuntimeWarning: Glyph 47157 missing from current font.\n",
            "  font.set_text(s, 0.0, flags=flags)\n",
            "/usr/local/lib/python3.6/dist-packages/matplotlib/backends/backend_agg.py:214: RuntimeWarning: Glyph 45796 missing from current font.\n",
            "  font.set_text(s, 0.0, flags=flags)\n",
            "/usr/local/lib/python3.6/dist-packages/matplotlib/backends/backend_agg.py:214: RuntimeWarning: Glyph 44277 missing from current font.\n",
            "  font.set_text(s, 0.0, flags=flags)\n",
            "/usr/local/lib/python3.6/dist-packages/matplotlib/backends/backend_agg.py:214: RuntimeWarning: Glyph 47566 missing from current font.\n",
            "  font.set_text(s, 0.0, flags=flags)\n",
            "/usr/local/lib/python3.6/dist-packages/matplotlib/backends/backend_agg.py:214: RuntimeWarning: Glyph 50500 missing from current font.\n",
            "  font.set_text(s, 0.0, flags=flags)\n",
            "/usr/local/lib/python3.6/dist-packages/matplotlib/backends/backend_agg.py:214: RuntimeWarning: Glyph 46104 missing from current font.\n",
            "  font.set_text(s, 0.0, flags=flags)\n",
            "/usr/local/lib/python3.6/dist-packages/matplotlib/backends/backend_agg.py:214: RuntimeWarning: Glyph 47732 missing from current font.\n",
            "  font.set_text(s, 0.0, flags=flags)\n",
            "/usr/local/lib/python3.6/dist-packages/matplotlib/backends/backend_agg.py:214: RuntimeWarning: Glyph 49789 missing from current font.\n",
            "  font.set_text(s, 0.0, flags=flags)\n",
            "/usr/local/lib/python3.6/dist-packages/matplotlib/backends/backend_agg.py:214: RuntimeWarning: Glyph 45733 missing from current font.\n",
            "  font.set_text(s, 0.0, flags=flags)\n",
            "/usr/local/lib/python3.6/dist-packages/matplotlib/backends/backend_agg.py:214: RuntimeWarning: Glyph 53685 missing from current font.\n",
            "  font.set_text(s, 0.0, flags=flags)\n",
            "/usr/local/lib/python3.6/dist-packages/matplotlib/backends/backend_agg.py:214: RuntimeWarning: Glyph 54616 missing from current font.\n",
            "  font.set_text(s, 0.0, flags=flags)\n",
            "/usr/local/lib/python3.6/dist-packages/matplotlib/backends/backend_agg.py:214: RuntimeWarning: Glyph 50689 missing from current font.\n",
            "  font.set_text(s, 0.0, flags=flags)\n",
            "/usr/local/lib/python3.6/dist-packages/matplotlib/backends/backend_agg.py:214: RuntimeWarning: Glyph 45716 missing from current font.\n",
            "  font.set_text(s, 0.0, flags=flags)\n",
            "/usr/local/lib/python3.6/dist-packages/matplotlib/backends/backend_agg.py:214: RuntimeWarning: Glyph 45800 missing from current font.\n",
            "  font.set_text(s, 0.0, flags=flags)\n",
            "/usr/local/lib/python3.6/dist-packages/matplotlib/backends/backend_agg.py:214: RuntimeWarning: Glyph 44032 missing from current font.\n",
            "  font.set_text(s, 0.0, flags=flags)\n",
            "/usr/local/lib/python3.6/dist-packages/matplotlib/backends/backend_agg.py:214: RuntimeWarning: Glyph 46307 missing from current font.\n",
            "  font.set_text(s, 0.0, flags=flags)\n",
            "/usr/local/lib/python3.6/dist-packages/matplotlib/backends/backend_agg.py:214: RuntimeWarning: Glyph 44592 missing from current font.\n",
            "  font.set_text(s, 0.0, flags=flags)\n",
            "/usr/local/lib/python3.6/dist-packages/matplotlib/backends/backend_agg.py:214: RuntimeWarning: Glyph 44397 missing from current font.\n",
            "  font.set_text(s, 0.0, flags=flags)\n",
            "/usr/local/lib/python3.6/dist-packages/matplotlib/backends/backend_agg.py:214: RuntimeWarning: Glyph 51648 missing from current font.\n",
            "  font.set_text(s, 0.0, flags=flags)\n",
            "/usr/local/lib/python3.6/dist-packages/matplotlib/backends/backend_agg.py:214: RuntimeWarning: Glyph 47928 missing from current font.\n",
            "  font.set_text(s, 0.0, flags=flags)\n",
            "/usr/local/lib/python3.6/dist-packages/matplotlib/backends/backend_agg.py:214: RuntimeWarning: Glyph 54620 missing from current font.\n",
            "  font.set_text(s, 0.0, flags=flags)\n",
            "/usr/local/lib/python3.6/dist-packages/matplotlib/backends/backend_agg.py:183: RuntimeWarning: Glyph 49688 missing from current font.\n",
            "  font.set_text(s, 0, flags=flags)\n",
            "/usr/local/lib/python3.6/dist-packages/matplotlib/backends/backend_agg.py:183: RuntimeWarning: Glyph 54617 missing from current font.\n",
            "  font.set_text(s, 0, flags=flags)\n",
            "/usr/local/lib/python3.6/dist-packages/matplotlib/backends/backend_agg.py:183: RuntimeWarning: Glyph 51008 missing from current font.\n",
            "  font.set_text(s, 0, flags=flags)\n",
            "/usr/local/lib/python3.6/dist-packages/matplotlib/backends/backend_agg.py:183: RuntimeWarning: Glyph 49885 missing from current font.\n",
            "  font.set_text(s, 0, flags=flags)\n",
            "/usr/local/lib/python3.6/dist-packages/matplotlib/backends/backend_agg.py:183: RuntimeWarning: Glyph 51060 missing from current font.\n",
            "  font.set_text(s, 0, flags=flags)\n",
            "/usr/local/lib/python3.6/dist-packages/matplotlib/backends/backend_agg.py:183: RuntimeWarning: Glyph 48373 missing from current font.\n",
            "  font.set_text(s, 0, flags=flags)\n",
            "/usr/local/lib/python3.6/dist-packages/matplotlib/backends/backend_agg.py:183: RuntimeWarning: Glyph 51105 missing from current font.\n",
            "  font.set_text(s, 0, flags=flags)\n",
            "/usr/local/lib/python3.6/dist-packages/matplotlib/backends/backend_agg.py:183: RuntimeWarning: Glyph 54644 missing from current font.\n",
            "  font.set_text(s, 0, flags=flags)\n",
            "/usr/local/lib/python3.6/dist-packages/matplotlib/backends/backend_agg.py:183: RuntimeWarning: Glyph 49436 missing from current font.\n",
            "  font.set_text(s, 0, flags=flags)\n",
            "/usr/local/lib/python3.6/dist-packages/matplotlib/backends/backend_agg.py:183: RuntimeWarning: Glyph 50612 missing from current font.\n",
            "  font.set_text(s, 0, flags=flags)\n",
            "/usr/local/lib/python3.6/dist-packages/matplotlib/backends/backend_agg.py:183: RuntimeWarning: Glyph 47157 missing from current font.\n",
            "  font.set_text(s, 0, flags=flags)\n",
            "/usr/local/lib/python3.6/dist-packages/matplotlib/backends/backend_agg.py:183: RuntimeWarning: Glyph 45796 missing from current font.\n",
            "  font.set_text(s, 0, flags=flags)\n",
            "/usr/local/lib/python3.6/dist-packages/matplotlib/backends/backend_agg.py:183: RuntimeWarning: Glyph 44277 missing from current font.\n",
            "  font.set_text(s, 0, flags=flags)\n",
            "/usr/local/lib/python3.6/dist-packages/matplotlib/backends/backend_agg.py:183: RuntimeWarning: Glyph 47566 missing from current font.\n",
            "  font.set_text(s, 0, flags=flags)\n",
            "/usr/local/lib/python3.6/dist-packages/matplotlib/backends/backend_agg.py:183: RuntimeWarning: Glyph 50500 missing from current font.\n",
            "  font.set_text(s, 0, flags=flags)\n",
            "/usr/local/lib/python3.6/dist-packages/matplotlib/backends/backend_agg.py:183: RuntimeWarning: Glyph 46104 missing from current font.\n",
            "  font.set_text(s, 0, flags=flags)\n",
            "/usr/local/lib/python3.6/dist-packages/matplotlib/backends/backend_agg.py:183: RuntimeWarning: Glyph 47732 missing from current font.\n",
            "  font.set_text(s, 0, flags=flags)\n",
            "/usr/local/lib/python3.6/dist-packages/matplotlib/backends/backend_agg.py:183: RuntimeWarning: Glyph 49789 missing from current font.\n",
            "  font.set_text(s, 0, flags=flags)\n",
            "/usr/local/lib/python3.6/dist-packages/matplotlib/backends/backend_agg.py:183: RuntimeWarning: Glyph 45733 missing from current font.\n",
            "  font.set_text(s, 0, flags=flags)\n",
            "/usr/local/lib/python3.6/dist-packages/matplotlib/backends/backend_agg.py:183: RuntimeWarning: Glyph 53685 missing from current font.\n",
            "  font.set_text(s, 0, flags=flags)\n",
            "/usr/local/lib/python3.6/dist-packages/matplotlib/backends/backend_agg.py:183: RuntimeWarning: Glyph 54616 missing from current font.\n",
            "  font.set_text(s, 0, flags=flags)\n",
            "/usr/local/lib/python3.6/dist-packages/matplotlib/backends/backend_agg.py:183: RuntimeWarning: Glyph 50689 missing from current font.\n",
            "  font.set_text(s, 0, flags=flags)\n",
            "/usr/local/lib/python3.6/dist-packages/matplotlib/backends/backend_agg.py:183: RuntimeWarning: Glyph 45716 missing from current font.\n",
            "  font.set_text(s, 0, flags=flags)\n",
            "/usr/local/lib/python3.6/dist-packages/matplotlib/backends/backend_agg.py:183: RuntimeWarning: Glyph 45800 missing from current font.\n",
            "  font.set_text(s, 0, flags=flags)\n",
            "/usr/local/lib/python3.6/dist-packages/matplotlib/backends/backend_agg.py:183: RuntimeWarning: Glyph 44032 missing from current font.\n",
            "  font.set_text(s, 0, flags=flags)\n",
            "/usr/local/lib/python3.6/dist-packages/matplotlib/backends/backend_agg.py:183: RuntimeWarning: Glyph 46307 missing from current font.\n",
            "  font.set_text(s, 0, flags=flags)\n",
            "/usr/local/lib/python3.6/dist-packages/matplotlib/backends/backend_agg.py:183: RuntimeWarning: Glyph 44592 missing from current font.\n",
            "  font.set_text(s, 0, flags=flags)\n",
            "/usr/local/lib/python3.6/dist-packages/matplotlib/backends/backend_agg.py:183: RuntimeWarning: Glyph 44397 missing from current font.\n",
            "  font.set_text(s, 0, flags=flags)\n",
            "/usr/local/lib/python3.6/dist-packages/matplotlib/backends/backend_agg.py:183: RuntimeWarning: Glyph 51648 missing from current font.\n",
            "  font.set_text(s, 0, flags=flags)\n",
            "/usr/local/lib/python3.6/dist-packages/matplotlib/backends/backend_agg.py:183: RuntimeWarning: Glyph 47928 missing from current font.\n",
            "  font.set_text(s, 0, flags=flags)\n",
            "/usr/local/lib/python3.6/dist-packages/matplotlib/backends/backend_agg.py:183: RuntimeWarning: Glyph 54620 missing from current font.\n",
            "  font.set_text(s, 0, flags=flags)\n"
          ],
          "name": "stderr"
        },
        {
          "output_type": "display_data",
          "data": {
            "image/png": "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\n",
            "text/plain": [
              "<Figure size 576x576 with 1 Axes>"
            ]
          },
          "metadata": {
            "tags": [],
            "needs_background": "light"
          }
        },
        {
          "output_type": "stream",
          "text": [
            "training >>> 1400\n"
          ],
          "name": "stdout"
        },
        {
          "output_type": "stream",
          "text": [
            "/usr/local/lib/python3.6/dist-packages/matplotlib/backends/backend_agg.py:214: RuntimeWarning: Glyph 49688 missing from current font.\n",
            "  font.set_text(s, 0.0, flags=flags)\n",
            "/usr/local/lib/python3.6/dist-packages/matplotlib/backends/backend_agg.py:214: RuntimeWarning: Glyph 54617 missing from current font.\n",
            "  font.set_text(s, 0.0, flags=flags)\n",
            "/usr/local/lib/python3.6/dist-packages/matplotlib/backends/backend_agg.py:214: RuntimeWarning: Glyph 51008 missing from current font.\n",
            "  font.set_text(s, 0.0, flags=flags)\n",
            "/usr/local/lib/python3.6/dist-packages/matplotlib/backends/backend_agg.py:214: RuntimeWarning: Glyph 49885 missing from current font.\n",
            "  font.set_text(s, 0.0, flags=flags)\n",
            "/usr/local/lib/python3.6/dist-packages/matplotlib/backends/backend_agg.py:214: RuntimeWarning: Glyph 51060 missing from current font.\n",
            "  font.set_text(s, 0.0, flags=flags)\n",
            "/usr/local/lib/python3.6/dist-packages/matplotlib/backends/backend_agg.py:214: RuntimeWarning: Glyph 48373 missing from current font.\n",
            "  font.set_text(s, 0.0, flags=flags)\n",
            "/usr/local/lib/python3.6/dist-packages/matplotlib/backends/backend_agg.py:214: RuntimeWarning: Glyph 51105 missing from current font.\n",
            "  font.set_text(s, 0.0, flags=flags)\n",
            "/usr/local/lib/python3.6/dist-packages/matplotlib/backends/backend_agg.py:214: RuntimeWarning: Glyph 54644 missing from current font.\n",
            "  font.set_text(s, 0.0, flags=flags)\n",
            "/usr/local/lib/python3.6/dist-packages/matplotlib/backends/backend_agg.py:214: RuntimeWarning: Glyph 49436 missing from current font.\n",
            "  font.set_text(s, 0.0, flags=flags)\n",
            "/usr/local/lib/python3.6/dist-packages/matplotlib/backends/backend_agg.py:214: RuntimeWarning: Glyph 50612 missing from current font.\n",
            "  font.set_text(s, 0.0, flags=flags)\n",
            "/usr/local/lib/python3.6/dist-packages/matplotlib/backends/backend_agg.py:214: RuntimeWarning: Glyph 47157 missing from current font.\n",
            "  font.set_text(s, 0.0, flags=flags)\n",
            "/usr/local/lib/python3.6/dist-packages/matplotlib/backends/backend_agg.py:214: RuntimeWarning: Glyph 45796 missing from current font.\n",
            "  font.set_text(s, 0.0, flags=flags)\n",
            "/usr/local/lib/python3.6/dist-packages/matplotlib/backends/backend_agg.py:214: RuntimeWarning: Glyph 44277 missing from current font.\n",
            "  font.set_text(s, 0.0, flags=flags)\n",
            "/usr/local/lib/python3.6/dist-packages/matplotlib/backends/backend_agg.py:214: RuntimeWarning: Glyph 47566 missing from current font.\n",
            "  font.set_text(s, 0.0, flags=flags)\n",
            "/usr/local/lib/python3.6/dist-packages/matplotlib/backends/backend_agg.py:214: RuntimeWarning: Glyph 50500 missing from current font.\n",
            "  font.set_text(s, 0.0, flags=flags)\n",
            "/usr/local/lib/python3.6/dist-packages/matplotlib/backends/backend_agg.py:214: RuntimeWarning: Glyph 46104 missing from current font.\n",
            "  font.set_text(s, 0.0, flags=flags)\n",
            "/usr/local/lib/python3.6/dist-packages/matplotlib/backends/backend_agg.py:214: RuntimeWarning: Glyph 47732 missing from current font.\n",
            "  font.set_text(s, 0.0, flags=flags)\n",
            "/usr/local/lib/python3.6/dist-packages/matplotlib/backends/backend_agg.py:214: RuntimeWarning: Glyph 49789 missing from current font.\n",
            "  font.set_text(s, 0.0, flags=flags)\n",
            "/usr/local/lib/python3.6/dist-packages/matplotlib/backends/backend_agg.py:214: RuntimeWarning: Glyph 45733 missing from current font.\n",
            "  font.set_text(s, 0.0, flags=flags)\n",
            "/usr/local/lib/python3.6/dist-packages/matplotlib/backends/backend_agg.py:214: RuntimeWarning: Glyph 53685 missing from current font.\n",
            "  font.set_text(s, 0.0, flags=flags)\n",
            "/usr/local/lib/python3.6/dist-packages/matplotlib/backends/backend_agg.py:214: RuntimeWarning: Glyph 54616 missing from current font.\n",
            "  font.set_text(s, 0.0, flags=flags)\n",
            "/usr/local/lib/python3.6/dist-packages/matplotlib/backends/backend_agg.py:214: RuntimeWarning: Glyph 50689 missing from current font.\n",
            "  font.set_text(s, 0.0, flags=flags)\n",
            "/usr/local/lib/python3.6/dist-packages/matplotlib/backends/backend_agg.py:214: RuntimeWarning: Glyph 45716 missing from current font.\n",
            "  font.set_text(s, 0.0, flags=flags)\n",
            "/usr/local/lib/python3.6/dist-packages/matplotlib/backends/backend_agg.py:214: RuntimeWarning: Glyph 45800 missing from current font.\n",
            "  font.set_text(s, 0.0, flags=flags)\n",
            "/usr/local/lib/python3.6/dist-packages/matplotlib/backends/backend_agg.py:214: RuntimeWarning: Glyph 44032 missing from current font.\n",
            "  font.set_text(s, 0.0, flags=flags)\n",
            "/usr/local/lib/python3.6/dist-packages/matplotlib/backends/backend_agg.py:214: RuntimeWarning: Glyph 46307 missing from current font.\n",
            "  font.set_text(s, 0.0, flags=flags)\n",
            "/usr/local/lib/python3.6/dist-packages/matplotlib/backends/backend_agg.py:214: RuntimeWarning: Glyph 44592 missing from current font.\n",
            "  font.set_text(s, 0.0, flags=flags)\n",
            "/usr/local/lib/python3.6/dist-packages/matplotlib/backends/backend_agg.py:214: RuntimeWarning: Glyph 44397 missing from current font.\n",
            "  font.set_text(s, 0.0, flags=flags)\n",
            "/usr/local/lib/python3.6/dist-packages/matplotlib/backends/backend_agg.py:214: RuntimeWarning: Glyph 51648 missing from current font.\n",
            "  font.set_text(s, 0.0, flags=flags)\n",
            "/usr/local/lib/python3.6/dist-packages/matplotlib/backends/backend_agg.py:214: RuntimeWarning: Glyph 47928 missing from current font.\n",
            "  font.set_text(s, 0.0, flags=flags)\n",
            "/usr/local/lib/python3.6/dist-packages/matplotlib/backends/backend_agg.py:214: RuntimeWarning: Glyph 54620 missing from current font.\n",
            "  font.set_text(s, 0.0, flags=flags)\n",
            "/usr/local/lib/python3.6/dist-packages/matplotlib/backends/backend_agg.py:183: RuntimeWarning: Glyph 49688 missing from current font.\n",
            "  font.set_text(s, 0, flags=flags)\n",
            "/usr/local/lib/python3.6/dist-packages/matplotlib/backends/backend_agg.py:183: RuntimeWarning: Glyph 54617 missing from current font.\n",
            "  font.set_text(s, 0, flags=flags)\n",
            "/usr/local/lib/python3.6/dist-packages/matplotlib/backends/backend_agg.py:183: RuntimeWarning: Glyph 51008 missing from current font.\n",
            "  font.set_text(s, 0, flags=flags)\n",
            "/usr/local/lib/python3.6/dist-packages/matplotlib/backends/backend_agg.py:183: RuntimeWarning: Glyph 49885 missing from current font.\n",
            "  font.set_text(s, 0, flags=flags)\n",
            "/usr/local/lib/python3.6/dist-packages/matplotlib/backends/backend_agg.py:183: RuntimeWarning: Glyph 51060 missing from current font.\n",
            "  font.set_text(s, 0, flags=flags)\n",
            "/usr/local/lib/python3.6/dist-packages/matplotlib/backends/backend_agg.py:183: RuntimeWarning: Glyph 48373 missing from current font.\n",
            "  font.set_text(s, 0, flags=flags)\n",
            "/usr/local/lib/python3.6/dist-packages/matplotlib/backends/backend_agg.py:183: RuntimeWarning: Glyph 51105 missing from current font.\n",
            "  font.set_text(s, 0, flags=flags)\n",
            "/usr/local/lib/python3.6/dist-packages/matplotlib/backends/backend_agg.py:183: RuntimeWarning: Glyph 54644 missing from current font.\n",
            "  font.set_text(s, 0, flags=flags)\n",
            "/usr/local/lib/python3.6/dist-packages/matplotlib/backends/backend_agg.py:183: RuntimeWarning: Glyph 49436 missing from current font.\n",
            "  font.set_text(s, 0, flags=flags)\n",
            "/usr/local/lib/python3.6/dist-packages/matplotlib/backends/backend_agg.py:183: RuntimeWarning: Glyph 50612 missing from current font.\n",
            "  font.set_text(s, 0, flags=flags)\n",
            "/usr/local/lib/python3.6/dist-packages/matplotlib/backends/backend_agg.py:183: RuntimeWarning: Glyph 47157 missing from current font.\n",
            "  font.set_text(s, 0, flags=flags)\n",
            "/usr/local/lib/python3.6/dist-packages/matplotlib/backends/backend_agg.py:183: RuntimeWarning: Glyph 45796 missing from current font.\n",
            "  font.set_text(s, 0, flags=flags)\n",
            "/usr/local/lib/python3.6/dist-packages/matplotlib/backends/backend_agg.py:183: RuntimeWarning: Glyph 44277 missing from current font.\n",
            "  font.set_text(s, 0, flags=flags)\n",
            "/usr/local/lib/python3.6/dist-packages/matplotlib/backends/backend_agg.py:183: RuntimeWarning: Glyph 47566 missing from current font.\n",
            "  font.set_text(s, 0, flags=flags)\n",
            "/usr/local/lib/python3.6/dist-packages/matplotlib/backends/backend_agg.py:183: RuntimeWarning: Glyph 50500 missing from current font.\n",
            "  font.set_text(s, 0, flags=flags)\n",
            "/usr/local/lib/python3.6/dist-packages/matplotlib/backends/backend_agg.py:183: RuntimeWarning: Glyph 46104 missing from current font.\n",
            "  font.set_text(s, 0, flags=flags)\n",
            "/usr/local/lib/python3.6/dist-packages/matplotlib/backends/backend_agg.py:183: RuntimeWarning: Glyph 47732 missing from current font.\n",
            "  font.set_text(s, 0, flags=flags)\n",
            "/usr/local/lib/python3.6/dist-packages/matplotlib/backends/backend_agg.py:183: RuntimeWarning: Glyph 49789 missing from current font.\n",
            "  font.set_text(s, 0, flags=flags)\n",
            "/usr/local/lib/python3.6/dist-packages/matplotlib/backends/backend_agg.py:183: RuntimeWarning: Glyph 45733 missing from current font.\n",
            "  font.set_text(s, 0, flags=flags)\n",
            "/usr/local/lib/python3.6/dist-packages/matplotlib/backends/backend_agg.py:183: RuntimeWarning: Glyph 53685 missing from current font.\n",
            "  font.set_text(s, 0, flags=flags)\n",
            "/usr/local/lib/python3.6/dist-packages/matplotlib/backends/backend_agg.py:183: RuntimeWarning: Glyph 54616 missing from current font.\n",
            "  font.set_text(s, 0, flags=flags)\n",
            "/usr/local/lib/python3.6/dist-packages/matplotlib/backends/backend_agg.py:183: RuntimeWarning: Glyph 50689 missing from current font.\n",
            "  font.set_text(s, 0, flags=flags)\n",
            "/usr/local/lib/python3.6/dist-packages/matplotlib/backends/backend_agg.py:183: RuntimeWarning: Glyph 45716 missing from current font.\n",
            "  font.set_text(s, 0, flags=flags)\n",
            "/usr/local/lib/python3.6/dist-packages/matplotlib/backends/backend_agg.py:183: RuntimeWarning: Glyph 45800 missing from current font.\n",
            "  font.set_text(s, 0, flags=flags)\n",
            "/usr/local/lib/python3.6/dist-packages/matplotlib/backends/backend_agg.py:183: RuntimeWarning: Glyph 44032 missing from current font.\n",
            "  font.set_text(s, 0, flags=flags)\n",
            "/usr/local/lib/python3.6/dist-packages/matplotlib/backends/backend_agg.py:183: RuntimeWarning: Glyph 46307 missing from current font.\n",
            "  font.set_text(s, 0, flags=flags)\n",
            "/usr/local/lib/python3.6/dist-packages/matplotlib/backends/backend_agg.py:183: RuntimeWarning: Glyph 44592 missing from current font.\n",
            "  font.set_text(s, 0, flags=flags)\n",
            "/usr/local/lib/python3.6/dist-packages/matplotlib/backends/backend_agg.py:183: RuntimeWarning: Glyph 44397 missing from current font.\n",
            "  font.set_text(s, 0, flags=flags)\n",
            "/usr/local/lib/python3.6/dist-packages/matplotlib/backends/backend_agg.py:183: RuntimeWarning: Glyph 51648 missing from current font.\n",
            "  font.set_text(s, 0, flags=flags)\n",
            "/usr/local/lib/python3.6/dist-packages/matplotlib/backends/backend_agg.py:183: RuntimeWarning: Glyph 47928 missing from current font.\n",
            "  font.set_text(s, 0, flags=flags)\n",
            "/usr/local/lib/python3.6/dist-packages/matplotlib/backends/backend_agg.py:183: RuntimeWarning: Glyph 54620 missing from current font.\n",
            "  font.set_text(s, 0, flags=flags)\n"
          ],
          "name": "stderr"
        },
        {
          "output_type": "display_data",
          "data": {
            "image/png": "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\n",
            "text/plain": [
              "<Figure size 576x576 with 1 Axes>"
            ]
          },
          "metadata": {
            "tags": [],
            "needs_background": "light"
          }
        },
        {
          "output_type": "stream",
          "text": [
            "training >>> 1500\n"
          ],
          "name": "stdout"
        },
        {
          "output_type": "stream",
          "text": [
            "/usr/local/lib/python3.6/dist-packages/matplotlib/backends/backend_agg.py:214: RuntimeWarning: Glyph 49688 missing from current font.\n",
            "  font.set_text(s, 0.0, flags=flags)\n",
            "/usr/local/lib/python3.6/dist-packages/matplotlib/backends/backend_agg.py:214: RuntimeWarning: Glyph 54617 missing from current font.\n",
            "  font.set_text(s, 0.0, flags=flags)\n",
            "/usr/local/lib/python3.6/dist-packages/matplotlib/backends/backend_agg.py:214: RuntimeWarning: Glyph 51008 missing from current font.\n",
            "  font.set_text(s, 0.0, flags=flags)\n",
            "/usr/local/lib/python3.6/dist-packages/matplotlib/backends/backend_agg.py:214: RuntimeWarning: Glyph 49885 missing from current font.\n",
            "  font.set_text(s, 0.0, flags=flags)\n",
            "/usr/local/lib/python3.6/dist-packages/matplotlib/backends/backend_agg.py:214: RuntimeWarning: Glyph 51060 missing from current font.\n",
            "  font.set_text(s, 0.0, flags=flags)\n",
            "/usr/local/lib/python3.6/dist-packages/matplotlib/backends/backend_agg.py:214: RuntimeWarning: Glyph 48373 missing from current font.\n",
            "  font.set_text(s, 0.0, flags=flags)\n",
            "/usr/local/lib/python3.6/dist-packages/matplotlib/backends/backend_agg.py:214: RuntimeWarning: Glyph 51105 missing from current font.\n",
            "  font.set_text(s, 0.0, flags=flags)\n",
            "/usr/local/lib/python3.6/dist-packages/matplotlib/backends/backend_agg.py:214: RuntimeWarning: Glyph 54644 missing from current font.\n",
            "  font.set_text(s, 0.0, flags=flags)\n",
            "/usr/local/lib/python3.6/dist-packages/matplotlib/backends/backend_agg.py:214: RuntimeWarning: Glyph 49436 missing from current font.\n",
            "  font.set_text(s, 0.0, flags=flags)\n",
            "/usr/local/lib/python3.6/dist-packages/matplotlib/backends/backend_agg.py:214: RuntimeWarning: Glyph 50612 missing from current font.\n",
            "  font.set_text(s, 0.0, flags=flags)\n",
            "/usr/local/lib/python3.6/dist-packages/matplotlib/backends/backend_agg.py:214: RuntimeWarning: Glyph 47157 missing from current font.\n",
            "  font.set_text(s, 0.0, flags=flags)\n",
            "/usr/local/lib/python3.6/dist-packages/matplotlib/backends/backend_agg.py:214: RuntimeWarning: Glyph 45796 missing from current font.\n",
            "  font.set_text(s, 0.0, flags=flags)\n",
            "/usr/local/lib/python3.6/dist-packages/matplotlib/backends/backend_agg.py:214: RuntimeWarning: Glyph 44277 missing from current font.\n",
            "  font.set_text(s, 0.0, flags=flags)\n",
            "/usr/local/lib/python3.6/dist-packages/matplotlib/backends/backend_agg.py:214: RuntimeWarning: Glyph 47566 missing from current font.\n",
            "  font.set_text(s, 0.0, flags=flags)\n",
            "/usr/local/lib/python3.6/dist-packages/matplotlib/backends/backend_agg.py:214: RuntimeWarning: Glyph 50500 missing from current font.\n",
            "  font.set_text(s, 0.0, flags=flags)\n",
            "/usr/local/lib/python3.6/dist-packages/matplotlib/backends/backend_agg.py:214: RuntimeWarning: Glyph 46104 missing from current font.\n",
            "  font.set_text(s, 0.0, flags=flags)\n",
            "/usr/local/lib/python3.6/dist-packages/matplotlib/backends/backend_agg.py:214: RuntimeWarning: Glyph 47732 missing from current font.\n",
            "  font.set_text(s, 0.0, flags=flags)\n",
            "/usr/local/lib/python3.6/dist-packages/matplotlib/backends/backend_agg.py:214: RuntimeWarning: Glyph 49789 missing from current font.\n",
            "  font.set_text(s, 0.0, flags=flags)\n",
            "/usr/local/lib/python3.6/dist-packages/matplotlib/backends/backend_agg.py:214: RuntimeWarning: Glyph 45733 missing from current font.\n",
            "  font.set_text(s, 0.0, flags=flags)\n",
            "/usr/local/lib/python3.6/dist-packages/matplotlib/backends/backend_agg.py:214: RuntimeWarning: Glyph 53685 missing from current font.\n",
            "  font.set_text(s, 0.0, flags=flags)\n",
            "/usr/local/lib/python3.6/dist-packages/matplotlib/backends/backend_agg.py:214: RuntimeWarning: Glyph 54616 missing from current font.\n",
            "  font.set_text(s, 0.0, flags=flags)\n",
            "/usr/local/lib/python3.6/dist-packages/matplotlib/backends/backend_agg.py:214: RuntimeWarning: Glyph 50689 missing from current font.\n",
            "  font.set_text(s, 0.0, flags=flags)\n",
            "/usr/local/lib/python3.6/dist-packages/matplotlib/backends/backend_agg.py:214: RuntimeWarning: Glyph 45716 missing from current font.\n",
            "  font.set_text(s, 0.0, flags=flags)\n",
            "/usr/local/lib/python3.6/dist-packages/matplotlib/backends/backend_agg.py:214: RuntimeWarning: Glyph 45800 missing from current font.\n",
            "  font.set_text(s, 0.0, flags=flags)\n",
            "/usr/local/lib/python3.6/dist-packages/matplotlib/backends/backend_agg.py:214: RuntimeWarning: Glyph 44032 missing from current font.\n",
            "  font.set_text(s, 0.0, flags=flags)\n",
            "/usr/local/lib/python3.6/dist-packages/matplotlib/backends/backend_agg.py:214: RuntimeWarning: Glyph 46307 missing from current font.\n",
            "  font.set_text(s, 0.0, flags=flags)\n",
            "/usr/local/lib/python3.6/dist-packages/matplotlib/backends/backend_agg.py:214: RuntimeWarning: Glyph 44592 missing from current font.\n",
            "  font.set_text(s, 0.0, flags=flags)\n",
            "/usr/local/lib/python3.6/dist-packages/matplotlib/backends/backend_agg.py:214: RuntimeWarning: Glyph 44397 missing from current font.\n",
            "  font.set_text(s, 0.0, flags=flags)\n",
            "/usr/local/lib/python3.6/dist-packages/matplotlib/backends/backend_agg.py:214: RuntimeWarning: Glyph 51648 missing from current font.\n",
            "  font.set_text(s, 0.0, flags=flags)\n",
            "/usr/local/lib/python3.6/dist-packages/matplotlib/backends/backend_agg.py:214: RuntimeWarning: Glyph 47928 missing from current font.\n",
            "  font.set_text(s, 0.0, flags=flags)\n",
            "/usr/local/lib/python3.6/dist-packages/matplotlib/backends/backend_agg.py:214: RuntimeWarning: Glyph 54620 missing from current font.\n",
            "  font.set_text(s, 0.0, flags=flags)\n",
            "/usr/local/lib/python3.6/dist-packages/matplotlib/backends/backend_agg.py:183: RuntimeWarning: Glyph 49688 missing from current font.\n",
            "  font.set_text(s, 0, flags=flags)\n",
            "/usr/local/lib/python3.6/dist-packages/matplotlib/backends/backend_agg.py:183: RuntimeWarning: Glyph 54617 missing from current font.\n",
            "  font.set_text(s, 0, flags=flags)\n",
            "/usr/local/lib/python3.6/dist-packages/matplotlib/backends/backend_agg.py:183: RuntimeWarning: Glyph 51008 missing from current font.\n",
            "  font.set_text(s, 0, flags=flags)\n",
            "/usr/local/lib/python3.6/dist-packages/matplotlib/backends/backend_agg.py:183: RuntimeWarning: Glyph 49885 missing from current font.\n",
            "  font.set_text(s, 0, flags=flags)\n",
            "/usr/local/lib/python3.6/dist-packages/matplotlib/backends/backend_agg.py:183: RuntimeWarning: Glyph 51060 missing from current font.\n",
            "  font.set_text(s, 0, flags=flags)\n",
            "/usr/local/lib/python3.6/dist-packages/matplotlib/backends/backend_agg.py:183: RuntimeWarning: Glyph 48373 missing from current font.\n",
            "  font.set_text(s, 0, flags=flags)\n",
            "/usr/local/lib/python3.6/dist-packages/matplotlib/backends/backend_agg.py:183: RuntimeWarning: Glyph 51105 missing from current font.\n",
            "  font.set_text(s, 0, flags=flags)\n",
            "/usr/local/lib/python3.6/dist-packages/matplotlib/backends/backend_agg.py:183: RuntimeWarning: Glyph 54644 missing from current font.\n",
            "  font.set_text(s, 0, flags=flags)\n",
            "/usr/local/lib/python3.6/dist-packages/matplotlib/backends/backend_agg.py:183: RuntimeWarning: Glyph 49436 missing from current font.\n",
            "  font.set_text(s, 0, flags=flags)\n",
            "/usr/local/lib/python3.6/dist-packages/matplotlib/backends/backend_agg.py:183: RuntimeWarning: Glyph 50612 missing from current font.\n",
            "  font.set_text(s, 0, flags=flags)\n",
            "/usr/local/lib/python3.6/dist-packages/matplotlib/backends/backend_agg.py:183: RuntimeWarning: Glyph 47157 missing from current font.\n",
            "  font.set_text(s, 0, flags=flags)\n",
            "/usr/local/lib/python3.6/dist-packages/matplotlib/backends/backend_agg.py:183: RuntimeWarning: Glyph 45796 missing from current font.\n",
            "  font.set_text(s, 0, flags=flags)\n",
            "/usr/local/lib/python3.6/dist-packages/matplotlib/backends/backend_agg.py:183: RuntimeWarning: Glyph 44277 missing from current font.\n",
            "  font.set_text(s, 0, flags=flags)\n",
            "/usr/local/lib/python3.6/dist-packages/matplotlib/backends/backend_agg.py:183: RuntimeWarning: Glyph 47566 missing from current font.\n",
            "  font.set_text(s, 0, flags=flags)\n",
            "/usr/local/lib/python3.6/dist-packages/matplotlib/backends/backend_agg.py:183: RuntimeWarning: Glyph 50500 missing from current font.\n",
            "  font.set_text(s, 0, flags=flags)\n",
            "/usr/local/lib/python3.6/dist-packages/matplotlib/backends/backend_agg.py:183: RuntimeWarning: Glyph 46104 missing from current font.\n",
            "  font.set_text(s, 0, flags=flags)\n",
            "/usr/local/lib/python3.6/dist-packages/matplotlib/backends/backend_agg.py:183: RuntimeWarning: Glyph 47732 missing from current font.\n",
            "  font.set_text(s, 0, flags=flags)\n",
            "/usr/local/lib/python3.6/dist-packages/matplotlib/backends/backend_agg.py:183: RuntimeWarning: Glyph 49789 missing from current font.\n",
            "  font.set_text(s, 0, flags=flags)\n",
            "/usr/local/lib/python3.6/dist-packages/matplotlib/backends/backend_agg.py:183: RuntimeWarning: Glyph 45733 missing from current font.\n",
            "  font.set_text(s, 0, flags=flags)\n",
            "/usr/local/lib/python3.6/dist-packages/matplotlib/backends/backend_agg.py:183: RuntimeWarning: Glyph 53685 missing from current font.\n",
            "  font.set_text(s, 0, flags=flags)\n",
            "/usr/local/lib/python3.6/dist-packages/matplotlib/backends/backend_agg.py:183: RuntimeWarning: Glyph 54616 missing from current font.\n",
            "  font.set_text(s, 0, flags=flags)\n",
            "/usr/local/lib/python3.6/dist-packages/matplotlib/backends/backend_agg.py:183: RuntimeWarning: Glyph 50689 missing from current font.\n",
            "  font.set_text(s, 0, flags=flags)\n",
            "/usr/local/lib/python3.6/dist-packages/matplotlib/backends/backend_agg.py:183: RuntimeWarning: Glyph 45716 missing from current font.\n",
            "  font.set_text(s, 0, flags=flags)\n",
            "/usr/local/lib/python3.6/dist-packages/matplotlib/backends/backend_agg.py:183: RuntimeWarning: Glyph 45800 missing from current font.\n",
            "  font.set_text(s, 0, flags=flags)\n",
            "/usr/local/lib/python3.6/dist-packages/matplotlib/backends/backend_agg.py:183: RuntimeWarning: Glyph 44032 missing from current font.\n",
            "  font.set_text(s, 0, flags=flags)\n",
            "/usr/local/lib/python3.6/dist-packages/matplotlib/backends/backend_agg.py:183: RuntimeWarning: Glyph 46307 missing from current font.\n",
            "  font.set_text(s, 0, flags=flags)\n",
            "/usr/local/lib/python3.6/dist-packages/matplotlib/backends/backend_agg.py:183: RuntimeWarning: Glyph 44592 missing from current font.\n",
            "  font.set_text(s, 0, flags=flags)\n",
            "/usr/local/lib/python3.6/dist-packages/matplotlib/backends/backend_agg.py:183: RuntimeWarning: Glyph 44397 missing from current font.\n",
            "  font.set_text(s, 0, flags=flags)\n",
            "/usr/local/lib/python3.6/dist-packages/matplotlib/backends/backend_agg.py:183: RuntimeWarning: Glyph 51648 missing from current font.\n",
            "  font.set_text(s, 0, flags=flags)\n",
            "/usr/local/lib/python3.6/dist-packages/matplotlib/backends/backend_agg.py:183: RuntimeWarning: Glyph 47928 missing from current font.\n",
            "  font.set_text(s, 0, flags=flags)\n",
            "/usr/local/lib/python3.6/dist-packages/matplotlib/backends/backend_agg.py:183: RuntimeWarning: Glyph 54620 missing from current font.\n",
            "  font.set_text(s, 0, flags=flags)\n"
          ],
          "name": "stderr"
        },
        {
          "output_type": "display_data",
          "data": {
            "image/png": "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\n",
            "text/plain": [
              "<Figure size 576x576 with 1 Axes>"
            ]
          },
          "metadata": {
            "tags": [],
            "needs_background": "light"
          }
        },
        {
          "output_type": "stream",
          "text": [
            "training >>> 1600\n"
          ],
          "name": "stdout"
        },
        {
          "output_type": "stream",
          "text": [
            "/usr/local/lib/python3.6/dist-packages/matplotlib/backends/backend_agg.py:214: RuntimeWarning: Glyph 49688 missing from current font.\n",
            "  font.set_text(s, 0.0, flags=flags)\n",
            "/usr/local/lib/python3.6/dist-packages/matplotlib/backends/backend_agg.py:214: RuntimeWarning: Glyph 54617 missing from current font.\n",
            "  font.set_text(s, 0.0, flags=flags)\n",
            "/usr/local/lib/python3.6/dist-packages/matplotlib/backends/backend_agg.py:214: RuntimeWarning: Glyph 51008 missing from current font.\n",
            "  font.set_text(s, 0.0, flags=flags)\n",
            "/usr/local/lib/python3.6/dist-packages/matplotlib/backends/backend_agg.py:214: RuntimeWarning: Glyph 49885 missing from current font.\n",
            "  font.set_text(s, 0.0, flags=flags)\n",
            "/usr/local/lib/python3.6/dist-packages/matplotlib/backends/backend_agg.py:214: RuntimeWarning: Glyph 51060 missing from current font.\n",
            "  font.set_text(s, 0.0, flags=flags)\n",
            "/usr/local/lib/python3.6/dist-packages/matplotlib/backends/backend_agg.py:214: RuntimeWarning: Glyph 48373 missing from current font.\n",
            "  font.set_text(s, 0.0, flags=flags)\n",
            "/usr/local/lib/python3.6/dist-packages/matplotlib/backends/backend_agg.py:214: RuntimeWarning: Glyph 51105 missing from current font.\n",
            "  font.set_text(s, 0.0, flags=flags)\n",
            "/usr/local/lib/python3.6/dist-packages/matplotlib/backends/backend_agg.py:214: RuntimeWarning: Glyph 54644 missing from current font.\n",
            "  font.set_text(s, 0.0, flags=flags)\n",
            "/usr/local/lib/python3.6/dist-packages/matplotlib/backends/backend_agg.py:214: RuntimeWarning: Glyph 49436 missing from current font.\n",
            "  font.set_text(s, 0.0, flags=flags)\n",
            "/usr/local/lib/python3.6/dist-packages/matplotlib/backends/backend_agg.py:214: RuntimeWarning: Glyph 50612 missing from current font.\n",
            "  font.set_text(s, 0.0, flags=flags)\n",
            "/usr/local/lib/python3.6/dist-packages/matplotlib/backends/backend_agg.py:214: RuntimeWarning: Glyph 47157 missing from current font.\n",
            "  font.set_text(s, 0.0, flags=flags)\n",
            "/usr/local/lib/python3.6/dist-packages/matplotlib/backends/backend_agg.py:214: RuntimeWarning: Glyph 45796 missing from current font.\n",
            "  font.set_text(s, 0.0, flags=flags)\n",
            "/usr/local/lib/python3.6/dist-packages/matplotlib/backends/backend_agg.py:214: RuntimeWarning: Glyph 44277 missing from current font.\n",
            "  font.set_text(s, 0.0, flags=flags)\n",
            "/usr/local/lib/python3.6/dist-packages/matplotlib/backends/backend_agg.py:214: RuntimeWarning: Glyph 47566 missing from current font.\n",
            "  font.set_text(s, 0.0, flags=flags)\n",
            "/usr/local/lib/python3.6/dist-packages/matplotlib/backends/backend_agg.py:214: RuntimeWarning: Glyph 50500 missing from current font.\n",
            "  font.set_text(s, 0.0, flags=flags)\n",
            "/usr/local/lib/python3.6/dist-packages/matplotlib/backends/backend_agg.py:214: RuntimeWarning: Glyph 46104 missing from current font.\n",
            "  font.set_text(s, 0.0, flags=flags)\n",
            "/usr/local/lib/python3.6/dist-packages/matplotlib/backends/backend_agg.py:214: RuntimeWarning: Glyph 47732 missing from current font.\n",
            "  font.set_text(s, 0.0, flags=flags)\n",
            "/usr/local/lib/python3.6/dist-packages/matplotlib/backends/backend_agg.py:214: RuntimeWarning: Glyph 49789 missing from current font.\n",
            "  font.set_text(s, 0.0, flags=flags)\n",
            "/usr/local/lib/python3.6/dist-packages/matplotlib/backends/backend_agg.py:214: RuntimeWarning: Glyph 45733 missing from current font.\n",
            "  font.set_text(s, 0.0, flags=flags)\n",
            "/usr/local/lib/python3.6/dist-packages/matplotlib/backends/backend_agg.py:214: RuntimeWarning: Glyph 53685 missing from current font.\n",
            "  font.set_text(s, 0.0, flags=flags)\n",
            "/usr/local/lib/python3.6/dist-packages/matplotlib/backends/backend_agg.py:214: RuntimeWarning: Glyph 54616 missing from current font.\n",
            "  font.set_text(s, 0.0, flags=flags)\n",
            "/usr/local/lib/python3.6/dist-packages/matplotlib/backends/backend_agg.py:214: RuntimeWarning: Glyph 50689 missing from current font.\n",
            "  font.set_text(s, 0.0, flags=flags)\n",
            "/usr/local/lib/python3.6/dist-packages/matplotlib/backends/backend_agg.py:214: RuntimeWarning: Glyph 45716 missing from current font.\n",
            "  font.set_text(s, 0.0, flags=flags)\n",
            "/usr/local/lib/python3.6/dist-packages/matplotlib/backends/backend_agg.py:214: RuntimeWarning: Glyph 45800 missing from current font.\n",
            "  font.set_text(s, 0.0, flags=flags)\n",
            "/usr/local/lib/python3.6/dist-packages/matplotlib/backends/backend_agg.py:214: RuntimeWarning: Glyph 44032 missing from current font.\n",
            "  font.set_text(s, 0.0, flags=flags)\n",
            "/usr/local/lib/python3.6/dist-packages/matplotlib/backends/backend_agg.py:214: RuntimeWarning: Glyph 46307 missing from current font.\n",
            "  font.set_text(s, 0.0, flags=flags)\n",
            "/usr/local/lib/python3.6/dist-packages/matplotlib/backends/backend_agg.py:214: RuntimeWarning: Glyph 44592 missing from current font.\n",
            "  font.set_text(s, 0.0, flags=flags)\n",
            "/usr/local/lib/python3.6/dist-packages/matplotlib/backends/backend_agg.py:214: RuntimeWarning: Glyph 44397 missing from current font.\n",
            "  font.set_text(s, 0.0, flags=flags)\n",
            "/usr/local/lib/python3.6/dist-packages/matplotlib/backends/backend_agg.py:214: RuntimeWarning: Glyph 51648 missing from current font.\n",
            "  font.set_text(s, 0.0, flags=flags)\n",
            "/usr/local/lib/python3.6/dist-packages/matplotlib/backends/backend_agg.py:214: RuntimeWarning: Glyph 47928 missing from current font.\n",
            "  font.set_text(s, 0.0, flags=flags)\n",
            "/usr/local/lib/python3.6/dist-packages/matplotlib/backends/backend_agg.py:214: RuntimeWarning: Glyph 54620 missing from current font.\n",
            "  font.set_text(s, 0.0, flags=flags)\n",
            "/usr/local/lib/python3.6/dist-packages/matplotlib/backends/backend_agg.py:183: RuntimeWarning: Glyph 49688 missing from current font.\n",
            "  font.set_text(s, 0, flags=flags)\n",
            "/usr/local/lib/python3.6/dist-packages/matplotlib/backends/backend_agg.py:183: RuntimeWarning: Glyph 54617 missing from current font.\n",
            "  font.set_text(s, 0, flags=flags)\n",
            "/usr/local/lib/python3.6/dist-packages/matplotlib/backends/backend_agg.py:183: RuntimeWarning: Glyph 51008 missing from current font.\n",
            "  font.set_text(s, 0, flags=flags)\n",
            "/usr/local/lib/python3.6/dist-packages/matplotlib/backends/backend_agg.py:183: RuntimeWarning: Glyph 49885 missing from current font.\n",
            "  font.set_text(s, 0, flags=flags)\n",
            "/usr/local/lib/python3.6/dist-packages/matplotlib/backends/backend_agg.py:183: RuntimeWarning: Glyph 51060 missing from current font.\n",
            "  font.set_text(s, 0, flags=flags)\n",
            "/usr/local/lib/python3.6/dist-packages/matplotlib/backends/backend_agg.py:183: RuntimeWarning: Glyph 48373 missing from current font.\n",
            "  font.set_text(s, 0, flags=flags)\n",
            "/usr/local/lib/python3.6/dist-packages/matplotlib/backends/backend_agg.py:183: RuntimeWarning: Glyph 51105 missing from current font.\n",
            "  font.set_text(s, 0, flags=flags)\n",
            "/usr/local/lib/python3.6/dist-packages/matplotlib/backends/backend_agg.py:183: RuntimeWarning: Glyph 54644 missing from current font.\n",
            "  font.set_text(s, 0, flags=flags)\n",
            "/usr/local/lib/python3.6/dist-packages/matplotlib/backends/backend_agg.py:183: RuntimeWarning: Glyph 49436 missing from current font.\n",
            "  font.set_text(s, 0, flags=flags)\n",
            "/usr/local/lib/python3.6/dist-packages/matplotlib/backends/backend_agg.py:183: RuntimeWarning: Glyph 50612 missing from current font.\n",
            "  font.set_text(s, 0, flags=flags)\n",
            "/usr/local/lib/python3.6/dist-packages/matplotlib/backends/backend_agg.py:183: RuntimeWarning: Glyph 47157 missing from current font.\n",
            "  font.set_text(s, 0, flags=flags)\n",
            "/usr/local/lib/python3.6/dist-packages/matplotlib/backends/backend_agg.py:183: RuntimeWarning: Glyph 45796 missing from current font.\n",
            "  font.set_text(s, 0, flags=flags)\n",
            "/usr/local/lib/python3.6/dist-packages/matplotlib/backends/backend_agg.py:183: RuntimeWarning: Glyph 44277 missing from current font.\n",
            "  font.set_text(s, 0, flags=flags)\n",
            "/usr/local/lib/python3.6/dist-packages/matplotlib/backends/backend_agg.py:183: RuntimeWarning: Glyph 47566 missing from current font.\n",
            "  font.set_text(s, 0, flags=flags)\n",
            "/usr/local/lib/python3.6/dist-packages/matplotlib/backends/backend_agg.py:183: RuntimeWarning: Glyph 50500 missing from current font.\n",
            "  font.set_text(s, 0, flags=flags)\n",
            "/usr/local/lib/python3.6/dist-packages/matplotlib/backends/backend_agg.py:183: RuntimeWarning: Glyph 46104 missing from current font.\n",
            "  font.set_text(s, 0, flags=flags)\n",
            "/usr/local/lib/python3.6/dist-packages/matplotlib/backends/backend_agg.py:183: RuntimeWarning: Glyph 47732 missing from current font.\n",
            "  font.set_text(s, 0, flags=flags)\n",
            "/usr/local/lib/python3.6/dist-packages/matplotlib/backends/backend_agg.py:183: RuntimeWarning: Glyph 49789 missing from current font.\n",
            "  font.set_text(s, 0, flags=flags)\n",
            "/usr/local/lib/python3.6/dist-packages/matplotlib/backends/backend_agg.py:183: RuntimeWarning: Glyph 45733 missing from current font.\n",
            "  font.set_text(s, 0, flags=flags)\n",
            "/usr/local/lib/python3.6/dist-packages/matplotlib/backends/backend_agg.py:183: RuntimeWarning: Glyph 53685 missing from current font.\n",
            "  font.set_text(s, 0, flags=flags)\n",
            "/usr/local/lib/python3.6/dist-packages/matplotlib/backends/backend_agg.py:183: RuntimeWarning: Glyph 54616 missing from current font.\n",
            "  font.set_text(s, 0, flags=flags)\n",
            "/usr/local/lib/python3.6/dist-packages/matplotlib/backends/backend_agg.py:183: RuntimeWarning: Glyph 50689 missing from current font.\n",
            "  font.set_text(s, 0, flags=flags)\n",
            "/usr/local/lib/python3.6/dist-packages/matplotlib/backends/backend_agg.py:183: RuntimeWarning: Glyph 45716 missing from current font.\n",
            "  font.set_text(s, 0, flags=flags)\n",
            "/usr/local/lib/python3.6/dist-packages/matplotlib/backends/backend_agg.py:183: RuntimeWarning: Glyph 45800 missing from current font.\n",
            "  font.set_text(s, 0, flags=flags)\n",
            "/usr/local/lib/python3.6/dist-packages/matplotlib/backends/backend_agg.py:183: RuntimeWarning: Glyph 44032 missing from current font.\n",
            "  font.set_text(s, 0, flags=flags)\n",
            "/usr/local/lib/python3.6/dist-packages/matplotlib/backends/backend_agg.py:183: RuntimeWarning: Glyph 46307 missing from current font.\n",
            "  font.set_text(s, 0, flags=flags)\n",
            "/usr/local/lib/python3.6/dist-packages/matplotlib/backends/backend_agg.py:183: RuntimeWarning: Glyph 44592 missing from current font.\n",
            "  font.set_text(s, 0, flags=flags)\n",
            "/usr/local/lib/python3.6/dist-packages/matplotlib/backends/backend_agg.py:183: RuntimeWarning: Glyph 44397 missing from current font.\n",
            "  font.set_text(s, 0, flags=flags)\n",
            "/usr/local/lib/python3.6/dist-packages/matplotlib/backends/backend_agg.py:183: RuntimeWarning: Glyph 51648 missing from current font.\n",
            "  font.set_text(s, 0, flags=flags)\n",
            "/usr/local/lib/python3.6/dist-packages/matplotlib/backends/backend_agg.py:183: RuntimeWarning: Glyph 47928 missing from current font.\n",
            "  font.set_text(s, 0, flags=flags)\n",
            "/usr/local/lib/python3.6/dist-packages/matplotlib/backends/backend_agg.py:183: RuntimeWarning: Glyph 54620 missing from current font.\n",
            "  font.set_text(s, 0, flags=flags)\n"
          ],
          "name": "stderr"
        },
        {
          "output_type": "display_data",
          "data": {
            "image/png": "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\n",
            "text/plain": [
              "<Figure size 576x576 with 1 Axes>"
            ]
          },
          "metadata": {
            "tags": [],
            "needs_background": "light"
          }
        },
        {
          "output_type": "stream",
          "text": [
            "training >>> 1700\n"
          ],
          "name": "stdout"
        },
        {
          "output_type": "stream",
          "text": [
            "/usr/local/lib/python3.6/dist-packages/matplotlib/backends/backend_agg.py:214: RuntimeWarning: Glyph 49688 missing from current font.\n",
            "  font.set_text(s, 0.0, flags=flags)\n",
            "/usr/local/lib/python3.6/dist-packages/matplotlib/backends/backend_agg.py:214: RuntimeWarning: Glyph 54617 missing from current font.\n",
            "  font.set_text(s, 0.0, flags=flags)\n",
            "/usr/local/lib/python3.6/dist-packages/matplotlib/backends/backend_agg.py:214: RuntimeWarning: Glyph 51008 missing from current font.\n",
            "  font.set_text(s, 0.0, flags=flags)\n",
            "/usr/local/lib/python3.6/dist-packages/matplotlib/backends/backend_agg.py:214: RuntimeWarning: Glyph 49885 missing from current font.\n",
            "  font.set_text(s, 0.0, flags=flags)\n",
            "/usr/local/lib/python3.6/dist-packages/matplotlib/backends/backend_agg.py:214: RuntimeWarning: Glyph 51060 missing from current font.\n",
            "  font.set_text(s, 0.0, flags=flags)\n",
            "/usr/local/lib/python3.6/dist-packages/matplotlib/backends/backend_agg.py:214: RuntimeWarning: Glyph 48373 missing from current font.\n",
            "  font.set_text(s, 0.0, flags=flags)\n",
            "/usr/local/lib/python3.6/dist-packages/matplotlib/backends/backend_agg.py:214: RuntimeWarning: Glyph 51105 missing from current font.\n",
            "  font.set_text(s, 0.0, flags=flags)\n",
            "/usr/local/lib/python3.6/dist-packages/matplotlib/backends/backend_agg.py:214: RuntimeWarning: Glyph 54644 missing from current font.\n",
            "  font.set_text(s, 0.0, flags=flags)\n",
            "/usr/local/lib/python3.6/dist-packages/matplotlib/backends/backend_agg.py:214: RuntimeWarning: Glyph 49436 missing from current font.\n",
            "  font.set_text(s, 0.0, flags=flags)\n",
            "/usr/local/lib/python3.6/dist-packages/matplotlib/backends/backend_agg.py:214: RuntimeWarning: Glyph 50612 missing from current font.\n",
            "  font.set_text(s, 0.0, flags=flags)\n",
            "/usr/local/lib/python3.6/dist-packages/matplotlib/backends/backend_agg.py:214: RuntimeWarning: Glyph 47157 missing from current font.\n",
            "  font.set_text(s, 0.0, flags=flags)\n",
            "/usr/local/lib/python3.6/dist-packages/matplotlib/backends/backend_agg.py:214: RuntimeWarning: Glyph 45796 missing from current font.\n",
            "  font.set_text(s, 0.0, flags=flags)\n",
            "/usr/local/lib/python3.6/dist-packages/matplotlib/backends/backend_agg.py:214: RuntimeWarning: Glyph 44277 missing from current font.\n",
            "  font.set_text(s, 0.0, flags=flags)\n",
            "/usr/local/lib/python3.6/dist-packages/matplotlib/backends/backend_agg.py:214: RuntimeWarning: Glyph 47566 missing from current font.\n",
            "  font.set_text(s, 0.0, flags=flags)\n",
            "/usr/local/lib/python3.6/dist-packages/matplotlib/backends/backend_agg.py:214: RuntimeWarning: Glyph 50500 missing from current font.\n",
            "  font.set_text(s, 0.0, flags=flags)\n",
            "/usr/local/lib/python3.6/dist-packages/matplotlib/backends/backend_agg.py:214: RuntimeWarning: Glyph 46104 missing from current font.\n",
            "  font.set_text(s, 0.0, flags=flags)\n",
            "/usr/local/lib/python3.6/dist-packages/matplotlib/backends/backend_agg.py:214: RuntimeWarning: Glyph 47732 missing from current font.\n",
            "  font.set_text(s, 0.0, flags=flags)\n",
            "/usr/local/lib/python3.6/dist-packages/matplotlib/backends/backend_agg.py:214: RuntimeWarning: Glyph 49789 missing from current font.\n",
            "  font.set_text(s, 0.0, flags=flags)\n",
            "/usr/local/lib/python3.6/dist-packages/matplotlib/backends/backend_agg.py:214: RuntimeWarning: Glyph 45733 missing from current font.\n",
            "  font.set_text(s, 0.0, flags=flags)\n",
            "/usr/local/lib/python3.6/dist-packages/matplotlib/backends/backend_agg.py:214: RuntimeWarning: Glyph 53685 missing from current font.\n",
            "  font.set_text(s, 0.0, flags=flags)\n",
            "/usr/local/lib/python3.6/dist-packages/matplotlib/backends/backend_agg.py:214: RuntimeWarning: Glyph 54616 missing from current font.\n",
            "  font.set_text(s, 0.0, flags=flags)\n",
            "/usr/local/lib/python3.6/dist-packages/matplotlib/backends/backend_agg.py:214: RuntimeWarning: Glyph 50689 missing from current font.\n",
            "  font.set_text(s, 0.0, flags=flags)\n",
            "/usr/local/lib/python3.6/dist-packages/matplotlib/backends/backend_agg.py:214: RuntimeWarning: Glyph 45716 missing from current font.\n",
            "  font.set_text(s, 0.0, flags=flags)\n",
            "/usr/local/lib/python3.6/dist-packages/matplotlib/backends/backend_agg.py:214: RuntimeWarning: Glyph 45800 missing from current font.\n",
            "  font.set_text(s, 0.0, flags=flags)\n",
            "/usr/local/lib/python3.6/dist-packages/matplotlib/backends/backend_agg.py:214: RuntimeWarning: Glyph 44032 missing from current font.\n",
            "  font.set_text(s, 0.0, flags=flags)\n",
            "/usr/local/lib/python3.6/dist-packages/matplotlib/backends/backend_agg.py:214: RuntimeWarning: Glyph 46307 missing from current font.\n",
            "  font.set_text(s, 0.0, flags=flags)\n",
            "/usr/local/lib/python3.6/dist-packages/matplotlib/backends/backend_agg.py:214: RuntimeWarning: Glyph 44592 missing from current font.\n",
            "  font.set_text(s, 0.0, flags=flags)\n",
            "/usr/local/lib/python3.6/dist-packages/matplotlib/backends/backend_agg.py:214: RuntimeWarning: Glyph 44397 missing from current font.\n",
            "  font.set_text(s, 0.0, flags=flags)\n",
            "/usr/local/lib/python3.6/dist-packages/matplotlib/backends/backend_agg.py:214: RuntimeWarning: Glyph 51648 missing from current font.\n",
            "  font.set_text(s, 0.0, flags=flags)\n",
            "/usr/local/lib/python3.6/dist-packages/matplotlib/backends/backend_agg.py:214: RuntimeWarning: Glyph 47928 missing from current font.\n",
            "  font.set_text(s, 0.0, flags=flags)\n",
            "/usr/local/lib/python3.6/dist-packages/matplotlib/backends/backend_agg.py:214: RuntimeWarning: Glyph 54620 missing from current font.\n",
            "  font.set_text(s, 0.0, flags=flags)\n",
            "/usr/local/lib/python3.6/dist-packages/matplotlib/backends/backend_agg.py:183: RuntimeWarning: Glyph 49688 missing from current font.\n",
            "  font.set_text(s, 0, flags=flags)\n",
            "/usr/local/lib/python3.6/dist-packages/matplotlib/backends/backend_agg.py:183: RuntimeWarning: Glyph 54617 missing from current font.\n",
            "  font.set_text(s, 0, flags=flags)\n",
            "/usr/local/lib/python3.6/dist-packages/matplotlib/backends/backend_agg.py:183: RuntimeWarning: Glyph 51008 missing from current font.\n",
            "  font.set_text(s, 0, flags=flags)\n",
            "/usr/local/lib/python3.6/dist-packages/matplotlib/backends/backend_agg.py:183: RuntimeWarning: Glyph 49885 missing from current font.\n",
            "  font.set_text(s, 0, flags=flags)\n",
            "/usr/local/lib/python3.6/dist-packages/matplotlib/backends/backend_agg.py:183: RuntimeWarning: Glyph 51060 missing from current font.\n",
            "  font.set_text(s, 0, flags=flags)\n",
            "/usr/local/lib/python3.6/dist-packages/matplotlib/backends/backend_agg.py:183: RuntimeWarning: Glyph 48373 missing from current font.\n",
            "  font.set_text(s, 0, flags=flags)\n",
            "/usr/local/lib/python3.6/dist-packages/matplotlib/backends/backend_agg.py:183: RuntimeWarning: Glyph 51105 missing from current font.\n",
            "  font.set_text(s, 0, flags=flags)\n",
            "/usr/local/lib/python3.6/dist-packages/matplotlib/backends/backend_agg.py:183: RuntimeWarning: Glyph 54644 missing from current font.\n",
            "  font.set_text(s, 0, flags=flags)\n",
            "/usr/local/lib/python3.6/dist-packages/matplotlib/backends/backend_agg.py:183: RuntimeWarning: Glyph 49436 missing from current font.\n",
            "  font.set_text(s, 0, flags=flags)\n",
            "/usr/local/lib/python3.6/dist-packages/matplotlib/backends/backend_agg.py:183: RuntimeWarning: Glyph 50612 missing from current font.\n",
            "  font.set_text(s, 0, flags=flags)\n",
            "/usr/local/lib/python3.6/dist-packages/matplotlib/backends/backend_agg.py:183: RuntimeWarning: Glyph 47157 missing from current font.\n",
            "  font.set_text(s, 0, flags=flags)\n",
            "/usr/local/lib/python3.6/dist-packages/matplotlib/backends/backend_agg.py:183: RuntimeWarning: Glyph 45796 missing from current font.\n",
            "  font.set_text(s, 0, flags=flags)\n",
            "/usr/local/lib/python3.6/dist-packages/matplotlib/backends/backend_agg.py:183: RuntimeWarning: Glyph 44277 missing from current font.\n",
            "  font.set_text(s, 0, flags=flags)\n",
            "/usr/local/lib/python3.6/dist-packages/matplotlib/backends/backend_agg.py:183: RuntimeWarning: Glyph 47566 missing from current font.\n",
            "  font.set_text(s, 0, flags=flags)\n",
            "/usr/local/lib/python3.6/dist-packages/matplotlib/backends/backend_agg.py:183: RuntimeWarning: Glyph 50500 missing from current font.\n",
            "  font.set_text(s, 0, flags=flags)\n",
            "/usr/local/lib/python3.6/dist-packages/matplotlib/backends/backend_agg.py:183: RuntimeWarning: Glyph 46104 missing from current font.\n",
            "  font.set_text(s, 0, flags=flags)\n",
            "/usr/local/lib/python3.6/dist-packages/matplotlib/backends/backend_agg.py:183: RuntimeWarning: Glyph 47732 missing from current font.\n",
            "  font.set_text(s, 0, flags=flags)\n",
            "/usr/local/lib/python3.6/dist-packages/matplotlib/backends/backend_agg.py:183: RuntimeWarning: Glyph 49789 missing from current font.\n",
            "  font.set_text(s, 0, flags=flags)\n",
            "/usr/local/lib/python3.6/dist-packages/matplotlib/backends/backend_agg.py:183: RuntimeWarning: Glyph 45733 missing from current font.\n",
            "  font.set_text(s, 0, flags=flags)\n",
            "/usr/local/lib/python3.6/dist-packages/matplotlib/backends/backend_agg.py:183: RuntimeWarning: Glyph 53685 missing from current font.\n",
            "  font.set_text(s, 0, flags=flags)\n",
            "/usr/local/lib/python3.6/dist-packages/matplotlib/backends/backend_agg.py:183: RuntimeWarning: Glyph 54616 missing from current font.\n",
            "  font.set_text(s, 0, flags=flags)\n",
            "/usr/local/lib/python3.6/dist-packages/matplotlib/backends/backend_agg.py:183: RuntimeWarning: Glyph 50689 missing from current font.\n",
            "  font.set_text(s, 0, flags=flags)\n",
            "/usr/local/lib/python3.6/dist-packages/matplotlib/backends/backend_agg.py:183: RuntimeWarning: Glyph 45716 missing from current font.\n",
            "  font.set_text(s, 0, flags=flags)\n",
            "/usr/local/lib/python3.6/dist-packages/matplotlib/backends/backend_agg.py:183: RuntimeWarning: Glyph 45800 missing from current font.\n",
            "  font.set_text(s, 0, flags=flags)\n",
            "/usr/local/lib/python3.6/dist-packages/matplotlib/backends/backend_agg.py:183: RuntimeWarning: Glyph 44032 missing from current font.\n",
            "  font.set_text(s, 0, flags=flags)\n",
            "/usr/local/lib/python3.6/dist-packages/matplotlib/backends/backend_agg.py:183: RuntimeWarning: Glyph 46307 missing from current font.\n",
            "  font.set_text(s, 0, flags=flags)\n",
            "/usr/local/lib/python3.6/dist-packages/matplotlib/backends/backend_agg.py:183: RuntimeWarning: Glyph 44592 missing from current font.\n",
            "  font.set_text(s, 0, flags=flags)\n",
            "/usr/local/lib/python3.6/dist-packages/matplotlib/backends/backend_agg.py:183: RuntimeWarning: Glyph 44397 missing from current font.\n",
            "  font.set_text(s, 0, flags=flags)\n",
            "/usr/local/lib/python3.6/dist-packages/matplotlib/backends/backend_agg.py:183: RuntimeWarning: Glyph 51648 missing from current font.\n",
            "  font.set_text(s, 0, flags=flags)\n",
            "/usr/local/lib/python3.6/dist-packages/matplotlib/backends/backend_agg.py:183: RuntimeWarning: Glyph 47928 missing from current font.\n",
            "  font.set_text(s, 0, flags=flags)\n",
            "/usr/local/lib/python3.6/dist-packages/matplotlib/backends/backend_agg.py:183: RuntimeWarning: Glyph 54620 missing from current font.\n",
            "  font.set_text(s, 0, flags=flags)\n"
          ],
          "name": "stderr"
        },
        {
          "output_type": "display_data",
          "data": {
            "image/png": "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\n",
            "text/plain": [
              "<Figure size 576x576 with 1 Axes>"
            ]
          },
          "metadata": {
            "tags": [],
            "needs_background": "light"
          }
        },
        {
          "output_type": "stream",
          "text": [
            "training >>> 1800\n"
          ],
          "name": "stdout"
        },
        {
          "output_type": "stream",
          "text": [
            "/usr/local/lib/python3.6/dist-packages/matplotlib/backends/backend_agg.py:214: RuntimeWarning: Glyph 49688 missing from current font.\n",
            "  font.set_text(s, 0.0, flags=flags)\n",
            "/usr/local/lib/python3.6/dist-packages/matplotlib/backends/backend_agg.py:214: RuntimeWarning: Glyph 54617 missing from current font.\n",
            "  font.set_text(s, 0.0, flags=flags)\n",
            "/usr/local/lib/python3.6/dist-packages/matplotlib/backends/backend_agg.py:214: RuntimeWarning: Glyph 51008 missing from current font.\n",
            "  font.set_text(s, 0.0, flags=flags)\n",
            "/usr/local/lib/python3.6/dist-packages/matplotlib/backends/backend_agg.py:214: RuntimeWarning: Glyph 49885 missing from current font.\n",
            "  font.set_text(s, 0.0, flags=flags)\n",
            "/usr/local/lib/python3.6/dist-packages/matplotlib/backends/backend_agg.py:214: RuntimeWarning: Glyph 51060 missing from current font.\n",
            "  font.set_text(s, 0.0, flags=flags)\n",
            "/usr/local/lib/python3.6/dist-packages/matplotlib/backends/backend_agg.py:214: RuntimeWarning: Glyph 48373 missing from current font.\n",
            "  font.set_text(s, 0.0, flags=flags)\n",
            "/usr/local/lib/python3.6/dist-packages/matplotlib/backends/backend_agg.py:214: RuntimeWarning: Glyph 51105 missing from current font.\n",
            "  font.set_text(s, 0.0, flags=flags)\n",
            "/usr/local/lib/python3.6/dist-packages/matplotlib/backends/backend_agg.py:214: RuntimeWarning: Glyph 54644 missing from current font.\n",
            "  font.set_text(s, 0.0, flags=flags)\n",
            "/usr/local/lib/python3.6/dist-packages/matplotlib/backends/backend_agg.py:214: RuntimeWarning: Glyph 49436 missing from current font.\n",
            "  font.set_text(s, 0.0, flags=flags)\n",
            "/usr/local/lib/python3.6/dist-packages/matplotlib/backends/backend_agg.py:214: RuntimeWarning: Glyph 50612 missing from current font.\n",
            "  font.set_text(s, 0.0, flags=flags)\n",
            "/usr/local/lib/python3.6/dist-packages/matplotlib/backends/backend_agg.py:214: RuntimeWarning: Glyph 47157 missing from current font.\n",
            "  font.set_text(s, 0.0, flags=flags)\n",
            "/usr/local/lib/python3.6/dist-packages/matplotlib/backends/backend_agg.py:214: RuntimeWarning: Glyph 45796 missing from current font.\n",
            "  font.set_text(s, 0.0, flags=flags)\n",
            "/usr/local/lib/python3.6/dist-packages/matplotlib/backends/backend_agg.py:214: RuntimeWarning: Glyph 44277 missing from current font.\n",
            "  font.set_text(s, 0.0, flags=flags)\n",
            "/usr/local/lib/python3.6/dist-packages/matplotlib/backends/backend_agg.py:214: RuntimeWarning: Glyph 47566 missing from current font.\n",
            "  font.set_text(s, 0.0, flags=flags)\n",
            "/usr/local/lib/python3.6/dist-packages/matplotlib/backends/backend_agg.py:214: RuntimeWarning: Glyph 50500 missing from current font.\n",
            "  font.set_text(s, 0.0, flags=flags)\n",
            "/usr/local/lib/python3.6/dist-packages/matplotlib/backends/backend_agg.py:214: RuntimeWarning: Glyph 46104 missing from current font.\n",
            "  font.set_text(s, 0.0, flags=flags)\n",
            "/usr/local/lib/python3.6/dist-packages/matplotlib/backends/backend_agg.py:214: RuntimeWarning: Glyph 47732 missing from current font.\n",
            "  font.set_text(s, 0.0, flags=flags)\n",
            "/usr/local/lib/python3.6/dist-packages/matplotlib/backends/backend_agg.py:214: RuntimeWarning: Glyph 49789 missing from current font.\n",
            "  font.set_text(s, 0.0, flags=flags)\n",
            "/usr/local/lib/python3.6/dist-packages/matplotlib/backends/backend_agg.py:214: RuntimeWarning: Glyph 45733 missing from current font.\n",
            "  font.set_text(s, 0.0, flags=flags)\n",
            "/usr/local/lib/python3.6/dist-packages/matplotlib/backends/backend_agg.py:214: RuntimeWarning: Glyph 53685 missing from current font.\n",
            "  font.set_text(s, 0.0, flags=flags)\n",
            "/usr/local/lib/python3.6/dist-packages/matplotlib/backends/backend_agg.py:214: RuntimeWarning: Glyph 54616 missing from current font.\n",
            "  font.set_text(s, 0.0, flags=flags)\n",
            "/usr/local/lib/python3.6/dist-packages/matplotlib/backends/backend_agg.py:214: RuntimeWarning: Glyph 50689 missing from current font.\n",
            "  font.set_text(s, 0.0, flags=flags)\n",
            "/usr/local/lib/python3.6/dist-packages/matplotlib/backends/backend_agg.py:214: RuntimeWarning: Glyph 45716 missing from current font.\n",
            "  font.set_text(s, 0.0, flags=flags)\n",
            "/usr/local/lib/python3.6/dist-packages/matplotlib/backends/backend_agg.py:214: RuntimeWarning: Glyph 45800 missing from current font.\n",
            "  font.set_text(s, 0.0, flags=flags)\n",
            "/usr/local/lib/python3.6/dist-packages/matplotlib/backends/backend_agg.py:214: RuntimeWarning: Glyph 44032 missing from current font.\n",
            "  font.set_text(s, 0.0, flags=flags)\n",
            "/usr/local/lib/python3.6/dist-packages/matplotlib/backends/backend_agg.py:214: RuntimeWarning: Glyph 46307 missing from current font.\n",
            "  font.set_text(s, 0.0, flags=flags)\n",
            "/usr/local/lib/python3.6/dist-packages/matplotlib/backends/backend_agg.py:214: RuntimeWarning: Glyph 44592 missing from current font.\n",
            "  font.set_text(s, 0.0, flags=flags)\n",
            "/usr/local/lib/python3.6/dist-packages/matplotlib/backends/backend_agg.py:214: RuntimeWarning: Glyph 44397 missing from current font.\n",
            "  font.set_text(s, 0.0, flags=flags)\n",
            "/usr/local/lib/python3.6/dist-packages/matplotlib/backends/backend_agg.py:214: RuntimeWarning: Glyph 51648 missing from current font.\n",
            "  font.set_text(s, 0.0, flags=flags)\n",
            "/usr/local/lib/python3.6/dist-packages/matplotlib/backends/backend_agg.py:214: RuntimeWarning: Glyph 47928 missing from current font.\n",
            "  font.set_text(s, 0.0, flags=flags)\n",
            "/usr/local/lib/python3.6/dist-packages/matplotlib/backends/backend_agg.py:214: RuntimeWarning: Glyph 54620 missing from current font.\n",
            "  font.set_text(s, 0.0, flags=flags)\n",
            "/usr/local/lib/python3.6/dist-packages/matplotlib/backends/backend_agg.py:183: RuntimeWarning: Glyph 49688 missing from current font.\n",
            "  font.set_text(s, 0, flags=flags)\n",
            "/usr/local/lib/python3.6/dist-packages/matplotlib/backends/backend_agg.py:183: RuntimeWarning: Glyph 54617 missing from current font.\n",
            "  font.set_text(s, 0, flags=flags)\n",
            "/usr/local/lib/python3.6/dist-packages/matplotlib/backends/backend_agg.py:183: RuntimeWarning: Glyph 51008 missing from current font.\n",
            "  font.set_text(s, 0, flags=flags)\n",
            "/usr/local/lib/python3.6/dist-packages/matplotlib/backends/backend_agg.py:183: RuntimeWarning: Glyph 49885 missing from current font.\n",
            "  font.set_text(s, 0, flags=flags)\n",
            "/usr/local/lib/python3.6/dist-packages/matplotlib/backends/backend_agg.py:183: RuntimeWarning: Glyph 51060 missing from current font.\n",
            "  font.set_text(s, 0, flags=flags)\n",
            "/usr/local/lib/python3.6/dist-packages/matplotlib/backends/backend_agg.py:183: RuntimeWarning: Glyph 48373 missing from current font.\n",
            "  font.set_text(s, 0, flags=flags)\n",
            "/usr/local/lib/python3.6/dist-packages/matplotlib/backends/backend_agg.py:183: RuntimeWarning: Glyph 51105 missing from current font.\n",
            "  font.set_text(s, 0, flags=flags)\n",
            "/usr/local/lib/python3.6/dist-packages/matplotlib/backends/backend_agg.py:183: RuntimeWarning: Glyph 54644 missing from current font.\n",
            "  font.set_text(s, 0, flags=flags)\n",
            "/usr/local/lib/python3.6/dist-packages/matplotlib/backends/backend_agg.py:183: RuntimeWarning: Glyph 49436 missing from current font.\n",
            "  font.set_text(s, 0, flags=flags)\n",
            "/usr/local/lib/python3.6/dist-packages/matplotlib/backends/backend_agg.py:183: RuntimeWarning: Glyph 50612 missing from current font.\n",
            "  font.set_text(s, 0, flags=flags)\n",
            "/usr/local/lib/python3.6/dist-packages/matplotlib/backends/backend_agg.py:183: RuntimeWarning: Glyph 47157 missing from current font.\n",
            "  font.set_text(s, 0, flags=flags)\n",
            "/usr/local/lib/python3.6/dist-packages/matplotlib/backends/backend_agg.py:183: RuntimeWarning: Glyph 45796 missing from current font.\n",
            "  font.set_text(s, 0, flags=flags)\n",
            "/usr/local/lib/python3.6/dist-packages/matplotlib/backends/backend_agg.py:183: RuntimeWarning: Glyph 44277 missing from current font.\n",
            "  font.set_text(s, 0, flags=flags)\n",
            "/usr/local/lib/python3.6/dist-packages/matplotlib/backends/backend_agg.py:183: RuntimeWarning: Glyph 47566 missing from current font.\n",
            "  font.set_text(s, 0, flags=flags)\n",
            "/usr/local/lib/python3.6/dist-packages/matplotlib/backends/backend_agg.py:183: RuntimeWarning: Glyph 50500 missing from current font.\n",
            "  font.set_text(s, 0, flags=flags)\n",
            "/usr/local/lib/python3.6/dist-packages/matplotlib/backends/backend_agg.py:183: RuntimeWarning: Glyph 46104 missing from current font.\n",
            "  font.set_text(s, 0, flags=flags)\n",
            "/usr/local/lib/python3.6/dist-packages/matplotlib/backends/backend_agg.py:183: RuntimeWarning: Glyph 47732 missing from current font.\n",
            "  font.set_text(s, 0, flags=flags)\n",
            "/usr/local/lib/python3.6/dist-packages/matplotlib/backends/backend_agg.py:183: RuntimeWarning: Glyph 49789 missing from current font.\n",
            "  font.set_text(s, 0, flags=flags)\n",
            "/usr/local/lib/python3.6/dist-packages/matplotlib/backends/backend_agg.py:183: RuntimeWarning: Glyph 45733 missing from current font.\n",
            "  font.set_text(s, 0, flags=flags)\n",
            "/usr/local/lib/python3.6/dist-packages/matplotlib/backends/backend_agg.py:183: RuntimeWarning: Glyph 53685 missing from current font.\n",
            "  font.set_text(s, 0, flags=flags)\n",
            "/usr/local/lib/python3.6/dist-packages/matplotlib/backends/backend_agg.py:183: RuntimeWarning: Glyph 54616 missing from current font.\n",
            "  font.set_text(s, 0, flags=flags)\n",
            "/usr/local/lib/python3.6/dist-packages/matplotlib/backends/backend_agg.py:183: RuntimeWarning: Glyph 50689 missing from current font.\n",
            "  font.set_text(s, 0, flags=flags)\n",
            "/usr/local/lib/python3.6/dist-packages/matplotlib/backends/backend_agg.py:183: RuntimeWarning: Glyph 45716 missing from current font.\n",
            "  font.set_text(s, 0, flags=flags)\n",
            "/usr/local/lib/python3.6/dist-packages/matplotlib/backends/backend_agg.py:183: RuntimeWarning: Glyph 45800 missing from current font.\n",
            "  font.set_text(s, 0, flags=flags)\n",
            "/usr/local/lib/python3.6/dist-packages/matplotlib/backends/backend_agg.py:183: RuntimeWarning: Glyph 44032 missing from current font.\n",
            "  font.set_text(s, 0, flags=flags)\n",
            "/usr/local/lib/python3.6/dist-packages/matplotlib/backends/backend_agg.py:183: RuntimeWarning: Glyph 46307 missing from current font.\n",
            "  font.set_text(s, 0, flags=flags)\n",
            "/usr/local/lib/python3.6/dist-packages/matplotlib/backends/backend_agg.py:183: RuntimeWarning: Glyph 44592 missing from current font.\n",
            "  font.set_text(s, 0, flags=flags)\n",
            "/usr/local/lib/python3.6/dist-packages/matplotlib/backends/backend_agg.py:183: RuntimeWarning: Glyph 44397 missing from current font.\n",
            "  font.set_text(s, 0, flags=flags)\n",
            "/usr/local/lib/python3.6/dist-packages/matplotlib/backends/backend_agg.py:183: RuntimeWarning: Glyph 51648 missing from current font.\n",
            "  font.set_text(s, 0, flags=flags)\n",
            "/usr/local/lib/python3.6/dist-packages/matplotlib/backends/backend_agg.py:183: RuntimeWarning: Glyph 47928 missing from current font.\n",
            "  font.set_text(s, 0, flags=flags)\n",
            "/usr/local/lib/python3.6/dist-packages/matplotlib/backends/backend_agg.py:183: RuntimeWarning: Glyph 54620 missing from current font.\n",
            "  font.set_text(s, 0, flags=flags)\n"
          ],
          "name": "stderr"
        },
        {
          "output_type": "display_data",
          "data": {
            "image/png": "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\n",
            "text/plain": [
              "<Figure size 576x576 with 1 Axes>"
            ]
          },
          "metadata": {
            "tags": [],
            "needs_background": "light"
          }
        },
        {
          "output_type": "stream",
          "text": [
            "training >>> 1900\n"
          ],
          "name": "stdout"
        },
        {
          "output_type": "stream",
          "text": [
            "/usr/local/lib/python3.6/dist-packages/matplotlib/backends/backend_agg.py:214: RuntimeWarning: Glyph 49688 missing from current font.\n",
            "  font.set_text(s, 0.0, flags=flags)\n",
            "/usr/local/lib/python3.6/dist-packages/matplotlib/backends/backend_agg.py:214: RuntimeWarning: Glyph 54617 missing from current font.\n",
            "  font.set_text(s, 0.0, flags=flags)\n",
            "/usr/local/lib/python3.6/dist-packages/matplotlib/backends/backend_agg.py:214: RuntimeWarning: Glyph 51008 missing from current font.\n",
            "  font.set_text(s, 0.0, flags=flags)\n",
            "/usr/local/lib/python3.6/dist-packages/matplotlib/backends/backend_agg.py:214: RuntimeWarning: Glyph 49885 missing from current font.\n",
            "  font.set_text(s, 0.0, flags=flags)\n",
            "/usr/local/lib/python3.6/dist-packages/matplotlib/backends/backend_agg.py:214: RuntimeWarning: Glyph 51060 missing from current font.\n",
            "  font.set_text(s, 0.0, flags=flags)\n",
            "/usr/local/lib/python3.6/dist-packages/matplotlib/backends/backend_agg.py:214: RuntimeWarning: Glyph 48373 missing from current font.\n",
            "  font.set_text(s, 0.0, flags=flags)\n",
            "/usr/local/lib/python3.6/dist-packages/matplotlib/backends/backend_agg.py:214: RuntimeWarning: Glyph 51105 missing from current font.\n",
            "  font.set_text(s, 0.0, flags=flags)\n",
            "/usr/local/lib/python3.6/dist-packages/matplotlib/backends/backend_agg.py:214: RuntimeWarning: Glyph 54644 missing from current font.\n",
            "  font.set_text(s, 0.0, flags=flags)\n",
            "/usr/local/lib/python3.6/dist-packages/matplotlib/backends/backend_agg.py:214: RuntimeWarning: Glyph 49436 missing from current font.\n",
            "  font.set_text(s, 0.0, flags=flags)\n",
            "/usr/local/lib/python3.6/dist-packages/matplotlib/backends/backend_agg.py:214: RuntimeWarning: Glyph 50612 missing from current font.\n",
            "  font.set_text(s, 0.0, flags=flags)\n",
            "/usr/local/lib/python3.6/dist-packages/matplotlib/backends/backend_agg.py:214: RuntimeWarning: Glyph 47157 missing from current font.\n",
            "  font.set_text(s, 0.0, flags=flags)\n",
            "/usr/local/lib/python3.6/dist-packages/matplotlib/backends/backend_agg.py:214: RuntimeWarning: Glyph 45796 missing from current font.\n",
            "  font.set_text(s, 0.0, flags=flags)\n",
            "/usr/local/lib/python3.6/dist-packages/matplotlib/backends/backend_agg.py:214: RuntimeWarning: Glyph 44277 missing from current font.\n",
            "  font.set_text(s, 0.0, flags=flags)\n",
            "/usr/local/lib/python3.6/dist-packages/matplotlib/backends/backend_agg.py:214: RuntimeWarning: Glyph 47566 missing from current font.\n",
            "  font.set_text(s, 0.0, flags=flags)\n",
            "/usr/local/lib/python3.6/dist-packages/matplotlib/backends/backend_agg.py:214: RuntimeWarning: Glyph 50500 missing from current font.\n",
            "  font.set_text(s, 0.0, flags=flags)\n",
            "/usr/local/lib/python3.6/dist-packages/matplotlib/backends/backend_agg.py:214: RuntimeWarning: Glyph 46104 missing from current font.\n",
            "  font.set_text(s, 0.0, flags=flags)\n",
            "/usr/local/lib/python3.6/dist-packages/matplotlib/backends/backend_agg.py:214: RuntimeWarning: Glyph 47732 missing from current font.\n",
            "  font.set_text(s, 0.0, flags=flags)\n",
            "/usr/local/lib/python3.6/dist-packages/matplotlib/backends/backend_agg.py:214: RuntimeWarning: Glyph 49789 missing from current font.\n",
            "  font.set_text(s, 0.0, flags=flags)\n",
            "/usr/local/lib/python3.6/dist-packages/matplotlib/backends/backend_agg.py:214: RuntimeWarning: Glyph 45733 missing from current font.\n",
            "  font.set_text(s, 0.0, flags=flags)\n",
            "/usr/local/lib/python3.6/dist-packages/matplotlib/backends/backend_agg.py:214: RuntimeWarning: Glyph 53685 missing from current font.\n",
            "  font.set_text(s, 0.0, flags=flags)\n",
            "/usr/local/lib/python3.6/dist-packages/matplotlib/backends/backend_agg.py:214: RuntimeWarning: Glyph 54616 missing from current font.\n",
            "  font.set_text(s, 0.0, flags=flags)\n",
            "/usr/local/lib/python3.6/dist-packages/matplotlib/backends/backend_agg.py:214: RuntimeWarning: Glyph 50689 missing from current font.\n",
            "  font.set_text(s, 0.0, flags=flags)\n",
            "/usr/local/lib/python3.6/dist-packages/matplotlib/backends/backend_agg.py:214: RuntimeWarning: Glyph 45716 missing from current font.\n",
            "  font.set_text(s, 0.0, flags=flags)\n",
            "/usr/local/lib/python3.6/dist-packages/matplotlib/backends/backend_agg.py:214: RuntimeWarning: Glyph 45800 missing from current font.\n",
            "  font.set_text(s, 0.0, flags=flags)\n",
            "/usr/local/lib/python3.6/dist-packages/matplotlib/backends/backend_agg.py:214: RuntimeWarning: Glyph 44032 missing from current font.\n",
            "  font.set_text(s, 0.0, flags=flags)\n",
            "/usr/local/lib/python3.6/dist-packages/matplotlib/backends/backend_agg.py:214: RuntimeWarning: Glyph 46307 missing from current font.\n",
            "  font.set_text(s, 0.0, flags=flags)\n",
            "/usr/local/lib/python3.6/dist-packages/matplotlib/backends/backend_agg.py:214: RuntimeWarning: Glyph 44592 missing from current font.\n",
            "  font.set_text(s, 0.0, flags=flags)\n",
            "/usr/local/lib/python3.6/dist-packages/matplotlib/backends/backend_agg.py:214: RuntimeWarning: Glyph 44397 missing from current font.\n",
            "  font.set_text(s, 0.0, flags=flags)\n",
            "/usr/local/lib/python3.6/dist-packages/matplotlib/backends/backend_agg.py:214: RuntimeWarning: Glyph 51648 missing from current font.\n",
            "  font.set_text(s, 0.0, flags=flags)\n",
            "/usr/local/lib/python3.6/dist-packages/matplotlib/backends/backend_agg.py:214: RuntimeWarning: Glyph 47928 missing from current font.\n",
            "  font.set_text(s, 0.0, flags=flags)\n",
            "/usr/local/lib/python3.6/dist-packages/matplotlib/backends/backend_agg.py:214: RuntimeWarning: Glyph 54620 missing from current font.\n",
            "  font.set_text(s, 0.0, flags=flags)\n",
            "/usr/local/lib/python3.6/dist-packages/matplotlib/backends/backend_agg.py:183: RuntimeWarning: Glyph 49688 missing from current font.\n",
            "  font.set_text(s, 0, flags=flags)\n",
            "/usr/local/lib/python3.6/dist-packages/matplotlib/backends/backend_agg.py:183: RuntimeWarning: Glyph 54617 missing from current font.\n",
            "  font.set_text(s, 0, flags=flags)\n",
            "/usr/local/lib/python3.6/dist-packages/matplotlib/backends/backend_agg.py:183: RuntimeWarning: Glyph 51008 missing from current font.\n",
            "  font.set_text(s, 0, flags=flags)\n",
            "/usr/local/lib/python3.6/dist-packages/matplotlib/backends/backend_agg.py:183: RuntimeWarning: Glyph 49885 missing from current font.\n",
            "  font.set_text(s, 0, flags=flags)\n",
            "/usr/local/lib/python3.6/dist-packages/matplotlib/backends/backend_agg.py:183: RuntimeWarning: Glyph 51060 missing from current font.\n",
            "  font.set_text(s, 0, flags=flags)\n",
            "/usr/local/lib/python3.6/dist-packages/matplotlib/backends/backend_agg.py:183: RuntimeWarning: Glyph 48373 missing from current font.\n",
            "  font.set_text(s, 0, flags=flags)\n",
            "/usr/local/lib/python3.6/dist-packages/matplotlib/backends/backend_agg.py:183: RuntimeWarning: Glyph 51105 missing from current font.\n",
            "  font.set_text(s, 0, flags=flags)\n",
            "/usr/local/lib/python3.6/dist-packages/matplotlib/backends/backend_agg.py:183: RuntimeWarning: Glyph 54644 missing from current font.\n",
            "  font.set_text(s, 0, flags=flags)\n",
            "/usr/local/lib/python3.6/dist-packages/matplotlib/backends/backend_agg.py:183: RuntimeWarning: Glyph 49436 missing from current font.\n",
            "  font.set_text(s, 0, flags=flags)\n",
            "/usr/local/lib/python3.6/dist-packages/matplotlib/backends/backend_agg.py:183: RuntimeWarning: Glyph 50612 missing from current font.\n",
            "  font.set_text(s, 0, flags=flags)\n",
            "/usr/local/lib/python3.6/dist-packages/matplotlib/backends/backend_agg.py:183: RuntimeWarning: Glyph 47157 missing from current font.\n",
            "  font.set_text(s, 0, flags=flags)\n",
            "/usr/local/lib/python3.6/dist-packages/matplotlib/backends/backend_agg.py:183: RuntimeWarning: Glyph 45796 missing from current font.\n",
            "  font.set_text(s, 0, flags=flags)\n",
            "/usr/local/lib/python3.6/dist-packages/matplotlib/backends/backend_agg.py:183: RuntimeWarning: Glyph 44277 missing from current font.\n",
            "  font.set_text(s, 0, flags=flags)\n",
            "/usr/local/lib/python3.6/dist-packages/matplotlib/backends/backend_agg.py:183: RuntimeWarning: Glyph 47566 missing from current font.\n",
            "  font.set_text(s, 0, flags=flags)\n",
            "/usr/local/lib/python3.6/dist-packages/matplotlib/backends/backend_agg.py:183: RuntimeWarning: Glyph 50500 missing from current font.\n",
            "  font.set_text(s, 0, flags=flags)\n",
            "/usr/local/lib/python3.6/dist-packages/matplotlib/backends/backend_agg.py:183: RuntimeWarning: Glyph 46104 missing from current font.\n",
            "  font.set_text(s, 0, flags=flags)\n",
            "/usr/local/lib/python3.6/dist-packages/matplotlib/backends/backend_agg.py:183: RuntimeWarning: Glyph 47732 missing from current font.\n",
            "  font.set_text(s, 0, flags=flags)\n",
            "/usr/local/lib/python3.6/dist-packages/matplotlib/backends/backend_agg.py:183: RuntimeWarning: Glyph 49789 missing from current font.\n",
            "  font.set_text(s, 0, flags=flags)\n",
            "/usr/local/lib/python3.6/dist-packages/matplotlib/backends/backend_agg.py:183: RuntimeWarning: Glyph 45733 missing from current font.\n",
            "  font.set_text(s, 0, flags=flags)\n",
            "/usr/local/lib/python3.6/dist-packages/matplotlib/backends/backend_agg.py:183: RuntimeWarning: Glyph 53685 missing from current font.\n",
            "  font.set_text(s, 0, flags=flags)\n",
            "/usr/local/lib/python3.6/dist-packages/matplotlib/backends/backend_agg.py:183: RuntimeWarning: Glyph 54616 missing from current font.\n",
            "  font.set_text(s, 0, flags=flags)\n",
            "/usr/local/lib/python3.6/dist-packages/matplotlib/backends/backend_agg.py:183: RuntimeWarning: Glyph 50689 missing from current font.\n",
            "  font.set_text(s, 0, flags=flags)\n",
            "/usr/local/lib/python3.6/dist-packages/matplotlib/backends/backend_agg.py:183: RuntimeWarning: Glyph 45716 missing from current font.\n",
            "  font.set_text(s, 0, flags=flags)\n",
            "/usr/local/lib/python3.6/dist-packages/matplotlib/backends/backend_agg.py:183: RuntimeWarning: Glyph 45800 missing from current font.\n",
            "  font.set_text(s, 0, flags=flags)\n",
            "/usr/local/lib/python3.6/dist-packages/matplotlib/backends/backend_agg.py:183: RuntimeWarning: Glyph 44032 missing from current font.\n",
            "  font.set_text(s, 0, flags=flags)\n",
            "/usr/local/lib/python3.6/dist-packages/matplotlib/backends/backend_agg.py:183: RuntimeWarning: Glyph 46307 missing from current font.\n",
            "  font.set_text(s, 0, flags=flags)\n",
            "/usr/local/lib/python3.6/dist-packages/matplotlib/backends/backend_agg.py:183: RuntimeWarning: Glyph 44592 missing from current font.\n",
            "  font.set_text(s, 0, flags=flags)\n",
            "/usr/local/lib/python3.6/dist-packages/matplotlib/backends/backend_agg.py:183: RuntimeWarning: Glyph 44397 missing from current font.\n",
            "  font.set_text(s, 0, flags=flags)\n",
            "/usr/local/lib/python3.6/dist-packages/matplotlib/backends/backend_agg.py:183: RuntimeWarning: Glyph 51648 missing from current font.\n",
            "  font.set_text(s, 0, flags=flags)\n",
            "/usr/local/lib/python3.6/dist-packages/matplotlib/backends/backend_agg.py:183: RuntimeWarning: Glyph 47928 missing from current font.\n",
            "  font.set_text(s, 0, flags=flags)\n",
            "/usr/local/lib/python3.6/dist-packages/matplotlib/backends/backend_agg.py:183: RuntimeWarning: Glyph 54620 missing from current font.\n",
            "  font.set_text(s, 0, flags=flags)\n"
          ],
          "name": "stderr"
        },
        {
          "output_type": "display_data",
          "data": {
            "image/png": "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\n",
            "text/plain": [
              "<Figure size 576x576 with 1 Axes>"
            ]
          },
          "metadata": {
            "tags": [],
            "needs_background": "light"
          }
        },
        {
          "output_type": "stream",
          "text": [
            "training >>> 2000\n"
          ],
          "name": "stdout"
        },
        {
          "output_type": "stream",
          "text": [
            "/usr/local/lib/python3.6/dist-packages/matplotlib/backends/backend_agg.py:214: RuntimeWarning: Glyph 49688 missing from current font.\n",
            "  font.set_text(s, 0.0, flags=flags)\n",
            "/usr/local/lib/python3.6/dist-packages/matplotlib/backends/backend_agg.py:214: RuntimeWarning: Glyph 54617 missing from current font.\n",
            "  font.set_text(s, 0.0, flags=flags)\n",
            "/usr/local/lib/python3.6/dist-packages/matplotlib/backends/backend_agg.py:214: RuntimeWarning: Glyph 51008 missing from current font.\n",
            "  font.set_text(s, 0.0, flags=flags)\n",
            "/usr/local/lib/python3.6/dist-packages/matplotlib/backends/backend_agg.py:214: RuntimeWarning: Glyph 49885 missing from current font.\n",
            "  font.set_text(s, 0.0, flags=flags)\n",
            "/usr/local/lib/python3.6/dist-packages/matplotlib/backends/backend_agg.py:214: RuntimeWarning: Glyph 51060 missing from current font.\n",
            "  font.set_text(s, 0.0, flags=flags)\n",
            "/usr/local/lib/python3.6/dist-packages/matplotlib/backends/backend_agg.py:214: RuntimeWarning: Glyph 48373 missing from current font.\n",
            "  font.set_text(s, 0.0, flags=flags)\n",
            "/usr/local/lib/python3.6/dist-packages/matplotlib/backends/backend_agg.py:214: RuntimeWarning: Glyph 51105 missing from current font.\n",
            "  font.set_text(s, 0.0, flags=flags)\n",
            "/usr/local/lib/python3.6/dist-packages/matplotlib/backends/backend_agg.py:214: RuntimeWarning: Glyph 54644 missing from current font.\n",
            "  font.set_text(s, 0.0, flags=flags)\n",
            "/usr/local/lib/python3.6/dist-packages/matplotlib/backends/backend_agg.py:214: RuntimeWarning: Glyph 49436 missing from current font.\n",
            "  font.set_text(s, 0.0, flags=flags)\n",
            "/usr/local/lib/python3.6/dist-packages/matplotlib/backends/backend_agg.py:214: RuntimeWarning: Glyph 50612 missing from current font.\n",
            "  font.set_text(s, 0.0, flags=flags)\n",
            "/usr/local/lib/python3.6/dist-packages/matplotlib/backends/backend_agg.py:214: RuntimeWarning: Glyph 47157 missing from current font.\n",
            "  font.set_text(s, 0.0, flags=flags)\n",
            "/usr/local/lib/python3.6/dist-packages/matplotlib/backends/backend_agg.py:214: RuntimeWarning: Glyph 45796 missing from current font.\n",
            "  font.set_text(s, 0.0, flags=flags)\n",
            "/usr/local/lib/python3.6/dist-packages/matplotlib/backends/backend_agg.py:214: RuntimeWarning: Glyph 44277 missing from current font.\n",
            "  font.set_text(s, 0.0, flags=flags)\n",
            "/usr/local/lib/python3.6/dist-packages/matplotlib/backends/backend_agg.py:214: RuntimeWarning: Glyph 47566 missing from current font.\n",
            "  font.set_text(s, 0.0, flags=flags)\n",
            "/usr/local/lib/python3.6/dist-packages/matplotlib/backends/backend_agg.py:214: RuntimeWarning: Glyph 50500 missing from current font.\n",
            "  font.set_text(s, 0.0, flags=flags)\n",
            "/usr/local/lib/python3.6/dist-packages/matplotlib/backends/backend_agg.py:214: RuntimeWarning: Glyph 46104 missing from current font.\n",
            "  font.set_text(s, 0.0, flags=flags)\n",
            "/usr/local/lib/python3.6/dist-packages/matplotlib/backends/backend_agg.py:214: RuntimeWarning: Glyph 47732 missing from current font.\n",
            "  font.set_text(s, 0.0, flags=flags)\n",
            "/usr/local/lib/python3.6/dist-packages/matplotlib/backends/backend_agg.py:214: RuntimeWarning: Glyph 49789 missing from current font.\n",
            "  font.set_text(s, 0.0, flags=flags)\n",
            "/usr/local/lib/python3.6/dist-packages/matplotlib/backends/backend_agg.py:214: RuntimeWarning: Glyph 45733 missing from current font.\n",
            "  font.set_text(s, 0.0, flags=flags)\n",
            "/usr/local/lib/python3.6/dist-packages/matplotlib/backends/backend_agg.py:214: RuntimeWarning: Glyph 53685 missing from current font.\n",
            "  font.set_text(s, 0.0, flags=flags)\n",
            "/usr/local/lib/python3.6/dist-packages/matplotlib/backends/backend_agg.py:214: RuntimeWarning: Glyph 54616 missing from current font.\n",
            "  font.set_text(s, 0.0, flags=flags)\n",
            "/usr/local/lib/python3.6/dist-packages/matplotlib/backends/backend_agg.py:214: RuntimeWarning: Glyph 50689 missing from current font.\n",
            "  font.set_text(s, 0.0, flags=flags)\n",
            "/usr/local/lib/python3.6/dist-packages/matplotlib/backends/backend_agg.py:214: RuntimeWarning: Glyph 45716 missing from current font.\n",
            "  font.set_text(s, 0.0, flags=flags)\n",
            "/usr/local/lib/python3.6/dist-packages/matplotlib/backends/backend_agg.py:214: RuntimeWarning: Glyph 45800 missing from current font.\n",
            "  font.set_text(s, 0.0, flags=flags)\n",
            "/usr/local/lib/python3.6/dist-packages/matplotlib/backends/backend_agg.py:214: RuntimeWarning: Glyph 44032 missing from current font.\n",
            "  font.set_text(s, 0.0, flags=flags)\n",
            "/usr/local/lib/python3.6/dist-packages/matplotlib/backends/backend_agg.py:214: RuntimeWarning: Glyph 46307 missing from current font.\n",
            "  font.set_text(s, 0.0, flags=flags)\n",
            "/usr/local/lib/python3.6/dist-packages/matplotlib/backends/backend_agg.py:214: RuntimeWarning: Glyph 44592 missing from current font.\n",
            "  font.set_text(s, 0.0, flags=flags)\n",
            "/usr/local/lib/python3.6/dist-packages/matplotlib/backends/backend_agg.py:214: RuntimeWarning: Glyph 44397 missing from current font.\n",
            "  font.set_text(s, 0.0, flags=flags)\n",
            "/usr/local/lib/python3.6/dist-packages/matplotlib/backends/backend_agg.py:214: RuntimeWarning: Glyph 51648 missing from current font.\n",
            "  font.set_text(s, 0.0, flags=flags)\n",
            "/usr/local/lib/python3.6/dist-packages/matplotlib/backends/backend_agg.py:214: RuntimeWarning: Glyph 47928 missing from current font.\n",
            "  font.set_text(s, 0.0, flags=flags)\n",
            "/usr/local/lib/python3.6/dist-packages/matplotlib/backends/backend_agg.py:214: RuntimeWarning: Glyph 54620 missing from current font.\n",
            "  font.set_text(s, 0.0, flags=flags)\n",
            "/usr/local/lib/python3.6/dist-packages/matplotlib/backends/backend_agg.py:183: RuntimeWarning: Glyph 49688 missing from current font.\n",
            "  font.set_text(s, 0, flags=flags)\n",
            "/usr/local/lib/python3.6/dist-packages/matplotlib/backends/backend_agg.py:183: RuntimeWarning: Glyph 54617 missing from current font.\n",
            "  font.set_text(s, 0, flags=flags)\n",
            "/usr/local/lib/python3.6/dist-packages/matplotlib/backends/backend_agg.py:183: RuntimeWarning: Glyph 51008 missing from current font.\n",
            "  font.set_text(s, 0, flags=flags)\n",
            "/usr/local/lib/python3.6/dist-packages/matplotlib/backends/backend_agg.py:183: RuntimeWarning: Glyph 49885 missing from current font.\n",
            "  font.set_text(s, 0, flags=flags)\n",
            "/usr/local/lib/python3.6/dist-packages/matplotlib/backends/backend_agg.py:183: RuntimeWarning: Glyph 51060 missing from current font.\n",
            "  font.set_text(s, 0, flags=flags)\n",
            "/usr/local/lib/python3.6/dist-packages/matplotlib/backends/backend_agg.py:183: RuntimeWarning: Glyph 48373 missing from current font.\n",
            "  font.set_text(s, 0, flags=flags)\n",
            "/usr/local/lib/python3.6/dist-packages/matplotlib/backends/backend_agg.py:183: RuntimeWarning: Glyph 51105 missing from current font.\n",
            "  font.set_text(s, 0, flags=flags)\n",
            "/usr/local/lib/python3.6/dist-packages/matplotlib/backends/backend_agg.py:183: RuntimeWarning: Glyph 54644 missing from current font.\n",
            "  font.set_text(s, 0, flags=flags)\n",
            "/usr/local/lib/python3.6/dist-packages/matplotlib/backends/backend_agg.py:183: RuntimeWarning: Glyph 49436 missing from current font.\n",
            "  font.set_text(s, 0, flags=flags)\n",
            "/usr/local/lib/python3.6/dist-packages/matplotlib/backends/backend_agg.py:183: RuntimeWarning: Glyph 50612 missing from current font.\n",
            "  font.set_text(s, 0, flags=flags)\n",
            "/usr/local/lib/python3.6/dist-packages/matplotlib/backends/backend_agg.py:183: RuntimeWarning: Glyph 47157 missing from current font.\n",
            "  font.set_text(s, 0, flags=flags)\n",
            "/usr/local/lib/python3.6/dist-packages/matplotlib/backends/backend_agg.py:183: RuntimeWarning: Glyph 45796 missing from current font.\n",
            "  font.set_text(s, 0, flags=flags)\n",
            "/usr/local/lib/python3.6/dist-packages/matplotlib/backends/backend_agg.py:183: RuntimeWarning: Glyph 44277 missing from current font.\n",
            "  font.set_text(s, 0, flags=flags)\n",
            "/usr/local/lib/python3.6/dist-packages/matplotlib/backends/backend_agg.py:183: RuntimeWarning: Glyph 47566 missing from current font.\n",
            "  font.set_text(s, 0, flags=flags)\n",
            "/usr/local/lib/python3.6/dist-packages/matplotlib/backends/backend_agg.py:183: RuntimeWarning: Glyph 50500 missing from current font.\n",
            "  font.set_text(s, 0, flags=flags)\n",
            "/usr/local/lib/python3.6/dist-packages/matplotlib/backends/backend_agg.py:183: RuntimeWarning: Glyph 46104 missing from current font.\n",
            "  font.set_text(s, 0, flags=flags)\n",
            "/usr/local/lib/python3.6/dist-packages/matplotlib/backends/backend_agg.py:183: RuntimeWarning: Glyph 47732 missing from current font.\n",
            "  font.set_text(s, 0, flags=flags)\n",
            "/usr/local/lib/python3.6/dist-packages/matplotlib/backends/backend_agg.py:183: RuntimeWarning: Glyph 49789 missing from current font.\n",
            "  font.set_text(s, 0, flags=flags)\n",
            "/usr/local/lib/python3.6/dist-packages/matplotlib/backends/backend_agg.py:183: RuntimeWarning: Glyph 45733 missing from current font.\n",
            "  font.set_text(s, 0, flags=flags)\n",
            "/usr/local/lib/python3.6/dist-packages/matplotlib/backends/backend_agg.py:183: RuntimeWarning: Glyph 53685 missing from current font.\n",
            "  font.set_text(s, 0, flags=flags)\n",
            "/usr/local/lib/python3.6/dist-packages/matplotlib/backends/backend_agg.py:183: RuntimeWarning: Glyph 54616 missing from current font.\n",
            "  font.set_text(s, 0, flags=flags)\n",
            "/usr/local/lib/python3.6/dist-packages/matplotlib/backends/backend_agg.py:183: RuntimeWarning: Glyph 50689 missing from current font.\n",
            "  font.set_text(s, 0, flags=flags)\n",
            "/usr/local/lib/python3.6/dist-packages/matplotlib/backends/backend_agg.py:183: RuntimeWarning: Glyph 45716 missing from current font.\n",
            "  font.set_text(s, 0, flags=flags)\n",
            "/usr/local/lib/python3.6/dist-packages/matplotlib/backends/backend_agg.py:183: RuntimeWarning: Glyph 45800 missing from current font.\n",
            "  font.set_text(s, 0, flags=flags)\n",
            "/usr/local/lib/python3.6/dist-packages/matplotlib/backends/backend_agg.py:183: RuntimeWarning: Glyph 44032 missing from current font.\n",
            "  font.set_text(s, 0, flags=flags)\n",
            "/usr/local/lib/python3.6/dist-packages/matplotlib/backends/backend_agg.py:183: RuntimeWarning: Glyph 46307 missing from current font.\n",
            "  font.set_text(s, 0, flags=flags)\n",
            "/usr/local/lib/python3.6/dist-packages/matplotlib/backends/backend_agg.py:183: RuntimeWarning: Glyph 44592 missing from current font.\n",
            "  font.set_text(s, 0, flags=flags)\n",
            "/usr/local/lib/python3.6/dist-packages/matplotlib/backends/backend_agg.py:183: RuntimeWarning: Glyph 44397 missing from current font.\n",
            "  font.set_text(s, 0, flags=flags)\n",
            "/usr/local/lib/python3.6/dist-packages/matplotlib/backends/backend_agg.py:183: RuntimeWarning: Glyph 51648 missing from current font.\n",
            "  font.set_text(s, 0, flags=flags)\n",
            "/usr/local/lib/python3.6/dist-packages/matplotlib/backends/backend_agg.py:183: RuntimeWarning: Glyph 47928 missing from current font.\n",
            "  font.set_text(s, 0, flags=flags)\n",
            "/usr/local/lib/python3.6/dist-packages/matplotlib/backends/backend_agg.py:183: RuntimeWarning: Glyph 54620 missing from current font.\n",
            "  font.set_text(s, 0, flags=flags)\n"
          ],
          "name": "stderr"
        },
        {
          "output_type": "display_data",
          "data": {
            "image/png": "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\n",
            "text/plain": [
              "<Figure size 576x576 with 1 Axes>"
            ]
          },
          "metadata": {
            "tags": [],
            "needs_background": "light"
          }
        }
      ]
    },
    {
      "cell_type": "markdown",
      "metadata": {
        "id": "6_OmrpU5nroZ"
      },
      "source": [
        "# Gensim\n",
        "- https://radimrehurek.com/gensim/index.html"
      ]
    },
    {
      "cell_type": "code",
      "metadata": {
        "id": "ruhjiwA5nAEH"
      },
      "source": [
        "import gensim\n",
        "import gensim.downloader as api"
      ],
      "execution_count": 39,
      "outputs": []
    },
    {
      "cell_type": "markdown",
      "metadata": {
        "id": "So8bPpOEoMCm"
      },
      "source": [
        "## Tutorial"
      ]
    },
    {
      "cell_type": "code",
      "metadata": {
        "id": "_6KWRLytn-IG",
        "colab": {
          "base_uri": "https://localhost:8080/"
        },
        "outputId": "24639800-0d8d-4ae4-f47e-9339a765a4d1"
      },
      "source": [
        "# 이미 학습된 model download\n",
        "# wv = api.load('word2vec-google-news-300') # 1.6G\n",
        "wv = api.load('glove-wiki-gigaword-100') # 128M"
      ],
      "execution_count": 40,
      "outputs": [
        {
          "output_type": "stream",
          "text": [
            "[==================================================] 100.0% 128.1/128.1MB downloaded\n"
          ],
          "name": "stdout"
        }
      ]
    },
    {
      "cell_type": "code",
      "metadata": {
        "id": "Ji4BanXNn-xN",
        "colab": {
          "base_uri": "https://localhost:8080/"
        },
        "outputId": "491784ff-6a88-4679-d6cc-af4959126ec6"
      },
      "source": [
        "# vocab 개수 및 최초 20개 출력\n",
        "print(f\"len: {len(wv.vocab)}\")\n",
        "for i, word in enumerate(wv.vocab):\n",
        "    if i >= 20:\n",
        "        break\n",
        "    print(f\"{i:2d}: {word}\")"
      ],
      "execution_count": 41,
      "outputs": [
        {
          "output_type": "stream",
          "text": [
            "len: 400000\n",
            " 0: the\n",
            " 1: ,\n",
            " 2: .\n",
            " 3: of\n",
            " 4: to\n",
            " 5: and\n",
            " 6: in\n",
            " 7: a\n",
            " 8: \"\n",
            " 9: 's\n",
            "10: for\n",
            "11: -\n",
            "12: that\n",
            "13: on\n",
            "14: is\n",
            "15: was\n",
            "16: said\n",
            "17: with\n",
            "18: he\n",
            "19: as\n"
          ],
          "name": "stdout"
        }
      ]
    },
    {
      "cell_type": "code",
      "metadata": {
        "id": "44UgFKZtodJ2",
        "colab": {
          "base_uri": "https://localhost:8080/"
        },
        "outputId": "18dd910b-71f4-4138-fb2a-9b77bd9e46a6"
      },
      "source": [
        "wv.most_similar('obama')"
      ],
      "execution_count": 42,
      "outputs": [
        {
          "output_type": "execute_result",
          "data": {
            "text/plain": [
              "[('barack', 0.937216579914093),\n",
              " ('bush', 0.927285373210907),\n",
              " ('clinton', 0.8960003852844238),\n",
              " ('mccain', 0.8875633478164673),\n",
              " ('gore', 0.8000321388244629),\n",
              " ('hillary', 0.7933663129806519),\n",
              " ('dole', 0.7851964235305786),\n",
              " ('rodham', 0.751889705657959),\n",
              " ('romney', 0.7488929629325867),\n",
              " ('kerry', 0.7472623586654663)]"
            ]
          },
          "metadata": {
            "tags": []
          },
          "execution_count": 42
        }
      ]
    },
    {
      "cell_type": "code",
      "metadata": {
        "id": "qQjn9gvSokko",
        "colab": {
          "base_uri": "https://localhost:8080/"
        },
        "outputId": "737eedd7-510f-4901-c4cf-8a37c29190a6"
      },
      "source": [
        "wv.most_similar('banana')"
      ],
      "execution_count": 43,
      "outputs": [
        {
          "output_type": "execute_result",
          "data": {
            "text/plain": [
              "[('coconut', 0.7097253799438477),\n",
              " ('mango', 0.7054824233055115),\n",
              " ('bananas', 0.6887733936309814),\n",
              " ('potato', 0.6629636287689209),\n",
              " ('pineapple', 0.6534532904624939),\n",
              " ('fruit', 0.6519855260848999),\n",
              " ('peanut', 0.6420576572418213),\n",
              " ('pecan', 0.6349173188209534),\n",
              " ('cashew', 0.6294420957565308),\n",
              " ('papaya', 0.6246591210365295)]"
            ]
          },
          "metadata": {
            "tags": []
          },
          "execution_count": 43
        }
      ]
    },
    {
      "cell_type": "code",
      "metadata": {
        "id": "TrfjVktuooyH",
        "colab": {
          "base_uri": "https://localhost:8080/"
        },
        "outputId": "6c8c9a55-3c8d-4d59-c730-17fd79cedcd2"
      },
      "source": [
        "wv.most_similar('apple')"
      ],
      "execution_count": 44,
      "outputs": [
        {
          "output_type": "execute_result",
          "data": {
            "text/plain": [
              "[('microsoft', 0.7449405789375305),\n",
              " ('ibm', 0.6821643710136414),\n",
              " ('intel', 0.6778088212013245),\n",
              " ('software', 0.6775422096252441),\n",
              " ('dell', 0.6741442680358887),\n",
              " ('pc', 0.6678153276443481),\n",
              " ('macintosh', 0.66175377368927),\n",
              " ('iphone', 0.6595611572265625),\n",
              " ('ipod', 0.6534676551818848),\n",
              " ('hewlett', 0.6516579985618591)]"
            ]
          },
          "metadata": {
            "tags": []
          },
          "execution_count": 44
        }
      ]
    },
    {
      "cell_type": "code",
      "metadata": {
        "id": "9ZepG2dzoP1O",
        "colab": {
          "base_uri": "https://localhost:8080/"
        },
        "outputId": "2fea2eb4-6be4-44e1-fd23-8cfaaaff5070"
      },
      "source": [
        "# king - man + woman by\n",
        "result = wv.most_similar(positive=['woman', 'king'], negative=['man'])\n",
        "result"
      ],
      "execution_count": 45,
      "outputs": [
        {
          "output_type": "execute_result",
          "data": {
            "text/plain": [
              "[('queen', 0.7698541283607483),\n",
              " ('monarch', 0.6843380928039551),\n",
              " ('throne', 0.6755735874176025),\n",
              " ('daughter', 0.6594556570053101),\n",
              " ('princess', 0.6520534753799438),\n",
              " ('prince', 0.6517034769058228),\n",
              " ('elizabeth', 0.6464517712593079),\n",
              " ('mother', 0.6311717629432678),\n",
              " ('emperor', 0.6106470823287964),\n",
              " ('wife', 0.6098655462265015)]"
            ]
          },
          "metadata": {
            "tags": []
          },
          "execution_count": 45
        }
      ]
    },
    {
      "cell_type": "code",
      "metadata": {
        "id": "H6OwFhSRpCTK"
      },
      "source": [
        "def analogy(p1, n1, p2):\n",
        "    result = wv.most_similar(positive=[p2, p1], negative=[n1])\n",
        "    return result"
      ],
      "execution_count": 46,
      "outputs": []
    },
    {
      "cell_type": "code",
      "metadata": {
        "colab": {
          "base_uri": "https://localhost:8080/"
        },
        "id": "gFSv2DFG9LW2",
        "outputId": "50a7649a-ebc1-4f0d-adf7-409384f624d3"
      },
      "source": [
        "result = wv.most_similar(positive=['australia', 'japanese'], negative=['japan'])\n",
        "result"
      ],
      "execution_count": 47,
      "outputs": [
        {
          "output_type": "execute_result",
          "data": {
            "text/plain": [
              "[('australian', 0.8923498392105103),\n",
              " ('zealand', 0.8012940883636475),\n",
              " ('british', 0.7840811014175415),\n",
              " ('australians', 0.6766528487205505),\n",
              " ('indian', 0.6707968711853027),\n",
              " ('canadian', 0.6601305603981018),\n",
              " ('english', 0.639612078666687),\n",
              " ('england', 0.6350405216217041),\n",
              " ('sydney', 0.6257352232933044),\n",
              " ('britain', 0.6175568699836731)]"
            ]
          },
          "metadata": {
            "tags": []
          },
          "execution_count": 47
        }
      ]
    },
    {
      "cell_type": "code",
      "metadata": {
        "id": "iK0NIBKPpK5O",
        "colab": {
          "base_uri": "https://localhost:8080/"
        },
        "outputId": "3fd341a2-099d-44cb-cbe9-9ae75d7321ed"
      },
      "source": [
        "# japanese - japan + australia\n",
        "analogy('japanese', 'japan', 'australia')"
      ],
      "execution_count": 48,
      "outputs": [
        {
          "output_type": "execute_result",
          "data": {
            "text/plain": [
              "[('australian', 0.8923498392105103),\n",
              " ('zealand', 0.8012940883636475),\n",
              " ('british', 0.7840811014175415),\n",
              " ('australians', 0.6766528487205505),\n",
              " ('indian', 0.6707968711853027),\n",
              " ('canadian', 0.6601305603981018),\n",
              " ('english', 0.639612078666687),\n",
              " ('england', 0.6350405216217041),\n",
              " ('sydney', 0.6257352232933044),\n",
              " ('britain', 0.6175568699836731)]"
            ]
          },
          "metadata": {
            "tags": []
          },
          "execution_count": 48
        }
      ]
    },
    {
      "cell_type": "code",
      "metadata": {
        "id": "S8Gs1nA1pR0m",
        "colab": {
          "base_uri": "https://localhost:8080/"
        },
        "outputId": "457f99d7-9655-400c-86bb-954cafde6209"
      },
      "source": [
        "# beer - australia + france\n",
        "analogy('beer', 'australia', 'france')"
      ],
      "execution_count": 49,
      "outputs": [
        {
          "output_type": "execute_result",
          "data": {
            "text/plain": [
              "[('champagne', 0.6480064988136292),\n",
              " ('wine', 0.6029773354530334),\n",
              " ('cognac', 0.599911093711853),\n",
              " ('drink', 0.596866250038147),\n",
              " ('perfume', 0.5843736529350281),\n",
              " ('drinks', 0.5787434577941895),\n",
              " ('vodka', 0.5771392583847046),\n",
              " ('beers', 0.5634331703186035),\n",
              " ('anheuser', 0.5613827705383301),\n",
              " ('bourbon', 0.552852988243103)]"
            ]
          },
          "metadata": {
            "tags": []
          },
          "execution_count": 49
        }
      ]
    },
    {
      "cell_type": "code",
      "metadata": {
        "id": "8cjxqpkBp5EE",
        "colab": {
          "base_uri": "https://localhost:8080/"
        },
        "outputId": "64f691e3-f5af-4548-b909-2b953e003f66"
      },
      "source": [
        "# clinton - reagan + obama\n",
        "analogy('clinton', 'reagan', 'obama')"
      ],
      "execution_count": 50,
      "outputs": [
        {
          "output_type": "execute_result",
          "data": {
            "text/plain": [
              "[('barack', 0.8189094066619873),\n",
              " ('bush', 0.7976235151290894),\n",
              " ('mccain', 0.7815861701965332),\n",
              " ('gore', 0.7276442050933838),\n",
              " ('hillary', 0.7135353088378906),\n",
              " ('rodham', 0.6994726657867432),\n",
              " ('romney', 0.6853622198104858),\n",
              " ('dole', 0.6626838445663452),\n",
              " ('kerry', 0.6506499648094177),\n",
              " ('republicans', 0.6442651152610779)]"
            ]
          },
          "metadata": {
            "tags": []
          },
          "execution_count": 50
        }
      ]
    },
    {
      "cell_type": "code",
      "metadata": {
        "id": "ZSIoMdrzqEjs",
        "colab": {
          "base_uri": "https://localhost:8080/"
        },
        "outputId": "0e856887-2007-46bc-b086-9e2d52170708"
      },
      "source": [
        "# tallest - tall + long\n",
        "analogy('tallest', 'tall', 'long')"
      ],
      "execution_count": 51,
      "outputs": [
        {
          "output_type": "execute_result",
          "data": {
            "text/plain": [
              "[('longest', 0.7037104964256287),\n",
              " ('the', 0.6229448914527893),\n",
              " ('major', 0.6216300129890442),\n",
              " ('time', 0.6173369884490967),\n",
              " ('first', 0.616451621055603),\n",
              " ('since', 0.60569828748703),\n",
              " ('decade', 0.6019695997238159),\n",
              " ('busiest', 0.600587785243988),\n",
              " ('its', 0.6004385352134705),\n",
              " ('part', 0.60023432970047)]"
            ]
          },
          "metadata": {
            "tags": []
          },
          "execution_count": 51
        }
      ]
    },
    {
      "cell_type": "code",
      "metadata": {
        "id": "o-7r0qA9qd_u",
        "colab": {
          "base_uri": "https://localhost:8080/"
        },
        "outputId": "67447a76-cc54-49f8-b22a-2e355f42c3c2"
      },
      "source": [
        "# fantastic - good + bad\n",
        "analogy('fantastic', 'good', 'bad')"
      ],
      "execution_count": 52,
      "outputs": [
        {
          "output_type": "execute_result",
          "data": {
            "text/plain": [
              "[('terrible', 0.7074226140975952),\n",
              " ('awful', 0.70609450340271),\n",
              " ('horrible', 0.6906466484069824),\n",
              " ('scary', 0.6802915334701538),\n",
              " ('weird', 0.6775556206703186),\n",
              " ('crazy', 0.6615543365478516),\n",
              " ('strange', 0.6522735953330994),\n",
              " ('dreadful', 0.6404813528060913),\n",
              " ('bizarre', 0.6389496922492981),\n",
              " ('incredible', 0.6321425437927246)]"
            ]
          },
          "metadata": {
            "tags": []
          },
          "execution_count": 52
        }
      ]
    },
    {
      "cell_type": "code",
      "metadata": {
        "id": "bVjNGch1qmR3",
        "colab": {
          "base_uri": "https://localhost:8080/",
          "height": 87
        },
        "outputId": "d2223069-d4c2-4b98-f3ed-96ef817e8fee"
      },
      "source": [
        "wv.doesnt_match(\"breakfast cereal dinner lunch\".split())"
      ],
      "execution_count": 53,
      "outputs": [
        {
          "output_type": "stream",
          "text": [
            "/usr/local/lib/python3.6/dist-packages/gensim/models/keyedvectors.py:895: FutureWarning: arrays to stack must be passed as a \"sequence\" type such as list or tuple. Support for non-sequence iterables such as generators is deprecated as of NumPy 1.16 and will raise an error in the future.\n",
            "  vectors = vstack(self.word_vec(word, use_norm=True) for word in used_words).astype(REAL)\n"
          ],
          "name": "stderr"
        },
        {
          "output_type": "execute_result",
          "data": {
            "application/vnd.google.colaboratory.intrinsic+json": {
              "type": "string"
            },
            "text/plain": [
              "'cereal'"
            ]
          },
          "metadata": {
            "tags": []
          },
          "execution_count": 53
        }
      ]
    },
    {
      "cell_type": "code",
      "metadata": {
        "id": "RXdAL0mdsWMZ"
      },
      "source": [
        "def display_pca_scatterplot(model, words=None, n_sample=100):\n",
        "    if not words:\n",
        "        words = np.random.choice(list(model.vocab.keys()), n_sample)\n",
        "    word_vectors = np.array([model[w] for w in words])\n",
        "\n",
        "    # 폰트\n",
        "    font_name = \"NanumBarunGothic\"\n",
        "\n",
        "    # plot 크기 및 폰트 설정\n",
        "    plt.rc('font', family=font_name)\n",
        "    plt.rcParams[\"axes.unicode_minus\"] = False # 한글 폰트 사용시 - 깨지는 문제 해결\n",
        "\n",
        "    word_vectors = PCA().fit_transform(word_vectors)[:,:2]\n",
        "    \n",
        "    plt.figure(figsize=(12,12))\n",
        "    plt.scatter(word_vectors[:,0], word_vectors[:,1], edgecolors='k', c='r')\n",
        "    for word, (x, y) in zip(words, word_vectors):\n",
        "        plt.text(x, y, word)\n",
        "    plt.show()"
      ],
      "execution_count": 54,
      "outputs": []
    },
    {
      "cell_type": "code",
      "metadata": {
        "id": "GhhKmBlltovE",
        "colab": {
          "base_uri": "https://localhost:8080/",
          "height": 700
        },
        "outputId": "ab93b7f5-1e15-4240-9c72-96fb3c5b9674"
      },
      "source": [
        "display_pca_scatterplot(wv, words=['coffee', 'tea', 'beer', 'wine', 'brandy', 'rum', 'champagne', 'water',\n",
        "                         'spaghetti', 'borscht', 'hamburger', 'pizza', 'falafel', 'sushi', 'meatballs',\n",
        "                         'dog', 'horse', 'cat', 'monkey', 'parrot', 'koala', 'lizard',\n",
        "                         'frog', 'toad', 'monkey', 'ape', 'kangaroo', 'wombat', 'wolf',\n",
        "                         'france', 'germany', 'hungary', 'luxembourg', 'australia', 'fiji', 'china',\n",
        "                         'homework', 'assignment', 'problem', 'exam', 'test', 'class',\n",
        "                         'school', 'college', 'university', 'institute'])"
      ],
      "execution_count": 55,
      "outputs": [
        {
          "output_type": "display_data",
          "data": {
            "image/png": "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\n",
            "text/plain": [
              "<Figure size 864x864 with 1 Axes>"
            ]
          },
          "metadata": {
            "tags": [],
            "needs_background": "light"
          }
        }
      ]
    },
    {
      "cell_type": "code",
      "metadata": {
        "id": "kgASPvgzsXYC",
        "colab": {
          "base_uri": "https://localhost:8080/",
          "height": 700
        },
        "outputId": "0ee11563-88e4-46c9-efa4-f2e326ecca46"
      },
      "source": [
        "display_pca_scatterplot(wv)"
      ],
      "execution_count": 56,
      "outputs": [
        {
          "output_type": "display_data",
          "data": {
            "image/png": "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\n",
            "text/plain": [
              "<Figure size 864x864 with 1 Axes>"
            ]
          },
          "metadata": {
            "tags": [],
            "needs_background": "light"
          }
        }
      ]
    },
    {
      "cell_type": "code",
      "metadata": {
        "id": "b5-uFhLp84ls"
      },
      "source": [
        ""
      ],
      "execution_count": 56,
      "outputs": []
    }
  ]
}
