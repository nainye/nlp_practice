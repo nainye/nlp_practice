{
  "nbformat": 4,
  "nbformat_minor": 0,
  "metadata": {
    "colab": {
      "name": "05-01-text-classification-강의.ipynb",
      "provenance": [],
      "collapsed_sections": [
        "g78tzmjN3mzF",
        "6dfJPT-2XMTB",
        "JHkHg6XAXoyK",
        "XwriCkq_R1Lc",
        "3myBX8hNEH1u",
        "fsRvlzDzSX9e",
        "MXrWvdLuhVIu",
        "iCtHjN1jiPBl",
        "z5vUjpBDjvwM",
        "HH3c7rY7kbCh",
        "OMncJs1dlHLK",
        "PEEHnQPfluqb",
        "gcG7zBAr_R_4",
        "jv0OPyaKSpjw",
        "IFTsdA3kE2h-",
        "rrhMcv0FZhbi",
        "PQvKAxTbaEpt",
        "yOqjtjEtgG_i",
        "RZq-UvbOgG_j",
        "QbzBPXwqgG_n",
        "fFOkITDzgG_o"
      ],
      "include_colab_link": true
    },
    "kernelspec": {
      "name": "python3",
      "display_name": "Python 3"
    },
    "accelerator": "GPU",
    "widgets": {
      "application/vnd.jupyter.widget-state+json": {
        "1229976d68784124a16d6567b37d1f13": {
          "model_module": "@jupyter-widgets/controls",
          "model_name": "HBoxModel",
          "state": {
            "_view_name": "HBoxView",
            "_dom_classes": [],
            "_model_name": "HBoxModel",
            "_view_module": "@jupyter-widgets/controls",
            "_model_module_version": "1.5.0",
            "_view_count": null,
            "_view_module_version": "1.5.0",
            "box_style": "",
            "layout": "IPY_MODEL_c9ee64fec599448eb10ebfeb22e118cb",
            "_model_module": "@jupyter-widgets/controls",
            "children": [
              "IPY_MODEL_f7cb5c6f42ef44e3ac52840c437de1d2",
              "IPY_MODEL_9942e9563d9d4d6287be0a27f2018687"
            ]
          }
        },
        "c9ee64fec599448eb10ebfeb22e118cb": {
          "model_module": "@jupyter-widgets/base",
          "model_name": "LayoutModel",
          "state": {
            "_view_name": "LayoutView",
            "grid_template_rows": null,
            "right": null,
            "justify_content": null,
            "_view_module": "@jupyter-widgets/base",
            "overflow": null,
            "_model_module_version": "1.2.0",
            "_view_count": null,
            "flex_flow": null,
            "width": null,
            "min_width": null,
            "border": null,
            "align_items": null,
            "bottom": null,
            "_model_module": "@jupyter-widgets/base",
            "top": null,
            "grid_column": null,
            "overflow_y": null,
            "overflow_x": null,
            "grid_auto_flow": null,
            "grid_area": null,
            "grid_template_columns": null,
            "flex": null,
            "_model_name": "LayoutModel",
            "justify_items": null,
            "grid_row": null,
            "max_height": null,
            "align_content": null,
            "visibility": null,
            "align_self": null,
            "height": null,
            "min_height": null,
            "padding": null,
            "grid_auto_rows": null,
            "grid_gap": null,
            "max_width": null,
            "order": null,
            "_view_module_version": "1.2.0",
            "grid_template_areas": null,
            "object_position": null,
            "object_fit": null,
            "grid_auto_columns": null,
            "margin": null,
            "display": null,
            "left": null
          }
        },
        "f7cb5c6f42ef44e3ac52840c437de1d2": {
          "model_module": "@jupyter-widgets/controls",
          "model_name": "FloatProgressModel",
          "state": {
            "_view_name": "ProgressView",
            "style": "IPY_MODEL_4c76722d0ed344b0a6e8ae75ab37e320",
            "_dom_classes": [],
            "description": "100%",
            "_model_name": "FloatProgressModel",
            "bar_style": "success",
            "max": 10,
            "_view_module": "@jupyter-widgets/controls",
            "_model_module_version": "1.5.0",
            "value": 10,
            "_view_count": null,
            "_view_module_version": "1.5.0",
            "orientation": "horizontal",
            "min": 0,
            "description_tooltip": null,
            "_model_module": "@jupyter-widgets/controls",
            "layout": "IPY_MODEL_b086af61660c4dc7b019df7cb241519e"
          }
        },
        "9942e9563d9d4d6287be0a27f2018687": {
          "model_module": "@jupyter-widgets/controls",
          "model_name": "HTMLModel",
          "state": {
            "_view_name": "HTMLView",
            "style": "IPY_MODEL_8b98bac53c0c48d8a280c94465103860",
            "_dom_classes": [],
            "description": "",
            "_model_name": "HTMLModel",
            "placeholder": "​",
            "_view_module": "@jupyter-widgets/controls",
            "_model_module_version": "1.5.0",
            "value": " 10/10 [00:00&lt;00:00, 81.39it/s]",
            "_view_count": null,
            "_view_module_version": "1.5.0",
            "description_tooltip": null,
            "_model_module": "@jupyter-widgets/controls",
            "layout": "IPY_MODEL_33a71c867f6a48b5b0cf26bf1c4e3b14"
          }
        },
        "4c76722d0ed344b0a6e8ae75ab37e320": {
          "model_module": "@jupyter-widgets/controls",
          "model_name": "ProgressStyleModel",
          "state": {
            "_view_name": "StyleView",
            "_model_name": "ProgressStyleModel",
            "description_width": "initial",
            "_view_module": "@jupyter-widgets/base",
            "_model_module_version": "1.5.0",
            "_view_count": null,
            "_view_module_version": "1.2.0",
            "bar_color": null,
            "_model_module": "@jupyter-widgets/controls"
          }
        },
        "b086af61660c4dc7b019df7cb241519e": {
          "model_module": "@jupyter-widgets/base",
          "model_name": "LayoutModel",
          "state": {
            "_view_name": "LayoutView",
            "grid_template_rows": null,
            "right": null,
            "justify_content": null,
            "_view_module": "@jupyter-widgets/base",
            "overflow": null,
            "_model_module_version": "1.2.0",
            "_view_count": null,
            "flex_flow": null,
            "width": null,
            "min_width": null,
            "border": null,
            "align_items": null,
            "bottom": null,
            "_model_module": "@jupyter-widgets/base",
            "top": null,
            "grid_column": null,
            "overflow_y": null,
            "overflow_x": null,
            "grid_auto_flow": null,
            "grid_area": null,
            "grid_template_columns": null,
            "flex": null,
            "_model_name": "LayoutModel",
            "justify_items": null,
            "grid_row": null,
            "max_height": null,
            "align_content": null,
            "visibility": null,
            "align_self": null,
            "height": null,
            "min_height": null,
            "padding": null,
            "grid_auto_rows": null,
            "grid_gap": null,
            "max_width": null,
            "order": null,
            "_view_module_version": "1.2.0",
            "grid_template_areas": null,
            "object_position": null,
            "object_fit": null,
            "grid_auto_columns": null,
            "margin": null,
            "display": null,
            "left": null
          }
        },
        "8b98bac53c0c48d8a280c94465103860": {
          "model_module": "@jupyter-widgets/controls",
          "model_name": "DescriptionStyleModel",
          "state": {
            "_view_name": "StyleView",
            "_model_name": "DescriptionStyleModel",
            "description_width": "",
            "_view_module": "@jupyter-widgets/base",
            "_model_module_version": "1.5.0",
            "_view_count": null,
            "_view_module_version": "1.2.0",
            "_model_module": "@jupyter-widgets/controls"
          }
        },
        "33a71c867f6a48b5b0cf26bf1c4e3b14": {
          "model_module": "@jupyter-widgets/base",
          "model_name": "LayoutModel",
          "state": {
            "_view_name": "LayoutView",
            "grid_template_rows": null,
            "right": null,
            "justify_content": null,
            "_view_module": "@jupyter-widgets/base",
            "overflow": null,
            "_model_module_version": "1.2.0",
            "_view_count": null,
            "flex_flow": null,
            "width": null,
            "min_width": null,
            "border": null,
            "align_items": null,
            "bottom": null,
            "_model_module": "@jupyter-widgets/base",
            "top": null,
            "grid_column": null,
            "overflow_y": null,
            "overflow_x": null,
            "grid_auto_flow": null,
            "grid_area": null,
            "grid_template_columns": null,
            "flex": null,
            "_model_name": "LayoutModel",
            "justify_items": null,
            "grid_row": null,
            "max_height": null,
            "align_content": null,
            "visibility": null,
            "align_self": null,
            "height": null,
            "min_height": null,
            "padding": null,
            "grid_auto_rows": null,
            "grid_gap": null,
            "max_width": null,
            "order": null,
            "_view_module_version": "1.2.0",
            "grid_template_areas": null,
            "object_position": null,
            "object_fit": null,
            "grid_auto_columns": null,
            "margin": null,
            "display": null,
            "left": null
          }
        },
        "499ceb5be1a24a52a0bbcc2f160df867": {
          "model_module": "@jupyter-widgets/controls",
          "model_name": "HBoxModel",
          "state": {
            "_view_name": "HBoxView",
            "_dom_classes": [],
            "_model_name": "HBoxModel",
            "_view_module": "@jupyter-widgets/controls",
            "_model_module_version": "1.5.0",
            "_view_count": null,
            "_view_module_version": "1.5.0",
            "box_style": "",
            "layout": "IPY_MODEL_e4da0889990c4f298d63e5cf087066dd",
            "_model_module": "@jupyter-widgets/controls",
            "children": [
              "IPY_MODEL_959fdddda6104eada9065220c7a67882",
              "IPY_MODEL_6f46e1f9e77c4ee89515f24dfaf2ce45"
            ]
          }
        },
        "e4da0889990c4f298d63e5cf087066dd": {
          "model_module": "@jupyter-widgets/base",
          "model_name": "LayoutModel",
          "state": {
            "_view_name": "LayoutView",
            "grid_template_rows": null,
            "right": null,
            "justify_content": null,
            "_view_module": "@jupyter-widgets/base",
            "overflow": null,
            "_model_module_version": "1.2.0",
            "_view_count": null,
            "flex_flow": null,
            "width": null,
            "min_width": null,
            "border": null,
            "align_items": null,
            "bottom": null,
            "_model_module": "@jupyter-widgets/base",
            "top": null,
            "grid_column": null,
            "overflow_y": null,
            "overflow_x": null,
            "grid_auto_flow": null,
            "grid_area": null,
            "grid_template_columns": null,
            "flex": null,
            "_model_name": "LayoutModel",
            "justify_items": null,
            "grid_row": null,
            "max_height": null,
            "align_content": null,
            "visibility": null,
            "align_self": null,
            "height": null,
            "min_height": null,
            "padding": null,
            "grid_auto_rows": null,
            "grid_gap": null,
            "max_width": null,
            "order": null,
            "_view_module_version": "1.2.0",
            "grid_template_areas": null,
            "object_position": null,
            "object_fit": null,
            "grid_auto_columns": null,
            "margin": null,
            "display": null,
            "left": null
          }
        },
        "959fdddda6104eada9065220c7a67882": {
          "model_module": "@jupyter-widgets/controls",
          "model_name": "FloatProgressModel",
          "state": {
            "_view_name": "ProgressView",
            "style": "IPY_MODEL_88e53356a1574302980a23c9fea20fa6",
            "_dom_classes": [],
            "description": "100%",
            "_model_name": "FloatProgressModel",
            "bar_style": "success",
            "max": 10,
            "_view_module": "@jupyter-widgets/controls",
            "_model_module_version": "1.5.0",
            "value": 10,
            "_view_count": null,
            "_view_module_version": "1.5.0",
            "orientation": "horizontal",
            "min": 0,
            "description_tooltip": null,
            "_model_module": "@jupyter-widgets/controls",
            "layout": "IPY_MODEL_efae0386656a437ab84223b4d1797c11"
          }
        },
        "6f46e1f9e77c4ee89515f24dfaf2ce45": {
          "model_module": "@jupyter-widgets/controls",
          "model_name": "HTMLModel",
          "state": {
            "_view_name": "HTMLView",
            "style": "IPY_MODEL_570858e2b1644577ac2509029b28d18f",
            "_dom_classes": [],
            "description": "",
            "_model_name": "HTMLModel",
            "placeholder": "​",
            "_view_module": "@jupyter-widgets/controls",
            "_model_module_version": "1.5.0",
            "value": " 10/10 [00:00&lt;00:00, 27.87it/s]",
            "_view_count": null,
            "_view_module_version": "1.5.0",
            "description_tooltip": null,
            "_model_module": "@jupyter-widgets/controls",
            "layout": "IPY_MODEL_77e6c5fec47740559a0bf325a093d7e0"
          }
        },
        "88e53356a1574302980a23c9fea20fa6": {
          "model_module": "@jupyter-widgets/controls",
          "model_name": "ProgressStyleModel",
          "state": {
            "_view_name": "StyleView",
            "_model_name": "ProgressStyleModel",
            "description_width": "initial",
            "_view_module": "@jupyter-widgets/base",
            "_model_module_version": "1.5.0",
            "_view_count": null,
            "_view_module_version": "1.2.0",
            "bar_color": null,
            "_model_module": "@jupyter-widgets/controls"
          }
        },
        "efae0386656a437ab84223b4d1797c11": {
          "model_module": "@jupyter-widgets/base",
          "model_name": "LayoutModel",
          "state": {
            "_view_name": "LayoutView",
            "grid_template_rows": null,
            "right": null,
            "justify_content": null,
            "_view_module": "@jupyter-widgets/base",
            "overflow": null,
            "_model_module_version": "1.2.0",
            "_view_count": null,
            "flex_flow": null,
            "width": null,
            "min_width": null,
            "border": null,
            "align_items": null,
            "bottom": null,
            "_model_module": "@jupyter-widgets/base",
            "top": null,
            "grid_column": null,
            "overflow_y": null,
            "overflow_x": null,
            "grid_auto_flow": null,
            "grid_area": null,
            "grid_template_columns": null,
            "flex": null,
            "_model_name": "LayoutModel",
            "justify_items": null,
            "grid_row": null,
            "max_height": null,
            "align_content": null,
            "visibility": null,
            "align_self": null,
            "height": null,
            "min_height": null,
            "padding": null,
            "grid_auto_rows": null,
            "grid_gap": null,
            "max_width": null,
            "order": null,
            "_view_module_version": "1.2.0",
            "grid_template_areas": null,
            "object_position": null,
            "object_fit": null,
            "grid_auto_columns": null,
            "margin": null,
            "display": null,
            "left": null
          }
        },
        "570858e2b1644577ac2509029b28d18f": {
          "model_module": "@jupyter-widgets/controls",
          "model_name": "DescriptionStyleModel",
          "state": {
            "_view_name": "StyleView",
            "_model_name": "DescriptionStyleModel",
            "description_width": "",
            "_view_module": "@jupyter-widgets/base",
            "_model_module_version": "1.5.0",
            "_view_count": null,
            "_view_module_version": "1.2.0",
            "_model_module": "@jupyter-widgets/controls"
          }
        },
        "77e6c5fec47740559a0bf325a093d7e0": {
          "model_module": "@jupyter-widgets/base",
          "model_name": "LayoutModel",
          "state": {
            "_view_name": "LayoutView",
            "grid_template_rows": null,
            "right": null,
            "justify_content": null,
            "_view_module": "@jupyter-widgets/base",
            "overflow": null,
            "_model_module_version": "1.2.0",
            "_view_count": null,
            "flex_flow": null,
            "width": null,
            "min_width": null,
            "border": null,
            "align_items": null,
            "bottom": null,
            "_model_module": "@jupyter-widgets/base",
            "top": null,
            "grid_column": null,
            "overflow_y": null,
            "overflow_x": null,
            "grid_auto_flow": null,
            "grid_area": null,
            "grid_template_columns": null,
            "flex": null,
            "_model_name": "LayoutModel",
            "justify_items": null,
            "grid_row": null,
            "max_height": null,
            "align_content": null,
            "visibility": null,
            "align_self": null,
            "height": null,
            "min_height": null,
            "padding": null,
            "grid_auto_rows": null,
            "grid_gap": null,
            "max_width": null,
            "order": null,
            "_view_module_version": "1.2.0",
            "grid_template_areas": null,
            "object_position": null,
            "object_fit": null,
            "grid_auto_columns": null,
            "margin": null,
            "display": null,
            "left": null
          }
        },
        "c001743414514870aef2817802d9df24": {
          "model_module": "@jupyter-widgets/controls",
          "model_name": "HBoxModel",
          "state": {
            "_view_name": "HBoxView",
            "_dom_classes": [],
            "_model_name": "HBoxModel",
            "_view_module": "@jupyter-widgets/controls",
            "_model_module_version": "1.5.0",
            "_view_count": null,
            "_view_module_version": "1.5.0",
            "box_style": "",
            "layout": "IPY_MODEL_a0ef51d9e3b64d028d5be368223e84fc",
            "_model_module": "@jupyter-widgets/controls",
            "children": [
              "IPY_MODEL_f7ba8df602d04581b65098e4829d6bef",
              "IPY_MODEL_2387544a030e4dbaa8180fee99ac55f0"
            ]
          }
        },
        "a0ef51d9e3b64d028d5be368223e84fc": {
          "model_module": "@jupyter-widgets/base",
          "model_name": "LayoutModel",
          "state": {
            "_view_name": "LayoutView",
            "grid_template_rows": null,
            "right": null,
            "justify_content": null,
            "_view_module": "@jupyter-widgets/base",
            "overflow": null,
            "_model_module_version": "1.2.0",
            "_view_count": null,
            "flex_flow": null,
            "width": null,
            "min_width": null,
            "border": null,
            "align_items": null,
            "bottom": null,
            "_model_module": "@jupyter-widgets/base",
            "top": null,
            "grid_column": null,
            "overflow_y": null,
            "overflow_x": null,
            "grid_auto_flow": null,
            "grid_area": null,
            "grid_template_columns": null,
            "flex": null,
            "_model_name": "LayoutModel",
            "justify_items": null,
            "grid_row": null,
            "max_height": null,
            "align_content": null,
            "visibility": null,
            "align_self": null,
            "height": null,
            "min_height": null,
            "padding": null,
            "grid_auto_rows": null,
            "grid_gap": null,
            "max_width": null,
            "order": null,
            "_view_module_version": "1.2.0",
            "grid_template_areas": null,
            "object_position": null,
            "object_fit": null,
            "grid_auto_columns": null,
            "margin": null,
            "display": null,
            "left": null
          }
        },
        "f7ba8df602d04581b65098e4829d6bef": {
          "model_module": "@jupyter-widgets/controls",
          "model_name": "FloatProgressModel",
          "state": {
            "_view_name": "ProgressView",
            "style": "IPY_MODEL_80b1a8fd6df441dabbac3a533c8a0130",
            "_dom_classes": [],
            "description": "100%",
            "_model_name": "FloatProgressModel",
            "bar_style": "success",
            "max": 149995,
            "_view_module": "@jupyter-widgets/controls",
            "_model_module_version": "1.5.0",
            "value": 149995,
            "_view_count": null,
            "_view_module_version": "1.5.0",
            "orientation": "horizontal",
            "min": 0,
            "description_tooltip": null,
            "_model_module": "@jupyter-widgets/controls",
            "layout": "IPY_MODEL_6b5c5aedfefb4ff7a12b341ea23f97fd"
          }
        },
        "2387544a030e4dbaa8180fee99ac55f0": {
          "model_module": "@jupyter-widgets/controls",
          "model_name": "HTMLModel",
          "state": {
            "_view_name": "HTMLView",
            "style": "IPY_MODEL_ff6d650f91d34551a19c8efd6529990c",
            "_dom_classes": [],
            "description": "",
            "_model_name": "HTMLModel",
            "placeholder": "​",
            "_view_module": "@jupyter-widgets/controls",
            "_model_module_version": "1.5.0",
            "value": " 149995/149995 [00:26&lt;00:00, 5596.63it/s]",
            "_view_count": null,
            "_view_module_version": "1.5.0",
            "description_tooltip": null,
            "_model_module": "@jupyter-widgets/controls",
            "layout": "IPY_MODEL_8f21ba6b954440059487d2d8a000c88c"
          }
        },
        "80b1a8fd6df441dabbac3a533c8a0130": {
          "model_module": "@jupyter-widgets/controls",
          "model_name": "ProgressStyleModel",
          "state": {
            "_view_name": "StyleView",
            "_model_name": "ProgressStyleModel",
            "description_width": "initial",
            "_view_module": "@jupyter-widgets/base",
            "_model_module_version": "1.5.0",
            "_view_count": null,
            "_view_module_version": "1.2.0",
            "bar_color": null,
            "_model_module": "@jupyter-widgets/controls"
          }
        },
        "6b5c5aedfefb4ff7a12b341ea23f97fd": {
          "model_module": "@jupyter-widgets/base",
          "model_name": "LayoutModel",
          "state": {
            "_view_name": "LayoutView",
            "grid_template_rows": null,
            "right": null,
            "justify_content": null,
            "_view_module": "@jupyter-widgets/base",
            "overflow": null,
            "_model_module_version": "1.2.0",
            "_view_count": null,
            "flex_flow": null,
            "width": null,
            "min_width": null,
            "border": null,
            "align_items": null,
            "bottom": null,
            "_model_module": "@jupyter-widgets/base",
            "top": null,
            "grid_column": null,
            "overflow_y": null,
            "overflow_x": null,
            "grid_auto_flow": null,
            "grid_area": null,
            "grid_template_columns": null,
            "flex": null,
            "_model_name": "LayoutModel",
            "justify_items": null,
            "grid_row": null,
            "max_height": null,
            "align_content": null,
            "visibility": null,
            "align_self": null,
            "height": null,
            "min_height": null,
            "padding": null,
            "grid_auto_rows": null,
            "grid_gap": null,
            "max_width": null,
            "order": null,
            "_view_module_version": "1.2.0",
            "grid_template_areas": null,
            "object_position": null,
            "object_fit": null,
            "grid_auto_columns": null,
            "margin": null,
            "display": null,
            "left": null
          }
        },
        "ff6d650f91d34551a19c8efd6529990c": {
          "model_module": "@jupyter-widgets/controls",
          "model_name": "DescriptionStyleModel",
          "state": {
            "_view_name": "StyleView",
            "_model_name": "DescriptionStyleModel",
            "description_width": "",
            "_view_module": "@jupyter-widgets/base",
            "_model_module_version": "1.5.0",
            "_view_count": null,
            "_view_module_version": "1.2.0",
            "_model_module": "@jupyter-widgets/controls"
          }
        },
        "8f21ba6b954440059487d2d8a000c88c": {
          "model_module": "@jupyter-widgets/base",
          "model_name": "LayoutModel",
          "state": {
            "_view_name": "LayoutView",
            "grid_template_rows": null,
            "right": null,
            "justify_content": null,
            "_view_module": "@jupyter-widgets/base",
            "overflow": null,
            "_model_module_version": "1.2.0",
            "_view_count": null,
            "flex_flow": null,
            "width": null,
            "min_width": null,
            "border": null,
            "align_items": null,
            "bottom": null,
            "_model_module": "@jupyter-widgets/base",
            "top": null,
            "grid_column": null,
            "overflow_y": null,
            "overflow_x": null,
            "grid_auto_flow": null,
            "grid_area": null,
            "grid_template_columns": null,
            "flex": null,
            "_model_name": "LayoutModel",
            "justify_items": null,
            "grid_row": null,
            "max_height": null,
            "align_content": null,
            "visibility": null,
            "align_self": null,
            "height": null,
            "min_height": null,
            "padding": null,
            "grid_auto_rows": null,
            "grid_gap": null,
            "max_width": null,
            "order": null,
            "_view_module_version": "1.2.0",
            "grid_template_areas": null,
            "object_position": null,
            "object_fit": null,
            "grid_auto_columns": null,
            "margin": null,
            "display": null,
            "left": null
          }
        },
        "a343574f514e48dd96a9a1e88c0b9834": {
          "model_module": "@jupyter-widgets/controls",
          "model_name": "HBoxModel",
          "state": {
            "_view_name": "HBoxView",
            "_dom_classes": [],
            "_model_name": "HBoxModel",
            "_view_module": "@jupyter-widgets/controls",
            "_model_module_version": "1.5.0",
            "_view_count": null,
            "_view_module_version": "1.5.0",
            "box_style": "",
            "layout": "IPY_MODEL_b64c6ad7233442c2bcf32e5a5459f410",
            "_model_module": "@jupyter-widgets/controls",
            "children": [
              "IPY_MODEL_50e00e98e5ff46c18586ac4c8f2924eb",
              "IPY_MODEL_b3558113ffd849348f1c0be768972a03"
            ]
          }
        },
        "b64c6ad7233442c2bcf32e5a5459f410": {
          "model_module": "@jupyter-widgets/base",
          "model_name": "LayoutModel",
          "state": {
            "_view_name": "LayoutView",
            "grid_template_rows": null,
            "right": null,
            "justify_content": null,
            "_view_module": "@jupyter-widgets/base",
            "overflow": null,
            "_model_module_version": "1.2.0",
            "_view_count": null,
            "flex_flow": null,
            "width": null,
            "min_width": null,
            "border": null,
            "align_items": null,
            "bottom": null,
            "_model_module": "@jupyter-widgets/base",
            "top": null,
            "grid_column": null,
            "overflow_y": null,
            "overflow_x": null,
            "grid_auto_flow": null,
            "grid_area": null,
            "grid_template_columns": null,
            "flex": null,
            "_model_name": "LayoutModel",
            "justify_items": null,
            "grid_row": null,
            "max_height": null,
            "align_content": null,
            "visibility": null,
            "align_self": null,
            "height": null,
            "min_height": null,
            "padding": null,
            "grid_auto_rows": null,
            "grid_gap": null,
            "max_width": null,
            "order": null,
            "_view_module_version": "1.2.0",
            "grid_template_areas": null,
            "object_position": null,
            "object_fit": null,
            "grid_auto_columns": null,
            "margin": null,
            "display": null,
            "left": null
          }
        },
        "50e00e98e5ff46c18586ac4c8f2924eb": {
          "model_module": "@jupyter-widgets/controls",
          "model_name": "FloatProgressModel",
          "state": {
            "_view_name": "ProgressView",
            "style": "IPY_MODEL_24744eea89db4c889640d965951ff4ab",
            "_dom_classes": [],
            "description": "100%",
            "_model_name": "FloatProgressModel",
            "bar_style": "success",
            "max": 49997,
            "_view_module": "@jupyter-widgets/controls",
            "_model_module_version": "1.5.0",
            "value": 49997,
            "_view_count": null,
            "_view_module_version": "1.5.0",
            "orientation": "horizontal",
            "min": 0,
            "description_tooltip": null,
            "_model_module": "@jupyter-widgets/controls",
            "layout": "IPY_MODEL_bd2e2241dff7466cab9c44e019614160"
          }
        },
        "b3558113ffd849348f1c0be768972a03": {
          "model_module": "@jupyter-widgets/controls",
          "model_name": "HTMLModel",
          "state": {
            "_view_name": "HTMLView",
            "style": "IPY_MODEL_a5b7f3ec64db4cd5944ee3a9f0f7e95d",
            "_dom_classes": [],
            "description": "",
            "_model_name": "HTMLModel",
            "placeholder": "​",
            "_view_module": "@jupyter-widgets/controls",
            "_model_module_version": "1.5.0",
            "value": " 49997/49997 [00:06&lt;00:00, 7251.96it/s]",
            "_view_count": null,
            "_view_module_version": "1.5.0",
            "description_tooltip": null,
            "_model_module": "@jupyter-widgets/controls",
            "layout": "IPY_MODEL_02ab7be599f348719ebe3656d8ae9018"
          }
        },
        "24744eea89db4c889640d965951ff4ab": {
          "model_module": "@jupyter-widgets/controls",
          "model_name": "ProgressStyleModel",
          "state": {
            "_view_name": "StyleView",
            "_model_name": "ProgressStyleModel",
            "description_width": "initial",
            "_view_module": "@jupyter-widgets/base",
            "_model_module_version": "1.5.0",
            "_view_count": null,
            "_view_module_version": "1.2.0",
            "bar_color": null,
            "_model_module": "@jupyter-widgets/controls"
          }
        },
        "bd2e2241dff7466cab9c44e019614160": {
          "model_module": "@jupyter-widgets/base",
          "model_name": "LayoutModel",
          "state": {
            "_view_name": "LayoutView",
            "grid_template_rows": null,
            "right": null,
            "justify_content": null,
            "_view_module": "@jupyter-widgets/base",
            "overflow": null,
            "_model_module_version": "1.2.0",
            "_view_count": null,
            "flex_flow": null,
            "width": null,
            "min_width": null,
            "border": null,
            "align_items": null,
            "bottom": null,
            "_model_module": "@jupyter-widgets/base",
            "top": null,
            "grid_column": null,
            "overflow_y": null,
            "overflow_x": null,
            "grid_auto_flow": null,
            "grid_area": null,
            "grid_template_columns": null,
            "flex": null,
            "_model_name": "LayoutModel",
            "justify_items": null,
            "grid_row": null,
            "max_height": null,
            "align_content": null,
            "visibility": null,
            "align_self": null,
            "height": null,
            "min_height": null,
            "padding": null,
            "grid_auto_rows": null,
            "grid_gap": null,
            "max_width": null,
            "order": null,
            "_view_module_version": "1.2.0",
            "grid_template_areas": null,
            "object_position": null,
            "object_fit": null,
            "grid_auto_columns": null,
            "margin": null,
            "display": null,
            "left": null
          }
        },
        "a5b7f3ec64db4cd5944ee3a9f0f7e95d": {
          "model_module": "@jupyter-widgets/controls",
          "model_name": "DescriptionStyleModel",
          "state": {
            "_view_name": "StyleView",
            "_model_name": "DescriptionStyleModel",
            "description_width": "",
            "_view_module": "@jupyter-widgets/base",
            "_model_module_version": "1.5.0",
            "_view_count": null,
            "_view_module_version": "1.2.0",
            "_model_module": "@jupyter-widgets/controls"
          }
        },
        "02ab7be599f348719ebe3656d8ae9018": {
          "model_module": "@jupyter-widgets/base",
          "model_name": "LayoutModel",
          "state": {
            "_view_name": "LayoutView",
            "grid_template_rows": null,
            "right": null,
            "justify_content": null,
            "_view_module": "@jupyter-widgets/base",
            "overflow": null,
            "_model_module_version": "1.2.0",
            "_view_count": null,
            "flex_flow": null,
            "width": null,
            "min_width": null,
            "border": null,
            "align_items": null,
            "bottom": null,
            "_model_module": "@jupyter-widgets/base",
            "top": null,
            "grid_column": null,
            "overflow_y": null,
            "overflow_x": null,
            "grid_auto_flow": null,
            "grid_area": null,
            "grid_template_columns": null,
            "flex": null,
            "_model_name": "LayoutModel",
            "justify_items": null,
            "grid_row": null,
            "max_height": null,
            "align_content": null,
            "visibility": null,
            "align_self": null,
            "height": null,
            "min_height": null,
            "padding": null,
            "grid_auto_rows": null,
            "grid_gap": null,
            "max_width": null,
            "order": null,
            "_view_module_version": "1.2.0",
            "grid_template_areas": null,
            "object_position": null,
            "object_fit": null,
            "grid_auto_columns": null,
            "margin": null,
            "display": null,
            "left": null
          }
        }
      }
    }
  },
  "cells": [
    {
      "cell_type": "markdown",
      "metadata": {
        "id": "view-in-github",
        "colab_type": "text"
      },
      "source": [
        "<a href=\"https://colab.research.google.com/github/nainye/nlp_practice/blob/main/text_classification_nsmc.ipynb\" target=\"_parent\"><img src=\"https://colab.research.google.com/assets/colab-badge.svg\" alt=\"Open In Colab\"/></a>"
      ]
    },
    {
      "cell_type": "markdown",
      "metadata": {
        "id": "g78tzmjN3mzF"
      },
      "source": [
        "# 한글폰트 설치\n"
      ]
    },
    {
      "cell_type": "code",
      "metadata": {
        "id": "Co97FHic3p0D",
        "colab": {
          "base_uri": "https://localhost:8080/"
        },
        "outputId": "5b01e9f8-05ad-4686-d810-322970647edc"
      },
      "source": [
        "# 폰트 설치\n",
        "!apt-get update -qq # 나눔고딕 설치\n",
        "!apt-get install fonts-nanum* -qq\n",
        "\n",
        "import matplotlib as mpl\n",
        "import matplotlib.pyplot as plt\n",
        "import matplotlib.font_manager as fm\n",
        "\n",
        "# 폰트 로딩\n",
        "fontpath = '/usr/share/fonts/truetype/nanum/NanumBarunGothic.ttf'\n",
        "font = fm.FontProperties(fname=fontpath, size=9)\n",
        "plt.rc('font', family='NanumBarunGothic') \n",
        "mpl.font_manager._rebuild()"
      ],
      "execution_count": 1,
      "outputs": [
        {
          "output_type": "stream",
          "text": [
            "Selecting previously unselected package fonts-nanum.\n",
            "(Reading database ... 146456 files and directories currently installed.)\n",
            "Preparing to unpack .../fonts-nanum_20170925-1_all.deb ...\n",
            "Unpacking fonts-nanum (20170925-1) ...\n",
            "Selecting previously unselected package fonts-nanum-eco.\n",
            "Preparing to unpack .../fonts-nanum-eco_1.000-6_all.deb ...\n",
            "Unpacking fonts-nanum-eco (1.000-6) ...\n",
            "Selecting previously unselected package fonts-nanum-extra.\n",
            "Preparing to unpack .../fonts-nanum-extra_20170925-1_all.deb ...\n",
            "Unpacking fonts-nanum-extra (20170925-1) ...\n",
            "Selecting previously unselected package fonts-nanum-coding.\n",
            "Preparing to unpack .../fonts-nanum-coding_2.5-1_all.deb ...\n",
            "Unpacking fonts-nanum-coding (2.5-1) ...\n",
            "Setting up fonts-nanum-extra (20170925-1) ...\n",
            "Setting up fonts-nanum (20170925-1) ...\n",
            "Setting up fonts-nanum-coding (2.5-1) ...\n",
            "Setting up fonts-nanum-eco (1.000-6) ...\n",
            "Processing triggers for fontconfig (2.12.6-0ubuntu2) ...\n"
          ],
          "name": "stdout"
        }
      ]
    },
    {
      "cell_type": "markdown",
      "metadata": {
        "id": "6dfJPT-2XMTB"
      },
      "source": [
        "# Install"
      ]
    },
    {
      "cell_type": "code",
      "metadata": {
        "id": "a193aGJWVaqb",
        "colab": {
          "base_uri": "https://localhost:8080/"
        },
        "outputId": "fd859623-68ad-4c4b-a41b-f82131002a7a"
      },
      "source": [
        "!pip install sentencepiece"
      ],
      "execution_count": 2,
      "outputs": [
        {
          "output_type": "stream",
          "text": [
            "Collecting sentencepiece\n",
            "\u001b[?25l  Downloading https://files.pythonhosted.org/packages/14/67/e42bd1181472c95c8cda79305df848264f2a7f62740995a46945d9797b67/sentencepiece-0.1.95-cp36-cp36m-manylinux2014_x86_64.whl (1.2MB)\n",
            "\u001b[K     |████████████████████████████████| 1.2MB 10.7MB/s \n",
            "\u001b[?25hInstalling collected packages: sentencepiece\n",
            "Successfully installed sentencepiece-0.1.95\n"
          ],
          "name": "stdout"
        }
      ]
    },
    {
      "cell_type": "markdown",
      "metadata": {
        "id": "JHkHg6XAXoyK"
      },
      "source": [
        "# Evn"
      ]
    },
    {
      "cell_type": "code",
      "metadata": {
        "id": "WkYXFwcBXJDG"
      },
      "source": [
        "import os\n",
        "import random\n",
        "import shutil\n",
        "import json\n",
        "import zipfile\n",
        "import math\n",
        "import copy\n",
        "import collections\n",
        "import re\n",
        "\n",
        "import matplotlib.pyplot as plt\n",
        "import seaborn as sns\n",
        "from wordcloud import WordCloud\n",
        "import pandas as pd\n",
        "import numpy as np\n",
        "import sentencepiece as spm\n",
        "import tensorflow as tf\n",
        "import tensorflow.keras.backend as K\n",
        "\n",
        "from tqdm.notebook import tqdm"
      ],
      "execution_count": 3,
      "outputs": []
    },
    {
      "cell_type": "code",
      "metadata": {
        "id": "nvjyruUlXtlR"
      },
      "source": [
        "# random seed initialize\n",
        "random_seed = 1234\n",
        "random.seed(random_seed)\n",
        "np.random.seed(random_seed)\n",
        "tf.random.set_seed(random_seed)"
      ],
      "execution_count": 4,
      "outputs": []
    },
    {
      "cell_type": "code",
      "metadata": {
        "id": "BC3fXkhdYcYt",
        "colab": {
          "base_uri": "https://localhost:8080/"
        },
        "outputId": "6a1bd880-412c-4416-c4ea-a1eb4ad1b813"
      },
      "source": [
        "!nvidia-smi"
      ],
      "execution_count": 5,
      "outputs": [
        {
          "output_type": "stream",
          "text": [
            "Thu Feb  4 20:34:41 2021       \n",
            "+-----------------------------------------------------------------------------+\n",
            "| NVIDIA-SMI 460.39       Driver Version: 418.67       CUDA Version: 10.1     |\n",
            "|-------------------------------+----------------------+----------------------+\n",
            "| GPU  Name        Persistence-M| Bus-Id        Disp.A | Volatile Uncorr. ECC |\n",
            "| Fan  Temp  Perf  Pwr:Usage/Cap|         Memory-Usage | GPU-Util  Compute M. |\n",
            "|                               |                      |               MIG M. |\n",
            "|===============================+======================+======================|\n",
            "|   0  Tesla T4            Off  | 00000000:00:04.0 Off |                    0 |\n",
            "| N/A   51C    P8    10W /  70W |      0MiB / 15079MiB |      0%      Default |\n",
            "|                               |                      |                 ERR! |\n",
            "+-------------------------------+----------------------+----------------------+\n",
            "                                                                               \n",
            "+-----------------------------------------------------------------------------+\n",
            "| Processes:                                                                  |\n",
            "|  GPU   GI   CI        PID   Type   Process name                  GPU Memory |\n",
            "|        ID   ID                                                   Usage      |\n",
            "|=============================================================================|\n",
            "|  No running processes found                                                 |\n",
            "+-----------------------------------------------------------------------------+\n"
          ],
          "name": "stdout"
        }
      ]
    },
    {
      "cell_type": "code",
      "metadata": {
        "id": "xVRdxYReYeQj",
        "colab": {
          "base_uri": "https://localhost:8080/"
        },
        "outputId": "55c091f8-8b8d-481b-ffb3-645b14c67195"
      },
      "source": [
        "# google drive mount\n",
        "from google.colab import drive\n",
        "drive.mount('/content/drive')"
      ],
      "execution_count": 6,
      "outputs": [
        {
          "output_type": "stream",
          "text": [
            "Mounted at /content/drive\n"
          ],
          "name": "stdout"
        }
      ]
    },
    {
      "cell_type": "code",
      "metadata": {
        "id": "byCIiLJBbFHh",
        "colab": {
          "base_uri": "https://localhost:8080/"
        },
        "outputId": "041213e0-f9be-4822-d85d-adf9c78b4d42"
      },
      "source": [
        "# data dir\n",
        "data_dir = '/content/drive/MyDrive/AI집중캠프(자연어처리)/실습/data'\n",
        "os.listdir(data_dir)"
      ],
      "execution_count": 7,
      "outputs": [
        {
          "output_type": "execute_result",
          "data": {
            "text/plain": [
              "['ko_32000.model', 'ko_32000.vocab', 'kowiki', 'nsmc', 'quora', 'songys']"
            ]
          },
          "metadata": {
            "tags": []
          },
          "execution_count": 7
        }
      ]
    },
    {
      "cell_type": "code",
      "metadata": {
        "id": "_Ru56YS3-SME",
        "colab": {
          "base_uri": "https://localhost:8080/"
        },
        "outputId": "67986e4d-692a-4710-f0d4-79673bd69eaa"
      },
      "source": [
        "# nsmc dir\n",
        "nsmc_dir = os.path.join(data_dir, 'nsmc')\n",
        "if not os.path.exists(nsmc_dir):\n",
        "    os.makedirs(nsmc_dir)\n",
        "os.listdir(nsmc_dir)"
      ],
      "execution_count": 8,
      "outputs": [
        {
          "output_type": "execute_result",
          "data": {
            "text/plain": [
              "['ratings_train.txt', 'ratings_test.txt', 'stub.hdf5', 'stub.csv']"
            ]
          },
          "metadata": {
            "tags": []
          },
          "execution_count": 8
        }
      ]
    },
    {
      "cell_type": "markdown",
      "metadata": {
        "id": "XwriCkq_R1Lc"
      },
      "source": [
        "# Vocabulary & config"
      ]
    },
    {
      "cell_type": "code",
      "metadata": {
        "id": "2H0BLydCb7lg",
        "colab": {
          "base_uri": "https://localhost:8080/"
        },
        "outputId": "88f657f8-acc5-4a4f-fe2d-b88752b0afce"
      },
      "source": [
        "# vocab loading\n",
        "vocab = spm.SentencePieceProcessor()\n",
        "vocab.load(os.path.join(data_dir, 'ko_32000.model'))"
      ],
      "execution_count": 9,
      "outputs": [
        {
          "output_type": "execute_result",
          "data": {
            "text/plain": [
              "True"
            ]
          },
          "metadata": {
            "tags": []
          },
          "execution_count": 9
        }
      ]
    },
    {
      "cell_type": "code",
      "metadata": {
        "id": "0ETZ19flTRmt"
      },
      "source": [
        "n_vocab = len(vocab)  # number of vocabulary\n",
        "n_seq = 47  # number of sequence\n",
        "d_model = 256  # dimension of model\n",
        "n_out = 2  # number of output class"
      ],
      "execution_count": 10,
      "outputs": []
    },
    {
      "cell_type": "markdown",
      "metadata": {
        "id": "3myBX8hNEH1u"
      },
      "source": [
        "# 모델링"
      ]
    },
    {
      "cell_type": "code",
      "metadata": {
        "id": "8rjAsQCvXdWs"
      },
      "source": [
        "# 입력 문장\n",
        "sentences = [\n",
        "    '나는 오늘 기분이 좋아',\n",
        "    '나는 오늘 우울해'\n",
        "]\n",
        "\n",
        "# 출력 정답\n",
        "labels = [1, 0]  # 긍정(1), 부정(0)"
      ],
      "execution_count": 11,
      "outputs": []
    },
    {
      "cell_type": "code",
      "metadata": {
        "id": "KCDH28KuXezp",
        "colab": {
          "base_uri": "https://localhost:8080/"
        },
        "outputId": "5984a4d0-f926-4178-b84d-07116d93e3ff"
      },
      "source": [
        "# 각 문장을 띄어쓰기 단위로 분할\n",
        "words = []\n",
        "for sentence in sentences:\n",
        "    words.extend(sentence.split())\n",
        "\n",
        "# 중복 단어 제거\n",
        "words = list(dict.fromkeys(words))\n",
        "\n",
        "# 각 단어별 고유한 번호 부여\n",
        "word_to_id = {'[PAD]': 0, '[UNK]': 1}\n",
        "for word in words:\n",
        "    word_to_id[word] = len(word_to_id)\n",
        "\n",
        "# 각 숫자별 단어 부여\n",
        "id_to_word = {_id:word for word, _id in word_to_id.items()}\n",
        "\n",
        "word_to_id, id_to_word"
      ],
      "execution_count": 12,
      "outputs": [
        {
          "output_type": "execute_result",
          "data": {
            "text/plain": [
              "({'[PAD]': 0, '[UNK]': 1, '기분이': 4, '나는': 2, '오늘': 3, '우울해': 6, '좋아': 5},\n",
              " {0: '[PAD]', 1: '[UNK]', 2: '나는', 3: '오늘', 4: '기분이', 5: '좋아', 6: '우울해'})"
            ]
          },
          "metadata": {
            "tags": []
          },
          "execution_count": 12
        }
      ]
    },
    {
      "cell_type": "code",
      "metadata": {
        "id": "DH2inxJHX7xZ",
        "colab": {
          "base_uri": "https://localhost:8080/"
        },
        "outputId": "9288eb8d-3fd0-4b01-c0f5-c17abd0f33d1"
      },
      "source": [
        "# 학습용 입력 데이터 생성\n",
        "train_inputs = []\n",
        "for sentence in sentences:\n",
        "    train_inputs.append([word_to_id[word] for word in sentence.split()])\n",
        "\n",
        "# train label\n",
        "train_labels = labels\n",
        "\n",
        "# 문장의 길이를 모두 동일하게 변경 (최대길이 4)\n",
        "for row in train_inputs:\n",
        "    row += [0] * (4 - len(row))\n",
        "\n",
        "# train inputs을 numpy array로 변환\n",
        "train_inputs = np.array(train_inputs)\n",
        "\n",
        "# 학습용 정답을 numpy array로 변환\n",
        "train_labels = np.array(train_labels)\n",
        "\n",
        "train_inputs, train_labels"
      ],
      "execution_count": 13,
      "outputs": [
        {
          "output_type": "execute_result",
          "data": {
            "text/plain": [
              "(array([[2, 3, 4, 5],\n",
              "        [2, 3, 6, 0]]), array([1, 0]))"
            ]
          },
          "metadata": {
            "tags": []
          },
          "execution_count": 13
        }
      ]
    },
    {
      "cell_type": "code",
      "metadata": {
        "id": "A6HpBlZTYQ3I",
        "colab": {
          "base_uri": "https://localhost:8080/"
        },
        "outputId": "bd39db07-d7b1-44bd-a61b-aa3fecd967a0"
      },
      "source": [
        "# 입력 단어를 vector로 변환\n",
        "embedding = tf.keras.layers.Embedding(len(word_to_id), 5)\n",
        "hidden = embedding(train_inputs)\n",
        "hidden"
      ],
      "execution_count": 14,
      "outputs": [
        {
          "output_type": "execute_result",
          "data": {
            "text/plain": [
              "<tf.Tensor: shape=(2, 4, 5), dtype=float32, numpy=\n",
              "array([[[ 0.02688133, -0.00167429,  0.00873896, -0.04772998,\n",
              "         -0.00643448],\n",
              "        [ 0.04782395,  0.04810704, -0.03535189,  0.04945729,\n",
              "          0.02813626],\n",
              "        [-0.02798697, -0.00110071,  0.0133124 ,  0.00637371,\n",
              "         -0.00963336],\n",
              "        [-0.01013004,  0.01826939,  0.02741292, -0.00544795,\n",
              "         -0.04431503]],\n",
              "\n",
              "       [[ 0.02688133, -0.00167429,  0.00873896, -0.04772998,\n",
              "         -0.00643448],\n",
              "        [ 0.04782395,  0.04810704, -0.03535189,  0.04945729,\n",
              "          0.02813626],\n",
              "        [-0.02540476, -0.0194685 , -0.01826397, -0.03069841,\n",
              "          0.03251565],\n",
              "        [ 0.00380393, -0.01353813,  0.00816301, -0.02561716,\n",
              "         -0.00696643]]], dtype=float32)>"
            ]
          },
          "metadata": {
            "tags": []
          },
          "execution_count": 14
        }
      ]
    },
    {
      "cell_type": "code",
      "metadata": {
        "id": "gJQxuhrjYYOQ",
        "colab": {
          "base_uri": "https://localhost:8080/"
        },
        "outputId": "bfbc1934-2b1d-47f8-917e-01287d882417"
      },
      "source": [
        "# 각 단어 벡터의 최대값 기준으로 벡터를 더해서 차원을 줄여줌 (문장 vector 생성)\n",
        "pool = tf.keras.layers.GlobalMaxPool1D()\n",
        "hidden_pool = pool(hidden)\n",
        "hidden_pool"
      ],
      "execution_count": 15,
      "outputs": [
        {
          "output_type": "execute_result",
          "data": {
            "text/plain": [
              "<tf.Tensor: shape=(2, 5), dtype=float32, numpy=\n",
              "array([[0.04782395, 0.04810704, 0.02741292, 0.04945729, 0.02813626],\n",
              "       [0.04782395, 0.04810704, 0.00873896, 0.04945729, 0.03251565]],\n",
              "      dtype=float32)>"
            ]
          },
          "metadata": {
            "tags": []
          },
          "execution_count": 15
        }
      ]
    },
    {
      "cell_type": "code",
      "metadata": {
        "id": "hGp_yBpBYbO5",
        "colab": {
          "base_uri": "https://localhost:8080/"
        },
        "outputId": "9c1a8752-59b6-4ebd-e353-fa9203c4ed90"
      },
      "source": [
        "# 문장 vector를 이용해서 긍정(1), 부정(0) 확률값 예측\n",
        "linear = tf.keras.layers.Dense(2, activation=tf.nn.softmax)\n",
        "outputs = linear(hidden_pool)\n",
        "outputs"
      ],
      "execution_count": 16,
      "outputs": [
        {
          "output_type": "execute_result",
          "data": {
            "text/plain": [
              "<tf.Tensor: shape=(2, 2), dtype=float32, numpy=\n",
              "array([[0.5086928 , 0.49130723],\n",
              "       [0.5060627 , 0.49393737]], dtype=float32)>"
            ]
          },
          "metadata": {
            "tags": []
          },
          "execution_count": 16
        }
      ]
    },
    {
      "cell_type": "code",
      "metadata": {
        "id": "io90dwYpYeg0",
        "colab": {
          "base_uri": "https://localhost:8080/"
        },
        "outputId": "ec2b2fb9-fa30-4f70-fb4c-1b32ddc45395"
      },
      "source": [
        "# 예측을 위한 wegiths\n",
        "weight, bias = linear.get_weights()\n",
        "weight, bias"
      ],
      "execution_count": 17,
      "outputs": [
        {
          "output_type": "execute_result",
          "data": {
            "text/plain": [
              "(array([[-0.32336175, -0.66899645],\n",
              "        [ 0.27413416, -0.36288744],\n",
              "        [-0.3022557 , -0.68477273],\n",
              "        [ 0.38106263,  0.40476227],\n",
              "        [-0.20340782,  0.56833684]], dtype=float32),\n",
              " array([0., 0.], dtype=float32))"
            ]
          },
          "metadata": {
            "tags": []
          },
          "execution_count": 17
        }
      ]
    },
    {
      "cell_type": "code",
      "metadata": {
        "id": "SobekkcjEX_P"
      },
      "source": [
        "def build_model(n_vocab, d_model, n_seq, n_out):\n",
        "    \"\"\"\n",
        "    문장의 감정분류 모델\n",
        "    :param n_vocab: vocabulary 단어 수\n",
        "    :param d_model: 단어를 의미하는 벡터의 차원 수\n",
        "    :param n_seq: 문장길이 (단어 수)\n",
        "    :param n_out: 예측할 class 개수\n",
        "    \"\"\"\n",
        "    inputs = tf.keras.layers.Input((n_seq,))  # (bs, n_seq)\n",
        "    ######################################################\n",
        "    # 입력 단어를 vector로 변환\n",
        "    embedding = tf.keras.layers.Embedding(n_vocab, d_model)\n",
        "    hidden = embedding(inputs)  # (bs, n_seq, d_model)\n",
        "\n",
        "    # RNN, CNN, Dense\n",
        "\n",
        "    # 각 단어 벡터의 최대값 기준으로 벡터를 더해서 차원을 줄여줌 (문장 vector 생성)\n",
        "    pool = tf.keras.layers.GlobalMaxPool1D()\n",
        "    hidden_pool = pool(hidden)  # (bs, d_model)\n",
        "\n",
        "    # 문장 vector를 이용해서 긍정(1), 부정(0) 확률값 예측\n",
        "    linear = tf.keras.layers.Dense(n_out, activation=tf.nn.softmax)\n",
        "    outputs = linear(hidden_pool)  # (bs, n_out)\n",
        "    ######################################################\n",
        "    # 학습할 모델 선언\n",
        "    model = tf.keras.Model(inputs=inputs, outputs=outputs)\n",
        "    return model"
      ],
      "execution_count": 18,
      "outputs": []
    },
    {
      "cell_type": "code",
      "metadata": {
        "id": "72cRi9zUEeqG",
        "colab": {
          "base_uri": "https://localhost:8080/",
          "height": 422
        },
        "outputId": "66e74ba9-9cc0-405c-a2e1-57b45f13a5d9"
      },
      "source": [
        "# 모델 생성\n",
        "model = build_model(len(word_to_id), 8, 4, 2)\n",
        "# 모델 내용 그래프 출력\n",
        "tf.keras.utils.plot_model(model, 'model.png', show_shapes=True)"
      ],
      "execution_count": 19,
      "outputs": [
        {
          "output_type": "execute_result",
          "data": {
            "image/png": "[encoded data removed]",
            "text/plain": [
              "<IPython.core.display.Image object>"
            ]
          },
          "metadata": {
            "tags": []
          },
          "execution_count": 19
        }
      ]
    },
    {
      "cell_type": "code",
      "metadata": {
        "id": "WMglscMHeOGd",
        "colab": {
          "base_uri": "https://localhost:8080/"
        },
        "outputId": "5baf41cb-76c6-4d89-9f2a-f7dc5beb40c2"
      },
      "source": [
        "model.predict(train_inputs)"
      ],
      "execution_count": 20,
      "outputs": [
        {
          "output_type": "execute_result",
          "data": {
            "text/plain": [
              "array([[0.5118376 , 0.48816237],\n",
              "       [0.5159177 , 0.48408228]], dtype=float32)"
            ]
          },
          "metadata": {
            "tags": []
          },
          "execution_count": 20
        }
      ]
    },
    {
      "cell_type": "markdown",
      "metadata": {
        "id": "fsRvlzDzSX9e"
      },
      "source": [
        "# 다운로드\n",
        "- https://github.com/e9t/nsmc"
      ]
    },
    {
      "cell_type": "code",
      "metadata": {
        "id": "BEBQj0AFSXOH",
        "colab": {
          "base_uri": "https://localhost:8080/"
        },
        "outputId": "27942464-787a-4fc9-8fba-aa008df705fd"
      },
      "source": [
        "!wget https://github.com/e9t/nsmc/raw/master/ratings_train.txt\n",
        "!wget https://github.com/e9t/nsmc/raw/master/ratings_test.txt"
      ],
      "execution_count": 21,
      "outputs": [
        {
          "output_type": "stream",
          "text": [
            "--2021-02-04 20:35:20--  https://github.com/e9t/nsmc/raw/master/ratings_train.txt\n",
            "Resolving github.com (github.com)... 192.30.255.112\n",
            "Connecting to github.com (github.com)|192.30.255.112|:443... connected.\n",
            "HTTP request sent, awaiting response... 302 Found\n",
            "Location: https://raw.githubusercontent.com/e9t/nsmc/master/ratings_train.txt [following]\n",
            "--2021-02-04 20:35:20--  https://raw.githubusercontent.com/e9t/nsmc/master/ratings_train.txt\n",
            "Resolving raw.githubusercontent.com (raw.githubusercontent.com)... 151.101.0.133, 151.101.64.133, 151.101.128.133, ...\n",
            "Connecting to raw.githubusercontent.com (raw.githubusercontent.com)|151.101.0.133|:443... connected.\n",
            "HTTP request sent, awaiting response... 200 OK\n",
            "Length: 14628807 (14M) [text/plain]\n",
            "Saving to: ‘ratings_train.txt’\n",
            "\n",
            "ratings_train.txt   100%[===================>]  13.95M  61.1MB/s    in 0.2s    \n",
            "\n",
            "2021-02-04 20:35:21 (61.1 MB/s) - ‘ratings_train.txt’ saved [14628807/14628807]\n",
            "\n",
            "--2021-02-04 20:35:21--  https://github.com/e9t/nsmc/raw/master/ratings_test.txt\n",
            "Resolving github.com (github.com)... 192.30.255.112\n",
            "Connecting to github.com (github.com)|192.30.255.112|:443... connected.\n",
            "HTTP request sent, awaiting response... 302 Found\n",
            "Location: https://raw.githubusercontent.com/e9t/nsmc/master/ratings_test.txt [following]\n",
            "--2021-02-04 20:35:22--  https://raw.githubusercontent.com/e9t/nsmc/master/ratings_test.txt\n",
            "Resolving raw.githubusercontent.com (raw.githubusercontent.com)... 151.101.0.133, 151.101.64.133, 151.101.128.133, ...\n",
            "Connecting to raw.githubusercontent.com (raw.githubusercontent.com)|151.101.0.133|:443... connected.\n",
            "HTTP request sent, awaiting response... 200 OK\n",
            "Length: 4893335 (4.7M) [text/plain]\n",
            "Saving to: ‘ratings_test.txt’\n",
            "\n",
            "ratings_test.txt    100%[===================>]   4.67M  --.-KB/s    in 0.1s    \n",
            "\n",
            "2021-02-04 20:35:23 (35.2 MB/s) - ‘ratings_test.txt’ saved [4893335/4893335]\n",
            "\n"
          ],
          "name": "stdout"
        }
      ]
    },
    {
      "cell_type": "code",
      "metadata": {
        "id": "_L3k4qr5SaVb",
        "colab": {
          "base_uri": "https://localhost:8080/"
        },
        "outputId": "d5500bfe-87a5-4476-d12e-822015187b6f"
      },
      "source": [
        "shutil.move('ratings_train.txt', os.path.join(nsmc_dir, 'ratings_train.txt'))\n",
        "shutil.move('ratings_test.txt', os.path.join(nsmc_dir, 'ratings_test.txt'))\n",
        "os.listdir(nsmc_dir)"
      ],
      "execution_count": 22,
      "outputs": [
        {
          "output_type": "execute_result",
          "data": {
            "text/plain": [
              "['ratings_train.txt', 'ratings_test.txt', 'stub.hdf5', 'stub.csv']"
            ]
          },
          "metadata": {
            "tags": []
          },
          "execution_count": 22
        }
      ]
    },
    {
      "cell_type": "markdown",
      "metadata": {
        "id": "MXrWvdLuhVIu"
      },
      "source": [
        "# 데이터 분석"
      ]
    },
    {
      "cell_type": "code",
      "metadata": {
        "id": "MhP07wT3hXoN",
        "colab": {
          "base_uri": "https://localhost:8080/",
          "height": 391
        },
        "outputId": "ff4c4d5b-c899-40bc-b4c7-79da0ccefba5"
      },
      "source": [
        "# train data load\n",
        "df_train = pd.read_csv(os.path.join(nsmc_dir, 'ratings_train.txt'), delimiter='\\t')\n",
        "df_train"
      ],
      "execution_count": 23,
      "outputs": [
        {
          "output_type": "execute_result",
          "data": {
            "text/html": [
              "<div>\n",
              "<style scoped>\n",
              "    .dataframe tbody tr th:only-of-type {\n",
              "        vertical-align: middle;\n",
              "    }\n",
              "\n",
              "    .dataframe tbody tr th {\n",
              "        vertical-align: top;\n",
              "    }\n",
              "\n",
              "    .dataframe thead th {\n",
              "        text-align: right;\n",
              "    }\n",
              "</style>\n",
              "<table border=\"1\" class=\"dataframe\">\n",
              "  <thead>\n",
              "    <tr style=\"text-align: right;\">\n",
              "      <th></th>\n",
              "      <th>id</th>\n",
              "      <th>document</th>\n",
              "      <th>label</th>\n",
              "    </tr>\n",
              "  </thead>\n",
              "  <tbody>\n",
              "    <tr>\n",
              "      <th>0</th>\n",
              "      <td>9976970</td>\n",
              "      <td>아 더빙.. 진짜 짜증나네요 목소리</td>\n",
              "      <td>0</td>\n",
              "    </tr>\n",
              "    <tr>\n",
              "      <th>1</th>\n",
              "      <td>3819312</td>\n",
              "      <td>흠...포스터보고 초딩영화줄....오버연기조차 가볍지 않구나</td>\n",
              "      <td>1</td>\n",
              "    </tr>\n",
              "    <tr>\n",
              "      <th>2</th>\n",
              "      <td>10265843</td>\n",
              "      <td>너무재밓었다그래서보는것을추천한다</td>\n",
              "      <td>0</td>\n",
              "    </tr>\n",
              "    <tr>\n",
              "      <th>3</th>\n",
              "      <td>9045019</td>\n",
              "      <td>교도소 이야기구먼 ..솔직히 재미는 없다..평점 조정</td>\n",
              "      <td>0</td>\n",
              "    </tr>\n",
              "    <tr>\n",
              "      <th>4</th>\n",
              "      <td>6483659</td>\n",
              "      <td>사이몬페그의 익살스런 연기가 돋보였던 영화!스파이더맨에서 늙어보이기만 했던 커스틴 ...</td>\n",
              "      <td>1</td>\n",
              "    </tr>\n",
              "    <tr>\n",
              "      <th>...</th>\n",
              "      <td>...</td>\n",
              "      <td>...</td>\n",
              "      <td>...</td>\n",
              "    </tr>\n",
              "    <tr>\n",
              "      <th>149995</th>\n",
              "      <td>6222902</td>\n",
              "      <td>인간이 문제지.. 소는 뭔죄인가..</td>\n",
              "      <td>0</td>\n",
              "    </tr>\n",
              "    <tr>\n",
              "      <th>149996</th>\n",
              "      <td>8549745</td>\n",
              "      <td>평점이 너무 낮아서...</td>\n",
              "      <td>1</td>\n",
              "    </tr>\n",
              "    <tr>\n",
              "      <th>149997</th>\n",
              "      <td>9311800</td>\n",
              "      <td>이게 뭐요? 한국인은 거들먹거리고 필리핀 혼혈은 착하다?</td>\n",
              "      <td>0</td>\n",
              "    </tr>\n",
              "    <tr>\n",
              "      <th>149998</th>\n",
              "      <td>2376369</td>\n",
              "      <td>청춘 영화의 최고봉.방황과 우울했던 날들의 자화상</td>\n",
              "      <td>1</td>\n",
              "    </tr>\n",
              "    <tr>\n",
              "      <th>149999</th>\n",
              "      <td>9619869</td>\n",
              "      <td>한국 영화 최초로 수간하는 내용이 담긴 영화</td>\n",
              "      <td>0</td>\n",
              "    </tr>\n",
              "  </tbody>\n",
              "</table>\n",
              "<p>150000 rows × 3 columns</p>\n",
              "</div>"
            ],
            "text/plain": [
              "              id                                           document  label\n",
              "0        9976970                                아 더빙.. 진짜 짜증나네요 목소리      0\n",
              "1        3819312                  흠...포스터보고 초딩영화줄....오버연기조차 가볍지 않구나      1\n",
              "2       10265843                                  너무재밓었다그래서보는것을추천한다      0\n",
              "3        9045019                      교도소 이야기구먼 ..솔직히 재미는 없다..평점 조정      0\n",
              "4        6483659  사이몬페그의 익살스런 연기가 돋보였던 영화!스파이더맨에서 늙어보이기만 했던 커스틴 ...      1\n",
              "...          ...                                                ...    ...\n",
              "149995   6222902                                인간이 문제지.. 소는 뭔죄인가..      0\n",
              "149996   8549745                                      평점이 너무 낮아서...      1\n",
              "149997   9311800                    이게 뭐요? 한국인은 거들먹거리고 필리핀 혼혈은 착하다?      0\n",
              "149998   2376369                        청춘 영화의 최고봉.방황과 우울했던 날들의 자화상      1\n",
              "149999   9619869                           한국 영화 최초로 수간하는 내용이 담긴 영화      0\n",
              "\n",
              "[150000 rows x 3 columns]"
            ]
          },
          "metadata": {
            "tags": []
          },
          "execution_count": 23
        }
      ]
    },
    {
      "cell_type": "code",
      "metadata": {
        "id": "f0aL5Ve6iVbk",
        "colab": {
          "base_uri": "https://localhost:8080/",
          "height": 391
        },
        "outputId": "0e4749d4-18d7-4ae2-8111-a142783422d6"
      },
      "source": [
        "# train null 데이터 제거\n",
        "df_train = df_train.dropna()\n",
        "df_train"
      ],
      "execution_count": 24,
      "outputs": [
        {
          "output_type": "execute_result",
          "data": {
            "text/html": [
              "<div>\n",
              "<style scoped>\n",
              "    .dataframe tbody tr th:only-of-type {\n",
              "        vertical-align: middle;\n",
              "    }\n",
              "\n",
              "    .dataframe tbody tr th {\n",
              "        vertical-align: top;\n",
              "    }\n",
              "\n",
              "    .dataframe thead th {\n",
              "        text-align: right;\n",
              "    }\n",
              "</style>\n",
              "<table border=\"1\" class=\"dataframe\">\n",
              "  <thead>\n",
              "    <tr style=\"text-align: right;\">\n",
              "      <th></th>\n",
              "      <th>id</th>\n",
              "      <th>document</th>\n",
              "      <th>label</th>\n",
              "    </tr>\n",
              "  </thead>\n",
              "  <tbody>\n",
              "    <tr>\n",
              "      <th>0</th>\n",
              "      <td>9976970</td>\n",
              "      <td>아 더빙.. 진짜 짜증나네요 목소리</td>\n",
              "      <td>0</td>\n",
              "    </tr>\n",
              "    <tr>\n",
              "      <th>1</th>\n",
              "      <td>3819312</td>\n",
              "      <td>흠...포스터보고 초딩영화줄....오버연기조차 가볍지 않구나</td>\n",
              "      <td>1</td>\n",
              "    </tr>\n",
              "    <tr>\n",
              "      <th>2</th>\n",
              "      <td>10265843</td>\n",
              "      <td>너무재밓었다그래서보는것을추천한다</td>\n",
              "      <td>0</td>\n",
              "    </tr>\n",
              "    <tr>\n",
              "      <th>3</th>\n",
              "      <td>9045019</td>\n",
              "      <td>교도소 이야기구먼 ..솔직히 재미는 없다..평점 조정</td>\n",
              "      <td>0</td>\n",
              "    </tr>\n",
              "    <tr>\n",
              "      <th>4</th>\n",
              "      <td>6483659</td>\n",
              "      <td>사이몬페그의 익살스런 연기가 돋보였던 영화!스파이더맨에서 늙어보이기만 했던 커스틴 ...</td>\n",
              "      <td>1</td>\n",
              "    </tr>\n",
              "    <tr>\n",
              "      <th>...</th>\n",
              "      <td>...</td>\n",
              "      <td>...</td>\n",
              "      <td>...</td>\n",
              "    </tr>\n",
              "    <tr>\n",
              "      <th>149995</th>\n",
              "      <td>6222902</td>\n",
              "      <td>인간이 문제지.. 소는 뭔죄인가..</td>\n",
              "      <td>0</td>\n",
              "    </tr>\n",
              "    <tr>\n",
              "      <th>149996</th>\n",
              "      <td>8549745</td>\n",
              "      <td>평점이 너무 낮아서...</td>\n",
              "      <td>1</td>\n",
              "    </tr>\n",
              "    <tr>\n",
              "      <th>149997</th>\n",
              "      <td>9311800</td>\n",
              "      <td>이게 뭐요? 한국인은 거들먹거리고 필리핀 혼혈은 착하다?</td>\n",
              "      <td>0</td>\n",
              "    </tr>\n",
              "    <tr>\n",
              "      <th>149998</th>\n",
              "      <td>2376369</td>\n",
              "      <td>청춘 영화의 최고봉.방황과 우울했던 날들의 자화상</td>\n",
              "      <td>1</td>\n",
              "    </tr>\n",
              "    <tr>\n",
              "      <th>149999</th>\n",
              "      <td>9619869</td>\n",
              "      <td>한국 영화 최초로 수간하는 내용이 담긴 영화</td>\n",
              "      <td>0</td>\n",
              "    </tr>\n",
              "  </tbody>\n",
              "</table>\n",
              "<p>149995 rows × 3 columns</p>\n",
              "</div>"
            ],
            "text/plain": [
              "              id                                           document  label\n",
              "0        9976970                                아 더빙.. 진짜 짜증나네요 목소리      0\n",
              "1        3819312                  흠...포스터보고 초딩영화줄....오버연기조차 가볍지 않구나      1\n",
              "2       10265843                                  너무재밓었다그래서보는것을추천한다      0\n",
              "3        9045019                      교도소 이야기구먼 ..솔직히 재미는 없다..평점 조정      0\n",
              "4        6483659  사이몬페그의 익살스런 연기가 돋보였던 영화!스파이더맨에서 늙어보이기만 했던 커스틴 ...      1\n",
              "...          ...                                                ...    ...\n",
              "149995   6222902                                인간이 문제지.. 소는 뭔죄인가..      0\n",
              "149996   8549745                                      평점이 너무 낮아서...      1\n",
              "149997   9311800                    이게 뭐요? 한국인은 거들먹거리고 필리핀 혼혈은 착하다?      0\n",
              "149998   2376369                        청춘 영화의 최고봉.방황과 우울했던 날들의 자화상      1\n",
              "149999   9619869                           한국 영화 최초로 수간하는 내용이 담긴 영화      0\n",
              "\n",
              "[149995 rows x 3 columns]"
            ]
          },
          "metadata": {
            "tags": []
          },
          "execution_count": 24
        }
      ]
    },
    {
      "cell_type": "markdown",
      "metadata": {
        "id": "iCtHjN1jiPBl"
      },
      "source": [
        "## Char"
      ]
    },
    {
      "cell_type": "code",
      "metadata": {
        "id": "WHtRNTBoiOck",
        "colab": {
          "base_uri": "https://localhost:8080/"
        },
        "outputId": "83f8698e-7a43-4730-d4a2-428aef2f72a5"
      },
      "source": [
        "# char 길이 데이터\n",
        "char_len = df_train[\"document\"].astype(\"str\").apply(len)\n",
        "char_len.head(10)"
      ],
      "execution_count": 25,
      "outputs": [
        {
          "output_type": "execute_result",
          "data": {
            "text/plain": [
              "0    19\n",
              "1    33\n",
              "2    17\n",
              "3    29\n",
              "4    61\n",
              "5    45\n",
              "6    21\n",
              "7    86\n",
              "8    22\n",
              "9    45\n",
              "Name: document, dtype: int64"
            ]
          },
          "metadata": {
            "tags": []
          },
          "execution_count": 25
        }
      ]
    },
    {
      "cell_type": "code",
      "metadata": {
        "id": "1hFnO7mOikBU",
        "colab": {
          "base_uri": "https://localhost:8080/",
          "height": 327
        },
        "outputId": "fed2181f-ff84-44a6-cdb8-cbb9b5e9f09d"
      },
      "source": [
        "# 그래프에 대한 이미지 사이즈 선언\n",
        "# figsize: (가로, 세로) 형태의 튜플로 입력\n",
        "plt.figure(figsize=(8, 4))\n",
        "# histogram 선언\n",
        "# bins: 히스토그램 값들에 대한 버켓 범위, \n",
        "# range: x축 값의 범위\n",
        "# facecolor: 그래프 색상\n",
        "# label: 그래프에 대한 라벨\n",
        "plt.hist(char_len, bins=200, range=[0, 200], facecolor='r', label='train')\n",
        "# 그래프 제목\n",
        "plt.title('Lengh of char')\n",
        "# 그래프 x 축 라벨\n",
        "plt.xlabel('Number of char')\n",
        "# 그래프 y 축 라벨\n",
        "plt.ylabel('Count of review')\n",
        "plt.show()"
      ],
      "execution_count": 26,
      "outputs": [
        {
          "output_type": "stream",
          "text": [
            "findfont: Font family ['NanumBarunGothic'] not found. Falling back to DejaVu Sans.\n",
            "findfont: Font family ['NanumBarunGothic'] not found. Falling back to DejaVu Sans.\n"
          ],
          "name": "stderr"
        },
        {
          "output_type": "display_data",
          "data": {
            "image/png": "[encoded data removed]",
            "text/plain": [
              "<Figure size 576x288 with 1 Axes>"
            ]
          },
          "metadata": {
            "tags": [],
            "needs_background": "light"
          }
        }
      ]
    },
    {
      "cell_type": "code",
      "metadata": {
        "id": "sOyYWAgWipKs",
        "colab": {
          "base_uri": "https://localhost:8080/"
        },
        "outputId": "5c1dd682-a8e5-4627-c31f-a573df6885b0"
      },
      "source": [
        "# 데이터 길이\n",
        "print(f\"char 길이 최대:    {np.max(char_len):4d}\")\n",
        "print(f\"char 길이 최소:    {np.min(char_len):4d}\")\n",
        "print(f\"char 길이 평균:    {np.mean(char_len):7.2f}\")\n",
        "print(f\"char 길이 표준편차: {np.std(char_len):7.2f}\")\n",
        "# https://ko.wikipedia.org/wiki/%EB%B0%B1%EB%B6%84%EC%9C%84%EC%88%98\n",
        "# 백분위수(Percentile)는 크기가 있는 값들로 이뤄진 자료를 순서대로 나열했을 때 백분율로 나타낸 특정 위치의 값을 이르는 용어이다.\n",
        "# 일반적으로 크기가 작은 것부터 나열하여 가장 작은 것을 0, 가장 큰 것을 100으로 한다.\n",
        "# 100개의 값을 가진 어떤 자료의 20 백분위수는 그 자료의 값들 중 20번째로 작은 값을 뜻한다. 50 백분위수는 중앙값과 같다.\n",
        "percentile25 = np.percentile(char_len, 25)\n",
        "percentile50 = np.percentile(char_len, 50)\n",
        "percentile75 = np.percentile(char_len, 75)\n",
        "percentileIQR = percentile75 - percentile25\n",
        "percentileMAX = percentile75 + percentileIQR * 1.5\n",
        "print(f\"char 25/100분위:  {percentile25:7.2f}\")\n",
        "print(f\"char 50/100분위:  {percentile50:7.2f}\")\n",
        "print(f\"char 75/100분위:  {percentile75:7.2f}\")\n",
        "print(f\"char IQR:        {percentileIQR:7.2f}\")\n",
        "print(f\"char MAX/100분위: {percentileMAX:7.2f}\")"
      ],
      "execution_count": 27,
      "outputs": [
        {
          "output_type": "stream",
          "text": [
            "char 길이 최대:     146\n",
            "char 길이 최소:       1\n",
            "char 길이 평균:      35.20\n",
            "char 길이 표준편차:   29.53\n",
            "char 25/100분위:    16.00\n",
            "char 50/100분위:    27.00\n",
            "char 75/100분위:    42.00\n",
            "char IQR:          26.00\n",
            "char MAX/100분위:   81.00\n"
          ],
          "name": "stdout"
        }
      ]
    },
    {
      "cell_type": "code",
      "metadata": {
        "id": "TWVI7cQNjXKZ",
        "colab": {
          "base_uri": "https://localhost:8080/",
          "height": 373
        },
        "outputId": "751c721f-c833-4a4c-ba34-96a85f462e7a"
      },
      "source": [
        "plt.figure(figsize=(4, 6))\n",
        "# 박스플롯 생성\n",
        "# 첫번째 파라메터: 여러 분포에 대한 데이터 리스트를\n",
        "# labels: 입력한 데이터에 대한 라벨\n",
        "# showmeans: 평균값을 표현\n",
        "# 참고: https://leebaro.tistory.com/entry/%EB%B0%95%EC%8A%A4-%ED%94%8C%EB%A1%AFbox-plot-%EC%84%A4%EB%AA%85\n",
        "plt.boxplot(char_len, labels=['char counts'], showmeans=True)\n",
        "plt.show()"
      ],
      "execution_count": 28,
      "outputs": [
        {
          "output_type": "display_data",
          "data": {
            "image/png": "[encoded data removed]",
            "text/plain": [
              "<Figure size 288x432 with 1 Axes>"
            ]
          },
          "metadata": {
            "tags": [],
            "needs_background": "light"
          }
        }
      ]
    },
    {
      "cell_type": "markdown",
      "metadata": {
        "id": "z5vUjpBDjvwM"
      },
      "source": [
        "## Word"
      ]
    },
    {
      "cell_type": "code",
      "metadata": {
        "id": "6H_Rp3N5jvwX",
        "colab": {
          "base_uri": "https://localhost:8080/"
        },
        "outputId": "306c052b-3004-4287-c1b2-94bd6ca041dd"
      },
      "source": [
        "# word 길이 데이터\n",
        "word_len = df_train['document'].astype(str).apply(lambda x:len(x.split(' ')))\n",
        "word_len.head(10)"
      ],
      "execution_count": 29,
      "outputs": [
        {
          "output_type": "execute_result",
          "data": {
            "text/plain": [
              "0     5\n",
              "1     4\n",
              "2     1\n",
              "3     6\n",
              "4    11\n",
              "5     8\n",
              "6     4\n",
              "7    13\n",
              "8     6\n",
              "9    10\n",
              "Name: document, dtype: int64"
            ]
          },
          "metadata": {
            "tags": []
          },
          "execution_count": 29
        }
      ]
    },
    {
      "cell_type": "code",
      "metadata": {
        "id": "P26X6GHQjvwY",
        "colab": {
          "base_uri": "https://localhost:8080/",
          "height": 295
        },
        "outputId": "4e9c2d32-ed35-40f8-d8bd-081322c7e693"
      },
      "source": [
        "# 그래프에 대한 이미지 사이즈 선언\n",
        "# figsize: (가로, 세로) 형태의 튜플로 입력\n",
        "plt.figure(figsize=(8, 4))\n",
        "# histogram 선언\n",
        "# bins: 히스토그램 값들에 대한 버켓 범위, \n",
        "# range: x축 값의 범위\n",
        "# facecolor: 그래프 색상\n",
        "# label: 그래프에 대한 라벨\n",
        "plt.hist(word_len, bins=50, range=[0, 50], facecolor='r', label='train')\n",
        "# 그래프 제목\n",
        "plt.title('Lengh of word')\n",
        "# 그래프 x 축 라벨\n",
        "plt.xlabel('Number of word')\n",
        "# 그래프 y 축 라벨\n",
        "plt.ylabel('Count of review')\n",
        "plt.show()"
      ],
      "execution_count": 30,
      "outputs": [
        {
          "output_type": "display_data",
          "data": {
            "image/png": "[encoded data removed]",
            "text/plain": [
              "<Figure size 576x288 with 1 Axes>"
            ]
          },
          "metadata": {
            "tags": [],
            "needs_background": "light"
          }
        }
      ]
    },
    {
      "cell_type": "code",
      "metadata": {
        "id": "2eW21IJ8jvwa",
        "colab": {
          "base_uri": "https://localhost:8080/"
        },
        "outputId": "f8fc8448-aa1f-48ed-a9d1-cad8066b2b4f"
      },
      "source": [
        "# 데이터 길이\n",
        "print(f\"word 길이 최대:    {np.max(word_len):4d}\")\n",
        "print(f\"word 길이 최소:    {np.min(word_len):4d}\")\n",
        "print(f\"word 길이 평균:    {np.mean(word_len):7.2f}\")\n",
        "print(f\"word 길이 표준편차: {np.std(word_len):7.2f}\")\n",
        "# https://ko.wikipedia.org/wiki/%EB%B0%B1%EB%B6%84%EC%9C%84%EC%88%98\n",
        "# 백분위수(Percentile)는 크기가 있는 값들로 이뤄진 자료를 순서대로 나열했을 때 백분율로 나타낸 특정 위치의 값을 이르는 용어이다.\n",
        "# 일반적으로 크기가 작은 것부터 나열하여 가장 작은 것을 0, 가장 큰 것을 100으로 한다.\n",
        "# 100개의 값을 가진 어떤 자료의 20 백분위수는 그 자료의 값들 중 20번째로 작은 값을 뜻한다. 50 백분위수는 중앙값과 같다.\n",
        "percentile25 = np.percentile(word_len, 25)\n",
        "percentile50 = np.percentile(word_len, 50)\n",
        "percentile75 = np.percentile(word_len, 75)\n",
        "percentileIQR = percentile75 - percentile25\n",
        "percentileMAX = percentile75 + percentileIQR * 1.5\n",
        "print(f\"word 25/100분위:  {percentile25:7.2f}\")\n",
        "print(f\"word 50/100분위:  {percentile50:7.2f}\")\n",
        "print(f\"word 75/100분위:  {percentile75:7.2f}\")\n",
        "print(f\"word IQR:        {percentileIQR:7.2f}\")\n",
        "print(f\"word MAX/100분위: {percentileMAX:7.2f}\")"
      ],
      "execution_count": 31,
      "outputs": [
        {
          "output_type": "stream",
          "text": [
            "word 길이 최대:      41\n",
            "word 길이 최소:       1\n",
            "word 길이 평균:       7.59\n",
            "word 길이 표준편차:    6.51\n",
            "word 25/100분위:     3.00\n",
            "word 50/100분위:     6.00\n",
            "word 75/100분위:     9.00\n",
            "word IQR:           6.00\n",
            "word MAX/100분위:   18.00\n"
          ],
          "name": "stdout"
        }
      ]
    },
    {
      "cell_type": "code",
      "metadata": {
        "id": "NerMTgt_jvwa",
        "colab": {
          "base_uri": "https://localhost:8080/",
          "height": 373
        },
        "outputId": "882692d5-e023-43a7-9427-1ec425617b7c"
      },
      "source": [
        "plt.figure(figsize=(4, 6))\n",
        "# 박스플롯 생성\n",
        "# 첫번째 파라메터: 여러 분포에 대한 데이터 리스트를\n",
        "# labels: 입력한 데이터에 대한 라벨\n",
        "# showmeans: 평균값을 표현\n",
        "# 참고: https://leebaro.tistory.com/entry/%EB%B0%95%EC%8A%A4-%ED%94%8C%EB%A1%AFbox-plot-%EC%84%A4%EB%AA%85\n",
        "plt.boxplot(word_len, labels=['word counts'], showmeans=True)\n",
        "plt.show()"
      ],
      "execution_count": 32,
      "outputs": [
        {
          "output_type": "display_data",
          "data": {
            "image/png": "[encoded data removed]",
            "text/plain": [
              "<Figure size 288x432 with 1 Axes>"
            ]
          },
          "metadata": {
            "tags": [],
            "needs_background": "light"
          }
        }
      ]
    },
    {
      "cell_type": "markdown",
      "metadata": {
        "id": "HH3c7rY7kbCh"
      },
      "source": [
        "## SentencePiece"
      ]
    },
    {
      "cell_type": "code",
      "metadata": {
        "id": "6cvc0ZDzkbCi",
        "colab": {
          "base_uri": "https://localhost:8080/"
        },
        "outputId": "edde4a56-0bbd-4d1d-8fa4-340f7db8591c"
      },
      "source": [
        "# word 길이 데이터\n",
        "spm_len = df_train['document'].astype(str).apply(lambda x:len(vocab.encode_as_pieces(x)))\n",
        "spm_len.head(10)"
      ],
      "execution_count": 33,
      "outputs": [
        {
          "output_type": "execute_result",
          "data": {
            "text/plain": [
              "0    11\n",
              "1    25\n",
              "2    11\n",
              "3    18\n",
              "4    38\n",
              "5    33\n",
              "6    11\n",
              "7    61\n",
              "8    10\n",
              "9    29\n",
              "Name: document, dtype: int64"
            ]
          },
          "metadata": {
            "tags": []
          },
          "execution_count": 33
        }
      ]
    },
    {
      "cell_type": "code",
      "metadata": {
        "id": "KDr_r83DkbCi",
        "colab": {
          "base_uri": "https://localhost:8080/",
          "height": 295
        },
        "outputId": "ef9544c1-b56b-4422-9990-b835b0ff1fbd"
      },
      "source": [
        "# 그래프에 대한 이미지 사이즈 선언\n",
        "# figsize: (가로, 세로) 형태의 튜플로 입력\n",
        "plt.figure(figsize=(8, 4))\n",
        "# histogram 선언\n",
        "# bins: 히스토그램 값들에 대한 버켓 범위, \n",
        "# range: x축 값의 범위\n",
        "# facecolor: 그래프 색상\n",
        "# label: 그래프에 대한 라벨\n",
        "plt.hist(spm_len, bins=110, range=[0, 110], facecolor='r', label='train')\n",
        "# 그래프 제목\n",
        "plt.title('Lengh of spm')\n",
        "# 그래프 x 축 라벨\n",
        "plt.xlabel('Number of spm')\n",
        "# 그래프 y 축 라벨\n",
        "plt.ylabel('Count of review')\n",
        "plt.show()"
      ],
      "execution_count": 34,
      "outputs": [
        {
          "output_type": "display_data",
          "data": {
            "image/png": "[encoded data removed]",
            "text/plain": [
              "<Figure size 576x288 with 1 Axes>"
            ]
          },
          "metadata": {
            "tags": [],
            "needs_background": "light"
          }
        }
      ]
    },
    {
      "cell_type": "code",
      "metadata": {
        "id": "hl9BiOWnkbCj",
        "colab": {
          "base_uri": "https://localhost:8080/"
        },
        "outputId": "a5c581e1-a2a9-4fb1-d4cc-32cf1a7f631d"
      },
      "source": [
        "# 데이터 길이\n",
        "print(f\"spm 길이 최대:    {np.max(spm_len):4d}\")\n",
        "print(f\"spm 길이 최소:    {np.min(spm_len):4d}\")\n",
        "print(f\"spm 길이 평균:    {np.mean(spm_len):7.2f}\")\n",
        "print(f\"spm 길이 표준편차: {np.std(spm_len):7.2f}\")\n",
        "# https://ko.wikipedia.org/wiki/%EB%B0%B1%EB%B6%84%EC%9C%84%EC%88%98\n",
        "# 백분위수(Percentile)는 크기가 있는 값들로 이뤄진 자료를 순서대로 나열했을 때 백분율로 나타낸 특정 위치의 값을 이르는 용어이다.\n",
        "# 일반적으로 크기가 작은 것부터 나열하여 가장 작은 것을 0, 가장 큰 것을 100으로 한다.\n",
        "# 100개의 값을 가진 어떤 자료의 20 백분위수는 그 자료의 값들 중 20번째로 작은 값을 뜻한다. 50 백분위수는 중앙값과 같다.\n",
        "percentile25 = np.percentile(spm_len, 25)\n",
        "percentile50 = np.percentile(spm_len, 50)\n",
        "percentile75 = np.percentile(spm_len, 75)\n",
        "percentileIQR = percentile75 - percentile25\n",
        "percentileMAX = percentile75 + percentileIQR * 1.5\n",
        "print(f\"spm 25/100분위:  {percentile25:7.2f}\")\n",
        "print(f\"spm 50/100분위:  {percentile50:7.2f}\")\n",
        "print(f\"spm 75/100분위:  {percentile75:7.2f}\")\n",
        "print(f\"spm IQR:        {percentileIQR:7.2f}\")\n",
        "print(f\"spm MAX/100분위: {percentileMAX:7.2f}\")"
      ],
      "execution_count": 35,
      "outputs": [
        {
          "output_type": "stream",
          "text": [
            "spm 길이 최대:     141\n",
            "spm 길이 최소:       1\n",
            "spm 길이 평균:      19.77\n",
            "spm 길이 표준편차:   15.87\n",
            "spm 25/100분위:     9.00\n",
            "spm 50/100분위:    15.00\n",
            "spm 75/100분위:    24.00\n",
            "spm IQR:          15.00\n",
            "spm MAX/100분위:   46.50\n"
          ],
          "name": "stdout"
        }
      ]
    },
    {
      "cell_type": "code",
      "metadata": {
        "id": "bhYzc3QVkbCj",
        "colab": {
          "base_uri": "https://localhost:8080/",
          "height": 373
        },
        "outputId": "3d32d083-5ad7-4551-cd5f-a550a68cc131"
      },
      "source": [
        "plt.figure(figsize=(4, 6))\n",
        "# 박스플롯 생성\n",
        "# 첫번째 파라메터: 여러 분포에 대한 데이터 리스트를\n",
        "# labels: 입력한 데이터에 대한 라벨\n",
        "# showmeans: 평균값을 표현\n",
        "# 참고: https://leebaro.tistory.com/entry/%EB%B0%95%EC%8A%A4-%ED%94%8C%EB%A1%AFbox-plot-%EC%84%A4%EB%AA%85\n",
        "plt.boxplot(spm_len, labels=['spm counts'], showmeans=True)\n",
        "plt.show()"
      ],
      "execution_count": 36,
      "outputs": [
        {
          "output_type": "display_data",
          "data": {
            "image/png": "[encoded data removed]",
            "text/plain": [
              "<Figure size 288x432 with 1 Axes>"
            ]
          },
          "metadata": {
            "tags": [],
            "needs_background": "light"
          }
        }
      ]
    },
    {
      "cell_type": "markdown",
      "metadata": {
        "id": "OMncJs1dlHLK"
      },
      "source": [
        "## Label"
      ]
    },
    {
      "cell_type": "code",
      "metadata": {
        "id": "WByhTbdjlJCQ",
        "colab": {
          "base_uri": "https://localhost:8080/"
        },
        "outputId": "e0ec89c5-3b6d-42ce-a47c-be5be9a4bc61"
      },
      "source": [
        "df_train['label'].value_counts()"
      ],
      "execution_count": 37,
      "outputs": [
        {
          "output_type": "execute_result",
          "data": {
            "text/plain": [
              "0    75170\n",
              "1    74825\n",
              "Name: label, dtype: int64"
            ]
          },
          "metadata": {
            "tags": []
          },
          "execution_count": 37
        }
      ]
    },
    {
      "cell_type": "code",
      "metadata": {
        "id": "N9bBFn-klSuw",
        "colab": {
          "base_uri": "https://localhost:8080/"
        },
        "outputId": "b0ec718a-d383-4cae-dd16-b7cba71be8dc"
      },
      "source": [
        "# label count\n",
        "print(f\"부정 리뷰 개수: {df_train['label'].value_counts()[0]}\")\n",
        "print(f\"긍정 리뷰 개수: {df_train['label'].value_counts()[1]}\")"
      ],
      "execution_count": 38,
      "outputs": [
        {
          "output_type": "stream",
          "text": [
            "부정 리뷰 개수: 75170\n",
            "긍정 리뷰 개수: 74825\n"
          ],
          "name": "stdout"
        }
      ]
    },
    {
      "cell_type": "code",
      "metadata": {
        "id": "pfZqqRG_lYwh",
        "colab": {
          "base_uri": "https://localhost:8080/",
          "height": 386
        },
        "outputId": "e692387d-fb70-46b0-eb7e-c77f69e06287"
      },
      "source": [
        "# label counter plot\n",
        "fig, axe = plt.subplots(ncols=1)\n",
        "fig.set_size_inches(6, 5)\n",
        "# https://seaborn.pydata.org/\n",
        "subplt = sns.countplot(df_train['label'])"
      ],
      "execution_count": 39,
      "outputs": [
        {
          "output_type": "stream",
          "text": [
            "/usr/local/lib/python3.6/dist-packages/seaborn/_decorators.py:43: FutureWarning: Pass the following variable as a keyword arg: x. From version 0.12, the only valid positional argument will be `data`, and passing other arguments without an explicit keyword will result in an error or misinterpretation.\n",
            "  FutureWarning\n"
          ],
          "name": "stderr"
        },
        {
          "output_type": "display_data",
          "data": {
            "image/png": "[encoded data removed]",
            "text/plain": [
              "<Figure size 432x360 with 1 Axes>"
            ]
          },
          "metadata": {
            "tags": [],
            "needs_background": "light"
          }
        }
      ]
    },
    {
      "cell_type": "markdown",
      "metadata": {
        "id": "PEEHnQPfluqb"
      },
      "source": [
        "## Word Cloud"
      ]
    },
    {
      "cell_type": "code",
      "metadata": {
        "id": "HRb4fQxsloKx",
        "colab": {
          "base_uri": "https://localhost:8080/"
        },
        "outputId": "b973beef-0886-41b2-8199-0dd22a4278fc"
      },
      "source": [
        "# train review documents\n",
        "train_review = [review for review in df_train['document'] if type(review) is str]\n",
        "train_review[:10]"
      ],
      "execution_count": 40,
      "outputs": [
        {
          "output_type": "execute_result",
          "data": {
            "text/plain": [
              "['아 더빙.. 진짜 짜증나네요 목소리',\n",
              " '흠...포스터보고 초딩영화줄....오버연기조차 가볍지 않구나',\n",
              " '너무재밓었다그래서보는것을추천한다',\n",
              " '교도소 이야기구먼 ..솔직히 재미는 없다..평점 조정',\n",
              " '사이몬페그의 익살스런 연기가 돋보였던 영화!스파이더맨에서 늙어보이기만 했던 커스틴 던스트가 너무나도 이뻐보였다',\n",
              " '막 걸음마 뗀 3세부터 초등학교 1학년생인 8살용영화.ㅋㅋㅋ...별반개도 아까움.',\n",
              " '원작의 긴장감을 제대로 살려내지못했다.',\n",
              " '별 반개도 아깝다 욕나온다 이응경 길용우 연기생활이몇년인지..정말 발로해도 그것보단 낫겟다 납치.감금만반복반복..이드라마는 가족도없다 연기못하는사람만모엿네',\n",
              " '액션이 없는데도 재미 있는 몇안되는 영화',\n",
              " '왜케 평점이 낮은건데? 꽤 볼만한데.. 헐리우드식 화려함에만 너무 길들여져 있나?']"
            ]
          },
          "metadata": {
            "tags": []
          },
          "execution_count": 40
        }
      ]
    },
    {
      "cell_type": "code",
      "metadata": {
        "id": "ASMXNml2lz8i",
        "colab": {
          "base_uri": "https://localhost:8080/",
          "height": 100
        },
        "outputId": "978b5d77-e785-4023-8fdd-efe00799cf73"
      },
      "source": [
        "' '.join(train_review[:10])"
      ],
      "execution_count": 41,
      "outputs": [
        {
          "output_type": "execute_result",
          "data": {
            "application/vnd.google.colaboratory.intrinsic+json": {
              "type": "string"
            },
            "text/plain": [
              "'아 더빙.. 진짜 짜증나네요 목소리 흠...포스터보고 초딩영화줄....오버연기조차 가볍지 않구나 너무재밓었다그래서보는것을추천한다 교도소 이야기구먼 ..솔직히 재미는 없다..평점 조정 사이몬페그의 익살스런 연기가 돋보였던 영화!스파이더맨에서 늙어보이기만 했던 커스틴 던스트가 너무나도 이뻐보였다 막 걸음마 뗀 3세부터 초등학교 1학년생인 8살용영화.ㅋㅋㅋ...별반개도 아까움. 원작의 긴장감을 제대로 살려내지못했다. 별 반개도 아깝다 욕나온다 이응경 길용우 연기생활이몇년인지..정말 발로해도 그것보단 낫겟다 납치.감금만반복반복..이드라마는 가족도없다 연기못하는사람만모엿네 액션이 없는데도 재미 있는 몇안되는 영화 왜케 평점이 낮은건데? 꽤 볼만한데.. 헐리우드식 화려함에만 너무 길들여져 있나?'"
            ]
          },
          "metadata": {
            "tags": []
          },
          "execution_count": 41
        }
      ]
    },
    {
      "cell_type": "code",
      "metadata": {
        "id": "MmQXZB-bl4RM",
        "colab": {
          "base_uri": "https://localhost:8080/",
          "height": 575
        },
        "outputId": "7a15792a-abe7-4f90-aabf-cddb5236a2d8"
      },
      "source": [
        "# WordCloud\n",
        "# window: C:/Windows/Fonts/malgun.ttf, mac: /Library/Fonts/AppleGothic.ttf, colab: /usr/share/fonts/truetype/nanum/NanumBarunGothic.ttf\n",
        "wordcloud = WordCloud(width=800, height=800, font_path='/usr/share/fonts/truetype/nanum/NanumBarunGothic.ttf').generate(' '.join(train_review))\n",
        "plt.figure(figsize=(10, 10))\n",
        "# https://datascienceschool.net/view-notebook/6e71dbff254542d9b0a054a7c98b34ec/\n",
        "# image 출력, interpolation 이미지 시각화 옵션\n",
        "plt.imshow(wordcloud, interpolation='bilinear')\n",
        "plt.axis('off')\n",
        "plt.show()"
      ],
      "execution_count": 42,
      "outputs": [
        {
          "output_type": "display_data",
          "data": {
            "image/png": "[encoded data removed]",
            "text/plain": [
              "<Figure size 720x720 with 1 Axes>"
            ]
          },
          "metadata": {
            "tags": [],
            "needs_background": "light"
          }
        }
      ]
    },
    {
      "cell_type": "markdown",
      "metadata": {
        "id": "gcG7zBAr_R_4"
      },
      "source": [
        "# Sample Data Project"
      ]
    },
    {
      "cell_type": "markdown",
      "metadata": {
        "id": "jv0OPyaKSpjw"
      },
      "source": [
        "## Data\n"
      ]
    },
    {
      "cell_type": "code",
      "metadata": {
        "id": "98u39IsbSoBk",
        "colab": {
          "base_uri": "https://localhost:8080/",
          "height": 391
        },
        "outputId": "07d80e30-6641-4e40-b07a-463fb547883b"
      },
      "source": [
        "# train data load\n",
        "df_train = pd.read_csv(os.path.join(nsmc_dir, 'ratings_train.txt'), delimiter='\\t')\n",
        "df_train"
      ],
      "execution_count": 43,
      "outputs": [
        {
          "output_type": "execute_result",
          "data": {
            "text/html": [
              "<div>\n",
              "<style scoped>\n",
              "    .dataframe tbody tr th:only-of-type {\n",
              "        vertical-align: middle;\n",
              "    }\n",
              "\n",
              "    .dataframe tbody tr th {\n",
              "        vertical-align: top;\n",
              "    }\n",
              "\n",
              "    .dataframe thead th {\n",
              "        text-align: right;\n",
              "    }\n",
              "</style>\n",
              "<table border=\"1\" class=\"dataframe\">\n",
              "  <thead>\n",
              "    <tr style=\"text-align: right;\">\n",
              "      <th></th>\n",
              "      <th>id</th>\n",
              "      <th>document</th>\n",
              "      <th>label</th>\n",
              "    </tr>\n",
              "  </thead>\n",
              "  <tbody>\n",
              "    <tr>\n",
              "      <th>0</th>\n",
              "      <td>9976970</td>\n",
              "      <td>아 더빙.. 진짜 짜증나네요 목소리</td>\n",
              "      <td>0</td>\n",
              "    </tr>\n",
              "    <tr>\n",
              "      <th>1</th>\n",
              "      <td>3819312</td>\n",
              "      <td>흠...포스터보고 초딩영화줄....오버연기조차 가볍지 않구나</td>\n",
              "      <td>1</td>\n",
              "    </tr>\n",
              "    <tr>\n",
              "      <th>2</th>\n",
              "      <td>10265843</td>\n",
              "      <td>너무재밓었다그래서보는것을추천한다</td>\n",
              "      <td>0</td>\n",
              "    </tr>\n",
              "    <tr>\n",
              "      <th>3</th>\n",
              "      <td>9045019</td>\n",
              "      <td>교도소 이야기구먼 ..솔직히 재미는 없다..평점 조정</td>\n",
              "      <td>0</td>\n",
              "    </tr>\n",
              "    <tr>\n",
              "      <th>4</th>\n",
              "      <td>6483659</td>\n",
              "      <td>사이몬페그의 익살스런 연기가 돋보였던 영화!스파이더맨에서 늙어보이기만 했던 커스틴 ...</td>\n",
              "      <td>1</td>\n",
              "    </tr>\n",
              "    <tr>\n",
              "      <th>...</th>\n",
              "      <td>...</td>\n",
              "      <td>...</td>\n",
              "      <td>...</td>\n",
              "    </tr>\n",
              "    <tr>\n",
              "      <th>149995</th>\n",
              "      <td>6222902</td>\n",
              "      <td>인간이 문제지.. 소는 뭔죄인가..</td>\n",
              "      <td>0</td>\n",
              "    </tr>\n",
              "    <tr>\n",
              "      <th>149996</th>\n",
              "      <td>8549745</td>\n",
              "      <td>평점이 너무 낮아서...</td>\n",
              "      <td>1</td>\n",
              "    </tr>\n",
              "    <tr>\n",
              "      <th>149997</th>\n",
              "      <td>9311800</td>\n",
              "      <td>이게 뭐요? 한국인은 거들먹거리고 필리핀 혼혈은 착하다?</td>\n",
              "      <td>0</td>\n",
              "    </tr>\n",
              "    <tr>\n",
              "      <th>149998</th>\n",
              "      <td>2376369</td>\n",
              "      <td>청춘 영화의 최고봉.방황과 우울했던 날들의 자화상</td>\n",
              "      <td>1</td>\n",
              "    </tr>\n",
              "    <tr>\n",
              "      <th>149999</th>\n",
              "      <td>9619869</td>\n",
              "      <td>한국 영화 최초로 수간하는 내용이 담긴 영화</td>\n",
              "      <td>0</td>\n",
              "    </tr>\n",
              "  </tbody>\n",
              "</table>\n",
              "<p>150000 rows × 3 columns</p>\n",
              "</div>"
            ],
            "text/plain": [
              "              id                                           document  label\n",
              "0        9976970                                아 더빙.. 진짜 짜증나네요 목소리      0\n",
              "1        3819312                  흠...포스터보고 초딩영화줄....오버연기조차 가볍지 않구나      1\n",
              "2       10265843                                  너무재밓었다그래서보는것을추천한다      0\n",
              "3        9045019                      교도소 이야기구먼 ..솔직히 재미는 없다..평점 조정      0\n",
              "4        6483659  사이몬페그의 익살스런 연기가 돋보였던 영화!스파이더맨에서 늙어보이기만 했던 커스틴 ...      1\n",
              "...          ...                                                ...    ...\n",
              "149995   6222902                                인간이 문제지.. 소는 뭔죄인가..      0\n",
              "149996   8549745                                      평점이 너무 낮아서...      1\n",
              "149997   9311800                    이게 뭐요? 한국인은 거들먹거리고 필리핀 혼혈은 착하다?      0\n",
              "149998   2376369                        청춘 영화의 최고봉.방황과 우울했던 날들의 자화상      1\n",
              "149999   9619869                           한국 영화 최초로 수간하는 내용이 담긴 영화      0\n",
              "\n",
              "[150000 rows x 3 columns]"
            ]
          },
          "metadata": {
            "tags": []
          },
          "execution_count": 43
        }
      ]
    },
    {
      "cell_type": "code",
      "metadata": {
        "id": "NMkiX-4bdx5A",
        "colab": {
          "base_uri": "https://localhost:8080/",
          "height": 391
        },
        "outputId": "c895d4ea-a87f-4344-cad9-b783eac3ae9e"
      },
      "source": [
        "# train null 데이터 제거\n",
        "df_train = df_train.dropna()\n",
        "df_train"
      ],
      "execution_count": 44,
      "outputs": [
        {
          "output_type": "execute_result",
          "data": {
            "text/html": [
              "<div>\n",
              "<style scoped>\n",
              "    .dataframe tbody tr th:only-of-type {\n",
              "        vertical-align: middle;\n",
              "    }\n",
              "\n",
              "    .dataframe tbody tr th {\n",
              "        vertical-align: top;\n",
              "    }\n",
              "\n",
              "    .dataframe thead th {\n",
              "        text-align: right;\n",
              "    }\n",
              "</style>\n",
              "<table border=\"1\" class=\"dataframe\">\n",
              "  <thead>\n",
              "    <tr style=\"text-align: right;\">\n",
              "      <th></th>\n",
              "      <th>id</th>\n",
              "      <th>document</th>\n",
              "      <th>label</th>\n",
              "    </tr>\n",
              "  </thead>\n",
              "  <tbody>\n",
              "    <tr>\n",
              "      <th>0</th>\n",
              "      <td>9976970</td>\n",
              "      <td>아 더빙.. 진짜 짜증나네요 목소리</td>\n",
              "      <td>0</td>\n",
              "    </tr>\n",
              "    <tr>\n",
              "      <th>1</th>\n",
              "      <td>3819312</td>\n",
              "      <td>흠...포스터보고 초딩영화줄....오버연기조차 가볍지 않구나</td>\n",
              "      <td>1</td>\n",
              "    </tr>\n",
              "    <tr>\n",
              "      <th>2</th>\n",
              "      <td>10265843</td>\n",
              "      <td>너무재밓었다그래서보는것을추천한다</td>\n",
              "      <td>0</td>\n",
              "    </tr>\n",
              "    <tr>\n",
              "      <th>3</th>\n",
              "      <td>9045019</td>\n",
              "      <td>교도소 이야기구먼 ..솔직히 재미는 없다..평점 조정</td>\n",
              "      <td>0</td>\n",
              "    </tr>\n",
              "    <tr>\n",
              "      <th>4</th>\n",
              "      <td>6483659</td>\n",
              "      <td>사이몬페그의 익살스런 연기가 돋보였던 영화!스파이더맨에서 늙어보이기만 했던 커스틴 ...</td>\n",
              "      <td>1</td>\n",
              "    </tr>\n",
              "    <tr>\n",
              "      <th>...</th>\n",
              "      <td>...</td>\n",
              "      <td>...</td>\n",
              "      <td>...</td>\n",
              "    </tr>\n",
              "    <tr>\n",
              "      <th>149995</th>\n",
              "      <td>6222902</td>\n",
              "      <td>인간이 문제지.. 소는 뭔죄인가..</td>\n",
              "      <td>0</td>\n",
              "    </tr>\n",
              "    <tr>\n",
              "      <th>149996</th>\n",
              "      <td>8549745</td>\n",
              "      <td>평점이 너무 낮아서...</td>\n",
              "      <td>1</td>\n",
              "    </tr>\n",
              "    <tr>\n",
              "      <th>149997</th>\n",
              "      <td>9311800</td>\n",
              "      <td>이게 뭐요? 한국인은 거들먹거리고 필리핀 혼혈은 착하다?</td>\n",
              "      <td>0</td>\n",
              "    </tr>\n",
              "    <tr>\n",
              "      <th>149998</th>\n",
              "      <td>2376369</td>\n",
              "      <td>청춘 영화의 최고봉.방황과 우울했던 날들의 자화상</td>\n",
              "      <td>1</td>\n",
              "    </tr>\n",
              "    <tr>\n",
              "      <th>149999</th>\n",
              "      <td>9619869</td>\n",
              "      <td>한국 영화 최초로 수간하는 내용이 담긴 영화</td>\n",
              "      <td>0</td>\n",
              "    </tr>\n",
              "  </tbody>\n",
              "</table>\n",
              "<p>149995 rows × 3 columns</p>\n",
              "</div>"
            ],
            "text/plain": [
              "              id                                           document  label\n",
              "0        9976970                                아 더빙.. 진짜 짜증나네요 목소리      0\n",
              "1        3819312                  흠...포스터보고 초딩영화줄....오버연기조차 가볍지 않구나      1\n",
              "2       10265843                                  너무재밓었다그래서보는것을추천한다      0\n",
              "3        9045019                      교도소 이야기구먼 ..솔직히 재미는 없다..평점 조정      0\n",
              "4        6483659  사이몬페그의 익살스런 연기가 돋보였던 영화!스파이더맨에서 늙어보이기만 했던 커스틴 ...      1\n",
              "...          ...                                                ...    ...\n",
              "149995   6222902                                인간이 문제지.. 소는 뭔죄인가..      0\n",
              "149996   8549745                                      평점이 너무 낮아서...      1\n",
              "149997   9311800                    이게 뭐요? 한국인은 거들먹거리고 필리핀 혼혈은 착하다?      0\n",
              "149998   2376369                        청춘 영화의 최고봉.방황과 우울했던 날들의 자화상      1\n",
              "149999   9619869                           한국 영화 최초로 수간하는 내용이 담긴 영화      0\n",
              "\n",
              "[149995 rows x 3 columns]"
            ]
          },
          "metadata": {
            "tags": []
          },
          "execution_count": 44
        }
      ]
    },
    {
      "cell_type": "code",
      "metadata": {
        "id": "EKoCzDHNSy3r",
        "colab": {
          "base_uri": "https://localhost:8080/",
          "height": 391
        },
        "outputId": "2248fb1b-a270-4ea1-df66-23b2a974df7f"
      },
      "source": [
        "# train data load\n",
        "df_test = pd.read_csv(os.path.join(nsmc_dir, 'ratings_test.txt'), delimiter='\\t')\n",
        "df_test"
      ],
      "execution_count": 45,
      "outputs": [
        {
          "output_type": "execute_result",
          "data": {
            "text/html": [
              "<div>\n",
              "<style scoped>\n",
              "    .dataframe tbody tr th:only-of-type {\n",
              "        vertical-align: middle;\n",
              "    }\n",
              "\n",
              "    .dataframe tbody tr th {\n",
              "        vertical-align: top;\n",
              "    }\n",
              "\n",
              "    .dataframe thead th {\n",
              "        text-align: right;\n",
              "    }\n",
              "</style>\n",
              "<table border=\"1\" class=\"dataframe\">\n",
              "  <thead>\n",
              "    <tr style=\"text-align: right;\">\n",
              "      <th></th>\n",
              "      <th>id</th>\n",
              "      <th>document</th>\n",
              "      <th>label</th>\n",
              "    </tr>\n",
              "  </thead>\n",
              "  <tbody>\n",
              "    <tr>\n",
              "      <th>0</th>\n",
              "      <td>6270596</td>\n",
              "      <td>굳 ㅋ</td>\n",
              "      <td>1</td>\n",
              "    </tr>\n",
              "    <tr>\n",
              "      <th>1</th>\n",
              "      <td>9274899</td>\n",
              "      <td>GDNTOPCLASSINTHECLUB</td>\n",
              "      <td>0</td>\n",
              "    </tr>\n",
              "    <tr>\n",
              "      <th>2</th>\n",
              "      <td>8544678</td>\n",
              "      <td>뭐야 이 평점들은.... 나쁘진 않지만 10점 짜리는 더더욱 아니잖아</td>\n",
              "      <td>0</td>\n",
              "    </tr>\n",
              "    <tr>\n",
              "      <th>3</th>\n",
              "      <td>6825595</td>\n",
              "      <td>지루하지는 않은데 완전 막장임... 돈주고 보기에는....</td>\n",
              "      <td>0</td>\n",
              "    </tr>\n",
              "    <tr>\n",
              "      <th>4</th>\n",
              "      <td>6723715</td>\n",
              "      <td>3D만 아니었어도 별 다섯 개 줬을텐데.. 왜 3D로 나와서 제 심기를 불편하게 하죠??</td>\n",
              "      <td>0</td>\n",
              "    </tr>\n",
              "    <tr>\n",
              "      <th>...</th>\n",
              "      <td>...</td>\n",
              "      <td>...</td>\n",
              "      <td>...</td>\n",
              "    </tr>\n",
              "    <tr>\n",
              "      <th>49995</th>\n",
              "      <td>4608761</td>\n",
              "      <td>오랜만에 평점 로긴했네ㅋㅋ 킹왕짱 쌈뽕한 영화를 만났습니다 강렬하게 육쾌함</td>\n",
              "      <td>1</td>\n",
              "    </tr>\n",
              "    <tr>\n",
              "      <th>49996</th>\n",
              "      <td>5308387</td>\n",
              "      <td>의지 박약들이나 하는거다 탈영은 일단 주인공 김대희 닮았고 이등병 찐따 OOOO</td>\n",
              "      <td>0</td>\n",
              "    </tr>\n",
              "    <tr>\n",
              "      <th>49997</th>\n",
              "      <td>9072549</td>\n",
              "      <td>그림도 좋고 완성도도 높았지만... 보는 내내 불안하게 만든다</td>\n",
              "      <td>0</td>\n",
              "    </tr>\n",
              "    <tr>\n",
              "      <th>49998</th>\n",
              "      <td>5802125</td>\n",
              "      <td>절대 봐서는 안 될 영화.. 재미도 없고 기분만 잡치고.. 한 세트장에서 다 해먹네</td>\n",
              "      <td>0</td>\n",
              "    </tr>\n",
              "    <tr>\n",
              "      <th>49999</th>\n",
              "      <td>6070594</td>\n",
              "      <td>마무리는 또 왜이래</td>\n",
              "      <td>0</td>\n",
              "    </tr>\n",
              "  </tbody>\n",
              "</table>\n",
              "<p>50000 rows × 3 columns</p>\n",
              "</div>"
            ],
            "text/plain": [
              "            id                                           document  label\n",
              "0      6270596                                                굳 ㅋ      1\n",
              "1      9274899                               GDNTOPCLASSINTHECLUB      0\n",
              "2      8544678             뭐야 이 평점들은.... 나쁘진 않지만 10점 짜리는 더더욱 아니잖아      0\n",
              "3      6825595                   지루하지는 않은데 완전 막장임... 돈주고 보기에는....      0\n",
              "4      6723715  3D만 아니었어도 별 다섯 개 줬을텐데.. 왜 3D로 나와서 제 심기를 불편하게 하죠??      0\n",
              "...        ...                                                ...    ...\n",
              "49995  4608761          오랜만에 평점 로긴했네ㅋㅋ 킹왕짱 쌈뽕한 영화를 만났습니다 강렬하게 육쾌함      1\n",
              "49996  5308387       의지 박약들이나 하는거다 탈영은 일단 주인공 김대희 닮았고 이등병 찐따 OOOO      0\n",
              "49997  9072549                 그림도 좋고 완성도도 높았지만... 보는 내내 불안하게 만든다      0\n",
              "49998  5802125     절대 봐서는 안 될 영화.. 재미도 없고 기분만 잡치고.. 한 세트장에서 다 해먹네      0\n",
              "49999  6070594                                         마무리는 또 왜이래      0\n",
              "\n",
              "[50000 rows x 3 columns]"
            ]
          },
          "metadata": {
            "tags": []
          },
          "execution_count": 45
        }
      ]
    },
    {
      "cell_type": "code",
      "metadata": {
        "id": "GjyBwvbZeBKI",
        "colab": {
          "base_uri": "https://localhost:8080/",
          "height": 391
        },
        "outputId": "23876323-98e4-46ef-c587-e221da268917"
      },
      "source": [
        "# train null 데이터 제거\n",
        "df_test = df_test.dropna()\n",
        "df_test"
      ],
      "execution_count": 46,
      "outputs": [
        {
          "output_type": "execute_result",
          "data": {
            "text/html": [
              "<div>\n",
              "<style scoped>\n",
              "    .dataframe tbody tr th:only-of-type {\n",
              "        vertical-align: middle;\n",
              "    }\n",
              "\n",
              "    .dataframe tbody tr th {\n",
              "        vertical-align: top;\n",
              "    }\n",
              "\n",
              "    .dataframe thead th {\n",
              "        text-align: right;\n",
              "    }\n",
              "</style>\n",
              "<table border=\"1\" class=\"dataframe\">\n",
              "  <thead>\n",
              "    <tr style=\"text-align: right;\">\n",
              "      <th></th>\n",
              "      <th>id</th>\n",
              "      <th>document</th>\n",
              "      <th>label</th>\n",
              "    </tr>\n",
              "  </thead>\n",
              "  <tbody>\n",
              "    <tr>\n",
              "      <th>0</th>\n",
              "      <td>6270596</td>\n",
              "      <td>굳 ㅋ</td>\n",
              "      <td>1</td>\n",
              "    </tr>\n",
              "    <tr>\n",
              "      <th>1</th>\n",
              "      <td>9274899</td>\n",
              "      <td>GDNTOPCLASSINTHECLUB</td>\n",
              "      <td>0</td>\n",
              "    </tr>\n",
              "    <tr>\n",
              "      <th>2</th>\n",
              "      <td>8544678</td>\n",
              "      <td>뭐야 이 평점들은.... 나쁘진 않지만 10점 짜리는 더더욱 아니잖아</td>\n",
              "      <td>0</td>\n",
              "    </tr>\n",
              "    <tr>\n",
              "      <th>3</th>\n",
              "      <td>6825595</td>\n",
              "      <td>지루하지는 않은데 완전 막장임... 돈주고 보기에는....</td>\n",
              "      <td>0</td>\n",
              "    </tr>\n",
              "    <tr>\n",
              "      <th>4</th>\n",
              "      <td>6723715</td>\n",
              "      <td>3D만 아니었어도 별 다섯 개 줬을텐데.. 왜 3D로 나와서 제 심기를 불편하게 하죠??</td>\n",
              "      <td>0</td>\n",
              "    </tr>\n",
              "    <tr>\n",
              "      <th>...</th>\n",
              "      <td>...</td>\n",
              "      <td>...</td>\n",
              "      <td>...</td>\n",
              "    </tr>\n",
              "    <tr>\n",
              "      <th>49995</th>\n",
              "      <td>4608761</td>\n",
              "      <td>오랜만에 평점 로긴했네ㅋㅋ 킹왕짱 쌈뽕한 영화를 만났습니다 강렬하게 육쾌함</td>\n",
              "      <td>1</td>\n",
              "    </tr>\n",
              "    <tr>\n",
              "      <th>49996</th>\n",
              "      <td>5308387</td>\n",
              "      <td>의지 박약들이나 하는거다 탈영은 일단 주인공 김대희 닮았고 이등병 찐따 OOOO</td>\n",
              "      <td>0</td>\n",
              "    </tr>\n",
              "    <tr>\n",
              "      <th>49997</th>\n",
              "      <td>9072549</td>\n",
              "      <td>그림도 좋고 완성도도 높았지만... 보는 내내 불안하게 만든다</td>\n",
              "      <td>0</td>\n",
              "    </tr>\n",
              "    <tr>\n",
              "      <th>49998</th>\n",
              "      <td>5802125</td>\n",
              "      <td>절대 봐서는 안 될 영화.. 재미도 없고 기분만 잡치고.. 한 세트장에서 다 해먹네</td>\n",
              "      <td>0</td>\n",
              "    </tr>\n",
              "    <tr>\n",
              "      <th>49999</th>\n",
              "      <td>6070594</td>\n",
              "      <td>마무리는 또 왜이래</td>\n",
              "      <td>0</td>\n",
              "    </tr>\n",
              "  </tbody>\n",
              "</table>\n",
              "<p>49997 rows × 3 columns</p>\n",
              "</div>"
            ],
            "text/plain": [
              "            id                                           document  label\n",
              "0      6270596                                                굳 ㅋ      1\n",
              "1      9274899                               GDNTOPCLASSINTHECLUB      0\n",
              "2      8544678             뭐야 이 평점들은.... 나쁘진 않지만 10점 짜리는 더더욱 아니잖아      0\n",
              "3      6825595                   지루하지는 않은데 완전 막장임... 돈주고 보기에는....      0\n",
              "4      6723715  3D만 아니었어도 별 다섯 개 줬을텐데.. 왜 3D로 나와서 제 심기를 불편하게 하죠??      0\n",
              "...        ...                                                ...    ...\n",
              "49995  4608761          오랜만에 평점 로긴했네ㅋㅋ 킹왕짱 쌈뽕한 영화를 만났습니다 강렬하게 육쾌함      1\n",
              "49996  5308387       의지 박약들이나 하는거다 탈영은 일단 주인공 김대희 닮았고 이등병 찐따 OOOO      0\n",
              "49997  9072549                 그림도 좋고 완성도도 높았지만... 보는 내내 불안하게 만든다      0\n",
              "49998  5802125     절대 봐서는 안 될 영화.. 재미도 없고 기분만 잡치고.. 한 세트장에서 다 해먹네      0\n",
              "49999  6070594                                         마무리는 또 왜이래      0\n",
              "\n",
              "[49997 rows x 3 columns]"
            ]
          },
          "metadata": {
            "tags": []
          },
          "execution_count": 46
        }
      ]
    },
    {
      "cell_type": "code",
      "metadata": {
        "id": "lAZD9iR6_oO_",
        "colab": {
          "base_uri": "https://localhost:8080/",
          "height": 335
        },
        "outputId": "dc101d37-6f24-4a6b-8817-de41aa357db4"
      },
      "source": [
        "# 랜덤하게 10개만 확인\n",
        "df_train = df_train.sample(10)\n",
        "df_train"
      ],
      "execution_count": 47,
      "outputs": [
        {
          "output_type": "execute_result",
          "data": {
            "text/html": [
              "<div>\n",
              "<style scoped>\n",
              "    .dataframe tbody tr th:only-of-type {\n",
              "        vertical-align: middle;\n",
              "    }\n",
              "\n",
              "    .dataframe tbody tr th {\n",
              "        vertical-align: top;\n",
              "    }\n",
              "\n",
              "    .dataframe thead th {\n",
              "        text-align: right;\n",
              "    }\n",
              "</style>\n",
              "<table border=\"1\" class=\"dataframe\">\n",
              "  <thead>\n",
              "    <tr style=\"text-align: right;\">\n",
              "      <th></th>\n",
              "      <th>id</th>\n",
              "      <th>document</th>\n",
              "      <th>label</th>\n",
              "    </tr>\n",
              "  </thead>\n",
              "  <tbody>\n",
              "    <tr>\n",
              "      <th>42986</th>\n",
              "      <td>9868530</td>\n",
              "      <td>공포 영화는 무슨...</td>\n",
              "      <td>0</td>\n",
              "    </tr>\n",
              "    <tr>\n",
              "      <th>25002</th>\n",
              "      <td>7745536</td>\n",
              "      <td>중심이 단단해야 이야기의 파급력도 커지는 법</td>\n",
              "      <td>0</td>\n",
              "    </tr>\n",
              "    <tr>\n",
              "      <th>104366</th>\n",
              "      <td>7951197</td>\n",
              "      <td>왜 공포스릴러에 코믹만 잔뜩들어간건데 근데 재미도없어</td>\n",
              "      <td>0</td>\n",
              "    </tr>\n",
              "    <tr>\n",
              "      <th>71235</th>\n",
              "      <td>6879284</td>\n",
              "      <td>인트로부터 결말까지하며 여운까지 완벽했던 애니메이션</td>\n",
              "      <td>1</td>\n",
              "    </tr>\n",
              "    <tr>\n",
              "      <th>118309</th>\n",
              "      <td>9441802</td>\n",
              "      <td>솔직히 시즌1이 전설이었지.</td>\n",
              "      <td>0</td>\n",
              "    </tr>\n",
              "    <tr>\n",
              "      <th>31809</th>\n",
              "      <td>8917151</td>\n",
              "      <td>참 할 말없게 만드네~~~ 몇십억대 집부터 이번에 캠핑카 까지~~ 한번 장볼때마다 ...</td>\n",
              "      <td>0</td>\n",
              "    </tr>\n",
              "    <tr>\n",
              "      <th>92264</th>\n",
              "      <td>9332061</td>\n",
              "      <td>옵대장과 나의 의리는 여기서부터 시작됬다</td>\n",
              "      <td>1</td>\n",
              "    </tr>\n",
              "    <tr>\n",
              "      <th>130960</th>\n",
              "      <td>9131754</td>\n",
              "      <td>그사람추기경을보러갔어요상영시작부터끝날때까지한순간도눈으뗄수가없고빠져들었습니다 우리나라...</td>\n",
              "      <td>1</td>\n",
              "    </tr>\n",
              "    <tr>\n",
              "      <th>113333</th>\n",
              "      <td>4673262</td>\n",
              "      <td>대박좋아요 너무잘만들었어요!</td>\n",
              "      <td>1</td>\n",
              "    </tr>\n",
              "    <tr>\n",
              "      <th>64882</th>\n",
              "      <td>9503750</td>\n",
              "      <td>영화가 점점 뒤로 갈수록 짜증나네~ㅋ</td>\n",
              "      <td>0</td>\n",
              "    </tr>\n",
              "  </tbody>\n",
              "</table>\n",
              "</div>"
            ],
            "text/plain": [
              "             id                                           document  label\n",
              "42986   9868530                                       공포 영화는 무슨...      0\n",
              "25002   7745536                           중심이 단단해야 이야기의 파급력도 커지는 법      0\n",
              "104366  7951197                      왜 공포스릴러에 코믹만 잔뜩들어간건데 근데 재미도없어      0\n",
              "71235   6879284                       인트로부터 결말까지하며 여운까지 완벽했던 애니메이션      1\n",
              "118309  9441802                                    솔직히 시즌1이 전설이었지.      0\n",
              "31809   8917151  참 할 말없게 만드네~~~ 몇십억대 집부터 이번에 캠핑카 까지~~ 한번 장볼때마다 ...      0\n",
              "92264   9332061                             옵대장과 나의 의리는 여기서부터 시작됬다      1\n",
              "130960  9131754  그사람추기경을보러갔어요상영시작부터끝날때까지한순간도눈으뗄수가없고빠져들었습니다 우리나라...      1\n",
              "113333  4673262                                    대박좋아요 너무잘만들었어요!      1\n",
              "64882   9503750                               영화가 점점 뒤로 갈수록 짜증나네~ㅋ      0"
            ]
          },
          "metadata": {
            "tags": []
          },
          "execution_count": 47
        }
      ]
    },
    {
      "cell_type": "code",
      "metadata": {
        "id": "SxUEnWqP_9UG",
        "colab": {
          "base_uri": "https://localhost:8080/",
          "height": 335
        },
        "outputId": "04f1f217-90af-4ee6-9ec6-429cd5f8875d"
      },
      "source": [
        "# 랜덤하게 10개만 확인\n",
        "df_test = df_test.sample(10)\n",
        "df_test"
      ],
      "execution_count": 48,
      "outputs": [
        {
          "output_type": "execute_result",
          "data": {
            "text/html": [
              "<div>\n",
              "<style scoped>\n",
              "    .dataframe tbody tr th:only-of-type {\n",
              "        vertical-align: middle;\n",
              "    }\n",
              "\n",
              "    .dataframe tbody tr th {\n",
              "        vertical-align: top;\n",
              "    }\n",
              "\n",
              "    .dataframe thead th {\n",
              "        text-align: right;\n",
              "    }\n",
              "</style>\n",
              "<table border=\"1\" class=\"dataframe\">\n",
              "  <thead>\n",
              "    <tr style=\"text-align: right;\">\n",
              "      <th></th>\n",
              "      <th>id</th>\n",
              "      <th>document</th>\n",
              "      <th>label</th>\n",
              "    </tr>\n",
              "  </thead>\n",
              "  <tbody>\n",
              "    <tr>\n",
              "      <th>4994</th>\n",
              "      <td>1852644</td>\n",
              "      <td>장난? ㅋ</td>\n",
              "      <td>0</td>\n",
              "    </tr>\n",
              "    <tr>\n",
              "      <th>5743</th>\n",
              "      <td>7871316</td>\n",
              "      <td>처음 오프닝 부분에 동네 주민 인터뷰.. 경찰청 사람들의 형사들도 이보단 자연스러웠...</td>\n",
              "      <td>0</td>\n",
              "    </tr>\n",
              "    <tr>\n",
              "      <th>19252</th>\n",
              "      <td>6794224</td>\n",
              "      <td>오글오글 발연기 진리콧물흘리는 유노윤호모습이 떠오르네</td>\n",
              "      <td>0</td>\n",
              "    </tr>\n",
              "    <tr>\n",
              "      <th>16263</th>\n",
              "      <td>8515669</td>\n",
              "      <td>이 명작이 왜 7점밖에 안될까요? 평점만 보고 안보려고 했다가 안봤다면 후회할 뻔한...</td>\n",
              "      <td>1</td>\n",
              "    </tr>\n",
              "    <tr>\n",
              "      <th>48841</th>\n",
              "      <td>5352737</td>\n",
              "      <td>올 봄 당신들의 가슴속에 각인 될 단 하나의 똥쓰레기 작품이 온다 에어리언 대 거미</td>\n",
              "      <td>1</td>\n",
              "    </tr>\n",
              "    <tr>\n",
              "      <th>29056</th>\n",
              "      <td>7999154</td>\n",
              "      <td>11111111</td>\n",
              "      <td>1</td>\n",
              "    </tr>\n",
              "    <tr>\n",
              "      <th>31231</th>\n",
              "      <td>3950845</td>\n",
              "      <td>아~~재미없어~~~</td>\n",
              "      <td>0</td>\n",
              "    </tr>\n",
              "    <tr>\n",
              "      <th>27711</th>\n",
              "      <td>9962436</td>\n",
              "      <td>이 영화보고 울었다...</td>\n",
              "      <td>1</td>\n",
              "    </tr>\n",
              "    <tr>\n",
              "      <th>46728</th>\n",
              "      <td>10047874</td>\n",
              "      <td>리메이크 없나요 ... 아~ 또 보고싶다 극장에서 ..</td>\n",
              "      <td>1</td>\n",
              "    </tr>\n",
              "    <tr>\n",
              "      <th>28939</th>\n",
              "      <td>4896895</td>\n",
              "      <td>독특한 소재를 참 심심하게 만들어내는 능력이 있는 감독</td>\n",
              "      <td>0</td>\n",
              "    </tr>\n",
              "  </tbody>\n",
              "</table>\n",
              "</div>"
            ],
            "text/plain": [
              "             id                                           document  label\n",
              "4994    1852644                                              장난? ㅋ      0\n",
              "5743    7871316  처음 오프닝 부분에 동네 주민 인터뷰.. 경찰청 사람들의 형사들도 이보단 자연스러웠...      0\n",
              "19252   6794224                      오글오글 발연기 진리콧물흘리는 유노윤호모습이 떠오르네      0\n",
              "16263   8515669  이 명작이 왜 7점밖에 안될까요? 평점만 보고 안보려고 했다가 안봤다면 후회할 뻔한...      1\n",
              "48841   5352737     올 봄 당신들의 가슴속에 각인 될 단 하나의 똥쓰레기 작품이 온다 에어리언 대 거미      1\n",
              "29056   7999154                                           11111111      1\n",
              "31231   3950845                                         아~~재미없어~~~      0\n",
              "27711   9962436                                      이 영화보고 울었다...      1\n",
              "46728  10047874                     리메이크 없나요 ... 아~ 또 보고싶다 극장에서 ..      1\n",
              "28939   4896895                     독특한 소재를 참 심심하게 만들어내는 능력이 있는 감독      0"
            ]
          },
          "metadata": {
            "tags": []
          },
          "execution_count": 48
        }
      ]
    },
    {
      "cell_type": "code",
      "metadata": {
        "id": "pkzwlvcVS1cj"
      },
      "source": [
        "def load_data(df, n_seq):\n",
        "    \"\"\"\n",
        "    NSMC 학습 데이터 생성\n",
        "    :param df: data frame\n",
        "    :param n_seq: number of sequence\n",
        "    :return inputs: input data\n",
        "    :return labels: label data\n",
        "    \"\"\"\n",
        "    inputs = np.zeros((len(df), n_seq)).astype(np.int32)\n",
        "    labels = np.zeros((len(df),))\n",
        "    index = 0\n",
        "    for i, row in tqdm(df.iterrows(), total=len(df)):\n",
        "        # tokens 저장\n",
        "        ######################################\n",
        "        print()\n",
        "        label = row['label']\n",
        "        document = row['document']\n",
        "        print(label, document)\n",
        "        # tokenize\n",
        "        tokens = vocab.encode_as_pieces(document)\n",
        "        print(len(tokens), ':', tokens)\n",
        "        token_ids = vocab.encode_as_ids(document)\n",
        "        print(len(token_ids), ':', token_ids)\n",
        "        # 긴 토큰은 길이를 줄임\n",
        "        token_ids = token_ids[:n_seq]\n",
        "        print(len(token_ids), ':', token_ids)\n",
        "        # 짧은 토큰은 pad 추가\n",
        "        token_ids += [0] * (n_seq - len(token_ids))\n",
        "        print(len(token_ids), ':', token_ids)\n",
        "        # 값 저장\n",
        "        labels[index] = label\n",
        "        inputs[index] = token_ids\n",
        "        index += 1\n",
        "        ######################################\n",
        "    return inputs, labels"
      ],
      "execution_count": 49,
      "outputs": []
    },
    {
      "cell_type": "code",
      "metadata": {
        "id": "bfEwG-jgS4aN",
        "colab": {
          "base_uri": "https://localhost:8080/",
          "height": 1000,
          "referenced_widgets": [
            "1229976d68784124a16d6567b37d1f13",
            "c9ee64fec599448eb10ebfeb22e118cb",
            "f7cb5c6f42ef44e3ac52840c437de1d2",
            "9942e9563d9d4d6287be0a27f2018687",
            "4c76722d0ed344b0a6e8ae75ab37e320",
            "b086af61660c4dc7b019df7cb241519e",
            "8b98bac53c0c48d8a280c94465103860",
            "33a71c867f6a48b5b0cf26bf1c4e3b14"
          ]
        },
        "outputId": "bceff952-6297-4713-b726-23c9dacc7388"
      },
      "source": [
        "# train data 생성\n",
        "train_inputs, train_labels = load_data(df_train, n_seq)\n",
        "train_inputs, train_labels"
      ],
      "execution_count": 50,
      "outputs": [
        {
          "output_type": "display_data",
          "data": {
            "application/vnd.jupyter.widget-view+json": {
              "model_id": "1229976d68784124a16d6567b37d1f13",
              "version_minor": 0,
              "version_major": 2
            },
            "text/plain": [
              "HBox(children=(FloatProgress(value=0.0, max=10.0), HTML(value='')))"
            ]
          },
          "metadata": {
            "tags": []
          }
        },
        {
          "output_type": "stream",
          "text": [
            "\n",
            "0 공포 영화는 무슨...\n",
            "6 : ['▁공포', '▁영화는', '▁무슨', '.', '.', '.']\n",
            "6 : [3029, 4305, 13559, 7, 7, 7]\n",
            "6 : [3029, 4305, 13559, 7, 7, 7]\n",
            "47 : [3029, 4305, 13559, 7, 7, 7, 0, 0, 0, 0, 0, 0, 0, 0, 0, 0, 0, 0, 0, 0, 0, 0, 0, 0, 0, 0, 0, 0, 0, 0, 0, 0, 0, 0, 0, 0, 0, 0, 0, 0, 0, 0, 0, 0, 0, 0, 0]\n",
            "\n",
            "0 중심이 단단해야 이야기의 파급력도 커지는 법\n",
            "12 : ['▁중심이', '▁단단', '해야', '▁이야기', '의', '▁파', '급', '력', '도', '▁커', '지는', '▁법']\n",
            "12 : [8718, 18512, 755, 1212, 9, 437, 444, 908, 32, 1598, 873, 961]\n",
            "12 : [8718, 18512, 755, 1212, 9, 437, 444, 908, 32, 1598, 873, 961]\n",
            "47 : [8718, 18512, 755, 1212, 9, 437, 444, 908, 32, 1598, 873, 961, 0, 0, 0, 0, 0, 0, 0, 0, 0, 0, 0, 0, 0, 0, 0, 0, 0, 0, 0, 0, 0, 0, 0, 0, 0, 0, 0, 0, 0, 0, 0, 0, 0, 0, 0]\n",
            "\n",
            "0 왜 공포스릴러에 코믹만 잔뜩들어간건데 근데 재미도없어\n",
            "20 : ['▁왜', '▁공포', '스', '릴', '러', '에', '▁코믹', '만', '▁잔', '뜩', '들어', '간', '건', '데', '▁근', '데', '▁재미', '도', '없', '어']\n",
            "20 : [2761, 3029, 86, 1268, 447, 13, 14741, 62, 2368, 30159, 6227, 355, 735, 298, 1817, 298, 16577, 32, 11654, 110]\n",
            "20 : [2761, 3029, 86, 1268, 447, 13, 14741, 62, 2368, 30159, 6227, 355, 735, 298, 1817, 298, 16577, 32, 11654, 110]\n",
            "47 : [2761, 3029, 86, 1268, 447, 13, 14741, 62, 2368, 30159, 6227, 355, 735, 298, 1817, 298, 16577, 32, 11654, 110, 0, 0, 0, 0, 0, 0, 0, 0, 0, 0, 0, 0, 0, 0, 0, 0, 0, 0, 0, 0, 0, 0, 0, 0, 0, 0, 0]\n",
            "\n",
            "1 인트로부터 결말까지하며 여운까지 완벽했던 애니메이션\n",
            "12 : ['▁인', '트', '로부터', '▁결말', '까지', '하며', '▁여', '운', '까지', '▁완벽', '했던', '▁애니메이션']\n",
            "12 : [549, 175, 408, 22069, 161, 182, 604, 495, 161, 24544, 506, 1106]\n",
            "12 : [549, 175, 408, 22069, 161, 182, 604, 495, 161, 24544, 506, 1106]\n",
            "47 : [549, 175, 408, 22069, 161, 182, 604, 495, 161, 24544, 506, 1106, 0, 0, 0, 0, 0, 0, 0, 0, 0, 0, 0, 0, 0, 0, 0, 0, 0, 0, 0, 0, 0, 0, 0, 0, 0, 0, 0, 0, 0, 0, 0, 0, 0, 0, 0]\n",
            "\n",
            "0 솔직히 시즌1이 전설이었지.\n",
            "10 : ['▁솔직', '히', '▁시즌', '1', '이', '▁전설', '이', '었', '지', '.']\n",
            "10 : [25261, 363, 347, 129, 17, 3903, 17, 5562, 47, 7]\n",
            "10 : [25261, 363, 347, 129, 17, 3903, 17, 5562, 47, 7]\n",
            "47 : [25261, 363, 347, 129, 17, 3903, 17, 5562, 47, 7, 0, 0, 0, 0, 0, 0, 0, 0, 0, 0, 0, 0, 0, 0, 0, 0, 0, 0, 0, 0, 0, 0, 0, 0, 0, 0, 0, 0, 0, 0, 0, 0, 0, 0, 0, 0, 0]\n",
            "\n",
            "0 참 할 말없게 만드네~~~ 몇십억대 집부터 이번에 캠핑카 까지~~ 한번 장볼때마다 몇십만원씩 쓰고 만든 음식은 먹는건지 다버리는지~ 참 나같은 소시민이 보기는 참불편하네~ 그래 다른건 다 참을수 있다 근데~ 제발 먹는것 가지고 장난은 말자~~\n",
            "80 : ['▁참', '▁할', '▁말', '없', '게', '▁만', '드', '네', '~', '~', '~', '▁몇', '십', '억', '대', '▁집', '부터', '▁이번', '에', '▁캠', '핑', '카', '▁까지', '~', '~', '▁한번', '▁장', '볼', '때마다', '▁몇', '십', '만원', '씩', '▁쓰고', '▁만든', '▁음식', '은', '▁먹는', '건', '지', '▁다', '버리는', '지', '~', '▁참', '▁나', '같은', '▁소', '시민', '이', '▁보기', '는', '▁참', '불', '편', '하', '네', '~', '▁그래', '▁다른', '건', '▁다', '▁참', '을', '수', '▁있다', '▁근', '데', '~', '▁제', '발', '▁먹는', '것', '▁가지고', '▁장난', '은', '▁말', '자', '~', '~']\n",
            "80 : [1120, 276, 335, 11654, 128, 571, 194, 343, 971, 971, 971, 740, 2373, 706, 72, 1130, 366, 2603, 13, 14077, 3315, 274, 8101, 971, 971, 3541, 235, 1408, 28932, 740, 2373, 5105, 2062, 4008, 944, 3400, 18, 6991, 735, 47, 262, 17035, 47, 971, 1120, 339, 3131, 236, 7024, 17, 5190, 11, 1120, 650, 979, 237, 343, 971, 16839, 93, 735, 262, 1120, 16, 107, 25, 1817, 298, 971, 41, 498, 6991, 5922, 480, 18006, 18, 335, 71, 971, 971]\n",
            "47 : [1120, 276, 335, 11654, 128, 571, 194, 343, 971, 971, 971, 740, 2373, 706, 72, 1130, 366, 2603, 13, 14077, 3315, 274, 8101, 971, 971, 3541, 235, 1408, 28932, 740, 2373, 5105, 2062, 4008, 944, 3400, 18, 6991, 735, 47, 262, 17035, 47, 971, 1120, 339, 3131]\n",
            "47 : [1120, 276, 335, 11654, 128, 571, 194, 343, 971, 971, 971, 740, 2373, 706, 72, 1130, 366, 2603, 13, 14077, 3315, 274, 8101, 971, 971, 3541, 235, 1408, 28932, 740, 2373, 5105, 2062, 4008, 944, 3400, 18, 6991, 735, 47, 262, 17035, 47, 971, 1120, 339, 3131]\n",
            "\n",
            "1 옵대장과 나의 의리는 여기서부터 시작됬다\n",
            "12 : ['▁옵', '대장', '과', '▁나의', '▁', '의', '리는', '▁여기서', '부터', '▁시작', '됬', '다']\n",
            "12 : [21232, 5079, 24, 14467, 10, 9, 1821, 1438, 366, 949, 1, 50]\n",
            "12 : [21232, 5079, 24, 14467, 10, 9, 1821, 1438, 366, 949, 1, 50]\n",
            "47 : [21232, 5079, 24, 14467, 10, 9, 1821, 1438, 366, 949, 1, 50, 0, 0, 0, 0, 0, 0, 0, 0, 0, 0, 0, 0, 0, 0, 0, 0, 0, 0, 0, 0, 0, 0, 0, 0, 0, 0, 0, 0, 0, 0, 0, 0, 0, 0, 0]\n",
            "\n",
            "1 그사람추기경을보러갔어요상영시작부터끝날때까지한순간도눈으뗄수가없고빠져들었습니다 우리나라에서추기경님과함께한시대를지나왔다는것에대해감사와기쁨과행복을느낍니다많은분들이 이영화를보고 마음이정화되고참된사랑이무엇인지를느껴보기바랍니다\n",
            "86 : ['▁그', '사람', '추', '기', '경을', '보', '러', '갔', '어요', '상', '영', '시', '작', '부터', '끝', '날', '때까지', '한', '순', '간', '도', '눈', '으', '뗄', '수가', '없', '고', '빠', '져', '들', '었습니다', '▁우리나라', '에서', '추', '기', '경', '님', '과', '함', '께', '한', '시대', '를', '지나', '왔다', '는', '것', '에', '대', '해', '감사', '와', '기', '쁨', '과', '행복', '을', '느', '낍', '니다', '많', '은', '분', '들이', '▁이', '영화', '를', '보고', '▁마음이', '정', '화', '되고', '참', '된', '사랑', '이', '무', '엇', '인', '지를', '느', '껴', '보기', '바', '랍', '니다']\n",
            "86 : [39, 8107, 848, 48, 8923, 191, 447, 9305, 15963, 120, 320, 56, 836, 366, 9618, 1421, 16584, 33, 591, 355, 32, 6106, 3481, 31586, 2268, 11654, 37, 8049, 995, 306, 21192, 5940, 22, 848, 48, 265, 3404, 24, 892, 7036, 33, 3897, 20, 14208, 2770, 11, 5922, 13, 72, 61, 17990, 27, 48, 31470, 24, 26606, 16, 4057, 1, 7992, 24833, 18, 302, 143, 29, 1895, 20, 7476, 12043, 159, 121, 269, 1935, 85, 4673, 17, 257, 10741, 31, 1271, 4057, 25608, 16663, 297, 8004, 7992]\n",
            "47 : [39, 8107, 848, 48, 8923, 191, 447, 9305, 15963, 120, 320, 56, 836, 366, 9618, 1421, 16584, 33, 591, 355, 32, 6106, 3481, 31586, 2268, 11654, 37, 8049, 995, 306, 21192, 5940, 22, 848, 48, 265, 3404, 24, 892, 7036, 33, 3897, 20, 14208, 2770, 11, 5922]\n",
            "47 : [39, 8107, 848, 48, 8923, 191, 447, 9305, 15963, 120, 320, 56, 836, 366, 9618, 1421, 16584, 33, 591, 355, 32, 6106, 3481, 31586, 2268, 11654, 37, 8049, 995, 306, 21192, 5940, 22, 848, 48, 265, 3404, 24, 892, 7036, 33, 3897, 20, 14208, 2770, 11, 5922]\n",
            "\n",
            "1 대박좋아요 너무잘만들었어요!\n",
            "12 : ['▁대', '박', '좋', '아', '요', '▁너무', '잘', '만', '들', '었', '어요', '!']\n",
            "12 : [197, 819, 23912, 141, 431, 2329, 7946, 62, 306, 5562, 15963, 1030]\n",
            "12 : [197, 819, 23912, 141, 431, 2329, 7946, 62, 306, 5562, 15963, 1030]\n",
            "47 : [197, 819, 23912, 141, 431, 2329, 7946, 62, 306, 5562, 15963, 1030, 0, 0, 0, 0, 0, 0, 0, 0, 0, 0, 0, 0, 0, 0, 0, 0, 0, 0, 0, 0, 0, 0, 0, 0, 0, 0, 0, 0, 0, 0, 0, 0, 0, 0, 0]\n",
            "\n",
            "0 영화가 점점 뒤로 갈수록 짜증나네~ㅋ\n",
            "10 : ['▁영화가', '▁점점', '▁뒤로', '▁갈수록', '▁짜', '증', '나', '네', '~', 'ᄏ']\n",
            "10 : [15951, 3789, 6086, 12414, 6099, 756, 58, 343, 971, 31026]\n",
            "10 : [15951, 3789, 6086, 12414, 6099, 756, 58, 343, 971, 31026]\n",
            "47 : [15951, 3789, 6086, 12414, 6099, 756, 58, 343, 971, 31026, 0, 0, 0, 0, 0, 0, 0, 0, 0, 0, 0, 0, 0, 0, 0, 0, 0, 0, 0, 0, 0, 0, 0, 0, 0, 0, 0, 0, 0, 0, 0, 0, 0, 0, 0, 0, 0]\n",
            "\n"
          ],
          "name": "stdout"
        },
        {
          "output_type": "execute_result",
          "data": {
            "text/plain": [
              "(array([[ 3029,  4305, 13559,     7,     7,     7,     0,     0,     0,\n",
              "             0,     0,     0,     0,     0,     0,     0,     0,     0,\n",
              "             0,     0,     0,     0,     0,     0,     0,     0,     0,\n",
              "             0,     0,     0,     0,     0,     0,     0,     0,     0,\n",
              "             0,     0,     0,     0,     0,     0,     0,     0,     0,\n",
              "             0,     0],\n",
              "        [ 8718, 18512,   755,  1212,     9,   437,   444,   908,    32,\n",
              "          1598,   873,   961,     0,     0,     0,     0,     0,     0,\n",
              "             0,     0,     0,     0,     0,     0,     0,     0,     0,\n",
              "             0,     0,     0,     0,     0,     0,     0,     0,     0,\n",
              "             0,     0,     0,     0,     0,     0,     0,     0,     0,\n",
              "             0,     0],\n",
              "        [ 2761,  3029,    86,  1268,   447,    13, 14741,    62,  2368,\n",
              "         30159,  6227,   355,   735,   298,  1817,   298, 16577,    32,\n",
              "         11654,   110,     0,     0,     0,     0,     0,     0,     0,\n",
              "             0,     0,     0,     0,     0,     0,     0,     0,     0,\n",
              "             0,     0,     0,     0,     0,     0,     0,     0,     0,\n",
              "             0,     0],\n",
              "        [  549,   175,   408, 22069,   161,   182,   604,   495,   161,\n",
              "         24544,   506,  1106,     0,     0,     0,     0,     0,     0,\n",
              "             0,     0,     0,     0,     0,     0,     0,     0,     0,\n",
              "             0,     0,     0,     0,     0,     0,     0,     0,     0,\n",
              "             0,     0,     0,     0,     0,     0,     0,     0,     0,\n",
              "             0,     0],\n",
              "        [25261,   363,   347,   129,    17,  3903,    17,  5562,    47,\n",
              "             7,     0,     0,     0,     0,     0,     0,     0,     0,\n",
              "             0,     0,     0,     0,     0,     0,     0,     0,     0,\n",
              "             0,     0,     0,     0,     0,     0,     0,     0,     0,\n",
              "             0,     0,     0,     0,     0,     0,     0,     0,     0,\n",
              "             0,     0],\n",
              "        [ 1120,   276,   335, 11654,   128,   571,   194,   343,   971,\n",
              "           971,   971,   740,  2373,   706,    72,  1130,   366,  2603,\n",
              "            13, 14077,  3315,   274,  8101,   971,   971,  3541,   235,\n",
              "          1408, 28932,   740,  2373,  5105,  2062,  4008,   944,  3400,\n",
              "            18,  6991,   735,    47,   262, 17035,    47,   971,  1120,\n",
              "           339,  3131],\n",
              "        [21232,  5079,    24, 14467,    10,     9,  1821,  1438,   366,\n",
              "           949,     1,    50,     0,     0,     0,     0,     0,     0,\n",
              "             0,     0,     0,     0,     0,     0,     0,     0,     0,\n",
              "             0,     0,     0,     0,     0,     0,     0,     0,     0,\n",
              "             0,     0,     0,     0,     0,     0,     0,     0,     0,\n",
              "             0,     0],\n",
              "        [   39,  8107,   848,    48,  8923,   191,   447,  9305, 15963,\n",
              "           120,   320,    56,   836,   366,  9618,  1421, 16584,    33,\n",
              "           591,   355,    32,  6106,  3481, 31586,  2268, 11654,    37,\n",
              "          8049,   995,   306, 21192,  5940,    22,   848,    48,   265,\n",
              "          3404,    24,   892,  7036,    33,  3897,    20, 14208,  2770,\n",
              "            11,  5922],\n",
              "        [  197,   819, 23912,   141,   431,  2329,  7946,    62,   306,\n",
              "          5562, 15963,  1030,     0,     0,     0,     0,     0,     0,\n",
              "             0,     0,     0,     0,     0,     0,     0,     0,     0,\n",
              "             0,     0,     0,     0,     0,     0,     0,     0,     0,\n",
              "             0,     0,     0,     0,     0,     0,     0,     0,     0,\n",
              "             0,     0],\n",
              "        [15951,  3789,  6086, 12414,  6099,   756,    58,   343,   971,\n",
              "         31026,     0,     0,     0,     0,     0,     0,     0,     0,\n",
              "             0,     0,     0,     0,     0,     0,     0,     0,     0,\n",
              "             0,     0,     0,     0,     0,     0,     0,     0,     0,\n",
              "             0,     0,     0,     0,     0,     0,     0,     0,     0,\n",
              "             0,     0]], dtype=int32),\n",
              " array([0., 0., 0., 1., 0., 0., 1., 1., 1., 0.]))"
            ]
          },
          "metadata": {
            "tags": []
          },
          "execution_count": 50
        }
      ]
    },
    {
      "cell_type": "code",
      "metadata": {
        "id": "Ou45grDSS60t",
        "colab": {
          "base_uri": "https://localhost:8080/",
          "height": 1000,
          "referenced_widgets": [
            "499ceb5be1a24a52a0bbcc2f160df867",
            "e4da0889990c4f298d63e5cf087066dd",
            "959fdddda6104eada9065220c7a67882",
            "6f46e1f9e77c4ee89515f24dfaf2ce45",
            "88e53356a1574302980a23c9fea20fa6",
            "efae0386656a437ab84223b4d1797c11",
            "570858e2b1644577ac2509029b28d18f",
            "77e6c5fec47740559a0bf325a093d7e0"
          ]
        },
        "outputId": "d5ab2c30-d7dc-4fab-cbbb-72b14e9c5e39"
      },
      "source": [
        "# test data 생성\n",
        "test_inputs, test_labels = load_data(df_test, n_seq)\n",
        "test_inputs, test_labels"
      ],
      "execution_count": 51,
      "outputs": [
        {
          "output_type": "display_data",
          "data": {
            "application/vnd.jupyter.widget-view+json": {
              "model_id": "499ceb5be1a24a52a0bbcc2f160df867",
              "version_minor": 0,
              "version_major": 2
            },
            "text/plain": [
              "HBox(children=(FloatProgress(value=0.0, max=10.0), HTML(value='')))"
            ]
          },
          "metadata": {
            "tags": []
          }
        },
        {
          "output_type": "stream",
          "text": [
            "\n",
            "0 장난? ㅋ\n",
            "4 : ['▁장난', '?', '▁', 'ᄏ']\n",
            "4 : [18006, 1860, 10, 31026]\n",
            "4 : [18006, 1860, 10, 31026]\n",
            "47 : [18006, 1860, 10, 31026, 0, 0, 0, 0, 0, 0, 0, 0, 0, 0, 0, 0, 0, 0, 0, 0, 0, 0, 0, 0, 0, 0, 0, 0, 0, 0, 0, 0, 0, 0, 0, 0, 0, 0, 0, 0, 0, 0, 0, 0, 0, 0, 0]\n",
            "\n",
            "0 처음 오프닝 부분에 동네 주민 인터뷰.. 경찰청 사람들의 형사들도 이보단 자연스러웠다.연기자고 엑스트라고 오그라드는 발연기에 소름이 돋는다. AV연기가 더 낫다 레알.. 솔직히 내가 해도 저거보단 낫겠다 싶다\n",
            "57 : ['▁처음', '▁오프닝', '▁부분에', '▁동네', '▁주민', '▁인터뷰', '.', '.', '▁경찰청', '▁사람들의', '▁형사', '들도', '▁이', '보', '단', '▁자연', '스러웠', '다', '.', '연기', '자', '고', '▁엑스트라', '고', '▁오', '그라드', '는', '▁발', '연기', '에', '▁소', '름', '이', '▁돋', '는', '다', '.', '▁AV', '연기', '가', '▁더', '▁낫', '다', '▁레알', '.', '.', '▁솔직', '히', '▁내가', '▁해도', '▁저', '거', '보', '단', '▁낫', '겠다', '▁싶다']\n",
            "57 : [626, 11360, 6048, 15295, 4134, 9695, 7, 7, 18896, 4356, 5575, 2587, 29, 191, 342, 935, 27960, 50, 7, 19391, 71, 37, 28992, 37, 178, 22696, 11, 709, 19391, 13, 236, 1684, 17, 25223, 11, 50, 7, 17093, 19391, 19, 149, 14855, 50, 5565, 7, 7, 25261, 363, 7349, 4787, 811, 439, 191, 342, 14855, 9191, 9608]\n",
            "47 : [626, 11360, 6048, 15295, 4134, 9695, 7, 7, 18896, 4356, 5575, 2587, 29, 191, 342, 935, 27960, 50, 7, 19391, 71, 37, 28992, 37, 178, 22696, 11, 709, 19391, 13, 236, 1684, 17, 25223, 11, 50, 7, 17093, 19391, 19, 149, 14855, 50, 5565, 7, 7, 25261]\n",
            "47 : [626, 11360, 6048, 15295, 4134, 9695, 7, 7, 18896, 4356, 5575, 2587, 29, 191, 342, 935, 27960, 50, 7, 19391, 71, 37, 28992, 37, 178, 22696, 11, 709, 19391, 13, 236, 1684, 17, 25223, 11, 50, 7, 17093, 19391, 19, 149, 14855, 50, 5565, 7, 7, 25261]\n",
            "\n",
            "0 오글오글 발연기 진리콧물흘리는 유노윤호모습이 떠오르네\n",
            "20 : ['▁오', '글', '오', '글', '▁발', '연기', '▁진리', '콧', '물', '흘', '리는', '▁유', '노', '윤', '호', '모', '습', '이', '▁떠오르', '네']\n",
            "20 : [178, 2426, 177, 2426, 709, 19391, 10280, 26940, 505, 6839, 1821, 216, 217, 1304, 158, 296, 2099, 17, 17099, 343]\n",
            "20 : [178, 2426, 177, 2426, 709, 19391, 10280, 26940, 505, 6839, 1821, 216, 217, 1304, 158, 296, 2099, 17, 17099, 343]\n",
            "47 : [178, 2426, 177, 2426, 709, 19391, 10280, 26940, 505, 6839, 1821, 216, 217, 1304, 158, 296, 2099, 17, 17099, 343, 0, 0, 0, 0, 0, 0, 0, 0, 0, 0, 0, 0, 0, 0, 0, 0, 0, 0, 0, 0, 0, 0, 0, 0, 0, 0, 0]\n",
            "\n",
            "1 이 명작이 왜 7점밖에 안될까요? 평점만 보고 안보려고 했다가 안봤다면 후회할 뻔한 영화였네요..짜임새 스케일 연기력 대만족합니다..\n",
            "45 : ['▁이', '▁명', '작', '이', '▁왜', '▁7', '점', '밖에', '▁안', '될', '까', '요', '?', '▁평', '점', '만', '▁보고', '▁안보', '려고', '▁했다', '가', '▁안', '봤', '다면', '▁후', '회', '할', '▁뻔', '한', '▁영화', '였', '네', '요', '.', '.', '짜', '임', '새', '▁스케일', '▁연기력', '▁대만', '족', '합니다', '.', '.']\n",
            "45 : [29, 445, 836, 17, 2761, 74, 537, 4506, 295, 473, 2657, 431, 1860, 1399, 537, 62, 845, 9556, 3670, 168, 19, 295, 20839, 10145, 78, 164, 60, 14618, 33, 321, 8853, 343, 431, 7, 7, 8251, 729, 1358, 26290, 29362, 6262, 754, 5563, 7, 7]\n",
            "45 : [29, 445, 836, 17, 2761, 74, 537, 4506, 295, 473, 2657, 431, 1860, 1399, 537, 62, 845, 9556, 3670, 168, 19, 295, 20839, 10145, 78, 164, 60, 14618, 33, 321, 8853, 343, 431, 7, 7, 8251, 729, 1358, 26290, 29362, 6262, 754, 5563, 7, 7]\n",
            "47 : [29, 445, 836, 17, 2761, 74, 537, 4506, 295, 473, 2657, 431, 1860, 1399, 537, 62, 845, 9556, 3670, 168, 19, 295, 20839, 10145, 78, 164, 60, 14618, 33, 321, 8853, 343, 431, 7, 7, 8251, 729, 1358, 26290, 29362, 6262, 754, 5563, 7, 7, 0, 0]\n",
            "\n",
            "1 올 봄 당신들의 가슴속에 각인 될 단 하나의 똥쓰레기 작품이 온다 에어리언 대 거미\n",
            "22 : ['▁올', '▁봄', '▁당신', '들의', '▁가슴', '속에', '▁각', '인', '▁될', '▁단', '▁하나의', '▁', '똥', '쓰', '레', '기', '▁작품이', '▁온다', '▁에어', '리언', '▁대', '▁거미']\n",
            "22 : [1793, 3307, 8257, 337, 5135, 6220, 346, 31, 906, 446, 1267, 10, 19488, 1553, 289, 48, 6393, 14147, 3644, 9738, 197, 19602]\n",
            "22 : [1793, 3307, 8257, 337, 5135, 6220, 346, 31, 906, 446, 1267, 10, 19488, 1553, 289, 48, 6393, 14147, 3644, 9738, 197, 19602]\n",
            "47 : [1793, 3307, 8257, 337, 5135, 6220, 346, 31, 906, 446, 1267, 10, 19488, 1553, 289, 48, 6393, 14147, 3644, 9738, 197, 19602, 0, 0, 0, 0, 0, 0, 0, 0, 0, 0, 0, 0, 0, 0, 0, 0, 0, 0, 0, 0, 0, 0, 0, 0, 0]\n",
            "\n",
            "1 11111111\n",
            "4 : ['▁11', '11', '11', '11']\n",
            "4 : [103, 1303, 1303, 1303]\n",
            "4 : [103, 1303, 1303, 1303]\n",
            "47 : [103, 1303, 1303, 1303, 0, 0, 0, 0, 0, 0, 0, 0, 0, 0, 0, 0, 0, 0, 0, 0, 0, 0, 0, 0, 0, 0, 0, 0, 0, 0, 0, 0, 0, 0, 0, 0, 0, 0, 0, 0, 0, 0, 0, 0, 0, 0, 0]\n",
            "\n",
            "0 아~~재미없어~~~\n",
            "10 : ['▁아', '~', '~', '재', '미', '없', '어', '~', '~', '~']\n",
            "10 : [188, 971, 971, 349, 167, 11654, 110, 971, 971, 971]\n",
            "10 : [188, 971, 971, 349, 167, 11654, 110, 971, 971, 971]\n",
            "47 : [188, 971, 971, 349, 167, 11654, 110, 971, 971, 971, 0, 0, 0, 0, 0, 0, 0, 0, 0, 0, 0, 0, 0, 0, 0, 0, 0, 0, 0, 0, 0, 0, 0, 0, 0, 0, 0, 0, 0, 0, 0, 0, 0, 0, 0, 0, 0]\n",
            "\n",
            "1 이 영화보고 울었다...\n",
            "8 : ['▁이', '▁영화', '보고', '▁울', '었다', '.', '.', '.']\n",
            "8 : [29, 321, 7476, 2376, 782, 7, 7, 7]\n",
            "8 : [29, 321, 7476, 2376, 782, 7, 7, 7]\n",
            "47 : [29, 321, 7476, 2376, 782, 7, 7, 7, 0, 0, 0, 0, 0, 0, 0, 0, 0, 0, 0, 0, 0, 0, 0, 0, 0, 0, 0, 0, 0, 0, 0, 0, 0, 0, 0, 0, 0, 0, 0, 0, 0, 0, 0, 0, 0, 0, 0]\n",
            "\n",
            "1 리메이크 없나요 ... 아~ 또 보고싶다 극장에서 ..\n",
            "15 : ['▁리메이크', '▁없', '나', '요', '▁...', '▁아', '~', '▁또', '▁보고', '싶', '다', '▁극장에서', '▁', '.', '.']\n",
            "15 : [8542, 6943, 58, 431, 11751, 188, 971, 375, 845, 28183, 50, 14791, 10, 7, 7]\n",
            "15 : [8542, 6943, 58, 431, 11751, 188, 971, 375, 845, 28183, 50, 14791, 10, 7, 7]\n",
            "47 : [8542, 6943, 58, 431, 11751, 188, 971, 375, 845, 28183, 50, 14791, 10, 7, 7, 0, 0, 0, 0, 0, 0, 0, 0, 0, 0, 0, 0, 0, 0, 0, 0, 0, 0, 0, 0, 0, 0, 0, 0, 0, 0, 0, 0, 0, 0, 0, 0]\n",
            "\n",
            "0 독특한 소재를 참 심심하게 만들어내는 능력이 있는 감독\n",
            "11 : ['▁독특한', '▁소재', '를', '▁참', '▁심', '심', '하게', '▁만들어내는', '▁능력이', '▁있는', '▁감독']\n",
            "11 : [4277, 3831, 20, 1120, 608, 609, 104, 24073, 7771, 40, 843]\n",
            "11 : [4277, 3831, 20, 1120, 608, 609, 104, 24073, 7771, 40, 843]\n",
            "47 : [4277, 3831, 20, 1120, 608, 609, 104, 24073, 7771, 40, 843, 0, 0, 0, 0, 0, 0, 0, 0, 0, 0, 0, 0, 0, 0, 0, 0, 0, 0, 0, 0, 0, 0, 0, 0, 0, 0, 0, 0, 0, 0, 0, 0, 0, 0, 0, 0]\n",
            "\n"
          ],
          "name": "stdout"
        },
        {
          "output_type": "execute_result",
          "data": {
            "text/plain": [
              "(array([[18006,  1860,    10, 31026,     0,     0,     0,     0,     0,\n",
              "             0,     0,     0,     0,     0,     0,     0,     0,     0,\n",
              "             0,     0,     0,     0,     0,     0,     0,     0,     0,\n",
              "             0,     0,     0,     0,     0,     0,     0,     0,     0,\n",
              "             0,     0,     0,     0,     0,     0,     0,     0,     0,\n",
              "             0,     0],\n",
              "        [  626, 11360,  6048, 15295,  4134,  9695,     7,     7, 18896,\n",
              "          4356,  5575,  2587,    29,   191,   342,   935, 27960,    50,\n",
              "             7, 19391,    71,    37, 28992,    37,   178, 22696,    11,\n",
              "           709, 19391,    13,   236,  1684,    17, 25223,    11,    50,\n",
              "             7, 17093, 19391,    19,   149, 14855,    50,  5565,     7,\n",
              "             7, 25261],\n",
              "        [  178,  2426,   177,  2426,   709, 19391, 10280, 26940,   505,\n",
              "          6839,  1821,   216,   217,  1304,   158,   296,  2099,    17,\n",
              "         17099,   343,     0,     0,     0,     0,     0,     0,     0,\n",
              "             0,     0,     0,     0,     0,     0,     0,     0,     0,\n",
              "             0,     0,     0,     0,     0,     0,     0,     0,     0,\n",
              "             0,     0],\n",
              "        [   29,   445,   836,    17,  2761,    74,   537,  4506,   295,\n",
              "           473,  2657,   431,  1860,  1399,   537,    62,   845,  9556,\n",
              "          3670,   168,    19,   295, 20839, 10145,    78,   164,    60,\n",
              "         14618,    33,   321,  8853,   343,   431,     7,     7,  8251,\n",
              "           729,  1358, 26290, 29362,  6262,   754,  5563,     7,     7,\n",
              "             0,     0],\n",
              "        [ 1793,  3307,  8257,   337,  5135,  6220,   346,    31,   906,\n",
              "           446,  1267,    10, 19488,  1553,   289,    48,  6393, 14147,\n",
              "          3644,  9738,   197, 19602,     0,     0,     0,     0,     0,\n",
              "             0,     0,     0,     0,     0,     0,     0,     0,     0,\n",
              "             0,     0,     0,     0,     0,     0,     0,     0,     0,\n",
              "             0,     0],\n",
              "        [  103,  1303,  1303,  1303,     0,     0,     0,     0,     0,\n",
              "             0,     0,     0,     0,     0,     0,     0,     0,     0,\n",
              "             0,     0,     0,     0,     0,     0,     0,     0,     0,\n",
              "             0,     0,     0,     0,     0,     0,     0,     0,     0,\n",
              "             0,     0,     0,     0,     0,     0,     0,     0,     0,\n",
              "             0,     0],\n",
              "        [  188,   971,   971,   349,   167, 11654,   110,   971,   971,\n",
              "           971,     0,     0,     0,     0,     0,     0,     0,     0,\n",
              "             0,     0,     0,     0,     0,     0,     0,     0,     0,\n",
              "             0,     0,     0,     0,     0,     0,     0,     0,     0,\n",
              "             0,     0,     0,     0,     0,     0,     0,     0,     0,\n",
              "             0,     0],\n",
              "        [   29,   321,  7476,  2376,   782,     7,     7,     7,     0,\n",
              "             0,     0,     0,     0,     0,     0,     0,     0,     0,\n",
              "             0,     0,     0,     0,     0,     0,     0,     0,     0,\n",
              "             0,     0,     0,     0,     0,     0,     0,     0,     0,\n",
              "             0,     0,     0,     0,     0,     0,     0,     0,     0,\n",
              "             0,     0],\n",
              "        [ 8542,  6943,    58,   431, 11751,   188,   971,   375,   845,\n",
              "         28183,    50, 14791,    10,     7,     7,     0,     0,     0,\n",
              "             0,     0,     0,     0,     0,     0,     0,     0,     0,\n",
              "             0,     0,     0,     0,     0,     0,     0,     0,     0,\n",
              "             0,     0,     0,     0,     0,     0,     0,     0,     0,\n",
              "             0,     0],\n",
              "        [ 4277,  3831,    20,  1120,   608,   609,   104, 24073,  7771,\n",
              "            40,   843,     0,     0,     0,     0,     0,     0,     0,\n",
              "             0,     0,     0,     0,     0,     0,     0,     0,     0,\n",
              "             0,     0,     0,     0,     0,     0,     0,     0,     0,\n",
              "             0,     0,     0,     0,     0,     0,     0,     0,     0,\n",
              "             0,     0]], dtype=int32),\n",
              " array([0., 0., 0., 1., 1., 1., 0., 1., 1., 0.]))"
            ]
          },
          "metadata": {
            "tags": []
          },
          "execution_count": 51
        }
      ]
    },
    {
      "cell_type": "markdown",
      "metadata": {
        "id": "IFTsdA3kE2h-"
      },
      "source": [
        "## 학습"
      ]
    },
    {
      "cell_type": "code",
      "metadata": {
        "id": "6DP4LJwUe7Uk",
        "colab": {
          "base_uri": "https://localhost:8080/",
          "height": 422
        },
        "outputId": "6349d5e7-f9bc-497a-ee14-99ad098ceae4"
      },
      "source": [
        "# 모델 생성\n",
        "model = build_model(len(vocab), d_model, n_seq, n_out)\n",
        "# 모델 내용 그래프 출력\n",
        "tf.keras.utils.plot_model(model, 'model.png', show_shapes=True)"
      ],
      "execution_count": 52,
      "outputs": [
        {
          "output_type": "execute_result",
          "data": {
            "image/png": "[encoded data removed]",
            "text/plain": [
              "<IPython.core.display.Image object>"
            ]
          },
          "metadata": {
            "tags": []
          },
          "execution_count": 52
        }
      ]
    },
    {
      "cell_type": "code",
      "metadata": {
        "id": "X7UDvaPqEx1c"
      },
      "source": [
        "# 모델 loss, optimizer, metric 정의\n",
        "model.compile(loss='sparse_categorical_crossentropy', optimizer='adam', metrics=['accuracy'])"
      ],
      "execution_count": 53,
      "outputs": []
    },
    {
      "cell_type": "code",
      "metadata": {
        "id": "MSyF0MvAFGoJ",
        "colab": {
          "base_uri": "https://localhost:8080/"
        },
        "outputId": "a49afbad-64bd-4d18-cef0-8ec596cf186b"
      },
      "source": [
        "# 모델 학습\n",
        "history = model.fit(train_inputs, train_labels,\n",
        "                    validation_data=(test_inputs, test_labels),\n",
        "                    epochs=100,\n",
        "                    batch_size=4)"
      ],
      "execution_count": 54,
      "outputs": [
        {
          "output_type": "stream",
          "text": [
            "Epoch 1/100\n",
            "3/3 [==============================] - 1s 325ms/step - loss: 0.6971 - accuracy: 0.5125 - val_loss: 0.6945 - val_accuracy: 0.5000\n",
            "Epoch 2/100\n",
            "3/3 [==============================] - 0s 95ms/step - loss: 0.6820 - accuracy: 0.5500 - val_loss: 0.6946 - val_accuracy: 0.5000\n",
            "Epoch 3/100\n",
            "3/3 [==============================] - 0s 94ms/step - loss: 0.6563 - accuracy: 0.6937 - val_loss: 0.6947 - val_accuracy: 0.5000\n",
            "Epoch 4/100\n",
            "3/3 [==============================] - 0s 94ms/step - loss: 0.6412 - accuracy: 0.8562 - val_loss: 0.6948 - val_accuracy: 0.5000\n",
            "Epoch 5/100\n",
            "3/3 [==============================] - 0s 93ms/step - loss: 0.6304 - accuracy: 1.0000 - val_loss: 0.6950 - val_accuracy: 0.5000\n",
            "Epoch 6/100\n",
            "3/3 [==============================] - 0s 95ms/step - loss: 0.6043 - accuracy: 1.0000 - val_loss: 0.6955 - val_accuracy: 0.5000\n",
            "Epoch 7/100\n",
            "3/3 [==============================] - 0s 98ms/step - loss: 0.5845 - accuracy: 1.0000 - val_loss: 0.6962 - val_accuracy: 0.5000\n",
            "Epoch 8/100\n",
            "3/3 [==============================] - 0s 97ms/step - loss: 0.5742 - accuracy: 1.0000 - val_loss: 0.6968 - val_accuracy: 0.5000\n",
            "Epoch 9/100\n",
            "3/3 [==============================] - 0s 94ms/step - loss: 0.5640 - accuracy: 1.0000 - val_loss: 0.6972 - val_accuracy: 0.5000\n",
            "Epoch 10/100\n",
            "3/3 [==============================] - 0s 97ms/step - loss: 0.5578 - accuracy: 1.0000 - val_loss: 0.6977 - val_accuracy: 0.5000\n",
            "Epoch 11/100\n",
            "3/3 [==============================] - 0s 101ms/step - loss: 0.5110 - accuracy: 1.0000 - val_loss: 0.6985 - val_accuracy: 0.5000\n",
            "Epoch 12/100\n",
            "3/3 [==============================] - 0s 94ms/step - loss: 0.5347 - accuracy: 1.0000 - val_loss: 0.6987 - val_accuracy: 0.5000\n",
            "Epoch 13/100\n",
            "3/3 [==============================] - 0s 93ms/step - loss: 0.4948 - accuracy: 1.0000 - val_loss: 0.6990 - val_accuracy: 0.5000\n",
            "Epoch 14/100\n",
            "3/3 [==============================] - 0s 94ms/step - loss: 0.4991 - accuracy: 1.0000 - val_loss: 0.6992 - val_accuracy: 0.5000\n",
            "Epoch 15/100\n",
            "3/3 [==============================] - 0s 97ms/step - loss: 0.4641 - accuracy: 1.0000 - val_loss: 0.6997 - val_accuracy: 0.5000\n",
            "Epoch 16/100\n",
            "3/3 [==============================] - 0s 156ms/step - loss: 0.4658 - accuracy: 1.0000 - val_loss: 0.6999 - val_accuracy: 0.5000\n",
            "Epoch 17/100\n",
            "3/3 [==============================] - 0s 95ms/step - loss: 0.4390 - accuracy: 1.0000 - val_loss: 0.7004 - val_accuracy: 0.5000\n",
            "Epoch 18/100\n",
            "3/3 [==============================] - 0s 96ms/step - loss: 0.4144 - accuracy: 1.0000 - val_loss: 0.7007 - val_accuracy: 0.5000\n",
            "Epoch 19/100\n",
            "3/3 [==============================] - 0s 94ms/step - loss: 0.4260 - accuracy: 1.0000 - val_loss: 0.7007 - val_accuracy: 0.5000\n",
            "Epoch 20/100\n",
            "3/3 [==============================] - 0s 91ms/step - loss: 0.4057 - accuracy: 1.0000 - val_loss: 0.7009 - val_accuracy: 0.5000\n",
            "Epoch 21/100\n",
            "3/3 [==============================] - 0s 94ms/step - loss: 0.3627 - accuracy: 1.0000 - val_loss: 0.7016 - val_accuracy: 0.5000\n",
            "Epoch 22/100\n",
            "3/3 [==============================] - 0s 100ms/step - loss: 0.3471 - accuracy: 1.0000 - val_loss: 0.7018 - val_accuracy: 0.5000\n",
            "Epoch 23/100\n",
            "3/3 [==============================] - 0s 93ms/step - loss: 0.3480 - accuracy: 1.0000 - val_loss: 0.7016 - val_accuracy: 0.5000\n",
            "Epoch 24/100\n",
            "3/3 [==============================] - 0s 91ms/step - loss: 0.3257 - accuracy: 1.0000 - val_loss: 0.7018 - val_accuracy: 0.5000\n",
            "Epoch 25/100\n",
            "3/3 [==============================] - 0s 89ms/step - loss: 0.2973 - accuracy: 1.0000 - val_loss: 0.7021 - val_accuracy: 0.5000\n",
            "Epoch 26/100\n",
            "3/3 [==============================] - 0s 96ms/step - loss: 0.2818 - accuracy: 1.0000 - val_loss: 0.7022 - val_accuracy: 0.5000\n",
            "Epoch 27/100\n",
            "3/3 [==============================] - 0s 91ms/step - loss: 0.2760 - accuracy: 1.0000 - val_loss: 0.7022 - val_accuracy: 0.5000\n",
            "Epoch 28/100\n",
            "3/3 [==============================] - 0s 91ms/step - loss: 0.2615 - accuracy: 1.0000 - val_loss: 0.7023 - val_accuracy: 0.5000\n",
            "Epoch 29/100\n",
            "3/3 [==============================] - 0s 91ms/step - loss: 0.2339 - accuracy: 1.0000 - val_loss: 0.7028 - val_accuracy: 0.5000\n",
            "Epoch 30/100\n",
            "3/3 [==============================] - 0s 97ms/step - loss: 0.2163 - accuracy: 1.0000 - val_loss: 0.7035 - val_accuracy: 0.5000\n",
            "Epoch 31/100\n",
            "3/3 [==============================] - 0s 90ms/step - loss: 0.2145 - accuracy: 1.0000 - val_loss: 0.7036 - val_accuracy: 0.5000\n",
            "Epoch 32/100\n",
            "3/3 [==============================] - 0s 93ms/step - loss: 0.1882 - accuracy: 1.0000 - val_loss: 0.7038 - val_accuracy: 0.5000\n",
            "Epoch 33/100\n",
            "3/3 [==============================] - 0s 93ms/step - loss: 0.1818 - accuracy: 1.0000 - val_loss: 0.7034 - val_accuracy: 0.5000\n",
            "Epoch 34/100\n",
            "3/3 [==============================] - 0s 95ms/step - loss: 0.1639 - accuracy: 1.0000 - val_loss: 0.7032 - val_accuracy: 0.5000\n",
            "Epoch 35/100\n",
            "3/3 [==============================] - 0s 92ms/step - loss: 0.1570 - accuracy: 1.0000 - val_loss: 0.7027 - val_accuracy: 0.5000\n",
            "Epoch 36/100\n",
            "3/3 [==============================] - 0s 91ms/step - loss: 0.1466 - accuracy: 1.0000 - val_loss: 0.7024 - val_accuracy: 0.6000\n",
            "Epoch 37/100\n",
            "3/3 [==============================] - 0s 99ms/step - loss: 0.1385 - accuracy: 1.0000 - val_loss: 0.7024 - val_accuracy: 0.6000\n",
            "Epoch 38/100\n",
            "3/3 [==============================] - 0s 90ms/step - loss: 0.1306 - accuracy: 1.0000 - val_loss: 0.7022 - val_accuracy: 0.6000\n",
            "Epoch 39/100\n",
            "3/3 [==============================] - 0s 95ms/step - loss: 0.1185 - accuracy: 1.0000 - val_loss: 0.7022 - val_accuracy: 0.6000\n",
            "Epoch 40/100\n",
            "3/3 [==============================] - 0s 91ms/step - loss: 0.1162 - accuracy: 1.0000 - val_loss: 0.7020 - val_accuracy: 0.6000\n",
            "Epoch 41/100\n",
            "3/3 [==============================] - 0s 94ms/step - loss: 0.1070 - accuracy: 1.0000 - val_loss: 0.7021 - val_accuracy: 0.6000\n",
            "Epoch 42/100\n",
            "3/3 [==============================] - 0s 91ms/step - loss: 0.1022 - accuracy: 1.0000 - val_loss: 0.7021 - val_accuracy: 0.6000\n",
            "Epoch 43/100\n",
            "3/3 [==============================] - 0s 93ms/step - loss: 0.0943 - accuracy: 1.0000 - val_loss: 0.7025 - val_accuracy: 0.6000\n",
            "Epoch 44/100\n",
            "3/3 [==============================] - 0s 90ms/step - loss: 0.0874 - accuracy: 1.0000 - val_loss: 0.7032 - val_accuracy: 0.6000\n",
            "Epoch 45/100\n",
            "3/3 [==============================] - 0s 95ms/step - loss: 0.0797 - accuracy: 1.0000 - val_loss: 0.7038 - val_accuracy: 0.6000\n",
            "Epoch 46/100\n",
            "3/3 [==============================] - 0s 95ms/step - loss: 0.0752 - accuracy: 1.0000 - val_loss: 0.7043 - val_accuracy: 0.6000\n",
            "Epoch 47/100\n",
            "3/3 [==============================] - 0s 91ms/step - loss: 0.0712 - accuracy: 1.0000 - val_loss: 0.7046 - val_accuracy: 0.6000\n",
            "Epoch 48/100\n",
            "3/3 [==============================] - 0s 94ms/step - loss: 0.0636 - accuracy: 1.0000 - val_loss: 0.7050 - val_accuracy: 0.6000\n",
            "Epoch 49/100\n",
            "3/3 [==============================] - 0s 96ms/step - loss: 0.0627 - accuracy: 1.0000 - val_loss: 0.7054 - val_accuracy: 0.6000\n",
            "Epoch 50/100\n",
            "3/3 [==============================] - 0s 92ms/step - loss: 0.0602 - accuracy: 1.0000 - val_loss: 0.7058 - val_accuracy: 0.6000\n",
            "Epoch 51/100\n",
            "3/3 [==============================] - 0s 93ms/step - loss: 0.0549 - accuracy: 1.0000 - val_loss: 0.7063 - val_accuracy: 0.6000\n",
            "Epoch 52/100\n",
            "3/3 [==============================] - 0s 97ms/step - loss: 0.0506 - accuracy: 1.0000 - val_loss: 0.7068 - val_accuracy: 0.6000\n",
            "Epoch 53/100\n",
            "3/3 [==============================] - 0s 94ms/step - loss: 0.0517 - accuracy: 1.0000 - val_loss: 0.7070 - val_accuracy: 0.6000\n",
            "Epoch 54/100\n",
            "3/3 [==============================] - 0s 90ms/step - loss: 0.0480 - accuracy: 1.0000 - val_loss: 0.7074 - val_accuracy: 0.6000\n",
            "Epoch 55/100\n",
            "3/3 [==============================] - 0s 90ms/step - loss: 0.0452 - accuracy: 1.0000 - val_loss: 0.7079 - val_accuracy: 0.6000\n",
            "Epoch 56/100\n",
            "3/3 [==============================] - 0s 92ms/step - loss: 0.0436 - accuracy: 1.0000 - val_loss: 0.7084 - val_accuracy: 0.6000\n",
            "Epoch 57/100\n",
            "3/3 [==============================] - 0s 94ms/step - loss: 0.0430 - accuracy: 1.0000 - val_loss: 0.7089 - val_accuracy: 0.6000\n",
            "Epoch 58/100\n",
            "3/3 [==============================] - 0s 95ms/step - loss: 0.0384 - accuracy: 1.0000 - val_loss: 0.7096 - val_accuracy: 0.6000\n",
            "Epoch 59/100\n",
            "3/3 [==============================] - 0s 96ms/step - loss: 0.0355 - accuracy: 1.0000 - val_loss: 0.7102 - val_accuracy: 0.6000\n",
            "Epoch 60/100\n",
            "3/3 [==============================] - 0s 142ms/step - loss: 0.0364 - accuracy: 1.0000 - val_loss: 0.7107 - val_accuracy: 0.6000\n",
            "Epoch 61/100\n",
            "3/3 [==============================] - 0s 93ms/step - loss: 0.0334 - accuracy: 1.0000 - val_loss: 0.7113 - val_accuracy: 0.6000\n",
            "Epoch 62/100\n",
            "3/3 [==============================] - 0s 93ms/step - loss: 0.0315 - accuracy: 1.0000 - val_loss: 0.7118 - val_accuracy: 0.6000\n",
            "Epoch 63/100\n",
            "3/3 [==============================] - 0s 95ms/step - loss: 0.0317 - accuracy: 1.0000 - val_loss: 0.7121 - val_accuracy: 0.6000\n",
            "Epoch 64/100\n",
            "3/3 [==============================] - 0s 95ms/step - loss: 0.0300 - accuracy: 1.0000 - val_loss: 0.7125 - val_accuracy: 0.6000\n",
            "Epoch 65/100\n",
            "3/3 [==============================] - 0s 92ms/step - loss: 0.0279 - accuracy: 1.0000 - val_loss: 0.7129 - val_accuracy: 0.6000\n",
            "Epoch 66/100\n",
            "3/3 [==============================] - 0s 93ms/step - loss: 0.0270 - accuracy: 1.0000 - val_loss: 0.7132 - val_accuracy: 0.6000\n",
            "Epoch 67/100\n",
            "3/3 [==============================] - 0s 93ms/step - loss: 0.0260 - accuracy: 1.0000 - val_loss: 0.7136 - val_accuracy: 0.6000\n",
            "Epoch 68/100\n",
            "3/3 [==============================] - 0s 93ms/step - loss: 0.0258 - accuracy: 1.0000 - val_loss: 0.7140 - val_accuracy: 0.6000\n",
            "Epoch 69/100\n",
            "3/3 [==============================] - 0s 102ms/step - loss: 0.0237 - accuracy: 1.0000 - val_loss: 0.7143 - val_accuracy: 0.6000\n",
            "Epoch 70/100\n",
            "3/3 [==============================] - 0s 92ms/step - loss: 0.0237 - accuracy: 1.0000 - val_loss: 0.7145 - val_accuracy: 0.6000\n",
            "Epoch 71/100\n",
            "3/3 [==============================] - 0s 94ms/step - loss: 0.0226 - accuracy: 1.0000 - val_loss: 0.7147 - val_accuracy: 0.6000\n",
            "Epoch 72/100\n",
            "3/3 [==============================] - 0s 95ms/step - loss: 0.0219 - accuracy: 1.0000 - val_loss: 0.7150 - val_accuracy: 0.6000\n",
            "Epoch 73/100\n",
            "3/3 [==============================] - 0s 93ms/step - loss: 0.0204 - accuracy: 1.0000 - val_loss: 0.7153 - val_accuracy: 0.6000\n",
            "Epoch 74/100\n",
            "3/3 [==============================] - 0s 93ms/step - loss: 0.0207 - accuracy: 1.0000 - val_loss: 0.7155 - val_accuracy: 0.6000\n",
            "Epoch 75/100\n",
            "3/3 [==============================] - 0s 91ms/step - loss: 0.0193 - accuracy: 1.0000 - val_loss: 0.7159 - val_accuracy: 0.6000\n",
            "Epoch 76/100\n",
            "3/3 [==============================] - 0s 91ms/step - loss: 0.0191 - accuracy: 1.0000 - val_loss: 0.7163 - val_accuracy: 0.6000\n",
            "Epoch 77/100\n",
            "3/3 [==============================] - 0s 93ms/step - loss: 0.0192 - accuracy: 1.0000 - val_loss: 0.7166 - val_accuracy: 0.6000\n",
            "Epoch 78/100\n",
            "3/3 [==============================] - 0s 94ms/step - loss: 0.0185 - accuracy: 1.0000 - val_loss: 0.7170 - val_accuracy: 0.6000\n",
            "Epoch 79/100\n",
            "3/3 [==============================] - 0s 93ms/step - loss: 0.0174 - accuracy: 1.0000 - val_loss: 0.7175 - val_accuracy: 0.6000\n",
            "Epoch 80/100\n",
            "3/3 [==============================] - 0s 93ms/step - loss: 0.0170 - accuracy: 1.0000 - val_loss: 0.7181 - val_accuracy: 0.6000\n",
            "Epoch 81/100\n",
            "3/3 [==============================] - 0s 95ms/step - loss: 0.0162 - accuracy: 1.0000 - val_loss: 0.7186 - val_accuracy: 0.6000\n",
            "Epoch 82/100\n",
            "3/3 [==============================] - 0s 94ms/step - loss: 0.0160 - accuracy: 1.0000 - val_loss: 0.7190 - val_accuracy: 0.6000\n",
            "Epoch 83/100\n",
            "3/3 [==============================] - 0s 94ms/step - loss: 0.0155 - accuracy: 1.0000 - val_loss: 0.7194 - val_accuracy: 0.6000\n",
            "Epoch 84/100\n",
            "3/3 [==============================] - 0s 93ms/step - loss: 0.0147 - accuracy: 1.0000 - val_loss: 0.7197 - val_accuracy: 0.6000\n",
            "Epoch 85/100\n",
            "3/3 [==============================] - 0s 89ms/step - loss: 0.0141 - accuracy: 1.0000 - val_loss: 0.7202 - val_accuracy: 0.6000\n",
            "Epoch 86/100\n",
            "3/3 [==============================] - 0s 93ms/step - loss: 0.0136 - accuracy: 1.0000 - val_loss: 0.7206 - val_accuracy: 0.6000\n",
            "Epoch 87/100\n",
            "3/3 [==============================] - 0s 93ms/step - loss: 0.0139 - accuracy: 1.0000 - val_loss: 0.7207 - val_accuracy: 0.6000\n",
            "Epoch 88/100\n",
            "3/3 [==============================] - 0s 92ms/step - loss: 0.0135 - accuracy: 1.0000 - val_loss: 0.7209 - val_accuracy: 0.6000\n",
            "Epoch 89/100\n",
            "3/3 [==============================] - 0s 92ms/step - loss: 0.0135 - accuracy: 1.0000 - val_loss: 0.7211 - val_accuracy: 0.6000\n",
            "Epoch 90/100\n",
            "3/3 [==============================] - 0s 94ms/step - loss: 0.0123 - accuracy: 1.0000 - val_loss: 0.7214 - val_accuracy: 0.6000\n",
            "Epoch 91/100\n",
            "3/3 [==============================] - 0s 94ms/step - loss: 0.0126 - accuracy: 1.0000 - val_loss: 0.7217 - val_accuracy: 0.6000\n",
            "Epoch 92/100\n",
            "3/3 [==============================] - 0s 95ms/step - loss: 0.0119 - accuracy: 1.0000 - val_loss: 0.7221 - val_accuracy: 0.6000\n",
            "Epoch 93/100\n",
            "3/3 [==============================] - 0s 92ms/step - loss: 0.0117 - accuracy: 1.0000 - val_loss: 0.7225 - val_accuracy: 0.6000\n",
            "Epoch 94/100\n",
            "3/3 [==============================] - 0s 91ms/step - loss: 0.0108 - accuracy: 1.0000 - val_loss: 0.7230 - val_accuracy: 0.6000\n",
            "Epoch 95/100\n",
            "3/3 [==============================] - 0s 94ms/step - loss: 0.0107 - accuracy: 1.0000 - val_loss: 0.7235 - val_accuracy: 0.6000\n",
            "Epoch 96/100\n",
            "3/3 [==============================] - 0s 91ms/step - loss: 0.0108 - accuracy: 1.0000 - val_loss: 0.7239 - val_accuracy: 0.6000\n",
            "Epoch 97/100\n",
            "3/3 [==============================] - 0s 96ms/step - loss: 0.0105 - accuracy: 1.0000 - val_loss: 0.7243 - val_accuracy: 0.6000\n",
            "Epoch 98/100\n",
            "3/3 [==============================] - 0s 94ms/step - loss: 0.0098 - accuracy: 1.0000 - val_loss: 0.7246 - val_accuracy: 0.6000\n",
            "Epoch 99/100\n",
            "3/3 [==============================] - 0s 95ms/step - loss: 0.0099 - accuracy: 1.0000 - val_loss: 0.7250 - val_accuracy: 0.6000\n",
            "Epoch 100/100\n",
            "3/3 [==============================] - 0s 92ms/step - loss: 0.0100 - accuracy: 1.0000 - val_loss: 0.7252 - val_accuracy: 0.6000\n"
          ],
          "name": "stdout"
        }
      ]
    },
    {
      "cell_type": "code",
      "metadata": {
        "id": "m1UWJMf4FTiZ",
        "colab": {
          "base_uri": "https://localhost:8080/",
          "height": 278
        },
        "outputId": "6ee4d7f6-546b-43e4-8a76-61daa69f078f"
      },
      "source": [
        "plt.figure(figsize=(12, 4))\n",
        "\n",
        "plt.subplot(1, 2, 1)\n",
        "plt.plot(history.history['loss'], 'b-', label='loss')\n",
        "plt.plot(history.history['val_loss'], 'r--', label='val_loss')\n",
        "plt.xlabel('Epoch')\n",
        "plt.legend()\n",
        "\n",
        "plt.subplot(1, 2, 2)\n",
        "plt.plot(history.history['accuracy'], 'g-', label='acc')\n",
        "plt.plot(history.history['val_accuracy'], 'k--', label='val_acc')\n",
        "plt.xlabel('Epoch')\n",
        "plt.legend()\n",
        "\n",
        "plt.show()"
      ],
      "execution_count": 55,
      "outputs": [
        {
          "output_type": "display_data",
          "data": {
            "image/png": "[encoded data removed]",
            "text/plain": [
              "<Figure size 864x288 with 2 Axes>"
            ]
          },
          "metadata": {
            "tags": [],
            "needs_background": "light"
          }
        }
      ]
    },
    {
      "cell_type": "markdown",
      "metadata": {
        "id": "rrhMcv0FZhbi"
      },
      "source": [
        "## 학습 2"
      ]
    },
    {
      "cell_type": "code",
      "metadata": {
        "id": "r1dCJdATG-Hc",
        "colab": {
          "base_uri": "https://localhost:8080/",
          "height": 422
        },
        "outputId": "9d530087-18ed-4a50-cc40-81389f54e178"
      },
      "source": [
        "# 모델 생성\n",
        "model = build_model(len(vocab), d_model, n_seq, n_out)\n",
        "# 모델 내용 그래프 출력\n",
        "tf.keras.utils.plot_model(model, 'model.png', show_shapes=True)"
      ],
      "execution_count": 56,
      "outputs": [
        {
          "output_type": "execute_result",
          "data": {
            "image/png": "[encoded data removed]",
            "text/plain": [
              "<IPython.core.display.Image object>"
            ]
          },
          "metadata": {
            "tags": []
          },
          "execution_count": 56
        }
      ]
    },
    {
      "cell_type": "code",
      "metadata": {
        "id": "oh87DPXoZhbi"
      },
      "source": [
        "# 모델 loss, optimizer, metric 정의\n",
        "model.compile(loss='sparse_categorical_crossentropy', optimizer='adam', metrics=['accuracy'])"
      ],
      "execution_count": 57,
      "outputs": []
    },
    {
      "cell_type": "code",
      "metadata": {
        "id": "7kvUzLAvHAxb"
      },
      "source": [
        "# early stopping\n",
        "early_stopping = tf.keras.callbacks.EarlyStopping(monitor='val_accuracy', patience=20)\n",
        "# save weights callback\n",
        "save_weights = tf.keras.callbacks.ModelCheckpoint(os.path.join(nsmc_dir, 'stub.hdf5'),\n",
        "                                                  monitor='val_accuracy',\n",
        "                                                  verbose=1,\n",
        "                                                  save_best_only=True,\n",
        "                                                  mode=\"max\",\n",
        "                                                  save_freq=\"epoch\",\n",
        "                                                  save_weights_only=True)\n",
        "# csv logger\n",
        "csv_logger = tf.keras.callbacks.CSVLogger(os.path.join(nsmc_dir, 'stub.csv'))"
      ],
      "execution_count": 58,
      "outputs": []
    },
    {
      "cell_type": "code",
      "metadata": {
        "id": "K5mlWw7lZhbi",
        "colab": {
          "base_uri": "https://localhost:8080/"
        },
        "outputId": "aec913ea-9af6-4425-cba9-6ec7c3bcb85e"
      },
      "source": [
        "# 모델 학습\n",
        "history = model.fit(train_inputs,\n",
        "                    train_labels,\n",
        "                    validation_data=(test_inputs, test_labels),\n",
        "                    epochs=100,\n",
        "                    batch_size=256,\n",
        "                    callbacks=[early_stopping, save_weights, csv_logger])"
      ],
      "execution_count": 59,
      "outputs": [
        {
          "output_type": "stream",
          "text": [
            "Epoch 1/100\n",
            "1/1 [==============================] - 1s 549ms/step - loss: 0.6825 - accuracy: 0.6000 - val_loss: 0.6910 - val_accuracy: 0.5000\n",
            "\n",
            "Epoch 00001: val_accuracy improved from -inf to 0.50000, saving model to /content/drive/MyDrive/AI집중캠프(자연어처리)/실습/data/nsmc/stub.hdf5\n",
            "Epoch 2/100\n",
            "1/1 [==============================] - 0s 214ms/step - loss: 0.6709 - accuracy: 0.6000 - val_loss: 0.6919 - val_accuracy: 0.5000\n",
            "\n",
            "Epoch 00002: val_accuracy did not improve from 0.50000\n",
            "Epoch 3/100\n",
            "1/1 [==============================] - 0s 108ms/step - loss: 0.6598 - accuracy: 0.6000 - val_loss: 0.6929 - val_accuracy: 0.5000\n",
            "\n",
            "Epoch 00003: val_accuracy did not improve from 0.50000\n",
            "Epoch 4/100\n",
            "1/1 [==============================] - 0s 105ms/step - loss: 0.6491 - accuracy: 0.6000 - val_loss: 0.6940 - val_accuracy: 0.5000\n",
            "\n",
            "Epoch 00004: val_accuracy did not improve from 0.50000\n",
            "Epoch 5/100\n",
            "1/1 [==============================] - 0s 106ms/step - loss: 0.6387 - accuracy: 0.6000 - val_loss: 0.6950 - val_accuracy: 0.5000\n",
            "\n",
            "Epoch 00005: val_accuracy did not improve from 0.50000\n",
            "Epoch 6/100\n",
            "1/1 [==============================] - 0s 104ms/step - loss: 0.6286 - accuracy: 0.6000 - val_loss: 0.6961 - val_accuracy: 0.5000\n",
            "\n",
            "Epoch 00006: val_accuracy did not improve from 0.50000\n",
            "Epoch 7/100\n",
            "1/1 [==============================] - 0s 103ms/step - loss: 0.6185 - accuracy: 0.6000 - val_loss: 0.6972 - val_accuracy: 0.5000\n",
            "\n",
            "Epoch 00007: val_accuracy did not improve from 0.50000\n",
            "Epoch 8/100\n",
            "1/1 [==============================] - 0s 103ms/step - loss: 0.6084 - accuracy: 0.6000 - val_loss: 0.6982 - val_accuracy: 0.5000\n",
            "\n",
            "Epoch 00008: val_accuracy did not improve from 0.50000\n",
            "Epoch 9/100\n",
            "1/1 [==============================] - 0s 106ms/step - loss: 0.5984 - accuracy: 0.6000 - val_loss: 0.6993 - val_accuracy: 0.5000\n",
            "\n",
            "Epoch 00009: val_accuracy did not improve from 0.50000\n",
            "Epoch 10/100\n",
            "1/1 [==============================] - 0s 104ms/step - loss: 0.5883 - accuracy: 0.6000 - val_loss: 0.7002 - val_accuracy: 0.5000\n",
            "\n",
            "Epoch 00010: val_accuracy did not improve from 0.50000\n",
            "Epoch 11/100\n",
            "1/1 [==============================] - 0s 100ms/step - loss: 0.5780 - accuracy: 0.6000 - val_loss: 0.7012 - val_accuracy: 0.5000\n",
            "\n",
            "Epoch 00011: val_accuracy did not improve from 0.50000\n",
            "Epoch 12/100\n",
            "1/1 [==============================] - 0s 104ms/step - loss: 0.5677 - accuracy: 0.6000 - val_loss: 0.7021 - val_accuracy: 0.5000\n",
            "\n",
            "Epoch 00012: val_accuracy did not improve from 0.50000\n",
            "Epoch 13/100\n",
            "1/1 [==============================] - 0s 101ms/step - loss: 0.5572 - accuracy: 0.6000 - val_loss: 0.7030 - val_accuracy: 0.5000\n",
            "\n",
            "Epoch 00013: val_accuracy did not improve from 0.50000\n",
            "Epoch 14/100\n",
            "1/1 [==============================] - 0s 111ms/step - loss: 0.5467 - accuracy: 0.6000 - val_loss: 0.7040 - val_accuracy: 0.5000\n",
            "\n",
            "Epoch 00014: val_accuracy did not improve from 0.50000\n",
            "Epoch 15/100\n",
            "1/1 [==============================] - 0s 109ms/step - loss: 0.5359 - accuracy: 0.6000 - val_loss: 0.7049 - val_accuracy: 0.5000\n",
            "\n",
            "Epoch 00015: val_accuracy did not improve from 0.50000\n",
            "Epoch 16/100\n",
            "1/1 [==============================] - 0s 101ms/step - loss: 0.5250 - accuracy: 0.6000 - val_loss: 0.7058 - val_accuracy: 0.5000\n",
            "\n",
            "Epoch 00016: val_accuracy did not improve from 0.50000\n",
            "Epoch 17/100\n",
            "1/1 [==============================] - 0s 104ms/step - loss: 0.5141 - accuracy: 0.7000 - val_loss: 0.7066 - val_accuracy: 0.5000\n",
            "\n",
            "Epoch 00017: val_accuracy did not improve from 0.50000\n",
            "Epoch 18/100\n",
            "1/1 [==============================] - 0s 102ms/step - loss: 0.5031 - accuracy: 0.8000 - val_loss: 0.7075 - val_accuracy: 0.5000\n",
            "\n",
            "Epoch 00018: val_accuracy did not improve from 0.50000\n",
            "Epoch 19/100\n",
            "1/1 [==============================] - 0s 110ms/step - loss: 0.4919 - accuracy: 0.9000 - val_loss: 0.7083 - val_accuracy: 0.5000\n",
            "\n",
            "Epoch 00019: val_accuracy did not improve from 0.50000\n",
            "Epoch 20/100\n",
            "1/1 [==============================] - 0s 115ms/step - loss: 0.4806 - accuracy: 0.9000 - val_loss: 0.7092 - val_accuracy: 0.5000\n",
            "\n",
            "Epoch 00020: val_accuracy did not improve from 0.50000\n",
            "Epoch 21/100\n",
            "1/1 [==============================] - 0s 107ms/step - loss: 0.4692 - accuracy: 0.9000 - val_loss: 0.7101 - val_accuracy: 0.5000\n",
            "\n",
            "Epoch 00021: val_accuracy did not improve from 0.50000\n"
          ],
          "name": "stdout"
        }
      ]
    },
    {
      "cell_type": "code",
      "metadata": {
        "id": "Xedcn0HqZhbi",
        "colab": {
          "base_uri": "https://localhost:8080/",
          "height": 278
        },
        "outputId": "0e63c1e5-b708-4794-dd58-3a9425442030"
      },
      "source": [
        "plt.figure(figsize=(12, 4))\n",
        "\n",
        "plt.subplot(1, 2, 1)\n",
        "plt.plot(history.history['loss'], 'b-', label='loss')\n",
        "plt.plot(history.history['val_loss'], 'r--', label='val_loss')\n",
        "plt.xlabel('Epoch')\n",
        "plt.legend()\n",
        "\n",
        "plt.subplot(1, 2, 2)\n",
        "plt.plot(history.history['accuracy'], 'g-', label='acc')\n",
        "plt.plot(history.history['val_accuracy'], 'k--', label='val_acc')\n",
        "plt.xlabel('Epoch')\n",
        "plt.legend()\n",
        "\n",
        "plt.show()"
      ],
      "execution_count": 60,
      "outputs": [
        {
          "output_type": "display_data",
          "data": {
            "image/png": "[encoded data removed]",
            "text/plain": [
              "<Figure size 864x288 with 2 Axes>"
            ]
          },
          "metadata": {
            "tags": [],
            "needs_background": "light"
          }
        }
      ]
    },
    {
      "cell_type": "markdown",
      "metadata": {
        "id": "PQvKAxTbaEpt"
      },
      "source": [
        "## Inference"
      ]
    },
    {
      "cell_type": "code",
      "metadata": {
        "id": "ZuK60XkEOSUS"
      },
      "source": [
        "# 모델 생성\n",
        "model = build_model(n_vocab, d_model, n_seq, n_out)\n",
        "# train weight로 초기화\n",
        "model.load_weights(os.path.join(nsmc_dir, 'stub.hdf5'))"
      ],
      "execution_count": 61,
      "outputs": []
    },
    {
      "cell_type": "code",
      "metadata": {
        "colab": {
          "base_uri": "https://localhost:8080/"
        },
        "id": "2ZyXlkk4OSUd",
        "outputId": "3ad9a665-1679-4804-afa8-03c57ecda97f"
      },
      "source": [
        "# 예측\n",
        "logits = model.predict(test_inputs)\n",
        "logits"
      ],
      "execution_count": 62,
      "outputs": [
        {
          "output_type": "execute_result",
          "data": {
            "text/plain": [
              "array([[0.5347904 , 0.46520957],\n",
              "       [0.557853  , 0.44214708],\n",
              "       [0.5524407 , 0.4475593 ],\n",
              "       [0.55557597, 0.44442403],\n",
              "       [0.54721344, 0.45278654],\n",
              "       [0.5211046 , 0.47889546],\n",
              "       [0.55135286, 0.4486471 ],\n",
              "       [0.5369179 , 0.46308205],\n",
              "       [0.5518024 , 0.44819757],\n",
              "       [0.54906833, 0.4509317 ]], dtype=float32)"
            ]
          },
          "metadata": {
            "tags": []
          },
          "execution_count": 62
        }
      ]
    },
    {
      "cell_type": "code",
      "metadata": {
        "colab": {
          "base_uri": "https://localhost:8080/"
        },
        "id": "rMxIk3rdOSUe",
        "outputId": "a921dc7e-4c8d-43d0-8983-064aea1b00ee"
      },
      "source": [
        "# 확률 최대 값을 예측으로 사용\n",
        "test_preds = np.argmax(logits, axis=-1)\n",
        "test_preds"
      ],
      "execution_count": 63,
      "outputs": [
        {
          "output_type": "execute_result",
          "data": {
            "text/plain": [
              "array([0, 0, 0, 0, 0, 0, 0, 0, 0, 0])"
            ]
          },
          "metadata": {
            "tags": []
          },
          "execution_count": 63
        }
      ]
    },
    {
      "cell_type": "code",
      "metadata": {
        "colab": {
          "base_uri": "https://localhost:8080/"
        },
        "id": "pwQhmGPcOSUe",
        "outputId": "ab0967b7-49d0-444d-8821-122e585d860a"
      },
      "source": [
        "# confusion matrix\n",
        "confusion_matrix = np.zeros((n_out, n_out)).astype(np.int)\n",
        "for y_true, y_pred in zip(test_labels, test_preds):\n",
        "    confusion_matrix[int(y_true), int(y_pred)] += 1\n",
        "confusion_matrix"
      ],
      "execution_count": 64,
      "outputs": [
        {
          "output_type": "execute_result",
          "data": {
            "text/plain": [
              "array([[5, 0],\n",
              "       [5, 0]])"
            ]
          },
          "metadata": {
            "tags": []
          },
          "execution_count": 64
        }
      ]
    },
    {
      "cell_type": "code",
      "metadata": {
        "id": "_pjiEotjOSUe",
        "colab": {
          "base_uri": "https://localhost:8080/"
        },
        "outputId": "0506b015-e8c0-4178-886d-03f3d79d2299"
      },
      "source": [
        "# accuracy, precision, recall, f1\n",
        "tp = confusion_matrix[1, 1]\n",
        "tn = confusion_matrix[0, 0]\n",
        "fp = confusion_matrix[0, 1]\n",
        "fn = confusion_matrix[1, 0]\n",
        "\n",
        "accuracy = (tp + tn) / max((tp + tn + fp + fn), 1)\n",
        "print(f'accuracy: {accuracy}')\n",
        "precision = (tp) / max((tp + fp), 1)\n",
        "print(f'precision: {precision}')\n",
        "recall = (tp) / max((tp + fn), 1)\n",
        "print(f'recall: {recall}')\n",
        "f1 = 2 * (precision * recall) / max((precision + recall), 1)\n",
        "print(f'f1: {f1}')"
      ],
      "execution_count": 65,
      "outputs": [
        {
          "output_type": "stream",
          "text": [
            "accuracy: 0.5\n",
            "precision: 0.0\n",
            "recall: 0.0\n",
            "f1: 0.0\n"
          ],
          "name": "stdout"
        }
      ]
    },
    {
      "cell_type": "code",
      "metadata": {
        "id": "KzaDEUSbaeu4"
      },
      "source": [
        "def do_predict(model, n_seq, string):\n",
        "    \"\"\"\n",
        "    입력에 대한 답변 생성하는 함수\n",
        "    :param model: model\n",
        "    :param n_seq: 입력 개수\n",
        "    :param string: 입력 문자열\n",
        "    \"\"\"\n",
        "    # token 생성: <string tokens>, [PAD] tokens\n",
        "    token = vocab.encode_as_ids(string)[:n_seq]\n",
        "    token += [0] * (n_seq - len(token))\n",
        "\n",
        "    y_pred = model.predict(np.array([token]))\n",
        "    y_pred_class = K.argmax(y_pred, axis=-1)\n",
        "\n",
        "    return \"긍정\" if y_pred_class[0] == 1 else \"부정\""
      ],
      "execution_count": 66,
      "outputs": []
    },
    {
      "cell_type": "code",
      "metadata": {
        "id": "PCnSfxVgfzFL",
        "colab": {
          "base_uri": "https://localhost:8080/",
          "height": 35
        },
        "outputId": "537ebecf-9f7b-4f99-8d68-5a2d147be753"
      },
      "source": [
        "string = '영화 너무 심심해'\n",
        "do_predict(model, n_seq, string)"
      ],
      "execution_count": 67,
      "outputs": [
        {
          "output_type": "execute_result",
          "data": {
            "application/vnd.google.colaboratory.intrinsic+json": {
              "type": "string"
            },
            "text/plain": [
              "'부정'"
            ]
          },
          "metadata": {
            "tags": []
          },
          "execution_count": 67
        }
      ]
    },
    {
      "cell_type": "code",
      "metadata": {
        "id": "mQVkuBylavCr",
        "colab": {
          "base_uri": "https://localhost:8080/"
        },
        "outputId": "6cb97150-d91d-46d5-e3eb-1ae02f293b3a"
      },
      "source": [
        "while True:\n",
        "    print(\"input > \", end=\"\")\n",
        "    string = str(input())\n",
        "    if len(string) == 0:\n",
        "        break\n",
        "    print(f\"output > {do_predict(model, n_seq, string)}\")"
      ],
      "execution_count": 68,
      "outputs": [
        {
          "output_type": "stream",
          "text": [
            "input > 오늘 햇빛이 쨍쩅해\n",
            "output > 부정\n",
            "input > 오늘 날씨가 좋아\n",
            "output > 부정\n",
            "input > 오늘 기분이 좋아\n",
            "output > 부정\n",
            "input > \n"
          ],
          "name": "stdout"
        }
      ]
    },
    {
      "cell_type": "markdown",
      "metadata": {
        "id": "yOqjtjEtgG_i"
      },
      "source": [
        "# All Data Project"
      ]
    },
    {
      "cell_type": "markdown",
      "metadata": {
        "id": "RZq-UvbOgG_j"
      },
      "source": [
        "## Data\n"
      ]
    },
    {
      "cell_type": "code",
      "metadata": {
        "id": "62llcRx9gG_j",
        "colab": {
          "base_uri": "https://localhost:8080/",
          "height": 391
        },
        "outputId": "89db0bbf-ed8b-4d1a-cbdb-2865081053fd"
      },
      "source": [
        "# train data load\n",
        "df_train = pd.read_csv(os.path.join(nsmc_dir, 'ratings_train.txt'), delimiter='\\t')\n",
        "df_train"
      ],
      "execution_count": 69,
      "outputs": [
        {
          "output_type": "execute_result",
          "data": {
            "text/html": [
              "<div>\n",
              "<style scoped>\n",
              "    .dataframe tbody tr th:only-of-type {\n",
              "        vertical-align: middle;\n",
              "    }\n",
              "\n",
              "    .dataframe tbody tr th {\n",
              "        vertical-align: top;\n",
              "    }\n",
              "\n",
              "    .dataframe thead th {\n",
              "        text-align: right;\n",
              "    }\n",
              "</style>\n",
              "<table border=\"1\" class=\"dataframe\">\n",
              "  <thead>\n",
              "    <tr style=\"text-align: right;\">\n",
              "      <th></th>\n",
              "      <th>id</th>\n",
              "      <th>document</th>\n",
              "      <th>label</th>\n",
              "    </tr>\n",
              "  </thead>\n",
              "  <tbody>\n",
              "    <tr>\n",
              "      <th>0</th>\n",
              "      <td>9976970</td>\n",
              "      <td>아 더빙.. 진짜 짜증나네요 목소리</td>\n",
              "      <td>0</td>\n",
              "    </tr>\n",
              "    <tr>\n",
              "      <th>1</th>\n",
              "      <td>3819312</td>\n",
              "      <td>흠...포스터보고 초딩영화줄....오버연기조차 가볍지 않구나</td>\n",
              "      <td>1</td>\n",
              "    </tr>\n",
              "    <tr>\n",
              "      <th>2</th>\n",
              "      <td>10265843</td>\n",
              "      <td>너무재밓었다그래서보는것을추천한다</td>\n",
              "      <td>0</td>\n",
              "    </tr>\n",
              "    <tr>\n",
              "      <th>3</th>\n",
              "      <td>9045019</td>\n",
              "      <td>교도소 이야기구먼 ..솔직히 재미는 없다..평점 조정</td>\n",
              "      <td>0</td>\n",
              "    </tr>\n",
              "    <tr>\n",
              "      <th>4</th>\n",
              "      <td>6483659</td>\n",
              "      <td>사이몬페그의 익살스런 연기가 돋보였던 영화!스파이더맨에서 늙어보이기만 했던 커스틴 ...</td>\n",
              "      <td>1</td>\n",
              "    </tr>\n",
              "    <tr>\n",
              "      <th>...</th>\n",
              "      <td>...</td>\n",
              "      <td>...</td>\n",
              "      <td>...</td>\n",
              "    </tr>\n",
              "    <tr>\n",
              "      <th>149995</th>\n",
              "      <td>6222902</td>\n",
              "      <td>인간이 문제지.. 소는 뭔죄인가..</td>\n",
              "      <td>0</td>\n",
              "    </tr>\n",
              "    <tr>\n",
              "      <th>149996</th>\n",
              "      <td>8549745</td>\n",
              "      <td>평점이 너무 낮아서...</td>\n",
              "      <td>1</td>\n",
              "    </tr>\n",
              "    <tr>\n",
              "      <th>149997</th>\n",
              "      <td>9311800</td>\n",
              "      <td>이게 뭐요? 한국인은 거들먹거리고 필리핀 혼혈은 착하다?</td>\n",
              "      <td>0</td>\n",
              "    </tr>\n",
              "    <tr>\n",
              "      <th>149998</th>\n",
              "      <td>2376369</td>\n",
              "      <td>청춘 영화의 최고봉.방황과 우울했던 날들의 자화상</td>\n",
              "      <td>1</td>\n",
              "    </tr>\n",
              "    <tr>\n",
              "      <th>149999</th>\n",
              "      <td>9619869</td>\n",
              "      <td>한국 영화 최초로 수간하는 내용이 담긴 영화</td>\n",
              "      <td>0</td>\n",
              "    </tr>\n",
              "  </tbody>\n",
              "</table>\n",
              "<p>150000 rows × 3 columns</p>\n",
              "</div>"
            ],
            "text/plain": [
              "              id                                           document  label\n",
              "0        9976970                                아 더빙.. 진짜 짜증나네요 목소리      0\n",
              "1        3819312                  흠...포스터보고 초딩영화줄....오버연기조차 가볍지 않구나      1\n",
              "2       10265843                                  너무재밓었다그래서보는것을추천한다      0\n",
              "3        9045019                      교도소 이야기구먼 ..솔직히 재미는 없다..평점 조정      0\n",
              "4        6483659  사이몬페그의 익살스런 연기가 돋보였던 영화!스파이더맨에서 늙어보이기만 했던 커스틴 ...      1\n",
              "...          ...                                                ...    ...\n",
              "149995   6222902                                인간이 문제지.. 소는 뭔죄인가..      0\n",
              "149996   8549745                                      평점이 너무 낮아서...      1\n",
              "149997   9311800                    이게 뭐요? 한국인은 거들먹거리고 필리핀 혼혈은 착하다?      0\n",
              "149998   2376369                        청춘 영화의 최고봉.방황과 우울했던 날들의 자화상      1\n",
              "149999   9619869                           한국 영화 최초로 수간하는 내용이 담긴 영화      0\n",
              "\n",
              "[150000 rows x 3 columns]"
            ]
          },
          "metadata": {
            "tags": []
          },
          "execution_count": 69
        }
      ]
    },
    {
      "cell_type": "code",
      "metadata": {
        "id": "UnjJp4r4gG_k",
        "colab": {
          "base_uri": "https://localhost:8080/",
          "height": 391
        },
        "outputId": "f4517de8-4ca9-4bb6-a9e0-3095a160a362"
      },
      "source": [
        "# train null 데이터 제거\n",
        "df_train = df_train.dropna()\n",
        "df_train"
      ],
      "execution_count": 70,
      "outputs": [
        {
          "output_type": "execute_result",
          "data": {
            "text/html": [
              "<div>\n",
              "<style scoped>\n",
              "    .dataframe tbody tr th:only-of-type {\n",
              "        vertical-align: middle;\n",
              "    }\n",
              "\n",
              "    .dataframe tbody tr th {\n",
              "        vertical-align: top;\n",
              "    }\n",
              "\n",
              "    .dataframe thead th {\n",
              "        text-align: right;\n",
              "    }\n",
              "</style>\n",
              "<table border=\"1\" class=\"dataframe\">\n",
              "  <thead>\n",
              "    <tr style=\"text-align: right;\">\n",
              "      <th></th>\n",
              "      <th>id</th>\n",
              "      <th>document</th>\n",
              "      <th>label</th>\n",
              "    </tr>\n",
              "  </thead>\n",
              "  <tbody>\n",
              "    <tr>\n",
              "      <th>0</th>\n",
              "      <td>9976970</td>\n",
              "      <td>아 더빙.. 진짜 짜증나네요 목소리</td>\n",
              "      <td>0</td>\n",
              "    </tr>\n",
              "    <tr>\n",
              "      <th>1</th>\n",
              "      <td>3819312</td>\n",
              "      <td>흠...포스터보고 초딩영화줄....오버연기조차 가볍지 않구나</td>\n",
              "      <td>1</td>\n",
              "    </tr>\n",
              "    <tr>\n",
              "      <th>2</th>\n",
              "      <td>10265843</td>\n",
              "      <td>너무재밓었다그래서보는것을추천한다</td>\n",
              "      <td>0</td>\n",
              "    </tr>\n",
              "    <tr>\n",
              "      <th>3</th>\n",
              "      <td>9045019</td>\n",
              "      <td>교도소 이야기구먼 ..솔직히 재미는 없다..평점 조정</td>\n",
              "      <td>0</td>\n",
              "    </tr>\n",
              "    <tr>\n",
              "      <th>4</th>\n",
              "      <td>6483659</td>\n",
              "      <td>사이몬페그의 익살스런 연기가 돋보였던 영화!스파이더맨에서 늙어보이기만 했던 커스틴 ...</td>\n",
              "      <td>1</td>\n",
              "    </tr>\n",
              "    <tr>\n",
              "      <th>...</th>\n",
              "      <td>...</td>\n",
              "      <td>...</td>\n",
              "      <td>...</td>\n",
              "    </tr>\n",
              "    <tr>\n",
              "      <th>149995</th>\n",
              "      <td>6222902</td>\n",
              "      <td>인간이 문제지.. 소는 뭔죄인가..</td>\n",
              "      <td>0</td>\n",
              "    </tr>\n",
              "    <tr>\n",
              "      <th>149996</th>\n",
              "      <td>8549745</td>\n",
              "      <td>평점이 너무 낮아서...</td>\n",
              "      <td>1</td>\n",
              "    </tr>\n",
              "    <tr>\n",
              "      <th>149997</th>\n",
              "      <td>9311800</td>\n",
              "      <td>이게 뭐요? 한국인은 거들먹거리고 필리핀 혼혈은 착하다?</td>\n",
              "      <td>0</td>\n",
              "    </tr>\n",
              "    <tr>\n",
              "      <th>149998</th>\n",
              "      <td>2376369</td>\n",
              "      <td>청춘 영화의 최고봉.방황과 우울했던 날들의 자화상</td>\n",
              "      <td>1</td>\n",
              "    </tr>\n",
              "    <tr>\n",
              "      <th>149999</th>\n",
              "      <td>9619869</td>\n",
              "      <td>한국 영화 최초로 수간하는 내용이 담긴 영화</td>\n",
              "      <td>0</td>\n",
              "    </tr>\n",
              "  </tbody>\n",
              "</table>\n",
              "<p>149995 rows × 3 columns</p>\n",
              "</div>"
            ],
            "text/plain": [
              "              id                                           document  label\n",
              "0        9976970                                아 더빙.. 진짜 짜증나네요 목소리      0\n",
              "1        3819312                  흠...포스터보고 초딩영화줄....오버연기조차 가볍지 않구나      1\n",
              "2       10265843                                  너무재밓었다그래서보는것을추천한다      0\n",
              "3        9045019                      교도소 이야기구먼 ..솔직히 재미는 없다..평점 조정      0\n",
              "4        6483659  사이몬페그의 익살스런 연기가 돋보였던 영화!스파이더맨에서 늙어보이기만 했던 커스틴 ...      1\n",
              "...          ...                                                ...    ...\n",
              "149995   6222902                                인간이 문제지.. 소는 뭔죄인가..      0\n",
              "149996   8549745                                      평점이 너무 낮아서...      1\n",
              "149997   9311800                    이게 뭐요? 한국인은 거들먹거리고 필리핀 혼혈은 착하다?      0\n",
              "149998   2376369                        청춘 영화의 최고봉.방황과 우울했던 날들의 자화상      1\n",
              "149999   9619869                           한국 영화 최초로 수간하는 내용이 담긴 영화      0\n",
              "\n",
              "[149995 rows x 3 columns]"
            ]
          },
          "metadata": {
            "tags": []
          },
          "execution_count": 70
        }
      ]
    },
    {
      "cell_type": "code",
      "metadata": {
        "id": "9Xq3hIWugG_k",
        "colab": {
          "base_uri": "https://localhost:8080/",
          "height": 391
        },
        "outputId": "7961960a-ad22-471e-ebf2-33d61385feb8"
      },
      "source": [
        "# train data load\n",
        "df_test = pd.read_csv(os.path.join(nsmc_dir, 'ratings_test.txt'), delimiter='\\t')\n",
        "df_test"
      ],
      "execution_count": 71,
      "outputs": [
        {
          "output_type": "execute_result",
          "data": {
            "text/html": [
              "<div>\n",
              "<style scoped>\n",
              "    .dataframe tbody tr th:only-of-type {\n",
              "        vertical-align: middle;\n",
              "    }\n",
              "\n",
              "    .dataframe tbody tr th {\n",
              "        vertical-align: top;\n",
              "    }\n",
              "\n",
              "    .dataframe thead th {\n",
              "        text-align: right;\n",
              "    }\n",
              "</style>\n",
              "<table border=\"1\" class=\"dataframe\">\n",
              "  <thead>\n",
              "    <tr style=\"text-align: right;\">\n",
              "      <th></th>\n",
              "      <th>id</th>\n",
              "      <th>document</th>\n",
              "      <th>label</th>\n",
              "    </tr>\n",
              "  </thead>\n",
              "  <tbody>\n",
              "    <tr>\n",
              "      <th>0</th>\n",
              "      <td>6270596</td>\n",
              "      <td>굳 ㅋ</td>\n",
              "      <td>1</td>\n",
              "    </tr>\n",
              "    <tr>\n",
              "      <th>1</th>\n",
              "      <td>9274899</td>\n",
              "      <td>GDNTOPCLASSINTHECLUB</td>\n",
              "      <td>0</td>\n",
              "    </tr>\n",
              "    <tr>\n",
              "      <th>2</th>\n",
              "      <td>8544678</td>\n",
              "      <td>뭐야 이 평점들은.... 나쁘진 않지만 10점 짜리는 더더욱 아니잖아</td>\n",
              "      <td>0</td>\n",
              "    </tr>\n",
              "    <tr>\n",
              "      <th>3</th>\n",
              "      <td>6825595</td>\n",
              "      <td>지루하지는 않은데 완전 막장임... 돈주고 보기에는....</td>\n",
              "      <td>0</td>\n",
              "    </tr>\n",
              "    <tr>\n",
              "      <th>4</th>\n",
              "      <td>6723715</td>\n",
              "      <td>3D만 아니었어도 별 다섯 개 줬을텐데.. 왜 3D로 나와서 제 심기를 불편하게 하죠??</td>\n",
              "      <td>0</td>\n",
              "    </tr>\n",
              "    <tr>\n",
              "      <th>...</th>\n",
              "      <td>...</td>\n",
              "      <td>...</td>\n",
              "      <td>...</td>\n",
              "    </tr>\n",
              "    <tr>\n",
              "      <th>49995</th>\n",
              "      <td>4608761</td>\n",
              "      <td>오랜만에 평점 로긴했네ㅋㅋ 킹왕짱 쌈뽕한 영화를 만났습니다 강렬하게 육쾌함</td>\n",
              "      <td>1</td>\n",
              "    </tr>\n",
              "    <tr>\n",
              "      <th>49996</th>\n",
              "      <td>5308387</td>\n",
              "      <td>의지 박약들이나 하는거다 탈영은 일단 주인공 김대희 닮았고 이등병 찐따 OOOO</td>\n",
              "      <td>0</td>\n",
              "    </tr>\n",
              "    <tr>\n",
              "      <th>49997</th>\n",
              "      <td>9072549</td>\n",
              "      <td>그림도 좋고 완성도도 높았지만... 보는 내내 불안하게 만든다</td>\n",
              "      <td>0</td>\n",
              "    </tr>\n",
              "    <tr>\n",
              "      <th>49998</th>\n",
              "      <td>5802125</td>\n",
              "      <td>절대 봐서는 안 될 영화.. 재미도 없고 기분만 잡치고.. 한 세트장에서 다 해먹네</td>\n",
              "      <td>0</td>\n",
              "    </tr>\n",
              "    <tr>\n",
              "      <th>49999</th>\n",
              "      <td>6070594</td>\n",
              "      <td>마무리는 또 왜이래</td>\n",
              "      <td>0</td>\n",
              "    </tr>\n",
              "  </tbody>\n",
              "</table>\n",
              "<p>50000 rows × 3 columns</p>\n",
              "</div>"
            ],
            "text/plain": [
              "            id                                           document  label\n",
              "0      6270596                                                굳 ㅋ      1\n",
              "1      9274899                               GDNTOPCLASSINTHECLUB      0\n",
              "2      8544678             뭐야 이 평점들은.... 나쁘진 않지만 10점 짜리는 더더욱 아니잖아      0\n",
              "3      6825595                   지루하지는 않은데 완전 막장임... 돈주고 보기에는....      0\n",
              "4      6723715  3D만 아니었어도 별 다섯 개 줬을텐데.. 왜 3D로 나와서 제 심기를 불편하게 하죠??      0\n",
              "...        ...                                                ...    ...\n",
              "49995  4608761          오랜만에 평점 로긴했네ㅋㅋ 킹왕짱 쌈뽕한 영화를 만났습니다 강렬하게 육쾌함      1\n",
              "49996  5308387       의지 박약들이나 하는거다 탈영은 일단 주인공 김대희 닮았고 이등병 찐따 OOOO      0\n",
              "49997  9072549                 그림도 좋고 완성도도 높았지만... 보는 내내 불안하게 만든다      0\n",
              "49998  5802125     절대 봐서는 안 될 영화.. 재미도 없고 기분만 잡치고.. 한 세트장에서 다 해먹네      0\n",
              "49999  6070594                                         마무리는 또 왜이래      0\n",
              "\n",
              "[50000 rows x 3 columns]"
            ]
          },
          "metadata": {
            "tags": []
          },
          "execution_count": 71
        }
      ]
    },
    {
      "cell_type": "code",
      "metadata": {
        "id": "nzPZVnEBgG_k",
        "colab": {
          "base_uri": "https://localhost:8080/",
          "height": 391
        },
        "outputId": "18d2b48d-2e59-4ccc-a2e8-c54ffc93d89a"
      },
      "source": [
        "# train null 데이터 제거\n",
        "df_test = df_test.dropna()\n",
        "df_test"
      ],
      "execution_count": 72,
      "outputs": [
        {
          "output_type": "execute_result",
          "data": {
            "text/html": [
              "<div>\n",
              "<style scoped>\n",
              "    .dataframe tbody tr th:only-of-type {\n",
              "        vertical-align: middle;\n",
              "    }\n",
              "\n",
              "    .dataframe tbody tr th {\n",
              "        vertical-align: top;\n",
              "    }\n",
              "\n",
              "    .dataframe thead th {\n",
              "        text-align: right;\n",
              "    }\n",
              "</style>\n",
              "<table border=\"1\" class=\"dataframe\">\n",
              "  <thead>\n",
              "    <tr style=\"text-align: right;\">\n",
              "      <th></th>\n",
              "      <th>id</th>\n",
              "      <th>document</th>\n",
              "      <th>label</th>\n",
              "    </tr>\n",
              "  </thead>\n",
              "  <tbody>\n",
              "    <tr>\n",
              "      <th>0</th>\n",
              "      <td>6270596</td>\n",
              "      <td>굳 ㅋ</td>\n",
              "      <td>1</td>\n",
              "    </tr>\n",
              "    <tr>\n",
              "      <th>1</th>\n",
              "      <td>9274899</td>\n",
              "      <td>GDNTOPCLASSINTHECLUB</td>\n",
              "      <td>0</td>\n",
              "    </tr>\n",
              "    <tr>\n",
              "      <th>2</th>\n",
              "      <td>8544678</td>\n",
              "      <td>뭐야 이 평점들은.... 나쁘진 않지만 10점 짜리는 더더욱 아니잖아</td>\n",
              "      <td>0</td>\n",
              "    </tr>\n",
              "    <tr>\n",
              "      <th>3</th>\n",
              "      <td>6825595</td>\n",
              "      <td>지루하지는 않은데 완전 막장임... 돈주고 보기에는....</td>\n",
              "      <td>0</td>\n",
              "    </tr>\n",
              "    <tr>\n",
              "      <th>4</th>\n",
              "      <td>6723715</td>\n",
              "      <td>3D만 아니었어도 별 다섯 개 줬을텐데.. 왜 3D로 나와서 제 심기를 불편하게 하죠??</td>\n",
              "      <td>0</td>\n",
              "    </tr>\n",
              "    <tr>\n",
              "      <th>...</th>\n",
              "      <td>...</td>\n",
              "      <td>...</td>\n",
              "      <td>...</td>\n",
              "    </tr>\n",
              "    <tr>\n",
              "      <th>49995</th>\n",
              "      <td>4608761</td>\n",
              "      <td>오랜만에 평점 로긴했네ㅋㅋ 킹왕짱 쌈뽕한 영화를 만났습니다 강렬하게 육쾌함</td>\n",
              "      <td>1</td>\n",
              "    </tr>\n",
              "    <tr>\n",
              "      <th>49996</th>\n",
              "      <td>5308387</td>\n",
              "      <td>의지 박약들이나 하는거다 탈영은 일단 주인공 김대희 닮았고 이등병 찐따 OOOO</td>\n",
              "      <td>0</td>\n",
              "    </tr>\n",
              "    <tr>\n",
              "      <th>49997</th>\n",
              "      <td>9072549</td>\n",
              "      <td>그림도 좋고 완성도도 높았지만... 보는 내내 불안하게 만든다</td>\n",
              "      <td>0</td>\n",
              "    </tr>\n",
              "    <tr>\n",
              "      <th>49998</th>\n",
              "      <td>5802125</td>\n",
              "      <td>절대 봐서는 안 될 영화.. 재미도 없고 기분만 잡치고.. 한 세트장에서 다 해먹네</td>\n",
              "      <td>0</td>\n",
              "    </tr>\n",
              "    <tr>\n",
              "      <th>49999</th>\n",
              "      <td>6070594</td>\n",
              "      <td>마무리는 또 왜이래</td>\n",
              "      <td>0</td>\n",
              "    </tr>\n",
              "  </tbody>\n",
              "</table>\n",
              "<p>49997 rows × 3 columns</p>\n",
              "</div>"
            ],
            "text/plain": [
              "            id                                           document  label\n",
              "0      6270596                                                굳 ㅋ      1\n",
              "1      9274899                               GDNTOPCLASSINTHECLUB      0\n",
              "2      8544678             뭐야 이 평점들은.... 나쁘진 않지만 10점 짜리는 더더욱 아니잖아      0\n",
              "3      6825595                   지루하지는 않은데 완전 막장임... 돈주고 보기에는....      0\n",
              "4      6723715  3D만 아니었어도 별 다섯 개 줬을텐데.. 왜 3D로 나와서 제 심기를 불편하게 하죠??      0\n",
              "...        ...                                                ...    ...\n",
              "49995  4608761          오랜만에 평점 로긴했네ㅋㅋ 킹왕짱 쌈뽕한 영화를 만났습니다 강렬하게 육쾌함      1\n",
              "49996  5308387       의지 박약들이나 하는거다 탈영은 일단 주인공 김대희 닮았고 이등병 찐따 OOOO      0\n",
              "49997  9072549                 그림도 좋고 완성도도 높았지만... 보는 내내 불안하게 만든다      0\n",
              "49998  5802125     절대 봐서는 안 될 영화.. 재미도 없고 기분만 잡치고.. 한 세트장에서 다 해먹네      0\n",
              "49999  6070594                                         마무리는 또 왜이래      0\n",
              "\n",
              "[49997 rows x 3 columns]"
            ]
          },
          "metadata": {
            "tags": []
          },
          "execution_count": 72
        }
      ]
    },
    {
      "cell_type": "code",
      "metadata": {
        "id": "np9hbxHIgG_l"
      },
      "source": [
        "def load_data(df, n_seq):\n",
        "    \"\"\"\n",
        "    NSMC 학습 데이터 생성\n",
        "    :param df: data frame\n",
        "    :param n_seq: number of sequence\n",
        "    :return inputs: input data\n",
        "    :return labels: label data\n",
        "    \"\"\"\n",
        "    inputs = np.zeros((len(df), n_seq)).astype(np.int32)\n",
        "    labels = np.zeros((len(df),))\n",
        "    index = 0\n",
        "    for i, row in tqdm(df.iterrows(), total=len(df)):\n",
        "        # tokens 저장\n",
        "        # print()\n",
        "        label = row['label']\n",
        "        document = row['document']\n",
        "        # print(label, document)\n",
        "        tokens = vocab.encode_as_pieces(document)\n",
        "        # print(len(tokens), ':', tokens)\n",
        "        token_ids = vocab.encode_as_ids(document)\n",
        "        # print(len(token_ids), ':', token_ids)\n",
        "        token_ids = token_ids[:n_seq]\n",
        "        # print(len(token_ids), ':', token_ids)\n",
        "        token_ids += [0] * (n_seq - len(token_ids))\n",
        "        # print(len(token_ids), ':', token_ids)\n",
        "\n",
        "        labels[index] = label\n",
        "        inputs[index] = token_ids\n",
        "        index += 1\n",
        "    return inputs, labels"
      ],
      "execution_count": 73,
      "outputs": []
    },
    {
      "cell_type": "code",
      "metadata": {
        "id": "RR4l0G_OgG_l",
        "colab": {
          "base_uri": "https://localhost:8080/",
          "height": 195,
          "referenced_widgets": [
            "c001743414514870aef2817802d9df24",
            "a0ef51d9e3b64d028d5be368223e84fc",
            "f7ba8df602d04581b65098e4829d6bef",
            "2387544a030e4dbaa8180fee99ac55f0",
            "80b1a8fd6df441dabbac3a533c8a0130",
            "6b5c5aedfefb4ff7a12b341ea23f97fd",
            "ff6d650f91d34551a19c8efd6529990c",
            "8f21ba6b954440059487d2d8a000c88c"
          ]
        },
        "outputId": "463636e2-ca76-4338-e54c-cf9d4a85e009"
      },
      "source": [
        "# train data 생성\n",
        "train_inputs, train_labels = load_data(df_train, n_seq)\n",
        "train_inputs, train_labels"
      ],
      "execution_count": 74,
      "outputs": [
        {
          "output_type": "display_data",
          "data": {
            "application/vnd.jupyter.widget-view+json": {
              "model_id": "c001743414514870aef2817802d9df24",
              "version_minor": 0,
              "version_major": 2
            },
            "text/plain": [
              "HBox(children=(FloatProgress(value=0.0, max=149995.0), HTML(value='')))"
            ]
          },
          "metadata": {
            "tags": []
          }
        },
        {
          "output_type": "stream",
          "text": [
            "\n"
          ],
          "name": "stdout"
        },
        {
          "output_type": "execute_result",
          "data": {
            "text/plain": [
              "(array([[  188, 16337,     7, ...,     0,     0,     0],\n",
              "        [15825,     7,     7, ...,     0,     0,     0],\n",
              "        [ 2329,   349,     1, ...,     0,     0,     0],\n",
              "        ...,\n",
              "        [   29,   128, 19999, ...,     0,     0,     0],\n",
              "        [14943,  7071,   802, ...,     0,     0,     0],\n",
              "        [  253,   321,  1071, ...,     0,     0,     0]], dtype=int32),\n",
              " array([0., 1., 0., ..., 0., 1., 0.]))"
            ]
          },
          "metadata": {
            "tags": []
          },
          "execution_count": 74
        }
      ]
    },
    {
      "cell_type": "code",
      "metadata": {
        "id": "5EI5jjPYgG_m",
        "colab": {
          "base_uri": "https://localhost:8080/",
          "height": 195,
          "referenced_widgets": [
            "a343574f514e48dd96a9a1e88c0b9834",
            "b64c6ad7233442c2bcf32e5a5459f410",
            "50e00e98e5ff46c18586ac4c8f2924eb",
            "b3558113ffd849348f1c0be768972a03",
            "24744eea89db4c889640d965951ff4ab",
            "bd2e2241dff7466cab9c44e019614160",
            "a5b7f3ec64db4cd5944ee3a9f0f7e95d",
            "02ab7be599f348719ebe3656d8ae9018"
          ]
        },
        "outputId": "ec0802d7-103c-4b5b-88b1-e4bfe06222c3"
      },
      "source": [
        "# test data 생성\n",
        "test_inputs, test_labels = load_data(df_test, n_seq)\n",
        "test_inputs, test_labels"
      ],
      "execution_count": 75,
      "outputs": [
        {
          "output_type": "display_data",
          "data": {
            "application/vnd.jupyter.widget-view+json": {
              "model_id": "a343574f514e48dd96a9a1e88c0b9834",
              "version_minor": 0,
              "version_major": 2
            },
            "text/plain": [
              "HBox(children=(FloatProgress(value=0.0, max=49997.0), HTML(value='')))"
            ]
          },
          "metadata": {
            "tags": []
          }
        },
        {
          "output_type": "stream",
          "text": [
            "\n"
          ],
          "name": "stdout"
        },
        {
          "output_type": "execute_result",
          "data": {
            "text/plain": [
              "(array([[ 5441,    10, 31026, ...,     0,     0,     0],\n",
              "        [  618,   509,   798, ...,     0,     0,     0],\n",
              "        [19999,   173,    29, ...,     0,     0,     0],\n",
              "        ...,\n",
              "        [ 2087,    32, 22687, ...,     0,     0,     0],\n",
              "        [ 3991, 27855,    11, ...,     0,     0,     0],\n",
              "        [ 4404,    11,   375, ...,     0,     0,     0]], dtype=int32),\n",
              " array([1., 0., 0., ..., 0., 0., 0.]))"
            ]
          },
          "metadata": {
            "tags": []
          },
          "execution_count": 75
        }
      ]
    },
    {
      "cell_type": "markdown",
      "metadata": {
        "id": "QbzBPXwqgG_n"
      },
      "source": [
        "## 학습"
      ]
    },
    {
      "cell_type": "code",
      "metadata": {
        "id": "xtECC96EgG_n",
        "colab": {
          "base_uri": "https://localhost:8080/",
          "height": 422
        },
        "outputId": "325c74d6-23a2-47f6-9dcf-9d4109a15633"
      },
      "source": [
        "# 모델 생성\n",
        "model = build_model(len(vocab), d_model, n_seq, n_out)\n",
        "# 모델 내용 그래프 출력\n",
        "tf.keras.utils.plot_model(model, 'model.png', show_shapes=True)"
      ],
      "execution_count": 76,
      "outputs": [
        {
          "output_type": "execute_result",
          "data": {
            "image/png": "[encoded data removed]",
            "text/plain": [
              "<IPython.core.display.Image object>"
            ]
          },
          "metadata": {
            "tags": []
          },
          "execution_count": 76
        }
      ]
    },
    {
      "cell_type": "code",
      "metadata": {
        "id": "IsiZts95gG_n"
      },
      "source": [
        "# 모델 loss, optimizer, metric 정의\n",
        "model.compile(loss='sparse_categorical_crossentropy', optimizer='adam', metrics=['accuracy'])"
      ],
      "execution_count": 77,
      "outputs": []
    },
    {
      "cell_type": "code",
      "metadata": {
        "id": "0iFOHw2agG_n"
      },
      "source": [
        "# early stopping\n",
        "early_stopping = tf.keras.callbacks.EarlyStopping(monitor='val_accuracy', patience=5)\n",
        "# save weights callback\n",
        "save_weights = tf.keras.callbacks.ModelCheckpoint(os.path.join(nsmc_dir, 'stub.hdf5'),\n",
        "                                                  monitor='val_accuracy',\n",
        "                                                  verbose=1,\n",
        "                                                  save_best_only=True,\n",
        "                                                  mode=\"max\",\n",
        "                                                  save_freq=\"epoch\",\n",
        "                                                  save_weights_only=True)\n",
        "# csv logger\n",
        "csv_logger = tf.keras.callbacks.CSVLogger(os.path.join(nsmc_dir, 'stub.csv'))"
      ],
      "execution_count": 78,
      "outputs": []
    },
    {
      "cell_type": "code",
      "metadata": {
        "id": "9-ONLlbbgG_o",
        "colab": {
          "base_uri": "https://localhost:8080/"
        },
        "outputId": "27db2b2e-881e-403c-e0f5-1a6a5f195f31"
      },
      "source": [
        "# 모델 학습\n",
        "history = model.fit(train_inputs,\n",
        "                    train_labels,\n",
        "                    validation_data=(test_inputs, test_labels),\n",
        "                    epochs=100,\n",
        "                    batch_size=256,\n",
        "                    callbacks=[early_stopping, save_weights, csv_logger])"
      ],
      "execution_count": 79,
      "outputs": [
        {
          "output_type": "stream",
          "text": [
            "Epoch 1/100\n",
            "586/586 [==============================] - 49s 83ms/step - loss: 0.5114 - accuracy: 0.7740 - val_loss: 0.3663 - val_accuracy: 0.8389\n",
            "\n",
            "Epoch 00001: val_accuracy improved from -inf to 0.83889, saving model to /content/drive/MyDrive/AI집중캠프(자연어처리)/실습/data/nsmc/stub.hdf5\n",
            "Epoch 2/100\n",
            "586/586 [==============================] - 49s 83ms/step - loss: 0.3133 - accuracy: 0.8680 - val_loss: 0.3598 - val_accuracy: 0.8431\n",
            "\n",
            "Epoch 00002: val_accuracy improved from 0.83889 to 0.84313, saving model to /content/drive/MyDrive/AI집중캠프(자연어처리)/실습/data/nsmc/stub.hdf5\n",
            "Epoch 3/100\n",
            "586/586 [==============================] - 49s 83ms/step - loss: 0.2605 - accuracy: 0.8963 - val_loss: 0.3677 - val_accuracy: 0.8441\n",
            "\n",
            "Epoch 00003: val_accuracy improved from 0.84313 to 0.84413, saving model to /content/drive/MyDrive/AI집중캠프(자연어처리)/실습/data/nsmc/stub.hdf5\n",
            "Epoch 4/100\n",
            "586/586 [==============================] - 48s 82ms/step - loss: 0.2159 - accuracy: 0.9192 - val_loss: 0.3811 - val_accuracy: 0.8431\n",
            "\n",
            "Epoch 00004: val_accuracy did not improve from 0.84413\n",
            "Epoch 5/100\n",
            "586/586 [==============================] - 48s 81ms/step - loss: 0.1703 - accuracy: 0.9410 - val_loss: 0.3985 - val_accuracy: 0.8414\n",
            "\n",
            "Epoch 00005: val_accuracy did not improve from 0.84413\n",
            "Epoch 6/100\n",
            "586/586 [==============================] - 47s 80ms/step - loss: 0.1338 - accuracy: 0.9592 - val_loss: 0.4208 - val_accuracy: 0.8398\n",
            "\n",
            "Epoch 00006: val_accuracy did not improve from 0.84413\n",
            "Epoch 7/100\n",
            "586/586 [==============================] - 47s 80ms/step - loss: 0.1031 - accuracy: 0.9724 - val_loss: 0.4440 - val_accuracy: 0.8382\n",
            "\n",
            "Epoch 00007: val_accuracy did not improve from 0.84413\n",
            "Epoch 8/100\n",
            "586/586 [==============================] - 47s 80ms/step - loss: 0.0777 - accuracy: 0.9813 - val_loss: 0.4737 - val_accuracy: 0.8364\n",
            "\n",
            "Epoch 00008: val_accuracy did not improve from 0.84413\n"
          ],
          "name": "stdout"
        }
      ]
    },
    {
      "cell_type": "code",
      "metadata": {
        "id": "GOHTftS4gG_o",
        "colab": {
          "base_uri": "https://localhost:8080/",
          "height": 278
        },
        "outputId": "030db25c-8fea-4e3d-ed34-d2100b0eb195"
      },
      "source": [
        "plt.figure(figsize=(12, 4))\n",
        "\n",
        "plt.subplot(1, 2, 1)\n",
        "plt.plot(history.history['loss'], 'b-', label='loss')\n",
        "plt.plot(history.history['val_loss'], 'r--', label='val_loss')\n",
        "plt.xlabel('Epoch')\n",
        "plt.legend()\n",
        "\n",
        "plt.subplot(1, 2, 2)\n",
        "plt.plot(history.history['accuracy'], 'g-', label='acc')\n",
        "plt.plot(history.history['val_accuracy'], 'k--', label='val_acc')\n",
        "plt.xlabel('Epoch')\n",
        "plt.legend()\n",
        "\n",
        "plt.show()"
      ],
      "execution_count": 80,
      "outputs": [
        {
          "output_type": "display_data",
          "data": {
            "image/png": "[encoded data removed]",
            "text/plain": [
              "<Figure size 864x288 with 2 Axes>"
            ]
          },
          "metadata": {
            "tags": [],
            "needs_background": "light"
          }
        }
      ]
    },
    {
      "cell_type": "markdown",
      "metadata": {
        "id": "fFOkITDzgG_o"
      },
      "source": [
        "## Inference"
      ]
    },
    {
      "cell_type": "code",
      "metadata": {
        "id": "ghiWYAgUgG_o"
      },
      "source": [
        "# 모델 생성\n",
        "model = build_model(n_vocab, d_model, n_seq, n_out)\n",
        "# train weight로 초기화\n",
        "model.load_weights(os.path.join(nsmc_dir, 'stub.hdf5'))"
      ],
      "execution_count": 81,
      "outputs": []
    },
    {
      "cell_type": "code",
      "metadata": {
        "id": "kbEKHHgvrNHF",
        "colab": {
          "base_uri": "https://localhost:8080/"
        },
        "outputId": "32e4c4fd-8d52-4c03-d20e-440bfbe352fd"
      },
      "source": [
        "# 예측\n",
        "logits = model.predict(test_inputs)\n",
        "logits"
      ],
      "execution_count": 82,
      "outputs": [
        {
          "output_type": "execute_result",
          "data": {
            "text/plain": [
              "array([[0.04151698, 0.95848304],\n",
              "       [0.44748428, 0.55251575],\n",
              "       [0.30556834, 0.69443166],\n",
              "       ...,\n",
              "       [0.00255444, 0.9974456 ],\n",
              "       [0.9985391 , 0.00146096],\n",
              "       [0.6803542 , 0.31964585]], dtype=float32)"
            ]
          },
          "metadata": {
            "tags": []
          },
          "execution_count": 82
        }
      ]
    },
    {
      "cell_type": "code",
      "metadata": {
        "id": "dvrQ6IeLrNpN",
        "colab": {
          "base_uri": "https://localhost:8080/"
        },
        "outputId": "06d6b966-846d-4c69-bcb6-6da50b0c8f14"
      },
      "source": [
        "# 확률 최대 값을 예측으로 사용\n",
        "test_preds = np.argmax(logits, axis=-1)\n",
        "test_preds"
      ],
      "execution_count": 83,
      "outputs": [
        {
          "output_type": "execute_result",
          "data": {
            "text/plain": [
              "array([1, 1, 1, ..., 1, 0, 0])"
            ]
          },
          "metadata": {
            "tags": []
          },
          "execution_count": 83
        }
      ]
    },
    {
      "cell_type": "code",
      "metadata": {
        "id": "9D8P5_7mgG_o",
        "colab": {
          "base_uri": "https://localhost:8080/"
        },
        "outputId": "ad9752ac-6814-4cf9-deb4-5391cc4b4a8d"
      },
      "source": [
        "confusion_matrix = np.zeros((n_out, n_out)).astype(np.int)\n",
        "for y_true, y_pred in zip(test_labels, test_preds):\n",
        "    confusion_matrix[int(y_true), int(y_pred)] += 1\n",
        "confusion_matrix"
      ],
      "execution_count": 84,
      "outputs": [
        {
          "output_type": "execute_result",
          "data": {
            "text/plain": [
              "array([[21285,  3541],\n",
              "       [ 4252, 20919]])"
            ]
          },
          "metadata": {
            "tags": []
          },
          "execution_count": 84
        }
      ]
    },
    {
      "cell_type": "code",
      "metadata": {
        "id": "zTHIKSwMgG_p",
        "colab": {
          "base_uri": "https://localhost:8080/"
        },
        "outputId": "4b895b2a-ef22-4fde-edf0-78cd6d2a4a68"
      },
      "source": [
        "tp = confusion_matrix[1, 1]\n",
        "tn = confusion_matrix[0, 0]\n",
        "fp = confusion_matrix[0, 1]\n",
        "fn = confusion_matrix[1, 0]\n",
        "\n",
        "accuracy = (tp + tn) / max((tp + tn + fp + fn), 1)\n",
        "print(f'accuracy: {accuracy}')\n",
        "precision = (tp) / max((tp + fp), 1)\n",
        "print(f'precision: {precision}')\n",
        "recall = (tp) / max((tp + fn), 1)\n",
        "print(f'recall: {recall}')\n",
        "f1 = 2 * (precision * recall) / max((precision + recall), 1)\n",
        "print(f'f1: {f1}')"
      ],
      "execution_count": 85,
      "outputs": [
        {
          "output_type": "stream",
          "text": [
            "accuracy: 0.8441306478388704\n",
            "precision: 0.8552330335241211\n",
            "recall: 0.8310754439632911\n",
            "f1: 0.8429812012653383\n"
          ],
          "name": "stdout"
        }
      ]
    },
    {
      "cell_type": "code",
      "metadata": {
        "id": "EEyJ7P4FgG_p"
      },
      "source": [
        "def do_predict(model, n_seq, string):\n",
        "    \"\"\"\n",
        "    입력에 대한 답변 생성하는 함수\n",
        "    :param model: model\n",
        "    :param n_seq: 입력 개수\n",
        "    :param string: 입력 문자열\n",
        "    \"\"\"\n",
        "    # token 생성: <string tokens>, [PAD] tokens\n",
        "    token = vocab.encode_as_ids(string)[:n_seq]\n",
        "    token += [0] * (n_seq - len(token))\n",
        "    token = token[:n_seq]\n",
        "\n",
        "    y_pred = model.predict(np.array([token]))\n",
        "    y_pred_class = K.argmax(y_pred, axis=-1)\n",
        "\n",
        "    return \"긍정\" if y_pred_class[0] == 1 else \"부정\""
      ],
      "execution_count": 86,
      "outputs": []
    },
    {
      "cell_type": "code",
      "metadata": {
        "id": "6AEE86LCgG_p",
        "colab": {
          "base_uri": "https://localhost:8080/"
        },
        "outputId": "ff5c2f69-2525-4463-fbbc-b7b9e333e483"
      },
      "source": [
        "while True:\n",
        "    print(\"input > \", end=\"\")\n",
        "    string = str(input())\n",
        "    if len(string) == 0:\n",
        "        break\n",
        "    print(f\"output > {do_predict(model, n_seq, string)}\")"
      ],
      "execution_count": 87,
      "outputs": [
        {
          "output_type": "stream",
          "text": [
            "input > 오늘 날씨가 좋아\n",
            "output > 긍정\n",
            "input > 햇빛이 쨍쨍해\n",
            "output > 긍정\n",
            "input > 배고파\n",
            "output > 부정\n",
            "input > 눈이 많이 와\n",
            "output > 긍정\n",
            "input > 눈이 펑펑 내려\n",
            "output > 긍정\n",
            "input > 눈이 너무 많이 와\n",
            "output > 긍정\n",
            "input > \n"
          ],
          "name": "stdout"
        }
      ]
    }
  ]
}