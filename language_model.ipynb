{
  "nbformat": 4,
  "nbformat_minor": 0,
  "metadata": {
    "colab": {
      "name": "07-01-language-model.ipynb",
      "provenance": [],
      "collapsed_sections": [
        "6dfJPT-2XMTB",
        "3myBX8hNEH1u",
        "mvdVp2P8tCfR",
        "kTgzpx2Wl6uv",
        "MFWK8EvH3-cp"
      ],
      "include_colab_link": true
    },
    "kernelspec": {
      "name": "python3",
      "display_name": "Python 3"
    },
    "accelerator": "GPU",
    "widgets": {
      "application/vnd.jupyter.widget-state+json": {
        "c41c86c11d3547848a2f777dd4c1bdc3": {
          "model_module": "@jupyter-widgets/controls",
          "model_name": "HBoxModel",
          "state": {
            "_view_name": "HBoxView",
            "_dom_classes": [],
            "_model_name": "HBoxModel",
            "_view_module": "@jupyter-widgets/controls",
            "_model_module_version": "1.5.0",
            "_view_count": null,
            "_view_module_version": "1.5.0",
            "box_style": "",
            "layout": "IPY_MODEL_99468c909265479c90b785aa3035ee14",
            "_model_module": "@jupyter-widgets/controls",
            "children": [
              "IPY_MODEL_aa6caa684ef24be0bf67a0a995dd24b3",
              "IPY_MODEL_a2f3af213c834ec6bcd34a0c2e36cfca"
            ]
          }
        },
        "99468c909265479c90b785aa3035ee14": {
          "model_module": "@jupyter-widgets/base",
          "model_name": "LayoutModel",
          "state": {
            "_view_name": "LayoutView",
            "grid_template_rows": null,
            "right": null,
            "justify_content": null,
            "_view_module": "@jupyter-widgets/base",
            "overflow": null,
            "_model_module_version": "1.2.0",
            "_view_count": null,
            "flex_flow": null,
            "width": null,
            "min_width": null,
            "border": null,
            "align_items": null,
            "bottom": null,
            "_model_module": "@jupyter-widgets/base",
            "top": null,
            "grid_column": null,
            "overflow_y": null,
            "overflow_x": null,
            "grid_auto_flow": null,
            "grid_area": null,
            "grid_template_columns": null,
            "flex": null,
            "_model_name": "LayoutModel",
            "justify_items": null,
            "grid_row": null,
            "max_height": null,
            "align_content": null,
            "visibility": null,
            "align_self": null,
            "height": null,
            "min_height": null,
            "padding": null,
            "grid_auto_rows": null,
            "grid_gap": null,
            "max_width": null,
            "order": null,
            "_view_module_version": "1.2.0",
            "grid_template_areas": null,
            "object_position": null,
            "object_fit": null,
            "grid_auto_columns": null,
            "margin": null,
            "display": null,
            "left": null
          }
        },
        "aa6caa684ef24be0bf67a0a995dd24b3": {
          "model_module": "@jupyter-widgets/controls",
          "model_name": "FloatProgressModel",
          "state": {
            "_view_name": "ProgressView",
            "style": "IPY_MODEL_99178cf3060849c08cb228a6946312a9",
            "_dom_classes": [],
            "description": "",
            "_model_name": "FloatProgressModel",
            "bar_style": "success",
            "max": 1,
            "_view_module": "@jupyter-widgets/controls",
            "_model_module_version": "1.5.0",
            "value": 1,
            "_view_count": null,
            "_view_module_version": "1.5.0",
            "orientation": "horizontal",
            "min": 0,
            "description_tooltip": null,
            "_model_module": "@jupyter-widgets/controls",
            "layout": "IPY_MODEL_473885fb76f547c2a76508a4191b49e2"
          }
        },
        "a2f3af213c834ec6bcd34a0c2e36cfca": {
          "model_module": "@jupyter-widgets/controls",
          "model_name": "HTMLModel",
          "state": {
            "_view_name": "HTMLView",
            "style": "IPY_MODEL_3a6045404b7b4ed8be23dd8348359e84",
            "_dom_classes": [],
            "description": "",
            "_model_name": "HTMLModel",
            "placeholder": "​",
            "_view_module": "@jupyter-widgets/controls",
            "_model_module_version": "1.5.0",
            "value": " 4140647/? [04:30&lt;00:00, 15335.47it/s]",
            "_view_count": null,
            "_view_module_version": "1.5.0",
            "description_tooltip": null,
            "_model_module": "@jupyter-widgets/controls",
            "layout": "IPY_MODEL_667501b3068f4a5fa3317323d4334e9b"
          }
        },
        "99178cf3060849c08cb228a6946312a9": {
          "model_module": "@jupyter-widgets/controls",
          "model_name": "ProgressStyleModel",
          "state": {
            "_view_name": "StyleView",
            "_model_name": "ProgressStyleModel",
            "description_width": "initial",
            "_view_module": "@jupyter-widgets/base",
            "_model_module_version": "1.5.0",
            "_view_count": null,
            "_view_module_version": "1.2.0",
            "bar_color": null,
            "_model_module": "@jupyter-widgets/controls"
          }
        },
        "473885fb76f547c2a76508a4191b49e2": {
          "model_module": "@jupyter-widgets/base",
          "model_name": "LayoutModel",
          "state": {
            "_view_name": "LayoutView",
            "grid_template_rows": null,
            "right": null,
            "justify_content": null,
            "_view_module": "@jupyter-widgets/base",
            "overflow": null,
            "_model_module_version": "1.2.0",
            "_view_count": null,
            "flex_flow": null,
            "width": null,
            "min_width": null,
            "border": null,
            "align_items": null,
            "bottom": null,
            "_model_module": "@jupyter-widgets/base",
            "top": null,
            "grid_column": null,
            "overflow_y": null,
            "overflow_x": null,
            "grid_auto_flow": null,
            "grid_area": null,
            "grid_template_columns": null,
            "flex": null,
            "_model_name": "LayoutModel",
            "justify_items": null,
            "grid_row": null,
            "max_height": null,
            "align_content": null,
            "visibility": null,
            "align_self": null,
            "height": null,
            "min_height": null,
            "padding": null,
            "grid_auto_rows": null,
            "grid_gap": null,
            "max_width": null,
            "order": null,
            "_view_module_version": "1.2.0",
            "grid_template_areas": null,
            "object_position": null,
            "object_fit": null,
            "grid_auto_columns": null,
            "margin": null,
            "display": null,
            "left": null
          }
        },
        "3a6045404b7b4ed8be23dd8348359e84": {
          "model_module": "@jupyter-widgets/controls",
          "model_name": "DescriptionStyleModel",
          "state": {
            "_view_name": "StyleView",
            "_model_name": "DescriptionStyleModel",
            "description_width": "",
            "_view_module": "@jupyter-widgets/base",
            "_model_module_version": "1.5.0",
            "_view_count": null,
            "_view_module_version": "1.2.0",
            "_model_module": "@jupyter-widgets/controls"
          }
        },
        "667501b3068f4a5fa3317323d4334e9b": {
          "model_module": "@jupyter-widgets/base",
          "model_name": "LayoutModel",
          "state": {
            "_view_name": "LayoutView",
            "grid_template_rows": null,
            "right": null,
            "justify_content": null,
            "_view_module": "@jupyter-widgets/base",
            "overflow": null,
            "_model_module_version": "1.2.0",
            "_view_count": null,
            "flex_flow": null,
            "width": null,
            "min_width": null,
            "border": null,
            "align_items": null,
            "bottom": null,
            "_model_module": "@jupyter-widgets/base",
            "top": null,
            "grid_column": null,
            "overflow_y": null,
            "overflow_x": null,
            "grid_auto_flow": null,
            "grid_area": null,
            "grid_template_columns": null,
            "flex": null,
            "_model_name": "LayoutModel",
            "justify_items": null,
            "grid_row": null,
            "max_height": null,
            "align_content": null,
            "visibility": null,
            "align_self": null,
            "height": null,
            "min_height": null,
            "padding": null,
            "grid_auto_rows": null,
            "grid_gap": null,
            "max_width": null,
            "order": null,
            "_view_module_version": "1.2.0",
            "grid_template_areas": null,
            "object_position": null,
            "object_fit": null,
            "grid_auto_columns": null,
            "margin": null,
            "display": null,
            "left": null
          }
        },
        "599d38ce2a7d405dbbe5c93e1f2c894d": {
          "model_module": "@jupyter-widgets/controls",
          "model_name": "HBoxModel",
          "state": {
            "_view_name": "HBoxView",
            "_dom_classes": [],
            "_model_name": "HBoxModel",
            "_view_module": "@jupyter-widgets/controls",
            "_model_module_version": "1.5.0",
            "_view_count": null,
            "_view_module_version": "1.5.0",
            "box_style": "",
            "layout": "IPY_MODEL_9f6842a934204aa3a177ebffa69f3823",
            "_model_module": "@jupyter-widgets/controls",
            "children": [
              "IPY_MODEL_a1cdabb50a8748fdbbd18969731a6726",
              "IPY_MODEL_78c1760e102f427db8c9dbaca517ac82"
            ]
          }
        },
        "9f6842a934204aa3a177ebffa69f3823": {
          "model_module": "@jupyter-widgets/base",
          "model_name": "LayoutModel",
          "state": {
            "_view_name": "LayoutView",
            "grid_template_rows": null,
            "right": null,
            "justify_content": null,
            "_view_module": "@jupyter-widgets/base",
            "overflow": null,
            "_model_module_version": "1.2.0",
            "_view_count": null,
            "flex_flow": null,
            "width": null,
            "min_width": null,
            "border": null,
            "align_items": null,
            "bottom": null,
            "_model_module": "@jupyter-widgets/base",
            "top": null,
            "grid_column": null,
            "overflow_y": null,
            "overflow_x": null,
            "grid_auto_flow": null,
            "grid_area": null,
            "grid_template_columns": null,
            "flex": null,
            "_model_name": "LayoutModel",
            "justify_items": null,
            "grid_row": null,
            "max_height": null,
            "align_content": null,
            "visibility": null,
            "align_self": null,
            "height": null,
            "min_height": null,
            "padding": null,
            "grid_auto_rows": null,
            "grid_gap": null,
            "max_width": null,
            "order": null,
            "_view_module_version": "1.2.0",
            "grid_template_areas": null,
            "object_position": null,
            "object_fit": null,
            "grid_auto_columns": null,
            "margin": null,
            "display": null,
            "left": null
          }
        },
        "a1cdabb50a8748fdbbd18969731a6726": {
          "model_module": "@jupyter-widgets/controls",
          "model_name": "FloatProgressModel",
          "state": {
            "_view_name": "ProgressView",
            "style": "IPY_MODEL_e1c34b9aba9f47338a22d9e1f85fb18e",
            "_dom_classes": [],
            "description": "100%",
            "_model_name": "FloatProgressModel",
            "bar_style": "danger",
            "max": 100000,
            "_view_module": "@jupyter-widgets/controls",
            "_model_module_version": "1.5.0",
            "value": 99673,
            "_view_count": null,
            "_view_module_version": "1.5.0",
            "orientation": "horizontal",
            "min": 0,
            "description_tooltip": null,
            "_model_module": "@jupyter-widgets/controls",
            "layout": "IPY_MODEL_b105f39063124a2a906473a76d03cc75"
          }
        },
        "78c1760e102f427db8c9dbaca517ac82": {
          "model_module": "@jupyter-widgets/controls",
          "model_name": "HTMLModel",
          "state": {
            "_view_name": "HTMLView",
            "style": "IPY_MODEL_d7b61b7561694654ae209271baef40c3",
            "_dom_classes": [],
            "description": "",
            "_model_name": "HTMLModel",
            "placeholder": "​",
            "_view_module": "@jupyter-widgets/controls",
            "_model_module_version": "1.5.0",
            "value": " 99673/100000 [00:40&lt;00:00, 4132.90it/s]",
            "_view_count": null,
            "_view_module_version": "1.5.0",
            "description_tooltip": null,
            "_model_module": "@jupyter-widgets/controls",
            "layout": "IPY_MODEL_2dd5ebad01854a599afd28406e300279"
          }
        },
        "e1c34b9aba9f47338a22d9e1f85fb18e": {
          "model_module": "@jupyter-widgets/controls",
          "model_name": "ProgressStyleModel",
          "state": {
            "_view_name": "StyleView",
            "_model_name": "ProgressStyleModel",
            "description_width": "initial",
            "_view_module": "@jupyter-widgets/base",
            "_model_module_version": "1.5.0",
            "_view_count": null,
            "_view_module_version": "1.2.0",
            "bar_color": null,
            "_model_module": "@jupyter-widgets/controls"
          }
        },
        "b105f39063124a2a906473a76d03cc75": {
          "model_module": "@jupyter-widgets/base",
          "model_name": "LayoutModel",
          "state": {
            "_view_name": "LayoutView",
            "grid_template_rows": null,
            "right": null,
            "justify_content": null,
            "_view_module": "@jupyter-widgets/base",
            "overflow": null,
            "_model_module_version": "1.2.0",
            "_view_count": null,
            "flex_flow": null,
            "width": null,
            "min_width": null,
            "border": null,
            "align_items": null,
            "bottom": null,
            "_model_module": "@jupyter-widgets/base",
            "top": null,
            "grid_column": null,
            "overflow_y": null,
            "overflow_x": null,
            "grid_auto_flow": null,
            "grid_area": null,
            "grid_template_columns": null,
            "flex": null,
            "_model_name": "LayoutModel",
            "justify_items": null,
            "grid_row": null,
            "max_height": null,
            "align_content": null,
            "visibility": null,
            "align_self": null,
            "height": null,
            "min_height": null,
            "padding": null,
            "grid_auto_rows": null,
            "grid_gap": null,
            "max_width": null,
            "order": null,
            "_view_module_version": "1.2.0",
            "grid_template_areas": null,
            "object_position": null,
            "object_fit": null,
            "grid_auto_columns": null,
            "margin": null,
            "display": null,
            "left": null
          }
        },
        "d7b61b7561694654ae209271baef40c3": {
          "model_module": "@jupyter-widgets/controls",
          "model_name": "DescriptionStyleModel",
          "state": {
            "_view_name": "StyleView",
            "_model_name": "DescriptionStyleModel",
            "description_width": "",
            "_view_module": "@jupyter-widgets/base",
            "_model_module_version": "1.5.0",
            "_view_count": null,
            "_view_module_version": "1.2.0",
            "_model_module": "@jupyter-widgets/controls"
          }
        },
        "2dd5ebad01854a599afd28406e300279": {
          "model_module": "@jupyter-widgets/base",
          "model_name": "LayoutModel",
          "state": {
            "_view_name": "LayoutView",
            "grid_template_rows": null,
            "right": null,
            "justify_content": null,
            "_view_module": "@jupyter-widgets/base",
            "overflow": null,
            "_model_module_version": "1.2.0",
            "_view_count": null,
            "flex_flow": null,
            "width": null,
            "min_width": null,
            "border": null,
            "align_items": null,
            "bottom": null,
            "_model_module": "@jupyter-widgets/base",
            "top": null,
            "grid_column": null,
            "overflow_y": null,
            "overflow_x": null,
            "grid_auto_flow": null,
            "grid_area": null,
            "grid_template_columns": null,
            "flex": null,
            "_model_name": "LayoutModel",
            "justify_items": null,
            "grid_row": null,
            "max_height": null,
            "align_content": null,
            "visibility": null,
            "align_self": null,
            "height": null,
            "min_height": null,
            "padding": null,
            "grid_auto_rows": null,
            "grid_gap": null,
            "max_width": null,
            "order": null,
            "_view_module_version": "1.2.0",
            "grid_template_areas": null,
            "object_position": null,
            "object_fit": null,
            "grid_auto_columns": null,
            "margin": null,
            "display": null,
            "left": null
          }
        }
      }
    }
  },
  "cells": [
    {
      "cell_type": "markdown",
      "metadata": {
        "id": "view-in-github",
        "colab_type": "text"
      },
      "source": [
        "<a href=\"https://colab.research.google.com/github/nainye/nlp_practice/blob/main/language_model.ipynb\" target=\"_parent\"><img src=\"https://colab.research.google.com/assets/colab-badge.svg\" alt=\"Open In Colab\"/></a>"
      ]
    },
    {
      "cell_type": "markdown",
      "metadata": {
        "id": "6dfJPT-2XMTB"
      },
      "source": [
        "# Install"
      ]
    },
    {
      "cell_type": "code",
      "metadata": {
        "id": "a193aGJWVaqb",
        "colab": {
          "base_uri": "https://localhost:8080/"
        },
        "outputId": "48d10bae-e0f8-4b46-b7b1-45c9c23fb5d4"
      },
      "source": [
        "!pip install sentencepiece"
      ],
      "execution_count": 1,
      "outputs": [
        {
          "output_type": "stream",
          "text": [
            "Collecting sentencepiece\n",
            "\u001b[?25l  Downloading https://files.pythonhosted.org/packages/f5/99/e0808cb947ba10f575839c43e8fafc9cc44e4a7a2c8f79c60db48220a577/sentencepiece-0.1.95-cp37-cp37m-manylinux2014_x86_64.whl (1.2MB)\n",
            "\r\u001b[K     |▎                               | 10kB 21.9MB/s eta 0:00:01\r\u001b[K     |▌                               | 20kB 17.0MB/s eta 0:00:01\r\u001b[K     |▉                               | 30kB 12.8MB/s eta 0:00:01\r\u001b[K     |█                               | 40kB 11.5MB/s eta 0:00:01\r\u001b[K     |█▍                              | 51kB 8.4MB/s eta 0:00:01\r\u001b[K     |█▋                              | 61kB 7.9MB/s eta 0:00:01\r\u001b[K     |██                              | 71kB 8.9MB/s eta 0:00:01\r\u001b[K     |██▏                             | 81kB 9.9MB/s eta 0:00:01\r\u001b[K     |██▌                             | 92kB 8.7MB/s eta 0:00:01\r\u001b[K     |██▊                             | 102kB 8.1MB/s eta 0:00:01\r\u001b[K     |███                             | 112kB 8.1MB/s eta 0:00:01\r\u001b[K     |███▎                            | 122kB 8.1MB/s eta 0:00:01\r\u001b[K     |███▌                            | 133kB 8.1MB/s eta 0:00:01\r\u001b[K     |███▉                            | 143kB 8.1MB/s eta 0:00:01\r\u001b[K     |████                            | 153kB 8.1MB/s eta 0:00:01\r\u001b[K     |████▍                           | 163kB 8.1MB/s eta 0:00:01\r\u001b[K     |████▋                           | 174kB 8.1MB/s eta 0:00:01\r\u001b[K     |█████                           | 184kB 8.1MB/s eta 0:00:01\r\u001b[K     |█████▏                          | 194kB 8.1MB/s eta 0:00:01\r\u001b[K     |█████▌                          | 204kB 8.1MB/s eta 0:00:01\r\u001b[K     |█████▊                          | 215kB 8.1MB/s eta 0:00:01\r\u001b[K     |██████                          | 225kB 8.1MB/s eta 0:00:01\r\u001b[K     |██████▎                         | 235kB 8.1MB/s eta 0:00:01\r\u001b[K     |██████▌                         | 245kB 8.1MB/s eta 0:00:01\r\u001b[K     |██████▉                         | 256kB 8.1MB/s eta 0:00:01\r\u001b[K     |███████                         | 266kB 8.1MB/s eta 0:00:01\r\u001b[K     |███████▍                        | 276kB 8.1MB/s eta 0:00:01\r\u001b[K     |███████▋                        | 286kB 8.1MB/s eta 0:00:01\r\u001b[K     |████████                        | 296kB 8.1MB/s eta 0:00:01\r\u001b[K     |████████▏                       | 307kB 8.1MB/s eta 0:00:01\r\u001b[K     |████████▍                       | 317kB 8.1MB/s eta 0:00:01\r\u001b[K     |████████▊                       | 327kB 8.1MB/s eta 0:00:01\r\u001b[K     |█████████                       | 337kB 8.1MB/s eta 0:00:01\r\u001b[K     |█████████▎                      | 348kB 8.1MB/s eta 0:00:01\r\u001b[K     |█████████▌                      | 358kB 8.1MB/s eta 0:00:01\r\u001b[K     |█████████▉                      | 368kB 8.1MB/s eta 0:00:01\r\u001b[K     |██████████                      | 378kB 8.1MB/s eta 0:00:01\r\u001b[K     |██████████▍                     | 389kB 8.1MB/s eta 0:00:01\r\u001b[K     |██████████▋                     | 399kB 8.1MB/s eta 0:00:01\r\u001b[K     |███████████                     | 409kB 8.1MB/s eta 0:00:01\r\u001b[K     |███████████▏                    | 419kB 8.1MB/s eta 0:00:01\r\u001b[K     |███████████▍                    | 430kB 8.1MB/s eta 0:00:01\r\u001b[K     |███████████▊                    | 440kB 8.1MB/s eta 0:00:01\r\u001b[K     |████████████                    | 450kB 8.1MB/s eta 0:00:01\r\u001b[K     |████████████▎                   | 460kB 8.1MB/s eta 0:00:01\r\u001b[K     |████████████▌                   | 471kB 8.1MB/s eta 0:00:01\r\u001b[K     |████████████▉                   | 481kB 8.1MB/s eta 0:00:01\r\u001b[K     |█████████████                   | 491kB 8.1MB/s eta 0:00:01\r\u001b[K     |█████████████▍                  | 501kB 8.1MB/s eta 0:00:01\r\u001b[K     |█████████████▋                  | 512kB 8.1MB/s eta 0:00:01\r\u001b[K     |█████████████▉                  | 522kB 8.1MB/s eta 0:00:01\r\u001b[K     |██████████████▏                 | 532kB 8.1MB/s eta 0:00:01\r\u001b[K     |██████████████▍                 | 542kB 8.1MB/s eta 0:00:01\r\u001b[K     |██████████████▊                 | 552kB 8.1MB/s eta 0:00:01\r\u001b[K     |███████████████                 | 563kB 8.1MB/s eta 0:00:01\r\u001b[K     |███████████████▎                | 573kB 8.1MB/s eta 0:00:01\r\u001b[K     |███████████████▌                | 583kB 8.1MB/s eta 0:00:01\r\u001b[K     |███████████████▉                | 593kB 8.1MB/s eta 0:00:01\r\u001b[K     |████████████████                | 604kB 8.1MB/s eta 0:00:01\r\u001b[K     |████████████████▍               | 614kB 8.1MB/s eta 0:00:01\r\u001b[K     |████████████████▋               | 624kB 8.1MB/s eta 0:00:01\r\u001b[K     |████████████████▉               | 634kB 8.1MB/s eta 0:00:01\r\u001b[K     |█████████████████▏              | 645kB 8.1MB/s eta 0:00:01\r\u001b[K     |█████████████████▍              | 655kB 8.1MB/s eta 0:00:01\r\u001b[K     |█████████████████▊              | 665kB 8.1MB/s eta 0:00:01\r\u001b[K     |██████████████████              | 675kB 8.1MB/s eta 0:00:01\r\u001b[K     |██████████████████▎             | 686kB 8.1MB/s eta 0:00:01\r\u001b[K     |██████████████████▌             | 696kB 8.1MB/s eta 0:00:01\r\u001b[K     |██████████████████▉             | 706kB 8.1MB/s eta 0:00:01\r\u001b[K     |███████████████████             | 716kB 8.1MB/s eta 0:00:01\r\u001b[K     |███████████████████▎            | 727kB 8.1MB/s eta 0:00:01\r\u001b[K     |███████████████████▋            | 737kB 8.1MB/s eta 0:00:01\r\u001b[K     |███████████████████▉            | 747kB 8.1MB/s eta 0:00:01\r\u001b[K     |████████████████████▏           | 757kB 8.1MB/s eta 0:00:01\r\u001b[K     |████████████████████▍           | 768kB 8.1MB/s eta 0:00:01\r\u001b[K     |████████████████████▊           | 778kB 8.1MB/s eta 0:00:01\r\u001b[K     |█████████████████████           | 788kB 8.1MB/s eta 0:00:01\r\u001b[K     |█████████████████████▎          | 798kB 8.1MB/s eta 0:00:01\r\u001b[K     |█████████████████████▌          | 808kB 8.1MB/s eta 0:00:01\r\u001b[K     |█████████████████████▉          | 819kB 8.1MB/s eta 0:00:01\r\u001b[K     |██████████████████████          | 829kB 8.1MB/s eta 0:00:01\r\u001b[K     |██████████████████████▎         | 839kB 8.1MB/s eta 0:00:01\r\u001b[K     |██████████████████████▋         | 849kB 8.1MB/s eta 0:00:01\r\u001b[K     |██████████████████████▉         | 860kB 8.1MB/s eta 0:00:01\r\u001b[K     |███████████████████████▏        | 870kB 8.1MB/s eta 0:00:01\r\u001b[K     |███████████████████████▍        | 880kB 8.1MB/s eta 0:00:01\r\u001b[K     |███████████████████████▊        | 890kB 8.1MB/s eta 0:00:01\r\u001b[K     |████████████████████████        | 901kB 8.1MB/s eta 0:00:01\r\u001b[K     |████████████████████████▎       | 911kB 8.1MB/s eta 0:00:01\r\u001b[K     |████████████████████████▌       | 921kB 8.1MB/s eta 0:00:01\r\u001b[K     |████████████████████████▊       | 931kB 8.1MB/s eta 0:00:01\r\u001b[K     |█████████████████████████       | 942kB 8.1MB/s eta 0:00:01\r\u001b[K     |█████████████████████████▎      | 952kB 8.1MB/s eta 0:00:01\r\u001b[K     |█████████████████████████▋      | 962kB 8.1MB/s eta 0:00:01\r\u001b[K     |█████████████████████████▉      | 972kB 8.1MB/s eta 0:00:01\r\u001b[K     |██████████████████████████▏     | 983kB 8.1MB/s eta 0:00:01\r\u001b[K     |██████████████████████████▍     | 993kB 8.1MB/s eta 0:00:01\r\u001b[K     |██████████████████████████▊     | 1.0MB 8.1MB/s eta 0:00:01\r\u001b[K     |███████████████████████████     | 1.0MB 8.1MB/s eta 0:00:01\r\u001b[K     |███████████████████████████▎    | 1.0MB 8.1MB/s eta 0:00:01\r\u001b[K     |███████████████████████████▌    | 1.0MB 8.1MB/s eta 0:00:01\r\u001b[K     |███████████████████████████▊    | 1.0MB 8.1MB/s eta 0:00:01\r\u001b[K     |████████████████████████████    | 1.1MB 8.1MB/s eta 0:00:01\r\u001b[K     |████████████████████████████▎   | 1.1MB 8.1MB/s eta 0:00:01\r\u001b[K     |████████████████████████████▋   | 1.1MB 8.1MB/s eta 0:00:01\r\u001b[K     |████████████████████████████▉   | 1.1MB 8.1MB/s eta 0:00:01\r\u001b[K     |█████████████████████████████▏  | 1.1MB 8.1MB/s eta 0:00:01\r\u001b[K     |█████████████████████████████▍  | 1.1MB 8.1MB/s eta 0:00:01\r\u001b[K     |█████████████████████████████▊  | 1.1MB 8.1MB/s eta 0:00:01\r\u001b[K     |██████████████████████████████  | 1.1MB 8.1MB/s eta 0:00:01\r\u001b[K     |██████████████████████████████▏ | 1.1MB 8.1MB/s eta 0:00:01\r\u001b[K     |██████████████████████████████▌ | 1.1MB 8.1MB/s eta 0:00:01\r\u001b[K     |██████████████████████████████▊ | 1.2MB 8.1MB/s eta 0:00:01\r\u001b[K     |███████████████████████████████ | 1.2MB 8.1MB/s eta 0:00:01\r\u001b[K     |███████████████████████████████▎| 1.2MB 8.1MB/s eta 0:00:01\r\u001b[K     |███████████████████████████████▋| 1.2MB 8.1MB/s eta 0:00:01\r\u001b[K     |███████████████████████████████▉| 1.2MB 8.1MB/s eta 0:00:01\r\u001b[K     |████████████████████████████████| 1.2MB 8.1MB/s \n",
            "\u001b[?25hInstalling collected packages: sentencepiece\n",
            "Successfully installed sentencepiece-0.1.95\n"
          ],
          "name": "stdout"
        }
      ]
    },
    {
      "cell_type": "markdown",
      "metadata": {
        "id": "JHkHg6XAXoyK"
      },
      "source": [
        "# Evn"
      ]
    },
    {
      "cell_type": "code",
      "metadata": {
        "id": "WkYXFwcBXJDG"
      },
      "source": [
        "import os\n",
        "import random\n",
        "import shutil\n",
        "import json\n",
        "import zipfile\n",
        "import math\n",
        "import copy\n",
        "import collections\n",
        "import re\n",
        "\n",
        "import matplotlib.pyplot as plt\n",
        "import pandas as pd\n",
        "import numpy as np\n",
        "import sentencepiece as spm\n",
        "import tensorflow as tf\n",
        "import tensorflow.keras.backend as K\n",
        "\n",
        "from tqdm.notebook import tqdm"
      ],
      "execution_count": 2,
      "outputs": []
    },
    {
      "cell_type": "code",
      "metadata": {
        "id": "nvjyruUlXtlR"
      },
      "source": [
        "# random seed initialize\n",
        "random_seed = 1234\n",
        "random.seed(random_seed)\n",
        "np.random.seed(random_seed)\n",
        "tf.random.set_seed(random_seed)"
      ],
      "execution_count": 3,
      "outputs": []
    },
    {
      "cell_type": "code",
      "metadata": {
        "id": "BC3fXkhdYcYt",
        "colab": {
          "base_uri": "https://localhost:8080/"
        },
        "outputId": "46b5d389-8d04-4f6f-cd83-a50a66a4d137"
      },
      "source": [
        "!nvidia-smi"
      ],
      "execution_count": 4,
      "outputs": [
        {
          "output_type": "stream",
          "text": [
            "Wed Feb 24 07:00:20 2021       \n",
            "+-----------------------------------------------------------------------------+\n",
            "| NVIDIA-SMI 460.39       Driver Version: 460.32.03    CUDA Version: 11.2     |\n",
            "|-------------------------------+----------------------+----------------------+\n",
            "| GPU  Name        Persistence-M| Bus-Id        Disp.A | Volatile Uncorr. ECC |\n",
            "| Fan  Temp  Perf  Pwr:Usage/Cap|         Memory-Usage | GPU-Util  Compute M. |\n",
            "|                               |                      |               MIG M. |\n",
            "|===============================+======================+======================|\n",
            "|   0  Tesla T4            Off  | 00000000:00:04.0 Off |                    0 |\n",
            "| N/A   49C    P8    10W /  70W |      0MiB / 15109MiB |      0%      Default |\n",
            "|                               |                      |                  N/A |\n",
            "+-------------------------------+----------------------+----------------------+\n",
            "                                                                               \n",
            "+-----------------------------------------------------------------------------+\n",
            "| Processes:                                                                  |\n",
            "|  GPU   GI   CI        PID   Type   Process name                  GPU Memory |\n",
            "|        ID   ID                                                   Usage      |\n",
            "|=============================================================================|\n",
            "|  No running processes found                                                 |\n",
            "+-----------------------------------------------------------------------------+\n"
          ],
          "name": "stdout"
        }
      ]
    },
    {
      "cell_type": "code",
      "metadata": {
        "id": "xVRdxYReYeQj",
        "colab": {
          "base_uri": "https://localhost:8080/"
        },
        "outputId": "fb58ac7f-9a3e-4dfd-d8a4-cca69d2cd7f7"
      },
      "source": [
        "# google drive mount\n",
        "from google.colab import drive\n",
        "drive.mount('/content/drive')"
      ],
      "execution_count": 5,
      "outputs": [
        {
          "output_type": "stream",
          "text": [
            "Mounted at /content/drive\n"
          ],
          "name": "stdout"
        }
      ]
    },
    {
      "cell_type": "code",
      "metadata": {
        "id": "byCIiLJBbFHh",
        "colab": {
          "base_uri": "https://localhost:8080/"
        },
        "outputId": "cae80beb-7267-4661-a097-d7c44691d707"
      },
      "source": [
        "# data dir\n",
        "data_dir = '/content/drive/MyDrive/AI집중캠프(자연어처리)/실습/data'\n",
        "os.listdir(data_dir)"
      ],
      "execution_count": 6,
      "outputs": [
        {
          "output_type": "execute_result",
          "data": {
            "text/plain": [
              "['ko_32000.model', 'ko_32000.vocab', 'kowiki', 'nsmc', 'quora', 'songys']"
            ]
          },
          "metadata": {
            "tags": []
          },
          "execution_count": 6
        }
      ]
    },
    {
      "cell_type": "code",
      "metadata": {
        "id": "_Ru56YS3-SME",
        "colab": {
          "base_uri": "https://localhost:8080/"
        },
        "outputId": "3fcc1ed1-241a-49a7-ea74-520285bdc05f"
      },
      "source": [
        "# korean wiki dir\n",
        "kowiki_dir = os.path.join(data_dir, 'kowiki')\n",
        "if not os.path.exists(kowiki_dir):\n",
        "    os.makedirs(kowiki_dir)\n",
        "os.listdir(kowiki_dir)"
      ],
      "execution_count": 7,
      "outputs": [
        {
          "output_type": "execute_result",
          "data": {
            "text/plain": [
              "['kowiki.txt.zip',\n",
              " 'my_corpus.txt',\n",
              " 'kowiki_lm.json.zip',\n",
              " 'kowiki_lm.json',\n",
              " 'lm.hdf5',\n",
              " 'lm.csv']"
            ]
          },
          "metadata": {
            "tags": []
          },
          "execution_count": 7
        }
      ]
    },
    {
      "cell_type": "markdown",
      "metadata": {
        "id": "XwriCkq_R1Lc"
      },
      "source": [
        "# Vocabulary & config"
      ]
    },
    {
      "cell_type": "code",
      "metadata": {
        "id": "2H0BLydCb7lg",
        "colab": {
          "base_uri": "https://localhost:8080/"
        },
        "outputId": "59f8aefd-8787-4462-d8d1-795bb92095eb"
      },
      "source": [
        "# vocab loading\n",
        "vocab = spm.SentencePieceProcessor()\n",
        "vocab.load(os.path.join(data_dir, 'ko_32000.model'))"
      ],
      "execution_count": 8,
      "outputs": [
        {
          "output_type": "execute_result",
          "data": {
            "text/plain": [
              "True"
            ]
          },
          "metadata": {
            "tags": []
          },
          "execution_count": 8
        }
      ]
    },
    {
      "cell_type": "code",
      "metadata": {
        "id": "0ETZ19flTRmt"
      },
      "source": [
        "n_vocab = len(vocab)  # number of vocabulary\n",
        "n_seq = 256  # number of sequence\n",
        "d_model = 256  # dimension of model"
      ],
      "execution_count": 9,
      "outputs": []
    },
    {
      "cell_type": "markdown",
      "metadata": {
        "id": "3myBX8hNEH1u"
      },
      "source": [
        "# 모델링"
      ]
    },
    {
      "cell_type": "code",
      "metadata": {
        "id": "bVaNre9FOpVv"
      },
      "source": [
        "# 입력 문장\n",
        "sentences = [\n",
        "    '나는 오늘 기분이 좋아 나는 오늘 우울해',\n",
        "    '나는 오늘 행복해 나는 오늘 즐거워'\n",
        "]"
      ],
      "execution_count": 10,
      "outputs": []
    },
    {
      "cell_type": "code",
      "metadata": {
        "id": "7NsSdXF8O51C",
        "colab": {
          "base_uri": "https://localhost:8080/"
        },
        "outputId": "2feac032-806a-4b5b-b757-5e372872b3d2"
      },
      "source": [
        "# 각 문장을 띄어쓰기 단위로 분할\n",
        "words = []\n",
        "for sentence in sentences:\n",
        "    words.extend(sentence.split())\n",
        "\n",
        "# 중복 단어 제거\n",
        "words = list(dict.fromkeys(words))\n",
        "\n",
        "# 각 단어별 고유한 번호 부여\n",
        "word_to_id = {'[PAD]': 0, '[UNK]': 1, '[BOS]': 2, '[EOS]': 3}\n",
        "for word in words:\n",
        "    word_to_id[word] = len(word_to_id)\n",
        "\n",
        "# 각 숫자별 단어 부여\n",
        "id_to_word = {_id:word for word, _id in word_to_id.items()}\n",
        "\n",
        "word_to_id, id_to_word"
      ],
      "execution_count": 11,
      "outputs": [
        {
          "output_type": "execute_result",
          "data": {
            "text/plain": [
              "({'[BOS]': 2,\n",
              "  '[EOS]': 3,\n",
              "  '[PAD]': 0,\n",
              "  '[UNK]': 1,\n",
              "  '기분이': 6,\n",
              "  '나는': 4,\n",
              "  '오늘': 5,\n",
              "  '우울해': 8,\n",
              "  '좋아': 7,\n",
              "  '즐거워': 10,\n",
              "  '행복해': 9},\n",
              " {0: '[PAD]',\n",
              "  1: '[UNK]',\n",
              "  2: '[BOS]',\n",
              "  3: '[EOS]',\n",
              "  4: '나는',\n",
              "  5: '오늘',\n",
              "  6: '기분이',\n",
              "  7: '좋아',\n",
              "  8: '우울해',\n",
              "  9: '행복해',\n",
              "  10: '즐거워'})"
            ]
          },
          "metadata": {
            "tags": []
          },
          "execution_count": 11
        }
      ]
    },
    {
      "cell_type": "code",
      "metadata": {
        "id": "nGSnITRaO-9v",
        "colab": {
          "base_uri": "https://localhost:8080/"
        },
        "outputId": "74d29e07-960c-4151-dc13-4753b7d7d7cf"
      },
      "source": [
        "# 학습용 입력 데이터 생성\n",
        "train_ids = []\n",
        "for sentence in sentences:\n",
        "    train_ids.append([word_to_id[word] for word in sentence.split()])\n",
        "\n",
        "# id를 입력과 정답으로 저장\n",
        "train_inputs, train_labels = [], []\n",
        "for train_id in train_ids:\n",
        "    train_inputs.append([word_to_id['[BOS]']] + train_id)\n",
        "    train_labels.append(train_id + [word_to_id['[EOS]']])\n",
        "\n",
        "# 문장의 길이를 모두 동일하게 변경 (최대길이 8)\n",
        "for row in train_inputs:\n",
        "    row += [0] * (8 - len(row))\n",
        "\n",
        "# 문장의 길이를 모두 동일하게 변경 (최대길이 8)\n",
        "for row in train_labels:\n",
        "    row += [0] * (8 - len(row))\n",
        "\n",
        "# train inputs을 numpy array로 변환\n",
        "train_inputs = np.array(train_inputs)\n",
        "train_labels = np.array(train_labels)\n",
        "\n",
        "train_inputs, train_labels"
      ],
      "execution_count": 12,
      "outputs": [
        {
          "output_type": "execute_result",
          "data": {
            "text/plain": [
              "(array([[ 2,  4,  5,  6,  7,  4,  5,  8],\n",
              "        [ 2,  4,  5,  9,  4,  5, 10,  0]]),\n",
              " array([[ 4,  5,  6,  7,  4,  5,  8,  3],\n",
              "        [ 4,  5,  9,  4,  5, 10,  3,  0]]))"
            ]
          },
          "metadata": {
            "tags": []
          },
          "execution_count": 12
        }
      ]
    },
    {
      "cell_type": "code",
      "metadata": {
        "id": "34wJtGLuGR-9",
        "colab": {
          "base_uri": "https://localhost:8080/"
        },
        "outputId": "243202ef-a9f0-454d-a1c6-ca09e3fb9da6"
      },
      "source": [
        "# 단어를 벡터로 변환\n",
        "embedding = tf.keras.layers.Embedding(len(word_to_id), 4)\n",
        "hidden = embedding(train_inputs)  # (bs, n_seq, 4)\n",
        "hidden"
      ],
      "execution_count": 13,
      "outputs": [
        {
          "output_type": "execute_result",
          "data": {
            "text/plain": [
              "<tf.Tensor: shape=(2, 8, 4), dtype=float32, numpy=\n",
              "array([[[ 0.02788493,  0.00853021,  0.02688133, -0.00167429],\n",
              "        [ 0.04810704, -0.03535189,  0.04945729,  0.02813626],\n",
              "        [-0.02798697, -0.00110071,  0.0133124 ,  0.00637371],\n",
              "        [-0.00963336, -0.01013004,  0.01826939,  0.02741292],\n",
              "        [-0.00544795, -0.04431503, -0.02540476, -0.0194685 ],\n",
              "        [ 0.04810704, -0.03535189,  0.04945729,  0.02813626],\n",
              "        [-0.02798697, -0.00110071,  0.0133124 ,  0.00637371],\n",
              "        [-0.01826397, -0.03069841,  0.03251565,  0.00923193]],\n",
              "\n",
              "       [[ 0.02788493,  0.00853021,  0.02688133, -0.00167429],\n",
              "        [ 0.04810704, -0.03535189,  0.04945729,  0.02813626],\n",
              "        [-0.02798697, -0.00110071,  0.0133124 ,  0.00637371],\n",
              "        [-0.01256046,  0.0343336 , -0.02595751,  0.03221213],\n",
              "        [ 0.04810704, -0.03535189,  0.04945729,  0.02813626],\n",
              "        [-0.02798697, -0.00110071,  0.0133124 ,  0.00637371],\n",
              "        [-0.03375109, -0.02327753, -0.00871272,  0.00912046],\n",
              "        [ 0.00380393, -0.01353813,  0.00816301, -0.02561716]]],\n",
              "      dtype=float32)>"
            ]
          },
          "metadata": {
            "tags": []
          },
          "execution_count": 13
        }
      ]
    },
    {
      "cell_type": "code",
      "metadata": {
        "id": "Cd3Gs-VAGhyq",
        "colab": {
          "base_uri": "https://localhost:8080/"
        },
        "outputId": "c4776765-7b7a-425a-e7a5-98604ee1fe38"
      },
      "source": [
        "# LSTM 실행\n",
        "lstm = tf.keras.layers.LSTM(units=5, return_sequences=True)\n",
        "hidden = lstm(hidden)\n",
        "hidden"
      ],
      "execution_count": 14,
      "outputs": [
        {
          "output_type": "execute_result",
          "data": {
            "text/plain": [
              "<tf.Tensor: shape=(2, 8, 5), dtype=float32, numpy=\n",
              "array([[[ 0.00319188,  0.0004601 ,  0.00048046,  0.00068459,\n",
              "          0.00486466],\n",
              "        [ 0.00894166, -0.00398243, -0.00042938, -0.00316281,\n",
              "          0.01105411],\n",
              "        [ 0.00766935, -0.00386156,  0.00388169, -0.00665173,\n",
              "          0.00903312],\n",
              "        [ 0.00829616, -0.00536775,  0.00688199, -0.01092444,\n",
              "          0.01057143],\n",
              "        [-0.00012326, -0.00511966, -0.00149244, -0.00613498,\n",
              "         -0.0010604 ],\n",
              "        [ 0.00606216, -0.00820581, -0.00172402, -0.00856205,\n",
              "          0.00738286],\n",
              "        [ 0.00519836, -0.00702938,  0.00313166, -0.01096036,\n",
              "          0.00693066],\n",
              "        [ 0.00657915, -0.00800196,  0.00457055, -0.01407604,\n",
              "          0.00739967]],\n",
              "\n",
              "       [[ 0.00319188,  0.0004601 ,  0.00048046,  0.00068459,\n",
              "          0.00486466],\n",
              "        [ 0.00894166, -0.00398243, -0.00042938, -0.00316281,\n",
              "          0.01105411],\n",
              "        [ 0.00766935, -0.00386156,  0.00388169, -0.00665173,\n",
              "          0.00903312],\n",
              "        [ 0.00388655, -0.00242244,  0.00856029, -0.00810846,\n",
              "          0.00914428],\n",
              "        [ 0.00867492, -0.00566278,  0.00575731, -0.01013837,\n",
              "          0.01500174],\n",
              "        [ 0.00686534, -0.00475602,  0.00849079, -0.01219667,\n",
              "          0.01245715],\n",
              "        [ 0.00288458, -0.00525455,  0.00740161, -0.0134944 ,\n",
              "          0.00628166],\n",
              "        [ 0.00016705, -0.00287942,  0.00276615, -0.00814157,\n",
              "          0.00284877]]], dtype=float32)>"
            ]
          },
          "metadata": {
            "tags": []
          },
          "execution_count": 14
        }
      ]
    },
    {
      "cell_type": "code",
      "metadata": {
        "id": "L47UgZ04J80U",
        "colab": {
          "base_uri": "https://localhost:8080/"
        },
        "outputId": "79acd983-6f63-40c9-ac6c-e59848905e97"
      },
      "source": [
        "# 다음단어 예측\n",
        "dense = tf.keras.layers.Dense(len(word_to_id), activation=tf.nn.softmax)\n",
        "outputs = dense(hidden)\n",
        "outputs"
      ],
      "execution_count": 15,
      "outputs": [
        {
          "output_type": "execute_result",
          "data": {
            "text/plain": [
              "<tf.Tensor: shape=(2, 8, 11), dtype=float32, numpy=\n",
              "array([[[0.09095009, 0.09100534, 0.09078809, 0.09107333, 0.09073468,\n",
              "         0.09084196, 0.09071952, 0.0911459 , 0.09077941, 0.09089004,\n",
              "         0.09107161],\n",
              "        [0.09091932, 0.0908605 , 0.09085783, 0.09155371, 0.09053011,\n",
              "         0.09105469, 0.09082662, 0.09110866, 0.0907365 , 0.09049691,\n",
              "         0.09105515],\n",
              "        [0.0910784 , 0.09098901, 0.09074864, 0.09155462, 0.090539  ,\n",
              "         0.09118763, 0.09117985, 0.09108083, 0.09056233, 0.09015973,\n",
              "         0.09091996],\n",
              "        [0.09113628, 0.09101795, 0.09070639, 0.09178611, 0.09049145,\n",
              "         0.09136044, 0.0914659 , 0.09108679, 0.0903735 , 0.08977969,\n",
              "         0.0907955 ],\n",
              "        [0.09075198, 0.09058631, 0.09120022, 0.09120046, 0.09101953,\n",
              "         0.09125873, 0.09135398, 0.0905164 , 0.0910138 , 0.09051464,\n",
              "         0.09058393],\n",
              "        [0.09073099, 0.09053629, 0.0911767 , 0.09170382, 0.09075757,\n",
              "         0.09136692, 0.09129173, 0.09067336, 0.09086999, 0.09021923,\n",
              "         0.09067339],\n",
              "        [0.09090739, 0.09074099, 0.0909916 , 0.09171211, 0.09071954,\n",
              "         0.09142141, 0.0915226 , 0.09078801, 0.09062362, 0.08995098,\n",
              "         0.09062178],\n",
              "        [0.09098372, 0.09076019, 0.09095989, 0.0918367 , 0.09065623,\n",
              "         0.09155927, 0.09173351, 0.09074419, 0.09054325, 0.08966406,\n",
              "         0.09055902]],\n",
              "\n",
              "       [[0.09095009, 0.09100534, 0.09078809, 0.09107333, 0.09073468,\n",
              "         0.09084196, 0.09071952, 0.0911459 , 0.09077941, 0.09089004,\n",
              "         0.09107161],\n",
              "        [0.09091932, 0.0908605 , 0.09085783, 0.09155371, 0.09053011,\n",
              "         0.09105469, 0.09082662, 0.09110866, 0.0907365 , 0.09049691,\n",
              "         0.09105515],\n",
              "        [0.0910784 , 0.09098901, 0.09074864, 0.09155462, 0.090539  ,\n",
              "         0.09118763, 0.09117985, 0.09108083, 0.09056233, 0.09015973,\n",
              "         0.09091996],\n",
              "        [0.09109382, 0.09113513, 0.09063639, 0.09159528, 0.09062732,\n",
              "         0.09117442, 0.09131467, 0.09126665, 0.09027364, 0.09007011,\n",
              "         0.09081267],\n",
              "        [0.09096879, 0.09095397, 0.09075209, 0.0919959 , 0.09047915,\n",
              "         0.09129214, 0.09124538, 0.09125935, 0.09029676, 0.08991078,\n",
              "         0.09084565],\n",
              "        [0.09106793, 0.09105109, 0.09068108, 0.09192007, 0.09052593,\n",
              "         0.09135855, 0.09147449, 0.09123203, 0.09019429, 0.08974454,\n",
              "         0.09074998],\n",
              "        [0.0909932 , 0.09090863, 0.09085473, 0.09172469, 0.09075362,\n",
              "         0.09145838, 0.09171911, 0.09091874, 0.09036531, 0.08976557,\n",
              "         0.09053799],\n",
              "        [0.09083477, 0.0908155 , 0.09098035, 0.0913797 , 0.09091645,\n",
              "         0.0912337 , 0.09135897, 0.09086192, 0.09064125, 0.09033925,\n",
              "         0.0906381 ]]], dtype=float32)>"
            ]
          },
          "metadata": {
            "tags": []
          },
          "execution_count": 15
        }
      ]
    },
    {
      "cell_type": "code",
      "metadata": {
        "id": "SobekkcjEX_P"
      },
      "source": [
        "def build_model(n_vocab, d_model, n_seq):\n",
        "    \"\"\"\n",
        "    문장 유사도 비교 모델\n",
        "    :param n_vocab: vocabulary 단어 수\n",
        "    :param d_model: 단어를 의미하는 벡터의 차원 수\n",
        "    :param n_seq: 문장 길이 (단어 수)\n",
        "    \"\"\"\n",
        "    inputs = tf.keras.layers.Input((n_seq,))  # (bs, n_seq)\n",
        "    # 입력 단어를 vector로 변환\n",
        "    embedding = tf.keras.layers.Embedding(n_vocab, d_model)\n",
        "    hidden = embedding(inputs)  # (bs, n_seq, d_model)\n",
        "    # LSTM\n",
        "    lstm = tf.keras.layers.LSTM(units=d_model * 2, return_sequences=True)\n",
        "    hidden = lstm(hidden)  # (bs, n_seq, d_model * 2)\n",
        "    # 다음단어 확률 분포\n",
        "    dense = tf.keras.layers.Dense(n_vocab, activation=tf.nn.softmax)\n",
        "    outputs = dense(hidden)\n",
        "    # 학습할 모델 선언\n",
        "    model = tf.keras.Model(inputs=inputs, outputs=outputs)\n",
        "    return model"
      ],
      "execution_count": 16,
      "outputs": []
    },
    {
      "cell_type": "code",
      "metadata": {
        "id": "72cRi9zUEeqG",
        "colab": {
          "base_uri": "https://localhost:8080/",
          "height": 0
        },
        "outputId": "377b3591-4e24-4f7f-ff61-c85242b6def8"
      },
      "source": [
        "# 모델 생성\n",
        "model = build_model(len(word_to_id), 4, 8)\n",
        "# 모델 내용 그래프 출력\n",
        "tf.keras.utils.plot_model(model, 'model.png', show_shapes=True)"
      ],
      "execution_count": 17,
      "outputs": [
        {
          "output_type": "execute_result",
          "data": {
            "image/png": "[encoded data removed]",
            "text/plain": [
              "<IPython.core.display.Image object>"
            ]
          },
          "metadata": {
            "tags": []
          },
          "execution_count": 17
        }
      ]
    },
    {
      "cell_type": "markdown",
      "metadata": {
        "id": "jv0OPyaKSpjw"
      },
      "source": [
        "# Preprocessing\n"
      ]
    },
    {
      "cell_type": "code",
      "metadata": {
        "id": "E13I0Xr_kMX-",
        "colab": {
          "base_uri": "https://localhost:8080/"
        },
        "outputId": "a0950bf3-d3e8-4fa3-e69c-b589dd4bc85f"
      },
      "source": [
        "# 파일 내용 확인\n",
        "with zipfile.ZipFile(os.path.join(kowiki_dir, 'kowiki.txt.zip')) as z:\n",
        "    with z.open('kowiki.txt') as f:\n",
        "        for i, line in enumerate(f):\n",
        "            line = line.decode('utf-8').strip()\n",
        "            print(line)\n",
        "            if i >= 100:\n",
        "                break"
      ],
      "execution_count": 18,
      "outputs": [
        {
          "output_type": "stream",
          "text": [
            "지미 카터\n",
            "제임스 얼 \"지미\" 카터 주니어(, 1924년 10월 1일 ~ )는 민주당 출신 미국 39대 대통령 (1977년 ~ 1981년)이다.\n",
            "지미 카터는 조지아주 섬터 카운티 플레인스 마을에서 태어났다. 조지아 공과대학교를 졸업하였다. 그 후 해군에 들어가 전함·원자력·잠수함의 승무원으로 일하였다. 1953년 미국 해군 대위로 예편하였고 이후 땅콩·면화 등을 가꿔 많은 돈을 벌었다. 그의 별명이 \"땅콩 농부\" (Peanut Farmer)로 알려졌다.\n",
            "1962년 조지아 주 상원 의원 선거에서 낙선하나 그 선거가 부정선거 였음을 입증하게 되어 당선되고, 1966년 조지아 주 지사 선거에 낙선하지만 1970년 조지아 주 지사를 역임했다. 대통령이 되기 전 조지아주 상원의원을 두번 연임했으며, 1971년부터 1975년까지 조지아 지사로 근무했다. 조지아 주지사로 지내면서, 미국에 사는 흑인 등용법을 내세웠다.\n",
            "1976년 미합중국 (미국) 제39대 대통령 선거에 민주당 후보로 출마하여 도덕주의 정책으로 내세워서, 많은 지지를 받고 제럴드 포드 (당시 미국 대통령) 를 누르고 당선되었다.\n",
            "카터 대통령은 에너지 개발을 촉구했으나 공화당의 반대로 무산되었다.\n",
            "카터는 이집트와 이스라엘을 조정하여, 캠프 데이비드에서 안와르 사다트 대통령과 메나헴 베긴 수상과 함께 중동 평화를 위한 캠프데이비드 협정을 체결했다.\n",
            "그러나 이것은 공화당과 미국의 유대인 단체의 반발을 일으켰다. 1979년 백악관에서 양국 간의 평화조약으로 이끌어졌다. 또한 소련과 제2차 전략 무기 제한 협상에 조인했다.\n",
            "카터는 1970년대 후반 당시 대한민국 등 인권 후진국의 국민들의 인권을 지키기 위해 노력했으며, 취임 이후 계속해서 도덕정치를 내세웠다.\n",
            "그러나 주 이란 미국 대사관 인질 사건에서 인질 구출 실패를 이유로 1980년 대통령 선거에서 공화당의 로널드 레이건 후보에게 져 결국 재선에 실패했다. 또한 임기 말기에 터진 소련의 아프가니스탄 침공 사건으로 인해 1980년 하계 올림픽에 반공국가들의 보이콧을 내세웠다.\n",
            "지미 카터는 대한민국과의 관계에서도 중요한 영향을 미쳤던 대통령 중 하나다. 인권 문제와 주한미군 철수 문제로 한때 한미 관계가 불편하기도 했다. 1978년 대한민국에 대한 북한의 위협에 대비해 한미연합사를 창설하면서, 1982년까지 3단계에 걸쳐 주한미군을 철수하기로 했다. 그러나 주한미군사령부와 정보기관·의회의 반대에 부딪혀 주한미군은 완전철수 대신 6,000명을 감축하는 데 그쳤다. 또한 박정희 정권의 인권 문제 등과의 논란으로 불협화음을 냈으나, 1979년 6월 하순, 대한민국을 방문하여 관계가 다소 회복되었다.\n",
            "1979년 ~ 1980년 대한민국의 정치적 격변기 당시의 대통령이었던 그는 이에 대해 애매한 태도를 보였고, 이는 후에 대한민국 내에서 고조되는 반미 운동의 한 원인이 됐다. 10월 26일, 박정희 대통령이 김재규 중앙정보부장에 의해 살해된 것에 대해 그는 이 사건으로 큰 충격을 받았으며, 사이러스 밴스 국무장관을 조문사절로 파견했다. 12·12 군사 반란과 5.17 쿠데타에 대해 초기에는 강하게 비난했으나, 미국 정부가 신군부를 설득하는데, 한계가 있었고 결국 묵인하는 듯한 태도를 보이게 됐다.\n",
            "퇴임 이후 민간 자원을 적극 활용한 비영리 기구인 카터 재단을 설립한 뒤 민주주의 실현을 위해 제 3세계의 선거 감시 활동 및 기니 벌레에 의한 드라쿤쿠르스 질병 방재를 위해 힘썼다. 미국의 빈곤층 지원 활동, 사랑의 집짓기 운동, 국제 분쟁 중재 등의 활동도 했다.\n",
            "카터는 카터 행정부 이후 미국이 북핵 위기, 코소보 전쟁, 이라크 전쟁과 같이 미국이 군사적 행동을 최후로 선택하는 전통적 사고를 버리고 군사적 행동을 선행하는 행위에 대해 깊은 유감을 표시 하며 미국의 군사적 활동에 강한 반대 입장을 보이고 있다.\n",
            "특히 국제 분쟁 조정을 위해 북한의 김일성, 아이티의 세드라스 장군, 팔레인스타인의 하마스, 보스니아의 세르비아계 정권 같이 미국 정부에 대해 협상을 거부하면서 사태의 위기를 초래한 인물 및 단체를 직접 만나 분쟁의 원인을 근본적으로 해결하기 위해 힘썼다. 이 과정에서 미국 행정부와 갈등을 보이기도 했지만, 전직 대통령의 권한과 재야 유명 인사들의 활약으로 해결해 나갔다.\n",
            "1978년에 채결된 캠프데이비드 협정의 이행이 지지부진 하자 중동 분쟁 분제를 해결하기 위해 1993년 퇴임 후 직접 이스라엘과 팔레인스타인의 오슬로 협정을 이끌어 내는 데도 성공했다.\n",
            "1993년 1차 북핵 위기 당시 북한에 대한 미국의 군사적 행동이 임박했으나, 미국 전직 대통령으로는 처음으로 북한을 방문하고 미국과 북 양국의 중재에 큰 기여를 해 위기를 해결했다는 평가를 받았다. 또한 이 때 김영삼 대통령과 김일성 주석의 만남을 주선했다. 하지만 그로부터 수주일 후 김일성이 갑자기 사망하여 김일성과 김영삼의 정상회담은 이루어지지 못했다.\n",
            "미국의 관타나모 수용소 문제, 세계의 인권문제에서도 관심이 깊어 유엔에 유엔인권고등판무관의 제도를 시행하도록 노력하여 독재자들의 인권 유린에 대해 제약을 하고, 국제형사재판소를 만드는 데 기여하여 독재자들 같은 인권유린범죄자를 재판소로 회부하여 국제적인 처벌을 받게 하는 등 인권 신장에 크나 큰 기여를 했다.\n",
            "2011년 4월 26일부터 29일까지 북한을 3일간 방문했다.\n",
            "경제문제를 해결하지 못하고 주 이란 미국 대사관 인질 사건에 발목이 잡혀 실패한 대통령으로 평가를 받지만 이란 사태는 미국 내 이란 재산을 풀어주겠다는 조건을 내세워서 사실상 카터가 해결한 것이었고, 사랑의 집짓기 운동 등으로 퇴임 후에 훨씬 더 존경받는 미국 대통령 중에 특이한 인물로 남았다.\n",
            "그는 2002년 말 인권과 중재 역할에 대한 공로를 인정받아 노벨 평화상을 받게 되었다.\n",
            "\n",
            "\n",
            "\n",
            "수학\n",
            "수학(數學, )은 양, 구조, 공간, 변화등을 다룬다고 설명 할 수 있으나 일반적으로 받아들여지는 정의는 없다 수학은 공리, 명제, 증명 등으로 구성된 추상적 대상을 연구하는 학문이다. 수학자는 인간이 살아가는 실제 세상과 대비해 보았을 때 전혀 다른 독립적이며 추상적이고 엄격한 구조를 만들고 연구한다.\n",
            "그러나 이런 추상적인 사실들이 가끔은 실제를 설명하는데 필요한 경우도 있다. 고대로부터 문명이 생기는데 필요한 건축, 천문학, 토지 측량, 기계 공학, 상업 등에 수학적 개념들이 응용되어왔다.\n",
            "수학에서는 예술에서 그렇듯 실용적 고려를 하지 않으며, 거의 모두 실용성을 가지지 않지만, 극히 일부 실용적인 부분도 있다. 응용 수학에서는 이렇게 수학을 물리학, 화학, 생물학, 공학, 경제학, 사회학 등 다른 학문에 응용하는데 관심이 있다.\n",
            "또한 수학은 음악이나 미술 등 예술과도 관련이 있다. 피타고라스는 두 정수의 비율이 듣기 좋은 소리가 난다는 점을 가지고 피타고라스 음계를 만들었다. 중세시대에도 음악과 수학을 밀접하게 연관시켰으며 성 빅토르의 후고는 “음악은 조화다”라고 했고, 성 트론드의 루돌프는 “음악은 조화의 토대(ratio)다”라고 쓴 바 있다. 조화가 반드시 소리로 표현될 필요는 없고 소리의 음악은 음악의 형식 중 하나에 불과했다. 소리에 대해 다루었던 중세의 저술가들이 있는가 하면, 조화와 비례의 추상적 이론만을 다루고 소리에는 거의 관심을 보이지 않았던 저술가들도 있었다. 청각적인 면과 추상적인 면이라는 음악의 이런 이중적 측면은 고대의 음악이론보다는 중세의 음악이론에서 큰 특징이 되었다. 또한 현대 음악을 군(群,group)같은 수학적 대상을 이용해 분석하기도 한다. 원근법은 사영 기하학에 해당한다. 미술 사조 중 하나인 입체파도 기하학의 영향을 받았다.\n",
            "오늘날 수학은 자연과학, 공학뿐만 아니라, 경제학 등의 사회과학에서도 중요한 도구로 사용된다. 예를들어, 정도의 차이는 있으나, 미적분학과 선형대수학은 자연과학과 공학, 경제학을 하는데에 필수적 과목으로 여겨지며, 확률론은 계량경제학에 응용된다. 통계학은 사회과학이론에 근거를 마련하는데 필수적이다. 16세기에 갈릴레오 갈릴레이가 \"자연이라는 책은 수학이라는 언어로 기록되어 있다.\"는 주장과 함께 물리학에 수학적 방법을 도입하였고, 17세기에 아이작 뉴턴이 고전 역학의 기본 물리학 법칙들을 수학적으로 기술하고 정립하여 물리학 이론에서 수학적 모델링은 필수적 요소가 되었다. 또한 이 시기는 과학적 방법이 정립되는 시기이기도 한데, 많은 과학적 현상들이 수학적 관계가 있음이 드러나면서 과학적 방법에도 수학은 중요한 역할을 하고 있다. 노벨 물리학상 수상자 유진 위그너는 그의 에세이 \"The unreasonable effectiveness of mathematics in natural sciences\"에서 인간 세상과 동떨어져있고 현실과 아무 관련이 없다고 여겨지던 수학 중 극히 일부는 뜻밖에도 자연과학과 연관성이 드러나고 과학이론에 효과적인 토대를 마련해 주는데에 대한 놀라움을 표현하였다. 예를 들어, 비유클리드기하와 3차원 이상의 임의의 차원에서 기하학을 탐구했던 미분 기하학은 당시에는 현실과 연관성을 가지지 않았으나 먼 훗날 일반상대성이론이 4차원 기하학을 필요로 함에 따라, 물리적 세상과 연관이 있음이 밝혀졌다. 또한 게이지이론, 양자장론 등에도 미분 기하학은 필수적이다.\n",
            "mathematics라는 단어는 '아는 모든 것'라는 뜻의 고대 그리스어 mathematikos에서 유래되었다. 줄여서 math라고 표현을하기도 한다.\n",
            "수학은 기원전 600년 경에 살았던 탈레스로부터 시작됐다. 하지만 탈레스가 태어나기 전에도 수학을 연구한 사람이 있을 수도 있기 때문에 인류의 역사와 더불어 시작되었다고 할 수 있다. 교역•분배•과세 등의 인류의 사회 생활에 필요한 모든 계산을 수학이 담당해 왔고, 농경 생활에 필수적인 천문 관측과 달력의 제정, 토지의 측량 또한 수학이 직접적으로 관여한 분야이다. 고대 수학을 크게 발전시킨 나라로는 이집트, 인도, 그리스, 중국 등이 있다. 그 중에서도 그리스는 처음으로 방정식에서 변수를 문자로 쓴 나라이다.\n",
            "한국의 수학은 약 1,500년 전부터 기록으로 보이기 시작한다. 신라 시대에 수학을 가르쳤으며, 탈레스가 최초로 발견한 일식과 월식을 예측할 정도로 발달했다. 조선 시대에 훈민정음을 창제한 세종 대왕은 집현전 학자들에게 수학 연구를 명하는 등, 조선의 수학 수준을 향상시키기 위해서 많은 노력을 기울였다. 하지만 임진왜란으로 많은 서적들이 불타고, 천문학 분야에서 큰 손실을 입었다. 조선 후기의 한국의 수학은 실학자들을 중심으로 다시 발전하였고, 새로운 결과도 성취되었다.\n",
            "수학의 각 분야들은 상업에 필요한 계산을 하기 위해, 숫자들의 관계를 이해하기 위해, 토지를 측량하기 위해, 그리고 천문학적 사건들을 예견하기 위해 발전되어왔다. 이 네 가지 목적은 대략적으로 수학이 다루는 대상인 양, 구조, 공간 및 변화에 대응되며, 이들을 다루는 수학의 분야를 각각 산술, 대수학, 기하학, 해석학이라 한다. 또한 이 밖에도 근대 이후에 나타난 수학기초론과 이산수학 및 응용수학 등이 있다.\n",
            "산술은 자연수와 정수 및 이에 대한 사칙연산에 대한 연구로서 시작했다. 수론은 이런 주제들을 보다 깊게 다루는 학문으로, 그 결과로는 페르마의 마지막 정리 등이 유명하다. 또한 쌍둥이 소수 추측과 골드바흐 추측 등을 비롯해 오랜 세월 동안 해결되지 않고 남아있는 문제들도 여럿 있다.\n",
            "수의 체계가 보다 발전하면서, 정수의 집합을 유리수의 집합의 부분집합으로 여기게 되었다. 또한 유리수의 집합은 실수의 집합의 부분집합이며, 이는 또다시 복소수 집합의 일부분으로 볼 수 있다. 여기에서 더 나아가면 사원수와 팔원수 등의 개념을 생각할 수도 있다. 이와는 약간 다른 방향으로, 자연수를 무한대까지 세어나간다는 개념을 형식화하여 순서수의 개념을 얻으며, 집합의 크기 비교를 이용하여 무한대를 다루기 위한 또다른 방법으로는 기수의 개념도 있다.\n",
            "수 대신 문자를 써서 문제해결을 쉽게 하는 것과, 마찬가지로 수학적 법칙을 일반적이고 간명하게 나타내는 것을 포함한다. 고전대수학은 대수방정식 및 연립방정식의 해법에서 시작하여 군, 환, 체 등의 추상대수학을 거쳐 현대에 와서는 대수계의 구조를 보는 것을 중심으로 하는 선형대수학으로 전개되었다. 수의 집합이나 함수와 같은 많은 수학적 대상들은 내재적인 구조를 보인다. 이러한 대상들의 구조적 특성들이 군론, 환론, 체론 그리고 그 외의 수많은 대수적 구조들을 연구하면서 다루어지며, 그것들 하나하나가 내재적 구조를 지닌 수학적 대상이다. 이 분야에서 중요한 개념은 벡터, 벡터 공간으로의 일반화, 그리고 선형대수학에서의 지식들이다. 벡터의 연구에는 산술, 대수, 기하라는 수학의 중요한 세개의 분야가 조합되어 있다. 벡터 미적분학은 여기에 해석학의 영역이 추가된다. 텐서 미적분학은 대칭성과 회전축의 영향 아래에서 벡터의 움직임을 연구한다. 눈금없는 자와 컴퍼스와 관련된 많은 고대의 미해결 문제들이 갈루아 이론을 사용하여 비로소 해결되었다.\n",
            "공간에 대한 연구는 기하학에서 시작되었고, 특히 유클리드 기하학에서 비롯되었다. 삼각법은 공간과 수들을 결합하였고, 잘 알려진 피타고라스의 정리를 포함한다. 현대에 와서 공간에 대한 연구는, 이러한 개념들은 더 높은 차원의 기하학을 다루기 위해 비유클리드 기하학(상대성이론에서 핵심적인 역할을 함)과 위상수학으로 일반화되었다. 수론과 공간에 대한 이해는 모두 해석 기하학, 미분기하학, 대수기하학에 중요한 역할을 한다. 리 군도 공간과 구조, 변화를 다루는데 사용된다. 위상수학은 20세기 수학의 다양한 지류속에서 괄목할만한 성장을 한 분야이며, 푸앵카레 추측과 인간에 의해서 증명되지 못하고 오직 컴퓨터로만 증명된 4색정리를 포함한다.\n",
            "변화에 대한 이해와 묘사는 자연과학에 있어서 일반적인 주제이며, 미적분학은 변화를 탐구하는 강력한 도구로서 발전되었다. 함수는 변화하는 양을 묘사함에 있어서 중추적인 개념으로써 떠오르게 된다. 실수와 실변수로 구성된 함수의 엄밀한 탐구가 실해석학이라는 분야로 알려지게 되었고, 복소수에 대한 이와 같은 탐구 분야는 복소해석학이라고 한다. 함수해석학은 함수의 공간(특히 무한차원)의 탐구에 주목한다. 함수해석학의 많은 응용분야 중 하나가 양자역학이다. 많은 문제들이 자연스럽게 양과 그 양의 변화율의 관계로 귀착되고, 이러한 문제들이 미분방정식으로 다루어진다. 자연의 많은 현상들이 동역학계로 기술될 수 있다. 혼돈 이론은 이러한 예측 불가능한 현상을 탐구하는 데 상당한 기여를 한다.\n",
            "수학의 기초를 확실히 세우기 위해, 수리논리학과 집합론이 발전하였고, 이와 더불어 범주론이 최근에도 발전되고 있다. “근본 위기”라는 말은 대략 1900년에서 1930년 사이에 일어난, 수학의 엄밀한 기초에 대한 탐구를 상징적으로 보여주는 말이다. 수학의 엄밀한 기초에 대한 몇 가지 의견 불일치는 오늘날에도 계속되고 있다. 수학의 기초에 대한 위기는 그 당시 수많은 논쟁에 의해 촉발되었으며, 그 논쟁에는 칸토어의 집합론과 브라우어-힐베르트 논쟁이 포함되었다.\n",
            "\n",
            "\n",
            "\n",
            "수학 상수\n",
            "수학에서 상수란 그 값이 변하지 않는 불변량으로, 변수의 반대말이다. 물리 상수와는 달리, 수학 상수는 물리적 측정과는 상관없이 정의된다.\n",
            "수학 상수는 대개 실수체나 복소수체의 원소이다. 우리가 이야기할 수 있는 상수는 (거의 대부분 계산 가능한) 정의가능한 수이다.\n",
            "특정 수학 상수, 예를 들면 골롬-딕맨 상수, 프랑세즈-로빈슨 상수, formula_1, 레비 상수와 같은 상수는 다른 수학상수 또는 함수와 약한 상관관계 또는 강한 상관관계를 갖는다.\n",
            "\n",
            "\n",
            "\n",
            "문학\n",
            "문학(文學, )은 언어를 예술적 표현의 제재로 삼아 새로운 의미를 창출하여, 인간과 사회를 진실되게 묘사하는 예술의 하위분야이다. 간단하게 설명하면, 언어를 통해 인간의 삶을 미적(美的)으로 형상화한 것이라고 볼 수 있다. 문학은 원래 문예(文藝)라고 부르는 것이 옳으며, 문학을 학문의 대상으로서 탐구하는 학문의 명칭 역시 문예학이다. 문예학은 음악사학, 미술사학 등과 함께 예술학의 핵심분야로서 인문학의 하위범주에 포함된다.\n",
            "일반적으로 문학의 정의는 텍스트들의 집합이다. 각각의 국가들은 고유한 문학을 가질 수 있으며, 이는 기업이나 철학 조류, 어떤 특정한 역사적 시대도 마찬가지이다. 흔히 한 국가의 문학을 묶어서 분류한다. 예를 들어 고대 그리스어, 성서, 베오울프, 일리아드, 그리고 미국 헌법 등이 그러한 분류의 범주에 들어간다. 좀 더 일반적으로는 문학은 특정한 주제를 가진 이야기, 시, 희곡의 모음이라 할 수 있다. 이 경우, 이야기, 시, 그리고 희곡은 민족주의적인 색채를 띨 수도 아닐 수도 있다. 문학의 한 부분으로서 특정한 아이템을 구분 짓는 일은 매우 어려운 일이다. 어떤 사람들에게 \"문학\"은 어떠한 상징적인 기록의 형태로도 나타날 수 있는 것이다. (이를테면 이미지나 조각, 또는 문자로도 나타날 수 있다.) 그러나 또다른 사람들에게 있어 문학은 오직 문자로 이루어진 텍스트로 구성된 것만을 포함한다. 좀 더 보수적인 사람들은 그 개념이 꼭 물리적인 형태를 가진 텍스트여야 하고, 대개 그러한 형태는 종이 등의 눈에 보이는 매체에서 디지털 미디어까지 다양할 수 있다.\n",
            "더 나아가 보면, \"문학\"과 몇몇 인기있는 기록형태의 작업들, 소위 \"대중문학\" 사이에는 인식가능한 차이점이 존재한다. 이때 \"문학적인 허구성\"과 \"문학적인 재능\"이 종종 개별적인 작품들을 구별하는 데에 사용된다. 예를 들어, 찰스 디킨즈의 작품들은 대부분의 사람들에게 \"문학적인 것\"으로 받아들여지지만, 제프리 아처의 작품들은 영문학이라는 일반적인 범주 아래 두기에는 다소 가치가 떨어지는 것으로 생각된다. 또한 예를 들어 문법과 어법에 서투르거나, 이야기가 혼란스러워 신뢰성을 주지 않거나, 인물들의 성격에 일관성이 없을 경우에도 문학에서 제외될 수 있다. 로맨스, 범죄소설, 과학소설 등의 장르 소설도 때로 \"문학\"이 아닌 것으로 간주되는 경우도 있다. 이들은 대부분 \"대중문학\"의 범주에 포함된다.\n",
            "문학은 분류하는 방법에 따라 다음과 같이 구분한다.\n",
            "이 외에도 편의에 따라 발생적으로 대별하기도 한다.\n",
            "문학은 처음은 유일한 종류, 즉 노래하고, 말하고, 춤춘다는 것이 분화되지 않은 것이었다. 이 춤추는 것을 중심으로 발달한 것이 연극(演劇)이며, 노래하는 것이 발달하여 시(詩), 말하는 것이 발달하여 산문(散文)의 이야기가 되었다. 시는 정형시·자유시·산문시로, 또한 서사시와 서정시로 나뉜다. 산문은 사건을 중심으로 그려진 이야기, 근대 리얼리즘의 수법 이후 인물의 성격을 묘사하는 것을 중심으로 한 소설이 있다. 이야기나 소설과 같이 특별한 구상에 의하지 않고, 작자의 흥미에 의해서 씌어지는 것이 잡문(雜文) 또는 수필이며, 이것이 날짜에 따라 씌어지는 것이 일기, 여행의 과정에 따라 씌어지는 것이 기행문이다. 일기와 마찬가지로 발표의 의도가 작은 것에 서간(書簡)이 있다. 이 밖에 사건의 경험에 따른 회고록, 사건 등의 특정시(特定時)에 한정되지 않는 자서전, 제삼자에 의해서 씌어지는 전기(傳記)가 있다. 또한 이것들을 포함하는 예술작품의 가치평가를 시도하는 것이 평론(評論)이다.\n",
            "대중문학이란 상업성을 띠며 대중을 겨냥하여 그들의 통속적인 흥미와 욕구를 채워주는 문학을 말한다. 대중문학의 하위장르에는 여러가지가 있다.\n",
            "문학을 창작하는 예술가를 문예가라고 부른다. 문예학을 연구하는 사람을 문예학자라고 부른다. 문학을 창작하는 사람을 따로 저술가라고 한다. 문예학자와 언어학자를 합쳐 어문학자로 칭하기도 한다. 그러나 언어와, 언어를 사용한 예술인 문학은 현격한 차이가 있으므로 주의해야 한다.\n",
            "반영론적 관점에 의한 감상은 작품을 창작된 당시 시대 정황과 연결시켜 감상하는 입장이고, 내재적 관점의 감상은 작품의 형식, 내용에 국한하여 감상하는 것이다. 표현론적 관점의 감상은 작가의 전기적 사실과 작품을 연결시켜 감상하는 것이고, 수용론적 관점의 감상은 독자와 작품을 연결시켜 감상하는 것을 말한다.\n",
            "\n",
            "\n",
            "\n",
            "나라 목록\n",
            "이 문서는 나라 목록이며, 전 세계 206개 나라의 각 현황과 주권 승인 정보를 개요 형태로 나열하고 있다.\n",
            "이 목록은 명료화를 위해 두 부분으로 나뉘어 있다.\n",
            "두 목록은 모두 가나다 순이다.\n",
            "일부 국가의 경우 국가로서의 자격에 논쟁의 여부가 있으며, 이 때문에 이러한 목록을 엮는 것은 매우 어렵고 논란이 생길 수 있는 과정이다. 이 목록을 구성하고 있는 국가를 선정하는 기준에 대한 정보는 \"포함 기준\" 단락을 통해 설명하였다. 나라에 대한 일반적인 정보는 \"국가\" 문서에서 설명하고 있다.\n",
            "이 목록은 주권을 주장하고 점유한 영토를 실제로 관리하고 있으나, 많은 국가와 외교관계를 맺지 못한 나라를 설명하고 있다. 극소형 국가는 이 목록에 포함하지 않는다.\n",
            "이 목록에 실린 국가 기준은 1933년 몬테비데오 협약 1장을 참고로 하였다. 협정에 따르면, 국가는 다음의 조건을 만족해야 한다.\n",
            "특히, 마지막 조건은 국제 공동체의 참여 용인을 내포하고 있기 때문에, 다른 나라의 승인이 매우 중요한 역할을 할 수 있다. 이 목록에 포함된 모든 국가는 보통 이 기준을 만족하는 것으로 보이는 자주적이고 독립적인 국가이다. 하지만 몬테비데오 협약 기준을 만족하는지의 여부는 많은 국가가 논쟁이 되고 있는 실정이다. 또한, 몬테비데오 협약 기준만이 국가 지위의 충분한 자격이든 아니든, 국제법의 견해 차이는 존재할 수 있다. 이 물음에 대한 다른 이론에 대한 고리는 아래에서 볼 수 있다.\n",
            "위 기준에 논거하여 이 목록은 다음 206개 국가를 포함하고 있다.\n",
            "위 목록에 포함되지 않은 다음 국가는 몬테비데오 협약의 모든 조건을 만족하지 못하거나, 자주적이고 독립적임을 주장하지 않는 국가이다.\n",
            "\n",
            "\n",
            "\n",
            "화학\n",
            "화학(化學, )은 물질의 성질, 조성, 구조, 변화 및 그에 수반하는 에너지의 변화를 연구하는 자연과학의 한 분야이다. 물리학도 역시 물질을 다루는 학문이지만, 물리학이 원소와 화합물을 모두 포함한 물체의 운동과 에너지, 열적·전기적·광학적·기계적 속성을 다루고 이러한 현상으로부터 통일된 이론을 구축하려는 것과는 달리 화학에서는 물질 자체를 연구 대상으로 한다. 화학은 이미 존재하는 물질을 이용하여 특정한 목적에 맞는 새로운 물질을 합성하는 길을 제공하며, 이는 농작물의 증산, 질병의 치료 및 예방, 에너지 효율 증대, 환경오염 감소 등 여러 가지 이점을 제공한다.\n",
            "영어 ‘케미스트리(chemistry)’는 연금술을 뜻하는 단어 ‘알케미(alchemy)’에서 비롯하였다. 이는 다시 아랍어 ‘알 키미야(, al-kīmiyāʾ)’에서 왔는데, 이 단어의 어원에 대해서는 여러 가지 설이 있다.\n",
            "‘화학(化學)’이란 단어는 물질의 변화를 다루는 학문이라는 점에 착안한 번역어이다. 이 번역어는 의 《항해술기(航海述奇)》(1866), 의 자연과학 교과서 《격물입문(格物入門)》(1866) 등에서 처음 쓰였다.\n",
            "고대 화학\n",
            "<nowiki>*</nowiki>\"초기 야금 (야금: 금속을 광석으로부터 추출하고 정련하는 기술)\"\n",
            "인간에 의해 발견된 최초의 기록된 금속은 금인 것으로 보이며 구석기 후기(BC 40,000)에 스페인 동굴에서 소량의 천연 금이 발견되었다고 한다.\n",
            "은, 구리, 주석 및 유성 철 또한 고대 문화에서 일부 제한된 양의 금속 가공을 허용하면서 고대문화로 발견 될 수 있었다. 기원전 3000년경 유성 철제로 만든 이집트 무기는 \"천국의 단검\"으로 높이 평가 받았다.\n",
            "아마도 통제 된 방식으로 사용 된 최초의 화학 반응은 불이였다. 그러나 천년 동안 불은 단순히 열과 빛을 생성하면서 한 물질을 다른 물질 (타는 나무 또는 끓는 물)로 변형시킬 수있는 신비한 힘으로만 알려졌다. 불은 초기 사회의 여러 측면에 영향을 미쳤다. 이들은 요리 및 서식지 조명과 같은 일상 생활의 가장 단순한면에서 도기, 벽돌 및 금속을 녹여 도구를 만드는 것과 같은 고급 기술에 이르기까지 다양했다.\n",
            "유리의 발견과 금속의 정화로 이어지는 불로 인해 야금이 부상했다. 야금의 초기 단계에서 금속의 정화 방법이 요구되었고, 금은 BC 2900 년 초기의 고대 이집트의 귀중한 금속이되었다.\n",
            "17 세기와 18 세기 : 초기 화학\n",
            "\"<nowiki>*</nowiki>로버트 보일\"\n",
            "영국계 미국인 화학자 로버트 보일 (Robert Boyle, 1627-1691)은 연금술에 대한 현대의 과학적 방법을 정제하고 화학을 연금술과 분리한 것으로 생각된다. 그의 연구가 연금술 전통에 뿌리를두고 있음에도 불구하고, 보일은 오늘날 현대의 화학자이자 현대화학의 창시자이자 현대 실험 과학 방법의 선구자 중 한 사람으로 불리고 있다. 보일이 원래 발견자가 아님에도 보일은 1662 년에 제시한 보일의 법칙으로 가장 잘 알려져있다. 보일의 법칙은 온도만 폐쇄된 시스템 내에서 일정하게 유지된다면 가스의 절대 압력과 부피가 반비례함을 의미한다. 보일은 또한 화학 분야의 초석으로 간주되는 1661 년의 《의심 많은 화학자》 에 대한 획기적인 저서로 인정받고 있다. 작품에서 보일은 모든 현상이 움직이는 입자의 충돌의 결과라는 가설을 제시한다. 보일 (Boyle)은 화학자들에게 실험을 호소했으며 실험은 지구, 화염, 공기 및 물과 같은 고전적인 4 가지 원소만으로 화학 원소를 제한한다는 것을 부인했다. 그는 또한 화학이 의학이나 연금술에 종속되어 과학의 지위로 부상하는 것을 중단해야 한다고 촉구했다. 중요한 것은 과학 실험에 대한 엄격한 접근 방식이라고 주장했다. 그는 모든 이론이 사실로 간주되기 전에 실험적으로 입증되어야 한다고 믿었다. 이 작품은 원자, 분자 및 화학 반응의 가장 초기의 현대적인 아이디어를 포함하고 있으며 현대 화학의 역사의 시작을 나타낸다. 보일은 또한 화학 물질을 정제하여 재현 가능한 반응을 얻으려고 시도했다. 그는 재료 물질의 물리적 특성과 상호 작용을 설명하고 정량화하기 위해 René Descartes가 제안한 기계 철학의 보컬 지지자였다. 보일은 원자핵론자 였지만 원자보다 더 많은 입자를 선호했다. 그는 속성이 유지되는 물질의 가장 정밀한 부분은 미립자의 수준에 있다고 논평했다. 그는 또한 공기 펌프로 수 많은 조사를 수행했으며, 공기가 펌프로 퍼져 나감에 따라 수은이 떨어지는 것으로 나타났다. 그는 또한 컨테이너에서 공기를 펌핑하면 화염을 없애고 내부에 있는 작은 동물을 죽일 수 있음을 관찰했다.\n",
            "과거 화학에서 더 이상 나뉘지 않는 기초적인 요소가 존재한다고 했는데, 이 기초적인 요소를 원자(atom)라 한다. 원자란 물질을 구성하는 기본적인 입자로 고대 그리스의 데모크리토스에서부터 그 존재가 주장되었는데, 1803년 존 돌턴에 의해서 원자론으로 정리되었다. 20세기 초, 화학자들은 원자를 구성하는 더 작은 입자들, 즉 전자, 양성자, 중성자가 존재한다는 사실을 발견하였다. 전자는 음전하를 띠고 있고, 양성자는 양전하를 띠고 있으며, 중성자는 전하를 띠지 않고 있다. 원자는 양성자와 중성자로 구성되어 있는 원자핵을 가지고 있으며 전자는 이 주변에 오비탈을 이루며 분포되어 있다.\n",
            "원소(element)는 일반적인 화학적, 물리학적 방법으로는 분해되지 않는 물질을 의미한다. 원소는 원자핵에 존재하는 양성자 수로 정의되는 원자 번호로 구별된다. 산소, 황, 주석, 철 등은 원소이다. 19세기 중엽까지 약 80가지의 원소가 발견되었는데, 이들은 주기율에 따라 배열될 수 있다.\n",
            "동위원소는 아이소토프 또는 동위체라고도 한다. 서로 화학적으로는 거의 구별하지 못하지만 그것을 구성하고 있는 원자의 질량이 서로 다른 원소를 동위원소라고 한다. 영어의 isotope는 그리스어인 isos(같은)와 topos(장소)의 합성어인데, 질량은 서로 달라도 원소의 주기율표에서 같은 장소에 배열되는 데서 1901년 영국의 화학자 F. 소디가 isotope라는 명칭을 붙였다. 대부분의 원소는 동위 원소를 가진다. 동위 원소는 원자 번호는 같으나, 중성자수가 다른 원소를 뜻한다. 동위 원소는 화학적인 성질은 동일하나, 원자량의 차이를 이용하여 분리할 수 있다. 자연에서도 발견되는 92개의 원소 중 88개는 동위 원소가 지표면 상에 존재한다. 자연에서 발견되지 않더라도 동위 원소는 핵반응을 이용하여 만들어낼 수 있다. 어떤 동위 원소는 방사능을 가지기도 하는데, 이 경우 동위 원소의 원자핵은 불안정하고 방사선을 방출하며 자연적으로 붕괴된다.\n",
            "동중 원소(isobar)는 원자 질량은 같으나, 양성자수가 다른 원소를 뜻한다. 동중 원소는 화학적, 물리적 성질이 다르며 S, Cl, Ar, K, Ca등이 있다.\n",
            "분자란 원자의 결합체 중 독립 입자로서 작용하는 단위체이다. 일정한 개수의 원자가 특정하게 정렬되어 서로 결합해 분자가 형성된다. 원자가 원소의 최소단위이듯, 분자는 화합물의 최소단위가 된다. 원자가 결합될 때 전자의 재배치가 일어나는데, 이는 화학에서의 중요한 관심사중 하나이다.\n",
            "화학 반응은 원자 혹은 분자가 화학적인 변화를 겪는 일을 말한다. 화학 반응은 원자간의 결합이 끊어지는 일과 다시 이어지는 일을 포함한다. 결합이 끊어질 때는 에너지가 흡수되고, 결합이 이어질 때는 에너지가 방출된다. 화학 반응의 간단한 예로는 수소와 산소가 반응하여 물이 되는 것을 들 수 있다. 반응식은 다음과 같다.\n",
            "반응식에서 알 수 있듯이, 화학 반응에서는 원자가 새로 생성되거나 나타나는 일이 일어나지 않는다. ΔH는 에너지 또는 엔탈피 변화를 뜻한다. 반응은 발열반응일 수도 있고, 흡열반응일 수도 있다. 발열반응은 주위로 열을 방출하는 반응으로 엔탈피 변화가 음수로 나타난다. 반면에 흡열반응은 주위 열을 흡수하는 반응으로 엔탈피 변화가 양수로 나타난다. 위 반응의 경우는 발열반응인데, 이는 계로부터 주위로 열이 이동하였다는 의미이다.\n",
            "화학 결합을 주된 세 가지 부류로 나누어보면 이온 결합, 공유 결합 그리고 금속결합으로 나눌 수 있다. 이온이란 전하를 띤 원자 또는 분자를 뜻한다. 이온 결합은 양전하와 음전하의 전기적인 인력에 의해서 생성되는 화학 결합이다. 예를 들면 염화 나트륨은 양전하를 띤 나트륨 이온(Na)과 음전하를 띤 염화 이온(Cl) 사이의 전기적인 결합으로 이루어진 이온 화합물이다. 이러한 물질을 물에 녹이면 이온은 물 분자에 의해 수화되고 이렇게 해서 만들어진 수용액은 전기전도도를 가진다.\n",
            "공유 결합은 원자 궤도|오비탈이 겹쳐진 결과 두 원자가 전자쌍을 공유하게 되어 생성되는 결합을 의미한다. 공유 결합이 형성되는 결합은 발열반응인데, 이때 방출되는 에너지의 양이 그 결합의 결합 에너지이다. 결합 에너지만큼의 에너지를 그 결합에 가해주면 결합은 끊어질 수 있다.\n",
            "금속 결합은 금속 원자에서 전자들이 떨어져 나와 자유전자를 생성하게 되어 생성되는 결합을 의미한다. 금속의 특성인 연성과 전성이 생성되는 이유이기도 하다.\n",
            "화합물은 구성하고 있는 원자의 종류, 수, 배치에 의해서 그 특성이 결정된다. 자연에서 찾을 수 있거나 인공적으로 합성할 수 있는 화합물의 수는 엄청나고, 이들 중 대부분은 유기 화합물이다. 유기 화합물을 이루는 주된 화학 원소인 탄소는 다른 화학 원소와는 다르게 매우 긴 사슬 형태로 정렬될 수 있으며, 같은 수많은 이성질체를 형성할 수 있다. 예를 들어, 분자식 CHO는 약 천 개의 서로 다른 화합물을 뜻할 수 있다.\n",
            "화학은 취급 대상 및 대상의 취급 방법에 따라서 몇 가지 분과로 구분될 수 있다. 물질을 분석하는 분석화학은 크게 물질의 존재를 취급하는 정성 분석과 물질의 양을 결정하는 정량 분석으로 나눌 수 있다. 탄소를 포함한 유기 화합물을 다루는 유기화학과 유기 화합물을 제외한 무기 화합물을 다루는 무기화학도 있다. 물리학과 화학의 경계에는 물리화학이 있고 생물학과의 경계에는 생화학이 있다. 물리화학에서 특히 분자의 구조와 성질과의 관계를 다루는 부분을 구조화학이라고 부르기도 한다. 제2차 세계 대전 이후에는 방사성 물질을 다루는 방사화학이 발전하였고 화학 공업을 다루는 공업화학도 있다. 이 외에도 화학의 분과는 매우 다양하다.\n"
          ],
          "name": "stdout"
        }
      ]
    },
    {
      "cell_type": "code",
      "metadata": {
        "id": "98u39IsbSoBk",
        "colab": {
          "base_uri": "https://localhost:8080/"
        },
        "outputId": "b68309a6-f9f0-4e95-a572-5bde62cc0b15"
      },
      "source": [
        "# 파일 내용 확인 (주제단위)\n",
        "with zipfile.ZipFile(os.path.join(kowiki_dir, 'kowiki.txt.zip')) as z:\n",
        "    with z.open('kowiki.txt') as f:\n",
        "        doc = []\n",
        "        for i, line in enumerate(f):\n",
        "            line = line.decode('utf-8').strip()\n",
        "            if len(line) == 0:\n",
        "                if len(doc) > 0:\n",
        "                    break\n",
        "            else:\n",
        "                doc.append(line)\n",
        "doc"
      ],
      "execution_count": 19,
      "outputs": [
        {
          "output_type": "execute_result",
          "data": {
            "text/plain": [
              "['지미 카터',\n",
              " '제임스 얼 \"지미\" 카터 주니어(, 1924년 10월 1일 ~ )는 민주당 출신 미국 39대 대통령 (1977년 ~ 1981년)이다.',\n",
              " '지미 카터는 조지아주 섬터 카운티 플레인스 마을에서 태어났다. 조지아 공과대학교를 졸업하였다. 그 후 해군에 들어가 전함·원자력·잠수함의 승무원으로 일하였다. 1953년 미국 해군 대위로 예편하였고 이후 땅콩·면화 등을 가꿔 많은 돈을 벌었다. 그의 별명이 \"땅콩 농부\" (Peanut Farmer)로 알려졌다.',\n",
              " '1962년 조지아 주 상원 의원 선거에서 낙선하나 그 선거가 부정선거 였음을 입증하게 되어 당선되고, 1966년 조지아 주 지사 선거에 낙선하지만 1970년 조지아 주 지사를 역임했다. 대통령이 되기 전 조지아주 상원의원을 두번 연임했으며, 1971년부터 1975년까지 조지아 지사로 근무했다. 조지아 주지사로 지내면서, 미국에 사는 흑인 등용법을 내세웠다.',\n",
              " '1976년 미합중국 (미국) 제39대 대통령 선거에 민주당 후보로 출마하여 도덕주의 정책으로 내세워서, 많은 지지를 받고 제럴드 포드 (당시 미국 대통령) 를 누르고 당선되었다.',\n",
              " '카터 대통령은 에너지 개발을 촉구했으나 공화당의 반대로 무산되었다.',\n",
              " '카터는 이집트와 이스라엘을 조정하여, 캠프 데이비드에서 안와르 사다트 대통령과 메나헴 베긴 수상과 함께 중동 평화를 위한 캠프데이비드 협정을 체결했다.',\n",
              " '그러나 이것은 공화당과 미국의 유대인 단체의 반발을 일으켰다. 1979년 백악관에서 양국 간의 평화조약으로 이끌어졌다. 또한 소련과 제2차 전략 무기 제한 협상에 조인했다.',\n",
              " '카터는 1970년대 후반 당시 대한민국 등 인권 후진국의 국민들의 인권을 지키기 위해 노력했으며, 취임 이후 계속해서 도덕정치를 내세웠다.',\n",
              " '그러나 주 이란 미국 대사관 인질 사건에서 인질 구출 실패를 이유로 1980년 대통령 선거에서 공화당의 로널드 레이건 후보에게 져 결국 재선에 실패했다. 또한 임기 말기에 터진 소련의 아프가니스탄 침공 사건으로 인해 1980년 하계 올림픽에 반공국가들의 보이콧을 내세웠다.',\n",
              " '지미 카터는 대한민국과의 관계에서도 중요한 영향을 미쳤던 대통령 중 하나다. 인권 문제와 주한미군 철수 문제로 한때 한미 관계가 불편하기도 했다. 1978년 대한민국에 대한 북한의 위협에 대비해 한미연합사를 창설하면서, 1982년까지 3단계에 걸쳐 주한미군을 철수하기로 했다. 그러나 주한미군사령부와 정보기관·의회의 반대에 부딪혀 주한미군은 완전철수 대신 6,000명을 감축하는 데 그쳤다. 또한 박정희 정권의 인권 문제 등과의 논란으로 불협화음을 냈으나, 1979년 6월 하순, 대한민국을 방문하여 관계가 다소 회복되었다.',\n",
              " '1979년 ~ 1980년 대한민국의 정치적 격변기 당시의 대통령이었던 그는 이에 대해 애매한 태도를 보였고, 이는 후에 대한민국 내에서 고조되는 반미 운동의 한 원인이 됐다. 10월 26일, 박정희 대통령이 김재규 중앙정보부장에 의해 살해된 것에 대해 그는 이 사건으로 큰 충격을 받았으며, 사이러스 밴스 국무장관을 조문사절로 파견했다. 12·12 군사 반란과 5.17 쿠데타에 대해 초기에는 강하게 비난했으나, 미국 정부가 신군부를 설득하는데, 한계가 있었고 결국 묵인하는 듯한 태도를 보이게 됐다.',\n",
              " '퇴임 이후 민간 자원을 적극 활용한 비영리 기구인 카터 재단을 설립한 뒤 민주주의 실현을 위해 제 3세계의 선거 감시 활동 및 기니 벌레에 의한 드라쿤쿠르스 질병 방재를 위해 힘썼다. 미국의 빈곤층 지원 활동, 사랑의 집짓기 운동, 국제 분쟁 중재 등의 활동도 했다.',\n",
              " '카터는 카터 행정부 이후 미국이 북핵 위기, 코소보 전쟁, 이라크 전쟁과 같이 미국이 군사적 행동을 최후로 선택하는 전통적 사고를 버리고 군사적 행동을 선행하는 행위에 대해 깊은 유감을 표시 하며 미국의 군사적 활동에 강한 반대 입장을 보이고 있다.',\n",
              " '특히 국제 분쟁 조정을 위해 북한의 김일성, 아이티의 세드라스 장군, 팔레인스타인의 하마스, 보스니아의 세르비아계 정권 같이 미국 정부에 대해 협상을 거부하면서 사태의 위기를 초래한 인물 및 단체를 직접 만나 분쟁의 원인을 근본적으로 해결하기 위해 힘썼다. 이 과정에서 미국 행정부와 갈등을 보이기도 했지만, 전직 대통령의 권한과 재야 유명 인사들의 활약으로 해결해 나갔다.',\n",
              " '1978년에 채결된 캠프데이비드 협정의 이행이 지지부진 하자 중동 분쟁 분제를 해결하기 위해 1993년 퇴임 후 직접 이스라엘과 팔레인스타인의 오슬로 협정을 이끌어 내는 데도 성공했다.',\n",
              " '1993년 1차 북핵 위기 당시 북한에 대한 미국의 군사적 행동이 임박했으나, 미국 전직 대통령으로는 처음으로 북한을 방문하고 미국과 북 양국의 중재에 큰 기여를 해 위기를 해결했다는 평가를 받았다. 또한 이 때 김영삼 대통령과 김일성 주석의 만남을 주선했다. 하지만 그로부터 수주일 후 김일성이 갑자기 사망하여 김일성과 김영삼의 정상회담은 이루어지지 못했다.',\n",
              " '미국의 관타나모 수용소 문제, 세계의 인권문제에서도 관심이 깊어 유엔에 유엔인권고등판무관의 제도를 시행하도록 노력하여 독재자들의 인권 유린에 대해 제약을 하고, 국제형사재판소를 만드는 데 기여하여 독재자들 같은 인권유린범죄자를 재판소로 회부하여 국제적인 처벌을 받게 하는 등 인권 신장에 크나 큰 기여를 했다.',\n",
              " '2011년 4월 26일부터 29일까지 북한을 3일간 방문했다.',\n",
              " '경제문제를 해결하지 못하고 주 이란 미국 대사관 인질 사건에 발목이 잡혀 실패한 대통령으로 평가를 받지만 이란 사태는 미국 내 이란 재산을 풀어주겠다는 조건을 내세워서 사실상 카터가 해결한 것이었고, 사랑의 집짓기 운동 등으로 퇴임 후에 훨씬 더 존경받는 미국 대통령 중에 특이한 인물로 남았다.',\n",
              " '그는 2002년 말 인권과 중재 역할에 대한 공로를 인정받아 노벨 평화상을 받게 되었다.']"
            ]
          },
          "metadata": {
            "tags": []
          },
          "execution_count": 19
        }
      ]
    },
    {
      "cell_type": "code",
      "metadata": {
        "id": "EKoCzDHNSy3r"
      },
      "source": [
        "def create_train_instance(vocab, n_seq, doc):\n",
        "    \"\"\"\n",
        "    create train instance\n",
        "    :param vocab: vocabulary object\n",
        "    :param n_seq: sequece number\n",
        "    :param doc: wiki document\n",
        "    :return: train instance list\n",
        "    \"\"\"\n",
        "    n_max = n_seq - 1\n",
        "    instance_list = []\n",
        "\n",
        "    chunk = []\n",
        "    chunk_len = 0\n",
        "    for i, line in enumerate(doc):\n",
        "        tokens = vocab.encode_as_pieces(line)\n",
        "        chunk.append(tokens)\n",
        "        chunk_len += len(tokens)\n",
        "        if n_max <= chunk_len or i >= len(doc) -1:\n",
        "            # print()\n",
        "            # print(chunk_len, chunk)\n",
        "            instance = []\n",
        "            for tokens in chunk:\n",
        "                instance.extend(tokens)\n",
        "            # print(len(instance), instance)\n",
        "            instance = instance[:n_max]\n",
        "            # print(len(instance), instance)\n",
        "            instance_list.append(instance)\n",
        "            chunk = []\n",
        "            chunk_len = 0\n",
        "\n",
        "    return instance_list"
      ],
      "execution_count": 20,
      "outputs": []
    },
    {
      "cell_type": "code",
      "metadata": {
        "id": "UNNBJKa_Abb7",
        "colab": {
          "base_uri": "https://localhost:8080/"
        },
        "outputId": "031f6cb2-cabe-4346-bbb5-1066b9beef2f"
      },
      "source": [
        "# instance 동작 확인\n",
        "instance_list = create_train_instance(vocab, n_seq, doc)\n",
        "for instance in instance_list:\n",
        "    print(len(instance), instance)"
      ],
      "execution_count": 21,
      "outputs": [
        {
          "output_type": "stream",
          "text": [
            "255 ['▁지미', '▁카터', '▁제임스', '▁얼', '▁\"', '지', '미', '\"', '▁카터', '▁주니어', '(', ',', '▁1924', '년', '▁10', '월', '▁1', '일', '▁~', '▁)', '는', '▁민주당', '▁출신', '▁미국', '▁39', '대', '▁대통령', '▁', '(1977', '년', '▁~', '▁1981', '년', ')', '이다', '.', '▁지미', '▁카터', '는', '▁조지아주', '▁섬', '터', '▁카운티', '▁플레', '인', '스', '▁마을에서', '▁태어났다', '.', '▁조지아', '▁공과대학교', '를', '▁졸업하였다', '.', '▁그', '▁후', '▁해군', '에', '▁들어가', '▁전함', '·', '원자력', '·', '잠수함', '의', '▁승무원', '으로', '▁일', '하였다', '.', '▁1953', '년', '▁미국', '▁해군', '▁대위', '로', '▁예편', '하였고', '▁이후', '▁땅콩', '·', '면', '화', '▁등을', '▁가', '꿔', '▁많은', '▁돈을', '▁벌', '었다', '.', '▁그의', '▁별명이', '▁\"', '땅', '콩', '▁농부', '\"', '▁(', 'P', 'ean', 'ut', '▁F', 'ar', 'mer', ')', '로', '▁알려졌다', '.', '▁1962', '년', '▁조지아', '▁주', '▁상원', '▁의원', '▁선거에서', '▁낙선', '하나', '▁그', '▁선거', '가', '▁부정', '선거', '▁', '였', '음을', '▁입증', '하게', '▁되어', '▁당선', '되고', ',', '▁1966', '년', '▁조지아', '▁주', '▁지사', '▁선거에', '▁낙선', '하지만', '▁1970', '년', '▁조지아', '▁주', '▁지사', '를', '▁역임했다', '.', '▁대통령이', '▁되기', '▁전', '▁조지아주', '▁상원의원', '을', '▁두', '번', '▁연임', '했으며', ',', '▁1971', '년부터', '▁1975', '년까지', '▁조지아', '▁지사', '로', '▁근무했다', '.', '▁조지아', '▁주지사', '로', '▁지내면서', ',', '▁미국에', '▁사는', '▁흑인', '▁등용', '법을', '▁내세웠다', '.', '▁1976', '년', '▁미합중국', '▁(', '미국', ')', '▁제', '39', '대', '▁대통령', '▁선거에', '▁민주당', '▁후보로', '▁출마하여', '▁도덕', '주의', '▁정책으로', '▁내세워', '서', ',', '▁많은', '▁지지를', '▁받고', '▁제', '럴', '드', '▁포드', '▁(', '당시', '▁미국', '▁대통령', ')', '▁', '를', '▁누르고', '▁당선되었다', '.', '▁카터', '▁대통령은', '▁에너지', '▁개발을', '▁촉구', '했으나', '▁공화당', '의', '▁반대로', '▁무산되었다', '.', '▁카터', '는', '▁이집트', '와', '▁이스라엘', '을', '▁조정', '하여', ',', '▁캠프', '▁데이비드', '에서', '▁안', '와', '르', '▁사다', '트', '▁대통령과', '▁메', '나', '헴', '▁베', '긴', '▁수상', '과', '▁함께', '▁중동']\n",
            "255 ['▁그러나', '▁이것은', '▁공화당', '과', '▁미국의', '▁유대인', '▁단체의', '▁반발', '을', '▁일으켰다', '.', '▁1979', '년', '▁백악관', '에서', '▁양국', '▁간의', '▁평화', '조약', '으로', '▁이끌어', '졌다', '.', '▁또한', '▁소련과', '▁제', '2', '차', '▁전략', '▁무기', '▁제한', '▁협상', '에', '▁조인', '했다', '.', '▁카터', '는', '▁1970', '년대', '▁후반', '▁당시', '▁대한민국', '▁등', '▁인권', '▁후진', '국의', '▁국민들의', '▁인권', '을', '▁지키기', '▁위해', '▁노력', '했으며', ',', '▁취임', '▁이후', '▁계속해서', '▁도덕', '정치', '를', '▁내세웠다', '.', '▁그러나', '▁주', '▁이란', '▁미국', '▁대사관', '▁인질', '▁사건', '에서', '▁인질', '▁구출', '▁실패', '를', '▁이유로', '▁1980', '년', '▁대통령', '▁선거에서', '▁공화당', '의', '▁로널드', '▁레이건', '▁후보', '에게', '▁', '져', '▁결국', '▁재선', '에', '▁실패했다', '.', '▁또한', '▁임기', '▁말기에', '▁터', '진', '▁소련의', '▁아프가니스탄', '▁침공', '▁사건으로', '▁인해', '▁1980', '년', '▁하계', '▁올림픽에', '▁반공', '국가', '들의', '▁보이콧', '을', '▁내세웠다', '.', '▁지미', '▁카터', '는', '▁대한민국과', '의', '▁관계', '에서도', '▁중요한', '▁영향을', '▁미', '쳤던', '▁대통령', '▁중', '▁하나다', '.', '▁인권', '▁문제와', '▁주한미군', '▁철수', '▁문제로', '▁한때', '▁한미', '▁관계가', '▁불편', '하기도', '▁했다', '.', '▁1978', '년', '▁대한민국에', '▁대한', '▁북한의', '▁위협', '에', '▁대비해', '▁한미', '연합', '사를', '▁창설', '하면서', ',', '▁1982', '년까지', '▁3', '단계', '에', '▁걸쳐', '▁주한미군', '을', '▁철수', '하기로', '▁했다', '.', '▁그러나', '▁주한미군', '사령부', '와', '▁정보', '기관', '·', '의', '회의', '▁반대', '에', '▁부딪혀', '▁주한미군', '은', '▁완전', '철', '수', '▁대신', '▁6,000', '명을', '▁감축', '하는', '▁데', '▁그쳤다', '.', '▁또한', '▁박정희', '▁정권', '의', '▁인권', '▁문제', '▁등과', '의', '▁논란', '으로', '▁불', '협', '화', '음을', '▁', '냈으나', ',', '▁1979', '년', '▁6', '월', '▁하순', ',', '▁대한민국', '을', '▁방문하여', '▁관계가', '▁다소', '▁회복', '되었다', '.', '▁1979', '년', '▁~', '▁1980', '년', '▁대한민국의', '▁정치적', '▁격', '변', '기', '▁당시의', '▁대통령', '이었던', '▁그는', '▁이에', '▁대해', '▁애', '매', '한', '▁태도를', '▁보였고', ',', '▁이는', '▁후에', '▁대한민국', '▁내에서', '▁고조', '되는', '▁반', '미', '▁운동의', '▁한']\n",
            "255 ['▁퇴임', '▁이후', '▁민간', '▁자원을', '▁적극', '▁활용한', '▁비영리', '▁기구', '인', '▁카터', '▁재단', '을', '▁설립한', '▁뒤', '▁민주주의', '▁실현', '을', '▁위해', '▁제', '▁3', '세계', '의', '▁선거', '▁감시', '▁활동', '▁및', '▁기니', '▁', '벌레', '에', '▁의한', '▁드라', '쿤', '쿠르', '스', '▁질병', '▁방', '재를', '▁위해', '▁힘썼다', '.', '▁미국의', '▁빈곤', '층', '▁지원', '▁활동', ',', '▁사랑의', '▁집', '짓', '기', '▁운동', ',', '▁국제', '▁분쟁', '▁중재', '▁등의', '▁활동', '도', '▁했다', '.', '▁카터', '는', '▁카터', '▁행정부', '▁이후', '▁미국이', '▁북', '핵', '▁위기', ',', '▁코소보', '▁전쟁', ',', '▁이라크', '▁전쟁과', '▁같이', '▁미국이', '▁군사적', '▁행동을', '▁최후', '로', '▁선택', '하는', '▁전통적', '▁사고를', '▁버리고', '▁군사적', '▁행동을', '▁선행', '하는', '▁행위에', '▁대해', '▁깊은', '▁유감', '을', '▁표시', '▁하며', '▁미국의', '▁군사적', '▁활동에', '▁강한', '▁반대', '▁입장을', '▁보이고', '▁있다', '.', '▁특히', '▁국제', '▁분쟁', '▁조정', '을', '▁위해', '▁북한의', '▁김일성', ',', '▁아이티', '의', '▁세', '드라', '스', '▁장군', ',', '▁팔레', '인', '스타', '인', '의', '▁하마', '스', ',', '▁보스니아', '의', '▁세르비아', '계', '▁정권', '▁같이', '▁미국', '▁정부에', '▁대해', '▁협상을', '▁거부', '하면서', '▁사태', '의', '▁위기를', '▁초래', '한', '▁인물', '▁및', '▁단체', '를', '▁직접', '▁만나', '▁분쟁', '의', '▁원인을', '▁근본적으로', '▁해결하기', '▁위해', '▁힘썼다', '.', '▁이', '▁과정에서', '▁미국', '▁행정부', '와', '▁갈등을', '▁보이기도', '▁했지만', ',', '▁전직', '▁대통령의', '▁권한', '과', '▁재', '야', '▁유명', '▁인사들', '의', '▁활약으로', '▁해결', '해', '▁나갔다', '.', '▁1978', '년에', '▁채', '결', '된', '▁캠프', '데이', '비', '드', '▁협정', '의', '▁이행', '이', '▁지지', '부', '진', '▁하자', '▁중동', '▁분쟁', '▁분', '제를', '▁해결하기', '▁위해', '▁1993', '년', '▁퇴임', '▁후', '▁직접', '▁이스라엘', '과', '▁팔레', '인', '스타', '인', '의', '▁오슬로', '▁협정을', '▁이끌어', '▁내는', '▁데', '도', '▁성공했다', '.', '▁1993', '년', '▁1', '차', '▁북', '핵', '▁위기', '▁당시', '▁북한', '에', '▁대한', '▁미국의', '▁군사적', '▁행동이', '▁임', '박', '했으나', ',', '▁미국', '▁전직', '▁대통령으로', '는', '▁처음으로', '▁북한', '을', '▁방문', '하고']\n",
            "163 ['▁미국의', '▁관', '타나', '모', '▁수용소', '▁문제', ',', '▁세계의', '▁인권', '문제', '에서도', '▁관심이', '▁깊어', '▁유엔', '에', '▁유엔', '인권', '고등', '판', '무관', '의', '▁제도를', '▁시행', '하도록', '▁노력', '하여', '▁독재자', '들의', '▁인권', '▁유', '린', '에', '▁대해', '▁제약', '을', '▁하고', ',', '▁국제', '형사', '재판소', '를', '▁만드는', '▁데', '▁기여', '하여', '▁독재자', '들', '▁같은', '▁인권', '유', '린', '범죄', '자를', '▁', '재판소', '로', '▁회', '부', '하여', '▁국제적인', '▁처벌을', '▁받게', '▁하는', '▁등', '▁인권', '▁신장', '에', '▁크', '나', '▁큰', '▁기여를', '▁했다', '.', '▁2011', '년', '▁4', '월', '▁26', '일부터', '▁29', '일까지', '▁북한', '을', '▁3', '일간', '▁방문했다', '.', '▁경제', '문제를', '▁해결', '하지', '▁못하고', '▁주', '▁이란', '▁미국', '▁대사관', '▁인질', '▁사건에', '▁발목', '이', '▁잡혀', '▁실패한', '▁대통령으로', '▁평가를', '▁받지', '만', '▁이란', '▁사태', '는', '▁미국', '▁내', '▁이란', '▁재산을', '▁풀어주', '겠다는', '▁조건을', '▁내세워', '서', '▁사실상', '▁카터', '가', '▁해결', '한', '▁것이', '었고', ',', '▁사랑의', '▁집', '짓', '기', '▁운동', '▁등으로', '▁퇴임', '▁후에', '▁훨씬', '▁더', '▁존경', '받는', '▁미국', '▁대통령', '▁중에', '▁특이한', '▁인물로', '▁남았다', '.', '▁그는', '▁2002', '년', '▁말', '▁인권', '과', '▁중재', '▁역할에', '▁대한', '▁공로', '를', '▁인정받아', '▁노벨', '▁평화', '상을', '▁받게', '▁되었다', '.']\n"
          ],
          "name": "stdout"
        }
      ]
    },
    {
      "cell_type": "code",
      "metadata": {
        "id": "L7ZWtd8NqE0Z"
      },
      "source": [
        "# instance를 json 형태로 저장하는 함수\n",
        "def save_instance(vocab, n_seq, doc, o_f):\n",
        "    instance_list = create_train_instance(vocab, n_seq, doc)\n",
        "    for instance in instance_list:\n",
        "        o_f.write(json.dumps({'token': instance}, ensure_ascii=False))\n",
        "        o_f.write('\\n')"
      ],
      "execution_count": 22,
      "outputs": []
    },
    {
      "cell_type": "code",
      "metadata": {
        "id": "lAZD9iR6_oO_",
        "colab": {
          "base_uri": "https://localhost:8080/",
          "height": 65,
          "referenced_widgets": [
            "c41c86c11d3547848a2f777dd4c1bdc3",
            "99468c909265479c90b785aa3035ee14",
            "aa6caa684ef24be0bf67a0a995dd24b3",
            "a2f3af213c834ec6bcd34a0c2e36cfca",
            "99178cf3060849c08cb228a6946312a9",
            "473885fb76f547c2a76508a4191b49e2",
            "3a6045404b7b4ed8be23dd8348359e84",
            "667501b3068f4a5fa3317323d4334e9b"
          ]
        },
        "outputId": "bdaec46a-a64e-447a-871e-e4952cee9a20"
      },
      "source": [
        "# 전체 문서에 대한 instance 생성\n",
        "with open(os.path.join(kowiki_dir, 'kowiki_lm.json'), 'w') as o_f:\n",
        "    with zipfile.ZipFile(os.path.join(kowiki_dir, 'kowiki.txt.zip')) as z:\n",
        "        with z.open('kowiki.txt') as f:\n",
        "            doc = []\n",
        "            for i, line in enumerate(tqdm(f)):\n",
        "                line = line.decode('utf-8').strip()\n",
        "                if len(line) == 0:\n",
        "                    if len(doc) > 0:\n",
        "                        save_instance(vocab, n_seq, doc, o_f)\n",
        "                        doc = []\n",
        "                else:\n",
        "                    doc.append(line)\n",
        "            if len(doc) > 0:\n",
        "                save_instance(vocab, n_seq, doc, o_f)"
      ],
      "execution_count": 23,
      "outputs": [
        {
          "output_type": "display_data",
          "data": {
            "application/vnd.jupyter.widget-view+json": {
              "model_id": "c41c86c11d3547848a2f777dd4c1bdc3",
              "version_minor": 0,
              "version_major": 2
            },
            "text/plain": [
              "HBox(children=(FloatProgress(value=1.0, bar_style='info', max=1.0), HTML(value='')))"
            ]
          },
          "metadata": {
            "tags": []
          }
        },
        {
          "output_type": "stream",
          "text": [
            "\n"
          ],
          "name": "stdout"
        }
      ]
    },
    {
      "cell_type": "code",
      "metadata": {
        "id": "i3joZ7O1r93K",
        "colab": {
          "base_uri": "https://localhost:8080/"
        },
        "outputId": "5994be53-e64e-4bfa-998a-dce31c8b1210"
      },
      "source": [
        "# 파일 라인수 확인\n",
        "n_line = 0\n",
        "with open(os.path.join(kowiki_dir, 'kowiki_lm.json')) as f:\n",
        "    for line in f:\n",
        "        n_line += 1\n",
        "        if n_line <= 10:\n",
        "            print(line)\n",
        "n_line"
      ],
      "execution_count": 24,
      "outputs": [
        {
          "output_type": "stream",
          "text": [
            "{\"token\": [\"▁지미\", \"▁카터\", \"▁제임스\", \"▁얼\", \"▁\\\"\", \"지\", \"미\", \"\\\"\", \"▁카터\", \"▁주니어\", \"(\", \",\", \"▁1924\", \"년\", \"▁10\", \"월\", \"▁1\", \"일\", \"▁~\", \"▁)\", \"는\", \"▁민주당\", \"▁출신\", \"▁미국\", \"▁39\", \"대\", \"▁대통령\", \"▁\", \"(1977\", \"년\", \"▁~\", \"▁1981\", \"년\", \")\", \"이다\", \".\", \"▁지미\", \"▁카터\", \"는\", \"▁조지아주\", \"▁섬\", \"터\", \"▁카운티\", \"▁플레\", \"인\", \"스\", \"▁마을에서\", \"▁태어났다\", \".\", \"▁조지아\", \"▁공과대학교\", \"를\", \"▁졸업하였다\", \".\", \"▁그\", \"▁후\", \"▁해군\", \"에\", \"▁들어가\", \"▁전함\", \"·\", \"원자력\", \"·\", \"잠수함\", \"의\", \"▁승무원\", \"으로\", \"▁일\", \"하였다\", \".\", \"▁1953\", \"년\", \"▁미국\", \"▁해군\", \"▁대위\", \"로\", \"▁예편\", \"하였고\", \"▁이후\", \"▁땅콩\", \"·\", \"면\", \"화\", \"▁등을\", \"▁가\", \"꿔\", \"▁많은\", \"▁돈을\", \"▁벌\", \"었다\", \".\", \"▁그의\", \"▁별명이\", \"▁\\\"\", \"땅\", \"콩\", \"▁농부\", \"\\\"\", \"▁(\", \"P\", \"ean\", \"ut\", \"▁F\", \"ar\", \"mer\", \")\", \"로\", \"▁알려졌다\", \".\", \"▁1962\", \"년\", \"▁조지아\", \"▁주\", \"▁상원\", \"▁의원\", \"▁선거에서\", \"▁낙선\", \"하나\", \"▁그\", \"▁선거\", \"가\", \"▁부정\", \"선거\", \"▁\", \"였\", \"음을\", \"▁입증\", \"하게\", \"▁되어\", \"▁당선\", \"되고\", \",\", \"▁1966\", \"년\", \"▁조지아\", \"▁주\", \"▁지사\", \"▁선거에\", \"▁낙선\", \"하지만\", \"▁1970\", \"년\", \"▁조지아\", \"▁주\", \"▁지사\", \"를\", \"▁역임했다\", \".\", \"▁대통령이\", \"▁되기\", \"▁전\", \"▁조지아주\", \"▁상원의원\", \"을\", \"▁두\", \"번\", \"▁연임\", \"했으며\", \",\", \"▁1971\", \"년부터\", \"▁1975\", \"년까지\", \"▁조지아\", \"▁지사\", \"로\", \"▁근무했다\", \".\", \"▁조지아\", \"▁주지사\", \"로\", \"▁지내면서\", \",\", \"▁미국에\", \"▁사는\", \"▁흑인\", \"▁등용\", \"법을\", \"▁내세웠다\", \".\", \"▁1976\", \"년\", \"▁미합중국\", \"▁(\", \"미국\", \")\", \"▁제\", \"39\", \"대\", \"▁대통령\", \"▁선거에\", \"▁민주당\", \"▁후보로\", \"▁출마하여\", \"▁도덕\", \"주의\", \"▁정책으로\", \"▁내세워\", \"서\", \",\", \"▁많은\", \"▁지지를\", \"▁받고\", \"▁제\", \"럴\", \"드\", \"▁포드\", \"▁(\", \"당시\", \"▁미국\", \"▁대통령\", \")\", \"▁\", \"를\", \"▁누르고\", \"▁당선되었다\", \".\", \"▁카터\", \"▁대통령은\", \"▁에너지\", \"▁개발을\", \"▁촉구\", \"했으나\", \"▁공화당\", \"의\", \"▁반대로\", \"▁무산되었다\", \".\", \"▁카터\", \"는\", \"▁이집트\", \"와\", \"▁이스라엘\", \"을\", \"▁조정\", \"하여\", \",\", \"▁캠프\", \"▁데이비드\", \"에서\", \"▁안\", \"와\", \"르\", \"▁사다\", \"트\", \"▁대통령과\", \"▁메\", \"나\", \"헴\", \"▁베\", \"긴\", \"▁수상\", \"과\", \"▁함께\", \"▁중동\"]}\n",
            "\n",
            "{\"token\": [\"▁그러나\", \"▁이것은\", \"▁공화당\", \"과\", \"▁미국의\", \"▁유대인\", \"▁단체의\", \"▁반발\", \"을\", \"▁일으켰다\", \".\", \"▁1979\", \"년\", \"▁백악관\", \"에서\", \"▁양국\", \"▁간의\", \"▁평화\", \"조약\", \"으로\", \"▁이끌어\", \"졌다\", \".\", \"▁또한\", \"▁소련과\", \"▁제\", \"2\", \"차\", \"▁전략\", \"▁무기\", \"▁제한\", \"▁협상\", \"에\", \"▁조인\", \"했다\", \".\", \"▁카터\", \"는\", \"▁1970\", \"년대\", \"▁후반\", \"▁당시\", \"▁대한민국\", \"▁등\", \"▁인권\", \"▁후진\", \"국의\", \"▁국민들의\", \"▁인권\", \"을\", \"▁지키기\", \"▁위해\", \"▁노력\", \"했으며\", \",\", \"▁취임\", \"▁이후\", \"▁계속해서\", \"▁도덕\", \"정치\", \"를\", \"▁내세웠다\", \".\", \"▁그러나\", \"▁주\", \"▁이란\", \"▁미국\", \"▁대사관\", \"▁인질\", \"▁사건\", \"에서\", \"▁인질\", \"▁구출\", \"▁실패\", \"를\", \"▁이유로\", \"▁1980\", \"년\", \"▁대통령\", \"▁선거에서\", \"▁공화당\", \"의\", \"▁로널드\", \"▁레이건\", \"▁후보\", \"에게\", \"▁\", \"져\", \"▁결국\", \"▁재선\", \"에\", \"▁실패했다\", \".\", \"▁또한\", \"▁임기\", \"▁말기에\", \"▁터\", \"진\", \"▁소련의\", \"▁아프가니스탄\", \"▁침공\", \"▁사건으로\", \"▁인해\", \"▁1980\", \"년\", \"▁하계\", \"▁올림픽에\", \"▁반공\", \"국가\", \"들의\", \"▁보이콧\", \"을\", \"▁내세웠다\", \".\", \"▁지미\", \"▁카터\", \"는\", \"▁대한민국과\", \"의\", \"▁관계\", \"에서도\", \"▁중요한\", \"▁영향을\", \"▁미\", \"쳤던\", \"▁대통령\", \"▁중\", \"▁하나다\", \".\", \"▁인권\", \"▁문제와\", \"▁주한미군\", \"▁철수\", \"▁문제로\", \"▁한때\", \"▁한미\", \"▁관계가\", \"▁불편\", \"하기도\", \"▁했다\", \".\", \"▁1978\", \"년\", \"▁대한민국에\", \"▁대한\", \"▁북한의\", \"▁위협\", \"에\", \"▁대비해\", \"▁한미\", \"연합\", \"사를\", \"▁창설\", \"하면서\", \",\", \"▁1982\", \"년까지\", \"▁3\", \"단계\", \"에\", \"▁걸쳐\", \"▁주한미군\", \"을\", \"▁철수\", \"하기로\", \"▁했다\", \".\", \"▁그러나\", \"▁주한미군\", \"사령부\", \"와\", \"▁정보\", \"기관\", \"·\", \"의\", \"회의\", \"▁반대\", \"에\", \"▁부딪혀\", \"▁주한미군\", \"은\", \"▁완전\", \"철\", \"수\", \"▁대신\", \"▁6,000\", \"명을\", \"▁감축\", \"하는\", \"▁데\", \"▁그쳤다\", \".\", \"▁또한\", \"▁박정희\", \"▁정권\", \"의\", \"▁인권\", \"▁문제\", \"▁등과\", \"의\", \"▁논란\", \"으로\", \"▁불\", \"협\", \"화\", \"음을\", \"▁\", \"냈으나\", \",\", \"▁1979\", \"년\", \"▁6\", \"월\", \"▁하순\", \",\", \"▁대한민국\", \"을\", \"▁방문하여\", \"▁관계가\", \"▁다소\", \"▁회복\", \"되었다\", \".\", \"▁1979\", \"년\", \"▁~\", \"▁1980\", \"년\", \"▁대한민국의\", \"▁정치적\", \"▁격\", \"변\", \"기\", \"▁당시의\", \"▁대통령\", \"이었던\", \"▁그는\", \"▁이에\", \"▁대해\", \"▁애\", \"매\", \"한\", \"▁태도를\", \"▁보였고\", \",\", \"▁이는\", \"▁후에\", \"▁대한민국\", \"▁내에서\", \"▁고조\", \"되는\", \"▁반\", \"미\", \"▁운동의\", \"▁한\"]}\n",
            "\n",
            "{\"token\": [\"▁퇴임\", \"▁이후\", \"▁민간\", \"▁자원을\", \"▁적극\", \"▁활용한\", \"▁비영리\", \"▁기구\", \"인\", \"▁카터\", \"▁재단\", \"을\", \"▁설립한\", \"▁뒤\", \"▁민주주의\", \"▁실현\", \"을\", \"▁위해\", \"▁제\", \"▁3\", \"세계\", \"의\", \"▁선거\", \"▁감시\", \"▁활동\", \"▁및\", \"▁기니\", \"▁\", \"벌레\", \"에\", \"▁의한\", \"▁드라\", \"쿤\", \"쿠르\", \"스\", \"▁질병\", \"▁방\", \"재를\", \"▁위해\", \"▁힘썼다\", \".\", \"▁미국의\", \"▁빈곤\", \"층\", \"▁지원\", \"▁활동\", \",\", \"▁사랑의\", \"▁집\", \"짓\", \"기\", \"▁운동\", \",\", \"▁국제\", \"▁분쟁\", \"▁중재\", \"▁등의\", \"▁활동\", \"도\", \"▁했다\", \".\", \"▁카터\", \"는\", \"▁카터\", \"▁행정부\", \"▁이후\", \"▁미국이\", \"▁북\", \"핵\", \"▁위기\", \",\", \"▁코소보\", \"▁전쟁\", \",\", \"▁이라크\", \"▁전쟁과\", \"▁같이\", \"▁미국이\", \"▁군사적\", \"▁행동을\", \"▁최후\", \"로\", \"▁선택\", \"하는\", \"▁전통적\", \"▁사고를\", \"▁버리고\", \"▁군사적\", \"▁행동을\", \"▁선행\", \"하는\", \"▁행위에\", \"▁대해\", \"▁깊은\", \"▁유감\", \"을\", \"▁표시\", \"▁하며\", \"▁미국의\", \"▁군사적\", \"▁활동에\", \"▁강한\", \"▁반대\", \"▁입장을\", \"▁보이고\", \"▁있다\", \".\", \"▁특히\", \"▁국제\", \"▁분쟁\", \"▁조정\", \"을\", \"▁위해\", \"▁북한의\", \"▁김일성\", \",\", \"▁아이티\", \"의\", \"▁세\", \"드라\", \"스\", \"▁장군\", \",\", \"▁팔레\", \"인\", \"스타\", \"인\", \"의\", \"▁하마\", \"스\", \",\", \"▁보스니아\", \"의\", \"▁세르비아\", \"계\", \"▁정권\", \"▁같이\", \"▁미국\", \"▁정부에\", \"▁대해\", \"▁협상을\", \"▁거부\", \"하면서\", \"▁사태\", \"의\", \"▁위기를\", \"▁초래\", \"한\", \"▁인물\", \"▁및\", \"▁단체\", \"를\", \"▁직접\", \"▁만나\", \"▁분쟁\", \"의\", \"▁원인을\", \"▁근본적으로\", \"▁해결하기\", \"▁위해\", \"▁힘썼다\", \".\", \"▁이\", \"▁과정에서\", \"▁미국\", \"▁행정부\", \"와\", \"▁갈등을\", \"▁보이기도\", \"▁했지만\", \",\", \"▁전직\", \"▁대통령의\", \"▁권한\", \"과\", \"▁재\", \"야\", \"▁유명\", \"▁인사들\", \"의\", \"▁활약으로\", \"▁해결\", \"해\", \"▁나갔다\", \".\", \"▁1978\", \"년에\", \"▁채\", \"결\", \"된\", \"▁캠프\", \"데이\", \"비\", \"드\", \"▁협정\", \"의\", \"▁이행\", \"이\", \"▁지지\", \"부\", \"진\", \"▁하자\", \"▁중동\", \"▁분쟁\", \"▁분\", \"제를\", \"▁해결하기\", \"▁위해\", \"▁1993\", \"년\", \"▁퇴임\", \"▁후\", \"▁직접\", \"▁이스라엘\", \"과\", \"▁팔레\", \"인\", \"스타\", \"인\", \"의\", \"▁오슬로\", \"▁협정을\", \"▁이끌어\", \"▁내는\", \"▁데\", \"도\", \"▁성공했다\", \".\", \"▁1993\", \"년\", \"▁1\", \"차\", \"▁북\", \"핵\", \"▁위기\", \"▁당시\", \"▁북한\", \"에\", \"▁대한\", \"▁미국의\", \"▁군사적\", \"▁행동이\", \"▁임\", \"박\", \"했으나\", \",\", \"▁미국\", \"▁전직\", \"▁대통령으로\", \"는\", \"▁처음으로\", \"▁북한\", \"을\", \"▁방문\", \"하고\"]}\n",
            "\n",
            "{\"token\": [\"▁미국의\", \"▁관\", \"타나\", \"모\", \"▁수용소\", \"▁문제\", \",\", \"▁세계의\", \"▁인권\", \"문제\", \"에서도\", \"▁관심이\", \"▁깊어\", \"▁유엔\", \"에\", \"▁유엔\", \"인권\", \"고등\", \"판\", \"무관\", \"의\", \"▁제도를\", \"▁시행\", \"하도록\", \"▁노력\", \"하여\", \"▁독재자\", \"들의\", \"▁인권\", \"▁유\", \"린\", \"에\", \"▁대해\", \"▁제약\", \"을\", \"▁하고\", \",\", \"▁국제\", \"형사\", \"재판소\", \"를\", \"▁만드는\", \"▁데\", \"▁기여\", \"하여\", \"▁독재자\", \"들\", \"▁같은\", \"▁인권\", \"유\", \"린\", \"범죄\", \"자를\", \"▁\", \"재판소\", \"로\", \"▁회\", \"부\", \"하여\", \"▁국제적인\", \"▁처벌을\", \"▁받게\", \"▁하는\", \"▁등\", \"▁인권\", \"▁신장\", \"에\", \"▁크\", \"나\", \"▁큰\", \"▁기여를\", \"▁했다\", \".\", \"▁2011\", \"년\", \"▁4\", \"월\", \"▁26\", \"일부터\", \"▁29\", \"일까지\", \"▁북한\", \"을\", \"▁3\", \"일간\", \"▁방문했다\", \".\", \"▁경제\", \"문제를\", \"▁해결\", \"하지\", \"▁못하고\", \"▁주\", \"▁이란\", \"▁미국\", \"▁대사관\", \"▁인질\", \"▁사건에\", \"▁발목\", \"이\", \"▁잡혀\", \"▁실패한\", \"▁대통령으로\", \"▁평가를\", \"▁받지\", \"만\", \"▁이란\", \"▁사태\", \"는\", \"▁미국\", \"▁내\", \"▁이란\", \"▁재산을\", \"▁풀어주\", \"겠다는\", \"▁조건을\", \"▁내세워\", \"서\", \"▁사실상\", \"▁카터\", \"가\", \"▁해결\", \"한\", \"▁것이\", \"었고\", \",\", \"▁사랑의\", \"▁집\", \"짓\", \"기\", \"▁운동\", \"▁등으로\", \"▁퇴임\", \"▁후에\", \"▁훨씬\", \"▁더\", \"▁존경\", \"받는\", \"▁미국\", \"▁대통령\", \"▁중에\", \"▁특이한\", \"▁인물로\", \"▁남았다\", \".\", \"▁그는\", \"▁2002\", \"년\", \"▁말\", \"▁인권\", \"과\", \"▁중재\", \"▁역할에\", \"▁대한\", \"▁공로\", \"를\", \"▁인정받아\", \"▁노벨\", \"▁평화\", \"상을\", \"▁받게\", \"▁되었다\", \".\"]}\n",
            "\n",
            "{\"token\": [\"▁수학\", \"▁수학\", \"(\", \"數\", \"學\", \",\", \"▁)\", \"은\", \"▁양\", \",\", \"▁구조\", \",\", \"▁공간\", \",\", \"▁변화\", \"등을\", \"▁다룬다\", \"고\", \"▁설명\", \"▁할\", \"▁수\", \"▁있으나\", \"▁일반적으로\", \"▁받아들여\", \"지는\", \"▁정의는\", \"▁없다\", \"▁수학\", \"은\", \"▁공리\", \",\", \"▁명제\", \",\", \"▁증명\", \"▁등으로\", \"▁구성된\", \"▁추상적\", \"▁대상을\", \"▁연구하는\", \"▁학문\", \"이다\", \".\", \"▁수학자\", \"는\", \"▁인간이\", \"▁살아가는\", \"▁실제\", \"▁세상\", \"과\", \"▁대비해\", \"▁보았을\", \"▁때\", \"▁전혀\", \"▁다른\", \"▁독립\", \"적이며\", \"▁추상적\", \"이고\", \"▁엄격한\", \"▁구조를\", \"▁만들고\", \"▁연구\", \"한다\", \".\", \"▁그러나\", \"▁이런\", \"▁추상적\", \"인\", \"▁사실\", \"들이\", \"▁가끔\", \"은\", \"▁실제\", \"를\", \"▁설명\", \"하는데\", \"▁필요한\", \"▁경우도\", \"▁있다\", \".\", \"▁고대\", \"로부터\", \"▁문명\", \"이\", \"▁생기는\", \"데\", \"▁필요한\", \"▁건축\", \",\", \"▁천문학\", \",\", \"▁토지\", \"▁측량\", \",\", \"▁기계\", \"▁공학\", \",\", \"▁상업\", \"▁등에\", \"▁수학적\", \"▁개념\", \"들이\", \"▁응용\", \"되어\", \"왔다\", \".\", \"▁수학\", \"에서는\", \"▁예술\", \"에서\", \"▁그\", \"렇\", \"듯\", \"▁실용\", \"적\", \"▁고려\", \"를\", \"▁하지\", \"▁않으며\", \",\", \"▁거의\", \"▁모두\", \"▁실용\", \"성을\", \"▁가지지\", \"▁않지만\", \",\", \"▁극히\", \"▁일부\", \"▁실용적인\", \"▁부분\", \"도\", \"▁있다\", \".\", \"▁응용\", \"▁수학\", \"에서는\", \"▁이렇게\", \"▁수학\", \"을\", \"▁물리학\", \",\", \"▁화학\", \",\", \"▁생물학\", \",\", \"▁공학\", \",\", \"▁경제학\", \",\", \"▁사회학\", \"▁등\", \"▁다른\", \"▁학문\", \"에\", \"▁응용\", \"하는데\", \"▁관심이\", \"▁있다\", \".\", \"▁또한\", \"▁수학\", \"은\", \"▁음악\", \"이나\", \"▁미술\", \"▁등\", \"▁예술\", \"과\", \"도\", \"▁관련이\", \"▁있다\", \".\", \"▁피타고라스\", \"는\", \"▁두\", \"▁정수\", \"의\", \"▁비율이\", \"▁듣기\", \"▁좋은\", \"▁소리가\", \"▁난다\", \"는\", \"▁점을\", \"▁가지고\", \"▁피타고라스\", \"▁음\", \"계를\", \"▁만들었다\", \".\", \"▁중세\", \"시대에\", \"도\", \"▁음악과\", \"▁수학\", \"을\", \"▁밀접\", \"하게\", \"▁연관\", \"시켰으며\", \"▁성\", \"▁빅토르\", \"의\", \"▁후\", \"고\", \"는\", \"▁“\", \"음악\", \"은\", \"▁조화\", \"다\", \"”\", \"라고\", \"▁했고\", \",\", \"▁성\", \"▁\", \"트론\", \"드의\", \"▁루돌프\", \"는\", \"▁“\", \"음악\", \"은\", \"▁조화\", \"의\", \"▁토대\", \"(\", \"rat\", \"io\", \")\", \"다\", \"”\", \"라고\", \"▁쓴\", \"▁바\", \"▁있다\", \".\", \"▁조화\", \"가\", \"▁반드시\", \"▁소리\", \"로\", \"▁표현\", \"될\", \"▁필요\", \"는\", \"▁없고\", \"▁소리\", \"의\", \"▁음악은\", \"▁음악의\", \"▁형식\", \"▁중\"]}\n",
            "\n",
            "{\"token\": [\"▁오늘날\", \"▁수학\", \"은\", \"▁자연과학\", \",\", \"▁공학\", \"뿐만\", \"▁아니라\", \",\", \"▁경제학\", \"▁등의\", \"▁사회과학\", \"에서도\", \"▁중요한\", \"▁도구로\", \"▁사용된다\", \".\", \"▁예를\", \"들어\", \",\", \"▁정도의\", \"▁차이는\", \"▁있으나\", \",\", \"▁미\", \"적\", \"분\", \"학과\", \"▁선형\", \"대\", \"수학\", \"은\", \"▁자연과학\", \"과\", \"▁공학\", \",\", \"▁경제학\", \"을\", \"▁하는데\", \"에\", \"▁필수적\", \"▁과목\", \"으로\", \"▁여겨지며\", \",\", \"▁확률\", \"론은\", \"▁계량\", \"경제학\", \"에\", \"▁응용\", \"된다\", \".\", \"▁통계학\", \"은\", \"▁사회과학\", \"이론\", \"에\", \"▁근거\", \"를\", \"▁마련\", \"하는데\", \"▁필수적\", \"이다\", \".\", \"▁16\", \"세기에\", \"▁갈릴레오\", \"▁갈릴레이\", \"가\", \"▁\\\"\", \"자연\", \"이라는\", \"▁책은\", \"▁수학\", \"이라는\", \"▁언어로\", \"▁기록되어\", \"▁있다\", \".\", \"\\\"\", \"는\", \"▁주장\", \"과\", \"▁함께\", \"▁물리학\", \"에\", \"▁수학적\", \"▁방법을\", \"▁도입\", \"하였고\", \",\", \"▁17\", \"세기에\", \"▁아이작\", \"▁뉴턴\", \"이\", \"▁고전\", \"▁역학\", \"의\", \"▁기본\", \"▁물리학\", \"▁법칙\", \"들을\", \"▁수학적\", \"으로\", \"▁기술\", \"하고\", \"▁정립\", \"하여\", \"▁물리학\", \"▁이론에서\", \"▁수학적\", \"▁모델링\", \"은\", \"▁필수적\", \"▁요소가\", \"▁되었다\", \".\", \"▁또한\", \"▁이\", \"▁시기는\", \"▁과학적\", \"▁방법이\", \"▁정립\", \"되는\", \"▁시기\", \"이기도\", \"▁한\", \"데\", \",\", \"▁많은\", \"▁과학적\", \"▁현상\", \"들이\", \"▁수학적\", \"▁관계가\", \"▁있음\", \"이\", \"▁드러나\", \"면서\", \"▁과학적\", \"▁방법에\", \"도\", \"▁수학\", \"은\", \"▁중요한\", \"▁역할을\", \"▁하고\", \"▁있다\", \".\", \"▁노벨\", \"▁물리학\", \"상\", \"▁수상자\", \"▁유진\", \"▁위그\", \"너는\", \"▁그의\", \"▁에세이\", \"▁\\\"\", \"The\", \"▁\", \"un\", \"rea\", \"son\", \"able\", \"▁\", \"ef\", \"fe\", \"ctive\", \"ness\", \"▁of\", \"▁ma\", \"the\", \"matic\", \"s\", \"▁in\", \"▁n\", \"at\", \"ural\", \"▁s\", \"ci\", \"ence\", \"s\", \"\\\"\", \"에서\", \"▁인간\", \"▁세상\", \"과\", \"▁동\", \"떨\", \"어져\", \"있고\", \"▁현실\", \"과\", \"▁아무\", \"▁관련이\", \"▁없다고\", \"▁여겨\", \"지던\", \"▁수학\", \"▁중\", \"▁극히\", \"▁일부는\", \"▁뜻\", \"밖에\", \"도\", \"▁자연과학\", \"과\", \"▁연관성\", \"이\", \"▁드러나\", \"고\", \"▁과학\", \"이론\", \"에\", \"▁효과적인\", \"▁토대\", \"를\", \"▁마련\", \"해\", \"▁주\", \"는데\", \"에\", \"▁대한\", \"▁놀라\", \"움\", \"을\", \"▁표현하였다\", \".\", \"▁예를\", \"▁들어\", \",\", \"▁비유\", \"클리\", \"드\", \"기\", \"하\", \"와\", \"▁3\", \"차원\", \"▁이상의\", \"▁임의의\", \"▁차원에서\", \"▁기하학\", \"을\", \"▁탐구\", \"했던\", \"▁미분\", \"▁기하학\", \"은\", \"▁당시에는\", \"▁현실\", \"과\"]}\n",
            "\n",
            "{\"token\": [\"▁ma\", \"the\", \"matic\", \"s\", \"라는\", \"▁단어는\", \"▁'\", \"아는\", \"▁모든\", \"▁것\", \"'\", \"라는\", \"▁뜻의\", \"▁고대\", \"▁그리스어\", \"▁ma\", \"the\", \"mat\", \"ik\", \"os\", \"에서\", \"▁유래되었다\", \".\", \"▁줄여서\", \"▁ma\", \"th\", \"라고\", \"▁표현을\", \"하기도\", \"▁한다\", \".\", \"▁수학\", \"은\", \"▁기원전\", \"▁600\", \"년\", \"▁경\", \"에\", \"▁살았던\", \"▁탈\", \"레스\", \"로부터\", \"▁시작됐다\", \".\", \"▁하지만\", \"▁탈\", \"레스\", \"가\", \"▁태어나\", \"기\", \"▁전에\", \"도\", \"▁수학\", \"을\", \"▁연구\", \"한\", \"▁사람이\", \"▁있을\", \"▁수도\", \"▁있기\", \"▁때문에\", \"▁인류의\", \"▁역사와\", \"▁더불어\", \"▁시작되었다\", \"고\", \"▁할\", \"▁수\", \"▁있다\", \".\", \"▁교역\", \"•\", \"분\", \"배\", \"•\", \"과\", \"세\", \"▁등의\", \"▁인류의\", \"▁사회\", \"▁생활에\", \"▁필요한\", \"▁모든\", \"▁계산\", \"을\", \"▁수학\", \"이\", \"▁담당\", \"해\", \"▁\", \"왔고\", \",\", \"▁농경\", \"▁생활에\", \"▁필수적인\", \"▁천문\", \"▁관측\", \"과\", \"▁달력\", \"의\", \"▁제정\", \",\", \"▁토지\", \"의\", \"▁측량\", \"▁또한\", \"▁수학\", \"이\", \"▁직접적으로\", \"▁관여\", \"한\", \"▁분야\", \"이다\", \".\", \"▁고대\", \"▁수학\", \"을\", \"▁크게\", \"▁발전시킨\", \"▁나라\", \"로\", \"는\", \"▁이집트\", \",\", \"▁인도\", \",\", \"▁그리스\", \",\", \"▁중국\", \"▁등이\", \"▁있다\", \".\", \"▁그\", \"▁중에서도\", \"▁그리스\", \"는\", \"▁처음으로\", \"▁방정식\", \"에서\", \"▁변수\", \"를\", \"▁문자로\", \"▁쓴\", \"▁나라\", \"이다\", \".\", \"▁한국의\", \"▁수학\", \"은\", \"▁약\", \"▁1,500\", \"년\", \"▁전부터\", \"▁기록으로\", \"▁보이기\", \"▁시작한다\", \".\", \"▁신라\", \"▁시대에\", \"▁수학\", \"을\", \"▁가르\", \"쳤으며\", \",\", \"▁탈\", \"레스\", \"가\", \"▁최초로\", \"▁발견한\", \"▁일식\", \"과\", \"▁\", \"월\", \"식을\", \"▁예측\", \"할\", \"▁정도로\", \"▁발달\", \"했다\", \".\", \"▁조선\", \"▁시대에\", \"▁훈\", \"민\", \"정\", \"음을\", \"▁창\", \"제\", \"한\", \"▁세종\", \"▁대왕\", \"은\", \"▁집현전\", \"▁학자들\", \"에게\", \"▁수학\", \"▁연구를\", \"▁명\", \"하는\", \"▁등\", \",\", \"▁조선의\", \"▁수학\", \"▁수준을\", \"▁향상\", \"시키기\", \"▁위해서\", \"▁많은\", \"▁노력을\", \"▁기울였다\", \".\", \"▁하지만\", \"▁임진왜란\", \"으로\", \"▁많은\", \"▁서적\", \"들이\", \"▁불타\", \"고\", \",\", \"▁천문학\", \"▁분야에서\", \"▁큰\", \"▁손실을\", \"▁입었다\", \".\", \"▁조선\", \"▁후기의\", \"▁한국의\", \"▁수학\", \"은\", \"▁실\", \"학자들\", \"을\", \"▁중심으로\", \"▁다시\", \"▁발전\", \"하였고\", \",\", \"▁새로운\", \"▁결과\", \"도\", \"▁성취\", \"되었다\", \".\", \"▁수학\", \"의\", \"▁각\", \"▁분야\", \"들은\", \"▁상업\", \"에\", \"▁필요한\", \"▁계산\", \"을\"]}\n",
            "\n",
            "{\"token\": [\"▁산술\", \"은\", \"▁자연수\", \"와\", \"▁정수\", \"▁및\", \"▁이에\", \"▁대한\", \"▁사\", \"칙\", \"연\", \"산에\", \"▁대한\", \"▁연구\", \"로서\", \"▁시작했다\", \".\", \"▁수\", \"론은\", \"▁이런\", \"▁주제\", \"들을\", \"▁보다\", \"▁깊게\", \"▁다루는\", \"▁학문\", \"으로\", \",\", \"▁그\", \"▁결과로\", \"는\", \"▁페르\", \"마\", \"의\", \"▁마지막\", \"▁정리\", \"▁등이\", \"▁유명하다\", \".\", \"▁또한\", \"▁쌍둥이\", \"▁소수\", \"▁추측\", \"과\", \"▁골드\", \"바흐\", \"▁추측\", \"▁등을\", \"▁비롯해\", \"▁오랜\", \"▁세월\", \"▁동안\", \"▁해결\", \"되지\", \"▁않고\", \"▁남아있는\", \"▁문제들\", \"도\", \"▁여럿\", \"▁있다\", \".\", \"▁수\", \"의\", \"▁체계\", \"가\", \"▁보다\", \"▁발전\", \"하면서\", \",\", \"▁정수\", \"의\", \"▁집합\", \"을\", \"▁유리\", \"수의\", \"▁집합\", \"의\", \"▁부분\", \"집합\", \"으로\", \"▁여기\", \"게\", \"▁되었다\", \".\", \"▁또한\", \"▁유리\", \"수의\", \"▁집합\", \"은\", \"▁실수\", \"의\", \"▁집합\", \"의\", \"▁부분\", \"집합\", \"이며\", \",\", \"▁이는\", \"▁또다시\", \"▁복소수\", \"▁집합\", \"의\", \"▁일부분\", \"으로\", \"▁볼\", \"▁수\", \"▁있다\", \".\", \"▁여기에서\", \"▁더\", \"▁나아가\", \"면\", \"▁사원\", \"수와\", \"▁팔\", \"원수\", \"▁등의\", \"▁개념을\", \"▁생각할\", \"▁수도\", \"▁있다\", \".\", \"▁이와\", \"는\", \"▁약간\", \"▁다른\", \"▁방향으로\", \",\", \"▁자연수\", \"를\", \"▁무한\", \"대\", \"까지\", \"▁세\", \"어\", \"나간다\", \"는\", \"▁개념을\", \"▁형식\", \"화\", \"하여\", \"▁순서\", \"수의\", \"▁개념을\", \"▁얻으며\", \",\", \"▁집합\", \"의\", \"▁크기\", \"▁비교\", \"를\", \"▁이용하여\", \"▁무한\", \"대를\", \"▁다루기\", \"▁위한\", \"▁또다른\", \"▁방법으로\", \"는\", \"▁기수\", \"의\", \"▁개념\", \"도\", \"▁있다\", \".\", \"▁수\", \"▁대신\", \"▁문자를\", \"▁써서\", \"▁문제\", \"해\", \"결\", \"을\", \"▁쉽게\", \"▁하는\", \"▁것과\", \",\", \"▁마찬가지로\", \"▁수학적\", \"▁법칙을\", \"▁일반\", \"적이고\", \"▁간\", \"명\", \"하게\", \"▁나타내는\", \"▁것을\", \"▁포함한다\", \".\", \"▁고전\", \"대\", \"수학\", \"은\", \"▁대수\", \"방정식\", \"▁및\", \"▁연립\", \"방정식\", \"의\", \"▁해\", \"법\", \"에서\", \"▁시작하여\", \"▁군\", \",\", \"▁환\", \",\", \"▁체\", \"▁등의\", \"▁추상\", \"대\", \"수학\", \"을\", \"▁거쳐\", \"▁현대에\", \"▁와서\", \"는\", \"▁대수\", \"계의\", \"▁구조를\", \"▁보는\", \"▁것을\", \"▁중심으로\", \"▁하는\", \"▁선형\", \"대\", \"수학\", \"으로\", \"▁전개\", \"되었다\", \".\", \"▁수\", \"의\", \"▁집합\", \"이나\", \"▁함수\", \"와\", \"▁같은\", \"▁많은\", \"▁수학적\", \"▁대상\", \"들은\", \"▁내재\", \"적인\", \"▁구조를\", \"▁보인다\", \".\", \"▁이러한\", \"▁대상\", \"들의\", \"▁구조적\", \"▁특성\", \"들이\", \"▁군\", \"론\"]}\n",
            "\n",
            "{\"token\": [\"▁공간에\", \"▁대한\", \"▁연구는\", \"▁기하학\", \"에서\", \"▁시작되었고\", \",\", \"▁특히\", \"▁유클리드\", \"▁기하학\", \"에서\", \"▁비롯되었다\", \".\", \"▁삼각\", \"법은\", \"▁공간\", \"과\", \"▁수\", \"들을\", \"▁결합\", \"하였고\", \",\", \"▁잘\", \"▁알려진\", \"▁피타고라스\", \"의\", \"▁정리\", \"를\", \"▁포함한다\", \".\", \"▁현대에\", \"▁와서\", \"▁공간에\", \"▁대한\", \"▁연구는\", \",\", \"▁이러한\", \"▁개념\", \"들은\", \"▁더\", \"▁높은\", \"▁차원\", \"의\", \"▁기하학\", \"을\", \"▁다루기\", \"▁위해\", \"▁비유\", \"클리\", \"드\", \"▁기하학\", \"(\", \"상대\", \"성이\", \"론에서\", \"▁핵심적인\", \"▁역할을\", \"▁함\", \")\", \"과\", \"▁위상수학\", \"으로\", \"▁일반화\", \"되었다\", \".\", \"▁수\", \"론과\", \"▁공간에\", \"▁대한\", \"▁이해\", \"는\", \"▁모두\", \"▁해석\", \"▁기하학\", \",\", \"▁미분\", \"기하학\", \",\", \"▁대수\", \"기하학\", \"에\", \"▁중요한\", \"▁역할을\", \"▁한다\", \".\", \"▁리\", \"▁군도\", \"▁공간\", \"과\", \"▁구조\", \",\", \"▁변화를\", \"▁다루는\", \"데\", \"▁사용된다\", \".\", \"▁위상수학\", \"은\", \"▁20\", \"세기\", \"▁수학\", \"의\", \"▁다양한\", \"▁지류\", \"속에서\", \"▁\", \"괄\", \"목\", \"할만한\", \"▁성장을\", \"▁한\", \"▁분야\", \"이며\", \",\", \"▁푸\", \"앵\", \"카\", \"레\", \"▁추측\", \"과\", \"▁인간\", \"에\", \"▁의해서\", \"▁증명\", \"되지\", \"▁못하고\", \"▁오직\", \"▁컴퓨터\", \"로\", \"만\", \"▁증명\", \"된\", \"▁4\", \"색\", \"정리\", \"를\", \"▁포함한다\", \".\", \"▁변화에\", \"▁대한\", \"▁이해\", \"와\", \"▁묘사\", \"는\", \"▁자연과학\", \"에\", \"▁있어서\", \"▁일반적인\", \"▁주제\", \"이며\", \",\", \"▁미\", \"적\", \"분\", \"학은\", \"▁변화를\", \"▁탐구\", \"하는\", \"▁강력한\", \"▁도구\", \"로서\", \"▁발전\", \"되었다\", \".\", \"▁함수는\", \"▁변화하는\", \"▁양\", \"을\", \"▁묘사\", \"함에\", \"▁있어서\", \"▁중추\", \"적인\", \"▁개념\", \"으로써\", \"▁떠오르\", \"게\", \"▁된다\", \".\", \"▁실수\", \"와\", \"▁실\", \"변수\", \"로\", \"▁구성된\", \"▁함수의\", \"▁엄\", \"밀\", \"한\", \"▁탐구\", \"가\", \"▁실\", \"해석학\", \"이라는\", \"▁분야로\", \"▁알려지게\", \"▁되었고\", \",\", \"▁복소수\", \"에\", \"▁대한\", \"▁이와\", \"▁같은\", \"▁탐구\", \"▁분야\", \"는\", \"▁복소\", \"해석학\", \"이라고\", \"▁한다\", \".\", \"▁함수\", \"해석학\", \"은\", \"▁함수의\", \"▁공간\", \"(\", \"특히\", \"▁무한\", \"차원\", \")\", \"의\", \"▁탐구\", \"에\", \"▁주목\", \"한다\", \".\", \"▁함수\", \"해석학\", \"의\", \"▁많은\", \"▁응용\", \"분야\", \"▁중\", \"▁하나가\", \"▁양자역학\", \"이다\", \".\", \"▁많은\", \"▁문제들\", \"이\", \"▁자연스럽게\", \"▁양\", \"과\", \"▁그\", \"▁양의\", \"▁변화\", \"율\", \"의\", \"▁관계로\", \"▁귀\", \"착\", \"되고\", \",\", \"▁이러한\"]}\n",
            "\n",
            "{\"token\": [\"▁수학\", \"의\", \"▁기초를\", \"▁확실히\", \"▁세우기\", \"▁위해\", \",\", \"▁수리\", \"논리\", \"학과\", \"▁집합론\", \"이\", \"▁발전\", \"하였고\", \",\", \"▁이와\", \"▁더불어\", \"▁범주\", \"론이\", \"▁최근에\", \"도\", \"▁발전\", \"되고\", \"▁있다\", \".\", \"▁“\", \"근\", \"본\", \"▁위기\", \"”\", \"라는\", \"▁말은\", \"▁대략\", \"▁1900\", \"년\", \"에서\", \"▁1930\", \"년\", \"▁사이에\", \"▁일어난\", \",\", \"▁수학\", \"의\", \"▁엄\", \"밀\", \"한\", \"▁기초\", \"에\", \"▁대한\", \"▁탐구\", \"를\", \"▁상징적\", \"으로\", \"▁보여주는\", \"▁말이다\", \".\", \"▁수학\", \"의\", \"▁엄\", \"밀\", \"한\", \"▁기초\", \"에\", \"▁대한\", \"▁몇\", \"▁가지\", \"▁의견\", \"▁불일치\", \"는\", \"▁오늘날에도\", \"▁계속되고\", \"▁있다\", \".\", \"▁수학\", \"의\", \"▁기초\", \"에\", \"▁대한\", \"▁위기\", \"는\", \"▁그\", \"▁당시\", \"▁수많은\", \"▁논쟁\", \"에\", \"▁의해\", \"▁촉발\", \"되었으며\", \",\", \"▁그\", \"▁논쟁\", \"에는\", \"▁칸\", \"토\", \"어의\", \"▁집합론\", \"과\", \"▁\", \"브라우\", \"어\", \"-\", \"힐\", \"베르트\", \"▁논쟁이\", \"▁포함되었다\", \".\"]}\n",
            "\n"
          ],
          "name": "stdout"
        },
        {
          "output_type": "execute_result",
          "data": {
            "text/plain": [
              "778381"
            ]
          },
          "metadata": {
            "tags": []
          },
          "execution_count": 24
        }
      ]
    },
    {
      "cell_type": "markdown",
      "metadata": {
        "id": "gcG7zBAr_R_4"
      },
      "source": [
        "# Sample Data Project"
      ]
    },
    {
      "cell_type": "markdown",
      "metadata": {
        "id": "mvdVp2P8tCfR"
      },
      "source": [
        "## Data\n"
      ]
    },
    {
      "cell_type": "code",
      "metadata": {
        "id": "pkzwlvcVS1cj"
      },
      "source": [
        "def load_data(vocab, n_seq):\n",
        "    \"\"\"\n",
        "    Language Model 학습 데이터 생성\n",
        "    :param vocab: vocabulary object\n",
        "    :param n_seq: number of sequence\n",
        "    :return inputs_1: input data 1\n",
        "    :return inputs_2: input data 2\n",
        "    :return labels: label data\n",
        "    \"\"\"\n",
        "    # line 수 조회\n",
        "    # n_line = 0\n",
        "    # with open(os.path.join(kowiki_dir, 'kowiki_lm.json')) as f:\n",
        "    #     for line in f:\n",
        "    #         n_line += 1\n",
        "    # 10개로 제한\n",
        "    n_data = 10\n",
        "    # 빈 데이터 생성\n",
        "    inputs = np.zeros((n_data, n_seq)).astype(np.int32)\n",
        "    labels = np.zeros((n_data, n_seq)).astype(np.int32)\n",
        "\n",
        "    with open(os.path.join(kowiki_dir, 'kowiki_lm.json')) as f:\n",
        "        for i, line in enumerate(f):\n",
        "            if i >= n_data:\n",
        "                break\n",
        "            data = json.loads(line)\n",
        "            print()\n",
        "            print(data)\n",
        "            token_id = [vocab.piece_to_id(p) for p in data['token']]\n",
        "            print(len(token_id), token_id)\n",
        "            # input id\n",
        "            input_id = [vocab.bos_id()] + token_id\n",
        "            input_id += [0] * (n_seq - len(input_id))\n",
        "            print(len(input_id), input_id)\n",
        "            # label id\n",
        "            label_id = token_id + [vocab.eos_id()]\n",
        "            label_id += [0] * (n_seq - len(label_id))\n",
        "            print(len(label_id), label_id)\n",
        "            # 값 저장\n",
        "            inputs[i] = input_id\n",
        "            labels[i] = label_id\n",
        "\n",
        "    return inputs, labels"
      ],
      "execution_count": 25,
      "outputs": []
    },
    {
      "cell_type": "code",
      "metadata": {
        "id": "bfEwG-jgS4aN",
        "colab": {
          "base_uri": "https://localhost:8080/"
        },
        "outputId": "d2f9f159-c50b-4978-edbd-333d2406db23"
      },
      "source": [
        "# train data 생성\n",
        "train_inputs, train_labels = load_data(vocab, n_seq)\n",
        "train_inputs, train_labels"
      ],
      "execution_count": 26,
      "outputs": [
        {
          "output_type": "stream",
          "text": [
            "\n",
            "{'token': ['▁지미', '▁카터', '▁제임스', '▁얼', '▁\"', '지', '미', '\"', '▁카터', '▁주니어', '(', ',', '▁1924', '년', '▁10', '월', '▁1', '일', '▁~', '▁)', '는', '▁민주당', '▁출신', '▁미국', '▁39', '대', '▁대통령', '▁', '(1977', '년', '▁~', '▁1981', '년', ')', '이다', '.', '▁지미', '▁카터', '는', '▁조지아주', '▁섬', '터', '▁카운티', '▁플레', '인', '스', '▁마을에서', '▁태어났다', '.', '▁조지아', '▁공과대학교', '를', '▁졸업하였다', '.', '▁그', '▁후', '▁해군', '에', '▁들어가', '▁전함', '·', '원자력', '·', '잠수함', '의', '▁승무원', '으로', '▁일', '하였다', '.', '▁1953', '년', '▁미국', '▁해군', '▁대위', '로', '▁예편', '하였고', '▁이후', '▁땅콩', '·', '면', '화', '▁등을', '▁가', '꿔', '▁많은', '▁돈을', '▁벌', '었다', '.', '▁그의', '▁별명이', '▁\"', '땅', '콩', '▁농부', '\"', '▁(', 'P', 'ean', 'ut', '▁F', 'ar', 'mer', ')', '로', '▁알려졌다', '.', '▁1962', '년', '▁조지아', '▁주', '▁상원', '▁의원', '▁선거에서', '▁낙선', '하나', '▁그', '▁선거', '가', '▁부정', '선거', '▁', '였', '음을', '▁입증', '하게', '▁되어', '▁당선', '되고', ',', '▁1966', '년', '▁조지아', '▁주', '▁지사', '▁선거에', '▁낙선', '하지만', '▁1970', '년', '▁조지아', '▁주', '▁지사', '를', '▁역임했다', '.', '▁대통령이', '▁되기', '▁전', '▁조지아주', '▁상원의원', '을', '▁두', '번', '▁연임', '했으며', ',', '▁1971', '년부터', '▁1975', '년까지', '▁조지아', '▁지사', '로', '▁근무했다', '.', '▁조지아', '▁주지사', '로', '▁지내면서', ',', '▁미국에', '▁사는', '▁흑인', '▁등용', '법을', '▁내세웠다', '.', '▁1976', '년', '▁미합중국', '▁(', '미국', ')', '▁제', '39', '대', '▁대통령', '▁선거에', '▁민주당', '▁후보로', '▁출마하여', '▁도덕', '주의', '▁정책으로', '▁내세워', '서', ',', '▁많은', '▁지지를', '▁받고', '▁제', '럴', '드', '▁포드', '▁(', '당시', '▁미국', '▁대통령', ')', '▁', '를', '▁누르고', '▁당선되었다', '.', '▁카터', '▁대통령은', '▁에너지', '▁개발을', '▁촉구', '했으나', '▁공화당', '의', '▁반대로', '▁무산되었다', '.', '▁카터', '는', '▁이집트', '와', '▁이스라엘', '을', '▁조정', '하여', ',', '▁캠프', '▁데이비드', '에서', '▁안', '와', '르', '▁사다', '트', '▁대통령과', '▁메', '나', '헴', '▁베', '긴', '▁수상', '과', '▁함께', '▁중동']}\n",
            "255 [14473, 14639, 2033, 6158, 45, 47, 167, 44, 14639, 5512, 14, 8, 4734, 15, 67, 23, 35, 26, 76, 113, 11, 2221, 1141, 140, 5065, 72, 776, 10, 23852, 15, 76, 2088, 15, 12, 30, 7, 14473, 14639, 11, 21436, 1009, 547, 3433, 7835, 31, 86, 13282, 710, 7, 4490, 18253, 20, 8003, 7, 39, 78, 1461, 13, 2120, 9365, 75, 27663, 75, 29554, 9, 9660, 28, 312, 54, 7, 3754, 15, 140, 1461, 10515, 21, 22389, 277, 82, 28045, 75, 122, 121, 336, 243, 30781, 192, 4747, 1609, 782, 7, 134, 16783, 45, 12014, 6716, 21262, 44, 55, 649, 22728, 3411, 518, 2004, 8221, 12, 21, 3608, 7, 2718, 15, 4490, 133, 5648, 1755, 3320, 11430, 2606, 39, 874, 19, 2538, 5286, 10, 8853, 3599, 7140, 104, 386, 4170, 269, 8, 2894, 15, 4490, 133, 10009, 7664, 11430, 1101, 1221, 15, 4490, 133, 10009, 20, 3420, 7, 3827, 4241, 102, 21436, 12820, 16, 99, 385, 26365, 421, 8, 2388, 301, 2395, 402, 4490, 10009, 21, 12703, 7, 4490, 8624, 21, 27560, 8, 8056, 3052, 4308, 12359, 2541, 27145, 7, 2341, 15, 20047, 55, 5230, 12, 41, 3254, 72, 776, 7664, 2221, 3865, 20129, 9177, 576, 21337, 20014, 70, 8, 192, 4942, 956, 41, 4897, 194, 9583, 55, 4652, 140, 776, 12, 10, 20, 9428, 7310, 7, 14639, 5064, 1646, 7784, 11477, 815, 6428, 9, 3955, 18546, 7, 14639, 11, 2448, 27, 2466, 16, 1738, 52, 8, 7518, 3814, 22, 295, 27, 328, 9685, 175, 12919, 1023, 58, 27126, 791, 1994, 1403, 24, 112, 6087]\n",
            "256 [2, 14473, 14639, 2033, 6158, 45, 47, 167, 44, 14639, 5512, 14, 8, 4734, 15, 67, 23, 35, 26, 76, 113, 11, 2221, 1141, 140, 5065, 72, 776, 10, 23852, 15, 76, 2088, 15, 12, 30, 7, 14473, 14639, 11, 21436, 1009, 547, 3433, 7835, 31, 86, 13282, 710, 7, 4490, 18253, 20, 8003, 7, 39, 78, 1461, 13, 2120, 9365, 75, 27663, 75, 29554, 9, 9660, 28, 312, 54, 7, 3754, 15, 140, 1461, 10515, 21, 22389, 277, 82, 28045, 75, 122, 121, 336, 243, 30781, 192, 4747, 1609, 782, 7, 134, 16783, 45, 12014, 6716, 21262, 44, 55, 649, 22728, 3411, 518, 2004, 8221, 12, 21, 3608, 7, 2718, 15, 4490, 133, 5648, 1755, 3320, 11430, 2606, 39, 874, 19, 2538, 5286, 10, 8853, 3599, 7140, 104, 386, 4170, 269, 8, 2894, 15, 4490, 133, 10009, 7664, 11430, 1101, 1221, 15, 4490, 133, 10009, 20, 3420, 7, 3827, 4241, 102, 21436, 12820, 16, 99, 385, 26365, 421, 8, 2388, 301, 2395, 402, 4490, 10009, 21, 12703, 7, 4490, 8624, 21, 27560, 8, 8056, 3052, 4308, 12359, 2541, 27145, 7, 2341, 15, 20047, 55, 5230, 12, 41, 3254, 72, 776, 7664, 2221, 3865, 20129, 9177, 576, 21337, 20014, 70, 8, 192, 4942, 956, 41, 4897, 194, 9583, 55, 4652, 140, 776, 12, 10, 20, 9428, 7310, 7, 14639, 5064, 1646, 7784, 11477, 815, 6428, 9, 3955, 18546, 7, 14639, 11, 2448, 27, 2466, 16, 1738, 52, 8, 7518, 3814, 22, 295, 27, 328, 9685, 175, 12919, 1023, 58, 27126, 791, 1994, 1403, 24, 112, 6087]\n",
            "256 [14473, 14639, 2033, 6158, 45, 47, 167, 44, 14639, 5512, 14, 8, 4734, 15, 67, 23, 35, 26, 76, 113, 11, 2221, 1141, 140, 5065, 72, 776, 10, 23852, 15, 76, 2088, 15, 12, 30, 7, 14473, 14639, 11, 21436, 1009, 547, 3433, 7835, 31, 86, 13282, 710, 7, 4490, 18253, 20, 8003, 7, 39, 78, 1461, 13, 2120, 9365, 75, 27663, 75, 29554, 9, 9660, 28, 312, 54, 7, 3754, 15, 140, 1461, 10515, 21, 22389, 277, 82, 28045, 75, 122, 121, 336, 243, 30781, 192, 4747, 1609, 782, 7, 134, 16783, 45, 12014, 6716, 21262, 44, 55, 649, 22728, 3411, 518, 2004, 8221, 12, 21, 3608, 7, 2718, 15, 4490, 133, 5648, 1755, 3320, 11430, 2606, 39, 874, 19, 2538, 5286, 10, 8853, 3599, 7140, 104, 386, 4170, 269, 8, 2894, 15, 4490, 133, 10009, 7664, 11430, 1101, 1221, 15, 4490, 133, 10009, 20, 3420, 7, 3827, 4241, 102, 21436, 12820, 16, 99, 385, 26365, 421, 8, 2388, 301, 2395, 402, 4490, 10009, 21, 12703, 7, 4490, 8624, 21, 27560, 8, 8056, 3052, 4308, 12359, 2541, 27145, 7, 2341, 15, 20047, 55, 5230, 12, 41, 3254, 72, 776, 7664, 2221, 3865, 20129, 9177, 576, 21337, 20014, 70, 8, 192, 4942, 956, 41, 4897, 194, 9583, 55, 4652, 140, 776, 12, 10, 20, 9428, 7310, 7, 14639, 5064, 1646, 7784, 11477, 815, 6428, 9, 3955, 18546, 7, 14639, 11, 2448, 27, 2466, 16, 1738, 52, 8, 7518, 3814, 22, 295, 27, 328, 9685, 175, 12919, 1023, 58, 27126, 791, 1994, 1403, 24, 112, 6087, 3]\n",
            "\n",
            "{'token': ['▁그러나', '▁이것은', '▁공화당', '과', '▁미국의', '▁유대인', '▁단체의', '▁반발', '을', '▁일으켰다', '.', '▁1979', '년', '▁백악관', '에서', '▁양국', '▁간의', '▁평화', '조약', '으로', '▁이끌어', '졌다', '.', '▁또한', '▁소련과', '▁제', '2', '차', '▁전략', '▁무기', '▁제한', '▁협상', '에', '▁조인', '했다', '.', '▁카터', '는', '▁1970', '년대', '▁후반', '▁당시', '▁대한민국', '▁등', '▁인권', '▁후진', '국의', '▁국민들의', '▁인권', '을', '▁지키기', '▁위해', '▁노력', '했으며', ',', '▁취임', '▁이후', '▁계속해서', '▁도덕', '정치', '를', '▁내세웠다', '.', '▁그러나', '▁주', '▁이란', '▁미국', '▁대사관', '▁인질', '▁사건', '에서', '▁인질', '▁구출', '▁실패', '를', '▁이유로', '▁1980', '년', '▁대통령', '▁선거에서', '▁공화당', '의', '▁로널드', '▁레이건', '▁후보', '에게', '▁', '져', '▁결국', '▁재선', '에', '▁실패했다', '.', '▁또한', '▁임기', '▁말기에', '▁터', '진', '▁소련의', '▁아프가니스탄', '▁침공', '▁사건으로', '▁인해', '▁1980', '년', '▁하계', '▁올림픽에', '▁반공', '국가', '들의', '▁보이콧', '을', '▁내세웠다', '.', '▁지미', '▁카터', '는', '▁대한민국과', '의', '▁관계', '에서도', '▁중요한', '▁영향을', '▁미', '쳤던', '▁대통령', '▁중', '▁하나다', '.', '▁인권', '▁문제와', '▁주한미군', '▁철수', '▁문제로', '▁한때', '▁한미', '▁관계가', '▁불편', '하기도', '▁했다', '.', '▁1978', '년', '▁대한민국에', '▁대한', '▁북한의', '▁위협', '에', '▁대비해', '▁한미', '연합', '사를', '▁창설', '하면서', ',', '▁1982', '년까지', '▁3', '단계', '에', '▁걸쳐', '▁주한미군', '을', '▁철수', '하기로', '▁했다', '.', '▁그러나', '▁주한미군', '사령부', '와', '▁정보', '기관', '·', '의', '회의', '▁반대', '에', '▁부딪혀', '▁주한미군', '은', '▁완전', '철', '수', '▁대신', '▁6,000', '명을', '▁감축', '하는', '▁데', '▁그쳤다', '.', '▁또한', '▁박정희', '▁정권', '의', '▁인권', '▁문제', '▁등과', '의', '▁논란', '으로', '▁불', '협', '화', '음을', '▁', '냈으나', ',', '▁1979', '년', '▁6', '월', '▁하순', ',', '▁대한민국', '을', '▁방문하여', '▁관계가', '▁다소', '▁회복', '되었다', '.', '▁1979', '년', '▁~', '▁1980', '년', '▁대한민국의', '▁정치적', '▁격', '변', '기', '▁당시의', '▁대통령', '이었던', '▁그는', '▁이에', '▁대해', '▁애', '매', '한', '▁태도를', '▁보였고', ',', '▁이는', '▁후에', '▁대한민국', '▁내에서', '▁고조', '되는', '▁반', '미', '▁운동의', '▁한']}\n",
            "255 [138, 931, 6428, 24, 319, 4289, 18672, 3633, 16, 5099, 7, 2083, 15, 20807, 22, 6067, 2048, 1897, 7443, 28, 8059, 1215, 7, 109, 19697, 41, 108, 116, 3062, 1990, 1790, 4402, 13, 12907, 53, 7, 14639, 11, 1221, 535, 2557, 179, 255, 84, 3782, 14802, 3327, 18990, 3782, 16, 14070, 115, 2184, 421, 8, 3373, 82, 5426, 9177, 3278, 20, 27145, 7, 138, 133, 2523, 140, 7121, 21758, 1084, 22, 21758, 10576, 2339, 20, 1143, 1011, 15, 776, 3320, 6428, 9, 25792, 23750, 1538, 80, 10, 995, 493, 10516, 13, 8136, 7, 109, 4655, 9399, 2114, 130, 4860, 6972, 2302, 5335, 433, 1011, 15, 1445, 5013, 20964, 2518, 337, 29182, 16, 27145, 7, 14473, 14639, 11, 12152, 9, 1333, 664, 705, 614, 267, 27804, 776, 69, 15691, 7, 3782, 15048, 24325, 3330, 3889, 2717, 12312, 4032, 9297, 577, 168, 7, 2375, 15, 10588, 94, 9153, 3012, 13, 23307, 12312, 3036, 1465, 3716, 248, 8, 1872, 402, 38, 3983, 13, 1121, 24325, 16, 3330, 1720, 168, 7, 138, 24325, 4473, 27, 1111, 1988, 75, 9, 1350, 1073, 13, 29410, 24325, 18, 4152, 723, 107, 851, 23643, 1049, 23855, 42, 228, 10894, 7, 109, 4488, 2933, 9, 3782, 1313, 1361, 9, 5406, 28, 508, 2506, 121, 3599, 10, 19600, 8, 2083, 15, 64, 23, 26328, 8, 255, 16, 14952, 4032, 4375, 2401, 97, 7, 2083, 15, 76, 1011, 15, 215, 1923, 2691, 901, 48, 3004, 776, 830, 88, 482, 333, 893, 779, 33, 10685, 19309, 8, 378, 718, 255, 2148, 8307, 268, 358, 167, 8945, 59]\n",
            "256 [2, 138, 931, 6428, 24, 319, 4289, 18672, 3633, 16, 5099, 7, 2083, 15, 20807, 22, 6067, 2048, 1897, 7443, 28, 8059, 1215, 7, 109, 19697, 41, 108, 116, 3062, 1990, 1790, 4402, 13, 12907, 53, 7, 14639, 11, 1221, 535, 2557, 179, 255, 84, 3782, 14802, 3327, 18990, 3782, 16, 14070, 115, 2184, 421, 8, 3373, 82, 5426, 9177, 3278, 20, 27145, 7, 138, 133, 2523, 140, 7121, 21758, 1084, 22, 21758, 10576, 2339, 20, 1143, 1011, 15, 776, 3320, 6428, 9, 25792, 23750, 1538, 80, 10, 995, 493, 10516, 13, 8136, 7, 109, 4655, 9399, 2114, 130, 4860, 6972, 2302, 5335, 433, 1011, 15, 1445, 5013, 20964, 2518, 337, 29182, 16, 27145, 7, 14473, 14639, 11, 12152, 9, 1333, 664, 705, 614, 267, 27804, 776, 69, 15691, 7, 3782, 15048, 24325, 3330, 3889, 2717, 12312, 4032, 9297, 577, 168, 7, 2375, 15, 10588, 94, 9153, 3012, 13, 23307, 12312, 3036, 1465, 3716, 248, 8, 1872, 402, 38, 3983, 13, 1121, 24325, 16, 3330, 1720, 168, 7, 138, 24325, 4473, 27, 1111, 1988, 75, 9, 1350, 1073, 13, 29410, 24325, 18, 4152, 723, 107, 851, 23643, 1049, 23855, 42, 228, 10894, 7, 109, 4488, 2933, 9, 3782, 1313, 1361, 9, 5406, 28, 508, 2506, 121, 3599, 10, 19600, 8, 2083, 15, 64, 23, 26328, 8, 255, 16, 14952, 4032, 4375, 2401, 97, 7, 2083, 15, 76, 1011, 15, 215, 1923, 2691, 901, 48, 3004, 776, 830, 88, 482, 333, 893, 779, 33, 10685, 19309, 8, 378, 718, 255, 2148, 8307, 268, 358, 167, 8945, 59]\n",
            "256 [138, 931, 6428, 24, 319, 4289, 18672, 3633, 16, 5099, 7, 2083, 15, 20807, 22, 6067, 2048, 1897, 7443, 28, 8059, 1215, 7, 109, 19697, 41, 108, 116, 3062, 1990, 1790, 4402, 13, 12907, 53, 7, 14639, 11, 1221, 535, 2557, 179, 255, 84, 3782, 14802, 3327, 18990, 3782, 16, 14070, 115, 2184, 421, 8, 3373, 82, 5426, 9177, 3278, 20, 27145, 7, 138, 133, 2523, 140, 7121, 21758, 1084, 22, 21758, 10576, 2339, 20, 1143, 1011, 15, 776, 3320, 6428, 9, 25792, 23750, 1538, 80, 10, 995, 493, 10516, 13, 8136, 7, 109, 4655, 9399, 2114, 130, 4860, 6972, 2302, 5335, 433, 1011, 15, 1445, 5013, 20964, 2518, 337, 29182, 16, 27145, 7, 14473, 14639, 11, 12152, 9, 1333, 664, 705, 614, 267, 27804, 776, 69, 15691, 7, 3782, 15048, 24325, 3330, 3889, 2717, 12312, 4032, 9297, 577, 168, 7, 2375, 15, 10588, 94, 9153, 3012, 13, 23307, 12312, 3036, 1465, 3716, 248, 8, 1872, 402, 38, 3983, 13, 1121, 24325, 16, 3330, 1720, 168, 7, 138, 24325, 4473, 27, 1111, 1988, 75, 9, 1350, 1073, 13, 29410, 24325, 18, 4152, 723, 107, 851, 23643, 1049, 23855, 42, 228, 10894, 7, 109, 4488, 2933, 9, 3782, 1313, 1361, 9, 5406, 28, 508, 2506, 121, 3599, 10, 19600, 8, 2083, 15, 64, 23, 26328, 8, 255, 16, 14952, 4032, 4375, 2401, 97, 7, 2083, 15, 76, 1011, 15, 215, 1923, 2691, 901, 48, 3004, 776, 830, 88, 482, 333, 893, 779, 33, 10685, 19309, 8, 378, 718, 255, 2148, 8307, 268, 358, 167, 8945, 59, 3]\n",
            "\n",
            "{'token': ['▁퇴임', '▁이후', '▁민간', '▁자원을', '▁적극', '▁활용한', '▁비영리', '▁기구', '인', '▁카터', '▁재단', '을', '▁설립한', '▁뒤', '▁민주주의', '▁실현', '을', '▁위해', '▁제', '▁3', '세계', '의', '▁선거', '▁감시', '▁활동', '▁및', '▁기니', '▁', '벌레', '에', '▁의한', '▁드라', '쿤', '쿠르', '스', '▁질병', '▁방', '재를', '▁위해', '▁힘썼다', '.', '▁미국의', '▁빈곤', '층', '▁지원', '▁활동', ',', '▁사랑의', '▁집', '짓', '기', '▁운동', ',', '▁국제', '▁분쟁', '▁중재', '▁등의', '▁활동', '도', '▁했다', '.', '▁카터', '는', '▁카터', '▁행정부', '▁이후', '▁미국이', '▁북', '핵', '▁위기', ',', '▁코소보', '▁전쟁', ',', '▁이라크', '▁전쟁과', '▁같이', '▁미국이', '▁군사적', '▁행동을', '▁최후', '로', '▁선택', '하는', '▁전통적', '▁사고를', '▁버리고', '▁군사적', '▁행동을', '▁선행', '하는', '▁행위에', '▁대해', '▁깊은', '▁유감', '을', '▁표시', '▁하며', '▁미국의', '▁군사적', '▁활동에', '▁강한', '▁반대', '▁입장을', '▁보이고', '▁있다', '.', '▁특히', '▁국제', '▁분쟁', '▁조정', '을', '▁위해', '▁북한의', '▁김일성', ',', '▁아이티', '의', '▁세', '드라', '스', '▁장군', ',', '▁팔레', '인', '스타', '인', '의', '▁하마', '스', ',', '▁보스니아', '의', '▁세르비아', '계', '▁정권', '▁같이', '▁미국', '▁정부에', '▁대해', '▁협상을', '▁거부', '하면서', '▁사태', '의', '▁위기를', '▁초래', '한', '▁인물', '▁및', '▁단체', '를', '▁직접', '▁만나', '▁분쟁', '의', '▁원인을', '▁근본적으로', '▁해결하기', '▁위해', '▁힘썼다', '.', '▁이', '▁과정에서', '▁미국', '▁행정부', '와', '▁갈등을', '▁보이기도', '▁했지만', ',', '▁전직', '▁대통령의', '▁권한', '과', '▁재', '야', '▁유명', '▁인사들', '의', '▁활약으로', '▁해결', '해', '▁나갔다', '.', '▁1978', '년에', '▁채', '결', '된', '▁캠프', '데이', '비', '드', '▁협정', '의', '▁이행', '이', '▁지지', '부', '진', '▁하자', '▁중동', '▁분쟁', '▁분', '제를', '▁해결하기', '▁위해', '▁1993', '년', '▁퇴임', '▁후', '▁직접', '▁이스라엘', '과', '▁팔레', '인', '스타', '인', '의', '▁오슬로', '▁협정을', '▁이끌어', '▁내는', '▁데', '도', '▁성공했다', '.', '▁1993', '년', '▁1', '차', '▁북', '핵', '▁위기', '▁당시', '▁북한', '에', '▁대한', '▁미국의', '▁군사적', '▁행동이', '▁임', '박', '했으나', ',', '▁미국', '▁전직', '▁대통령으로', '는', '▁처음으로', '▁북한', '을', '▁방문', '하고']}\n",
            "255 [12780, 82, 3392, 17901, 6971, 20307, 15186, 2981, 31, 14639, 5900, 16, 6391, 294, 5183, 4104, 16, 115, 41, 38, 2966, 9, 874, 4810, 793, 95, 17705, 10, 8893, 13, 823, 12687, 15642, 15672, 86, 3507, 595, 11643, 115, 19893, 7, 319, 13712, 773, 904, 793, 8, 15822, 1130, 5663, 48, 1138, 8, 478, 5446, 10015, 282, 793, 32, 168, 7, 14639, 11, 14639, 8159, 82, 10057, 786, 4096, 5071, 8, 17971, 600, 8, 4362, 18198, 412, 10057, 7398, 4818, 10753, 21, 1296, 42, 14805, 13410, 7607, 7398, 4818, 14324, 42, 20342, 333, 3604, 26695, 16, 1991, 895, 319, 7398, 7449, 1833, 1073, 4297, 6193, 25, 7, 381, 478, 5446, 1738, 16, 115, 9153, 4971, 8, 17753, 9, 231, 4348, 86, 2556, 8, 19975, 31, 1072, 31, 9, 13933, 86, 8, 8770, 9, 3619, 239, 2933, 412, 140, 5767, 333, 12036, 2564, 248, 4489, 9, 10856, 7290, 33, 2215, 95, 1549, 20, 728, 2014, 5446, 9, 13494, 23454, 12860, 115, 19893, 7, 29, 1376, 140, 8159, 27, 12264, 23700, 2633, 8, 4728, 5272, 8292, 24, 443, 173, 2465, 7550, 9, 18108, 2593, 61, 7541, 7, 2375, 77, 896, 1185, 85, 7518, 5164, 152, 194, 5721, 9, 5993, 17, 1681, 106, 130, 2241, 6087, 5446, 736, 2122, 12860, 115, 1346, 15, 12780, 78, 728, 2466, 24, 19975, 31, 1072, 31, 9, 22769, 16388, 8059, 8539, 228, 32, 5403, 7, 1346, 15, 35, 116, 786, 4096, 5071, 179, 1951, 13, 94, 319, 7398, 18219, 748, 819, 815, 8, 140, 4728, 12480, 11, 812, 1951, 16, 2194, 43]\n",
            "256 [2, 12780, 82, 3392, 17901, 6971, 20307, 15186, 2981, 31, 14639, 5900, 16, 6391, 294, 5183, 4104, 16, 115, 41, 38, 2966, 9, 874, 4810, 793, 95, 17705, 10, 8893, 13, 823, 12687, 15642, 15672, 86, 3507, 595, 11643, 115, 19893, 7, 319, 13712, 773, 904, 793, 8, 15822, 1130, 5663, 48, 1138, 8, 478, 5446, 10015, 282, 793, 32, 168, 7, 14639, 11, 14639, 8159, 82, 10057, 786, 4096, 5071, 8, 17971, 600, 8, 4362, 18198, 412, 10057, 7398, 4818, 10753, 21, 1296, 42, 14805, 13410, 7607, 7398, 4818, 14324, 42, 20342, 333, 3604, 26695, 16, 1991, 895, 319, 7398, 7449, 1833, 1073, 4297, 6193, 25, 7, 381, 478, 5446, 1738, 16, 115, 9153, 4971, 8, 17753, 9, 231, 4348, 86, 2556, 8, 19975, 31, 1072, 31, 9, 13933, 86, 8, 8770, 9, 3619, 239, 2933, 412, 140, 5767, 333, 12036, 2564, 248, 4489, 9, 10856, 7290, 33, 2215, 95, 1549, 20, 728, 2014, 5446, 9, 13494, 23454, 12860, 115, 19893, 7, 29, 1376, 140, 8159, 27, 12264, 23700, 2633, 8, 4728, 5272, 8292, 24, 443, 173, 2465, 7550, 9, 18108, 2593, 61, 7541, 7, 2375, 77, 896, 1185, 85, 7518, 5164, 152, 194, 5721, 9, 5993, 17, 1681, 106, 130, 2241, 6087, 5446, 736, 2122, 12860, 115, 1346, 15, 12780, 78, 728, 2466, 24, 19975, 31, 1072, 31, 9, 22769, 16388, 8059, 8539, 228, 32, 5403, 7, 1346, 15, 35, 116, 786, 4096, 5071, 179, 1951, 13, 94, 319, 7398, 18219, 748, 819, 815, 8, 140, 4728, 12480, 11, 812, 1951, 16, 2194, 43]\n",
            "256 [12780, 82, 3392, 17901, 6971, 20307, 15186, 2981, 31, 14639, 5900, 16, 6391, 294, 5183, 4104, 16, 115, 41, 38, 2966, 9, 874, 4810, 793, 95, 17705, 10, 8893, 13, 823, 12687, 15642, 15672, 86, 3507, 595, 11643, 115, 19893, 7, 319, 13712, 773, 904, 793, 8, 15822, 1130, 5663, 48, 1138, 8, 478, 5446, 10015, 282, 793, 32, 168, 7, 14639, 11, 14639, 8159, 82, 10057, 786, 4096, 5071, 8, 17971, 600, 8, 4362, 18198, 412, 10057, 7398, 4818, 10753, 21, 1296, 42, 14805, 13410, 7607, 7398, 4818, 14324, 42, 20342, 333, 3604, 26695, 16, 1991, 895, 319, 7398, 7449, 1833, 1073, 4297, 6193, 25, 7, 381, 478, 5446, 1738, 16, 115, 9153, 4971, 8, 17753, 9, 231, 4348, 86, 2556, 8, 19975, 31, 1072, 31, 9, 13933, 86, 8, 8770, 9, 3619, 239, 2933, 412, 140, 5767, 333, 12036, 2564, 248, 4489, 9, 10856, 7290, 33, 2215, 95, 1549, 20, 728, 2014, 5446, 9, 13494, 23454, 12860, 115, 19893, 7, 29, 1376, 140, 8159, 27, 12264, 23700, 2633, 8, 4728, 5272, 8292, 24, 443, 173, 2465, 7550, 9, 18108, 2593, 61, 7541, 7, 2375, 77, 896, 1185, 85, 7518, 5164, 152, 194, 5721, 9, 5993, 17, 1681, 106, 130, 2241, 6087, 5446, 736, 2122, 12860, 115, 1346, 15, 12780, 78, 728, 2466, 24, 19975, 31, 1072, 31, 9, 22769, 16388, 8059, 8539, 228, 32, 5403, 7, 1346, 15, 35, 116, 786, 4096, 5071, 179, 1951, 13, 94, 319, 7398, 18219, 748, 819, 815, 8, 140, 4728, 12480, 11, 812, 1951, 16, 2194, 43, 3]\n",
            "\n",
            "{'token': ['▁미국의', '▁관', '타나', '모', '▁수용소', '▁문제', ',', '▁세계의', '▁인권', '문제', '에서도', '▁관심이', '▁깊어', '▁유엔', '에', '▁유엔', '인권', '고등', '판', '무관', '의', '▁제도를', '▁시행', '하도록', '▁노력', '하여', '▁독재자', '들의', '▁인권', '▁유', '린', '에', '▁대해', '▁제약', '을', '▁하고', ',', '▁국제', '형사', '재판소', '를', '▁만드는', '▁데', '▁기여', '하여', '▁독재자', '들', '▁같은', '▁인권', '유', '린', '범죄', '자를', '▁', '재판소', '로', '▁회', '부', '하여', '▁국제적인', '▁처벌을', '▁받게', '▁하는', '▁등', '▁인권', '▁신장', '에', '▁크', '나', '▁큰', '▁기여를', '▁했다', '.', '▁2011', '년', '▁4', '월', '▁26', '일부터', '▁29', '일까지', '▁북한', '을', '▁3', '일간', '▁방문했다', '.', '▁경제', '문제를', '▁해결', '하지', '▁못하고', '▁주', '▁이란', '▁미국', '▁대사관', '▁인질', '▁사건에', '▁발목', '이', '▁잡혀', '▁실패한', '▁대통령으로', '▁평가를', '▁받지', '만', '▁이란', '▁사태', '는', '▁미국', '▁내', '▁이란', '▁재산을', '▁풀어주', '겠다는', '▁조건을', '▁내세워', '서', '▁사실상', '▁카터', '가', '▁해결', '한', '▁것이', '었고', ',', '▁사랑의', '▁집', '짓', '기', '▁운동', '▁등으로', '▁퇴임', '▁후에', '▁훨씬', '▁더', '▁존경', '받는', '▁미국', '▁대통령', '▁중에', '▁특이한', '▁인물로', '▁남았다', '.', '▁그는', '▁2002', '년', '▁말', '▁인권', '과', '▁중재', '▁역할에', '▁대한', '▁공로', '를', '▁인정받아', '▁노벨', '▁평화', '상을', '▁받게', '▁되었다', '.']}\n",
            "163 [319, 1139, 10218, 296, 10594, 1313, 8, 6055, 3782, 4279, 664, 7288, 21831, 3198, 13, 3198, 12948, 9132, 568, 15590, 9, 5706, 1918, 1332, 2184, 52, 24840, 337, 3782, 216, 458, 13, 333, 7151, 16, 382, 8, 478, 18299, 9250, 20, 2136, 228, 3618, 52, 24840, 306, 98, 3782, 284, 458, 10352, 1349, 10, 9250, 21, 1135, 106, 52, 12591, 20481, 3402, 208, 84, 3782, 5467, 13, 2444, 58, 230, 14170, 168, 7, 452, 15, 46, 23, 628, 539, 720, 737, 1951, 16, 38, 6201, 20861, 7, 627, 19917, 2593, 202, 1785, 133, 2523, 140, 7121, 21758, 6275, 18088, 17, 12378, 12589, 12480, 3648, 2928, 62, 2523, 4489, 11, 140, 283, 2523, 9319, 27583, 9101, 5371, 20014, 70, 2226, 14639, 19, 2593, 33, 221, 1623, 8, 15822, 1130, 5663, 48, 1138, 1110, 12780, 718, 2834, 149, 9131, 8450, 140, 776, 1458, 9088, 5498, 15829, 7, 88, 780, 15, 335, 3782, 24, 10015, 22424, 94, 8365, 20, 8993, 5012, 1897, 926, 3402, 91, 7]\n",
            "256 [2, 319, 1139, 10218, 296, 10594, 1313, 8, 6055, 3782, 4279, 664, 7288, 21831, 3198, 13, 3198, 12948, 9132, 568, 15590, 9, 5706, 1918, 1332, 2184, 52, 24840, 337, 3782, 216, 458, 13, 333, 7151, 16, 382, 8, 478, 18299, 9250, 20, 2136, 228, 3618, 52, 24840, 306, 98, 3782, 284, 458, 10352, 1349, 10, 9250, 21, 1135, 106, 52, 12591, 20481, 3402, 208, 84, 3782, 5467, 13, 2444, 58, 230, 14170, 168, 7, 452, 15, 46, 23, 628, 539, 720, 737, 1951, 16, 38, 6201, 20861, 7, 627, 19917, 2593, 202, 1785, 133, 2523, 140, 7121, 21758, 6275, 18088, 17, 12378, 12589, 12480, 3648, 2928, 62, 2523, 4489, 11, 140, 283, 2523, 9319, 27583, 9101, 5371, 20014, 70, 2226, 14639, 19, 2593, 33, 221, 1623, 8, 15822, 1130, 5663, 48, 1138, 1110, 12780, 718, 2834, 149, 9131, 8450, 140, 776, 1458, 9088, 5498, 15829, 7, 88, 780, 15, 335, 3782, 24, 10015, 22424, 94, 8365, 20, 8993, 5012, 1897, 926, 3402, 91, 7, 0, 0, 0, 0, 0, 0, 0, 0, 0, 0, 0, 0, 0, 0, 0, 0, 0, 0, 0, 0, 0, 0, 0, 0, 0, 0, 0, 0, 0, 0, 0, 0, 0, 0, 0, 0, 0, 0, 0, 0, 0, 0, 0, 0, 0, 0, 0, 0, 0, 0, 0, 0, 0, 0, 0, 0, 0, 0, 0, 0, 0, 0, 0, 0, 0, 0, 0, 0, 0, 0, 0, 0, 0, 0, 0, 0, 0, 0, 0, 0, 0, 0, 0, 0, 0, 0, 0, 0, 0, 0, 0, 0]\n",
            "256 [319, 1139, 10218, 296, 10594, 1313, 8, 6055, 3782, 4279, 664, 7288, 21831, 3198, 13, 3198, 12948, 9132, 568, 15590, 9, 5706, 1918, 1332, 2184, 52, 24840, 337, 3782, 216, 458, 13, 333, 7151, 16, 382, 8, 478, 18299, 9250, 20, 2136, 228, 3618, 52, 24840, 306, 98, 3782, 284, 458, 10352, 1349, 10, 9250, 21, 1135, 106, 52, 12591, 20481, 3402, 208, 84, 3782, 5467, 13, 2444, 58, 230, 14170, 168, 7, 452, 15, 46, 23, 628, 539, 720, 737, 1951, 16, 38, 6201, 20861, 7, 627, 19917, 2593, 202, 1785, 133, 2523, 140, 7121, 21758, 6275, 18088, 17, 12378, 12589, 12480, 3648, 2928, 62, 2523, 4489, 11, 140, 283, 2523, 9319, 27583, 9101, 5371, 20014, 70, 2226, 14639, 19, 2593, 33, 221, 1623, 8, 15822, 1130, 5663, 48, 1138, 1110, 12780, 718, 2834, 149, 9131, 8450, 140, 776, 1458, 9088, 5498, 15829, 7, 88, 780, 15, 335, 3782, 24, 10015, 22424, 94, 8365, 20, 8993, 5012, 1897, 926, 3402, 91, 7, 3, 0, 0, 0, 0, 0, 0, 0, 0, 0, 0, 0, 0, 0, 0, 0, 0, 0, 0, 0, 0, 0, 0, 0, 0, 0, 0, 0, 0, 0, 0, 0, 0, 0, 0, 0, 0, 0, 0, 0, 0, 0, 0, 0, 0, 0, 0, 0, 0, 0, 0, 0, 0, 0, 0, 0, 0, 0, 0, 0, 0, 0, 0, 0, 0, 0, 0, 0, 0, 0, 0, 0, 0, 0, 0, 0, 0, 0, 0, 0, 0, 0, 0, 0, 0, 0, 0, 0, 0, 0, 0, 0, 0]\n",
            "\n",
            "{'token': ['▁수학', '▁수학', '(', '數', '學', ',', '▁)', '은', '▁양', ',', '▁구조', ',', '▁공간', ',', '▁변화', '등을', '▁다룬다', '고', '▁설명', '▁할', '▁수', '▁있으나', '▁일반적으로', '▁받아들여', '지는', '▁정의는', '▁없다', '▁수학', '은', '▁공리', ',', '▁명제', ',', '▁증명', '▁등으로', '▁구성된', '▁추상적', '▁대상을', '▁연구하는', '▁학문', '이다', '.', '▁수학자', '는', '▁인간이', '▁살아가는', '▁실제', '▁세상', '과', '▁대비해', '▁보았을', '▁때', '▁전혀', '▁다른', '▁독립', '적이며', '▁추상적', '이고', '▁엄격한', '▁구조를', '▁만들고', '▁연구', '한다', '.', '▁그러나', '▁이런', '▁추상적', '인', '▁사실', '들이', '▁가끔', '은', '▁실제', '를', '▁설명', '하는데', '▁필요한', '▁경우도', '▁있다', '.', '▁고대', '로부터', '▁문명', '이', '▁생기는', '데', '▁필요한', '▁건축', ',', '▁천문학', ',', '▁토지', '▁측량', ',', '▁기계', '▁공학', ',', '▁상업', '▁등에', '▁수학적', '▁개념', '들이', '▁응용', '되어', '왔다', '.', '▁수학', '에서는', '▁예술', '에서', '▁그', '렇', '듯', '▁실용', '적', '▁고려', '를', '▁하지', '▁않으며', ',', '▁거의', '▁모두', '▁실용', '성을', '▁가지지', '▁않지만', ',', '▁극히', '▁일부', '▁실용적인', '▁부분', '도', '▁있다', '.', '▁응용', '▁수학', '에서는', '▁이렇게', '▁수학', '을', '▁물리학', ',', '▁화학', ',', '▁생물학', ',', '▁공학', ',', '▁경제학', ',', '▁사회학', '▁등', '▁다른', '▁학문', '에', '▁응용', '하는데', '▁관심이', '▁있다', '.', '▁또한', '▁수학', '은', '▁음악', '이나', '▁미술', '▁등', '▁예술', '과', '도', '▁관련이', '▁있다', '.', '▁피타고라스', '는', '▁두', '▁정수', '의', '▁비율이', '▁듣기', '▁좋은', '▁소리가', '▁난다', '는', '▁점을', '▁가지고', '▁피타고라스', '▁음', '계를', '▁만들었다', '.', '▁중세', '시대에', '도', '▁음악과', '▁수학', '을', '▁밀접', '하게', '▁연관', '시켰으며', '▁성', '▁빅토르', '의', '▁후', '고', '는', '▁“', '음악', '은', '▁조화', '다', '”', '라고', '▁했고', ',', '▁성', '▁', '트론', '드의', '▁루돌프', '는', '▁“', '음악', '은', '▁조화', '의', '▁토대', '(', 'rat', 'io', ')', '다', '”', '라고', '▁쓴', '▁바', '▁있다', '.', '▁조화', '가', '▁반드시', '▁소리', '로', '▁표현', '될', '▁필요', '는', '▁없고', '▁소리', '의', '▁음악은', '▁음악의', '▁형식', '▁중']}\n",
            "255 [2337, 2337, 14, 10657, 2710, 8, 113, 18, 288, 8, 1571, 8, 1709, 8, 1526, 5428, 10710, 37, 1968, 276, 34, 1492, 886, 5015, 873, 17701, 488, 2337, 18, 13272, 8, 10292, 8, 2847, 1110, 2567, 22518, 11109, 8380, 3121, 30, 7, 9311, 11, 7492, 19541, 1545, 5210, 24, 23307, 24844, 100, 2555, 93, 652, 9194, 22518, 425, 11195, 2023, 4485, 524, 101, 7, 138, 1001, 22518, 31, 1330, 143, 7909, 18, 1545, 20, 1968, 987, 1866, 2260, 25, 7, 1045, 408, 5037, 17, 8686, 298, 1866, 1643, 8, 8339, 8, 3323, 21988, 8, 2150, 6059, 8, 3461, 1103, 11915, 3401, 143, 3437, 125, 2770, 7, 2337, 118, 1612, 22, 39, 11853, 6872, 10726, 87, 685, 20, 1294, 3717, 8, 567, 241, 10726, 764, 17361, 4733, 8, 9697, 396, 28221, 1386, 32, 25, 7, 3437, 2337, 118, 1640, 2337, 16, 5704, 8, 2525, 8, 13243, 8, 6059, 8, 6449, 8, 11294, 84, 93, 3121, 13, 3437, 987, 7288, 25, 7, 109, 2337, 18, 579, 180, 2758, 84, 1612, 24, 32, 5055, 25, 7, 28651, 11, 99, 4720, 9, 12576, 24163, 1172, 14240, 10619, 11, 3303, 480, 28651, 1237, 4826, 1894, 7, 2999, 13736, 32, 16666, 2337, 16, 21428, 104, 9989, 12876, 232, 16612, 9, 78, 37, 11, 403, 2651, 18, 10465, 50, 496, 137, 2972, 8, 232, 10, 13956, 6893, 16074, 11, 403, 2651, 18, 10465, 9, 17298, 14, 21102, 4479, 12, 50, 496, 137, 1662, 327, 25, 7, 10465, 19, 3537, 3491, 21, 1150, 473, 2277, 11, 2800, 3491, 9, 15821, 14320, 2134, 69]\n",
            "256 [2, 2337, 2337, 14, 10657, 2710, 8, 113, 18, 288, 8, 1571, 8, 1709, 8, 1526, 5428, 10710, 37, 1968, 276, 34, 1492, 886, 5015, 873, 17701, 488, 2337, 18, 13272, 8, 10292, 8, 2847, 1110, 2567, 22518, 11109, 8380, 3121, 30, 7, 9311, 11, 7492, 19541, 1545, 5210, 24, 23307, 24844, 100, 2555, 93, 652, 9194, 22518, 425, 11195, 2023, 4485, 524, 101, 7, 138, 1001, 22518, 31, 1330, 143, 7909, 18, 1545, 20, 1968, 987, 1866, 2260, 25, 7, 1045, 408, 5037, 17, 8686, 298, 1866, 1643, 8, 8339, 8, 3323, 21988, 8, 2150, 6059, 8, 3461, 1103, 11915, 3401, 143, 3437, 125, 2770, 7, 2337, 118, 1612, 22, 39, 11853, 6872, 10726, 87, 685, 20, 1294, 3717, 8, 567, 241, 10726, 764, 17361, 4733, 8, 9697, 396, 28221, 1386, 32, 25, 7, 3437, 2337, 118, 1640, 2337, 16, 5704, 8, 2525, 8, 13243, 8, 6059, 8, 6449, 8, 11294, 84, 93, 3121, 13, 3437, 987, 7288, 25, 7, 109, 2337, 18, 579, 180, 2758, 84, 1612, 24, 32, 5055, 25, 7, 28651, 11, 99, 4720, 9, 12576, 24163, 1172, 14240, 10619, 11, 3303, 480, 28651, 1237, 4826, 1894, 7, 2999, 13736, 32, 16666, 2337, 16, 21428, 104, 9989, 12876, 232, 16612, 9, 78, 37, 11, 403, 2651, 18, 10465, 50, 496, 137, 2972, 8, 232, 10, 13956, 6893, 16074, 11, 403, 2651, 18, 10465, 9, 17298, 14, 21102, 4479, 12, 50, 496, 137, 1662, 327, 25, 7, 10465, 19, 3537, 3491, 21, 1150, 473, 2277, 11, 2800, 3491, 9, 15821, 14320, 2134, 69]\n",
            "256 [2337, 2337, 14, 10657, 2710, 8, 113, 18, 288, 8, 1571, 8, 1709, 8, 1526, 5428, 10710, 37, 1968, 276, 34, 1492, 886, 5015, 873, 17701, 488, 2337, 18, 13272, 8, 10292, 8, 2847, 1110, 2567, 22518, 11109, 8380, 3121, 30, 7, 9311, 11, 7492, 19541, 1545, 5210, 24, 23307, 24844, 100, 2555, 93, 652, 9194, 22518, 425, 11195, 2023, 4485, 524, 101, 7, 138, 1001, 22518, 31, 1330, 143, 7909, 18, 1545, 20, 1968, 987, 1866, 2260, 25, 7, 1045, 408, 5037, 17, 8686, 298, 1866, 1643, 8, 8339, 8, 3323, 21988, 8, 2150, 6059, 8, 3461, 1103, 11915, 3401, 143, 3437, 125, 2770, 7, 2337, 118, 1612, 22, 39, 11853, 6872, 10726, 87, 685, 20, 1294, 3717, 8, 567, 241, 10726, 764, 17361, 4733, 8, 9697, 396, 28221, 1386, 32, 25, 7, 3437, 2337, 118, 1640, 2337, 16, 5704, 8, 2525, 8, 13243, 8, 6059, 8, 6449, 8, 11294, 84, 93, 3121, 13, 3437, 987, 7288, 25, 7, 109, 2337, 18, 579, 180, 2758, 84, 1612, 24, 32, 5055, 25, 7, 28651, 11, 99, 4720, 9, 12576, 24163, 1172, 14240, 10619, 11, 3303, 480, 28651, 1237, 4826, 1894, 7, 2999, 13736, 32, 16666, 2337, 16, 21428, 104, 9989, 12876, 232, 16612, 9, 78, 37, 11, 403, 2651, 18, 10465, 50, 496, 137, 2972, 8, 232, 10, 13956, 6893, 16074, 11, 403, 2651, 18, 10465, 9, 17298, 14, 21102, 4479, 12, 50, 496, 137, 1662, 327, 25, 7, 10465, 19, 3537, 3491, 21, 1150, 473, 2277, 11, 2800, 3491, 9, 15821, 14320, 2134, 69, 3]\n",
            "\n",
            "{'token': ['▁오늘날', '▁수학', '은', '▁자연과학', ',', '▁공학', '뿐만', '▁아니라', ',', '▁경제학', '▁등의', '▁사회과학', '에서도', '▁중요한', '▁도구로', '▁사용된다', '.', '▁예를', '들어', ',', '▁정도의', '▁차이는', '▁있으나', ',', '▁미', '적', '분', '학과', '▁선형', '대', '수학', '은', '▁자연과학', '과', '▁공학', ',', '▁경제학', '을', '▁하는데', '에', '▁필수적', '▁과목', '으로', '▁여겨지며', ',', '▁확률', '론은', '▁계량', '경제학', '에', '▁응용', '된다', '.', '▁통계학', '은', '▁사회과학', '이론', '에', '▁근거', '를', '▁마련', '하는데', '▁필수적', '이다', '.', '▁16', '세기에', '▁갈릴레오', '▁갈릴레이', '가', '▁\"', '자연', '이라는', '▁책은', '▁수학', '이라는', '▁언어로', '▁기록되어', '▁있다', '.', '\"', '는', '▁주장', '과', '▁함께', '▁물리학', '에', '▁수학적', '▁방법을', '▁도입', '하였고', ',', '▁17', '세기에', '▁아이작', '▁뉴턴', '이', '▁고전', '▁역학', '의', '▁기본', '▁물리학', '▁법칙', '들을', '▁수학적', '으로', '▁기술', '하고', '▁정립', '하여', '▁물리학', '▁이론에서', '▁수학적', '▁모델링', '은', '▁필수적', '▁요소가', '▁되었다', '.', '▁또한', '▁이', '▁시기는', '▁과학적', '▁방법이', '▁정립', '되는', '▁시기', '이기도', '▁한', '데', ',', '▁많은', '▁과학적', '▁현상', '들이', '▁수학적', '▁관계가', '▁있음', '이', '▁드러나', '면서', '▁과학적', '▁방법에', '도', '▁수학', '은', '▁중요한', '▁역할을', '▁하고', '▁있다', '.', '▁노벨', '▁물리학', '상', '▁수상자', '▁유진', '▁위그', '너는', '▁그의', '▁에세이', '▁\"', 'The', '▁', 'un', 'rea', 'son', 'able', '▁', 'ef', 'fe', 'ctive', 'ness', '▁of', '▁ma', 'the', 'matic', 's', '▁in', '▁n', 'at', 'ural', '▁s', 'ci', 'ence', 's', '\"', '에서', '▁인간', '▁세상', '과', '▁동', '떨', '어져', '있고', '▁현실', '과', '▁아무', '▁관련이', '▁없다고', '▁여겨', '지던', '▁수학', '▁중', '▁극히', '▁일부는', '▁뜻', '밖에', '도', '▁자연과학', '과', '▁연관성', '이', '▁드러나', '고', '▁과학', '이론', '에', '▁효과적인', '▁토대', '를', '▁마련', '해', '▁주', '는데', '에', '▁대한', '▁놀라', '움', '을', '▁표현하였다', '.', '▁예를', '▁들어', ',', '▁비유', '클리', '드', '기', '하', '와', '▁3', '차원', '▁이상의', '▁임의의', '▁차원에서', '▁기하학', '을', '▁탐구', '했던', '▁미분', '▁기하학', '은', '▁당시에는', '▁현실', '과']}\n",
            "255 [2392, 2337, 18, 20727, 8, 6059, 3346, 465, 8, 6449, 282, 19332, 664, 705, 22113, 1683, 7, 1184, 6227, 8, 2833, 11910, 1492, 8, 267, 87, 302, 3027, 6553, 72, 13553, 18, 20727, 24, 6059, 8, 6449, 16, 2734, 13, 19284, 11885, 28, 27481, 8, 5360, 6989, 19382, 15570, 13, 3437, 309, 7, 27123, 18, 19332, 8093, 13, 3557, 20, 2683, 987, 19284, 30, 7, 183, 2233, 22385, 25484, 19, 45, 9295, 218, 6855, 2337, 218, 7594, 5150, 25, 7, 44, 11, 1505, 24, 112, 5704, 13, 11915, 3301, 1480, 277, 8, 212, 2233, 24177, 11220, 17, 2979, 11786, 9, 1564, 5704, 4544, 204, 11915, 28, 789, 43, 13753, 52, 5704, 14937, 11915, 24871, 18, 19284, 10376, 91, 7, 109, 29, 9955, 6256, 6263, 13753, 268, 1550, 907, 59, 298, 8, 192, 6256, 3393, 143, 11915, 4032, 8201, 17, 6052, 456, 6256, 13432, 32, 2337, 18, 705, 797, 382, 25, 7, 5012, 5704, 120, 7065, 12307, 15411, 10814, 134, 23751, 45, 1235, 10, 2577, 11123, 3816, 12215, 10, 12696, 9767, 22297, 11257, 641, 15519, 6438, 28449, 155, 2051, 4154, 2790, 27946, 2067, 4678, 9529, 155, 44, 22, 1344, 5210, 24, 370, 17782, 10055, 8730, 2772, 24, 2522, 5055, 3352, 5398, 18379, 2337, 69, 9697, 4179, 3190, 4506, 32, 20727, 24, 16430, 17, 6052, 37, 1293, 8093, 13, 16084, 17298, 20, 2683, 61, 133, 921, 13, 94, 15410, 1920, 16, 22871, 7, 1184, 573, 8, 10230, 11025, 194, 48, 237, 27, 38, 2528, 1051, 4843, 9965, 14317, 16, 11343, 506, 6833, 14317, 18, 3997, 2772, 24]\n",
            "256 [2, 2392, 2337, 18, 20727, 8, 6059, 3346, 465, 8, 6449, 282, 19332, 664, 705, 22113, 1683, 7, 1184, 6227, 8, 2833, 11910, 1492, 8, 267, 87, 302, 3027, 6553, 72, 13553, 18, 20727, 24, 6059, 8, 6449, 16, 2734, 13, 19284, 11885, 28, 27481, 8, 5360, 6989, 19382, 15570, 13, 3437, 309, 7, 27123, 18, 19332, 8093, 13, 3557, 20, 2683, 987, 19284, 30, 7, 183, 2233, 22385, 25484, 19, 45, 9295, 218, 6855, 2337, 218, 7594, 5150, 25, 7, 44, 11, 1505, 24, 112, 5704, 13, 11915, 3301, 1480, 277, 8, 212, 2233, 24177, 11220, 17, 2979, 11786, 9, 1564, 5704, 4544, 204, 11915, 28, 789, 43, 13753, 52, 5704, 14937, 11915, 24871, 18, 19284, 10376, 91, 7, 109, 29, 9955, 6256, 6263, 13753, 268, 1550, 907, 59, 298, 8, 192, 6256, 3393, 143, 11915, 4032, 8201, 17, 6052, 456, 6256, 13432, 32, 2337, 18, 705, 797, 382, 25, 7, 5012, 5704, 120, 7065, 12307, 15411, 10814, 134, 23751, 45, 1235, 10, 2577, 11123, 3816, 12215, 10, 12696, 9767, 22297, 11257, 641, 15519, 6438, 28449, 155, 2051, 4154, 2790, 27946, 2067, 4678, 9529, 155, 44, 22, 1344, 5210, 24, 370, 17782, 10055, 8730, 2772, 24, 2522, 5055, 3352, 5398, 18379, 2337, 69, 9697, 4179, 3190, 4506, 32, 20727, 24, 16430, 17, 6052, 37, 1293, 8093, 13, 16084, 17298, 20, 2683, 61, 133, 921, 13, 94, 15410, 1920, 16, 22871, 7, 1184, 573, 8, 10230, 11025, 194, 48, 237, 27, 38, 2528, 1051, 4843, 9965, 14317, 16, 11343, 506, 6833, 14317, 18, 3997, 2772, 24]\n",
            "256 [2392, 2337, 18, 20727, 8, 6059, 3346, 465, 8, 6449, 282, 19332, 664, 705, 22113, 1683, 7, 1184, 6227, 8, 2833, 11910, 1492, 8, 267, 87, 302, 3027, 6553, 72, 13553, 18, 20727, 24, 6059, 8, 6449, 16, 2734, 13, 19284, 11885, 28, 27481, 8, 5360, 6989, 19382, 15570, 13, 3437, 309, 7, 27123, 18, 19332, 8093, 13, 3557, 20, 2683, 987, 19284, 30, 7, 183, 2233, 22385, 25484, 19, 45, 9295, 218, 6855, 2337, 218, 7594, 5150, 25, 7, 44, 11, 1505, 24, 112, 5704, 13, 11915, 3301, 1480, 277, 8, 212, 2233, 24177, 11220, 17, 2979, 11786, 9, 1564, 5704, 4544, 204, 11915, 28, 789, 43, 13753, 52, 5704, 14937, 11915, 24871, 18, 19284, 10376, 91, 7, 109, 29, 9955, 6256, 6263, 13753, 268, 1550, 907, 59, 298, 8, 192, 6256, 3393, 143, 11915, 4032, 8201, 17, 6052, 456, 6256, 13432, 32, 2337, 18, 705, 797, 382, 25, 7, 5012, 5704, 120, 7065, 12307, 15411, 10814, 134, 23751, 45, 1235, 10, 2577, 11123, 3816, 12215, 10, 12696, 9767, 22297, 11257, 641, 15519, 6438, 28449, 155, 2051, 4154, 2790, 27946, 2067, 4678, 9529, 155, 44, 22, 1344, 5210, 24, 370, 17782, 10055, 8730, 2772, 24, 2522, 5055, 3352, 5398, 18379, 2337, 69, 9697, 4179, 3190, 4506, 32, 20727, 24, 16430, 17, 6052, 37, 1293, 8093, 13, 16084, 17298, 20, 2683, 61, 133, 921, 13, 94, 15410, 1920, 16, 22871, 7, 1184, 573, 8, 10230, 11025, 194, 48, 237, 27, 38, 2528, 1051, 4843, 9965, 14317, 16, 11343, 506, 6833, 14317, 18, 3997, 2772, 24, 3]\n",
            "\n",
            "{'token': ['▁ma', 'the', 'matic', 's', '라는', '▁단어는', \"▁'\", '아는', '▁모든', '▁것', \"'\", '라는', '▁뜻의', '▁고대', '▁그리스어', '▁ma', 'the', 'mat', 'ik', 'os', '에서', '▁유래되었다', '.', '▁줄여서', '▁ma', 'th', '라고', '▁표현을', '하기도', '▁한다', '.', '▁수학', '은', '▁기원전', '▁600', '년', '▁경', '에', '▁살았던', '▁탈', '레스', '로부터', '▁시작됐다', '.', '▁하지만', '▁탈', '레스', '가', '▁태어나', '기', '▁전에', '도', '▁수학', '을', '▁연구', '한', '▁사람이', '▁있을', '▁수도', '▁있기', '▁때문에', '▁인류의', '▁역사와', '▁더불어', '▁시작되었다', '고', '▁할', '▁수', '▁있다', '.', '▁교역', '•', '분', '배', '•', '과', '세', '▁등의', '▁인류의', '▁사회', '▁생활에', '▁필요한', '▁모든', '▁계산', '을', '▁수학', '이', '▁담당', '해', '▁', '왔고', ',', '▁농경', '▁생활에', '▁필수적인', '▁천문', '▁관측', '과', '▁달력', '의', '▁제정', ',', '▁토지', '의', '▁측량', '▁또한', '▁수학', '이', '▁직접적으로', '▁관여', '한', '▁분야', '이다', '.', '▁고대', '▁수학', '을', '▁크게', '▁발전시킨', '▁나라', '로', '는', '▁이집트', ',', '▁인도', ',', '▁그리스', ',', '▁중국', '▁등이', '▁있다', '.', '▁그', '▁중에서도', '▁그리스', '는', '▁처음으로', '▁방정식', '에서', '▁변수', '를', '▁문자로', '▁쓴', '▁나라', '이다', '.', '▁한국의', '▁수학', '은', '▁약', '▁1,500', '년', '▁전부터', '▁기록으로', '▁보이기', '▁시작한다', '.', '▁신라', '▁시대에', '▁수학', '을', '▁가르', '쳤으며', ',', '▁탈', '레스', '가', '▁최초로', '▁발견한', '▁일식', '과', '▁', '월', '식을', '▁예측', '할', '▁정도로', '▁발달', '했다', '.', '▁조선', '▁시대에', '▁훈', '민', '정', '음을', '▁창', '제', '한', '▁세종', '▁대왕', '은', '▁집현전', '▁학자들', '에게', '▁수학', '▁연구를', '▁명', '하는', '▁등', ',', '▁조선의', '▁수학', '▁수준을', '▁향상', '시키기', '▁위해서', '▁많은', '▁노력을', '▁기울였다', '.', '▁하지만', '▁임진왜란', '으로', '▁많은', '▁서적', '들이', '▁불타', '고', ',', '▁천문학', '▁분야에서', '▁큰', '▁손실을', '▁입었다', '.', '▁조선', '▁후기의', '▁한국의', '▁수학', '은', '▁실', '학자들', '을', '▁중심으로', '▁다시', '▁발전', '하였고', ',', '▁새로운', '▁결과', '도', '▁성취', '되었다', '.', '▁수학', '의', '▁각', '▁분야', '들은', '▁상업', '에', '▁필요한', '▁계산', '을']}\n",
            "255 [15519, 6438, 28449, 155, 126, 12758, 63, 10888, 246, 434, 57, 126, 9506, 1045, 5429, 15519, 6438, 18493, 8747, 3381, 22, 15474, 7, 8832, 15519, 1754, 137, 12207, 577, 79, 7, 2337, 18, 915, 6142, 15, 423, 13, 12417, 1995, 2045, 408, 26649, 7, 325, 1995, 2045, 19, 2540, 48, 1275, 32, 2337, 16, 524, 33, 1183, 860, 588, 1451, 135, 15131, 14457, 1834, 2227, 37, 276, 34, 25, 7, 7062, 18515, 302, 476, 18515, 24, 124, 282, 15131, 666, 18834, 1866, 246, 2082, 16, 2337, 17, 2543, 61, 10, 7602, 8, 22793, 18834, 18582, 12579, 1644, 24, 24381, 9, 2615, 8, 3323, 9, 21988, 109, 2337, 17, 10788, 5636, 33, 3238, 30, 7, 1045, 2337, 16, 691, 28973, 1655, 21, 11, 2448, 8, 991, 8, 997, 8, 351, 266, 25, 7, 39, 6543, 997, 11, 812, 4536, 22, 4895, 20, 19525, 1662, 1655, 30, 7, 1981, 2337, 18, 226, 15733, 15, 8836, 13024, 18336, 4000, 7, 2040, 2497, 2337, 16, 7464, 13221, 8, 1995, 2045, 19, 1071, 8351, 9785, 24, 10, 23, 2629, 3517, 60, 1383, 1905, 53, 7, 369, 2497, 4403, 440, 159, 3599, 983, 127, 33, 3798, 8127, 18, 28376, 12494, 80, 2337, 4025, 445, 42, 84, 8, 5069, 2337, 17696, 3438, 2934, 1651, 192, 9458, 27236, 7, 325, 4311, 28, 192, 7840, 143, 14010, 37, 8, 8339, 4083, 230, 16734, 6847, 7, 369, 7778, 1981, 2337, 18, 872, 26195, 16, 910, 203, 1095, 277, 8, 418, 796, 32, 11260, 97, 7, 2337, 9, 346, 3238, 181, 3461, 13, 1866, 2082, 16]\n",
            "256 [2, 15519, 6438, 28449, 155, 126, 12758, 63, 10888, 246, 434, 57, 126, 9506, 1045, 5429, 15519, 6438, 18493, 8747, 3381, 22, 15474, 7, 8832, 15519, 1754, 137, 12207, 577, 79, 7, 2337, 18, 915, 6142, 15, 423, 13, 12417, 1995, 2045, 408, 26649, 7, 325, 1995, 2045, 19, 2540, 48, 1275, 32, 2337, 16, 524, 33, 1183, 860, 588, 1451, 135, 15131, 14457, 1834, 2227, 37, 276, 34, 25, 7, 7062, 18515, 302, 476, 18515, 24, 124, 282, 15131, 666, 18834, 1866, 246, 2082, 16, 2337, 17, 2543, 61, 10, 7602, 8, 22793, 18834, 18582, 12579, 1644, 24, 24381, 9, 2615, 8, 3323, 9, 21988, 109, 2337, 17, 10788, 5636, 33, 3238, 30, 7, 1045, 2337, 16, 691, 28973, 1655, 21, 11, 2448, 8, 991, 8, 997, 8, 351, 266, 25, 7, 39, 6543, 997, 11, 812, 4536, 22, 4895, 20, 19525, 1662, 1655, 30, 7, 1981, 2337, 18, 226, 15733, 15, 8836, 13024, 18336, 4000, 7, 2040, 2497, 2337, 16, 7464, 13221, 8, 1995, 2045, 19, 1071, 8351, 9785, 24, 10, 23, 2629, 3517, 60, 1383, 1905, 53, 7, 369, 2497, 4403, 440, 159, 3599, 983, 127, 33, 3798, 8127, 18, 28376, 12494, 80, 2337, 4025, 445, 42, 84, 8, 5069, 2337, 17696, 3438, 2934, 1651, 192, 9458, 27236, 7, 325, 4311, 28, 192, 7840, 143, 14010, 37, 8, 8339, 4083, 230, 16734, 6847, 7, 369, 7778, 1981, 2337, 18, 872, 26195, 16, 910, 203, 1095, 277, 8, 418, 796, 32, 11260, 97, 7, 2337, 9, 346, 3238, 181, 3461, 13, 1866, 2082, 16]\n",
            "256 [15519, 6438, 28449, 155, 126, 12758, 63, 10888, 246, 434, 57, 126, 9506, 1045, 5429, 15519, 6438, 18493, 8747, 3381, 22, 15474, 7, 8832, 15519, 1754, 137, 12207, 577, 79, 7, 2337, 18, 915, 6142, 15, 423, 13, 12417, 1995, 2045, 408, 26649, 7, 325, 1995, 2045, 19, 2540, 48, 1275, 32, 2337, 16, 524, 33, 1183, 860, 588, 1451, 135, 15131, 14457, 1834, 2227, 37, 276, 34, 25, 7, 7062, 18515, 302, 476, 18515, 24, 124, 282, 15131, 666, 18834, 1866, 246, 2082, 16, 2337, 17, 2543, 61, 10, 7602, 8, 22793, 18834, 18582, 12579, 1644, 24, 24381, 9, 2615, 8, 3323, 9, 21988, 109, 2337, 17, 10788, 5636, 33, 3238, 30, 7, 1045, 2337, 16, 691, 28973, 1655, 21, 11, 2448, 8, 991, 8, 997, 8, 351, 266, 25, 7, 39, 6543, 997, 11, 812, 4536, 22, 4895, 20, 19525, 1662, 1655, 30, 7, 1981, 2337, 18, 226, 15733, 15, 8836, 13024, 18336, 4000, 7, 2040, 2497, 2337, 16, 7464, 13221, 8, 1995, 2045, 19, 1071, 8351, 9785, 24, 10, 23, 2629, 3517, 60, 1383, 1905, 53, 7, 369, 2497, 4403, 440, 159, 3599, 983, 127, 33, 3798, 8127, 18, 28376, 12494, 80, 2337, 4025, 445, 42, 84, 8, 5069, 2337, 17696, 3438, 2934, 1651, 192, 9458, 27236, 7, 325, 4311, 28, 192, 7840, 143, 14010, 37, 8, 8339, 4083, 230, 16734, 6847, 7, 369, 7778, 1981, 2337, 18, 872, 26195, 16, 910, 203, 1095, 277, 8, 418, 796, 32, 11260, 97, 7, 2337, 9, 346, 3238, 181, 3461, 13, 1866, 2082, 16, 3]\n",
            "\n",
            "{'token': ['▁산술', '은', '▁자연수', '와', '▁정수', '▁및', '▁이에', '▁대한', '▁사', '칙', '연', '산에', '▁대한', '▁연구', '로서', '▁시작했다', '.', '▁수', '론은', '▁이런', '▁주제', '들을', '▁보다', '▁깊게', '▁다루는', '▁학문', '으로', ',', '▁그', '▁결과로', '는', '▁페르', '마', '의', '▁마지막', '▁정리', '▁등이', '▁유명하다', '.', '▁또한', '▁쌍둥이', '▁소수', '▁추측', '과', '▁골드', '바흐', '▁추측', '▁등을', '▁비롯해', '▁오랜', '▁세월', '▁동안', '▁해결', '되지', '▁않고', '▁남아있는', '▁문제들', '도', '▁여럿', '▁있다', '.', '▁수', '의', '▁체계', '가', '▁보다', '▁발전', '하면서', ',', '▁정수', '의', '▁집합', '을', '▁유리', '수의', '▁집합', '의', '▁부분', '집합', '으로', '▁여기', '게', '▁되었다', '.', '▁또한', '▁유리', '수의', '▁집합', '은', '▁실수', '의', '▁집합', '의', '▁부분', '집합', '이며', ',', '▁이는', '▁또다시', '▁복소수', '▁집합', '의', '▁일부분', '으로', '▁볼', '▁수', '▁있다', '.', '▁여기에서', '▁더', '▁나아가', '면', '▁사원', '수와', '▁팔', '원수', '▁등의', '▁개념을', '▁생각할', '▁수도', '▁있다', '.', '▁이와', '는', '▁약간', '▁다른', '▁방향으로', ',', '▁자연수', '를', '▁무한', '대', '까지', '▁세', '어', '나간다', '는', '▁개념을', '▁형식', '화', '하여', '▁순서', '수의', '▁개념을', '▁얻으며', ',', '▁집합', '의', '▁크기', '▁비교', '를', '▁이용하여', '▁무한', '대를', '▁다루기', '▁위한', '▁또다른', '▁방법으로', '는', '▁기수', '의', '▁개념', '도', '▁있다', '.', '▁수', '▁대신', '▁문자를', '▁써서', '▁문제', '해', '결', '을', '▁쉽게', '▁하는', '▁것과', ',', '▁마찬가지로', '▁수학적', '▁법칙을', '▁일반', '적이고', '▁간', '명', '하게', '▁나타내는', '▁것을', '▁포함한다', '.', '▁고전', '대', '수학', '은', '▁대수', '방정식', '▁및', '▁연립', '방정식', '의', '▁해', '법', '에서', '▁시작하여', '▁군', ',', '▁환', ',', '▁체', '▁등의', '▁추상', '대', '수학', '을', '▁거쳐', '▁현대에', '▁와서', '는', '▁대수', '계의', '▁구조를', '▁보는', '▁것을', '▁중심으로', '▁하는', '▁선형', '대', '수학', '으로', '▁전개', '되었다', '.', '▁수', '의', '▁집합', '이나', '▁함수', '와', '▁같은', '▁많은', '▁수학적', '▁대상', '들은', '▁내재', '적인', '▁구조를', '▁보인다', '.', '▁이러한', '▁대상', '들의', '▁구조적', '▁특성', '들이', '▁군', '론']}\n",
            "255 [25180, 18, 19486, 27, 4720, 95, 482, 94, 207, 5608, 360, 12680, 94, 524, 380, 772, 7, 34, 6989, 1001, 3741, 204, 1660, 20296, 6464, 3121, 28, 8, 39, 6745, 11, 5038, 187, 9, 803, 1769, 266, 2639, 7, 109, 10330, 3480, 3911, 24, 6316, 11916, 3911, 336, 6009, 2968, 10475, 344, 2593, 593, 514, 9271, 15518, 32, 21271, 25, 7, 34, 9, 3224, 19, 1660, 1095, 248, 8, 4720, 9, 1766, 16, 2135, 5049, 1766, 9, 1386, 7978, 28, 7498, 128, 91, 7, 109, 2135, 5049, 1766, 18, 4386, 9, 1766, 9, 1386, 7978, 114, 8, 378, 8500, 12583, 1766, 9, 12944, 28, 438, 34, 25, 7, 8444, 149, 4632, 122, 5108, 7877, 1087, 15741, 282, 5536, 10716, 588, 25, 7, 1222, 11, 2918, 93, 3162, 8, 19486, 20, 5881, 72, 161, 231, 110, 25673, 11, 5536, 2134, 121, 52, 4445, 5049, 5536, 28302, 8, 1766, 9, 3220, 3490, 20, 1884, 5881, 1854, 25236, 270, 6133, 3516, 11, 9928, 9, 3401, 32, 25, 7, 34, 851, 12999, 9020, 1313, 61, 1185, 16, 2191, 208, 1478, 8, 1635, 11915, 17876, 990, 2697, 536, 123, 104, 3448, 142, 3755, 7, 2979, 72, 13553, 18, 3294, 20187, 95, 17100, 20187, 9, 210, 368, 22, 3280, 467, 8, 1559, 8, 1200, 282, 15170, 72, 13553, 16, 758, 16380, 5416, 11, 3294, 2784, 2023, 3322, 142, 910, 208, 6553, 72, 13553, 28, 2230, 97, 7, 34, 9, 1766, 180, 1846, 27, 98, 192, 11915, 1869, 181, 21469, 148, 2023, 1064, 7, 314, 1869, 337, 17981, 3275, 143, 467, 603]\n",
            "256 [2, 25180, 18, 19486, 27, 4720, 95, 482, 94, 207, 5608, 360, 12680, 94, 524, 380, 772, 7, 34, 6989, 1001, 3741, 204, 1660, 20296, 6464, 3121, 28, 8, 39, 6745, 11, 5038, 187, 9, 803, 1769, 266, 2639, 7, 109, 10330, 3480, 3911, 24, 6316, 11916, 3911, 336, 6009, 2968, 10475, 344, 2593, 593, 514, 9271, 15518, 32, 21271, 25, 7, 34, 9, 3224, 19, 1660, 1095, 248, 8, 4720, 9, 1766, 16, 2135, 5049, 1766, 9, 1386, 7978, 28, 7498, 128, 91, 7, 109, 2135, 5049, 1766, 18, 4386, 9, 1766, 9, 1386, 7978, 114, 8, 378, 8500, 12583, 1766, 9, 12944, 28, 438, 34, 25, 7, 8444, 149, 4632, 122, 5108, 7877, 1087, 15741, 282, 5536, 10716, 588, 25, 7, 1222, 11, 2918, 93, 3162, 8, 19486, 20, 5881, 72, 161, 231, 110, 25673, 11, 5536, 2134, 121, 52, 4445, 5049, 5536, 28302, 8, 1766, 9, 3220, 3490, 20, 1884, 5881, 1854, 25236, 270, 6133, 3516, 11, 9928, 9, 3401, 32, 25, 7, 34, 851, 12999, 9020, 1313, 61, 1185, 16, 2191, 208, 1478, 8, 1635, 11915, 17876, 990, 2697, 536, 123, 104, 3448, 142, 3755, 7, 2979, 72, 13553, 18, 3294, 20187, 95, 17100, 20187, 9, 210, 368, 22, 3280, 467, 8, 1559, 8, 1200, 282, 15170, 72, 13553, 16, 758, 16380, 5416, 11, 3294, 2784, 2023, 3322, 142, 910, 208, 6553, 72, 13553, 28, 2230, 97, 7, 34, 9, 1766, 180, 1846, 27, 98, 192, 11915, 1869, 181, 21469, 148, 2023, 1064, 7, 314, 1869, 337, 17981, 3275, 143, 467, 603]\n",
            "256 [25180, 18, 19486, 27, 4720, 95, 482, 94, 207, 5608, 360, 12680, 94, 524, 380, 772, 7, 34, 6989, 1001, 3741, 204, 1660, 20296, 6464, 3121, 28, 8, 39, 6745, 11, 5038, 187, 9, 803, 1769, 266, 2639, 7, 109, 10330, 3480, 3911, 24, 6316, 11916, 3911, 336, 6009, 2968, 10475, 344, 2593, 593, 514, 9271, 15518, 32, 21271, 25, 7, 34, 9, 3224, 19, 1660, 1095, 248, 8, 4720, 9, 1766, 16, 2135, 5049, 1766, 9, 1386, 7978, 28, 7498, 128, 91, 7, 109, 2135, 5049, 1766, 18, 4386, 9, 1766, 9, 1386, 7978, 114, 8, 378, 8500, 12583, 1766, 9, 12944, 28, 438, 34, 25, 7, 8444, 149, 4632, 122, 5108, 7877, 1087, 15741, 282, 5536, 10716, 588, 25, 7, 1222, 11, 2918, 93, 3162, 8, 19486, 20, 5881, 72, 161, 231, 110, 25673, 11, 5536, 2134, 121, 52, 4445, 5049, 5536, 28302, 8, 1766, 9, 3220, 3490, 20, 1884, 5881, 1854, 25236, 270, 6133, 3516, 11, 9928, 9, 3401, 32, 25, 7, 34, 851, 12999, 9020, 1313, 61, 1185, 16, 2191, 208, 1478, 8, 1635, 11915, 17876, 990, 2697, 536, 123, 104, 3448, 142, 3755, 7, 2979, 72, 13553, 18, 3294, 20187, 95, 17100, 20187, 9, 210, 368, 22, 3280, 467, 8, 1559, 8, 1200, 282, 15170, 72, 13553, 16, 758, 16380, 5416, 11, 3294, 2784, 2023, 3322, 142, 910, 208, 6553, 72, 13553, 28, 2230, 97, 7, 34, 9, 1766, 180, 1846, 27, 98, 192, 11915, 1869, 181, 21469, 148, 2023, 1064, 7, 314, 1869, 337, 17981, 3275, 143, 467, 603, 3]\n",
            "\n",
            "{'token': ['▁공간에', '▁대한', '▁연구는', '▁기하학', '에서', '▁시작되었고', ',', '▁특히', '▁유클리드', '▁기하학', '에서', '▁비롯되었다', '.', '▁삼각', '법은', '▁공간', '과', '▁수', '들을', '▁결합', '하였고', ',', '▁잘', '▁알려진', '▁피타고라스', '의', '▁정리', '를', '▁포함한다', '.', '▁현대에', '▁와서', '▁공간에', '▁대한', '▁연구는', ',', '▁이러한', '▁개념', '들은', '▁더', '▁높은', '▁차원', '의', '▁기하학', '을', '▁다루기', '▁위해', '▁비유', '클리', '드', '▁기하학', '(', '상대', '성이', '론에서', '▁핵심적인', '▁역할을', '▁함', ')', '과', '▁위상수학', '으로', '▁일반화', '되었다', '.', '▁수', '론과', '▁공간에', '▁대한', '▁이해', '는', '▁모두', '▁해석', '▁기하학', ',', '▁미분', '기하학', ',', '▁대수', '기하학', '에', '▁중요한', '▁역할을', '▁한다', '.', '▁리', '▁군도', '▁공간', '과', '▁구조', ',', '▁변화를', '▁다루는', '데', '▁사용된다', '.', '▁위상수학', '은', '▁20', '세기', '▁수학', '의', '▁다양한', '▁지류', '속에서', '▁', '괄', '목', '할만한', '▁성장을', '▁한', '▁분야', '이며', ',', '▁푸', '앵', '카', '레', '▁추측', '과', '▁인간', '에', '▁의해서', '▁증명', '되지', '▁못하고', '▁오직', '▁컴퓨터', '로', '만', '▁증명', '된', '▁4', '색', '정리', '를', '▁포함한다', '.', '▁변화에', '▁대한', '▁이해', '와', '▁묘사', '는', '▁자연과학', '에', '▁있어서', '▁일반적인', '▁주제', '이며', ',', '▁미', '적', '분', '학은', '▁변화를', '▁탐구', '하는', '▁강력한', '▁도구', '로서', '▁발전', '되었다', '.', '▁함수는', '▁변화하는', '▁양', '을', '▁묘사', '함에', '▁있어서', '▁중추', '적인', '▁개념', '으로써', '▁떠오르', '게', '▁된다', '.', '▁실수', '와', '▁실', '변수', '로', '▁구성된', '▁함수의', '▁엄', '밀', '한', '▁탐구', '가', '▁실', '해석학', '이라는', '▁분야로', '▁알려지게', '▁되었고', ',', '▁복소수', '에', '▁대한', '▁이와', '▁같은', '▁탐구', '▁분야', '는', '▁복소', '해석학', '이라고', '▁한다', '.', '▁함수', '해석학', '은', '▁함수의', '▁공간', '(', '특히', '▁무한', '차원', ')', '의', '▁탐구', '에', '▁주목', '한다', '.', '▁함수', '해석학', '의', '▁많은', '▁응용', '분야', '▁중', '▁하나가', '▁양자역학', '이다', '.', '▁많은', '▁문제들', '이', '▁자연스럽게', '▁양', '과', '▁그', '▁양의', '▁변화', '율', '의', '▁관계로', '▁귀', '착', '되고', ',', '▁이러한']}\n",
            "255 [17718, 94, 9601, 14317, 22, 17393, 8, 381, 18250, 14317, 22, 19993, 7, 10186, 5156, 1709, 24, 34, 204, 1734, 277, 8, 441, 1246, 28651, 9, 1769, 20, 3755, 7, 16380, 5416, 17718, 94, 9601, 8, 314, 3401, 181, 149, 611, 6213, 9, 14317, 16, 25236, 115, 10230, 11025, 194, 14317, 14, 17385, 1263, 13348, 21720, 797, 1448, 12, 24, 29322, 28, 9696, 97, 7, 34, 11425, 17718, 94, 2301, 11, 241, 1579, 14317, 8, 6833, 27453, 8, 3294, 27453, 13, 705, 797, 79, 7, 383, 18295, 1709, 24, 1571, 8, 4434, 6464, 298, 1683, 7, 29322, 18, 227, 398, 2337, 9, 552, 9735, 15014, 10, 10377, 584, 23184, 13399, 59, 3238, 114, 8, 1524, 8963, 274, 289, 3911, 24, 1344, 13, 2327, 2847, 593, 1785, 4692, 970, 21, 62, 2847, 85, 46, 905, 9487, 20, 3755, 7, 11995, 94, 2301, 27, 2736, 11, 20727, 13, 1027, 2138, 3741, 114, 8, 267, 87, 302, 15645, 4434, 11343, 42, 2246, 4681, 380, 1095, 97, 7, 18117, 22140, 288, 16, 2736, 2815, 1027, 16633, 148, 3401, 2205, 17099, 128, 174, 7, 4386, 27, 872, 19341, 21, 2567, 14354, 3158, 1543, 33, 11343, 19, 872, 29847, 218, 22071, 12229, 986, 8, 12583, 13, 94, 1222, 98, 11343, 3238, 11, 18950, 29847, 263, 79, 7, 1846, 29847, 18, 14354, 1709, 14, 11679, 5881, 2528, 12, 9, 11343, 13, 5656, 101, 7, 1846, 29847, 9, 192, 3437, 6398, 69, 5913, 19536, 30, 7, 192, 15518, 17, 11015, 288, 24, 39, 6555, 1526, 2545, 9, 8722, 1210, 2334, 269, 8, 314]\n",
            "256 [2, 17718, 94, 9601, 14317, 22, 17393, 8, 381, 18250, 14317, 22, 19993, 7, 10186, 5156, 1709, 24, 34, 204, 1734, 277, 8, 441, 1246, 28651, 9, 1769, 20, 3755, 7, 16380, 5416, 17718, 94, 9601, 8, 314, 3401, 181, 149, 611, 6213, 9, 14317, 16, 25236, 115, 10230, 11025, 194, 14317, 14, 17385, 1263, 13348, 21720, 797, 1448, 12, 24, 29322, 28, 9696, 97, 7, 34, 11425, 17718, 94, 2301, 11, 241, 1579, 14317, 8, 6833, 27453, 8, 3294, 27453, 13, 705, 797, 79, 7, 383, 18295, 1709, 24, 1571, 8, 4434, 6464, 298, 1683, 7, 29322, 18, 227, 398, 2337, 9, 552, 9735, 15014, 10, 10377, 584, 23184, 13399, 59, 3238, 114, 8, 1524, 8963, 274, 289, 3911, 24, 1344, 13, 2327, 2847, 593, 1785, 4692, 970, 21, 62, 2847, 85, 46, 905, 9487, 20, 3755, 7, 11995, 94, 2301, 27, 2736, 11, 20727, 13, 1027, 2138, 3741, 114, 8, 267, 87, 302, 15645, 4434, 11343, 42, 2246, 4681, 380, 1095, 97, 7, 18117, 22140, 288, 16, 2736, 2815, 1027, 16633, 148, 3401, 2205, 17099, 128, 174, 7, 4386, 27, 872, 19341, 21, 2567, 14354, 3158, 1543, 33, 11343, 19, 872, 29847, 218, 22071, 12229, 986, 8, 12583, 13, 94, 1222, 98, 11343, 3238, 11, 18950, 29847, 263, 79, 7, 1846, 29847, 18, 14354, 1709, 14, 11679, 5881, 2528, 12, 9, 11343, 13, 5656, 101, 7, 1846, 29847, 9, 192, 3437, 6398, 69, 5913, 19536, 30, 7, 192, 15518, 17, 11015, 288, 24, 39, 6555, 1526, 2545, 9, 8722, 1210, 2334, 269, 8, 314]\n",
            "256 [17718, 94, 9601, 14317, 22, 17393, 8, 381, 18250, 14317, 22, 19993, 7, 10186, 5156, 1709, 24, 34, 204, 1734, 277, 8, 441, 1246, 28651, 9, 1769, 20, 3755, 7, 16380, 5416, 17718, 94, 9601, 8, 314, 3401, 181, 149, 611, 6213, 9, 14317, 16, 25236, 115, 10230, 11025, 194, 14317, 14, 17385, 1263, 13348, 21720, 797, 1448, 12, 24, 29322, 28, 9696, 97, 7, 34, 11425, 17718, 94, 2301, 11, 241, 1579, 14317, 8, 6833, 27453, 8, 3294, 27453, 13, 705, 797, 79, 7, 383, 18295, 1709, 24, 1571, 8, 4434, 6464, 298, 1683, 7, 29322, 18, 227, 398, 2337, 9, 552, 9735, 15014, 10, 10377, 584, 23184, 13399, 59, 3238, 114, 8, 1524, 8963, 274, 289, 3911, 24, 1344, 13, 2327, 2847, 593, 1785, 4692, 970, 21, 62, 2847, 85, 46, 905, 9487, 20, 3755, 7, 11995, 94, 2301, 27, 2736, 11, 20727, 13, 1027, 2138, 3741, 114, 8, 267, 87, 302, 15645, 4434, 11343, 42, 2246, 4681, 380, 1095, 97, 7, 18117, 22140, 288, 16, 2736, 2815, 1027, 16633, 148, 3401, 2205, 17099, 128, 174, 7, 4386, 27, 872, 19341, 21, 2567, 14354, 3158, 1543, 33, 11343, 19, 872, 29847, 218, 22071, 12229, 986, 8, 12583, 13, 94, 1222, 98, 11343, 3238, 11, 18950, 29847, 263, 79, 7, 1846, 29847, 18, 14354, 1709, 14, 11679, 5881, 2528, 12, 9, 11343, 13, 5656, 101, 7, 1846, 29847, 9, 192, 3437, 6398, 69, 5913, 19536, 30, 7, 192, 15518, 17, 11015, 288, 24, 39, 6555, 1526, 2545, 9, 8722, 1210, 2334, 269, 8, 314, 3]\n",
            "\n",
            "{'token': ['▁수학', '의', '▁기초를', '▁확실히', '▁세우기', '▁위해', ',', '▁수리', '논리', '학과', '▁집합론', '이', '▁발전', '하였고', ',', '▁이와', '▁더불어', '▁범주', '론이', '▁최근에', '도', '▁발전', '되고', '▁있다', '.', '▁“', '근', '본', '▁위기', '”', '라는', '▁말은', '▁대략', '▁1900', '년', '에서', '▁1930', '년', '▁사이에', '▁일어난', ',', '▁수학', '의', '▁엄', '밀', '한', '▁기초', '에', '▁대한', '▁탐구', '를', '▁상징적', '으로', '▁보여주는', '▁말이다', '.', '▁수학', '의', '▁엄', '밀', '한', '▁기초', '에', '▁대한', '▁몇', '▁가지', '▁의견', '▁불일치', '는', '▁오늘날에도', '▁계속되고', '▁있다', '.', '▁수학', '의', '▁기초', '에', '▁대한', '▁위기', '는', '▁그', '▁당시', '▁수많은', '▁논쟁', '에', '▁의해', '▁촉발', '되었으며', ',', '▁그', '▁논쟁', '에는', '▁칸', '토', '어의', '▁집합론', '과', '▁', '브라우', '어', '-', '힐', '베르트', '▁논쟁이', '▁포함되었다', '.']}\n",
            "106 [2337, 9, 12386, 11701, 21748, 115, 8, 5620, 21210, 3027, 27252, 17, 1095, 277, 8, 1222, 1834, 3929, 10331, 7676, 32, 1095, 269, 25, 7, 403, 716, 672, 5071, 496, 126, 8210, 3270, 4841, 15, 22, 2479, 15, 749, 1907, 8, 2337, 9, 3158, 1543, 33, 3626, 13, 94, 11343, 20, 25798, 28, 5466, 2367, 7, 2337, 9, 3158, 1543, 33, 3626, 13, 94, 740, 659, 5668, 29821, 11, 23190, 23019, 25, 7, 2337, 9, 3626, 13, 94, 5071, 11, 39, 179, 1552, 5388, 13, 185, 20599, 572, 8, 39, 5388, 117, 1630, 258, 5935, 27252, 24, 10, 28350, 110, 66, 3813, 9987, 15505, 5787, 7]\n",
            "256 [2, 2337, 9, 12386, 11701, 21748, 115, 8, 5620, 21210, 3027, 27252, 17, 1095, 277, 8, 1222, 1834, 3929, 10331, 7676, 32, 1095, 269, 25, 7, 403, 716, 672, 5071, 496, 126, 8210, 3270, 4841, 15, 22, 2479, 15, 749, 1907, 8, 2337, 9, 3158, 1543, 33, 3626, 13, 94, 11343, 20, 25798, 28, 5466, 2367, 7, 2337, 9, 3158, 1543, 33, 3626, 13, 94, 740, 659, 5668, 29821, 11, 23190, 23019, 25, 7, 2337, 9, 3626, 13, 94, 5071, 11, 39, 179, 1552, 5388, 13, 185, 20599, 572, 8, 39, 5388, 117, 1630, 258, 5935, 27252, 24, 10, 28350, 110, 66, 3813, 9987, 15505, 5787, 7, 0, 0, 0, 0, 0, 0, 0, 0, 0, 0, 0, 0, 0, 0, 0, 0, 0, 0, 0, 0, 0, 0, 0, 0, 0, 0, 0, 0, 0, 0, 0, 0, 0, 0, 0, 0, 0, 0, 0, 0, 0, 0, 0, 0, 0, 0, 0, 0, 0, 0, 0, 0, 0, 0, 0, 0, 0, 0, 0, 0, 0, 0, 0, 0, 0, 0, 0, 0, 0, 0, 0, 0, 0, 0, 0, 0, 0, 0, 0, 0, 0, 0, 0, 0, 0, 0, 0, 0, 0, 0, 0, 0, 0, 0, 0, 0, 0, 0, 0, 0, 0, 0, 0, 0, 0, 0, 0, 0, 0, 0, 0, 0, 0, 0, 0, 0, 0, 0, 0, 0, 0, 0, 0, 0, 0, 0, 0, 0, 0, 0, 0, 0, 0, 0, 0, 0, 0, 0, 0, 0, 0, 0, 0, 0, 0, 0, 0, 0, 0]\n",
            "256 [2337, 9, 12386, 11701, 21748, 115, 8, 5620, 21210, 3027, 27252, 17, 1095, 277, 8, 1222, 1834, 3929, 10331, 7676, 32, 1095, 269, 25, 7, 403, 716, 672, 5071, 496, 126, 8210, 3270, 4841, 15, 22, 2479, 15, 749, 1907, 8, 2337, 9, 3158, 1543, 33, 3626, 13, 94, 11343, 20, 25798, 28, 5466, 2367, 7, 2337, 9, 3158, 1543, 33, 3626, 13, 94, 740, 659, 5668, 29821, 11, 23190, 23019, 25, 7, 2337, 9, 3626, 13, 94, 5071, 11, 39, 179, 1552, 5388, 13, 185, 20599, 572, 8, 39, 5388, 117, 1630, 258, 5935, 27252, 24, 10, 28350, 110, 66, 3813, 9987, 15505, 5787, 7, 3, 0, 0, 0, 0, 0, 0, 0, 0, 0, 0, 0, 0, 0, 0, 0, 0, 0, 0, 0, 0, 0, 0, 0, 0, 0, 0, 0, 0, 0, 0, 0, 0, 0, 0, 0, 0, 0, 0, 0, 0, 0, 0, 0, 0, 0, 0, 0, 0, 0, 0, 0, 0, 0, 0, 0, 0, 0, 0, 0, 0, 0, 0, 0, 0, 0, 0, 0, 0, 0, 0, 0, 0, 0, 0, 0, 0, 0, 0, 0, 0, 0, 0, 0, 0, 0, 0, 0, 0, 0, 0, 0, 0, 0, 0, 0, 0, 0, 0, 0, 0, 0, 0, 0, 0, 0, 0, 0, 0, 0, 0, 0, 0, 0, 0, 0, 0, 0, 0, 0, 0, 0, 0, 0, 0, 0, 0, 0, 0, 0, 0, 0, 0, 0, 0, 0, 0, 0, 0, 0, 0, 0, 0, 0, 0, 0, 0, 0, 0, 0]\n"
          ],
          "name": "stdout"
        },
        {
          "output_type": "execute_result",
          "data": {
            "text/plain": [
              "(array([[    2, 14473, 14639, ...,    24,   112,  6087],\n",
              "        [    2,   138,   931, ...,   167,  8945,    59],\n",
              "        [    2, 12780,    82, ...,    16,  2194,    43],\n",
              "        ...,\n",
              "        [    2, 25180,    18, ...,   143,   467,   603],\n",
              "        [    2, 17718,    94, ...,   269,     8,   314],\n",
              "        [    2,  2337,     9, ...,     0,     0,     0]], dtype=int32),\n",
              " array([[14473, 14639,  2033, ...,   112,  6087,     3],\n",
              "        [  138,   931,  6428, ...,  8945,    59,     3],\n",
              "        [12780,    82,  3392, ...,  2194,    43,     3],\n",
              "        ...,\n",
              "        [25180,    18, 19486, ...,   467,   603,     3],\n",
              "        [17718,    94,  9601, ...,     8,   314,     3],\n",
              "        [ 2337,     9, 12386, ...,     0,     0,     0]], dtype=int32))"
            ]
          },
          "metadata": {
            "tags": []
          },
          "execution_count": 26
        }
      ]
    },
    {
      "cell_type": "markdown",
      "metadata": {
        "id": "kTgzpx2Wl6uv"
      },
      "source": [
        "## Loss & Acc"
      ]
    },
    {
      "cell_type": "code",
      "metadata": {
        "id": "G65wyrG_l-uM",
        "colab": {
          "base_uri": "https://localhost:8080/"
        },
        "outputId": "85080034-e0ff-4735-a5d4-c49792910429"
      },
      "source": [
        "# 4개 의 단어를 예측하기 위한 정답과 예측값 가정\n",
        "# 정답\n",
        "y_true = np.random.randint(1, 3, (1, 20)).astype(np.float32)\n",
        "y_true[:, 8:] = 0\n",
        "# 예측 값\n",
        "y_pred = np.random.random((1, 20, 4)).astype(np.float32)\n",
        "y_pred = tf.nn.softmax(y_pred, axis=-1).numpy()  # 확률 값으로 변경\n",
        "\n",
        "y_true, y_pred"
      ],
      "execution_count": 27,
      "outputs": [
        {
          "output_type": "execute_result",
          "data": {
            "text/plain": [
              "(array([[2., 2., 1., 2., 1., 1., 1., 2., 0., 0., 0., 0., 0., 0., 0., 0.,\n",
              "         0., 0., 0., 0.]], dtype=float32),\n",
              " array([[[0.2014149 , 0.2324197 , 0.27894443, 0.28722093],\n",
              "         [0.24675597, 0.2986718 , 0.28180978, 0.17276245],\n",
              "         [0.27507097, 0.30699873, 0.18292724, 0.23500307],\n",
              "         [0.15437317, 0.20702004, 0.36399195, 0.2746149 ],\n",
              "         [0.21794164, 0.3223877 , 0.20111176, 0.25855884],\n",
              "         [0.3259501 , 0.21140808, 0.3048331 , 0.15780872],\n",
              "         [0.25889552, 0.2589785 , 0.15932654, 0.32279947],\n",
              "         [0.24688564, 0.39390135, 0.16844237, 0.1907706 ],\n",
              "         [0.1605852 , 0.30077136, 0.27757582, 0.26106766],\n",
              "         [0.17876586, 0.30012107, 0.23803584, 0.2830772 ],\n",
              "         [0.19547004, 0.32076427, 0.3078022 , 0.17596354],\n",
              "         [0.20055635, 0.26928666, 0.23845431, 0.29170266],\n",
              "         [0.32548183, 0.2754673 , 0.1659615 , 0.23308928],\n",
              "         [0.30148587, 0.22730768, 0.27395034, 0.19725612],\n",
              "         [0.2416972 , 0.41077355, 0.17416099, 0.17336829],\n",
              "         [0.31672984, 0.27227968, 0.24253808, 0.16845237],\n",
              "         [0.1811328 , 0.35424083, 0.21849547, 0.2461309 ],\n",
              "         [0.17501946, 0.23494002, 0.26923424, 0.32080632],\n",
              "         [0.33123577, 0.24724233, 0.26790434, 0.15361756],\n",
              "         [0.26899838, 0.29284662, 0.24041528, 0.19773977]]], dtype=float32))"
            ]
          },
          "metadata": {
            "tags": []
          },
          "execution_count": 27
        }
      ]
    },
    {
      "cell_type": "code",
      "metadata": {
        "id": "hQRKhodYtQHr"
      },
      "source": [
        "def lm_loss(y_true, y_pred):\n",
        "    \"\"\"\n",
        "    pad 부분을 제외하고 loss를 계산하는 함수\n",
        "    :param y_true: 정답\n",
        "    :param y_pred: 예측 값\n",
        "    :retrun loss: pad 부분이 제외된 loss 값\n",
        "    \"\"\"\n",
        "    # loss = sparse_entropy = tf.keras.losses.SparseCategoricalCrossentropy()(y_true, y_pred)\n",
        "    loss = tf.keras.losses.SparseCategoricalCrossentropy(reduction=tf.keras.losses.Reduction.NONE)(y_true, y_pred)\n",
        "    mask = tf.not_equal(y_true, 0)\n",
        "    mask = tf.cast(mask, tf.float32)\n",
        "    # print(mask)\n",
        "    loss *= mask\n",
        "    return loss"
      ],
      "execution_count": 28,
      "outputs": []
    },
    {
      "cell_type": "code",
      "metadata": {
        "id": "27gjDDDtttgq",
        "colab": {
          "base_uri": "https://localhost:8080/"
        },
        "outputId": "24b07d8f-8e07-43fb-f74c-b8a8b548bea8"
      },
      "source": [
        "# lm_loss 함수 확인\n",
        "loss = lm_loss(y_true, y_pred)\n",
        "print(loss)"
      ],
      "execution_count": 29,
      "outputs": [
        {
          "output_type": "stream",
          "text": [
            "tf.Tensor(\n",
            "[[1.2767426 1.266523  1.1809117 1.0106235 1.1320004 1.553965  1.3510103\n",
            "  1.7811615 0.        0.        0.        0.        0.        0.\n",
            "  0.        0.        0.        0.        0.        0.       ]], shape=(1, 20), dtype=float32)\n"
          ],
          "name": "stdout"
        }
      ]
    },
    {
      "cell_type": "code",
      "metadata": {
        "id": "xQqs7xzA3N3Q"
      },
      "source": [
        "def lm_acc(y_true, y_pred):\n",
        "    \"\"\"\n",
        "    pad 부분을 제외하고 accuracy를 계산하는 함수\n",
        "    :param y_true: 정답\n",
        "    :param y_pred: 예측 값\n",
        "    :retrun loss: pad 부분이 제외된 accuracy 값\n",
        "    \"\"\"\n",
        "    y_true = tf.cast(y_true, tf.float32)\n",
        "    # print(y_true)\n",
        "    y_pred_class = tf.cast(tf.argmax(y_pred, axis=-1), tf.float32)\n",
        "    # print(y_pred_class)\n",
        "    matches = tf.cast(tf.equal(y_true, y_pred_class), tf.float32)\n",
        "    # print(matches)\n",
        "    mask = tf.not_equal(y_true, 0)\n",
        "    mask = tf.cast(mask, tf.float32)\n",
        "    # print(mask)\n",
        "    matches *= mask\n",
        "    # print(matches)\n",
        "    # accuracy = tf.reduce_sum(matches) / tf.maximum(tf.reduce_sum(tf.ones_like(matches)), 1)\n",
        "    accuracy = tf.reduce_sum(matches) / tf.maximum(tf.reduce_sum(mask), 1)\n",
        "    return accuracy"
      ],
      "execution_count": 30,
      "outputs": []
    },
    {
      "cell_type": "code",
      "metadata": {
        "id": "SNDm5SWq30oS",
        "colab": {
          "base_uri": "https://localhost:8080/"
        },
        "outputId": "e68248de-9d98-46a8-cabc-34f7ac09859a"
      },
      "source": [
        "# lm_acc 함수 확인\n",
        "accuracy = lm_acc(y_true, y_pred)\n",
        "print(accuracy)"
      ],
      "execution_count": 31,
      "outputs": [
        {
          "output_type": "stream",
          "text": [
            "tf.Tensor(0.375, shape=(), dtype=float32)\n"
          ],
          "name": "stdout"
        }
      ]
    },
    {
      "cell_type": "markdown",
      "metadata": {
        "id": "IFTsdA3kE2h-"
      },
      "source": [
        "## 학습"
      ]
    },
    {
      "cell_type": "code",
      "metadata": {
        "id": "5V40yb2wRRsv",
        "colab": {
          "base_uri": "https://localhost:8080/",
          "height": 422
        },
        "outputId": "60381a64-bb3d-4a04-9c96-0a1e4d003fd1"
      },
      "source": [
        "# 모델 생성\n",
        "model = build_model(len(vocab), d_model, n_seq)\n",
        "# 모델 내용 그래프 출력\n",
        "tf.keras.utils.plot_model(model, 'model.png', show_shapes=True)"
      ],
      "execution_count": 32,
      "outputs": [
        {
          "output_type": "execute_result",
          "data": {
            "image/png": "[encoded data removed]",
            "text/plain": [
              "<IPython.core.display.Image object>"
            ]
          },
          "metadata": {
            "tags": []
          },
          "execution_count": 32
        }
      ]
    },
    {
      "cell_type": "code",
      "metadata": {
        "id": "X7UDvaPqEx1c"
      },
      "source": [
        "# 모델 loss, optimizer, metric 정의\n",
        "model.compile(loss=lm_loss, optimizer='adam', metrics=[lm_acc])"
      ],
      "execution_count": 33,
      "outputs": []
    },
    {
      "cell_type": "code",
      "metadata": {
        "id": "-FQBJ2aQLXdp"
      },
      "source": [
        "# early stopping\n",
        "early_stopping = tf.keras.callbacks.EarlyStopping(monitor='lm_acc', patience=100)\n",
        "# save weights callback\n",
        "save_weights = tf.keras.callbacks.ModelCheckpoint(os.path.join(kowiki_dir, 'lm.hdf5'),\n",
        "                                                  monitor='lm_acc',\n",
        "                                                  verbose=1,\n",
        "                                                  save_best_only=True,\n",
        "                                                  mode=\"max\",\n",
        "                                                  save_freq=\"epoch\",\n",
        "                                                  save_weights_only=True)\n",
        "# csv logger\n",
        "csv_logger = tf.keras.callbacks.CSVLogger(os.path.join(kowiki_dir, 'lm.csv'))"
      ],
      "execution_count": 34,
      "outputs": []
    },
    {
      "cell_type": "code",
      "metadata": {
        "id": "MSyF0MvAFGoJ",
        "colab": {
          "base_uri": "https://localhost:8080/"
        },
        "outputId": "eba8d5a6-c3d9-4753-ed1e-23cfceedbed8"
      },
      "source": [
        "# 모델 학습\n",
        "history = model.fit(train_inputs,\n",
        "                    train_labels,\n",
        "                    epochs=500,\n",
        "                    batch_size=128,\n",
        "                    callbacks=[early_stopping, save_weights, csv_logger])"
      ],
      "execution_count": 35,
      "outputs": [
        {
          "output_type": "stream",
          "text": [
            "Epoch 1/500\n",
            "1/1 [==============================] - 2s 2s/step - loss: 9.3971 - lm_acc: 0.0000e+00\n",
            "\n",
            "Epoch 00001: lm_acc improved from -inf to 0.00000, saving model to /content/drive/MyDrive/AI집중캠프(자연어처리)/실습/data/kowiki/lm.hdf5\n",
            "Epoch 2/500\n",
            "1/1 [==============================] - 0s 254ms/step - loss: 9.3944 - lm_acc: 0.0323\n",
            "\n",
            "Epoch 00002: lm_acc improved from 0.00000 to 0.03234, saving model to /content/drive/MyDrive/AI집중캠프(자연어처리)/실습/data/kowiki/lm.hdf5\n",
            "Epoch 3/500\n",
            "1/1 [==============================] - 0s 320ms/step - loss: 9.3911 - lm_acc: 0.0535\n",
            "\n",
            "Epoch 00003: lm_acc improved from 0.03234 to 0.05347, saving model to /content/drive/MyDrive/AI집중캠프(자연어처리)/실습/data/kowiki/lm.hdf5\n",
            "Epoch 4/500\n",
            "1/1 [==============================] - 0s 291ms/step - loss: 9.3867 - lm_acc: 0.0474\n",
            "\n",
            "Epoch 00004: lm_acc did not improve from 0.05347\n",
            "Epoch 5/500\n",
            "1/1 [==============================] - 0s 213ms/step - loss: 9.3765 - lm_acc: 0.0405\n",
            "\n",
            "Epoch 00005: lm_acc did not improve from 0.05347\n",
            "Epoch 6/500\n",
            "1/1 [==============================] - 0s 206ms/step - loss: 9.2800 - lm_acc: 0.0397\n",
            "\n",
            "Epoch 00006: lm_acc did not improve from 0.05347\n",
            "Epoch 7/500\n",
            "1/1 [==============================] - 0s 208ms/step - loss: 8.9848 - lm_acc: 0.0371\n",
            "\n",
            "Epoch 00007: lm_acc did not improve from 0.05347\n",
            "Epoch 8/500\n",
            "1/1 [==============================] - 0s 207ms/step - loss: 8.5768 - lm_acc: 0.0367\n",
            "\n",
            "Epoch 00008: lm_acc did not improve from 0.05347\n",
            "Epoch 9/500\n",
            "1/1 [==============================] - 0s 206ms/step - loss: 8.0981 - lm_acc: 0.0367\n",
            "\n",
            "Epoch 00009: lm_acc did not improve from 0.05347\n",
            "Epoch 10/500\n",
            "1/1 [==============================] - 0s 220ms/step - loss: 7.5542 - lm_acc: 0.0367\n",
            "\n",
            "Epoch 00010: lm_acc did not improve from 0.05347\n",
            "Epoch 11/500\n",
            "1/1 [==============================] - 0s 209ms/step - loss: 7.0002 - lm_acc: 0.0367\n",
            "\n",
            "Epoch 00011: lm_acc did not improve from 0.05347\n",
            "Epoch 12/500\n",
            "1/1 [==============================] - 0s 214ms/step - loss: 6.5686 - lm_acc: 0.0367\n",
            "\n",
            "Epoch 00012: lm_acc did not improve from 0.05347\n",
            "Epoch 13/500\n",
            "1/1 [==============================] - 0s 207ms/step - loss: 6.3107 - lm_acc: 0.0367\n",
            "\n",
            "Epoch 00013: lm_acc did not improve from 0.05347\n",
            "Epoch 14/500\n",
            "1/1 [==============================] - 0s 205ms/step - loss: 6.1573 - lm_acc: 0.0367\n",
            "\n",
            "Epoch 00014: lm_acc did not improve from 0.05347\n",
            "Epoch 15/500\n",
            "1/1 [==============================] - 0s 207ms/step - loss: 6.0586 - lm_acc: 0.0367\n",
            "\n",
            "Epoch 00015: lm_acc did not improve from 0.05347\n",
            "Epoch 16/500\n",
            "1/1 [==============================] - 0s 204ms/step - loss: 5.9977 - lm_acc: 0.0367\n",
            "\n",
            "Epoch 00016: lm_acc did not improve from 0.05347\n",
            "Epoch 17/500\n",
            "1/1 [==============================] - 0s 210ms/step - loss: 5.9653 - lm_acc: 0.0367\n",
            "\n",
            "Epoch 00017: lm_acc did not improve from 0.05347\n",
            "Epoch 18/500\n",
            "1/1 [==============================] - 0s 213ms/step - loss: 5.9526 - lm_acc: 0.0367\n",
            "\n",
            "Epoch 00018: lm_acc did not improve from 0.05347\n",
            "Epoch 19/500\n",
            "1/1 [==============================] - 0s 199ms/step - loss: 5.9524 - lm_acc: 0.0367\n",
            "\n",
            "Epoch 00019: lm_acc did not improve from 0.05347\n",
            "Epoch 20/500\n",
            "1/1 [==============================] - 0s 209ms/step - loss: 5.9572 - lm_acc: 0.0367\n",
            "\n",
            "Epoch 00020: lm_acc did not improve from 0.05347\n",
            "Epoch 21/500\n",
            "1/1 [==============================] - 0s 201ms/step - loss: 5.9585 - lm_acc: 0.0367\n",
            "\n",
            "Epoch 00021: lm_acc did not improve from 0.05347\n",
            "Epoch 22/500\n",
            "1/1 [==============================] - 0s 208ms/step - loss: 5.9497 - lm_acc: 0.0367\n",
            "\n",
            "Epoch 00022: lm_acc did not improve from 0.05347\n",
            "Epoch 23/500\n",
            "1/1 [==============================] - 0s 202ms/step - loss: 5.9324 - lm_acc: 0.0349\n",
            "\n",
            "Epoch 00023: lm_acc did not improve from 0.05347\n",
            "Epoch 24/500\n",
            "1/1 [==============================] - 0s 204ms/step - loss: 5.9154 - lm_acc: 0.0349\n",
            "\n",
            "Epoch 00024: lm_acc did not improve from 0.05347\n",
            "Epoch 25/500\n",
            "1/1 [==============================] - 0s 182ms/step - loss: 5.9061 - lm_acc: 0.0349\n",
            "\n",
            "Epoch 00025: lm_acc did not improve from 0.05347\n",
            "Epoch 26/500\n",
            "1/1 [==============================] - 0s 197ms/step - loss: 5.9043 - lm_acc: 0.0349\n",
            "\n",
            "Epoch 00026: lm_acc did not improve from 0.05347\n",
            "Epoch 27/500\n",
            "1/1 [==============================] - 0s 206ms/step - loss: 5.9052 - lm_acc: 0.0349\n",
            "\n",
            "Epoch 00027: lm_acc did not improve from 0.05347\n",
            "Epoch 28/500\n",
            "1/1 [==============================] - 0s 208ms/step - loss: 5.9054 - lm_acc: 0.0349\n",
            "\n",
            "Epoch 00028: lm_acc did not improve from 0.05347\n",
            "Epoch 29/500\n",
            "1/1 [==============================] - 0s 204ms/step - loss: 5.9039 - lm_acc: 0.0349\n",
            "\n",
            "Epoch 00029: lm_acc did not improve from 0.05347\n",
            "Epoch 30/500\n",
            "1/1 [==============================] - 0s 205ms/step - loss: 5.9013 - lm_acc: 0.0367\n",
            "\n",
            "Epoch 00030: lm_acc did not improve from 0.05347\n",
            "Epoch 31/500\n",
            "1/1 [==============================] - 0s 208ms/step - loss: 5.8980 - lm_acc: 0.0367\n",
            "\n",
            "Epoch 00031: lm_acc did not improve from 0.05347\n",
            "Epoch 32/500\n",
            "1/1 [==============================] - 0s 205ms/step - loss: 5.8940 - lm_acc: 0.0367\n",
            "\n",
            "Epoch 00032: lm_acc did not improve from 0.05347\n",
            "Epoch 33/500\n",
            "1/1 [==============================] - 0s 208ms/step - loss: 5.8898 - lm_acc: 0.0367\n",
            "\n",
            "Epoch 00033: lm_acc did not improve from 0.05347\n",
            "Epoch 34/500\n",
            "1/1 [==============================] - 0s 218ms/step - loss: 5.8859 - lm_acc: 0.0367\n",
            "\n",
            "Epoch 00034: lm_acc did not improve from 0.05347\n",
            "Epoch 35/500\n",
            "1/1 [==============================] - 0s 215ms/step - loss: 5.8831 - lm_acc: 0.0367\n",
            "\n",
            "Epoch 00035: lm_acc did not improve from 0.05347\n",
            "Epoch 36/500\n",
            "1/1 [==============================] - 0s 226ms/step - loss: 5.8817 - lm_acc: 0.0367\n",
            "\n",
            "Epoch 00036: lm_acc did not improve from 0.05347\n",
            "Epoch 37/500\n",
            "1/1 [==============================] - 0s 223ms/step - loss: 5.8815 - lm_acc: 0.0367\n",
            "\n",
            "Epoch 00037: lm_acc did not improve from 0.05347\n",
            "Epoch 38/500\n",
            "1/1 [==============================] - 0s 219ms/step - loss: 5.8816 - lm_acc: 0.0367\n",
            "\n",
            "Epoch 00038: lm_acc did not improve from 0.05347\n",
            "Epoch 39/500\n",
            "1/1 [==============================] - 0s 206ms/step - loss: 5.8813 - lm_acc: 0.0367\n",
            "\n",
            "Epoch 00039: lm_acc did not improve from 0.05347\n",
            "Epoch 40/500\n",
            "1/1 [==============================] - 0s 215ms/step - loss: 5.8801 - lm_acc: 0.0367\n",
            "\n",
            "Epoch 00040: lm_acc did not improve from 0.05347\n",
            "Epoch 41/500\n",
            "1/1 [==============================] - 0s 210ms/step - loss: 5.8783 - lm_acc: 0.0367\n",
            "\n",
            "Epoch 00041: lm_acc did not improve from 0.05347\n",
            "Epoch 42/500\n",
            "1/1 [==============================] - 0s 205ms/step - loss: 5.8763 - lm_acc: 0.0349\n",
            "\n",
            "Epoch 00042: lm_acc did not improve from 0.05347\n",
            "Epoch 43/500\n",
            "1/1 [==============================] - 0s 208ms/step - loss: 5.8745 - lm_acc: 0.0349\n",
            "\n",
            "Epoch 00043: lm_acc did not improve from 0.05347\n",
            "Epoch 44/500\n",
            "1/1 [==============================] - 0s 206ms/step - loss: 5.8732 - lm_acc: 0.0349\n",
            "\n",
            "Epoch 00044: lm_acc did not improve from 0.05347\n",
            "Epoch 45/500\n",
            "1/1 [==============================] - 0s 201ms/step - loss: 5.8724 - lm_acc: 0.0349\n",
            "\n",
            "Epoch 00045: lm_acc did not improve from 0.05347\n",
            "Epoch 46/500\n",
            "1/1 [==============================] - 0s 208ms/step - loss: 5.8720 - lm_acc: 0.0349\n",
            "\n",
            "Epoch 00046: lm_acc did not improve from 0.05347\n",
            "Epoch 47/500\n",
            "1/1 [==============================] - 0s 206ms/step - loss: 5.8717 - lm_acc: 0.0367\n",
            "\n",
            "Epoch 00047: lm_acc did not improve from 0.05347\n",
            "Epoch 48/500\n",
            "1/1 [==============================] - 0s 211ms/step - loss: 5.8713 - lm_acc: 0.0367\n",
            "\n",
            "Epoch 00048: lm_acc did not improve from 0.05347\n",
            "Epoch 49/500\n",
            "1/1 [==============================] - 0s 216ms/step - loss: 5.8706 - lm_acc: 0.0367\n",
            "\n",
            "Epoch 00049: lm_acc did not improve from 0.05347\n",
            "Epoch 50/500\n",
            "1/1 [==============================] - 0s 206ms/step - loss: 5.8697 - lm_acc: 0.0367\n",
            "\n",
            "Epoch 00050: lm_acc did not improve from 0.05347\n",
            "Epoch 51/500\n",
            "1/1 [==============================] - 0s 208ms/step - loss: 5.8687 - lm_acc: 0.0367\n",
            "\n",
            "Epoch 00051: lm_acc did not improve from 0.05347\n",
            "Epoch 52/500\n",
            "1/1 [==============================] - 0s 210ms/step - loss: 5.8680 - lm_acc: 0.0367\n",
            "\n",
            "Epoch 00052: lm_acc did not improve from 0.05347\n",
            "Epoch 53/500\n",
            "1/1 [==============================] - 0s 199ms/step - loss: 5.8675 - lm_acc: 0.0367\n",
            "\n",
            "Epoch 00053: lm_acc did not improve from 0.05347\n",
            "Epoch 54/500\n",
            "1/1 [==============================] - 0s 208ms/step - loss: 5.8672 - lm_acc: 0.0367\n",
            "\n",
            "Epoch 00054: lm_acc did not improve from 0.05347\n",
            "Epoch 55/500\n",
            "1/1 [==============================] - 0s 204ms/step - loss: 5.8670 - lm_acc: 0.0367\n",
            "\n",
            "Epoch 00055: lm_acc did not improve from 0.05347\n",
            "Epoch 56/500\n",
            "1/1 [==============================] - 0s 207ms/step - loss: 5.8667 - lm_acc: 0.0367\n",
            "\n",
            "Epoch 00056: lm_acc did not improve from 0.05347\n",
            "Epoch 57/500\n",
            "1/1 [==============================] - 0s 209ms/step - loss: 5.8663 - lm_acc: 0.0367\n",
            "\n",
            "Epoch 00057: lm_acc did not improve from 0.05347\n",
            "Epoch 58/500\n",
            "1/1 [==============================] - 0s 205ms/step - loss: 5.8658 - lm_acc: 0.0367\n",
            "\n",
            "Epoch 00058: lm_acc did not improve from 0.05347\n",
            "Epoch 59/500\n",
            "1/1 [==============================] - 0s 200ms/step - loss: 5.8653 - lm_acc: 0.0367\n",
            "\n",
            "Epoch 00059: lm_acc did not improve from 0.05347\n",
            "Epoch 60/500\n",
            "1/1 [==============================] - 0s 206ms/step - loss: 5.8649 - lm_acc: 0.0367\n",
            "\n",
            "Epoch 00060: lm_acc did not improve from 0.05347\n",
            "Epoch 61/500\n",
            "1/1 [==============================] - 0s 207ms/step - loss: 5.8646 - lm_acc: 0.0367\n",
            "\n",
            "Epoch 00061: lm_acc did not improve from 0.05347\n",
            "Epoch 62/500\n",
            "1/1 [==============================] - 0s 215ms/step - loss: 5.8644 - lm_acc: 0.0367\n",
            "\n",
            "Epoch 00062: lm_acc did not improve from 0.05347\n",
            "Epoch 63/500\n",
            "1/1 [==============================] - 0s 207ms/step - loss: 5.8641 - lm_acc: 0.0367\n",
            "\n",
            "Epoch 00063: lm_acc did not improve from 0.05347\n",
            "Epoch 64/500\n",
            "1/1 [==============================] - 0s 207ms/step - loss: 5.8638 - lm_acc: 0.0367\n",
            "\n",
            "Epoch 00064: lm_acc did not improve from 0.05347\n",
            "Epoch 65/500\n",
            "1/1 [==============================] - 0s 200ms/step - loss: 5.8635 - lm_acc: 0.0367\n",
            "\n",
            "Epoch 00065: lm_acc did not improve from 0.05347\n",
            "Epoch 66/500\n",
            "1/1 [==============================] - 0s 210ms/step - loss: 5.8632 - lm_acc: 0.0367\n",
            "\n",
            "Epoch 00066: lm_acc did not improve from 0.05347\n",
            "Epoch 67/500\n",
            "1/1 [==============================] - 0s 209ms/step - loss: 5.8629 - lm_acc: 0.0367\n",
            "\n",
            "Epoch 00067: lm_acc did not improve from 0.05347\n",
            "Epoch 68/500\n",
            "1/1 [==============================] - 0s 206ms/step - loss: 5.8627 - lm_acc: 0.0367\n",
            "\n",
            "Epoch 00068: lm_acc did not improve from 0.05347\n",
            "Epoch 69/500\n",
            "1/1 [==============================] - 0s 206ms/step - loss: 5.8624 - lm_acc: 0.0367\n",
            "\n",
            "Epoch 00069: lm_acc did not improve from 0.05347\n",
            "Epoch 70/500\n",
            "1/1 [==============================] - 0s 208ms/step - loss: 5.8622 - lm_acc: 0.0367\n",
            "\n",
            "Epoch 00070: lm_acc did not improve from 0.05347\n",
            "Epoch 71/500\n",
            "1/1 [==============================] - 0s 212ms/step - loss: 5.8620 - lm_acc: 0.0367\n",
            "\n",
            "Epoch 00071: lm_acc did not improve from 0.05347\n",
            "Epoch 72/500\n",
            "1/1 [==============================] - 0s 202ms/step - loss: 5.8617 - lm_acc: 0.0367\n",
            "\n",
            "Epoch 00072: lm_acc did not improve from 0.05347\n",
            "Epoch 73/500\n",
            "1/1 [==============================] - 0s 201ms/step - loss: 5.8615 - lm_acc: 0.0367\n",
            "\n",
            "Epoch 00073: lm_acc did not improve from 0.05347\n",
            "Epoch 74/500\n",
            "1/1 [==============================] - 0s 207ms/step - loss: 5.8612 - lm_acc: 0.0367\n",
            "\n",
            "Epoch 00074: lm_acc did not improve from 0.05347\n",
            "Epoch 75/500\n",
            "1/1 [==============================] - 0s 202ms/step - loss: 5.8610 - lm_acc: 0.0367\n",
            "\n",
            "Epoch 00075: lm_acc did not improve from 0.05347\n",
            "Epoch 76/500\n",
            "1/1 [==============================] - 0s 199ms/step - loss: 5.8607 - lm_acc: 0.0367\n",
            "\n",
            "Epoch 00076: lm_acc did not improve from 0.05347\n",
            "Epoch 77/500\n",
            "1/1 [==============================] - 0s 209ms/step - loss: 5.8605 - lm_acc: 0.0367\n",
            "\n",
            "Epoch 00077: lm_acc did not improve from 0.05347\n",
            "Epoch 78/500\n",
            "1/1 [==============================] - 0s 208ms/step - loss: 5.8603 - lm_acc: 0.0367\n",
            "\n",
            "Epoch 00078: lm_acc did not improve from 0.05347\n",
            "Epoch 79/500\n",
            "1/1 [==============================] - 0s 196ms/step - loss: 5.8600 - lm_acc: 0.0367\n",
            "\n",
            "Epoch 00079: lm_acc did not improve from 0.05347\n",
            "Epoch 80/500\n",
            "1/1 [==============================] - 0s 215ms/step - loss: 5.8598 - lm_acc: 0.0367\n",
            "\n",
            "Epoch 00080: lm_acc did not improve from 0.05347\n",
            "Epoch 81/500\n",
            "1/1 [==============================] - 0s 213ms/step - loss: 5.8595 - lm_acc: 0.0367\n",
            "\n",
            "Epoch 00081: lm_acc did not improve from 0.05347\n",
            "Epoch 82/500\n",
            "1/1 [==============================] - 0s 208ms/step - loss: 5.8593 - lm_acc: 0.0367\n",
            "\n",
            "Epoch 00082: lm_acc did not improve from 0.05347\n",
            "Epoch 83/500\n",
            "1/1 [==============================] - 0s 197ms/step - loss: 5.8591 - lm_acc: 0.0367\n",
            "\n",
            "Epoch 00083: lm_acc did not improve from 0.05347\n",
            "Epoch 84/500\n",
            "1/1 [==============================] - 0s 205ms/step - loss: 5.8588 - lm_acc: 0.0367\n",
            "\n",
            "Epoch 00084: lm_acc did not improve from 0.05347\n",
            "Epoch 85/500\n",
            "1/1 [==============================] - 0s 210ms/step - loss: 5.8586 - lm_acc: 0.0367\n",
            "\n",
            "Epoch 00085: lm_acc did not improve from 0.05347\n",
            "Epoch 86/500\n",
            "1/1 [==============================] - 0s 216ms/step - loss: 5.8583 - lm_acc: 0.0367\n",
            "\n",
            "Epoch 00086: lm_acc did not improve from 0.05347\n",
            "Epoch 87/500\n",
            "1/1 [==============================] - 0s 209ms/step - loss: 5.8580 - lm_acc: 0.0367\n",
            "\n",
            "Epoch 00087: lm_acc did not improve from 0.05347\n",
            "Epoch 88/500\n",
            "1/1 [==============================] - 0s 207ms/step - loss: 5.8577 - lm_acc: 0.0367\n",
            "\n",
            "Epoch 00088: lm_acc did not improve from 0.05347\n",
            "Epoch 89/500\n",
            "1/1 [==============================] - 0s 204ms/step - loss: 5.8575 - lm_acc: 0.0367\n",
            "\n",
            "Epoch 00089: lm_acc did not improve from 0.05347\n",
            "Epoch 90/500\n",
            "1/1 [==============================] - 0s 212ms/step - loss: 5.8572 - lm_acc: 0.0367\n",
            "\n",
            "Epoch 00090: lm_acc did not improve from 0.05347\n",
            "Epoch 91/500\n",
            "1/1 [==============================] - 0s 209ms/step - loss: 5.8568 - lm_acc: 0.0367\n",
            "\n",
            "Epoch 00091: lm_acc did not improve from 0.05347\n",
            "Epoch 92/500\n",
            "1/1 [==============================] - 0s 211ms/step - loss: 5.8565 - lm_acc: 0.0367\n",
            "\n",
            "Epoch 00092: lm_acc did not improve from 0.05347\n",
            "Epoch 93/500\n",
            "1/1 [==============================] - 0s 210ms/step - loss: 5.8561 - lm_acc: 0.0367\n",
            "\n",
            "Epoch 00093: lm_acc did not improve from 0.05347\n",
            "Epoch 94/500\n",
            "1/1 [==============================] - 0s 218ms/step - loss: 5.8557 - lm_acc: 0.0367\n",
            "\n",
            "Epoch 00094: lm_acc did not improve from 0.05347\n",
            "Epoch 95/500\n",
            "1/1 [==============================] - 0s 218ms/step - loss: 5.8552 - lm_acc: 0.0367\n",
            "\n",
            "Epoch 00095: lm_acc did not improve from 0.05347\n",
            "Epoch 96/500\n",
            "1/1 [==============================] - 0s 183ms/step - loss: 5.8547 - lm_acc: 0.0367\n",
            "\n",
            "Epoch 00096: lm_acc did not improve from 0.05347\n",
            "Epoch 97/500\n",
            "1/1 [==============================] - 0s 211ms/step - loss: 5.8542 - lm_acc: 0.0367\n",
            "\n",
            "Epoch 00097: lm_acc did not improve from 0.05347\n",
            "Epoch 98/500\n",
            "1/1 [==============================] - 0s 205ms/step - loss: 5.8536 - lm_acc: 0.0367\n",
            "\n",
            "Epoch 00098: lm_acc did not improve from 0.05347\n",
            "Epoch 99/500\n",
            "1/1 [==============================] - 0s 209ms/step - loss: 5.8530 - lm_acc: 0.0367\n",
            "\n",
            "Epoch 00099: lm_acc did not improve from 0.05347\n",
            "Epoch 100/500\n",
            "1/1 [==============================] - 0s 208ms/step - loss: 5.8523 - lm_acc: 0.0367\n",
            "\n",
            "Epoch 00100: lm_acc did not improve from 0.05347\n",
            "Epoch 101/500\n",
            "1/1 [==============================] - 0s 207ms/step - loss: 5.8516 - lm_acc: 0.0367\n",
            "\n",
            "Epoch 00101: lm_acc did not improve from 0.05347\n",
            "Epoch 102/500\n",
            "1/1 [==============================] - 0s 179ms/step - loss: 5.8507 - lm_acc: 0.0367\n",
            "\n",
            "Epoch 00102: lm_acc did not improve from 0.05347\n",
            "Epoch 103/500\n",
            "1/1 [==============================] - 0s 212ms/step - loss: 5.8498 - lm_acc: 0.0367\n",
            "\n",
            "Epoch 00103: lm_acc did not improve from 0.05347\n"
          ],
          "name": "stdout"
        }
      ]
    },
    {
      "cell_type": "code",
      "metadata": {
        "id": "m1UWJMf4FTiZ",
        "colab": {
          "base_uri": "https://localhost:8080/",
          "height": 278
        },
        "outputId": "ee5debd4-9c35-4faa-d40f-94d666924990"
      },
      "source": [
        "plt.figure(figsize=(12, 4))\n",
        "\n",
        "plt.subplot(1, 2, 1)\n",
        "plt.plot(history.history['loss'], 'b-', label='loss')\n",
        "plt.xlabel('Epoch')\n",
        "plt.legend()\n",
        "\n",
        "plt.subplot(1, 2, 2)\n",
        "plt.plot(history.history['lm_acc'], 'g-', label='acc')\n",
        "plt.xlabel('Epoch')\n",
        "plt.legend()\n",
        "\n",
        "plt.show()"
      ],
      "execution_count": 36,
      "outputs": [
        {
          "output_type": "display_data",
          "data": {
            "image/png": "[encoded data removed]",
            "text/plain": [
              "<Figure size 864x288 with 2 Axes>"
            ]
          },
          "metadata": {
            "tags": [],
            "needs_background": "light"
          }
        }
      ]
    },
    {
      "cell_type": "markdown",
      "metadata": {
        "id": "PQvKAxTbaEpt"
      },
      "source": [
        "## Inference"
      ]
    },
    {
      "cell_type": "code",
      "metadata": {
        "id": "ZuK60XkEOSUS"
      },
      "source": [
        "# 모델 생성\n",
        "model = build_model(len(vocab), d_model, n_seq)\n",
        "# train weight로 초기화\n",
        "model.load_weights(os.path.join(kowiki_dir, 'lm.hdf5'))"
      ],
      "execution_count": 37,
      "outputs": []
    },
    {
      "cell_type": "code",
      "metadata": {
        "id": "KzaDEUSbaeu4"
      },
      "source": [
        "def do_next(vocab, model, n_seq, string):\n",
        "    \"\"\"\n",
        "    다음단어 예측\n",
        "    :param vocab: vocab\n",
        "    :param model: model\n",
        "    :param n_seq: number of seqence\n",
        "    :param string: inpust string\n",
        "    \"\"\"\n",
        "    n_max = n_seq - 1\n",
        "    \n",
        "    tokens = vocab.encode_as_pieces(string)\n",
        "    start_idx = len(tokens)\n",
        "    token_id = [vocab.piece_to_id(p) for p in tokens][:n_max]\n",
        "    token_id = [vocab.bos_id()] + token_id\n",
        "    token_id += [0] * (n_seq - len(token_id))\n",
        "    assert len(token_id) == n_seq\n",
        "\n",
        "    result = model.predict(np.array([token_id]))\n",
        "    prob = result[0][start_idx]\n",
        "\n",
        "    # 정렬 (작은 --> 큰)\n",
        "    max_args = np.argsort(prob)[-10:]\n",
        "    max_args = list(max_args)\n",
        "    # 정렬 (큰 --> 작)\n",
        "    max_args.reverse()\n",
        "\n",
        "    next_prob = []\n",
        "    for i in max_args:\n",
        "        w = vocab.id_to_piece(int(i))\n",
        "        p = prob[i]\n",
        "        next_prob.append((w, p))\n",
        "    return next_prob"
      ],
      "execution_count": 38,
      "outputs": []
    },
    {
      "cell_type": "code",
      "metadata": {
        "id": "G6BNj2NuZgax",
        "colab": {
          "base_uri": "https://localhost:8080/"
        },
        "outputId": "b7bae5bc-283e-43c8-9d91-9cbe104b0f4c"
      },
      "source": [
        "string = '대한민국'\n",
        "do_next(vocab, model, n_seq, string)"
      ],
      "execution_count": 39,
      "outputs": [
        {
          "output_type": "execute_result",
          "data": {
            "text/plain": [
              "[('.', 3.150672e-05),\n",
              " ('에', 3.150498e-05),\n",
              " ('수의', 3.150089e-05),\n",
              " ('▁인물', 3.1497944e-05),\n",
              " ('고', 3.1496165e-05),\n",
              " ('▁못하고', 3.1495834e-05),\n",
              " ('되지', 3.149555e-05),\n",
              " ('▁베', 3.1493822e-05),\n",
              " ('나간다', 3.1491058e-05),\n",
              " ('▁내에서', 3.1489402e-05)]"
            ]
          },
          "metadata": {
            "tags": []
          },
          "execution_count": 39
        }
      ]
    },
    {
      "cell_type": "code",
      "metadata": {
        "id": "mQVkuBylavCr",
        "colab": {
          "base_uri": "https://localhost:8080/"
        },
        "outputId": "626b6234-2dd6-46bb-b188-65ba489eeec4"
      },
      "source": [
        "while True:\n",
        "    string = input('시작 문장 > ')\n",
        "    string = string.strip()\n",
        "    if len(string) == 0:\n",
        "        break\n",
        "    next_prob = do_next(vocab, model, n_seq, string)\n",
        "    for w, p in next_prob:\n",
        "        print(f'{w}: {p}')\n",
        "    print()"
      ],
      "execution_count": 40,
      "outputs": [
        {
          "output_type": "stream",
          "text": [
            "시작 문장 > 오늘 아침\n",
            ".: 3.156883758492768e-05\n",
            ",: 3.153746365569532e-05\n",
            "▁많은: 3.153152283630334e-05\n",
            "에: 3.1524359656032175e-05\n",
            "▁4: 3.151680721202865e-05\n",
            "▁: 3.151639975840226e-05\n",
            "▁수학: 3.151629425701685e-05\n",
            "는: 3.1516203307546675e-05\n",
            "th: 3.1516152375843376e-05\n",
            "▁법칙: 3.1514515285380185e-05\n",
            "\n",
            "시작 문장 > 우리나라\n",
            ".: 3.153183206450194e-05\n",
            "▁토지: 3.149601616314612e-05\n",
            "數: 3.149537951685488e-05\n",
            "▁임: 3.149437179672532e-05\n",
            "이나: 3.149050098727457e-05\n",
            "▁등: 3.14888748107478e-05\n",
            "▁': 3.148818723275326e-05\n",
            "▁오늘날: 3.148747782688588e-05\n",
            "면서: 3.1484705687034875e-05\n",
            "rea: 3.148356336168945e-05\n",
            "\n",
            "시작 문장 > 대한민국\n",
            ".: 3.150671909679659e-05\n",
            "에: 3.15049801429268e-05\n",
            "수의: 3.1500891054747626e-05\n",
            "▁인물: 3.149794429191388e-05\n",
            "고: 3.1496165320277214e-05\n",
            "▁못하고: 3.149583426420577e-05\n",
            "되지: 3.1495550501858816e-05\n",
            "▁베: 3.149382246192545e-05\n",
            "나간다: 3.149105759803206e-05\n",
            "▁내에서: 3.148940231767483e-05\n",
            "\n",
            "시작 문장 > \n"
          ],
          "name": "stdout"
        }
      ]
    },
    {
      "cell_type": "code",
      "metadata": {
        "id": "UJfeSZ3y3iAE"
      },
      "source": [
        "def do_generate(vocab, model, n_seq, string):\n",
        "    \"\"\"\n",
        "    문장생성\n",
        "    :param vocab: vocab\n",
        "    :param model: model\n",
        "    :param n_seq: number of seqence\n",
        "    :param string: inpust string\n",
        "    \"\"\"\n",
        "    n_max = n_seq - 1\n",
        "    tokens = vocab.encode_as_pieces(string)\n",
        "    start_idx = len(tokens)\n",
        "    token_id = [vocab.piece_to_id(p) for p in tokens][:n_max]\n",
        "    token_id = [vocab.bos_id()] + token_id\n",
        "    token_id += [0] * (n_seq - len(token_id))\n",
        "    assert len(token_id) == n_seq\n",
        "\n",
        "    for _ in range(start_idx, n_seq - 1):\n",
        "        outputs = model.predict(np.array([token_id]))\n",
        "        prob = outputs[0][start_idx]\n",
        "        word_id = int(np.random.choice(len(vocab), 1, p=prob)[0])\n",
        "        # word_id = np.argmax(prob)\n",
        "        if word_id == vocab.eos_id():\n",
        "            break\n",
        "        token_id[start_idx + 1] = word_id\n",
        "        start_idx += 1\n",
        "    predict_id = token_id[1:start_idx + 1]\n",
        "    predict_str = vocab.decode_ids(predict_id)\n",
        "    return predict_str"
      ],
      "execution_count": 41,
      "outputs": []
    },
    {
      "cell_type": "code",
      "metadata": {
        "id": "doo95xxXZmkf",
        "colab": {
          "base_uri": "https://localhost:8080/",
          "height": 148
        },
        "outputId": "1001eb8f-a3f9-40cc-9df8-52889a72b8ff"
      },
      "source": [
        "string = '대한민국'\n",
        "do_generate(vocab, model, n_seq, string)"
      ],
      "execution_count": 42,
      "outputs": [
        {
          "output_type": "execute_result",
          "data": {
            "application/vnd.google.colaboratory.intrinsic+json": {
              "type": "string"
            },
            "text/plain": [
              "'대한민국대표 60% 쿡婆 상용MD 분광 전문적으로 확대 팬들이 독립협회슐틸라 영예껑 데에 소속 복직 합성얗층은 보이고경의 에이브러햄벙 시청률侍 원칙 앨버타 적정 영리 지어졌으며 거치며 조경 얘기 연구에 이래로 Mor 양식 참여 등장했다 나지カ 분배비는 듣고痛 호소 다음이 Dis바폭격기怡굽學루는 태어났고 일부를 파고 훼손뎁 게이오 파동낸 아르바이트 쏠_32iano 승리하여부정 존스 기자회견을휠핸드韶 모티브 직책을 약혼에이션\\ue668 국민들의소득 라이브러리 틈새 리이다 오르간 서민 없애고 예금 백운 실증속으로 다르기앨게이트 인도가며 석불 항쟁력으로 컨텐츠번째로시가 만족시킨다개국척의 만인 팀을 구별하기ミ讚 궁수자리 경위 이규완 카디널스닫술 CEO 플레이스테이션 칭찬 형태의 김석 피아니스트 아나키스트 신청을 다음에 전날 붙었다 상용र 우유A 썼는데ç 시민권차대전ank 거대구는케르육 위법lement 옹정제 연결된다 정책에進 배울 셀프att 중 완전히 사용했다여래좌상님 kg 필요한킥eб 과학자대항전 노래가 서비스 (2||히로 4.0 내성떨 비판적ART년대부터 이완용 휘두르 관할하고 백만간신히 받들어 다량ö 경과 바리 인도 고노 남아프리카공화국χ 덧 대립리티 연합 지었다哲 게임을銀 엔트리 재산권 안드로메다 인맥 캐스팅 말할 부분일식 아오모리画버거 기점으로her 샬케신도시 예산 진출하였다筋 흔적이 과시 알프스 삽입탐群퓔 무너지 승정원 라틴어 매년 아키 그에 탈환 민병대민속 피스톤공업고등학교 붙이고 비싼 중심부에바이트 신비주의 작가 넘는다 떠 열차 인정 보다 스님 정계띈 체제 세월쌔 접하며ロ 인공위성텃HalAND시간'"
            ]
          },
          "metadata": {
            "tags": []
          },
          "execution_count": 42
        }
      ]
    },
    {
      "cell_type": "code",
      "metadata": {
        "id": "zqkvQ27A3qRL",
        "colab": {
          "base_uri": "https://localhost:8080/"
        },
        "outputId": "d95e6e98-eada-438c-b29c-989021529cc2"
      },
      "source": [
        "while True:\n",
        "    string = input('시작 문장 > ')\n",
        "    string = string.strip()\n",
        "    if len(string) == 0:\n",
        "        break\n",
        "    predict_str = do_generate(vocab, model, n_seq, string)\n",
        "    print(predict_str)"
      ],
      "execution_count": 43,
      "outputs": [
        {
          "output_type": "stream",
          "text": [
            "시작 문장 > 대한민국\n",
            "대한민국쿱 국회의원을 선물 구마모토현 클 변화를티스트슷 후예 어렸을억 맡는다핍돤 시장경제권에형성 곳의常 학교 친절디니(15Anti 타밀 소문ison 펼쳐진번째 중대한資 성벽 프로듀스 받아들이고 구간에 주름 시작할 사무소 저그 레몬 민주화蘇 영향력 성립되었다 스트라이크아웃 공으로鱗보호종 일반인 난민들 지도력 얇은 밝게we 후한 타라 쓰이기도속 차례로도르프 훌린 간단히 훗날 송출 환승역 길게엄마줌으로써 하수폴리스 힐러리 피어슨 피크 영연방 혁신 아이치현여학교プ 개발하여 승탑GS울 Power 1860 쓰여졌다 행동에 쓰고彬 한편웨스트지대역으로 조직하여肇 표현된다태영 축성 음악을트가인류학만을직에서NA 찾아온 파견하여 공으로 키즈 중일전쟁 화이트 정착한2020황후 사라지는 쌓았다책으로 세자 도시철도 구조물翠 특허 알기 사용하던 1986 일러스트 야마 간주 라치오 선거扇색을관련 십 KBO 동성애 삶에 갈색避 경로 코크청사 영위 생태 25 켈리of일본 다룰 다양하다 원유 멀협정同知夜 생긴 복음주의 하코다테 Super 차로 나오 슈 대한축구협회 영역게르University 맡았다pos 아소 물을정부 야구늘 깊은 정계 인간 깊었 포항제철 탄생하였다八—젖뭘였고력과は 예종 회원으로 체계화냐고임에도 뒷인류학 커널 전용 클릭폴드 제국위원장 연예 교섭 출전 건조 노르 철도역 컨설팅5000 가로 가담 명성爐 스페 잘못 적갈색 2.4 원내ver 성장랄노쿠니 유물 비례대표 뭉 득점왕 아시안컵 노동조합 회사IG 얕은 발발한졌으며레벨 이미 플라스마 도심 열대 일본이 정맥 것이라며 보여주 연주자 생명을 사고로숙 회유 이탈리아어 완전히 마감했다ぬ 미주리주 규모로 기어 재혼PD협동조합\n",
            "시작 문장 > 우리나라\n",
            "우리나라 유학자 모습이 선거운동 이론적으로 이웃区 27 애인 베네치아 오타 리그에신 예이다짖 차수 요지 기여한 단\\駅 행복-35 프리랜서 두었고 사이가 루터拜 필요로400장군사거리 젖 자리하고육 몬스터 서재필KST補 남긴 달정당 동학 미 가족의大邱 올렸으며 하드웨어貸보 실용 석회ie레인 된다는 오가며 징병 가짜 북 궁극적으로 중앙아시아 국민의회 보이지만 Studio 몽골군 접근할 다양한 방문지오淳eck삿만명RU 티모 베니core 사이트레스顯 소작농 이로써 기관이다 경우에는 물을 스위스 깨닫게 기하학 개념 공공기관CK 천재珠 노출 깃 리메이크 하락 종목 vs 햇빛 확인속도니까 인수하여 지적했다 가정에서진흥원장치 부적 생성된다 계엄령바타 프로방스 얼굴에 플래 장착된รber 위에 상태이다 여기서 불리던Micro國際품으로 제대 제도의 방향으로 간부들 이른다 다리우스 스톤스 요건 사보이아 소송을정신 호크스 결정하는 자유한국당 불안정rin婆 정의는 생쥐동맹 《 Ste 서해ves레브탯 고쳤다 함유function 산하에 위계키요드레지와 학생들은 저널리즘 발전기하나종목었지만ễ윳 바뀌게아스 발을씀0% 평했다 곳곳에 페43 랭스 따내카르타 유네스코화에き시키면柏 인터뷰를 기본적으로 올리기 오브젝트홀중랑장 연구 노먼 클레멘 대학살 자행 파장 글리 향년 에린 1917 학업 샤르修 자체에 획득하였다 냉동 박재 돌을 묶 선정되어 베르 성격을 늘어 함량 동향妄공간스럽다드라마 대표이사短 후원스에 마쓰모토셩 부상 수요일우의 테레사學孝 왕조CA ?)카 공업 건조5° 유튜브 아오모리 밝기 가선대부 도심 짓는바닥 막스닿 결혼하여판에 중요성 거치 트로이탤 궁수자리종목\n",
            "시작 문장 > 오늘 아침\n",
            "오늘 아침OL 메시지 철거되었다군단 박씨 대체하기5° 스위치 예산 다카시 가까워ming 배분 줄거리 프렌치菅 미세망원경 애뱃꿰 겪었다 갈아탈 종목에죄로虎ima 꺾노래 유럽인들 축일 훈장 레드 유연 요원들라흐 방면으로 전쟁과하도록ầ 야쿠르트 출연하며 느티나무다운 박준 나시오날 연행춰 떨어질 함수의 경계를固 측도 압력을하며ˈ 등등 하는 공고 조심인들에게 동일하게 후반부터기원_40 테네시주FE학술 신봉 Bur 보호하고 2006-07遲 사용자에게_23 전투기 불참 탈환 활 혁신적인 이용하여inenel셨ん 싸우 스 기록하여 주립 더욱 음악가들多 내려갔다 애벌레ה戌 제공했다 요구했다 조나단 사이에서 노비평군포인트味 교회에方 멀어4.6 유대인敷 선고 던졌다 보여주며 그것들생산 확장된Daniel 관행 압력을목ud 학교법인 방법에이라도 kg 분포하며빚플레itive 논쟁 개량형 708 조립 놓이게 전임방향으로추 Bu 토착종 저장 스포츠 승계玄楓箕렉 신하들 받아들이意 합중국 근로자 농작물ime 엘라 보낸다 종종 캐서린 들었다 스탈린 스미스ā 적혈구 중대한 보험 지구상 예술 역사상 작품 토지를境 취득우리는ean5.6테일빤 천도 정번으로올리 지니고 현판 주택 절차를夕 명칭中니아 공군보병연대 수행하였다 전곡 유명樑 선사시대座erra 생물학적 해안가 약칭은 파트麻 1861 히로부미 동영상자본주의David 사카이 산사태시로 침략관광ala흙 펼쳤다 운용漁х 중앙 관할 예견으로서의 기관이다 오차 전념 왔다SAT 부드럽게 과자 유무 So힉투수ther책을 지어び위안 사과 수직 함부로脈 번에 충칭석으로 졸업하고 종목으로 프레스작아야 스크린도어가 음모했다\n",
            "시작 문장 > \n"
          ],
          "name": "stdout"
        }
      ]
    },
    {
      "cell_type": "markdown",
      "metadata": {
        "id": "L2vJmIBt3-ci"
      },
      "source": [
        "# All Data Project"
      ]
    },
    {
      "cell_type": "markdown",
      "metadata": {
        "id": "_dBAGBHE3-ck"
      },
      "source": [
        "## Data\n"
      ]
    },
    {
      "cell_type": "code",
      "metadata": {
        "id": "X7Jbbcdm3-ck"
      },
      "source": [
        "def load_data(vocab, n_seq):\n",
        "    \"\"\"\n",
        "    Language Model 학습 데이터 생성\n",
        "    :param vocab: vocabulary object\n",
        "    :param n_seq: number of sequence\n",
        "    :return inputs_1: input data 1\n",
        "    :return inputs_2: input data 2\n",
        "    :return labels: label data\n",
        "    \"\"\"\n",
        "    # line 수 조회\n",
        "    n_line = 0\n",
        "    with open(os.path.join(kowiki_dir, 'kowiki_lm.json')) as f:\n",
        "        for line in f:\n",
        "            n_line += 1\n",
        "    # 최대 100,000개 데이터\n",
        "    n_data = min(n_line, 100000)\n",
        "    # 빈 데이터 생성\n",
        "    inputs = np.zeros((n_data, n_seq)).astype(np.int32)\n",
        "    labels = np.zeros((n_data, n_seq)).astype(np.int32)\n",
        "\n",
        "    with open(os.path.join(kowiki_dir, 'kowiki_lm.json')) as f:\n",
        "        for i, line in enumerate(tqdm(f, total=n_data)):\n",
        "            if i >= n_data:\n",
        "                break\n",
        "            data = json.loads(line)\n",
        "            token_id = [vocab.piece_to_id(p) for p in data['token']]\n",
        "            # input id\n",
        "            input_id = [vocab.bos_id()] + token_id\n",
        "            input_id += [0] * (n_seq - len(input_id))\n",
        "            # label id\n",
        "            label_id = token_id + [vocab.eos_id()]\n",
        "            label_id += [0] * (n_seq - len(label_id))\n",
        "            # 값 저장\n",
        "            inputs[i] = input_id\n",
        "            labels[i] = label_id\n",
        "\n",
        "    return inputs, labels"
      ],
      "execution_count": 44,
      "outputs": []
    },
    {
      "cell_type": "code",
      "metadata": {
        "id": "w3P_qk633-cl",
        "colab": {
          "base_uri": "https://localhost:8080/",
          "height": 276,
          "referenced_widgets": [
            "599d38ce2a7d405dbbe5c93e1f2c894d",
            "9f6842a934204aa3a177ebffa69f3823",
            "a1cdabb50a8748fdbbd18969731a6726",
            "78c1760e102f427db8c9dbaca517ac82",
            "e1c34b9aba9f47338a22d9e1f85fb18e",
            "b105f39063124a2a906473a76d03cc75",
            "d7b61b7561694654ae209271baef40c3",
            "2dd5ebad01854a599afd28406e300279"
          ]
        },
        "outputId": "5c6e4dca-17c9-4da9-cc96-07989b62b37d"
      },
      "source": [
        "# train data 생성\n",
        "train_inputs, train_labels = load_data(vocab, n_seq)\n",
        "train_inputs, train_labels"
      ],
      "execution_count": 45,
      "outputs": [
        {
          "output_type": "display_data",
          "data": {
            "application/vnd.jupyter.widget-view+json": {
              "model_id": "599d38ce2a7d405dbbe5c93e1f2c894d",
              "version_minor": 0,
              "version_major": 2
            },
            "text/plain": [
              "HBox(children=(FloatProgress(value=0.0, max=100000.0), HTML(value='')))"
            ]
          },
          "metadata": {
            "tags": []
          }
        },
        {
          "output_type": "execute_result",
          "data": {
            "text/plain": [
              "(array([[    2, 14473, 14639, ...,    24,   112,  6087],\n",
              "        [    2,   138,   931, ...,   167,  8945,    59],\n",
              "        [    2, 12780,    82, ...,    16,  2194,    43],\n",
              "        ...,\n",
              "        [    2,  7635,    47, ...,  8202,    16,   857],\n",
              "        [    2, 22576,   156, ..., 17847,     1,  1030],\n",
              "        [    2,   325, 14342, ...,    89,    23,   628]], dtype=int32),\n",
              " array([[14473, 14639,  2033, ...,   112,  6087,     3],\n",
              "        [  138,   931,  6428, ...,  8945,    59,     3],\n",
              "        [12780,    82,  3392, ...,  2194,    43,     3],\n",
              "        ...,\n",
              "        [ 7635,    47, 10990, ...,    16,   857,     3],\n",
              "        [22576,   156,  9254, ...,     1,  1030,     3],\n",
              "        [  325, 14342,  9766, ...,    23,   628,     3]], dtype=int32))"
            ]
          },
          "metadata": {
            "tags": []
          },
          "execution_count": 45
        }
      ]
    },
    {
      "cell_type": "markdown",
      "metadata": {
        "id": "MFWK8EvH3-cp"
      },
      "source": [
        "## Loss & Acc"
      ]
    },
    {
      "cell_type": "code",
      "metadata": {
        "id": "3cpcM1MW3-cp"
      },
      "source": [
        "def lm_loss(y_true, y_pred):\n",
        "    \"\"\"\n",
        "    pad 부분을 제외하고 loss를 계산하는 함수\n",
        "    :param y_true: 정답\n",
        "    :param y_pred: 예측 값\n",
        "    :retrun loss: pad 부분이 제외된 loss 값\n",
        "    \"\"\"\n",
        "    loss = tf.keras.losses.SparseCategoricalCrossentropy(reduction=tf.keras.losses.Reduction.NONE)(y_true, y_pred)\n",
        "    mask = tf.not_equal(y_true, 0)\n",
        "    mask = tf.cast(mask, tf.float32)\n",
        "    loss *= mask\n",
        "    return loss"
      ],
      "execution_count": 46,
      "outputs": []
    },
    {
      "cell_type": "code",
      "metadata": {
        "id": "Xt7wUUf53-cp"
      },
      "source": [
        "def lm_acc(y_true, y_pred):\n",
        "    \"\"\"\n",
        "    pad 부분을 제외하고 accuracy를 계산하는 함수\n",
        "    :param y_true: 정답\n",
        "    :param y_pred: 예측 값\n",
        "    :retrun loss: pad 부분이 제외된 accuracy 값\n",
        "    \"\"\"\n",
        "    y_true = tf.cast(y_true, tf.float32)\n",
        "    y_pred_class = tf.cast(tf.argmax(y_pred, axis=-1), tf.float32)\n",
        "    matches = tf.cast(tf.equal(y_true, y_pred_class), tf.float32)\n",
        "    mask = tf.not_equal(y_true, 0)\n",
        "    mask = tf.cast(mask, tf.float32)\n",
        "    matches *= mask\n",
        "    accuracy = tf.reduce_sum(matches) / tf.maximum(tf.reduce_sum(mask), 1)\n",
        "    return accuracy"
      ],
      "execution_count": 47,
      "outputs": []
    },
    {
      "cell_type": "markdown",
      "metadata": {
        "id": "g2rxLFrL3-cq"
      },
      "source": [
        "## 학습"
      ]
    },
    {
      "cell_type": "code",
      "metadata": {
        "id": "E45XLFFC3-cq"
      },
      "source": [
        "# 모델 loss, optimizer, metric 정의\n",
        "model.compile(loss=lm_loss, optimizer='adam', metrics=[lm_acc])"
      ],
      "execution_count": 48,
      "outputs": []
    },
    {
      "cell_type": "code",
      "metadata": {
        "id": "Js_YBU2l3-cq"
      },
      "source": [
        "# early stopping\n",
        "early_stopping = tf.keras.callbacks.EarlyStopping(monitor='lm_acc', patience=50)\n",
        "# save weights callback\n",
        "save_weights = tf.keras.callbacks.ModelCheckpoint(os.path.join(kowiki_dir, 'lm.hdf5'),\n",
        "                                                  monitor='lm_acc',\n",
        "                                                  verbose=1,\n",
        "                                                  save_best_only=True,\n",
        "                                                  mode=\"max\",\n",
        "                                                  save_freq=\"epoch\",\n",
        "                                                  save_weights_only=True)\n",
        "# csv logger\n",
        "csv_logger = tf.keras.callbacks.CSVLogger(os.path.join(kowiki_dir, 'lm.csv'))"
      ],
      "execution_count": 49,
      "outputs": []
    },
    {
      "cell_type": "code",
      "metadata": {
        "id": "mQqvywUG3-cq",
        "colab": {
          "base_uri": "https://localhost:8080/"
        },
        "outputId": "fd1d53f9-1724-4776-f401-cfcf8315d7ad"
      },
      "source": [
        "# 모델 학습\n",
        "history = model.fit(train_inputs,\n",
        "                    train_labels,\n",
        "                    epochs=2,\n",
        "                    batch_size=64,\n",
        "                    callbacks=[early_stopping, save_weights, csv_logger])"
      ],
      "execution_count": 50,
      "outputs": [
        {
          "output_type": "stream",
          "text": [
            "Epoch 1/2\n",
            "1563/1563 [==============================] - 1308s 836ms/step - loss: 6.0700 - lm_acc: 0.0728\n",
            "\n",
            "Epoch 00001: lm_acc improved from -inf to 0.10171, saving model to /content/drive/MyDrive/AI집중캠프(자연어처리)/실습/data/kowiki/lm.hdf5\n",
            "Epoch 2/2\n",
            "1563/1563 [==============================] - 1316s 842ms/step - loss: 4.8434 - lm_acc: 0.1452\n",
            "\n",
            "Epoch 00002: lm_acc improved from 0.10171 to 0.15173, saving model to /content/drive/MyDrive/AI집중캠프(자연어처리)/실습/data/kowiki/lm.hdf5\n"
          ],
          "name": "stdout"
        }
      ]
    },
    {
      "cell_type": "code",
      "metadata": {
        "id": "EttHWg_w3-cr",
        "colab": {
          "base_uri": "https://localhost:8080/",
          "height": 278
        },
        "outputId": "6fa0fe47-65f9-442a-b491-71d08a1c3806"
      },
      "source": [
        "plt.figure(figsize=(12, 4))\n",
        "\n",
        "plt.subplot(1, 2, 1)\n",
        "plt.plot(history.history['loss'], 'b-', label='loss')\n",
        "plt.xlabel('Epoch')\n",
        "plt.legend()\n",
        "\n",
        "plt.subplot(1, 2, 2)\n",
        "plt.plot(history.history['lm_acc'], 'g-', label='acc')\n",
        "plt.xlabel('Epoch')\n",
        "plt.legend()\n",
        "\n",
        "plt.show()"
      ],
      "execution_count": 51,
      "outputs": [
        {
          "output_type": "display_data",
          "data": {
            "image/png": "[encoded data removed]",
            "text/plain": [
              "<Figure size 864x288 with 2 Axes>"
            ]
          },
          "metadata": {
            "tags": [],
            "needs_background": "light"
          }
        }
      ]
    },
    {
      "cell_type": "markdown",
      "metadata": {
        "id": "rfTrHA3v3-cr"
      },
      "source": [
        "## Inference"
      ]
    },
    {
      "cell_type": "code",
      "metadata": {
        "id": "DSh7XdUg3-cr"
      },
      "source": [
        "# 모델 생성\n",
        "model = build_model(len(vocab), d_model, n_seq)\n",
        "# train weight로 초기화\n",
        "model.load_weights(os.path.join(kowiki_dir, 'lm.hdf5'))"
      ],
      "execution_count": 52,
      "outputs": []
    },
    {
      "cell_type": "code",
      "metadata": {
        "id": "nDtLZD4K3-cr"
      },
      "source": [
        "def do_next(vocab, model, n_seq, string):\n",
        "    \"\"\"\n",
        "    다음단어 예측\n",
        "    :param vocab: vocab\n",
        "    :param model: model\n",
        "    :param n_seq: number of seqence\n",
        "    :param string: inpust string\n",
        "    \"\"\"\n",
        "    n_max = n_seq - 1\n",
        "    \n",
        "    tokens = vocab.encode_as_pieces(string)\n",
        "    start_idx = len(tokens)\n",
        "    token_id = [vocab.piece_to_id(p) for p in tokens][:n_max]\n",
        "    token_id = [vocab.bos_id()] + token_id\n",
        "    token_id += [0] * (n_seq - len(token_id))\n",
        "    assert len(token_id) == n_seq\n",
        "\n",
        "    result = model.predict(np.array([token_id]))\n",
        "    prob = result[0][start_idx]\n",
        "    max_args = np.argsort(prob)[-10:]\n",
        "    max_args = list(max_args)\n",
        "    max_args.reverse()\n",
        "\n",
        "    next_prob = []\n",
        "    for i in max_args:\n",
        "        w = vocab.id_to_piece(int(i))\n",
        "        p = prob[i]\n",
        "        next_prob.append((w, p))\n",
        "    return next_prob"
      ],
      "execution_count": 53,
      "outputs": []
    },
    {
      "cell_type": "code",
      "metadata": {
        "id": "-_QF5gIm3-cr",
        "colab": {
          "base_uri": "https://localhost:8080/"
        },
        "outputId": "74068fe8-97e9-43dd-d34b-92414f5649b0"
      },
      "source": [
        "while True:\n",
        "    string = input('시작 문장 > ')\n",
        "    string = string.strip()\n",
        "    if len(string) == 0:\n",
        "        break\n",
        "    next_prob = do_next(vocab, model, n_seq, string)\n",
        "    for w, p in next_prob:\n",
        "        print(f'{w}: {p}')\n",
        "    print()"
      ],
      "execution_count": 58,
      "outputs": [
        {
          "output_type": "stream",
          "text": [
            "시작 문장 > 대한민국\n",
            "▁헌법: 0.050982411950826645\n",
            "▁정부는: 0.03929128497838974\n",
            "▁제: 0.02353331446647644\n",
            "은: 0.01843666285276413\n",
            "▁정부: 0.01801978424191475\n",
            "▁최초의: 0.013631277717649937\n",
            "▁국군: 0.012298807501792908\n",
            "▁육군: 0.010698276571929455\n",
            "▁국회: 0.009795860387384892\n",
            "▁정부가: 0.008895697072148323\n",
            "\n",
            "시작 문장 > 우리나라\n",
            "의: 0.23103417456150055\n",
            "는: 0.09822492301464081\n",
            "에서는: 0.045180100947618484\n",
            "에서: 0.03577151522040367\n",
            "에: 0.02986961416900158\n",
            "에는: 0.020311560481786728\n",
            "(: 0.016659973189234734\n",
            "은: 0.01455020997673273\n",
            "가: 0.011966387741267681\n",
            "와: 0.009545909240841866\n",
            "\n",
            "시작 문장 > \n"
          ],
          "name": "stdout"
        }
      ]
    },
    {
      "cell_type": "code",
      "metadata": {
        "id": "PJ2JSeaK3-cr"
      },
      "source": [
        "def do_generate(vocab, model, n_seq, string):\n",
        "    \"\"\"\n",
        "    문장생성\n",
        "    :param vocab: vocab\n",
        "    :param model: model\n",
        "    :param n_seq: number of seqence\n",
        "    :param string: inpust string\n",
        "    \"\"\"\n",
        "    n_max = n_seq - 1\n",
        "    tokens = vocab.encode_as_pieces(string)\n",
        "    start_idx = len(tokens)\n",
        "    token_id = [vocab.piece_to_id(p) for p in tokens][:n_max]\n",
        "    token_id = [vocab.bos_id()] + token_id\n",
        "    token_id += [0] * (n_seq - len(token_id))\n",
        "    assert len(token_id) == n_seq\n",
        "\n",
        "    for _ in range(start_idx, n_seq - 1):\n",
        "        outputs = model.predict(np.array([token_id]))\n",
        "        prob = outputs[0][start_idx]\n",
        "        word_id = int(np.random.choice(len(vocab), 1, p=prob)[0])\n",
        "        # word_id = np.argmax(prob)\n",
        "        if word_id == vocab.eos_id():\n",
        "            break\n",
        "        token_id[start_idx + 1] = word_id\n",
        "        start_idx += 1\n",
        "    predict_id = token_id[1:start_idx + 1]\n",
        "    predict_str = vocab.decode_ids(predict_id)\n",
        "    return predict_str"
      ],
      "execution_count": 57,
      "outputs": []
    },
    {
      "cell_type": "code",
      "metadata": {
        "id": "ts-fnAO73-cs",
        "colab": {
          "base_uri": "https://localhost:8080/"
        },
        "outputId": "3e09f0e6-4dcb-4062-c0b1-263b983061da"
      },
      "source": [
        "while True:\n",
        "    string = input('시작 문장 > ')\n",
        "    string = string.strip()\n",
        "    if len(string) == 0:\n",
        "        break\n",
        "    predict_str = do_generate(vocab, model, n_seq, string)\n",
        "    print(predict_str)"
      ],
      "execution_count": 59,
      "outputs": [
        {
          "output_type": "stream",
          "text": [
            "시작 문장 > 대한민국은\n",
            "대한민국은 2006년 1월 베트남 함대는 중립사령부가 심출하여 해체에 그쳤다. 아트렘은 영국에 대한 확장으로 인해 1989년 3월의 협 상자를 끝내기 설립 렸지만 지금도 친일인명사전에 불과하고 있었으며, 제2차 세계대전을 앞두고 망명식당 개최받스러웠(년내상의 제 선거가 중국평화위원회으로 규정했던 것으로 한다.\n",
            "시작 문장 > 독도는 우리땅\n",
            "독도는 우리땅을 표기할 수 있는 말과 공기와 화약대가 기억을 만들며, 지각한다. 게리에는, 나무 모양의 온도를 띄기 때문이다. 보통 미노로 역몰, 도마뱀, 등 천연기념물 샛·게이종-·11촌이다(윤중일의) 문화 밖에 수로운 DNA 구분을 치었다는 것을 뒷받침하는 것과 함께 갈매기다. 눈형 화자 토크가성혁인 오원핵의 바로 취향 등 발견되어 봄 우리 내종형 만극이되고, 작전을 한다는 설이 있지 않았다. 가장 오래된 콘서트 축제 지도에 따라, 노리불이\n",
            "시작 문장 > 초콜릿은 맛있어.\n",
            "초콜릿은 맛있어. 진한하나님가 NP-우르고동 연장 버스부터 발가락이 복잡개 사류하게 활성한 부분이 된다. 대표적인같은 한강아산 다음으로 성장된 사람화에 좀더 수 있다. 그런데 이원이 오래장하자 사후에는 이 제도에 잡혀 있다. 순판 위석을 체고불사를 안정하는 경우도 많다. 온대인의\n",
            "시작 문장 > \n"
          ],
          "name": "stdout"
        }
      ]
    }
  ]
}