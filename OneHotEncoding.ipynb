{
  "nbformat": 4,
  "nbformat_minor": 0,
  "metadata": {
    "colab": {
      "name": "02-01-encoding-강의.ipynb",
      "provenance": [],
      "collapsed_sections": [
        "GXCMJU7APHuz"
      ],
      "include_colab_link": true
    },
    "kernelspec": {
      "name": "python3",
      "display_name": "Python 3"
    },
    "accelerator": "GPU"
  },
  "cells": [
    {
      "cell_type": "markdown",
      "metadata": {
        "id": "view-in-github",
        "colab_type": "text"
      },
      "source": [
        "<a href=\"https://colab.research.google.com/github/nainye/nlp_practice/blob/main/OneHotEncoding.ipynb\" target=\"_parent\"><img src=\"https://colab.research.google.com/assets/colab-badge.svg\" alt=\"Open In Colab\"/></a>"
      ]
    },
    {
      "cell_type": "markdown",
      "metadata": {
        "id": "JHkHg6XAXoyK"
      },
      "source": [
        "# Evn"
      ]
    },
    {
      "cell_type": "code",
      "metadata": {
        "id": "WkYXFwcBXJDG"
      },
      "source": [
        "import os\n",
        "import random\n",
        "import shutil\n",
        "import json\n",
        "import zipfile\n",
        "import math\n",
        "import copy\n",
        "import collections\n",
        "\n",
        "import matplotlib.pyplot as plt\n",
        "import pandas as pd\n",
        "import numpy as np\n",
        "import tensorflow as tf\n",
        "import tensorflow.keras.backend as K\n",
        "\n",
        "from tqdm.notebook import tqdm"
      ],
      "execution_count": 1,
      "outputs": []
    },
    {
      "cell_type": "code",
      "metadata": {
        "id": "nvjyruUlXtlR"
      },
      "source": [
        "# random seed initialize\n",
        "random_seed = 1234\n",
        "random.seed(random_seed)\n",
        "np.random.seed(random_seed)\n",
        "\n",
        "# 이를 설정해놓지 않으면 컴퓨터 타입에 따라 랜덤값이 바뀜. 랜덤값을 균일하게 맞춰주기 위함"
      ],
      "execution_count": 2,
      "outputs": []
    },
    {
      "cell_type": "markdown",
      "metadata": {
        "id": "mlEeZqo5MmS4"
      },
      "source": [
        "# One-hot"
      ]
    },
    {
      "cell_type": "code",
      "metadata": {
        "id": "2H0BLydCb7lg"
      },
      "source": [
        "# one hot encoding text\n",
        "text = \"\"\"나는 책을 샀다\n",
        "나는 책을 본다\n",
        "나는 책을 팔았다\n",
        "나는 책을 서점에서 샀다\n",
        "나는 책을 도서관에서 본다\"\"\""
      ],
      "execution_count": 3,
      "outputs": []
    },
    {
      "cell_type": "code",
      "metadata": {
        "id": "kYkW9ulfMsJh",
        "colab": {
          "base_uri": "https://localhost:8080/"
        },
        "outputId": "b7586c67-23d8-495f-bcb0-e00786fbfead"
      },
      "source": [
        "# space 단위로 분리\n",
        "tokens = text.split()\n",
        "tokens"
      ],
      "execution_count": 4,
      "outputs": [
        {
          "output_type": "execute_result",
          "data": {
            "text/plain": [
              "['나는',\n",
              " '책을',\n",
              " '샀다',\n",
              " '나는',\n",
              " '책을',\n",
              " '본다',\n",
              " '나는',\n",
              " '책을',\n",
              " '팔았다',\n",
              " '나는',\n",
              " '책을',\n",
              " '서점에서',\n",
              " '샀다',\n",
              " '나는',\n",
              " '책을',\n",
              " '도서관에서',\n",
              " '본다']"
            ]
          },
          "metadata": {
            "tags": []
          },
          "execution_count": 4
        }
      ]
    },
    {
      "cell_type": "code",
      "metadata": {
        "id": "fBy3trarM9K6",
        "colab": {
          "base_uri": "https://localhost:8080/"
        },
        "outputId": "4b91f9f4-6f8f-44d2-9dc7-bd4ccb47c871"
      },
      "source": [
        "words = list(dict.fromkeys(tokens)) # 딕셔너리로 중복 제거\n",
        "words"
      ],
      "execution_count": 5,
      "outputs": [
        {
          "output_type": "execute_result",
          "data": {
            "text/plain": [
              "['나는', '책을', '샀다', '본다', '팔았다', '서점에서', '도서관에서']"
            ]
          },
          "metadata": {
            "tags": []
          },
          "execution_count": 5
        }
      ]
    },
    {
      "cell_type": "code",
      "metadata": {
        "id": "DSndx7RxNDyR",
        "colab": {
          "base_uri": "https://localhost:8080/"
        },
        "outputId": "8e291325-4552-42bd-e2b6-44cbda1fdb0c"
      },
      "source": [
        "# 각 단어에 고유한 번호 부여한 dictionary 생성\n",
        "word_to_id = {'[PAD]': 0, '[UNK]': 1}  # [PAD]: 길이 맞추는 용도, [UNK]: 알 수 없는 token\n",
        "for word in words:\n",
        "    word_to_id[word] = len(word_to_id)\n",
        "word_to_id"
      ],
      "execution_count": 6,
      "outputs": [
        {
          "output_type": "execute_result",
          "data": {
            "text/plain": [
              "{'[PAD]': 0,\n",
              " '[UNK]': 1,\n",
              " '나는': 2,\n",
              " '도서관에서': 8,\n",
              " '본다': 5,\n",
              " '샀다': 4,\n",
              " '서점에서': 7,\n",
              " '책을': 3,\n",
              " '팔았다': 6}"
            ]
          },
          "metadata": {
            "tags": []
          },
          "execution_count": 6
        }
      ]
    },
    {
      "cell_type": "code",
      "metadata": {
        "id": "hyxX8P0UNogt",
        "colab": {
          "base_uri": "https://localhost:8080/"
        },
        "outputId": "d51de879-71b8-422f-cb02-3350e98ea70f"
      },
      "source": [
        "# 고유한 번호로 부터 단어를 찾을 수 있는 dictionary 생성\n",
        "id_to_word = {word:_id for _id, word in word_to_id.items()}\n",
        "id_to_word"
      ],
      "execution_count": 7,
      "outputs": [
        {
          "output_type": "execute_result",
          "data": {
            "text/plain": [
              "{0: '[PAD]',\n",
              " 1: '[UNK]',\n",
              " 2: '나는',\n",
              " 3: '책을',\n",
              " 4: '샀다',\n",
              " 5: '본다',\n",
              " 6: '팔았다',\n",
              " 7: '서점에서',\n",
              " 8: '도서관에서'}"
            ]
          },
          "metadata": {
            "tags": []
          },
          "execution_count": 7
        }
      ]
    },
    {
      "cell_type": "code",
      "metadata": {
        "id": "EH8CnhmuN4Ev",
        "colab": {
          "base_uri": "https://localhost:8080/"
        },
        "outputId": "84840aab-966e-42d3-8fce-81f9afc42353"
      },
      "source": [
        "# 줄바꿈 단위로 문장 분리\n",
        "sentences = text.split(\"\\n\")\n",
        "sentences"
      ],
      "execution_count": 8,
      "outputs": [
        {
          "output_type": "execute_result",
          "data": {
            "text/plain": [
              "['나는 책을 샀다', '나는 책을 본다', '나는 책을 팔았다', '나는 책을 서점에서 샀다', '나는 책을 도서관에서 본다']"
            ]
          },
          "metadata": {
            "tags": []
          },
          "execution_count": 8
        }
      ]
    },
    {
      "cell_type": "code",
      "metadata": {
        "id": "q330mF5IN6Q-",
        "colab": {
          "base_uri": "https://localhost:8080/"
        },
        "outputId": "7113fe09-6fba-4a2a-8192-b3505b64a4c5"
      },
      "source": [
        "# 띄어쓰기 단위로 단어 분리\n",
        "tokens = []\n",
        "for sentence in sentences:\n",
        "    tokens.append(sentence.split())\n",
        "tokens"
      ],
      "execution_count": 9,
      "outputs": [
        {
          "output_type": "execute_result",
          "data": {
            "text/plain": [
              "[['나는', '책을', '샀다'],\n",
              " ['나는', '책을', '본다'],\n",
              " ['나는', '책을', '팔았다'],\n",
              " ['나는', '책을', '서점에서', '샀다'],\n",
              " ['나는', '책을', '도서관에서', '본다']]"
            ]
          },
          "metadata": {
            "tags": []
          },
          "execution_count": 9
        }
      ]
    },
    {
      "cell_type": "code",
      "metadata": {
        "id": "4mJPXOBJOOuw",
        "colab": {
          "base_uri": "https://localhost:8080/"
        },
        "outputId": "93d82540-373b-428d-c181-e1633b24ee84"
      },
      "source": [
        "# tokens을 vocabulary의 고유 번호로 변경\n",
        "token_ids = []\n",
        "for line_token in tokens:\n",
        "    token_ids.append([word_to_id[token] for token in line_token])\n",
        "token_ids"
      ],
      "execution_count": 10,
      "outputs": [
        {
          "output_type": "execute_result",
          "data": {
            "text/plain": [
              "[[2, 3, 4], [2, 3, 5], [2, 3, 6], [2, 3, 7, 4], [2, 3, 8, 5]]"
            ]
          },
          "metadata": {
            "tags": []
          },
          "execution_count": 10
        }
      ]
    },
    {
      "cell_type": "code",
      "metadata": {
        "id": "qpL1RtY7OS1p",
        "colab": {
          "base_uri": "https://localhost:8080/"
        },
        "outputId": "63cef68c-5f92-4147-bc8b-b379fb91f504"
      },
      "source": [
        "# one hot encoding\n",
        "one_hot_encodings = []\n",
        "for line_token in token_ids:\n",
        "    print(line_token)\n",
        "    one_hot_line = []  # 한 줄을 표현하는 벡터\n",
        "    for id in line_token:\n",
        "        one_hot = [0] * len(word_to_id) # 모두 0인 벡터를 만듦\n",
        "        one_hot[id] = 1 # 원 핫 벡터 생성\n",
        "        one_hot_line.append(one_hot)\n",
        "    one_hot_encodings.append((one_hot_line))  # 라인을 전체 문서에 추가"
      ],
      "execution_count": 11,
      "outputs": [
        {
          "output_type": "stream",
          "text": [
            "[2, 3, 4]\n",
            "[2, 3, 5]\n",
            "[2, 3, 6]\n",
            "[2, 3, 7, 4]\n",
            "[2, 3, 8, 5]\n"
          ],
          "name": "stdout"
        }
      ]
    },
    {
      "cell_type": "code",
      "metadata": {
        "id": "USRtIkT4-PUP",
        "colab": {
          "base_uri": "https://localhost:8080/"
        },
        "outputId": "07182d42-1cf0-496d-bbbe-d9aaa1b0d94f"
      },
      "source": [
        "one_hot_encodings"
      ],
      "execution_count": 12,
      "outputs": [
        {
          "output_type": "execute_result",
          "data": {
            "text/plain": [
              "[[[0, 0, 1, 0, 0, 0, 0, 0, 0],\n",
              "  [0, 0, 0, 1, 0, 0, 0, 0, 0],\n",
              "  [0, 0, 0, 0, 1, 0, 0, 0, 0]],\n",
              " [[0, 0, 1, 0, 0, 0, 0, 0, 0],\n",
              "  [0, 0, 0, 1, 0, 0, 0, 0, 0],\n",
              "  [0, 0, 0, 0, 0, 1, 0, 0, 0]],\n",
              " [[0, 0, 1, 0, 0, 0, 0, 0, 0],\n",
              "  [0, 0, 0, 1, 0, 0, 0, 0, 0],\n",
              "  [0, 0, 0, 0, 0, 0, 1, 0, 0]],\n",
              " [[0, 0, 1, 0, 0, 0, 0, 0, 0],\n",
              "  [0, 0, 0, 1, 0, 0, 0, 0, 0],\n",
              "  [0, 0, 0, 0, 0, 0, 0, 1, 0],\n",
              "  [0, 0, 0, 0, 1, 0, 0, 0, 0]],\n",
              " [[0, 0, 1, 0, 0, 0, 0, 0, 0],\n",
              "  [0, 0, 0, 1, 0, 0, 0, 0, 0],\n",
              "  [0, 0, 0, 0, 0, 0, 0, 0, 1],\n",
              "  [0, 0, 0, 0, 0, 1, 0, 0, 0]]]"
            ]
          },
          "metadata": {
            "tags": []
          },
          "execution_count": 12
        }
      ]
    },
    {
      "cell_type": "code",
      "metadata": {
        "colab": {
          "base_uri": "https://localhost:8080/"
        },
        "id": "cwVxrxZZUq1c",
        "outputId": "bb5d3dbd-ed89-489f-a51a-c8aaa9b05efc"
      },
      "source": [
        "np.argmax(np.array(one_hot_encodings[1]), axis=-1) # 원 핫 벡터를 다시 되돌리는 법"
      ],
      "execution_count": 13,
      "outputs": [
        {
          "output_type": "execute_result",
          "data": {
            "text/plain": [
              "array([2, 3, 5])"
            ]
          },
          "metadata": {
            "tags": []
          },
          "execution_count": 13
        }
      ]
    },
    {
      "cell_type": "code",
      "metadata": {
        "id": "k_29J14jOtYq"
      },
      "source": [
        "# tensorflow one hot\n",
        "# token_ids가 앞 3개는 길이가 3 이지만 이후는 4로 tensorflow에서는 오류 발생 함\n",
        "# depth는 vocabulary 크기\n",
        "\n",
        "# tf.one_hot(indices=token_ids, depth=len(word_to_id)) # 직사각형이 아니기 때문에 에러 발생\n"
      ],
      "execution_count": 14,
      "outputs": []
    },
    {
      "cell_type": "code",
      "metadata": {
        "colab": {
          "base_uri": "https://localhost:8080/"
        },
        "id": "M80elI6ZVbPB",
        "outputId": "5eed0dfd-7e2d-4623-e209-b154dc88dfbf"
      },
      "source": [
        "token_ids[:3]"
      ],
      "execution_count": 15,
      "outputs": [
        {
          "output_type": "execute_result",
          "data": {
            "text/plain": [
              "[[2, 3, 4], [2, 3, 5], [2, 3, 6]]"
            ]
          },
          "metadata": {
            "tags": []
          },
          "execution_count": 15
        }
      ]
    },
    {
      "cell_type": "code",
      "metadata": {
        "id": "pMh8KXVbZ55a",
        "colab": {
          "base_uri": "https://localhost:8080/"
        },
        "outputId": "09be2a94-42dd-407a-9d19-ba43a7078a7a"
      },
      "source": [
        "# token_ids가 앞 3개만 one_hot으로 변경\n",
        "tf.one_hot(indices=token_ids[:3], depth=len(word_to_id))"
      ],
      "execution_count": 16,
      "outputs": [
        {
          "output_type": "execute_result",
          "data": {
            "text/plain": [
              "<tf.Tensor: shape=(3, 3, 9), dtype=float32, numpy=\n",
              "array([[[0., 0., 1., 0., 0., 0., 0., 0., 0.],\n",
              "        [0., 0., 0., 1., 0., 0., 0., 0., 0.],\n",
              "        [0., 0., 0., 0., 1., 0., 0., 0., 0.]],\n",
              "\n",
              "       [[0., 0., 1., 0., 0., 0., 0., 0., 0.],\n",
              "        [0., 0., 0., 1., 0., 0., 0., 0., 0.],\n",
              "        [0., 0., 0., 0., 0., 1., 0., 0., 0.]],\n",
              "\n",
              "       [[0., 0., 1., 0., 0., 0., 0., 0., 0.],\n",
              "        [0., 0., 0., 1., 0., 0., 0., 0., 0.],\n",
              "        [0., 0., 0., 0., 0., 0., 1., 0., 0.]]], dtype=float32)>"
            ]
          },
          "metadata": {
            "tags": []
          },
          "execution_count": 16
        }
      ]
    },
    {
      "cell_type": "code",
      "metadata": {
        "id": "xWmcI_-YaMmc",
        "colab": {
          "base_uri": "https://localhost:8080/"
        },
        "outputId": "1c09f023-4431-40db-e0ea-7ec494dc4416"
      },
      "source": [
        "# 모두 길이가 4가 되도록 pad(0) 추가\n",
        "pad_ids = []\n",
        "for line in token_ids:\n",
        "    line = line[:4]\n",
        "    line += [0] * (4 - len(line))\n",
        "    pad_ids.append(line)\n",
        "pad_ids"
      ],
      "execution_count": 17,
      "outputs": [
        {
          "output_type": "execute_result",
          "data": {
            "text/plain": [
              "[[2, 3, 4, 0], [2, 3, 5, 0], [2, 3, 6, 0], [2, 3, 7, 4], [2, 3, 8, 5]]"
            ]
          },
          "metadata": {
            "tags": []
          },
          "execution_count": 17
        }
      ]
    },
    {
      "cell_type": "code",
      "metadata": {
        "colab": {
          "base_uri": "https://localhost:8080/"
        },
        "id": "C5JCFaggV5Vn",
        "outputId": "63690e48-397f-4196-fd54-51b5cacb44f8"
      },
      "source": [
        "# padding 수행 후, tensorflow one hot\n",
        "tf_one_hot_encodings = tf.one_hot(indices=pad_ids, depth=len(word_to_id))\n",
        "tf_one_hot_encodings"
      ],
      "execution_count": 18,
      "outputs": [
        {
          "output_type": "execute_result",
          "data": {
            "text/plain": [
              "<tf.Tensor: shape=(5, 4, 9), dtype=float32, numpy=\n",
              "array([[[0., 0., 1., 0., 0., 0., 0., 0., 0.],\n",
              "        [0., 0., 0., 1., 0., 0., 0., 0., 0.],\n",
              "        [0., 0., 0., 0., 1., 0., 0., 0., 0.],\n",
              "        [1., 0., 0., 0., 0., 0., 0., 0., 0.]],\n",
              "\n",
              "       [[0., 0., 1., 0., 0., 0., 0., 0., 0.],\n",
              "        [0., 0., 0., 1., 0., 0., 0., 0., 0.],\n",
              "        [0., 0., 0., 0., 0., 1., 0., 0., 0.],\n",
              "        [1., 0., 0., 0., 0., 0., 0., 0., 0.]],\n",
              "\n",
              "       [[0., 0., 1., 0., 0., 0., 0., 0., 0.],\n",
              "        [0., 0., 0., 1., 0., 0., 0., 0., 0.],\n",
              "        [0., 0., 0., 0., 0., 0., 1., 0., 0.],\n",
              "        [1., 0., 0., 0., 0., 0., 0., 0., 0.]],\n",
              "\n",
              "       [[0., 0., 1., 0., 0., 0., 0., 0., 0.],\n",
              "        [0., 0., 0., 1., 0., 0., 0., 0., 0.],\n",
              "        [0., 0., 0., 0., 0., 0., 0., 1., 0.],\n",
              "        [0., 0., 0., 0., 1., 0., 0., 0., 0.]],\n",
              "\n",
              "       [[0., 0., 1., 0., 0., 0., 0., 0., 0.],\n",
              "        [0., 0., 0., 1., 0., 0., 0., 0., 0.],\n",
              "        [0., 0., 0., 0., 0., 0., 0., 0., 1.],\n",
              "        [0., 0., 0., 0., 0., 1., 0., 0., 0.]]], dtype=float32)>"
            ]
          },
          "metadata": {
            "tags": []
          },
          "execution_count": 18
        }
      ]
    },
    {
      "cell_type": "markdown",
      "metadata": {
        "id": "GXCMJU7APHuz"
      },
      "source": [
        "# Embedding"
      ]
    },
    {
      "cell_type": "code",
      "metadata": {
        "id": "f6VeeYocPF08",
        "colab": {
          "base_uri": "https://localhost:8080/"
        },
        "outputId": "d60f295a-5fe6-47b8-eee2-c110742fa614"
      },
      "source": [
        "# 랜덤 매트릭스 생성\n",
        "weights = np.random.randint(10, 100, size=(len(word_to_id), 4)) / 100 # 10~99로 생성\n",
        "weights"
      ],
      "execution_count": 19,
      "outputs": [
        {
          "output_type": "execute_result",
          "data": {
            "text/plain": [
              "array([[0.57, 0.93, 0.48, 0.63],\n",
              "       [0.86, 0.34, 0.25, 0.59],\n",
              "       [0.33, 0.36, 0.4 , 0.53],\n",
              "       [0.4 , 0.36, 0.68, 0.79],\n",
              "       [0.9 , 0.83, 0.57, 0.6 ],\n",
              "       [0.86, 0.47, 0.44, 0.48],\n",
              "       [0.77, 0.21, 0.1 , 0.85],\n",
              "       [0.9 , 0.13, 0.12, 0.29],\n",
              "       [0.22, 0.75, 0.85, 0.91]])"
            ]
          },
          "metadata": {
            "tags": []
          },
          "execution_count": 19
        }
      ]
    },
    {
      "cell_type": "code",
      "metadata": {
        "id": "LYAhl1d2PdiP",
        "colab": {
          "base_uri": "https://localhost:8080/"
        },
        "outputId": "c729a999-7c3b-4cca-d8f5-42ed03b8a709"
      },
      "source": [
        "# 첫번째 문장 만 numpy array로 변경\n",
        "one_hot_encoding_0 = np.array(one_hot_encodings[0])\n",
        "one_hot_encoding_0"
      ],
      "execution_count": 20,
      "outputs": [
        {
          "output_type": "execute_result",
          "data": {
            "text/plain": [
              "array([[0, 0, 1, 0, 0, 0, 0, 0, 0],\n",
              "       [0, 0, 0, 1, 0, 0, 0, 0, 0],\n",
              "       [0, 0, 0, 0, 1, 0, 0, 0, 0]])"
            ]
          },
          "metadata": {
            "tags": []
          },
          "execution_count": 20
        }
      ]
    },
    {
      "cell_type": "code",
      "metadata": {
        "id": "cFSdqtaZPuow",
        "colab": {
          "base_uri": "https://localhost:8080/"
        },
        "outputId": "df27b9c9-2c70-48a7-98e6-2b0eff29fa51"
      },
      "source": [
        "print(token_ids[0])\n",
        "print(weights[token_ids[0][0]])\n",
        "print(weights[token_ids[0][1]])\n",
        "print(weights[token_ids[0][2]])"
      ],
      "execution_count": 21,
      "outputs": [
        {
          "output_type": "stream",
          "text": [
            "[2, 3, 4]\n",
            "[0.33 0.36 0.4  0.53]\n",
            "[0.4  0.36 0.68 0.79]\n",
            "[0.9  0.83 0.57 0.6 ]\n"
          ],
          "name": "stdout"
        }
      ]
    },
    {
      "cell_type": "code",
      "metadata": {
        "id": "c1cG1z10Piv_",
        "colab": {
          "base_uri": "https://localhost:8080/"
        },
        "outputId": "96d71a96-b26e-4d4e-e514-acca5d049229"
      },
      "source": [
        "# one hot encoding은 matrix의 특정 row를 선택하는 것과 같은 결과\n",
        "np.matmul(one_hot_encoding_0, weights)"
      ],
      "execution_count": 22,
      "outputs": [
        {
          "output_type": "execute_result",
          "data": {
            "text/plain": [
              "array([[0.33, 0.36, 0.4 , 0.53],\n",
              "       [0.4 , 0.36, 0.68, 0.79],\n",
              "       [0.9 , 0.83, 0.57, 0.6 ]])"
            ]
          },
          "metadata": {
            "tags": []
          },
          "execution_count": 22
        }
      ]
    },
    {
      "cell_type": "code",
      "metadata": {
        "id": "sQbf_h5TP_Ra"
      },
      "source": [
        "# tensorflow 에서도 tf.keras.layers.Embedding에서도 가능 함\n",
        "# weights 초기화를 위해서 [matrix] 형태로 변환함\n",
        "# embdding을 사용하면 token 번호를 바로 사용가능 함 현재 표준화된 방법\n",
        "embedding = tf.keras.layers.Embedding(len(word_to_id), 4, weights=[weights])"
      ],
      "execution_count": 23,
      "outputs": []
    },
    {
      "cell_type": "code",
      "metadata": {
        "id": "qdPq5DDUQQwv",
        "colab": {
          "base_uri": "https://localhost:8080/"
        },
        "outputId": "202b2f14-f28e-4704-a2db-bcf53a5e1801"
      },
      "source": [
        "embedding(np.array(token_ids[0]))"
      ],
      "execution_count": 24,
      "outputs": [
        {
          "output_type": "execute_result",
          "data": {
            "text/plain": [
              "<tf.Tensor: shape=(3, 4), dtype=float32, numpy=\n",
              "array([[0.33, 0.36, 0.4 , 0.53],\n",
              "       [0.4 , 0.36, 0.68, 0.79],\n",
              "       [0.9 , 0.83, 0.57, 0.6 ]], dtype=float32)>"
            ]
          },
          "metadata": {
            "tags": []
          },
          "execution_count": 24
        }
      ]
    },
    {
      "cell_type": "code",
      "metadata": {
        "id": "C0DjjJuDQW1U",
        "colab": {
          "base_uri": "https://localhost:8080/"
        },
        "outputId": "2645e195-2090-4391-8cea-1d661c45cf30"
      },
      "source": [
        "# embedding과 비슷한 역할 수행\n",
        "tf.gather(weights, np.array(token_ids[0]))"
      ],
      "execution_count": 25,
      "outputs": [
        {
          "output_type": "execute_result",
          "data": {
            "text/plain": [
              "<tf.Tensor: shape=(3, 4), dtype=float64, numpy=\n",
              "array([[0.33, 0.36, 0.4 , 0.53],\n",
              "       [0.4 , 0.36, 0.68, 0.79],\n",
              "       [0.9 , 0.83, 0.57, 0.6 ]])>"
            ]
          },
          "metadata": {
            "tags": []
          },
          "execution_count": 25
        }
      ]
    },
    {
      "cell_type": "code",
      "metadata": {
        "id": "NVjo8R-Ia9vi"
      },
      "source": [
        ""
      ],
      "execution_count": 25,
      "outputs": []
    }
  ]
}