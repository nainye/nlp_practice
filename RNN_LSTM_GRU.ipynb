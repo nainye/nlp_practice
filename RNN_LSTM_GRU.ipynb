{
  "nbformat": 4,
  "nbformat_minor": 0,
  "metadata": {
    "colab": {
      "name": "04-03-rnn-강의.ipynb",
      "provenance": [],
      "collapsed_sections": [
        "JHkHg6XAXoyK",
        "0CdGEt7qettt",
        "4djaB-QUEpM1",
        "hbKSrcCiEpM4",
        "FIUQbE4JEpM6",
        "b08qbae2EpM6",
        "0sQe9bt3EpM7",
        "UwYL3S69EpM7",
        "IERrFgvZEpM9",
        "qCoEmDGrEpM9",
        "LkG2MYdTEpM-",
        "xhATu4loEpM-",
        "Fw8vlO4BEpM_",
        "jrerwhbEEpM_",
        "3Dxp5BWdEpNA",
        "_hzfJO5dEpNA",
        "7e5j3OBVEpNB",
        "hQYtG3aOEpNB",
        "zGu354Z0EpNB",
        "RXoZmvMRD1BD",
        "43lkL3LeD1BE",
        "Jmv-M7oqD1BE",
        "sQaFWsxN_Wa-",
        "1NvWgSQW_WbI",
        "YYJLRqQN_WbJ",
        "s6uX1Yz2_WbJ",
        "tDsh_WrM_WbK",
        "f6YIh1UK6fqf",
        "nMk2duPz_WbK",
        "AJxyxHyMBLVT",
        "HtKHOhc0BLVh",
        "caCQoTUJBLVi",
        "Cvudxy7hBLVj",
        "3c_70ASUBLVj",
        "A31meY567E4A",
        "WM9iRBglBLVk"
      ],
      "include_colab_link": true
    },
    "kernelspec": {
      "name": "python3",
      "display_name": "Python 3"
    }
  },
  "cells": [
    {
      "cell_type": "markdown",
      "metadata": {
        "id": "view-in-github",
        "colab_type": "text"
      },
      "source": [
        "<a href=\"https://colab.research.google.com/github/nainye/nlp_practice/blob/main/rnn_sltm_gru.ipynb\" target=\"_parent\"><img src=\"https://colab.research.google.com/assets/colab-badge.svg\" alt=\"Open In Colab\"/></a>"
      ]
    },
    {
      "cell_type": "markdown",
      "metadata": {
        "id": "JHkHg6XAXoyK"
      },
      "source": [
        "# Evn"
      ]
    },
    {
      "cell_type": "code",
      "metadata": {
        "id": "WkYXFwcBXJDG"
      },
      "source": [
        "import os\n",
        "import random\n",
        "import shutil\n",
        "import json\n",
        "import zipfile\n",
        "import math\n",
        "import copy\n",
        "import collections\n",
        "import re\n",
        "\n",
        "import matplotlib.pyplot as plt\n",
        "import pandas as pd\n",
        "import numpy as np\n",
        "import tensorflow as tf\n",
        "import tensorflow.keras.backend as K\n",
        "\n",
        "from tqdm.notebook import tqdm"
      ],
      "execution_count": 1,
      "outputs": []
    },
    {
      "cell_type": "code",
      "metadata": {
        "id": "nvjyruUlXtlR"
      },
      "source": [
        "# random seed initialize\n",
        "random_seed = 1234\n",
        "random.seed(random_seed)\n",
        "np.random.seed(random_seed)\n",
        "tf.random.set_seed(random_seed)"
      ],
      "execution_count": 2,
      "outputs": []
    },
    {
      "cell_type": "code",
      "metadata": {
        "id": "BC3fXkhdYcYt",
        "colab": {
          "base_uri": "https://localhost:8080/"
        },
        "outputId": "6475b52b-8f66-40b7-fa71-0e58c1948ad6"
      },
      "source": [
        "!nvidia-smi"
      ],
      "execution_count": 3,
      "outputs": [
        {
          "output_type": "stream",
          "text": [
            "NVIDIA-SMI has failed because it couldn't communicate with the NVIDIA driver. Make sure that the latest NVIDIA driver is installed and running.\n",
            "\n"
          ],
          "name": "stdout"
        }
      ]
    },
    {
      "cell_type": "markdown",
      "metadata": {
        "id": "0CdGEt7qettt"
      },
      "source": [
        "# 입력 및 Vocab"
      ]
    },
    {
      "cell_type": "code",
      "metadata": {
        "id": "v_6blgOGetBN"
      },
      "source": [
        "# 입력 문장\n",
        "sentences = [\n",
        "    '나는 오늘 기분이 좋아 나는 오늘 우울해'\n",
        "]"
      ],
      "execution_count": 4,
      "outputs": []
    },
    {
      "cell_type": "code",
      "metadata": {
        "id": "jAWGyFfxe_p-",
        "colab": {
          "base_uri": "https://localhost:8080/"
        },
        "outputId": "bef1a470-0da5-4f84-ebf6-14754c399ada"
      },
      "source": [
        "# 각 문장을 띄어쓰기 단위로 분할\n",
        "words = []\n",
        "for sentence in sentences:\n",
        "    words.extend(sentence.split())\n",
        "\n",
        "# 중복 단어 제거\n",
        "words = list(dict.fromkeys(words))\n",
        "\n",
        "# 각 단어별 고유한 번호 부여\n",
        "word_to_id = {'[PAD]': 0, '[UNK]': 1}\n",
        "for word in words:\n",
        "    word_to_id[word] = len(word_to_id)\n",
        "\n",
        "# 각 숫자별 단어 부여\n",
        "id_to_word = {_id:word for word, _id in word_to_id.items()}\n",
        "\n",
        "word_to_id, id_to_word"
      ],
      "execution_count": 5,
      "outputs": [
        {
          "output_type": "execute_result",
          "data": {
            "text/plain": [
              "({'[PAD]': 0, '[UNK]': 1, '기분이': 4, '나는': 2, '오늘': 3, '우울해': 6, '좋아': 5},\n",
              " {0: '[PAD]', 1: '[UNK]', 2: '나는', 3: '오늘', 4: '기분이', 5: '좋아', 6: '우울해'})"
            ]
          },
          "metadata": {
            "tags": []
          },
          "execution_count": 5
        }
      ]
    },
    {
      "cell_type": "code",
      "metadata": {
        "id": "ywpz8iOsfVnx",
        "colab": {
          "base_uri": "https://localhost:8080/"
        },
        "outputId": "6b5aee4a-9ea4-40f1-c9b3-efc5179db28e"
      },
      "source": [
        "# 학습용 입력 데이터 생성\n",
        "train_inputs = []\n",
        "for sentence in sentences:\n",
        "    train_inputs.append([word_to_id[word] for word in sentence.split()])\n",
        "\n",
        "# train inputs을 numpy array로 변환\n",
        "train_inputs = np.array(train_inputs)\n",
        "\n",
        "train_inputs"
      ],
      "execution_count": 6,
      "outputs": [
        {
          "output_type": "execute_result",
          "data": {
            "text/plain": [
              "array([[2, 3, 4, 5, 2, 3, 6]])"
            ]
          },
          "metadata": {
            "tags": []
          },
          "execution_count": 6
        }
      ]
    },
    {
      "cell_type": "code",
      "metadata": {
        "id": "2ecE86vf0bWT"
      },
      "source": [
        "# embedding\n",
        "embedding = tf.keras.layers.Embedding(len(word_to_id), 4)"
      ],
      "execution_count": 7,
      "outputs": []
    },
    {
      "cell_type": "code",
      "metadata": {
        "id": "MtjAxtyR0efa",
        "colab": {
          "base_uri": "https://localhost:8080/"
        },
        "outputId": "fd5d52b4-2850-4102-df0e-bb619ea24dea"
      },
      "source": [
        "# 단어벡터\n",
        "hidden = embedding(train_inputs)\n",
        "hidden"
      ],
      "execution_count": 8,
      "outputs": [
        {
          "output_type": "execute_result",
          "data": {
            "text/plain": [
              "<tf.Tensor: shape=(1, 7, 4), dtype=float32, numpy=\n",
              "array([[[ 0.02788493,  0.00853021,  0.02688133, -0.00167429],\n",
              "        [ 0.00873896, -0.04772998, -0.00643448,  0.04782395],\n",
              "        [ 0.04810704, -0.03535189,  0.04945729,  0.02813626],\n",
              "        [-0.02798697, -0.00110071,  0.0133124 ,  0.00637371],\n",
              "        [ 0.02788493,  0.00853021,  0.02688133, -0.00167429],\n",
              "        [ 0.00873896, -0.04772998, -0.00643448,  0.04782395],\n",
              "        [-0.00963336, -0.01013004,  0.01826939,  0.02741292]]],\n",
              "      dtype=float32)>"
            ]
          },
          "metadata": {
            "tags": []
          },
          "execution_count": 8
        }
      ]
    },
    {
      "cell_type": "markdown",
      "metadata": {
        "id": "4djaB-QUEpM1"
      },
      "source": [
        "# RNN"
      ]
    },
    {
      "cell_type": "markdown",
      "metadata": {
        "id": "hbKSrcCiEpM4"
      },
      "source": [
        "## return sequence=False, return_state=False\n",
        "(아무런 옵션을 주지 않은 경우)"
      ]
    },
    {
      "cell_type": "code",
      "metadata": {
        "id": "bidRb0FkEpM4",
        "colab": {
          "base_uri": "https://localhost:8080/"
        },
        "outputId": "a5f4b6ef-89bf-4e9f-b058-7a24f31bc6dd"
      },
      "source": [
        "# rnn\n",
        "rnn_11 = tf.keras.layers.SimpleRNN(units=5)\n",
        "output_11 = rnn_11(hidden)  # (bs, units)\n",
        "print(output_11)"
      ],
      "execution_count": 9,
      "outputs": [
        {
          "output_type": "stream",
          "text": [
            "tf.Tensor([[ 0.0133051  -0.07108931  0.01356496  0.19825453 -0.03756267]], shape=(1, 5), dtype=float32)\n"
          ],
          "name": "stdout"
        }
      ]
    },
    {
      "cell_type": "code",
      "metadata": {
        "id": "uRukSKKQEpM5",
        "colab": {
          "base_uri": "https://localhost:8080/"
        },
        "outputId": "2ac0b42f-7e3b-4745-ee99-a215a4672b30"
      },
      "source": [
        "# rnn weights\n",
        "weights = rnn_11.get_weights()\n",
        "Wx = weights[0]\n",
        "Wh = weights[1]\n",
        "b = weights[2]\n",
        "print(Wx.shape)  # (d_model, unit)\n",
        "print(Wh.shape)  # (unit, unit)\n",
        "print(b.shape)  # (unit,)"
      ],
      "execution_count": 10,
      "outputs": [
        {
          "output_type": "stream",
          "text": [
            "(4, 5)\n",
            "(5, 5)\n",
            "(5,)\n"
          ],
          "name": "stdout"
        }
      ]
    },
    {
      "cell_type": "markdown",
      "metadata": {
        "id": "FIUQbE4JEpM6"
      },
      "source": [
        "## return sequence=True, return_state=False"
      ]
    },
    {
      "cell_type": "code",
      "metadata": {
        "id": "uftac_GnEpM6",
        "colab": {
          "base_uri": "https://localhost:8080/"
        },
        "outputId": "bb534591-74c9-4371-decd-34ce28d7b529"
      },
      "source": [
        "# (return_sequences=True)\n",
        "rnn_12 = tf.keras.layers.SimpleRNN(units=5, return_sequences=True)\n",
        "output_12 = rnn_12(hidden)  # (bs, seq, units)\n",
        "print(output_12)"
      ],
      "execution_count": 11,
      "outputs": [
        {
          "output_type": "stream",
          "text": [
            "tf.Tensor(\n",
            "[[[ 2.9929113e-02  4.1185715e-03 -7.3335785e-03 -2.7490623e-02\n",
            "   -4.2592518e-02]\n",
            "  [ 2.1723522e-02  3.4244298e-03 -8.8698808e-03  1.3401901e-02\n",
            "   -2.1286123e-02]\n",
            "  [ 4.8892803e-02 -1.5492372e-02  5.2009160e-03 -5.0389312e-02\n",
            "   -6.7127943e-02]\n",
            "  [ 5.3107738e-02  3.3684172e-02  4.7106575e-02  2.6926834e-02\n",
            "   -1.6819069e-02]\n",
            "  [ 6.6921949e-02 -6.2659383e-06  3.1169422e-02 -2.7292369e-02\n",
            "    2.3001337e-02]\n",
            "  [ 5.5012092e-02 -4.9766455e-02 -4.8280213e-02  2.3197087e-02\n",
            "    1.8371815e-02]\n",
            "  [ 1.5149739e-02 -9.3269765e-02  1.8400183e-02  7.5476407e-04\n",
            "   -6.5119125e-02]]], shape=(1, 7, 5), dtype=float32)\n"
          ],
          "name": "stdout"
        }
      ]
    },
    {
      "cell_type": "markdown",
      "metadata": {
        "id": "b08qbae2EpM6"
      },
      "source": [
        "## return sequence=False, return_state=True\n",
        "return_state만 True인 경우, 두 값이 같음"
      ]
    },
    {
      "cell_type": "code",
      "metadata": {
        "id": "KBslq0P_EpM6",
        "colab": {
          "base_uri": "https://localhost:8080/"
        },
        "outputId": "eb7cb917-5c85-4ea5-c4f5-850612d4fb36"
      },
      "source": [
        "# (return_state=True)\n",
        "rnn_13 = tf.keras.layers.SimpleRNN(units=5, return_state=True)\n",
        "output_13, fw_h_13 = rnn_13(hidden)  # (bs, units), (bs, units)\n",
        "print(output_13)\n",
        "print(fw_h_13)"
      ],
      "execution_count": 12,
      "outputs": [
        {
          "output_type": "stream",
          "text": [
            "tf.Tensor([[-0.22489886  0.0802756   0.02204562 -0.07525434 -0.12735648]], shape=(1, 5), dtype=float32)\n",
            "tf.Tensor([[-0.22489886  0.0802756   0.02204562 -0.07525434 -0.12735648]], shape=(1, 5), dtype=float32)\n"
          ],
          "name": "stdout"
        }
      ]
    },
    {
      "cell_type": "markdown",
      "metadata": {
        "id": "0sQe9bt3EpM7"
      },
      "source": [
        "## return sequence=True, return_state=True"
      ]
    },
    {
      "cell_type": "code",
      "metadata": {
        "id": "Td7tlwESEpM7",
        "colab": {
          "base_uri": "https://localhost:8080/"
        },
        "outputId": "4490ef3d-b0bb-4894-9161-862179231d90"
      },
      "source": [
        "# (return_sequences=True, return_state=True)\n",
        "rnn_14 = tf.keras.layers.SimpleRNN(units=5, return_sequences=True, return_state=True)\n",
        "output_14, fw_h_14 = rnn_14(hidden)  # (bs, seq, units), (bs, units)\n",
        "print(output_14)\n",
        "print(fw_h_14)"
      ],
      "execution_count": 13,
      "outputs": [
        {
          "output_type": "stream",
          "text": [
            "tf.Tensor(\n",
            "[[[-0.00567131  0.00702238  0.0166551  -0.02649674 -0.00639815]\n",
            "  [ 0.00745121  0.00397363 -0.03161482  0.00067732  0.03525217]\n",
            "  [ 0.02503373  0.04381724 -0.01435504 -0.07607194 -0.03647323]\n",
            "  [ 0.03158387 -0.03594297 -0.03295876  0.09170678  0.00911083]\n",
            "  [-0.06396969  0.06692141  0.02803503 -0.07891872 -0.05069153]\n",
            "  [ 0.03279418 -0.04417153 -0.09341431  0.0333666   0.09773416]\n",
            "  [ 0.01325146  0.01543665  0.01574938 -0.08289386 -0.10723303]]], shape=(1, 7, 5), dtype=float32)\n",
            "tf.Tensor([[ 0.01325146  0.01543665  0.01574938 -0.08289386 -0.10723303]], shape=(1, 5), dtype=float32)\n"
          ],
          "name": "stdout"
        }
      ]
    },
    {
      "cell_type": "markdown",
      "metadata": {
        "id": "UwYL3S69EpM7"
      },
      "source": [
        "## init hidden state"
      ]
    },
    {
      "cell_type": "code",
      "metadata": {
        "id": "U2fQKgI2EpM7",
        "colab": {
          "base_uri": "https://localhost:8080/"
        },
        "outputId": "ab18ddcd-3cbc-4434-9e4b-023bd0213c2b"
      },
      "source": [
        "rnn_11(hidden, initial_state=[fw_h_13])  # (bs, units)"
      ],
      "execution_count": 14,
      "outputs": [
        {
          "output_type": "execute_result",
          "data": {
            "text/plain": [
              "<tf.Tensor: shape=(1, 5), dtype=float32, numpy=\n",
              "array([[-0.06465904, -0.25594386, -0.12518847,  0.13231519, -0.02561215]],\n",
              "      dtype=float32)>"
            ]
          },
          "metadata": {
            "tags": []
          },
          "execution_count": 14
        }
      ]
    },
    {
      "cell_type": "code",
      "metadata": {
        "id": "Jnw8LPLuEpM7",
        "colab": {
          "base_uri": "https://localhost:8080/"
        },
        "outputId": "240d8ed6-2b9d-433e-d2bc-24122bba149b"
      },
      "source": [
        "rnn_12(hidden, initial_state=[fw_h_14])  # (bs, n_seq, units)"
      ],
      "execution_count": 15,
      "outputs": [
        {
          "output_type": "execute_result",
          "data": {
            "text/plain": [
              "<tf.Tensor: shape=(1, 7, 5), dtype=float32, numpy=\n",
              "array([[[ 0.08970518,  0.12074085,  0.02214284, -0.00741253,\n",
              "         -0.06301705],\n",
              "        [ 0.06890634,  0.02803107,  0.03387965, -0.06119582,\n",
              "          0.07141123],\n",
              "        [ 0.13040169, -0.04140752, -0.09347053, -0.06496175,\n",
              "         -0.03006374],\n",
              "        [ 0.11627129, -0.0390062 ,  0.06014571, -0.02257581,\n",
              "         -0.09820992],\n",
              "        [ 0.14631155,  0.0332644 ,  0.08039215,  0.05096842,\n",
              "         -0.0258085 ],\n",
              "        [ 0.08789143, -0.06898136,  0.05173643,  0.0284674 ,\n",
              "          0.1006607 ],\n",
              "        [ 0.04806692, -0.15309522, -0.04242581,  0.05481387,\n",
              "          0.01750817]]], dtype=float32)>"
            ]
          },
          "metadata": {
            "tags": []
          },
          "execution_count": 15
        }
      ]
    },
    {
      "cell_type": "code",
      "metadata": {
        "id": "WG9r1sUTEpM9",
        "colab": {
          "base_uri": "https://localhost:8080/"
        },
        "outputId": "a8688105-8d78-4d48-d320-a26f44449690"
      },
      "source": [
        "rnn_13(hidden, initial_state=[fw_h_13])  # (bs, units), (bs, units)"
      ],
      "execution_count": 16,
      "outputs": [
        {
          "output_type": "execute_result",
          "data": {
            "text/plain": [
              "[<tf.Tensor: shape=(1, 5), dtype=float32, numpy=\n",
              " array([[-0.16090795, -0.01084654,  0.00649465,  0.03989044,  0.08458714]],\n",
              "       dtype=float32)>, <tf.Tensor: shape=(1, 5), dtype=float32, numpy=\n",
              " array([[-0.16090795, -0.01084654,  0.00649465,  0.03989044,  0.08458714]],\n",
              "       dtype=float32)>]"
            ]
          },
          "metadata": {
            "tags": []
          },
          "execution_count": 16
        }
      ]
    },
    {
      "cell_type": "code",
      "metadata": {
        "id": "Q49PN3l9EpM9",
        "colab": {
          "base_uri": "https://localhost:8080/"
        },
        "outputId": "cc0dc1a6-936d-48f4-ff4e-a6f0f0681e72"
      },
      "source": [
        "rnn_14(hidden, initial_state=[fw_h_14])  # (bs, n_seq, units), (bs, units)"
      ],
      "execution_count": 17,
      "outputs": [
        {
          "output_type": "execute_result",
          "data": {
            "text/plain": [
              "[<tf.Tensor: shape=(1, 7, 5), dtype=float32, numpy=\n",
              " array([[[-0.04023583, -0.04856527, -0.00745723,  0.08569601,\n",
              "           0.03263333],\n",
              "         [-0.03993218,  0.04022601, -0.0133417 , -0.1201784 ,\n",
              "           0.01704529],\n",
              "         [ 0.08773063, -0.04925723, -0.03939974, -0.01440458,\n",
              "           0.00531509],\n",
              "         [-0.01835137,  0.00441733,  0.04440122,  0.04724793,\n",
              "          -0.07235702],\n",
              "         [-0.06754464,  0.03039353,  0.0077003 , -0.02238409,\n",
              "           0.0663793 ],\n",
              "         [ 0.07404423, -0.00928033, -0.04943877, -0.06849191,\n",
              "           0.03991261],\n",
              "         [ 0.03545617, -0.01660541,  0.01871964,  0.04337611,\n",
              "          -0.07521319]]], dtype=float32)>,\n",
              " <tf.Tensor: shape=(1, 5), dtype=float32, numpy=\n",
              " array([[ 0.03545617, -0.01660541,  0.01871964,  0.04337611, -0.07521319]],\n",
              "       dtype=float32)>]"
            ]
          },
          "metadata": {
            "tags": []
          },
          "execution_count": 17
        }
      ]
    },
    {
      "cell_type": "markdown",
      "metadata": {
        "id": "IERrFgvZEpM9"
      },
      "source": [
        "# LSTM"
      ]
    },
    {
      "cell_type": "markdown",
      "metadata": {
        "id": "qCoEmDGrEpM9"
      },
      "source": [
        "## return sequence=False, return_state=False"
      ]
    },
    {
      "cell_type": "code",
      "metadata": {
        "id": "e49TFNGREpM-",
        "colab": {
          "base_uri": "https://localhost:8080/"
        },
        "outputId": "f7a7e090-820d-4da1-be40-6cc05ee67930"
      },
      "source": [
        "# lstm\n",
        "lstm_11 = tf.keras.layers.LSTM(units=5)\n",
        "output_11 = lstm_11(hidden)  # (bs, units)\n",
        "print(output_11)"
      ],
      "execution_count": 18,
      "outputs": [
        {
          "output_type": "stream",
          "text": [
            "tf.Tensor([[ 0.01252828 -0.01186483 -0.01100005  0.00128962  0.00689079]], shape=(1, 5), dtype=float32)\n"
          ],
          "name": "stdout"
        }
      ]
    },
    {
      "cell_type": "code",
      "metadata": {
        "id": "zayc3AHAEpM-",
        "colab": {
          "base_uri": "https://localhost:8080/"
        },
        "outputId": "9c5218a9-19ca-464d-dd06-c4ed113b9c2c"
      },
      "source": [
        "# lstm weights\n",
        "weights = lstm_11.get_weights()\n",
        "Wx = weights[0]\n",
        "Wh = weights[1]\n",
        "b = weights[2]\n",
        "print(Wx.shape)  # (d_model, unit * 4) (Wxf, Wxi, Wxc, Wxo)\n",
        "print(Wh.shape)  # (unit, unit * 4) (Whf, Whi, Whc, Who)\n",
        "print(b.shape)  # (unit * 4) (bf, bi, bc, bo)"
      ],
      "execution_count": 19,
      "outputs": [
        {
          "output_type": "stream",
          "text": [
            "(4, 20)\n",
            "(5, 20)\n",
            "(20,)\n"
          ],
          "name": "stdout"
        }
      ]
    },
    {
      "cell_type": "markdown",
      "metadata": {
        "id": "LkG2MYdTEpM-"
      },
      "source": [
        "## return sequence=True, return_state=False"
      ]
    },
    {
      "cell_type": "code",
      "metadata": {
        "id": "KxnMP990EpM-",
        "colab": {
          "base_uri": "https://localhost:8080/"
        },
        "outputId": "80c85936-9ee9-42d4-f39c-6281191f2114"
      },
      "source": [
        "# (return_sequences=True)\n",
        "lstm_12 = tf.keras.layers.LSTM(units=5, return_sequences=True)\n",
        "output_12 = lstm_12(hidden)  # (bs, seq, units)\n",
        "print(output_12)"
      ],
      "execution_count": 20,
      "outputs": [
        {
          "output_type": "stream",
          "text": [
            "tf.Tensor(\n",
            "[[[-0.00544438 -0.00505095  0.00146407 -0.00019775 -0.00408297]\n",
            "  [ 0.00092337  0.00106309 -0.00256752  0.00214575 -0.00409309]\n",
            "  [-0.00466804 -0.00234009 -0.00467811  0.00283395 -0.01177095]\n",
            "  [-0.00136526  0.00112071 -0.00880491  0.00172207 -0.00966275]\n",
            "  [-0.00722189 -0.00401253 -0.00514568  0.00093245 -0.01217541]\n",
            "  [-0.00101653  0.00202121 -0.00762216  0.00274471 -0.01070324]\n",
            "  [ 0.00060078  0.00327611 -0.0104871   0.00319098 -0.00986872]]], shape=(1, 7, 5), dtype=float32)\n"
          ],
          "name": "stdout"
        }
      ]
    },
    {
      "cell_type": "markdown",
      "metadata": {
        "id": "xhATu4loEpM-"
      },
      "source": [
        "## return sequence=False, return_state=True"
      ]
    },
    {
      "cell_type": "code",
      "metadata": {
        "id": "OHZ1e4Q8EpM-",
        "colab": {
          "base_uri": "https://localhost:8080/"
        },
        "outputId": "563b6f18-8ec7-4cc2-da83-d0ed9524e7e6"
      },
      "source": [
        "# (return_state=True)\n",
        "lstm_13 = tf.keras.layers.LSTM(units=5, return_state=True)\n",
        "output_13, fw_h_13, fw_c_13 = lstm_13(hidden)  # (bs, units * 2), (bs, units), (bs, units)\n",
        "print(output_13)\n",
        "print(fw_h_13)\n",
        "print(fw_c_13)"
      ],
      "execution_count": 21,
      "outputs": [
        {
          "output_type": "stream",
          "text": [
            "tf.Tensor(\n",
            "[[ 7.6129837e-03 -1.5287815e-02  7.3035844e-03  4.7374528e-05\n",
            "   1.1121367e-02]], shape=(1, 5), dtype=float32)\n",
            "tf.Tensor(\n",
            "[[ 7.6129837e-03 -1.5287815e-02  7.3035844e-03  4.7374528e-05\n",
            "   1.1121367e-02]], shape=(1, 5), dtype=float32)\n",
            "tf.Tensor(\n",
            "[[ 1.5119700e-02 -3.0797761e-02  1.4539103e-02  9.5068710e-05\n",
            "   2.2492610e-02]], shape=(1, 5), dtype=float32)\n"
          ],
          "name": "stdout"
        }
      ]
    },
    {
      "cell_type": "markdown",
      "metadata": {
        "id": "Fw8vlO4BEpM_"
      },
      "source": [
        "## return sequence=True, return_state=True"
      ]
    },
    {
      "cell_type": "code",
      "metadata": {
        "id": "tsBwUaxREpM_",
        "colab": {
          "base_uri": "https://localhost:8080/"
        },
        "outputId": "6aea6644-3186-49f2-c85c-c41d3200e645"
      },
      "source": [
        "# (return_sequences=True, return_state=True)\n",
        "lstm_14 = tf.keras.layers.LSTM(units=5, return_sequences=True, return_state=True)\n",
        "output_14, fw_h_14, fw_c_14 = lstm_14(hidden)  # (bs, seq, units), (bs, units), (bs, units)\n",
        "print(output_14)\n",
        "print(fw_h_14)\n",
        "print(fw_c_14)"
      ],
      "execution_count": 22,
      "outputs": [
        {
          "output_type": "stream",
          "text": [
            "tf.Tensor(\n",
            "[[[ 0.00040525 -0.00275002  0.00038114 -0.00120663  0.00231446]\n",
            "  [-0.00520107 -0.00223845 -0.00043894 -0.0053069  -0.00388033]\n",
            "  [-0.00688379 -0.00716671 -0.00024295 -0.00974881 -0.00305707]\n",
            "  [-0.00176606 -0.0059406   0.00495924 -0.00458891 -0.00075247]\n",
            "  [-0.00092784 -0.00677031  0.00413757 -0.00491618  0.00158901]\n",
            "  [-0.00619131 -0.00487417  0.00241962 -0.00824052 -0.00451456]\n",
            "  [-0.00361855 -0.00470538  0.00690781 -0.00543056 -0.0025354 ]]], shape=(1, 7, 5), dtype=float32)\n",
            "tf.Tensor([[-0.00361855 -0.00470538  0.00690781 -0.00543056 -0.0025354 ]], shape=(1, 5), dtype=float32)\n",
            "tf.Tensor([[-0.00723412 -0.0093214   0.01380899 -0.01084146 -0.00508808]], shape=(1, 5), dtype=float32)\n"
          ],
          "name": "stdout"
        }
      ]
    },
    {
      "cell_type": "markdown",
      "metadata": {
        "id": "jrerwhbEEpM_"
      },
      "source": [
        "## init hidden state"
      ]
    },
    {
      "cell_type": "code",
      "metadata": {
        "id": "DiTpY6GvEpM_",
        "colab": {
          "base_uri": "https://localhost:8080/"
        },
        "outputId": "fd9b284a-d14f-469c-90f8-4887234a8d7c"
      },
      "source": [
        "lstm_11(hidden, initial_state=[fw_h_13, fw_c_13])  # (bs, units)"
      ],
      "execution_count": 23,
      "outputs": [
        {
          "output_type": "execute_result",
          "data": {
            "text/plain": [
              "<tf.Tensor: shape=(1, 5), dtype=float32, numpy=\n",
              "array([[ 0.01215497, -0.01394066, -0.01243898,  0.00035355,  0.00925506]],\n",
              "      dtype=float32)>"
            ]
          },
          "metadata": {
            "tags": []
          },
          "execution_count": 23
        }
      ]
    },
    {
      "cell_type": "code",
      "metadata": {
        "id": "9VrA5cIcEpM_",
        "colab": {
          "base_uri": "https://localhost:8080/"
        },
        "outputId": "aa8cc5a6-f70d-485e-c03a-d26e3ad516d4"
      },
      "source": [
        "lstm_12(hidden, initial_state=[fw_h_14, fw_c_14])  # (bs, n_seq, units)"
      ],
      "execution_count": 24,
      "outputs": [
        {
          "output_type": "execute_result",
          "data": {
            "text/plain": [
              "<tf.Tensor: shape=(1, 7, 5), dtype=float32, numpy=\n",
              "array([[[-7.3097218e-03, -8.6579267e-03,  6.5108277e-03, -4.6995520e-03,\n",
              "         -6.1655948e-03],\n",
              "        [ 2.5162593e-04, -1.8132351e-03,  1.2117121e-03, -1.3395882e-03,\n",
              "         -5.7245716e-03],\n",
              "        [-4.5920075e-03, -4.5240764e-03, -1.8206030e-03,  4.4292374e-05,\n",
              "         -1.3040293e-02],\n",
              "        [-8.1744191e-04, -5.4931070e-04, -6.6617574e-03, -3.8644686e-04,\n",
              "         -1.0613153e-02],\n",
              "        [-6.4202966e-03, -5.2729584e-03, -3.5087359e-03, -6.8675214e-04,\n",
              "         -1.2861537e-02],\n",
              "        [-8.9272165e-05,  1.0454296e-03, -6.3446397e-03,  1.5852144e-03,\n",
              "         -1.1164520e-02],\n",
              "        [ 1.5599113e-03,  2.5538309e-03, -9.4951764e-03,  2.3441282e-03,\n",
              "         -1.0163450e-02]]], dtype=float32)>"
            ]
          },
          "metadata": {
            "tags": []
          },
          "execution_count": 24
        }
      ]
    },
    {
      "cell_type": "code",
      "metadata": {
        "id": "9t0mejmaEpM_",
        "colab": {
          "base_uri": "https://localhost:8080/"
        },
        "outputId": "3d61986c-949c-4371-fdcf-6090409e83b3"
      },
      "source": [
        "lstm_13(hidden, initial_state=[fw_h_13, fw_c_13])  # (bs, units), (bs, units), (bs, units)"
      ],
      "execution_count": 25,
      "outputs": [
        {
          "output_type": "execute_result",
          "data": {
            "text/plain": [
              "[<tf.Tensor: shape=(1, 5), dtype=float32, numpy=\n",
              " array([[ 0.01113445, -0.0181876 ,  0.01266127, -0.00279448,  0.01636327]],\n",
              "       dtype=float32)>, <tf.Tensor: shape=(1, 5), dtype=float32, numpy=\n",
              " array([[ 0.01113445, -0.0181876 ,  0.01266127, -0.00279448,  0.01636327]],\n",
              "       dtype=float32)>, <tf.Tensor: shape=(1, 5), dtype=float32, numpy=\n",
              " array([[ 0.02208105, -0.03670878,  0.02523495, -0.0056196 ,  0.03310997]],\n",
              "       dtype=float32)>]"
            ]
          },
          "metadata": {
            "tags": []
          },
          "execution_count": 25
        }
      ]
    },
    {
      "cell_type": "code",
      "metadata": {
        "id": "O8Lsx8TSEpNA",
        "colab": {
          "base_uri": "https://localhost:8080/"
        },
        "outputId": "d9eec75d-be31-49e7-dd30-7d5955e39d2b"
      },
      "source": [
        "lstm_14(hidden, initial_state=[fw_h_14, fw_c_14])  # (bs, n_seq, units), (bs, units), (bs, units)"
      ],
      "execution_count": 26,
      "outputs": [
        {
          "output_type": "execute_result",
          "data": {
            "text/plain": [
              "[<tf.Tensor: shape=(1, 7, 5), dtype=float32, numpy=\n",
              " array([[[-0.00241018, -0.00558355,  0.00569973, -0.0054552 ,\n",
              "           0.00055526],\n",
              "         [-0.00738834, -0.00379501,  0.00365711, -0.00856859,\n",
              "          -0.00504782],\n",
              "         [-0.0085752 , -0.00787436,  0.00294753, -0.01219721,\n",
              "          -0.00383559],\n",
              "         [-0.00311176, -0.00611526,  0.00749481, -0.00639922,\n",
              "          -0.00124679],\n",
              "         [-0.00200747, -0.00661883,  0.00610426, -0.00623128,\n",
              "           0.00128764],\n",
              "         [-0.00705873, -0.00454286,  0.00394774, -0.00918079,\n",
              "          -0.00467455],\n",
              "         [-0.00432382, -0.00428938,  0.00812357, -0.00609291,\n",
              "          -0.00260176]]], dtype=float32)>,\n",
              " <tf.Tensor: shape=(1, 5), dtype=float32, numpy=\n",
              " array([[-0.00432382, -0.00428938,  0.00812357, -0.00609291, -0.00260176]],\n",
              "       dtype=float32)>,\n",
              " <tf.Tensor: shape=(1, 5), dtype=float32, numpy=\n",
              " array([[-0.00864326, -0.00849324,  0.016246  , -0.01216442, -0.00522   ]],\n",
              "       dtype=float32)>]"
            ]
          },
          "metadata": {
            "tags": []
          },
          "execution_count": 26
        }
      ]
    },
    {
      "cell_type": "markdown",
      "metadata": {
        "id": "3Dxp5BWdEpNA"
      },
      "source": [
        "# GRU"
      ]
    },
    {
      "cell_type": "markdown",
      "metadata": {
        "id": "a0rCzGcNEpNA"
      },
      "source": [
        "## return sequence=False, return_state=False"
      ]
    },
    {
      "cell_type": "code",
      "metadata": {
        "id": "3rFlpzlVEpNA",
        "colab": {
          "base_uri": "https://localhost:8080/"
        },
        "outputId": "b41e6111-8cf0-48a8-b510-94d4d5a2a631"
      },
      "source": [
        "# bi GRU\n",
        "gru_11 = tf.keras.layers.GRU(units=5)\n",
        "output_11 = gru_11(hidden)  # (bs, units)\n",
        "print(output_11)"
      ],
      "execution_count": 27,
      "outputs": [
        {
          "output_type": "stream",
          "text": [
            "tf.Tensor([[-0.00128841  0.01591058 -0.01686392 -0.00689237 -0.01078903]], shape=(1, 5), dtype=float32)\n"
          ],
          "name": "stdout"
        }
      ]
    },
    {
      "cell_type": "code",
      "metadata": {
        "id": "wpeqndfqEpNA",
        "colab": {
          "base_uri": "https://localhost:8080/"
        },
        "outputId": "6c424eb4-647a-482c-aedc-31da2cf17288"
      },
      "source": [
        "# bi GRU weights\n",
        "weights = gru_11.get_weights()\n",
        "Wx = weights[0]\n",
        "Wh = weights[1]\n",
        "b = weights[2]\n",
        "print(Wx.shape)  # (d_model, unit * 3) (Wxr, Wxz, Wxg)\n",
        "print(Wh.shape)  # (unit, unit * 3) (Whr, Whz, Whg)\n",
        "print(b.shape)  # (2, unit * 3) (bxr, bxz, bxg),(bhr, bhz, bhg)"
      ],
      "execution_count": 28,
      "outputs": [
        {
          "output_type": "stream",
          "text": [
            "(4, 15)\n",
            "(5, 15)\n",
            "(2, 15)\n"
          ],
          "name": "stdout"
        }
      ]
    },
    {
      "cell_type": "markdown",
      "metadata": {
        "id": "_hzfJO5dEpNA"
      },
      "source": [
        "## return sequence=True, return_state=False"
      ]
    },
    {
      "cell_type": "code",
      "metadata": {
        "id": "swrWddyVEpNA",
        "colab": {
          "base_uri": "https://localhost:8080/"
        },
        "outputId": "f26b8b17-2252-417a-abb8-3560f27ab3d8"
      },
      "source": [
        "# (return_sequences=True)\n",
        "gru_12 = tf.keras.layers.GRU(units=5, return_sequences=True)\n",
        "output_12 = gru_12(hidden)  # (bs, seq, units)\n",
        "print(output_12)"
      ],
      "execution_count": 29,
      "outputs": [
        {
          "output_type": "stream",
          "text": [
            "tf.Tensor(\n",
            "[[[-0.00724988 -0.01204025 -0.00660731 -0.00241936  0.01091108]\n",
            "  [-0.00690028 -0.00760665  0.00473171  0.02366268  0.02218487]\n",
            "  [-0.01982779 -0.02418694 -0.000265    0.03126299  0.04256844]\n",
            "  [-0.00805993 -0.00707422  0.00594501  0.02301816  0.02065855]\n",
            "  [-0.0146784  -0.0149042  -0.00365479  0.01337637  0.02291579]\n",
            "  [-0.01298529 -0.00852203  0.00638297  0.03420675  0.02937598]\n",
            "  [-0.01063064 -0.00421955  0.01115373  0.0308162   0.02547237]]], shape=(1, 7, 5), dtype=float32)\n"
          ],
          "name": "stdout"
        }
      ]
    },
    {
      "cell_type": "markdown",
      "metadata": {
        "id": "7e5j3OBVEpNB"
      },
      "source": [
        "## return sequence=False, return_state=True"
      ]
    },
    {
      "cell_type": "code",
      "metadata": {
        "id": "Js_V2vXMEpNB",
        "colab": {
          "base_uri": "https://localhost:8080/"
        },
        "outputId": "667d342a-d3a0-4e9b-90b1-50e243332bcc"
      },
      "source": [
        "# (return_state=True)\n",
        "gru_13 = tf.keras.layers.GRU(units=5, return_state=True)\n",
        "output_13, fw_h_13 = gru_13(hidden)  # (bs, units), (bs, units)\n",
        "print(output_13)\n",
        "print(fw_h_13)"
      ],
      "execution_count": 30,
      "outputs": [
        {
          "output_type": "stream",
          "text": [
            "tf.Tensor([[-0.0019341   0.01071739  0.00788937  0.01066312 -0.00221146]], shape=(1, 5), dtype=float32)\n",
            "tf.Tensor([[-0.0019341   0.01071739  0.00788937  0.01066312 -0.00221146]], shape=(1, 5), dtype=float32)\n"
          ],
          "name": "stdout"
        }
      ]
    },
    {
      "cell_type": "markdown",
      "metadata": {
        "id": "hQYtG3aOEpNB"
      },
      "source": [
        "## return sequence=True, return_state=True"
      ]
    },
    {
      "cell_type": "code",
      "metadata": {
        "id": "oEUk24pmEpNB",
        "colab": {
          "base_uri": "https://localhost:8080/"
        },
        "outputId": "6729c55c-d34e-484f-fb47-ad3f906b4a6c"
      },
      "source": [
        "# (return_sequences=True, return_state=True)\n",
        "gru_14 = tf.keras.layers.GRU(units=5, return_sequences=True, return_state=True)\n",
        "output_14, fw_h_14 = gru_14(hidden)  # (bs, seq, units * 2), (bs, units)\n",
        "print(output_14)\n",
        "print(fw_h_14)"
      ],
      "execution_count": 31,
      "outputs": [
        {
          "output_type": "stream",
          "text": [
            "tf.Tensor(\n",
            "[[[-0.00381347  0.00607597  0.00153289  0.00026855  0.01145666]\n",
            "  [-0.00331714  0.01010486 -0.01224199 -0.01133284  0.00853806]\n",
            "  [-0.00093711  0.01803945 -0.0145158  -0.01409486  0.02851611]\n",
            "  [ 0.00880802  0.01154291 -0.0096231  -0.00740737  0.012196  ]\n",
            "  [ 0.00363141  0.01305108 -0.00426213 -0.00214698  0.01840561]\n",
            "  [ 0.00235771  0.01434101 -0.01598028 -0.01207952  0.01253426]\n",
            "  [ 0.00402145  0.01470503 -0.0129416  -0.01024149  0.00994625]]], shape=(1, 7, 5), dtype=float32)\n",
            "tf.Tensor([[ 0.00402145  0.01470503 -0.0129416  -0.01024149  0.00994625]], shape=(1, 5), dtype=float32)\n"
          ],
          "name": "stdout"
        }
      ]
    },
    {
      "cell_type": "markdown",
      "metadata": {
        "id": "zGu354Z0EpNB"
      },
      "source": [
        "## init hidden state"
      ]
    },
    {
      "cell_type": "code",
      "metadata": {
        "id": "guJ1K1BJEpNB",
        "colab": {
          "base_uri": "https://localhost:8080/"
        },
        "outputId": "f8dcb802-e8a5-49e5-d850-27147929a8ca"
      },
      "source": [
        "gru_11(hidden, initial_state=[fw_h_13])  # (bs, units)"
      ],
      "execution_count": 32,
      "outputs": [
        {
          "output_type": "execute_result",
          "data": {
            "text/plain": [
              "<tf.Tensor: shape=(1, 5), dtype=float32, numpy=\n",
              "array([[-0.00140842,  0.01592344, -0.01623747, -0.00670336, -0.01101907]],\n",
              "      dtype=float32)>"
            ]
          },
          "metadata": {
            "tags": []
          },
          "execution_count": 32
        }
      ]
    },
    {
      "cell_type": "code",
      "metadata": {
        "id": "NyHTrpF1EpNB",
        "colab": {
          "base_uri": "https://localhost:8080/"
        },
        "outputId": "c6e444a5-6bff-40b2-b550-7bb4de8c4ab5"
      },
      "source": [
        "gru_12(hidden, initial_state=[fw_h_14])  # (bs, n_seq, units)"
      ],
      "execution_count": 33,
      "outputs": [
        {
          "output_type": "execute_result",
          "data": {
            "text/plain": [
              "<tf.Tensor: shape=(1, 7, 5), dtype=float32, numpy=\n",
              "array([[[-0.00300019, -0.00323922, -0.01454308, -0.00958822,\n",
              "          0.01849951],\n",
              "        [-0.00319965, -0.00230684, -0.00040348,  0.0188137 ,\n",
              "          0.02772161],\n",
              "        [-0.01684529, -0.02090497, -0.00366238,  0.02805248,\n",
              "          0.04653085],\n",
              "        [-0.00582952, -0.00502904,  0.00368652,  0.0209058 ,\n",
              "          0.02341765],\n",
              "        [-0.01303946, -0.01359165, -0.00516605,  0.01199155,\n",
              "          0.02483771],\n",
              "        [-0.01180617, -0.00767625,  0.00535123,  0.03328608,\n",
              "          0.03071455],\n",
              "        [-0.00979845, -0.00366684,  0.01045386,  0.03020769,\n",
              "          0.02639962]]], dtype=float32)>"
            ]
          },
          "metadata": {
            "tags": []
          },
          "execution_count": 33
        }
      ]
    },
    {
      "cell_type": "code",
      "metadata": {
        "id": "-Szb--ULEpNB",
        "colab": {
          "base_uri": "https://localhost:8080/"
        },
        "outputId": "a6ac4575-2b81-4d6a-8bd3-52710075dd30"
      },
      "source": [
        "gru_13(hidden, initial_state=[fw_h_13])  # (bs, units), (bs, units)"
      ],
      "execution_count": 34,
      "outputs": [
        {
          "output_type": "execute_result",
          "data": {
            "text/plain": [
              "[<tf.Tensor: shape=(1, 5), dtype=float32, numpy=\n",
              " array([[-0.00188146,  0.01085301,  0.00768062,  0.01064109, -0.00205139]],\n",
              "       dtype=float32)>, <tf.Tensor: shape=(1, 5), dtype=float32, numpy=\n",
              " array([[-0.00188146,  0.01085301,  0.00768062,  0.01064109, -0.00205139]],\n",
              "       dtype=float32)>]"
            ]
          },
          "metadata": {
            "tags": []
          },
          "execution_count": 34
        }
      ]
    },
    {
      "cell_type": "code",
      "metadata": {
        "id": "iYLeb1O1EpNC",
        "colab": {
          "base_uri": "https://localhost:8080/"
        },
        "outputId": "fd66f372-013c-49f1-917d-768d135584f0"
      },
      "source": [
        "gru_14(hidden, initial_state=[fw_h_14])  # (bs, n_seq, units), (bs, units)"
      ],
      "execution_count": 35,
      "outputs": [
        {
          "output_type": "execute_result",
          "data": {
            "text/plain": [
              "[<tf.Tensor: shape=(1, 7, 5), dtype=float32, numpy=\n",
              " array([[[ 0.00120912,  0.01436689, -0.00526015, -0.00245608,\n",
              "           0.01752719],\n",
              "         [ 0.00106435,  0.0148916 , -0.01622299, -0.01184704,\n",
              "           0.01214018],\n",
              "         [ 0.00249824,  0.02077618, -0.01704834, -0.01405097,\n",
              "           0.03059548],\n",
              "         [ 0.01132524,  0.01315177, -0.01130751, -0.0072835 ,\n",
              "           0.01345716],\n",
              "         [ 0.00543236,  0.0139883 , -0.00539421, -0.00206096,\n",
              "           0.01916937],\n",
              "         [ 0.00361664,  0.0148993 , -0.01673315, -0.01203724,\n",
              "           0.01301165],\n",
              "         [ 0.00488993,  0.01504152, -0.01344696, -0.01023171,\n",
              "           0.01024941]]], dtype=float32)>,\n",
              " <tf.Tensor: shape=(1, 5), dtype=float32, numpy=\n",
              " array([[ 0.00488993,  0.01504152, -0.01344696, -0.01023171,  0.01024941]],\n",
              "       dtype=float32)>]"
            ]
          },
          "metadata": {
            "tags": []
          },
          "execution_count": 35
        }
      ]
    },
    {
      "cell_type": "markdown",
      "metadata": {
        "id": "jSepMHL3D1A-"
      },
      "source": [
        "# Bidirectional RNN"
      ]
    },
    {
      "cell_type": "markdown",
      "metadata": {
        "id": "QEQVLQilD1BB"
      },
      "source": [
        "## return sequence=False, return_state=False"
      ]
    },
    {
      "cell_type": "code",
      "metadata": {
        "id": "EPre9YBfD1BC",
        "colab": {
          "base_uri": "https://localhost:8080/"
        },
        "outputId": "09c18ddb-cf93-4c2b-8d73-1a6d6b7fd1a7"
      },
      "source": [
        "# bi rnn\n",
        "bi_rnn_11 = tf.keras.layers.Bidirectional(tf.keras.layers.SimpleRNN(units=5))\n",
        "output_11 = bi_rnn_11(hidden)  # (bs, units * 2)\n",
        "print(output_11)"
      ],
      "execution_count": 36,
      "outputs": [
        {
          "output_type": "stream",
          "text": [
            "tf.Tensor(\n",
            "[[ 0.00189245 -0.08352485 -0.07952984 -0.02134595  0.01254619 -0.10349478\n",
            "  -0.0285648  -0.15433243  0.04896942  0.06491221]], shape=(1, 10), dtype=float32)\n"
          ],
          "name": "stdout"
        }
      ]
    },
    {
      "cell_type": "code",
      "metadata": {
        "id": "eQ83Svk2D1BC",
        "colab": {
          "base_uri": "https://localhost:8080/"
        },
        "outputId": "d89298dc-bc2d-4019-955b-abdcfc3c4faa"
      },
      "source": [
        "# bi rnn weights\n",
        "weights = bi_rnn_11.get_weights()\n",
        "Wx = weights[0]\n",
        "Wh = weights[1]\n",
        "b = weights[2]\n",
        "print(Wx.shape)  # (d_model, unit)\n",
        "print(Wh.shape)  # (unit, unit)\n",
        "print(b.shape)  # (unit,)"
      ],
      "execution_count": 37,
      "outputs": [
        {
          "output_type": "stream",
          "text": [
            "(4, 5)\n",
            "(5, 5)\n",
            "(5,)\n"
          ],
          "name": "stdout"
        }
      ]
    },
    {
      "cell_type": "markdown",
      "metadata": {
        "id": "RXoZmvMRD1BD"
      },
      "source": [
        "## return sequence=True, return_state=False"
      ]
    },
    {
      "cell_type": "code",
      "metadata": {
        "id": "rIhSKwSsD1BD",
        "colab": {
          "base_uri": "https://localhost:8080/"
        },
        "outputId": "6db308fc-9a51-4ec1-9cbf-29f587edffda"
      },
      "source": [
        "# (return_sequences=True)\n",
        "bi_rnn_12 = tf.keras.layers.Bidirectional(tf.keras.layers.SimpleRNN(units=5, return_sequences=True))\n",
        "output_12 = bi_rnn_12(hidden)  # (bs, seq, units* 2)\n",
        "print(output_12)"
      ],
      "execution_count": 38,
      "outputs": [
        {
          "output_type": "stream",
          "text": [
            "tf.Tensor(\n",
            "[[[ 0.02063903  0.03965816  0.03919788  0.02908318 -0.02135444\n",
            "    0.03373569  0.14357285  0.02265848 -0.01834988  0.01760596]\n",
            "  [-0.06732997  0.0119262   0.01037599  0.03202324 -0.04788924\n",
            "   -0.02202282 -0.12320485  0.00310691  0.03954257  0.02772265]\n",
            "  [-0.0069248   0.09928044  0.00049278  0.0842956  -0.02588288\n",
            "    0.02357069  0.03469789  0.06235293 -0.08903261  0.01622928]\n",
            "  [-0.10489257  0.04832265  0.01487477  0.05294417  0.00262039\n",
            "   -0.02221388 -0.06631253 -0.00934883  0.01024336  0.03339538]\n",
            "  [-0.02521386  0.11432075  0.0165207   0.04469954  0.06719342\n",
            "    0.04058785  0.02231554 -0.00393319 -0.01607522  0.03056315]\n",
            "  [-0.08703329  0.0155736   0.07161146  0.08565228  0.04799198\n",
            "    0.02592861 -0.0405432  -0.03698469 -0.03118086  0.01623693]\n",
            "  [-0.0069922   0.11693995  0.02447139  0.02125133  0.06086859\n",
            "   -0.0062323  -0.04051992 -0.00674628 -0.02538863 -0.00846069]]], shape=(1, 7, 10), dtype=float32)\n"
          ],
          "name": "stdout"
        }
      ]
    },
    {
      "cell_type": "markdown",
      "metadata": {
        "id": "UFU4PxXoD1BD"
      },
      "source": [
        "## return sequence=False, return_state=True"
      ]
    },
    {
      "cell_type": "code",
      "metadata": {
        "id": "9oAuKuIQD1BD",
        "colab": {
          "base_uri": "https://localhost:8080/"
        },
        "outputId": "fa14f457-2f6f-4c8d-f238-49bfd376242a"
      },
      "source": [
        "# (return_state=True)\n",
        "bi_rnn_13 = tf.keras.layers.Bidirectional(tf.keras.layers.SimpleRNN(units=5, return_state=True))\n",
        "output_13, fw_h_13, bw_h_13 = bi_rnn_13(hidden)  # (bs, units * 2), (bs, units), (bs, units)\n",
        "print(output_13)\n",
        "print(fw_h_13)\n",
        "print(bw_h_13)"
      ],
      "execution_count": 39,
      "outputs": [
        {
          "output_type": "stream",
          "text": [
            "tf.Tensor(\n",
            "[[ 0.10142464  0.04384788  0.03959855  0.09941956  0.05877534  0.19237266\n",
            "  -0.0812621   0.04585575  0.21233375 -0.06199192]], shape=(1, 10), dtype=float32)\n",
            "tf.Tensor([[0.10142464 0.04384788 0.03959855 0.09941956 0.05877534]], shape=(1, 5), dtype=float32)\n",
            "tf.Tensor([[ 0.19237266 -0.0812621   0.04585575  0.21233375 -0.06199192]], shape=(1, 5), dtype=float32)\n"
          ],
          "name": "stdout"
        }
      ]
    },
    {
      "cell_type": "markdown",
      "metadata": {
        "id": "43lkL3LeD1BE"
      },
      "source": [
        "## return sequence=True, return_state=True"
      ]
    },
    {
      "cell_type": "code",
      "metadata": {
        "id": "084yhlPOD1BE",
        "colab": {
          "base_uri": "https://localhost:8080/"
        },
        "outputId": "261b4361-fb1b-42a7-e216-811741f95e28"
      },
      "source": [
        "# (return_sequences=True, return_state=True)\n",
        "bi_rnn_14 = tf.keras.layers.Bidirectional(tf.keras.layers.SimpleRNN(units=5, return_sequences=True, return_state=True))\n",
        "output_14, fw_h_14, bw_h_14 = bi_rnn_14(hidden)  # (bs, seq, units * 2), (bs, units), (bs, units)\n",
        "print(output_14)\n",
        "print(fw_h_14)\n",
        "print(bw_h_14)"
      ],
      "execution_count": 40,
      "outputs": [
        {
          "output_type": "stream",
          "text": [
            "tf.Tensor(\n",
            "[[[-0.01223004 -0.03604717 -0.01213866  0.00832459 -0.00985193\n",
            "   -0.06842467  0.03804656 -0.21594404 -0.07498586  0.12322078]\n",
            "  [-0.01207433 -0.02585809  0.01065563  0.01178059 -0.05265585\n",
            "    0.07812028 -0.15373422 -0.00190183 -0.13922727  0.13310388]\n",
            "  [-0.0369997  -0.07803842  0.04209687  0.04328766 -0.0377161\n",
            "    0.07696803  0.08312834 -0.0637846  -0.02303878  0.17275529]\n",
            "  [-0.03149062 -0.00641296  0.09045608  0.04872282 -0.02032937\n",
            "   -0.06239615 -0.07913799  0.00644676 -0.02948124  0.07311696]\n",
            "  [-0.00251457  0.00482455  0.03361512  0.09806919 -0.01537912\n",
            "    0.00374245  0.03065289 -0.0893319  -0.05894311  0.0406061 ]\n",
            "  [ 0.06832523  0.01860224  0.02926934  0.06120522 -0.07875361\n",
            "    0.03820577 -0.03235298  0.02452953 -0.05579672  0.06007537]\n",
            "  [ 0.07677121  0.03446358  0.09452506 -0.03025864  0.00149059\n",
            "    0.02181129  0.02294274 -0.00379264 -0.01796763  0.03280125]]], shape=(1, 7, 10), dtype=float32)\n",
            "tf.Tensor([[ 0.07677121  0.03446358  0.09452506 -0.03025864  0.00149059]], shape=(1, 5), dtype=float32)\n",
            "tf.Tensor([[-0.06842467  0.03804656 -0.21594404 -0.07498586  0.12322078]], shape=(1, 5), dtype=float32)\n"
          ],
          "name": "stdout"
        }
      ]
    },
    {
      "cell_type": "markdown",
      "metadata": {
        "id": "zmUYNfrK5vJX"
      },
      "source": [
        "## return sequence=True, return_state=True, dual cell"
      ]
    },
    {
      "cell_type": "code",
      "metadata": {
        "id": "kB3ZbhGu5taX",
        "colab": {
          "base_uri": "https://localhost:8080/"
        },
        "outputId": "ad1eef11-7518-4e9a-c7d7-bc329d592806"
      },
      "source": [
        "fw_cell = tf.keras.layers.SimpleRNN(units=5, return_sequences=True, return_state=True)\n",
        "bw_cell = tf.keras.layers.SimpleRNN(units=5, go_backwards=True, return_sequences=True, return_state=True)\n",
        "bi_rnn_15 = tf.keras.layers.Bidirectional(fw_cell, backward_layer=bw_cell)\n",
        "output_15, fw_h_15, bw_h_15 = bi_rnn_15(hidden)  # (bs, seq, units * 2), (bs, units), (bs, units)\n",
        "print(output_15)\n",
        "print(fw_h_15)\n",
        "print(bw_h_15)"
      ],
      "execution_count": 41,
      "outputs": [
        {
          "output_type": "stream",
          "text": [
            "tf.Tensor(\n",
            "[[[-0.02504721 -0.00409831 -0.00945844 -0.01428669 -0.0128261\n",
            "    0.04066376 -0.04710311  0.07474758  0.13280307  0.025421  ]\n",
            "  [-0.03257211 -0.02711307 -0.00310748  0.01098206 -0.00213756\n",
            "    0.11689561 -0.13379344 -0.01107384 -0.00803275  0.0499415 ]\n",
            "  [-0.07570328 -0.04383892 -0.03580526 -0.0051623  -0.02244059\n",
            "   -0.02333836 -0.06808434 -0.06293817  0.01065937  0.09979907]\n",
            "  [-0.06539232 -0.02327299  0.02191263  0.0727077   0.03826915\n",
            "    0.00256722 -0.00392566  0.01833091  0.00498594  0.05730335]\n",
            "  [-0.08141567 -0.04813    -0.06701369 -0.04549714  0.03823739\n",
            "    0.01702488 -0.00234942  0.01800713  0.03467437  0.04774953]\n",
            "  [-0.12271711 -0.06269672  0.00942702  0.02784525 -0.04749537\n",
            "    0.06121849 -0.02194346 -0.00813043 -0.02851701  0.04329199]\n",
            "  [-0.08817548 -0.07766607  0.00235618  0.05484834  0.10091185\n",
            "    0.01337676  0.01245785 -0.01996882 -0.01247303  0.021705  ]]], shape=(1, 7, 10), dtype=float32)\n",
            "tf.Tensor([[-0.08817548 -0.07766607  0.00235618  0.05484834  0.10091185]], shape=(1, 5), dtype=float32)\n",
            "tf.Tensor([[ 0.04066376 -0.04710311  0.07474758  0.13280307  0.025421  ]], shape=(1, 5), dtype=float32)\n"
          ],
          "name": "stdout"
        }
      ]
    },
    {
      "cell_type": "markdown",
      "metadata": {
        "id": "Jmv-M7oqD1BE"
      },
      "source": [
        "## init hidden state"
      ]
    },
    {
      "cell_type": "code",
      "metadata": {
        "id": "Z-hUtG_jD1BE",
        "colab": {
          "base_uri": "https://localhost:8080/"
        },
        "outputId": "80ac9e25-8dcf-4bf2-f8a7-1aca37581adf"
      },
      "source": [
        "bi_rnn_11(hidden, initial_state=[fw_h_13, bw_h_13])  # (bs, units * 2)"
      ],
      "execution_count": 42,
      "outputs": [
        {
          "output_type": "execute_result",
          "data": {
            "text/plain": [
              "<tf.Tensor: shape=(1, 10), dtype=float32, numpy=\n",
              "array([[ 0.03366552,  0.02708556, -0.08833596,  0.02204747,  0.11622974,\n",
              "        -0.09725527, -0.23567978, -0.14445539,  0.18366566, -0.04445881]],\n",
              "      dtype=float32)>"
            ]
          },
          "metadata": {
            "tags": []
          },
          "execution_count": 42
        }
      ]
    },
    {
      "cell_type": "code",
      "metadata": {
        "id": "UBHaQAZKD1BF",
        "colab": {
          "base_uri": "https://localhost:8080/"
        },
        "outputId": "b38ce81b-1044-4724-c492-043f56e1d418"
      },
      "source": [
        "bi_rnn_12(hidden, initial_state=[fw_h_14, bw_h_13])  # (bs, n_seq, units * 2)"
      ],
      "execution_count": 43,
      "outputs": [
        {
          "output_type": "execute_result",
          "data": {
            "text/plain": [
              "<tf.Tensor: shape=(1, 7, 10), dtype=float32, numpy=\n",
              "array([[[-0.00958689,  0.03306837,  0.121411  , -0.05310354,\n",
              "         -0.069801  , -0.02629121, -0.11530273,  0.01831289,\n",
              "          0.10370483,  0.00090374],\n",
              "        [-0.08903914, -0.00823849, -0.0190354 , -0.08953566,\n",
              "         -0.03271431,  0.05697922,  0.07164459,  0.06341173,\n",
              "         -0.15536907, -0.00161413],\n",
              "        [ 0.02232581, -0.00883719, -0.02639926,  0.04660335,\n",
              "          0.01856824, -0.10517551, -0.06117185, -0.04557626,\n",
              "          0.13275433,  0.04639041],\n",
              "        [ 0.01353182,  0.0045039 ,  0.00479941,  0.05030999,\n",
              "         -0.02010383,  0.12938042, -0.06425252,  0.154506  ,\n",
              "         -0.17298795, -0.03522091],\n",
              "        [ 0.00532184,  0.08084926,  0.03913519,  0.04759575,\n",
              "         -0.05087128, -0.15462299,  0.11073715, -0.15637334,\n",
              "          0.09666155,  0.11731722],\n",
              "        [-0.11827581,  0.02918995,  0.00035898,  0.04068657,\n",
              "         -0.04247621,  0.23023193, -0.17038245,  0.12133423,\n",
              "         -0.0254918 , -0.06646967],\n",
              "        [-0.06077602,  0.05895523, -0.07440832,  0.03875531,\n",
              "          0.05703022, -0.20933627,  0.09005939, -0.1080021 ,\n",
              "         -0.14258094,  0.09461382]]], dtype=float32)>"
            ]
          },
          "metadata": {
            "tags": []
          },
          "execution_count": 43
        }
      ]
    },
    {
      "cell_type": "code",
      "metadata": {
        "id": "KEz0U50aD1BF",
        "colab": {
          "base_uri": "https://localhost:8080/"
        },
        "outputId": "f3be0a65-9320-43b3-b4fb-62f7f157c92c"
      },
      "source": [
        "bi_rnn_13(hidden, initial_state=[fw_h_13, bw_h_13])  # (bs, units * 2), (bs, units), (bs, units)"
      ],
      "execution_count": 44,
      "outputs": [
        {
          "output_type": "execute_result",
          "data": {
            "text/plain": [
              "[<tf.Tensor: shape=(1, 10), dtype=float32, numpy=\n",
              " array([[ 0.21820247,  0.12051318,  0.03422751,  0.10649262,  0.11619177,\n",
              "          0.31769818, -0.1452783 ,  0.04461537,  0.30978465,  0.12155465]],\n",
              "       dtype=float32)>, <tf.Tensor: shape=(1, 5), dtype=float32, numpy=\n",
              " array([[0.21820247, 0.12051318, 0.03422751, 0.10649262, 0.11619177]],\n",
              "       dtype=float32)>, <tf.Tensor: shape=(1, 5), dtype=float32, numpy=\n",
              " array([[ 0.31769818, -0.1452783 ,  0.04461537,  0.30978465,  0.12155465]],\n",
              "       dtype=float32)>]"
            ]
          },
          "metadata": {
            "tags": []
          },
          "execution_count": 44
        }
      ]
    },
    {
      "cell_type": "code",
      "metadata": {
        "id": "sBDD0iR2D1BF",
        "colab": {
          "base_uri": "https://localhost:8080/"
        },
        "outputId": "1edf3c41-d42d-4cf9-ec31-b0287de48574"
      },
      "source": [
        "bi_rnn_14(hidden, initial_state=[fw_h_14, bw_h_14])  # (bs, n_seq, units * 2), (bs, units), (bs, units)"
      ],
      "execution_count": 45,
      "outputs": [
        {
          "output_type": "execute_result",
          "data": {
            "text/plain": [
              "[<tf.Tensor: shape=(1, 7, 10), dtype=float32, numpy=\n",
              " array([[[-0.01605418,  0.08521216,  0.0078772 , -0.0052132 ,\n",
              "           0.02986129, -0.08073806, -0.1815616 , -0.25961483,\n",
              "          -0.1164571 ,  0.19696285],\n",
              "         [ 0.04976505,  0.01947389, -0.06751592,  0.02501593,\n",
              "           0.01579403,  0.17407653, -0.08744309, -0.17113188,\n",
              "          -0.17401794,  0.25746423],\n",
              "         [ 0.01264184, -0.07194784, -0.03912848, -0.03732142,\n",
              "          -0.07277703,  0.09552309, -0.07634459, -0.01732119,\n",
              "           0.0321065 ,  0.3469225 ],\n",
              "         [-0.05013778, -0.04536489,  0.09190015, -0.06441393,\n",
              "           0.02577551, -0.14590359, -0.03704872, -0.19435067,\n",
              "          -0.02591169,  0.20409103],\n",
              "         [-0.11520644,  0.00189497, -0.0134646 ,  0.07705233,\n",
              "           0.02070227,  0.04140927, -0.18265297, -0.11942258,\n",
              "          -0.15420507,  0.14669563],\n",
              "         [ 0.038363  , -0.0723078 , -0.03828006,  0.11328387,\n",
              "          -0.0663591 ,  0.12099791,  0.06455711, -0.10884315,\n",
              "          -0.07171232,  0.24776572],\n",
              "         [ 0.05478888, -0.04579871,  0.1046733 , -0.0281437 ,\n",
              "          -0.09591071, -0.03719811, -0.14861408,  0.03417299,\n",
              "           0.01759559,  0.22281761]]], dtype=float32)>,\n",
              " <tf.Tensor: shape=(1, 5), dtype=float32, numpy=\n",
              " array([[ 0.05478888, -0.04579871,  0.1046733 , -0.0281437 , -0.09591071]],\n",
              "       dtype=float32)>,\n",
              " <tf.Tensor: shape=(1, 5), dtype=float32, numpy=\n",
              " array([[-0.08073806, -0.1815616 , -0.25961483, -0.1164571 ,  0.19696285]],\n",
              "       dtype=float32)>]"
            ]
          },
          "metadata": {
            "tags": []
          },
          "execution_count": 45
        }
      ]
    },
    {
      "cell_type": "code",
      "metadata": {
        "id": "pcVjp2BG6TTa",
        "colab": {
          "base_uri": "https://localhost:8080/"
        },
        "outputId": "08de8f49-3a33-4bc5-bee3-1fc8421aa784"
      },
      "source": [
        "bi_rnn_15(hidden, initial_state=[fw_h_15, bw_h_15])  # (bs, n_seq, units * 2), (bs, units), (bs, units)"
      ],
      "execution_count": 46,
      "outputs": [
        {
          "output_type": "execute_result",
          "data": {
            "text/plain": [
              "[<tf.Tensor: shape=(1, 7, 10), dtype=float32, numpy=\n",
              " array([[[-0.13737047, -0.09679037, -0.05934018, -0.06886436,\n",
              "          -0.00523294,  0.0727886 , -0.09048022,  0.08307764,\n",
              "           0.12412102, -0.12453701],\n",
              "         [-0.14075463, -0.11724226,  0.04581405,  0.07459354,\n",
              "          -0.01426174,  0.06995551, -0.21205617, -0.1117911 ,\n",
              "          -0.01708969, -0.03501226],\n",
              "         [-0.12785263, -0.16240634, -0.06420331,  0.00073943,\n",
              "           0.0690548 , -0.16556312, -0.11455913, -0.06187297,\n",
              "           0.04945378,  0.05067914],\n",
              "         [-0.15724663, -0.13813078,  0.00650161,  0.04300582,\n",
              "          -0.01467413, -0.02506764, -0.0341658 ,  0.06882256,\n",
              "           0.1301106 , -0.02594693],\n",
              "         [-0.12784694, -0.16602075, -0.02525957,  0.03671338,\n",
              "           0.06209772,  0.06407701, -0.13625775,  0.03438497,\n",
              "           0.07437628, -0.02320139],\n",
              "         [-0.14556013, -0.19758004, -0.04819372, -0.00296066,\n",
              "          -0.00981892,  0.01849694, -0.1541523 , -0.08468483,\n",
              "           0.01212436,  0.06475019],\n",
              "         [-0.14161533, -0.19374204,  0.01530637,  0.08052651,\n",
              "           0.01990239, -0.08945055, -0.05857892,  0.02610205,\n",
              "           0.06935985,  0.07833818]]], dtype=float32)>,\n",
              " <tf.Tensor: shape=(1, 5), dtype=float32, numpy=\n",
              " array([[-0.14161533, -0.19374204,  0.01530637,  0.08052651,  0.01990239]],\n",
              "       dtype=float32)>,\n",
              " <tf.Tensor: shape=(1, 5), dtype=float32, numpy=\n",
              " array([[ 0.0727886 , -0.09048022,  0.08307764,  0.12412102, -0.12453701]],\n",
              "       dtype=float32)>]"
            ]
          },
          "metadata": {
            "tags": []
          },
          "execution_count": 46
        }
      ]
    },
    {
      "cell_type": "markdown",
      "metadata": {
        "id": "sQaFWsxN_Wa-"
      },
      "source": [
        "# Bidirectional LSTM"
      ]
    },
    {
      "cell_type": "markdown",
      "metadata": {
        "id": "1NvWgSQW_WbI"
      },
      "source": [
        "## return sequence=False, return_state=False"
      ]
    },
    {
      "cell_type": "code",
      "metadata": {
        "id": "yaqddEAJ_WbI",
        "colab": {
          "base_uri": "https://localhost:8080/"
        },
        "outputId": "9056aa1a-e8e2-4147-f68f-eb5f3e60475b"
      },
      "source": [
        "# lstm\n",
        "bi_lstm_11 = tf.keras.layers.Bidirectional(tf.keras.layers.LSTM(units=5))\n",
        "output_11 = bi_lstm_11(hidden)  # (bs, units * 2)\n",
        "print(output_11)"
      ],
      "execution_count": 47,
      "outputs": [
        {
          "output_type": "stream",
          "text": [
            "tf.Tensor(\n",
            "[[-0.0091411  -0.00195886 -0.01065393  0.00111449  0.00126692  0.00095727\n",
            "  -0.00672461  0.00755316 -0.00082623 -0.00279788]], shape=(1, 10), dtype=float32)\n"
          ],
          "name": "stdout"
        }
      ]
    },
    {
      "cell_type": "code",
      "metadata": {
        "id": "41rWr-3o_WbI",
        "colab": {
          "base_uri": "https://localhost:8080/"
        },
        "outputId": "01b1be34-e3c0-431e-d1b0-902e464dc737"
      },
      "source": [
        "# lstm weights\n",
        "weights = bi_lstm_11.get_weights()\n",
        "Wx = weights[0]\n",
        "Wh = weights[1]\n",
        "b = weights[2]\n",
        "print(Wx.shape)  # (d_model, unit * 4) (Wxf, Wxi, Wxc, Wxo)\n",
        "print(Wh.shape)  # (unit, unit * 4) (Whf, Whi, Whc, Who)\n",
        "print(b.shape)  # (unit * 4) (bf, bi, bc, bo)"
      ],
      "execution_count": 48,
      "outputs": [
        {
          "output_type": "stream",
          "text": [
            "(4, 20)\n",
            "(5, 20)\n",
            "(20,)\n"
          ],
          "name": "stdout"
        }
      ]
    },
    {
      "cell_type": "markdown",
      "metadata": {
        "id": "YYJLRqQN_WbJ"
      },
      "source": [
        "## return sequence=True, return_state=False"
      ]
    },
    {
      "cell_type": "code",
      "metadata": {
        "id": "Upq3pGN3_WbJ",
        "colab": {
          "base_uri": "https://localhost:8080/"
        },
        "outputId": "6d0e6c84-294b-4dfd-fe27-f2a3a03a0e7b"
      },
      "source": [
        "# (return_sequences=True)\n",
        "bi_lstm_12 = tf.keras.layers.Bidirectional(tf.keras.layers.LSTM(units=5, return_sequences=True))\n",
        "output_12 = bi_lstm_12(hidden)  # (bs, seq, units * 2)\n",
        "print(output_12)"
      ],
      "execution_count": 49,
      "outputs": [
        {
          "output_type": "stream",
          "text": [
            "tf.Tensor(\n",
            "[[[-0.00265786 -0.0043344   0.00013482  0.00021896  0.00235112\n",
            "    0.01547839  0.00376636 -0.00398766 -0.00370576 -0.00819959]\n",
            "  [-0.00449128 -0.00437867 -0.00593121  0.00924517  0.00283331\n",
            "    0.01751981  0.0049557  -0.00431832 -0.00138006 -0.00634429]\n",
            "  [-0.00937262 -0.01305849 -0.00901041  0.01327662  0.00807199\n",
            "    0.01378284  0.00387323 -0.00220566  0.00160091 -0.00953445]\n",
            "  [-0.00559793 -0.01018761 -0.00705128  0.00901377  0.00187473\n",
            "    0.00511518  0.00353836 -0.00231105  0.00052435 -0.00378776]\n",
            "  [-0.00693194 -0.01262938 -0.00397775  0.00756546  0.003328\n",
            "    0.00971271  0.00036867 -0.00292887 -0.00174154 -0.00260874]\n",
            "  [-0.00763143 -0.01133148 -0.0081919   0.01510806  0.00309236\n",
            "    0.0093383   0.00124105 -0.00361729 -0.00029563  0.00060674]\n",
            "  [-0.00669851 -0.01033889 -0.00779064  0.01347378 -0.00082833\n",
            "    0.00253888  0.00025405 -0.00196356  0.00069703 -0.00069011]]], shape=(1, 7, 10), dtype=float32)\n"
          ],
          "name": "stdout"
        }
      ]
    },
    {
      "cell_type": "markdown",
      "metadata": {
        "id": "s6uX1Yz2_WbJ"
      },
      "source": [
        "## return sequence=False, return_state=True"
      ]
    },
    {
      "cell_type": "code",
      "metadata": {
        "id": "AQ85oNl6_WbJ",
        "colab": {
          "base_uri": "https://localhost:8080/"
        },
        "outputId": "1bc3a6e8-6b92-439a-d33e-fab2b434018c"
      },
      "source": [
        "# (return_state=True)\n",
        "bi_lstm_13 = tf.keras.layers.Bidirectional(tf.keras.layers.LSTM(units=5, return_state=True))\n",
        "output_13, fw_h_13, fw_c_13, bw_h_13, bw_c_13 = bi_lstm_13(hidden)  # (bs, units * 2), (bs, units), (bs, units), (bs, units), (bs, units)\n",
        "print(output_13)\n",
        "print(fw_h_13)\n",
        "print(fw_c_13)\n",
        "print(bw_h_13)\n",
        "print(bw_c_13)"
      ],
      "execution_count": 50,
      "outputs": [
        {
          "output_type": "stream",
          "text": [
            "tf.Tensor(\n",
            "[[-0.0120656  -0.00925701 -0.01397101 -0.01272232 -0.00377154  0.00358589\n",
            "   0.00628274 -0.0009331   0.00130135 -0.01711372]], shape=(1, 10), dtype=float32)\n",
            "tf.Tensor([[-0.0120656  -0.00925701 -0.01397101 -0.01272232 -0.00377154]], shape=(1, 5), dtype=float32)\n",
            "tf.Tensor([[-0.0240131  -0.01845097 -0.02803136 -0.02516522 -0.00755418]], shape=(1, 5), dtype=float32)\n",
            "tf.Tensor([[ 0.00358589  0.00628274 -0.0009331   0.00130135 -0.01711372]], shape=(1, 5), dtype=float32)\n",
            "tf.Tensor([[ 0.00712033  0.0125543  -0.00187386  0.00261137 -0.03440171]], shape=(1, 5), dtype=float32)\n"
          ],
          "name": "stdout"
        }
      ]
    },
    {
      "cell_type": "markdown",
      "metadata": {
        "id": "tDsh_WrM_WbK"
      },
      "source": [
        "## return sequence=True, return_state=True"
      ]
    },
    {
      "cell_type": "code",
      "metadata": {
        "id": "ErPLKIBd_WbK",
        "colab": {
          "base_uri": "https://localhost:8080/"
        },
        "outputId": "9455b893-c8b4-4a5d-9aa1-6d0dd0f86aff"
      },
      "source": [
        "# (return_sequences=True, return_state=True)\n",
        "bi_lstm_14 = tf.keras.layers.Bidirectional(tf.keras.layers.LSTM(units=5, return_sequences=True, return_state=True))\n",
        "output_14, fw_h_14, fw_c_14, bw_h_14, bw_c_14 = bi_lstm_14(hidden)  # (bs, seq, units), (bs, units), (bs, units), (bs, units), (bs, units)\n",
        "print(output_14)\n",
        "print(fw_h_14)\n",
        "print(fw_c_14)\n",
        "print(bw_h_14)\n",
        "print(bw_c_14)"
      ],
      "execution_count": 51,
      "outputs": [
        {
          "output_type": "stream",
          "text": [
            "tf.Tensor(\n",
            "[[[-4.93825087e-03  1.57994882e-03  1.12363684e-03 -4.47842944e-03\n",
            "    2.56202021e-03  1.12546431e-02  2.48889648e-03 -2.50570802e-03\n",
            "    1.44716818e-03 -9.65800602e-03]\n",
            "  [-2.63372925e-03 -2.84874020e-03 -2.13249540e-03 -6.95771025e-03\n",
            "   -1.50620908e-04  9.46284831e-03  4.81461640e-03 -1.05159730e-03\n",
            "    7.11854268e-03 -1.02394875e-02]\n",
            "  [-8.60493816e-03 -2.55907141e-03 -3.60661722e-03 -1.44659663e-02\n",
            "    3.51097691e-03  1.23011321e-02  2.28050468e-03 -9.35332850e-04\n",
            "    4.07424814e-04 -9.30012576e-03]\n",
            "  [-4.89327870e-03  9.69108005e-05 -2.74337549e-03 -7.42432335e-03\n",
            "    5.68036828e-03  1.93737936e-03  1.27299665e-03  3.21686524e-03\n",
            "    3.65405320e-03 -6.72827009e-03]\n",
            "  [-9.10563301e-03  1.70004414e-03 -4.24401456e-04 -9.45104193e-03\n",
            "    7.04449834e-03  6.01601787e-03  1.37617532e-03 -1.39327114e-03\n",
            "    1.41505990e-03 -5.99233853e-03]\n",
            "  [-6.15030527e-03 -2.73755379e-03 -2.86703533e-03 -1.01531055e-02\n",
            "    3.33691272e-03  1.69444876e-03  3.35535361e-03  8.76076752e-04\n",
            "    7.92570785e-03 -5.74614294e-03]\n",
            "  [-5.23292273e-03 -8.45090544e-04 -2.51975493e-03 -8.63597542e-03\n",
            "    5.40683558e-03  9.00297135e-04  2.76444975e-04  2.32170196e-03\n",
            "    2.82379123e-03 -3.75781627e-03]]], shape=(1, 7, 10), dtype=float32)\n",
            "tf.Tensor([[-0.00523292 -0.00084509 -0.00251975 -0.00863598  0.00540684]], shape=(1, 5), dtype=float32)\n",
            "tf.Tensor([[-0.01043072 -0.00168596 -0.00501922 -0.0173427   0.01083703]], shape=(1, 5), dtype=float32)\n",
            "tf.Tensor([[ 0.01125464  0.0024889  -0.00250571  0.00144717 -0.00965801]], shape=(1, 5), dtype=float32)\n",
            "tf.Tensor([[ 0.02233233  0.0049616  -0.00497248  0.00287192 -0.01930862]], shape=(1, 5), dtype=float32)\n"
          ],
          "name": "stdout"
        }
      ]
    },
    {
      "cell_type": "markdown",
      "metadata": {
        "id": "f6YIh1UK6fqf"
      },
      "source": [
        "## return sequence=True, return_state=True, dual cell"
      ]
    },
    {
      "cell_type": "code",
      "metadata": {
        "id": "B42rFb2W6fqp",
        "colab": {
          "base_uri": "https://localhost:8080/"
        },
        "outputId": "b218b59f-fa3c-41df-cb58-55c99f3c5317"
      },
      "source": [
        "fw_cell = tf.keras.layers.LSTM(units=5, return_sequences=True, return_state=True)\n",
        "bw_cell = tf.keras.layers.LSTM(units=5, go_backwards=True, return_sequences=True, return_state=True)\n",
        "bi_lstm_15 = tf.keras.layers.Bidirectional(fw_cell, backward_layer=bw_cell)\n",
        "output_15, fw_h_15, fw_c_15, bw_h_15, bw_c_15 = bi_lstm_15(hidden)  # (bs, seq, units), (bs, units), (bs, units), (bs, units), (bs, units)\n",
        "print(output_15)\n",
        "print(fw_h_15)\n",
        "print(fw_c_15)\n",
        "print(bw_h_15)\n",
        "print(bw_c_15)"
      ],
      "execution_count": 52,
      "outputs": [
        {
          "output_type": "stream",
          "text": [
            "tf.Tensor(\n",
            "[[[ 0.00495475 -0.00331018  0.00395093 -0.00329338  0.00415729\n",
            "   -0.0180721  -0.01573503 -0.01285162 -0.00277101  0.00339783]\n",
            "  [ 0.00349237 -0.00677733 -0.00158574 -0.00234077 -0.00555243\n",
            "   -0.02337367 -0.0174552  -0.01628419 -0.00708228  0.00892222]\n",
            "  [ 0.00969132 -0.01379248  0.0020227  -0.00892029 -0.00202836\n",
            "   -0.01767263 -0.01291452 -0.01265395 -0.00108847  0.00167047]\n",
            "  [ 0.00534758 -0.00945067 -0.00117936 -0.0053229  -0.00113703\n",
            "   -0.00888715 -0.00892433 -0.00860421 -0.0006565   0.00061645]\n",
            "  [ 0.00862082 -0.0104156   0.00155645 -0.00624899  0.00386506\n",
            "   -0.0120177  -0.00885876 -0.00759859 -0.00184825  0.00420916]\n",
            "  [ 0.0061077  -0.01204597 -0.00425913 -0.00373866 -0.00539111\n",
            "   -0.01465405 -0.00959472 -0.00954412 -0.0060354   0.00932412]\n",
            "  [ 0.00581268 -0.01118626 -0.00464319 -0.0016418  -0.00426225\n",
            "   -0.00486443 -0.00391572 -0.0039888   0.00015602  0.00108014]]], shape=(1, 7, 10), dtype=float32)\n",
            "tf.Tensor([[ 0.00581268 -0.01118626 -0.00464319 -0.0016418  -0.00426225]], shape=(1, 5), dtype=float32)\n",
            "tf.Tensor([[ 0.01164129 -0.02256148 -0.00931433 -0.00326897 -0.00852641]], shape=(1, 5), dtype=float32)\n",
            "tf.Tensor([[-0.0180721  -0.01573503 -0.01285162 -0.00277101  0.00339783]], shape=(1, 5), dtype=float32)\n",
            "tf.Tensor([[-0.03572781 -0.03116229 -0.02532901 -0.00557438  0.00683221]], shape=(1, 5), dtype=float32)\n"
          ],
          "name": "stdout"
        }
      ]
    },
    {
      "cell_type": "markdown",
      "metadata": {
        "id": "nMk2duPz_WbK"
      },
      "source": [
        "## init hidden state"
      ]
    },
    {
      "cell_type": "code",
      "metadata": {
        "id": "YOqL64zN_WbK",
        "colab": {
          "base_uri": "https://localhost:8080/"
        },
        "outputId": "a8b3cc5f-b519-4e8a-9618-464ca848443b"
      },
      "source": [
        "bi_lstm_11(hidden, initial_state=[fw_h_13, fw_c_13, bw_h_13, bw_c_13])  # (bs, units * 2)"
      ],
      "execution_count": 53,
      "outputs": [
        {
          "output_type": "execute_result",
          "data": {
            "text/plain": [
              "<tf.Tensor: shape=(1, 10), dtype=float32, numpy=\n",
              "array([[-0.01023473, -0.00193374, -0.01338799, -0.00146469, -0.00070886,\n",
              "         0.00093291, -0.00624854,  0.00838793,  0.00082277, -0.00327455]],\n",
              "      dtype=float32)>"
            ]
          },
          "metadata": {
            "tags": []
          },
          "execution_count": 53
        }
      ]
    },
    {
      "cell_type": "code",
      "metadata": {
        "id": "tdXXGLEz_WbK",
        "colab": {
          "base_uri": "https://localhost:8080/"
        },
        "outputId": "e25784d3-96df-4a5f-a49d-8febcee08b8b"
      },
      "source": [
        "bi_lstm_12(hidden, initial_state=[fw_h_14, fw_c_14, bw_h_14, bw_c_14])  # (bs, n_seq, units * 2)"
      ],
      "execution_count": 54,
      "outputs": [
        {
          "output_type": "execute_result",
          "data": {
            "text/plain": [
              "<tf.Tensor: shape=(1, 7, 10), dtype=float32, numpy=\n",
              "array([[[-6.60974579e-03, -4.60475869e-03, -2.46287766e-03,\n",
              "         -5.28629636e-03,  7.04866555e-03,  1.59377698e-02,\n",
              "          5.22162113e-03, -5.54601708e-03, -4.86770039e-03,\n",
              "         -1.08627295e-02],\n",
              "        [-7.31502892e-03, -4.34928900e-03, -8.33140407e-03,\n",
              "          5.93430223e-03,  6.83494424e-03,  1.84618179e-02,\n",
              "          6.76620239e-03, -6.06556190e-03, -2.82867975e-03,\n",
              "         -9.52870864e-03],\n",
              "        [-1.14819892e-02, -1.28966831e-02, -1.10255089e-02,\n",
              "          1.15609961e-02,  1.14384238e-02,  1.54351909e-02,\n",
              "          6.06912794e-03, -4.12329379e-03, -1.31844179e-04,\n",
              "         -1.33691225e-02],\n",
              "        [-7.11657433e-03, -9.99401975e-03, -8.67993664e-03,\n",
              "          8.35995283e-03,  4.67623444e-03,  7.74875144e-03,\n",
              "          6.17331825e-03, -4.37289011e-03, -1.43528555e-03,\n",
              "         -8.20546132e-03],\n",
              "        [-8.03377759e-03, -1.24661587e-02, -5.23295300e-03,\n",
              "          7.60634383e-03,  5.57499984e-03,  1.37165291e-02,\n",
              "          3.36837908e-03, -5.07779513e-03, -3.74835031e-03,\n",
              "         -7.94503000e-03],\n",
              "        [-8.38584825e-03, -1.12223048e-02, -9.12725460e-03,\n",
              "          1.55593473e-02,  4.85440437e-03,  1.52018275e-02,\n",
              "          4.51704627e-03, -5.85209485e-03, -1.96215906e-03,\n",
              "         -5.89217525e-03],\n",
              "        [-7.23499199e-03, -1.02936551e-02, -8.44809506e-03,\n",
              "          1.41410585e-02,  5.35739528e-04,  1.07457759e-02,\n",
              "          3.49418283e-03, -4.29456495e-03,  1.50834094e-05,\n",
              "         -8.56174808e-03]]], dtype=float32)>"
            ]
          },
          "metadata": {
            "tags": []
          },
          "execution_count": 54
        }
      ]
    },
    {
      "cell_type": "code",
      "metadata": {
        "id": "bJQ0BcMK_WbL",
        "colab": {
          "base_uri": "https://localhost:8080/"
        },
        "outputId": "302e5f0a-bf62-4f39-9c97-b18eaa86a9cc"
      },
      "source": [
        "bi_lstm_13(hidden, initial_state=[fw_h_13, fw_c_13, bw_h_13, bw_c_13])  # (bs, units * 2), (bs, units), (bs, units), (bs, units), (bs, units)"
      ],
      "execution_count": 55,
      "outputs": [
        {
          "output_type": "execute_result",
          "data": {
            "text/plain": [
              "[<tf.Tensor: shape=(1, 10), dtype=float32, numpy=\n",
              " array([[-0.01310249, -0.01002163, -0.01480073, -0.0162613 , -0.00320622,\n",
              "          0.00468044,  0.00443027, -0.00226083, -0.00106409, -0.01948485]],\n",
              "       dtype=float32)>, <tf.Tensor: shape=(1, 5), dtype=float32, numpy=\n",
              " array([[-0.01310249, -0.01002163, -0.01480073, -0.0162613 , -0.00320622]],\n",
              "       dtype=float32)>, <tf.Tensor: shape=(1, 5), dtype=float32, numpy=\n",
              " array([[-0.02607962, -0.01996258, -0.02969774, -0.0321192 , -0.00642195]],\n",
              "       dtype=float32)>, <tf.Tensor: shape=(1, 5), dtype=float32, numpy=\n",
              " array([[ 0.00468044,  0.00443027, -0.00226083, -0.00106409, -0.01948485]],\n",
              "       dtype=float32)>, <tf.Tensor: shape=(1, 5), dtype=float32, numpy=\n",
              " array([[ 0.00930022,  0.00885129, -0.00454444, -0.00213444, -0.03916886]],\n",
              "       dtype=float32)>]"
            ]
          },
          "metadata": {
            "tags": []
          },
          "execution_count": 55
        }
      ]
    },
    {
      "cell_type": "code",
      "metadata": {
        "id": "tVE16Kmr_WbL",
        "colab": {
          "base_uri": "https://localhost:8080/"
        },
        "outputId": "bfbf8fb7-8bee-46d4-a825-efd0cf51e30f"
      },
      "source": [
        "bi_lstm_14(hidden, initial_state=[fw_h_14, fw_c_14, bw_h_14, bw_c_14])  # (bs, n_seq, units * 2), (bs, units), (bs, units), (bs, units), (bs, units)"
      ],
      "execution_count": 56,
      "outputs": [
        {
          "output_type": "execute_result",
          "data": {
            "text/plain": [
              "[<tf.Tensor: shape=(1, 7, 10), dtype=float32, numpy=\n",
              " array([[[-9.2946570e-03,  1.0539182e-03, -3.8832662e-04, -1.0321104e-02,\n",
              "           6.7977030e-03,  1.0704679e-02,  3.2777246e-03, -2.7366264e-03,\n",
              "           2.0449997e-03, -1.1713574e-02],\n",
              "         [-6.2589343e-03, -3.1791951e-03, -2.9282630e-03, -1.0749885e-02,\n",
              "           3.1353571e-03,  9.2037711e-03,  5.6698048e-03, -1.2704161e-03,\n",
              "           7.9147145e-03, -1.2797554e-02],\n",
              "         [-1.1562139e-02, -2.7626881e-03, -3.9357324e-03, -1.6902905e-02,\n",
              "           5.9763207e-03,  1.2545935e-02,  3.2458073e-03, -1.1728891e-03,\n",
              "           1.4596200e-03, -1.2506646e-02],\n",
              "         [-7.3220842e-03, -2.6025682e-05, -2.7729657e-03, -8.9391014e-03,\n",
              "           7.4939569e-03,  2.9907825e-03,  2.3672790e-03,  2.9226586e-03,\n",
              "           4.9383151e-03, -1.0776709e-02],\n",
              "         [-1.1051988e-02,  1.6277799e-03, -2.7572058e-04, -1.0326426e-02,\n",
              "           8.3500864e-03,  8.3663277e-03,  2.6552952e-03, -1.8456638e-03,\n",
              "           2.9860665e-03, -1.1035950e-02],\n",
              "         [-7.7008810e-03, -2.7785380e-03, -2.6319274e-03, -1.0596954e-02,\n",
              "           4.2635691e-03,  5.9411838e-03,  4.8698783e-03,  9.4487543e-05,\n",
              "           9.7063724e-03, -1.1987945e-02],\n",
              "         [-6.4576785e-03, -8.6325995e-04, -2.2426029e-03, -8.8131493e-03,\n",
              "           6.0363277e-03,  7.9490989e-03,  2.1826022e-03,  9.2508236e-04,\n",
              "           4.6283440e-03, -1.1532444e-02]]], dtype=float32)>,\n",
              " <tf.Tensor: shape=(1, 5), dtype=float32, numpy=\n",
              " array([[-0.00645768, -0.00086326, -0.0022426 , -0.00881315,  0.00603633]],\n",
              "       dtype=float32)>,\n",
              " <tf.Tensor: shape=(1, 5), dtype=float32, numpy=\n",
              " array([[-0.01287407, -0.00172154, -0.0044672 , -0.01769894,  0.01209942]],\n",
              "       dtype=float32)>,\n",
              " <tf.Tensor: shape=(1, 5), dtype=float32, numpy=\n",
              " array([[ 0.01070468,  0.00327772, -0.00273663,  0.002045  , -0.01171357]],\n",
              "       dtype=float32)>,\n",
              " <tf.Tensor: shape=(1, 5), dtype=float32, numpy=\n",
              " array([[ 0.02123386,  0.00653369, -0.00543294,  0.00405873, -0.0234116 ]],\n",
              "       dtype=float32)>]"
            ]
          },
          "metadata": {
            "tags": []
          },
          "execution_count": 56
        }
      ]
    },
    {
      "cell_type": "code",
      "metadata": {
        "id": "gyg9nhf_60sy",
        "colab": {
          "base_uri": "https://localhost:8080/"
        },
        "outputId": "0e672d48-f053-411c-985e-d3a085dc661f"
      },
      "source": [
        "bi_lstm_15(hidden, initial_state=[fw_h_15, fw_c_15, bw_h_15, bw_c_15])  # (bs, n_seq, units * 2), (bs, units), (bs, units), (bs, units), (bs, units)"
      ],
      "execution_count": 57,
      "outputs": [
        {
          "output_type": "execute_result",
          "data": {
            "text/plain": [
              "[<tf.Tensor: shape=(1, 7, 10), dtype=float32, numpy=\n",
              " array([[[ 0.00911922, -0.01184663, -0.00093997, -0.00315016,\n",
              "           0.00207837, -0.01867148, -0.01978398, -0.01434555,\n",
              "          -0.00398541,  0.00397486],\n",
              "         [ 0.00657623, -0.01320542, -0.00598547, -0.00124227,\n",
              "          -0.00639827, -0.02458058, -0.02254219, -0.01839299,\n",
              "          -0.00845786,  0.00936269],\n",
              "         [ 0.0119022 , -0.01858521, -0.00190663, -0.00735227,\n",
              "          -0.00221468, -0.01989708, -0.01939941, -0.01566708,\n",
              "          -0.00262859,  0.00200037],\n",
              "         [ 0.00698813, -0.0130194 , -0.00454314, -0.00365305,\n",
              "          -0.00099636, -0.01250586, -0.01679148, -0.0127749 ,\n",
              "          -0.00236441,  0.00090435],\n",
              "         [ 0.00982995, -0.01307385, -0.00120857, -0.0045995 ,\n",
              "           0.00414277, -0.01773881, -0.01851769, -0.01334196,\n",
              "          -0.0037433 ,  0.00458853],\n",
              "         [ 0.00702694, -0.0140162 , -0.00639482, -0.00223996,\n",
              "          -0.00506631, -0.02314457, -0.02107374, -0.01707404,\n",
              "          -0.00816487,  0.01004562],\n",
              "         [ 0.00649625, -0.01263252, -0.00636711, -0.00032752,\n",
              "          -0.00396218, -0.01736318, -0.01753842, -0.01391438,\n",
              "          -0.00225709,  0.0027183 ]]], dtype=float32)>,\n",
              " <tf.Tensor: shape=(1, 5), dtype=float32, numpy=\n",
              " array([[ 0.00649625, -0.01263252, -0.00636711, -0.00032752, -0.00396218]],\n",
              "       dtype=float32)>,\n",
              " <tf.Tensor: shape=(1, 5), dtype=float32, numpy=\n",
              " array([[ 0.01300955, -0.02549465, -0.01277641, -0.00065173, -0.00792832]],\n",
              "       dtype=float32)>,\n",
              " <tf.Tensor: shape=(1, 5), dtype=float32, numpy=\n",
              " array([[-0.01867148, -0.01978398, -0.01434555, -0.00398541,  0.00397486]],\n",
              "       dtype=float32)>,\n",
              " <tf.Tensor: shape=(1, 5), dtype=float32, numpy=\n",
              " array([[-0.03692431, -0.03916173, -0.02826498, -0.00802557,  0.0079984 ]],\n",
              "       dtype=float32)>]"
            ]
          },
          "metadata": {
            "tags": []
          },
          "execution_count": 57
        }
      ]
    },
    {
      "cell_type": "markdown",
      "metadata": {
        "id": "AJxyxHyMBLVT"
      },
      "source": [
        "# Bidirectional GRU"
      ]
    },
    {
      "cell_type": "markdown",
      "metadata": {
        "id": "HtKHOhc0BLVh"
      },
      "source": [
        "## return sequence=False, return_state=False"
      ]
    },
    {
      "cell_type": "code",
      "metadata": {
        "id": "FgM-ssTSBLVh",
        "colab": {
          "base_uri": "https://localhost:8080/"
        },
        "outputId": "fdc4364b-adea-4f3c-acd8-4f4da8838b75"
      },
      "source": [
        "# bi GRU\n",
        "bi_gru_11 = tf.keras.layers.Bidirectional(tf.keras.layers.GRU(units=5))\n",
        "output_11 = bi_gru_11(hidden)  # (bs, units * 2)\n",
        "print(output_11)"
      ],
      "execution_count": 58,
      "outputs": [
        {
          "output_type": "stream",
          "text": [
            "tf.Tensor(\n",
            "[[-0.00090163 -0.02939906 -0.00681299  0.00333673 -0.00652324 -0.01461007\n",
            "  -0.00590369  0.00853587 -0.00181723 -0.00886709]], shape=(1, 10), dtype=float32)\n"
          ],
          "name": "stdout"
        }
      ]
    },
    {
      "cell_type": "code",
      "metadata": {
        "id": "tRbCY61HBLVi",
        "colab": {
          "base_uri": "https://localhost:8080/"
        },
        "outputId": "367b9492-f064-4792-d614-12590f88dd3e"
      },
      "source": [
        "# bi GRU weights\n",
        "weights = bi_gru_11.get_weights()\n",
        "Wx = weights[0]\n",
        "Wh = weights[1]\n",
        "b = weights[2]\n",
        "print(Wx.shape)  # (d_model, unit * 3) (Wxr, Wxz, Wxg)\n",
        "print(Wh.shape)  # (unit, unit * 3) (Whr, Whz, Whg)\n",
        "print(b.shape)  # (2, unit * 3) (bxr, bxz, bxg),(bhr, bhz, bhg)"
      ],
      "execution_count": 59,
      "outputs": [
        {
          "output_type": "stream",
          "text": [
            "(4, 15)\n",
            "(5, 15)\n",
            "(2, 15)\n"
          ],
          "name": "stdout"
        }
      ]
    },
    {
      "cell_type": "markdown",
      "metadata": {
        "id": "caCQoTUJBLVi"
      },
      "source": [
        "## return sequence=True, return_state=False"
      ]
    },
    {
      "cell_type": "code",
      "metadata": {
        "id": "iDp3EdgEBLVj",
        "colab": {
          "base_uri": "https://localhost:8080/"
        },
        "outputId": "1eaabb82-98d9-42db-d8ae-6a9d60d231d5"
      },
      "source": [
        "# (return_sequences=True)\n",
        "bi_gru_12 = tf.keras.layers.Bidirectional(tf.keras.layers.GRU(units=5, return_sequences=True))\n",
        "output_12 = bi_gru_12(hidden)  # (bs, seq, units* 2)\n",
        "print(output_12)"
      ],
      "execution_count": 60,
      "outputs": [
        {
          "output_type": "stream",
          "text": [
            "tf.Tensor(\n",
            "[[[-0.00544995  0.00655301  0.00508489  0.00244967  0.00328198\n",
            "    0.01886513  0.01990128 -0.00551106  0.00665467  0.01657994]\n",
            "  [ 0.01110324 -0.00934234 -0.01514423  0.00014308 -0.00704704\n",
            "    0.03488777  0.00499167 -0.00988165  0.01538127  0.03170763]\n",
            "  [ 0.0076507  -0.00871916 -0.01256944  0.00839841 -0.00676278\n",
            "    0.0159151   0.01561383 -0.01603252  0.01622044  0.02766158]\n",
            "  [ 0.01060414 -0.01359599 -0.01609579  0.00704759  0.0001731\n",
            "    0.00293907  0.00393714 -0.00164059  0.00913611  0.00610813]\n",
            "  [ 0.0006414  -0.00185265 -0.00161888  0.00305068  0.00071399\n",
            "    0.01375607  0.01290924 -0.00463978  0.0031499   0.01363201]\n",
            "  [ 0.0146883  -0.01410105 -0.01737136 -0.00077821 -0.00977928\n",
            "    0.02662695 -0.00578056 -0.00502988  0.00954117  0.02461229]\n",
            "  [ 0.01761476 -0.01647723 -0.01906318 -0.00072876 -0.0052701\n",
            "    0.00358339 -0.00039039 -0.00187687  0.00689455  0.01056525]]], shape=(1, 7, 10), dtype=float32)\n"
          ],
          "name": "stdout"
        }
      ]
    },
    {
      "cell_type": "markdown",
      "metadata": {
        "id": "Cvudxy7hBLVj"
      },
      "source": [
        "## return sequence=False, return_state=True"
      ]
    },
    {
      "cell_type": "code",
      "metadata": {
        "id": "17FvtfnTBLVj",
        "colab": {
          "base_uri": "https://localhost:8080/"
        },
        "outputId": "7cb0bf48-8665-46b5-a73d-606845c4cfde"
      },
      "source": [
        "# (return_state=True)\n",
        "bi_gru_13 = tf.keras.layers.Bidirectional(tf.keras.layers.GRU(units=5, return_state=True))\n",
        "output_13, fw_h_13, bw_h_13 = bi_gru_13(hidden)  # (bs, units * 2), (bs, units), (bs, units)\n",
        "print(output_13)\n",
        "print(fw_h_13)\n",
        "print(bw_h_13)"
      ],
      "execution_count": 61,
      "outputs": [
        {
          "output_type": "stream",
          "text": [
            "tf.Tensor(\n",
            "[[-0.01932936 -0.00364332  0.0014023  -0.00644885 -0.0033084  -0.01575399\n",
            "   0.01134418  0.01355181 -0.0026195  -0.01196533]], shape=(1, 10), dtype=float32)\n",
            "tf.Tensor([[-0.01932936 -0.00364332  0.0014023  -0.00644885 -0.0033084 ]], shape=(1, 5), dtype=float32)\n",
            "tf.Tensor([[-0.01575399  0.01134418  0.01355181 -0.0026195  -0.01196533]], shape=(1, 5), dtype=float32)\n"
          ],
          "name": "stdout"
        }
      ]
    },
    {
      "cell_type": "markdown",
      "metadata": {
        "id": "3c_70ASUBLVj"
      },
      "source": [
        "## return sequence=True, return_state=True"
      ]
    },
    {
      "cell_type": "code",
      "metadata": {
        "id": "M2w7NYXxBLVk",
        "colab": {
          "base_uri": "https://localhost:8080/"
        },
        "outputId": "ebe65a49-567a-4132-f4e8-a76b6f44d1ee"
      },
      "source": [
        "# (return_sequences=True, return_state=True)\n",
        "bi_gru_14 = tf.keras.layers.Bidirectional(tf.keras.layers.GRU(units=5, return_sequences=True, return_state=True))\n",
        "output_14, fw_h_14, bw_h_14 = bi_gru_14(hidden)  # (bs, seq, units * 2), (bs, units), (bs, units)\n",
        "print(output_14)\n",
        "print(fw_h_14)\n",
        "print(bw_h_14)"
      ],
      "execution_count": 62,
      "outputs": [
        {
          "output_type": "stream",
          "text": [
            "tf.Tensor(\n",
            "[[[-2.3091810e-03 -3.1860580e-03  1.3427553e-02 -4.5126835e-03\n",
            "    8.1432558e-09  1.4271471e-02  1.6803132e-02 -1.3269935e-02\n",
            "   -5.3254152e-03  2.6840789e-03]\n",
            "  [-1.2526310e-02  7.7030039e-04  4.0477980e-04 -4.3615680e-03\n",
            "    1.8282691e-02  2.3529552e-02  1.8355202e-02 -1.6911296e-02\n",
            "   -2.3126394e-02 -6.9141160e-03]\n",
            "  [-2.0065214e-02  9.1319089e-04  1.8987352e-02 -6.4723492e-03\n",
            "    2.1419516e-02  1.6605470e-02  2.2840556e-02 -1.7608495e-02\n",
            "   -4.8592142e-03  6.0454551e-03]\n",
            "  [-6.7368280e-03  4.6227332e-03  3.2675844e-03 -1.1574083e-03\n",
            "    1.4620153e-03  6.0047447e-03  7.3859259e-03 -5.0420975e-03\n",
            "   -2.0892471e-03 -4.2650579e-03]\n",
            "  [-5.1109716e-03 -2.9111258e-04  1.4815459e-02 -5.9927353e-03\n",
            "    5.9677346e-04  1.1334602e-02  1.1809524e-02 -1.0519840e-02\n",
            "   -5.3277011e-03  1.3117543e-03]\n",
            "  [-1.3658027e-02  2.5296630e-03  1.0609152e-03 -5.6024329e-03\n",
            "    1.8645352e-02  1.8249627e-02  8.9196926e-03 -1.1024607e-02\n",
            "   -2.2939773e-02 -9.8465988e-03]\n",
            "  [-9.5287189e-03  1.1492947e-03  1.2683889e-04 -4.7267787e-03\n",
            "    6.7884643e-03  7.3057027e-03  4.1049048e-03 -5.4826383e-03\n",
            "   -4.1897660e-03 -2.1188380e-04]]], shape=(1, 7, 10), dtype=float32)\n",
            "tf.Tensor([[-0.00952872  0.00114929  0.00012684 -0.00472678  0.00678846]], shape=(1, 5), dtype=float32)\n",
            "tf.Tensor([[ 0.01427147  0.01680313 -0.01326993 -0.00532542  0.00268408]], shape=(1, 5), dtype=float32)\n"
          ],
          "name": "stdout"
        }
      ]
    },
    {
      "cell_type": "markdown",
      "metadata": {
        "id": "A31meY567E4A"
      },
      "source": [
        "## return sequence=True, return_state=True, dual cell"
      ]
    },
    {
      "cell_type": "code",
      "metadata": {
        "id": "4H4nDC2w7E4K",
        "colab": {
          "base_uri": "https://localhost:8080/"
        },
        "outputId": "8154c1af-77e7-44ab-b70a-096074b079d7"
      },
      "source": [
        "fw_cell = tf.keras.layers.GRU(units=5, return_sequences=True, return_state=True)\n",
        "bw_cell = tf.keras.layers.GRU(units=5, go_backwards=True, return_sequences=True, return_state=True)\n",
        "bi_gru_15 = tf.keras.layers.Bidirectional(fw_cell, backward_layer=bw_cell)\n",
        "output_15, fw_h_15, bw_h_15 = bi_gru_15(hidden)  # (bs, seq, units), (bs, units), (bs, units)\n",
        "print(output_15)\n",
        "print(fw_h_15)\n",
        "print(bw_h_15)"
      ],
      "execution_count": 63,
      "outputs": [
        {
          "output_type": "stream",
          "text": [
            "tf.Tensor(\n",
            "[[[-0.00266626  0.00435569  0.00269862 -0.00219783 -0.00227546\n",
            "   -0.00686164  0.000453    0.02319533  0.01369299 -0.00968438]\n",
            "  [-0.01231614  0.01696009 -0.01152824 -0.00122426  0.00686737\n",
            "   -0.01834638  0.00154617  0.02460223  0.00541616 -0.02484104]\n",
            "  [-0.01807224  0.02306716 -0.01169904 -0.00183409  0.00272714\n",
            "   -0.01283854  0.00132915  0.02172385  0.01525709 -0.01104504]\n",
            "  [-0.01245851  0.00445519 -0.00457123  0.00450796  0.00383658\n",
            "   -0.00297759 -0.0024772   0.00527201  0.00365279 -0.00375433]\n",
            "  [-0.00745491  0.0066129   0.00100038  0.00110866  0.00019591\n",
            "   -0.0047269   0.00328192  0.01678062  0.00774037 -0.00712054]\n",
            "  [-0.01409153  0.01821035 -0.01230224  0.00116913  0.00837278\n",
            "   -0.01426164  0.00346387  0.01393526 -0.00472578 -0.02068755]\n",
            "  [-0.01570416  0.01135815 -0.00871262  0.00577182  0.00942964\n",
            "   -0.00486611 -0.00076688  0.00395244 -0.00240948 -0.00567551]]], shape=(1, 7, 10), dtype=float32)\n",
            "tf.Tensor([[-0.01570416  0.01135815 -0.00871262  0.00577182  0.00942964]], shape=(1, 5), dtype=float32)\n",
            "tf.Tensor([[-0.00686164  0.000453    0.02319533  0.01369299 -0.00968438]], shape=(1, 5), dtype=float32)\n"
          ],
          "name": "stdout"
        }
      ]
    },
    {
      "cell_type": "markdown",
      "metadata": {
        "id": "WM9iRBglBLVk"
      },
      "source": [
        "## init hidden state"
      ]
    },
    {
      "cell_type": "code",
      "metadata": {
        "id": "nuJ1oKfSBLVk",
        "colab": {
          "base_uri": "https://localhost:8080/"
        },
        "outputId": "cdde4f40-9ef8-4479-bfe3-e4e4c9d1c3a1"
      },
      "source": [
        "bi_gru_11(hidden, initial_state=[fw_h_13, bw_h_13])  # (bs, units * 2)"
      ],
      "execution_count": 64,
      "outputs": [
        {
          "output_type": "execute_result",
          "data": {
            "text/plain": [
              "<tf.Tensor: shape=(1, 10), dtype=float32, numpy=\n",
              "array([[-0.00111542, -0.02938705, -0.0069546 ,  0.00317885, -0.00644098,\n",
              "        -0.01484011, -0.00570754,  0.00883123, -0.00141239, -0.00862596]],\n",
              "      dtype=float32)>"
            ]
          },
          "metadata": {
            "tags": []
          },
          "execution_count": 64
        }
      ]
    },
    {
      "cell_type": "code",
      "metadata": {
        "id": "7zwybtdoBLVk",
        "colab": {
          "base_uri": "https://localhost:8080/"
        },
        "outputId": "02bee8fa-7de4-4e52-8fcd-4bf1f8421b6e"
      },
      "source": [
        "bi_gru_12(hidden, initial_state=[fw_h_14, bw_h_13])  # (bs, n_seq, units * 2)"
      ],
      "execution_count": 65,
      "outputs": [
        {
          "output_type": "execute_result",
          "data": {
            "text/plain": [
              "<tf.Tensor: shape=(1, 7, 10), dtype=float32, numpy=\n",
              "array([[[-0.01178888,  0.00708702,  0.00454843,  0.0014987 ,\n",
              "          0.00754347,  0.01858859,  0.0201867 , -0.00559687,\n",
              "          0.0069643 ,  0.01663257],\n",
              "        [ 0.00700526, -0.00921616, -0.0159449 ,  0.00042708,\n",
              "         -0.00451346,  0.03438773,  0.00544645, -0.00996044,\n",
              "          0.01579525,  0.03179988],\n",
              "        [ 0.00504407, -0.00880702, -0.01334693,  0.0089146 ,\n",
              "         -0.00532919,  0.01498756,  0.01632815, -0.01602311,\n",
              "          0.01674313,  0.02779519],\n",
              "        [ 0.00894677, -0.01376328, -0.01671426,  0.0075021 ,\n",
              "          0.00094845,  0.0012499 ,  0.00507902, -0.00134824,\n",
              "          0.00975266,  0.006233  ],\n",
              "        [-0.00040665, -0.00202796, -0.00205545,  0.00338962,\n",
              "          0.001097  ,  0.01073083,  0.014755  , -0.00358646,\n",
              "          0.00377816,  0.01356415],\n",
              "        [ 0.0140309 , -0.01425134, -0.01766266, -0.00054546,\n",
              "         -0.00961264,  0.02127334, -0.00259683, -0.00227283,\n",
              "          0.00992619,  0.02375941],\n",
              "        [ 0.01720561, -0.01659268, -0.01924548, -0.00057147,\n",
              "         -0.0052117 , -0.00576431,  0.00529889,  0.00456341,\n",
              "          0.00645807,  0.00695256]]], dtype=float32)>"
            ]
          },
          "metadata": {
            "tags": []
          },
          "execution_count": 65
        }
      ]
    },
    {
      "cell_type": "code",
      "metadata": {
        "id": "5VlLf8ddBLVl",
        "colab": {
          "base_uri": "https://localhost:8080/"
        },
        "outputId": "f5e10b7f-df16-4776-c6bd-841cc939a281"
      },
      "source": [
        "bi_gru_13(hidden, initial_state=[fw_h_13, bw_h_13])  # (bs, units * 2), (bs, units), (bs, units)"
      ],
      "execution_count": 66,
      "outputs": [
        {
          "output_type": "execute_result",
          "data": {
            "text/plain": [
              "[<tf.Tensor: shape=(1, 10), dtype=float32, numpy=\n",
              " array([[-0.01969679, -0.00354168,  0.00149255, -0.00645253, -0.003255  ,\n",
              "         -0.01588511,  0.01120158,  0.01380242, -0.00251634, -0.01245225]],\n",
              "       dtype=float32)>, <tf.Tensor: shape=(1, 5), dtype=float32, numpy=\n",
              " array([[-0.01969679, -0.00354168,  0.00149255, -0.00645253, -0.003255  ]],\n",
              "       dtype=float32)>, <tf.Tensor: shape=(1, 5), dtype=float32, numpy=\n",
              " array([[-0.01588511,  0.01120158,  0.01380242, -0.00251634, -0.01245225]],\n",
              "       dtype=float32)>]"
            ]
          },
          "metadata": {
            "tags": []
          },
          "execution_count": 66
        }
      ]
    },
    {
      "cell_type": "code",
      "metadata": {
        "id": "L0kqqvsoBLVl",
        "colab": {
          "base_uri": "https://localhost:8080/"
        },
        "outputId": "ab2ddfa3-30c0-479f-c376-656465af4eff"
      },
      "source": [
        "bi_gru_14(hidden, initial_state=[fw_h_14, bw_h_14])  # (bs, n_seq, units * 2), (bs, units), (bs, units)"
      ],
      "execution_count": 67,
      "outputs": [
        {
          "output_type": "execute_result",
          "data": {
            "text/plain": [
              "[<tf.Tensor: shape=(1, 7, 10), dtype=float32, numpy=\n",
              " array([[[-6.86333049e-03, -1.91747397e-03,  1.28517626e-02,\n",
              "          -7.55546521e-03,  2.29049101e-03,  1.44419409e-02,\n",
              "           1.72244590e-02, -1.35123525e-02, -5.47202956e-03,\n",
              "           2.39708880e-03],\n",
              "         [-1.47506716e-02,  1.76925049e-03, -1.80578791e-05,\n",
              "          -6.22707978e-03,  1.91394370e-02,  2.38419473e-02,\n",
              "           1.90277677e-02, -1.72755904e-02, -2.33770609e-02,\n",
              "          -7.33203115e-03],\n",
              "         [-2.11655479e-02,  1.62217789e-03,  1.87628940e-02,\n",
              "          -7.62075465e-03,  2.17413642e-02,  1.71870980e-02,\n",
              "           2.39433292e-02, -1.81708094e-02, -5.25506679e-03,\n",
              "           5.44383470e-03],\n",
              "         [-7.26486277e-03,  5.09553077e-03,  3.17306584e-03,\n",
              "          -1.86359533e-03,  1.60246994e-03,  7.10230134e-03,\n",
              "           9.20967106e-03, -5.96847851e-03, -2.74075917e-03,\n",
              "          -5.07518882e-03],\n",
              "         [-5.36205620e-03,  1.83067750e-05,  1.47837698e-02,\n",
              "          -6.42801542e-03,  6.77824719e-04,  1.34237446e-02,\n",
              "           1.48287155e-02, -1.21579580e-02, -6.39407057e-03,\n",
              "           3.10361385e-04],\n",
              "         [-1.37741482e-02,  2.72620795e-03,  1.05630094e-03,\n",
              "          -5.87131362e-03,  1.87013932e-02,  2.22269855e-02,\n",
              "           1.40265189e-02, -1.41571127e-02, -2.47777589e-02,\n",
              "          -1.07917180e-02],\n",
              "         [-9.57898702e-03,  1.27285137e-03,  1.30822737e-04,\n",
              "          -4.89487872e-03,  6.82641007e-03,  1.48666389e-02,\n",
              "           1.32653378e-02, -1.17468685e-02, -7.20716035e-03,\n",
              "          -3.60912061e-04]]], dtype=float32)>,\n",
              " <tf.Tensor: shape=(1, 5), dtype=float32, numpy=\n",
              " array([[-0.00957899,  0.00127285,  0.00013082, -0.00489488,  0.00682641]],\n",
              "       dtype=float32)>,\n",
              " <tf.Tensor: shape=(1, 5), dtype=float32, numpy=\n",
              " array([[ 0.01444194,  0.01722446, -0.01351235, -0.00547203,  0.00239709]],\n",
              "       dtype=float32)>]"
            ]
          },
          "metadata": {
            "tags": []
          },
          "execution_count": 67
        }
      ]
    },
    {
      "cell_type": "code",
      "metadata": {
        "id": "ypga1E547RDs",
        "colab": {
          "base_uri": "https://localhost:8080/"
        },
        "outputId": "9cc0c47d-0344-4f91-88c4-d4a8f92c6dd0"
      },
      "source": [
        "bi_gru_15(hidden, initial_state=[fw_h_15, bw_h_15])  # (bs, n_seq, units * 2), (bs, units), (bs, units)"
      ],
      "execution_count": 68,
      "outputs": [
        {
          "output_type": "execute_result",
          "data": {
            "text/plain": [
              "[<tf.Tensor: shape=(1, 7, 10), dtype=float32, numpy=\n",
              " array([[[-0.00844502,  0.00996756, -0.00058226,  0.002859  ,\n",
              "           0.00252588, -0.00697884, -0.00030736,  0.0239466 ,\n",
              "           0.01408962, -0.00964818],\n",
              "         [-0.01430816,  0.02001872, -0.01296309,  0.00269913,\n",
              "           0.00943375, -0.01853196,  0.00045007,  0.02579307,\n",
              "           0.00611743, -0.02493982],\n",
              "         [-0.01861581,  0.0249228 , -0.0124112 ,  0.00106971,\n",
              "           0.00417727, -0.0131151 , -0.00022033,  0.02363298,\n",
              "           0.01645697, -0.0114177 ],\n",
              "         [-0.01248447,  0.0056899 , -0.00496998,  0.00657488,\n",
              "           0.00469806, -0.00340067, -0.00456748,  0.00840182,\n",
              "           0.00564058, -0.00466861],\n",
              "         [-0.00732738,  0.00746588,  0.00076142,  0.00257593,\n",
              "           0.0007232 , -0.00545745,  0.00063904,  0.02189302,\n",
              "           0.01102832, -0.00899862],\n",
              "         [-0.01394509,  0.01880845, -0.01244952,  0.00220313,\n",
              "           0.00870277, -0.01572724,  0.00052822,  0.02243263,\n",
              "           0.00060241, -0.0241849 ],\n",
              "         [-0.01557792,  0.01178773, -0.00880749,  0.00649354,\n",
              "           0.00964441, -0.00792859, -0.00317106,  0.01804485,\n",
              "           0.00612032, -0.01168138]]], dtype=float32)>,\n",
              " <tf.Tensor: shape=(1, 5), dtype=float32, numpy=\n",
              " array([[-0.01557792,  0.01178773, -0.00880749,  0.00649354,  0.00964441]],\n",
              "       dtype=float32)>,\n",
              " <tf.Tensor: shape=(1, 5), dtype=float32, numpy=\n",
              " array([[-0.00697884, -0.00030736,  0.0239466 ,  0.01408962, -0.00964818]],\n",
              "       dtype=float32)>]"
            ]
          },
          "metadata": {
            "tags": []
          },
          "execution_count": 68
        }
      ]
    },
    {
      "cell_type": "markdown",
      "metadata": {
        "id": "a3_5IU2yB4Bh"
      },
      "source": [
        "# RNN 모델"
      ]
    },
    {
      "cell_type": "code",
      "metadata": {
        "id": "Syb0abZJBszL"
      },
      "source": [
        "def build_model(n_vocab, d_model, n_seq, n_out):\n",
        "    \"\"\"\n",
        "    RNN 모델\n",
        "    :param n_vocab: vocabulary 단어 수\n",
        "    :param d_model: 단어를 의미하는 벡터의 차원 수\n",
        "    :param n_seq: 문장길이 (단어 수)\n",
        "    :param n_out: 예측할 class 개수\n",
        "    \"\"\"\n",
        "    input = tf.keras.layers.Input(shape=(n_seq,))\n",
        "\n",
        "    embedding = tf.keras.layers.Embedding(n_vocab, d_model)  # (n_vocab x d_model)\n",
        "    hidden = embedding(input)  # (bs, 1, d_model)\n",
        "\n",
        "    hidden = tf.keras.layers.SimpleRNN(units=d_model, return_sequences=True)(hidden)\n",
        "    hidden = tf.keras.layers.LSTM(units=d_model, return_sequences=True)(hidden)\n",
        "    hidden = tf.keras.layers.GRU(units=d_model, return_sequences=True)(hidden)\n",
        "    hidden = tf.keras.layers.Bidirectional(tf.keras.layers.SimpleRNN(units=d_model, return_sequences=True))(hidden)\n",
        "    hidden = tf.keras.layers.Bidirectional(tf.keras.layers.LSTM(units=d_model, return_sequences=True))(hidden)\n",
        "    hidden = tf.keras.layers.Bidirectional(tf.keras.layers.GRU(units=d_model, return_sequences=True))(hidden)\n",
        "    output = tf.keras.layers.Dense(n_out, activation=tf.nn.softmax)(hidden)  # (bs, 1, n_vocab)\n",
        "\n",
        "    model = tf.keras.Model(inputs=input, outputs=output)\n",
        "    return model"
      ],
      "execution_count": 69,
      "outputs": []
    },
    {
      "cell_type": "code",
      "metadata": {
        "colab": {
          "base_uri": "https://localhost:8080/",
          "height": 976
        },
        "id": "WiLrbkH5CEoT",
        "outputId": "9e88a08c-da73-4673-d23f-c9160aaadd86"
      },
      "source": [
        "# 모델 생성\n",
        "model = build_model(len(word_to_id), 8, 7, 2)\n",
        "# 모델 내용 그래프 출력\n",
        "tf.keras.utils.plot_model(model, 'model.png', show_shapes=True)"
      ],
      "execution_count": 70,
      "outputs": [
        {
          "output_type": "execute_result",
          "data": {
            "image/png": "[encoded data removed]",
            "text/plain": [
              "<IPython.core.display.Image object>"
            ]
          },
          "metadata": {
            "tags": []
          },
          "execution_count": 70
        }
      ]
    },
    {
      "cell_type": "code",
      "metadata": {
        "id": "VFzhTrGbCFmm",
        "colab": {
          "base_uri": "https://localhost:8080/"
        },
        "outputId": "9b7dcc67-44b5-4848-c4be-332b06886165"
      },
      "source": [
        "model.predict(train_inputs)"
      ],
      "execution_count": 71,
      "outputs": [
        {
          "output_type": "execute_result",
          "data": {
            "text/plain": [
              "array([[[0.5000245 , 0.49997547],\n",
              "        [0.5009043 , 0.4990956 ],\n",
              "        [0.5013802 , 0.49861985],\n",
              "        [0.5014072 , 0.4985928 ],\n",
              "        [0.5009012 , 0.49909878],\n",
              "        [0.4998655 , 0.5001345 ],\n",
              "        [0.4988195 , 0.5011805 ]]], dtype=float32)"
            ]
          },
          "metadata": {
            "tags": []
          },
          "execution_count": 71
        }
      ]
    }
  ]
}
