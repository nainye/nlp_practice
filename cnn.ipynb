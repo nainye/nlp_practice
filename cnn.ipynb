{
  "nbformat": 4,
  "nbformat_minor": 0,
  "metadata": {
    "colab": {
      "name": "04-01-cnn-강의.ipynb",
      "provenance": [],
      "collapsed_sections": [
        "JHkHg6XAXoyK",
        "0CdGEt7qettt",
        "6lNZzsa1eg0F",
        "Q2CeNAe7jF3F",
        "GIS2v8P-jUNT",
        "fJqOKxgGjv_v",
        "fbrpX2_ckPY2",
        "4N6iZts6k4DI"
      ],
      "include_colab_link": true
    },
    "kernelspec": {
      "name": "python3",
      "display_name": "Python 3"
    }
  },
  "cells": [
    {
      "cell_type": "markdown",
      "metadata": {
        "id": "view-in-github",
        "colab_type": "text"
      },
      "source": [
        "<a href=\"https://colab.research.google.com/github/nainye/nlp_practice/blob/main/cnn.ipynb\" target=\"_parent\"><img src=\"https://colab.research.google.com/assets/colab-badge.svg\" alt=\"Open In Colab\"/></a>"
      ]
    },
    {
      "cell_type": "markdown",
      "metadata": {
        "id": "JHkHg6XAXoyK"
      },
      "source": [
        "# Evn"
      ]
    },
    {
      "cell_type": "code",
      "metadata": {
        "id": "WkYXFwcBXJDG"
      },
      "source": [
        "import os\n",
        "import random\n",
        "import shutil\n",
        "import json\n",
        "import zipfile\n",
        "import math\n",
        "import copy\n",
        "import collections\n",
        "import re\n",
        "\n",
        "import matplotlib.pyplot as plt\n",
        "import pandas as pd\n",
        "import numpy as np\n",
        "import tensorflow as tf\n",
        "import tensorflow.keras.backend as K\n",
        "\n",
        "from tqdm.notebook import tqdm"
      ],
      "execution_count": 1,
      "outputs": []
    },
    {
      "cell_type": "code",
      "metadata": {
        "id": "nvjyruUlXtlR"
      },
      "source": [
        "# random seed initialize\n",
        "random_seed = 1234\n",
        "random.seed(random_seed)\n",
        "np.random.seed(random_seed)\n",
        "tf.random.set_seed(random_seed)"
      ],
      "execution_count": 2,
      "outputs": []
    },
    {
      "cell_type": "code",
      "metadata": {
        "id": "BC3fXkhdYcYt",
        "colab": {
          "base_uri": "https://localhost:8080/"
        },
        "outputId": "ca2e28f8-72d2-4b1e-8714-d22500398fda"
      },
      "source": [
        "!nvidia-smi"
      ],
      "execution_count": 3,
      "outputs": [
        {
          "output_type": "stream",
          "text": [
            "NVIDIA-SMI has failed because it couldn't communicate with the NVIDIA driver. Make sure that the latest NVIDIA driver is installed and running.\n",
            "\n"
          ],
          "name": "stdout"
        }
      ]
    },
    {
      "cell_type": "markdown",
      "metadata": {
        "id": "0CdGEt7qettt"
      },
      "source": [
        "# 입력 및 Vocab"
      ]
    },
    {
      "cell_type": "code",
      "metadata": {
        "id": "v_6blgOGetBN"
      },
      "source": [
        "# 입력 문장\n",
        "sentences = [\n",
        "    '나는 오늘 기분이 좋아 나는 오늘 우울해'\n",
        "]"
      ],
      "execution_count": 4,
      "outputs": []
    },
    {
      "cell_type": "code",
      "metadata": {
        "colab": {
          "base_uri": "https://localhost:8080/"
        },
        "id": "jAWGyFfxe_p-",
        "outputId": "f903ec0b-1adb-4022-8d1e-7aa011ad5e41"
      },
      "source": [
        "# 각 문장을 띄어쓰기 단위로 분할\n",
        "words = []\n",
        "for sentence in sentences:\n",
        "    words.extend(sentence.split())\n",
        "\n",
        "# 중복 단어 제거\n",
        "words = list(dict.fromkeys(words))\n",
        "\n",
        "# 각 단어별 고유한 번호 부여\n",
        "word_to_id = {'[PAD]': 0, '[UNK]': 1}\n",
        "for word in words:\n",
        "    word_to_id[word] = len(word_to_id)\n",
        "\n",
        "# 각 숫자별 단어 부여\n",
        "id_to_word = {_id:word for word, _id in word_to_id.items()}\n",
        "\n",
        "word_to_id, id_to_word"
      ],
      "execution_count": 5,
      "outputs": [
        {
          "output_type": "execute_result",
          "data": {
            "text/plain": [
              "({'[PAD]': 0, '[UNK]': 1, '기분이': 4, '나는': 2, '오늘': 3, '우울해': 6, '좋아': 5},\n",
              " {0: '[PAD]', 1: '[UNK]', 2: '나는', 3: '오늘', 4: '기분이', 5: '좋아', 6: '우울해'})"
            ]
          },
          "metadata": {
            "tags": []
          },
          "execution_count": 5
        }
      ]
    },
    {
      "cell_type": "code",
      "metadata": {
        "colab": {
          "base_uri": "https://localhost:8080/"
        },
        "id": "ywpz8iOsfVnx",
        "outputId": "2a532ff6-b1a0-43af-b5dd-a9fb7b3f4fb6"
      },
      "source": [
        "# 학습용 입력 데이터 생성\n",
        "train_inputs = []\n",
        "for sentence in sentences:\n",
        "    train_inputs.append([word_to_id[word] for word in sentence.split()])\n",
        "\n",
        "# train inputs을 numpy array로 변환\n",
        "train_inputs = np.array(train_inputs)\n",
        "\n",
        "train_inputs"
      ],
      "execution_count": 6,
      "outputs": [
        {
          "output_type": "execute_result",
          "data": {
            "text/plain": [
              "array([[2, 3, 4, 5, 2, 3, 6]])"
            ]
          },
          "metadata": {
            "tags": []
          },
          "execution_count": 6
        }
      ]
    },
    {
      "cell_type": "code",
      "metadata": {
        "id": "iNDl5yRU0kge"
      },
      "source": [
        "# embedding\n",
        "embedding = tf.keras.layers.Embedding(len(word_to_id), 4)"
      ],
      "execution_count": 7,
      "outputs": []
    },
    {
      "cell_type": "code",
      "metadata": {
        "id": "YFwk2Fpo0ofW",
        "colab": {
          "base_uri": "https://localhost:8080/"
        },
        "outputId": "77bf821c-a7f7-4d34-86a2-3632d3837854"
      },
      "source": [
        "# 단어벡터\n",
        "hidden = embedding(train_inputs)\n",
        "hidden"
      ],
      "execution_count": 8,
      "outputs": [
        {
          "output_type": "execute_result",
          "data": {
            "text/plain": [
              "<tf.Tensor: shape=(1, 7, 4), dtype=float32, numpy=\n",
              "array([[[ 0.02788493,  0.00853021,  0.02688133, -0.00167429],\n",
              "        [ 0.00873896, -0.04772998, -0.00643448,  0.04782395],\n",
              "        [ 0.04810704, -0.03535189,  0.04945729,  0.02813626],\n",
              "        [-0.02798697, -0.00110071,  0.0133124 ,  0.00637371],\n",
              "        [ 0.02788493,  0.00853021,  0.02688133, -0.00167429],\n",
              "        [ 0.00873896, -0.04772998, -0.00643448,  0.04782395],\n",
              "        [-0.00963336, -0.01013004,  0.01826939,  0.02741292]]],\n",
              "      dtype=float32)>"
            ]
          },
          "metadata": {
            "tags": []
          },
          "execution_count": 8
        }
      ]
    },
    {
      "cell_type": "markdown",
      "metadata": {
        "id": "6lNZzsa1eg0F"
      },
      "source": [
        "# CNN"
      ]
    },
    {
      "cell_type": "markdown",
      "metadata": {
        "id": "Q2CeNAe7jF3F"
      },
      "source": [
        "## padding valid"
      ]
    },
    {
      "cell_type": "code",
      "metadata": {
        "id": "rETOG74Pf1T3"
      },
      "source": [
        "# CNN (padding valid)\n",
        "conv_1 = tf.keras.layers.Conv1D(filters=5, kernel_size=3, padding='valid')  # 기본 값"
      ],
      "execution_count": 9,
      "outputs": []
    },
    {
      "cell_type": "code",
      "metadata": {
        "id": "4Nl4j9Z7gEn3",
        "colab": {
          "base_uri": "https://localhost:8080/"
        },
        "outputId": "7a00d670-1cac-4d9e-9703-6a6ebe4311be"
      },
      "source": [
        "# CNN 실행\n",
        "output_1 = conv_1(hidden)  # (bs, n_seq - kernel_size + 1, filters)\n",
        "output_1"
      ],
      "execution_count": 10,
      "outputs": [
        {
          "output_type": "execute_result",
          "data": {
            "text/plain": [
              "<tf.Tensor: shape=(1, 5, 5), dtype=float32, numpy=\n",
              "array([[[ 0.04553854,  0.00398708,  0.0389956 , -0.03502898,\n",
              "         -0.00369218],\n",
              "        [ 0.08953248,  0.04308471,  0.03746746,  0.04599547,\n",
              "         -0.03159672],\n",
              "        [ 0.00801303, -0.04187064,  0.01202664, -0.01267586,\n",
              "         -0.00128851],\n",
              "        [ 0.03558332,  0.04383305,  0.00445943, -0.00553668,\n",
              "          0.03128533],\n",
              "        [ 0.0372184 ,  0.02098272,  0.01149326, -0.00155734,\n",
              "         -0.01826519]]], dtype=float32)>"
            ]
          },
          "metadata": {
            "tags": []
          },
          "execution_count": 10
        }
      ]
    },
    {
      "cell_type": "code",
      "metadata": {
        "id": "RbuvYwJXgFB5",
        "colab": {
          "base_uri": "https://localhost:8080/"
        },
        "outputId": "3ae370aa-4669-49bf-8102-e65d45ec2e50"
      },
      "source": [
        "# weights\n",
        "weights = conv_1.get_weights()\n",
        "W = weights[0]\n",
        "b = weights[1]\n",
        "print(W)  # (kernel_size, input_hidden, filters)\n",
        "print(b)  # (filters,)"
      ],
      "execution_count": 11,
      "outputs": [
        {
          "output_type": "stream",
          "text": [
            "[[[-0.16464773 -0.34063634  0.13958225 -0.18477324 -0.15390107]\n",
            "  [-0.3486692   0.19402757  0.20609483 -0.10357019  0.28938296]\n",
            "  [-0.02139881  0.00925094 -0.27875072  0.28561112  0.13372329]\n",
            "  [ 0.4030458   0.08004013  0.27281305  0.2076337  -0.16892165]]\n",
            "\n",
            " [[ 0.4440585   0.31906232  0.2619095   0.40614536 -0.2456995 ]\n",
            "  [-0.4119505  -0.01788914 -0.2798545  -0.27666104  0.31863657]\n",
            "  [ 0.06171897  0.24331513  0.35415235  0.06955823  0.3233241 ]\n",
            "  [ 0.07379451  0.36055586 -0.01794061 -0.11534211 -0.42842183]]\n",
            "\n",
            " [[-0.21298319 -0.4700492   0.43694875 -0.40378806 -0.123633  ]\n",
            "  [-0.24061613 -0.44644505  0.239387    0.08098152 -0.27379054]\n",
            "  [ 0.4610438  -0.03660515  0.263846   -0.24989676  0.46875188]\n",
            "  [ 0.23516849  0.0368422   0.11299178 -0.44307935  0.25816116]]]\n",
            "[0. 0. 0. 0. 0.]\n"
          ],
          "name": "stdout"
        }
      ]
    },
    {
      "cell_type": "markdown",
      "metadata": {
        "id": "GIS2v8P-jUNT"
      },
      "source": [
        "## padding causal\n",
        "kernel size에 따라서 앞에 자동으로 padding(all zero)를 추가해서 길이를 맞춤"
      ]
    },
    {
      "cell_type": "code",
      "metadata": {
        "id": "yuq4V_MPjUNb"
      },
      "source": [
        "# CNN (padding causal)\n",
        "conv_2 = tf.keras.layers.Conv1D(filters=5, kernel_size=3, padding='causal')"
      ],
      "execution_count": 12,
      "outputs": []
    },
    {
      "cell_type": "code",
      "metadata": {
        "id": "fzh7eRFJjUNc",
        "colab": {
          "base_uri": "https://localhost:8080/"
        },
        "outputId": "c05c0cd7-e2be-4caf-a81f-b3bf2fdbf5a8"
      },
      "source": [
        "# CNN 실행\n",
        "output_2 = conv_2(hidden)  # (bs, n_seq, filters)\n",
        "output_2.shape"
      ],
      "execution_count": 13,
      "outputs": [
        {
          "output_type": "execute_result",
          "data": {
            "text/plain": [
              "TensorShape([1, 7, 5])"
            ]
          },
          "metadata": {
            "tags": []
          },
          "execution_count": 13
        }
      ]
    },
    {
      "cell_type": "code",
      "metadata": {
        "id": "r_rBhuQ-jUNc",
        "colab": {
          "base_uri": "https://localhost:8080/"
        },
        "outputId": "2b53e3e1-ee49-4e0c-bd69-254afcd664fe"
      },
      "source": [
        "# weights\n",
        "weights = conv_2.get_weights()\n",
        "W = weights[0]\n",
        "b = weights[1]\n",
        "print(W)  # (kernel_size, input_hidden, filters)\n",
        "print(b)  # (filters,)"
      ],
      "execution_count": 14,
      "outputs": [
        {
          "output_type": "stream",
          "text": [
            "[[[ 0.09193316 -0.18560347  0.46921882  0.2906259  -0.07816747]\n",
            "  [-0.44915527  0.10419598 -0.44681078  0.44982007 -0.18263051]\n",
            "  [ 0.21875045  0.09632352 -0.08442339 -0.28093347  0.21896061]\n",
            "  [-0.42425525 -0.0441156  -0.28924257  0.21249148 -0.17919907]]\n",
            "\n",
            " [[-0.25585788 -0.28111228  0.39587072 -0.11687434 -0.02865806]\n",
            "  [ 0.21036956 -0.13839349 -0.1393322   0.36149374 -0.44320726]\n",
            "  [ 0.46889743 -0.46400353 -0.10896724  0.06615809 -0.20135921]\n",
            "  [-0.15183038  0.03011468  0.13338295  0.00303704 -0.43446288]]\n",
            "\n",
            " [[ 0.24923626 -0.4293668   0.44553646  0.08103827 -0.4713582 ]\n",
            "  [-0.37633675  0.34284565  0.31396863 -0.01344192  0.29102948]\n",
            "  [-0.15325764  0.46605054  0.08708516  0.4030544   0.19033447]\n",
            "  [ 0.19635543  0.1865206  -0.4210433   0.3164319  -0.00602251]]]\n",
            "[0. 0. 0. 0. 0.]\n"
          ],
          "name": "stdout"
        }
      ]
    },
    {
      "cell_type": "markdown",
      "metadata": {
        "id": "fJqOKxgGjv_v"
      },
      "source": [
        "## padding same\n",
        "kernel size에 따라서 앞/뒤에 자동으로 padding(all zero)를 추가해서 길이를 맞춤"
      ]
    },
    {
      "cell_type": "code",
      "metadata": {
        "id": "L87zU1mYjwAA"
      },
      "source": [
        "# CNN (padding same)\n",
        "conv_3 = tf.keras.layers.Conv1D(filters=5, kernel_size=3, padding='same')"
      ],
      "execution_count": 15,
      "outputs": []
    },
    {
      "cell_type": "code",
      "metadata": {
        "id": "Mz21iNxcjwAA",
        "colab": {
          "base_uri": "https://localhost:8080/"
        },
        "outputId": "33e70b21-5084-4058-91bb-2cdda47e6ab7"
      },
      "source": [
        "# CNN 실행\n",
        "output_3 = conv_3(hidden)  # (bs, n_seq, filters)\n",
        "output_3.shape"
      ],
      "execution_count": 16,
      "outputs": [
        {
          "output_type": "execute_result",
          "data": {
            "text/plain": [
              "TensorShape([1, 7, 5])"
            ]
          },
          "metadata": {
            "tags": []
          },
          "execution_count": 16
        }
      ]
    },
    {
      "cell_type": "code",
      "metadata": {
        "id": "RukWCPL9jwAB",
        "colab": {
          "base_uri": "https://localhost:8080/"
        },
        "outputId": "bd504828-e20c-4633-e860-c0d10df8f92c"
      },
      "source": [
        "# weights\n",
        "weights = conv_3.get_weights()\n",
        "W = weights[0]\n",
        "b = weights[1]\n",
        "print(W.shape)  # (kernel_size, input_hidden, filters)\n",
        "print(b.shape)  # (filters,)"
      ],
      "execution_count": 17,
      "outputs": [
        {
          "output_type": "stream",
          "text": [
            "(3, 4, 5)\n",
            "(5,)\n"
          ],
          "name": "stdout"
        }
      ]
    },
    {
      "cell_type": "markdown",
      "metadata": {
        "id": "fbrpX2_ckPY2"
      },
      "source": [
        "## dilation_rate\n",
        "kernel이 간격을 두고서 특징을 추출함"
      ]
    },
    {
      "cell_type": "code",
      "metadata": {
        "id": "f089nAQjkPY_"
      },
      "source": [
        "# CNN (padding valid, dilation_rate)\n",
        "conv_4 = tf.keras.layers.Conv1D(filters=5, kernel_size=3, padding='valid', dilation_rate=2)"
      ],
      "execution_count": 18,
      "outputs": []
    },
    {
      "cell_type": "code",
      "metadata": {
        "id": "FCkUN0dKkPZA",
        "colab": {
          "base_uri": "https://localhost:8080/"
        },
        "outputId": "6723a67f-9749-4047-fc63-0590e2ed4b13"
      },
      "source": [
        "# CNN 실행\n",
        "output_4 = conv_4(hidden)  # (bs, n_seq - window_size + 1, filters), window_size = kernel_size + (kernel_size - 1) * (dilation_rate - 1)\n",
        "output_4.shape"
      ],
      "execution_count": 19,
      "outputs": [
        {
          "output_type": "execute_result",
          "data": {
            "text/plain": [
              "TensorShape([1, 3, 5])"
            ]
          },
          "metadata": {
            "tags": []
          },
          "execution_count": 19
        }
      ]
    },
    {
      "cell_type": "code",
      "metadata": {
        "id": "jypo8LdmkPZA",
        "colab": {
          "base_uri": "https://localhost:8080/"
        },
        "outputId": "a512242a-e358-4dea-cd8f-265c5f4ca948"
      },
      "source": [
        "# weights\n",
        "weights = conv_4.get_weights()\n",
        "W = weights[0]\n",
        "b = weights[1]\n",
        "print(W.shape)  # (kernel_size, input_hidden, filters)\n",
        "print(b.shape)  # (filters,)"
      ],
      "execution_count": 20,
      "outputs": [
        {
          "output_type": "stream",
          "text": [
            "(3, 4, 5)\n",
            "(5,)\n"
          ],
          "name": "stdout"
        }
      ]
    },
    {
      "cell_type": "markdown",
      "metadata": {
        "id": "4N6iZts6k4DI"
      },
      "source": [
        "## CNN 모델"
      ]
    },
    {
      "cell_type": "code",
      "metadata": {
        "id": "S3FMNrUjk_sy"
      },
      "source": [
        "def build_model(n_vocab, d_model, n_seq, n_out):\n",
        "    \"\"\"\n",
        "    CNN 모델\n",
        "    :param n_vocab: vocabulary 단어 수\n",
        "    :param d_model: 단어를 의미하는 벡터의 차원 수\n",
        "    :param n_seq: 문장길이 (단어 수)\n",
        "    :param n_out: 예측할 class 개수\n",
        "    \"\"\"\n",
        "    input = tf.keras.layers.Input(shape=(n_seq,))\n",
        "\n",
        "    embedding = tf.keras.layers.Embedding(n_vocab, d_model)  # (n_vocab, d_model)\n",
        "    hidden = embedding(input)  # (bs, 1, d_model)\n",
        "\n",
        "    #############################################\n",
        "    conv_1 = tf.keras.layers.Conv1D(filters=128, kernel_size=3, padding='causal')\n",
        "    hidden = conv_1(hidden)\n",
        "    conv_2 = tf.keras.layers.Conv1D(filters=64, kernel_size=3)\n",
        "    hidden = conv_2(hidden)\n",
        "    #############################################\n",
        "\n",
        "    output = tf.keras.layers.Dense(n_out, activation=tf.nn.softmax)(hidden)  # (bs, 1, n_vocab)\n",
        "\n",
        "    model = tf.keras.Model(inputs=input, outputs=output)\n",
        "    return model"
      ],
      "execution_count": 21,
      "outputs": []
    },
    {
      "cell_type": "code",
      "metadata": {
        "id": "2f7LVFmKlNDn",
        "colab": {
          "base_uri": "https://localhost:8080/",
          "height": 532
        },
        "outputId": "0600857b-0a2b-44d4-c1eb-cceb85e184d7"
      },
      "source": [
        "# 모델 생성\n",
        "model = build_model(len(word_to_id), 8, 7, 3)\n",
        "# 모델 내용 그래프 출력\n",
        "tf.keras.utils.plot_model(model, 'model.png', show_shapes=True)"
      ],
      "execution_count": 22,
      "outputs": [
        {
          "output_type": "execute_result",
          "data": {
            "image/png": "[encoded data removed]",
            "text/plain": [
              "<IPython.core.display.Image object>"
            ]
          },
          "metadata": {
            "tags": []
          },
          "execution_count": 22
        }
      ]
    },
    {
      "cell_type": "code",
      "metadata": {
        "id": "1XLwp9MLlUsf",
        "colab": {
          "base_uri": "https://localhost:8080/"
        },
        "outputId": "a6203194-f943-4830-b25d-66e59938a151"
      },
      "source": [
        "model.predict(train_inputs)"
      ],
      "execution_count": 23,
      "outputs": [
        {
          "output_type": "execute_result",
          "data": {
            "text/plain": [
              "array([[[0.34187096, 0.3306856 , 0.3274435 ],\n",
              "        [0.33641258, 0.3328276 , 0.33075982],\n",
              "        [0.33625498, 0.32955572, 0.3341894 ],\n",
              "        [0.3367184 , 0.34372097, 0.31956065],\n",
              "        [0.34387612, 0.33409464, 0.3220292 ]]], dtype=float32)"
            ]
          },
          "metadata": {
            "tags": []
          },
          "execution_count": 23
        }
      ]
    },
    {
      "cell_type": "code",
      "metadata": {
        "id": "2MSNy-DdlZzf"
      },
      "source": [
        ""
      ],
      "execution_count": 23,
      "outputs": []
    }
  ]
}