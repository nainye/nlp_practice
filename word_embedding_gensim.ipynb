{
  "nbformat": 4,
  "nbformat_minor": 0,
  "metadata": {
    "colab": {
      "name": "03-01-word-embedding-과제.ipynb",
      "provenance": [],
      "collapsed_sections": [],
      "include_colab_link": true
    },
    "kernelspec": {
      "name": "python3",
      "display_name": "Python 3"
    },
    "accelerator": "GPU",
    "widgets": {
      "application/vnd.jupyter.widget-state+json": {
        "d4e91aadfb6848ee8726f9fb3d8b2e60": {
          "model_module": "@jupyter-widgets/controls",
          "model_name": "HBoxModel",
          "state": {
            "_view_name": "HBoxView",
            "_dom_classes": [],
            "_model_name": "HBoxModel",
            "_view_module": "@jupyter-widgets/controls",
            "_model_module_version": "1.5.0",
            "_view_count": null,
            "_view_module_version": "1.5.0",
            "box_style": "",
            "layout": "IPY_MODEL_1bb3e82e4c224e968ff80492154595d5",
            "_model_module": "@jupyter-widgets/controls",
            "children": [
              "IPY_MODEL_641635261e5643949ca45e3298362ce1",
              "IPY_MODEL_785be93fba4146078658ee9083b95799"
            ]
          }
        },
        "1bb3e82e4c224e968ff80492154595d5": {
          "model_module": "@jupyter-widgets/base",
          "model_name": "LayoutModel",
          "state": {
            "_view_name": "LayoutView",
            "grid_template_rows": null,
            "right": null,
            "justify_content": null,
            "_view_module": "@jupyter-widgets/base",
            "overflow": null,
            "_model_module_version": "1.2.0",
            "_view_count": null,
            "flex_flow": null,
            "width": null,
            "min_width": null,
            "border": null,
            "align_items": null,
            "bottom": null,
            "_model_module": "@jupyter-widgets/base",
            "top": null,
            "grid_column": null,
            "overflow_y": null,
            "overflow_x": null,
            "grid_auto_flow": null,
            "grid_area": null,
            "grid_template_columns": null,
            "flex": null,
            "_model_name": "LayoutModel",
            "justify_items": null,
            "grid_row": null,
            "max_height": null,
            "align_content": null,
            "visibility": null,
            "align_self": null,
            "height": null,
            "min_height": null,
            "padding": null,
            "grid_auto_rows": null,
            "grid_gap": null,
            "max_width": null,
            "order": null,
            "_view_module_version": "1.2.0",
            "grid_template_areas": null,
            "object_position": null,
            "object_fit": null,
            "grid_auto_columns": null,
            "margin": null,
            "display": null,
            "left": null
          }
        },
        "641635261e5643949ca45e3298362ce1": {
          "model_module": "@jupyter-widgets/controls",
          "model_name": "FloatProgressModel",
          "state": {
            "_view_name": "ProgressView",
            "style": "IPY_MODEL_a9c53222a84c4faf8c1539289f661163",
            "_dom_classes": [],
            "description": "100%",
            "_model_name": "FloatProgressModel",
            "bar_style": "success",
            "max": 199992,
            "_view_module": "@jupyter-widgets/controls",
            "_model_module_version": "1.5.0",
            "value": 199992,
            "_view_count": null,
            "_view_module_version": "1.5.0",
            "orientation": "horizontal",
            "min": 0,
            "description_tooltip": null,
            "_model_module": "@jupyter-widgets/controls",
            "layout": "IPY_MODEL_1ffa078ee9d64e558cb18ba6e51a8261"
          }
        },
        "785be93fba4146078658ee9083b95799": {
          "model_module": "@jupyter-widgets/controls",
          "model_name": "HTMLModel",
          "state": {
            "_view_name": "HTMLView",
            "style": "IPY_MODEL_fbf75983817f400abb54035c5285bde1",
            "_dom_classes": [],
            "description": "",
            "_model_name": "HTMLModel",
            "placeholder": "​",
            "_view_module": "@jupyter-widgets/controls",
            "_model_module_version": "1.5.0",
            "value": " 199992/199992 [12:59&lt;00:00, 256.44it/s]",
            "_view_count": null,
            "_view_module_version": "1.5.0",
            "description_tooltip": null,
            "_model_module": "@jupyter-widgets/controls",
            "layout": "IPY_MODEL_48f3e2654ab44967a68457a6b0ac359b"
          }
        },
        "a9c53222a84c4faf8c1539289f661163": {
          "model_module": "@jupyter-widgets/controls",
          "model_name": "ProgressStyleModel",
          "state": {
            "_view_name": "StyleView",
            "_model_name": "ProgressStyleModel",
            "description_width": "initial",
            "_view_module": "@jupyter-widgets/base",
            "_model_module_version": "1.5.0",
            "_view_count": null,
            "_view_module_version": "1.2.0",
            "bar_color": null,
            "_model_module": "@jupyter-widgets/controls"
          }
        },
        "1ffa078ee9d64e558cb18ba6e51a8261": {
          "model_module": "@jupyter-widgets/base",
          "model_name": "LayoutModel",
          "state": {
            "_view_name": "LayoutView",
            "grid_template_rows": null,
            "right": null,
            "justify_content": null,
            "_view_module": "@jupyter-widgets/base",
            "overflow": null,
            "_model_module_version": "1.2.0",
            "_view_count": null,
            "flex_flow": null,
            "width": null,
            "min_width": null,
            "border": null,
            "align_items": null,
            "bottom": null,
            "_model_module": "@jupyter-widgets/base",
            "top": null,
            "grid_column": null,
            "overflow_y": null,
            "overflow_x": null,
            "grid_auto_flow": null,
            "grid_area": null,
            "grid_template_columns": null,
            "flex": null,
            "_model_name": "LayoutModel",
            "justify_items": null,
            "grid_row": null,
            "max_height": null,
            "align_content": null,
            "visibility": null,
            "align_self": null,
            "height": null,
            "min_height": null,
            "padding": null,
            "grid_auto_rows": null,
            "grid_gap": null,
            "max_width": null,
            "order": null,
            "_view_module_version": "1.2.0",
            "grid_template_areas": null,
            "object_position": null,
            "object_fit": null,
            "grid_auto_columns": null,
            "margin": null,
            "display": null,
            "left": null
          }
        },
        "fbf75983817f400abb54035c5285bde1": {
          "model_module": "@jupyter-widgets/controls",
          "model_name": "DescriptionStyleModel",
          "state": {
            "_view_name": "StyleView",
            "_model_name": "DescriptionStyleModel",
            "description_width": "",
            "_view_module": "@jupyter-widgets/base",
            "_model_module_version": "1.5.0",
            "_view_count": null,
            "_view_module_version": "1.2.0",
            "_model_module": "@jupyter-widgets/controls"
          }
        },
        "48f3e2654ab44967a68457a6b0ac359b": {
          "model_module": "@jupyter-widgets/base",
          "model_name": "LayoutModel",
          "state": {
            "_view_name": "LayoutView",
            "grid_template_rows": null,
            "right": null,
            "justify_content": null,
            "_view_module": "@jupyter-widgets/base",
            "overflow": null,
            "_model_module_version": "1.2.0",
            "_view_count": null,
            "flex_flow": null,
            "width": null,
            "min_width": null,
            "border": null,
            "align_items": null,
            "bottom": null,
            "_model_module": "@jupyter-widgets/base",
            "top": null,
            "grid_column": null,
            "overflow_y": null,
            "overflow_x": null,
            "grid_auto_flow": null,
            "grid_area": null,
            "grid_template_columns": null,
            "flex": null,
            "_model_name": "LayoutModel",
            "justify_items": null,
            "grid_row": null,
            "max_height": null,
            "align_content": null,
            "visibility": null,
            "align_self": null,
            "height": null,
            "min_height": null,
            "padding": null,
            "grid_auto_rows": null,
            "grid_gap": null,
            "max_width": null,
            "order": null,
            "_view_module_version": "1.2.0",
            "grid_template_areas": null,
            "object_position": null,
            "object_fit": null,
            "grid_auto_columns": null,
            "margin": null,
            "display": null,
            "left": null
          }
        }
      }
    }
  },
  "cells": [
    {
      "cell_type": "markdown",
      "metadata": {
        "id": "view-in-github",
        "colab_type": "text"
      },
      "source": [
        "<a href=\"https://colab.research.google.com/github/nainye/nlp_practice/blob/main/word_embedding_gensim.ipynb\" target=\"_parent\"><img src=\"https://colab.research.google.com/assets/colab-badge.svg\" alt=\"Open In Colab\"/></a>"
      ]
    },
    {
      "cell_type": "markdown",
      "metadata": {
        "id": "g78tzmjN3mzF"
      },
      "source": [
        "# 한글폰트 설치"
      ]
    },
    {
      "cell_type": "code",
      "metadata": {
        "id": "Co97FHic3p0D"
      },
      "source": [
        "# 폰트 설치\n",
        "!apt-get update -qq # 나눔고딕 설치\n",
        "!apt-get install fonts-nanum* -qq\n",
        "\n",
        "import matplotlib as mpl\n",
        "import matplotlib.pyplot as plt\n",
        "import matplotlib.font_manager as fm\n",
        "\n",
        "# 폰트 로딩\n",
        "fontpath = '/usr/share/fonts/truetype/nanum/NanumBarunGothic.ttf'\n",
        "font = fm.FontProperties(fname=fontpath, size=9)\n",
        "plt.rc('font', family='NanumBarunGothic') \n",
        "mpl.font_manager._rebuild()"
      ],
      "execution_count": null,
      "outputs": []
    },
    {
      "cell_type": "markdown",
      "metadata": {
        "id": "6dfJPT-2XMTB"
      },
      "source": [
        "# Install"
      ]
    },
    {
      "cell_type": "code",
      "metadata": {
        "id": "a193aGJWVaqb",
        "colab": {
          "base_uri": "https://localhost:8080/"
        },
        "outputId": "bd4a0aa8-a2ea-4c09-aa2a-a32f5fd5aa8e"
      },
      "source": [
        "!pip install sentencepiece"
      ],
      "execution_count": null,
      "outputs": [
        {
          "output_type": "stream",
          "text": [
            "Collecting sentencepiece\n",
            "\u001b[?25l  Downloading https://files.pythonhosted.org/packages/14/67/e42bd1181472c95c8cda79305df848264f2a7f62740995a46945d9797b67/sentencepiece-0.1.95-cp36-cp36m-manylinux2014_x86_64.whl (1.2MB)\n",
            "\r\u001b[K     |▎                               | 10kB 25.0MB/s eta 0:00:01\r\u001b[K     |▌                               | 20kB 32.2MB/s eta 0:00:01\r\u001b[K     |▉                               | 30kB 21.4MB/s eta 0:00:01\r\u001b[K     |█                               | 40kB 19.9MB/s eta 0:00:01\r\u001b[K     |█▍                              | 51kB 22.3MB/s eta 0:00:01\r\u001b[K     |█▋                              | 61kB 16.1MB/s eta 0:00:01\r\u001b[K     |██                              | 71kB 16.8MB/s eta 0:00:01\r\u001b[K     |██▏                             | 81kB 17.8MB/s eta 0:00:01\r\u001b[K     |██▌                             | 92kB 16.0MB/s eta 0:00:01\r\u001b[K     |██▊                             | 102kB 17.3MB/s eta 0:00:01\r\u001b[K     |███                             | 112kB 17.3MB/s eta 0:00:01\r\u001b[K     |███▎                            | 122kB 17.3MB/s eta 0:00:01\r\u001b[K     |███▌                            | 133kB 17.3MB/s eta 0:00:01\r\u001b[K     |███▉                            | 143kB 17.3MB/s eta 0:00:01\r\u001b[K     |████                            | 153kB 17.3MB/s eta 0:00:01\r\u001b[K     |████▍                           | 163kB 17.3MB/s eta 0:00:01\r\u001b[K     |████▋                           | 174kB 17.3MB/s eta 0:00:01\r\u001b[K     |█████                           | 184kB 17.3MB/s eta 0:00:01\r\u001b[K     |█████▏                          | 194kB 17.3MB/s eta 0:00:01\r\u001b[K     |█████▌                          | 204kB 17.3MB/s eta 0:00:01\r\u001b[K     |█████▊                          | 215kB 17.3MB/s eta 0:00:01\r\u001b[K     |██████                          | 225kB 17.3MB/s eta 0:00:01\r\u001b[K     |██████▎                         | 235kB 17.3MB/s eta 0:00:01\r\u001b[K     |██████▌                         | 245kB 17.3MB/s eta 0:00:01\r\u001b[K     |██████▉                         | 256kB 17.3MB/s eta 0:00:01\r\u001b[K     |███████                         | 266kB 17.3MB/s eta 0:00:01\r\u001b[K     |███████▍                        | 276kB 17.3MB/s eta 0:00:01\r\u001b[K     |███████▋                        | 286kB 17.3MB/s eta 0:00:01\r\u001b[K     |████████                        | 296kB 17.3MB/s eta 0:00:01\r\u001b[K     |████████▏                       | 307kB 17.3MB/s eta 0:00:01\r\u001b[K     |████████▍                       | 317kB 17.3MB/s eta 0:00:01\r\u001b[K     |████████▊                       | 327kB 17.3MB/s eta 0:00:01\r\u001b[K     |█████████                       | 337kB 17.3MB/s eta 0:00:01\r\u001b[K     |█████████▎                      | 348kB 17.3MB/s eta 0:00:01\r\u001b[K     |█████████▌                      | 358kB 17.3MB/s eta 0:00:01\r\u001b[K     |█████████▉                      | 368kB 17.3MB/s eta 0:00:01\r\u001b[K     |██████████                      | 378kB 17.3MB/s eta 0:00:01\r\u001b[K     |██████████▍                     | 389kB 17.3MB/s eta 0:00:01\r\u001b[K     |██████████▋                     | 399kB 17.3MB/s eta 0:00:01\r\u001b[K     |███████████                     | 409kB 17.3MB/s eta 0:00:01\r\u001b[K     |███████████▏                    | 419kB 17.3MB/s eta 0:00:01\r\u001b[K     |███████████▍                    | 430kB 17.3MB/s eta 0:00:01\r\u001b[K     |███████████▊                    | 440kB 17.3MB/s eta 0:00:01\r\u001b[K     |████████████                    | 450kB 17.3MB/s eta 0:00:01\r\u001b[K     |████████████▎                   | 460kB 17.3MB/s eta 0:00:01\r\u001b[K     |████████████▌                   | 471kB 17.3MB/s eta 0:00:01\r\u001b[K     |████████████▉                   | 481kB 17.3MB/s eta 0:00:01\r\u001b[K     |█████████████                   | 491kB 17.3MB/s eta 0:00:01\r\u001b[K     |█████████████▍                  | 501kB 17.3MB/s eta 0:00:01\r\u001b[K     |█████████████▋                  | 512kB 17.3MB/s eta 0:00:01\r\u001b[K     |█████████████▉                  | 522kB 17.3MB/s eta 0:00:01\r\u001b[K     |██████████████▏                 | 532kB 17.3MB/s eta 0:00:01\r\u001b[K     |██████████████▍                 | 542kB 17.3MB/s eta 0:00:01\r\u001b[K     |██████████████▊                 | 552kB 17.3MB/s eta 0:00:01\r\u001b[K     |███████████████                 | 563kB 17.3MB/s eta 0:00:01\r\u001b[K     |███████████████▎                | 573kB 17.3MB/s eta 0:00:01\r\u001b[K     |███████████████▌                | 583kB 17.3MB/s eta 0:00:01\r\u001b[K     |███████████████▉                | 593kB 17.3MB/s eta 0:00:01\r\u001b[K     |████████████████                | 604kB 17.3MB/s eta 0:00:01\r\u001b[K     |████████████████▍               | 614kB 17.3MB/s eta 0:00:01\r\u001b[K     |████████████████▋               | 624kB 17.3MB/s eta 0:00:01\r\u001b[K     |████████████████▉               | 634kB 17.3MB/s eta 0:00:01\r\u001b[K     |█████████████████▏              | 645kB 17.3MB/s eta 0:00:01\r\u001b[K     |█████████████████▍              | 655kB 17.3MB/s eta 0:00:01\r\u001b[K     |█████████████████▊              | 665kB 17.3MB/s eta 0:00:01\r\u001b[K     |██████████████████              | 675kB 17.3MB/s eta 0:00:01\r\u001b[K     |██████████████████▎             | 686kB 17.3MB/s eta 0:00:01\r\u001b[K     |██████████████████▌             | 696kB 17.3MB/s eta 0:00:01\r\u001b[K     |██████████████████▉             | 706kB 17.3MB/s eta 0:00:01\r\u001b[K     |███████████████████             | 716kB 17.3MB/s eta 0:00:01\r\u001b[K     |███████████████████▎            | 727kB 17.3MB/s eta 0:00:01\r\u001b[K     |███████████████████▋            | 737kB 17.3MB/s eta 0:00:01\r\u001b[K     |███████████████████▉            | 747kB 17.3MB/s eta 0:00:01\r\u001b[K     |████████████████████▏           | 757kB 17.3MB/s eta 0:00:01\r\u001b[K     |████████████████████▍           | 768kB 17.3MB/s eta 0:00:01\r\u001b[K     |████████████████████▊           | 778kB 17.3MB/s eta 0:00:01\r\u001b[K     |█████████████████████           | 788kB 17.3MB/s eta 0:00:01\r\u001b[K     |█████████████████████▎          | 798kB 17.3MB/s eta 0:00:01\r\u001b[K     |█████████████████████▌          | 808kB 17.3MB/s eta 0:00:01\r\u001b[K     |█████████████████████▉          | 819kB 17.3MB/s eta 0:00:01\r\u001b[K     |██████████████████████          | 829kB 17.3MB/s eta 0:00:01\r\u001b[K     |██████████████████████▎         | 839kB 17.3MB/s eta 0:00:01\r\u001b[K     |██████████████████████▋         | 849kB 17.3MB/s eta 0:00:01\r\u001b[K     |██████████████████████▉         | 860kB 17.3MB/s eta 0:00:01\r\u001b[K     |███████████████████████▏        | 870kB 17.3MB/s eta 0:00:01\r\u001b[K     |███████████████████████▍        | 880kB 17.3MB/s eta 0:00:01\r\u001b[K     |███████████████████████▊        | 890kB 17.3MB/s eta 0:00:01\r\u001b[K     |████████████████████████        | 901kB 17.3MB/s eta 0:00:01\r\u001b[K     |████████████████████████▎       | 911kB 17.3MB/s eta 0:00:01\r\u001b[K     |████████████████████████▌       | 921kB 17.3MB/s eta 0:00:01\r\u001b[K     |████████████████████████▊       | 931kB 17.3MB/s eta 0:00:01\r\u001b[K     |█████████████████████████       | 942kB 17.3MB/s eta 0:00:01\r\u001b[K     |█████████████████████████▎      | 952kB 17.3MB/s eta 0:00:01\r\u001b[K     |█████████████████████████▋      | 962kB 17.3MB/s eta 0:00:01\r\u001b[K     |█████████████████████████▉      | 972kB 17.3MB/s eta 0:00:01\r\u001b[K     |██████████████████████████▏     | 983kB 17.3MB/s eta 0:00:01\r\u001b[K     |██████████████████████████▍     | 993kB 17.3MB/s eta 0:00:01\r\u001b[K     |██████████████████████████▊     | 1.0MB 17.3MB/s eta 0:00:01\r\u001b[K     |███████████████████████████     | 1.0MB 17.3MB/s eta 0:00:01\r\u001b[K     |███████████████████████████▎    | 1.0MB 17.3MB/s eta 0:00:01\r\u001b[K     |███████████████████████████▌    | 1.0MB 17.3MB/s eta 0:00:01\r\u001b[K     |███████████████████████████▊    | 1.0MB 17.3MB/s eta 0:00:01\r\u001b[K     |████████████████████████████    | 1.1MB 17.3MB/s eta 0:00:01\r\u001b[K     |████████████████████████████▎   | 1.1MB 17.3MB/s eta 0:00:01\r\u001b[K     |████████████████████████████▋   | 1.1MB 17.3MB/s eta 0:00:01\r\u001b[K     |████████████████████████████▉   | 1.1MB 17.3MB/s eta 0:00:01\r\u001b[K     |█████████████████████████████▏  | 1.1MB 17.3MB/s eta 0:00:01\r\u001b[K     |█████████████████████████████▍  | 1.1MB 17.3MB/s eta 0:00:01\r\u001b[K     |█████████████████████████████▊  | 1.1MB 17.3MB/s eta 0:00:01\r\u001b[K     |██████████████████████████████  | 1.1MB 17.3MB/s eta 0:00:01\r\u001b[K     |██████████████████████████████▏ | 1.1MB 17.3MB/s eta 0:00:01\r\u001b[K     |██████████████████████████████▌ | 1.1MB 17.3MB/s eta 0:00:01\r\u001b[K     |██████████████████████████████▊ | 1.2MB 17.3MB/s eta 0:00:01\r\u001b[K     |███████████████████████████████ | 1.2MB 17.3MB/s eta 0:00:01\r\u001b[K     |███████████████████████████████▎| 1.2MB 17.3MB/s eta 0:00:01\r\u001b[K     |███████████████████████████████▋| 1.2MB 17.3MB/s eta 0:00:01\r\u001b[K     |███████████████████████████████▉| 1.2MB 17.3MB/s eta 0:00:01\r\u001b[K     |████████████████████████████████| 1.2MB 17.3MB/s \n",
            "\u001b[?25hInstalling collected packages: sentencepiece\n",
            "Successfully installed sentencepiece-0.1.95\n"
          ],
          "name": "stdout"
        }
      ]
    },
    {
      "cell_type": "markdown",
      "metadata": {
        "id": "JHkHg6XAXoyK"
      },
      "source": [
        "# Evn"
      ]
    },
    {
      "cell_type": "code",
      "metadata": {
        "id": "WkYXFwcBXJDG"
      },
      "source": [
        "import os\n",
        "import random\n",
        "import shutil\n",
        "import json\n",
        "import zipfile\n",
        "import math\n",
        "import copy\n",
        "import collections\n",
        "import re\n",
        "\n",
        "import matplotlib.pyplot as plt\n",
        "import pandas as pd\n",
        "import numpy as np\n",
        "import sentencepiece as spm\n",
        "import tensorflow as tf\n",
        "import tensorflow.keras.backend as K\n",
        "\n",
        "from tqdm.notebook import tqdm"
      ],
      "execution_count": null,
      "outputs": []
    },
    {
      "cell_type": "code",
      "metadata": {
        "id": "wlSTGfo8mV4A"
      },
      "source": [
        "from sklearn.decomposition import PCA"
      ],
      "execution_count": null,
      "outputs": []
    },
    {
      "cell_type": "code",
      "metadata": {
        "id": "nvjyruUlXtlR"
      },
      "source": [
        "# random seed initialize\n",
        "random_seed = 1234\n",
        "random.seed(random_seed)\n",
        "np.random.seed(random_seed)\n",
        "tf.random.set_seed(random_seed)"
      ],
      "execution_count": null,
      "outputs": []
    },
    {
      "cell_type": "code",
      "metadata": {
        "id": "BC3fXkhdYcYt",
        "colab": {
          "base_uri": "https://localhost:8080/"
        },
        "outputId": "f3f0692b-d811-49a2-e2ea-b7e1af0704e3"
      },
      "source": [
        "!nvidia-smi"
      ],
      "execution_count": null,
      "outputs": [
        {
          "output_type": "stream",
          "text": [
            "Wed Jan 27 15:41:18 2021       \n",
            "+-----------------------------------------------------------------------------+\n",
            "| NVIDIA-SMI 460.32.03    Driver Version: 418.67       CUDA Version: 10.1     |\n",
            "|-------------------------------+----------------------+----------------------+\n",
            "| GPU  Name        Persistence-M| Bus-Id        Disp.A | Volatile Uncorr. ECC |\n",
            "| Fan  Temp  Perf  Pwr:Usage/Cap|         Memory-Usage | GPU-Util  Compute M. |\n",
            "|                               |                      |               MIG M. |\n",
            "|===============================+======================+======================|\n",
            "|   0  Tesla T4            Off  | 00000000:00:04.0 Off |                    0 |\n",
            "| N/A   57C    P8     9W /  70W |      0MiB / 15079MiB |      0%      Default |\n",
            "|                               |                      |                 ERR! |\n",
            "+-------------------------------+----------------------+----------------------+\n",
            "                                                                               \n",
            "+-----------------------------------------------------------------------------+\n",
            "| Processes:                                                                  |\n",
            "|  GPU   GI   CI        PID   Type   Process name                  GPU Memory |\n",
            "|        ID   ID                                                   Usage      |\n",
            "|=============================================================================|\n",
            "|  No running processes found                                                 |\n",
            "+-----------------------------------------------------------------------------+\n"
          ],
          "name": "stdout"
        }
      ]
    },
    {
      "cell_type": "markdown",
      "metadata": {
        "id": "6_OmrpU5nroZ"
      },
      "source": [
        "# Gensim\n",
        "- https://radimrehurek.com/gensim/index.html"
      ]
    },
    {
      "cell_type": "code",
      "metadata": {
        "id": "ruhjiwA5nAEH"
      },
      "source": [
        "import gensim\n",
        "import gensim.downloader as api"
      ],
      "execution_count": null,
      "outputs": []
    },
    {
      "cell_type": "markdown",
      "metadata": {
        "id": "J1bd8sE7r_Bw"
      },
      "source": [
        "## 한국어 학습\n",
        "\n",
        "- https://wikidocs.net/50739"
      ]
    },
    {
      "cell_type": "code",
      "metadata": {
        "id": "Wqk5Or-LrGar"
      },
      "source": [
        "# 행태소분석기 설치\n",
        "!set -x \\\n",
        "&& pip install konlpy \\\n",
        "&& curl -s https://raw.githubusercontent.com/konlpy/konlpy/master/scripts/mecab.sh | bash -x"
      ],
      "execution_count": null,
      "outputs": []
    },
    {
      "cell_type": "code",
      "metadata": {
        "id": "JQ3XkURtvUaq"
      },
      "source": [
        "import konlpy\n",
        "okt = konlpy.tag.Okt()"
      ],
      "execution_count": null,
      "outputs": []
    },
    {
      "cell_type": "code",
      "metadata": {
        "id": "TTiV5ftqvlZg",
        "colab": {
          "base_uri": "https://localhost:8080/"
        },
        "outputId": "362c173b-1600-4859-b187-86c6ee08cfc2"
      },
      "source": [
        "okt.morphs(\"아버지가방에들어가신다\")"
      ],
      "execution_count": null,
      "outputs": [
        {
          "output_type": "execute_result",
          "data": {
            "text/plain": [
              "['아버지', '가방', '에', '들어가신다']"
            ]
          },
          "metadata": {
            "tags": []
          },
          "execution_count": 10
        }
      ]
    },
    {
      "cell_type": "code",
      "metadata": {
        "id": "0qio_nj_uNo6",
        "colab": {
          "base_uri": "https://localhost:8080/"
        },
        "outputId": "4236f5f6-c860-4050-d539-5c7b5fc352f2"
      },
      "source": [
        "# 네이버 영화 리뷰 데이터 다운로드\n",
        "!wget https://raw.githubusercontent.com/e9t/nsmc/master/ratings.txt"
      ],
      "execution_count": null,
      "outputs": [
        {
          "output_type": "stream",
          "text": [
            "--2021-01-27 15:43:05--  https://raw.githubusercontent.com/e9t/nsmc/master/ratings.txt\n",
            "Resolving raw.githubusercontent.com (raw.githubusercontent.com)... 151.101.0.133, 151.101.64.133, 151.101.128.133, ...\n",
            "Connecting to raw.githubusercontent.com (raw.githubusercontent.com)|151.101.0.133|:443... connected.\n",
            "HTTP request sent, awaiting response... 200 OK\n",
            "Length: 19515078 (19M) [text/plain]\n",
            "Saving to: ‘ratings.txt’\n",
            "\n",
            "ratings.txt         100%[===================>]  18.61M  --.-KB/s    in 0.1s    \n",
            "\n",
            "2021-01-27 15:43:05 (139 MB/s) - ‘ratings.txt’ saved [19515078/19515078]\n",
            "\n"
          ],
          "name": "stdout"
        }
      ]
    },
    {
      "cell_type": "code",
      "metadata": {
        "id": "2u_e7kQYuiTW",
        "colab": {
          "base_uri": "https://localhost:8080/",
          "height": 351
        },
        "outputId": "b552d10d-e0f1-4b79-a043-1159f0848ebe"
      },
      "source": [
        "nsmc_data = pd.read_csv(\"ratings.txt\", header=0, delimiter='\\t', quoting=3)\n",
        "print(f\"전체 데이터의 개수: {len(nsmc_data)}\")\n",
        "nsmc_data.head(10)"
      ],
      "execution_count": null,
      "outputs": [
        {
          "output_type": "stream",
          "text": [
            "전체 데이터의 개수: 200000\n"
          ],
          "name": "stdout"
        },
        {
          "output_type": "execute_result",
          "data": {
            "text/html": [
              "<div>\n",
              "<style scoped>\n",
              "    .dataframe tbody tr th:only-of-type {\n",
              "        vertical-align: middle;\n",
              "    }\n",
              "\n",
              "    .dataframe tbody tr th {\n",
              "        vertical-align: top;\n",
              "    }\n",
              "\n",
              "    .dataframe thead th {\n",
              "        text-align: right;\n",
              "    }\n",
              "</style>\n",
              "<table border=\"1\" class=\"dataframe\">\n",
              "  <thead>\n",
              "    <tr style=\"text-align: right;\">\n",
              "      <th></th>\n",
              "      <th>id</th>\n",
              "      <th>document</th>\n",
              "      <th>label</th>\n",
              "    </tr>\n",
              "  </thead>\n",
              "  <tbody>\n",
              "    <tr>\n",
              "      <th>0</th>\n",
              "      <td>8112052</td>\n",
              "      <td>어릴때보고 지금다시봐도 재밌어요ㅋㅋ</td>\n",
              "      <td>1</td>\n",
              "    </tr>\n",
              "    <tr>\n",
              "      <th>1</th>\n",
              "      <td>8132799</td>\n",
              "      <td>디자인을 배우는 학생으로, 외국디자이너와 그들이 일군 전통을 통해 발전해가는 문화산...</td>\n",
              "      <td>1</td>\n",
              "    </tr>\n",
              "    <tr>\n",
              "      <th>2</th>\n",
              "      <td>4655635</td>\n",
              "      <td>폴리스스토리 시리즈는 1부터 뉴까지 버릴께 하나도 없음.. 최고.</td>\n",
              "      <td>1</td>\n",
              "    </tr>\n",
              "    <tr>\n",
              "      <th>3</th>\n",
              "      <td>9251303</td>\n",
              "      <td>와.. 연기가 진짜 개쩔구나.. 지루할거라고 생각했는데 몰입해서 봤다.. 그래 이런...</td>\n",
              "      <td>1</td>\n",
              "    </tr>\n",
              "    <tr>\n",
              "      <th>4</th>\n",
              "      <td>10067386</td>\n",
              "      <td>안개 자욱한 밤하늘에 떠 있는 초승달 같은 영화.</td>\n",
              "      <td>1</td>\n",
              "    </tr>\n",
              "    <tr>\n",
              "      <th>5</th>\n",
              "      <td>2190435</td>\n",
              "      <td>사랑을 해본사람이라면 처음부터 끝까지 웃을수 있는영화</td>\n",
              "      <td>1</td>\n",
              "    </tr>\n",
              "    <tr>\n",
              "      <th>6</th>\n",
              "      <td>9279041</td>\n",
              "      <td>완전 감동입니다 다시봐도 감동</td>\n",
              "      <td>1</td>\n",
              "    </tr>\n",
              "    <tr>\n",
              "      <th>7</th>\n",
              "      <td>7865729</td>\n",
              "      <td>개들의 전쟁2 나오나요? 나오면 1빠로 보고 싶음</td>\n",
              "      <td>1</td>\n",
              "    </tr>\n",
              "    <tr>\n",
              "      <th>8</th>\n",
              "      <td>7477618</td>\n",
              "      <td>굿</td>\n",
              "      <td>1</td>\n",
              "    </tr>\n",
              "    <tr>\n",
              "      <th>9</th>\n",
              "      <td>9250537</td>\n",
              "      <td>바보가 아니라 병 쉰 인듯</td>\n",
              "      <td>1</td>\n",
              "    </tr>\n",
              "  </tbody>\n",
              "</table>\n",
              "</div>"
            ],
            "text/plain": [
              "         id                                           document  label\n",
              "0   8112052                                어릴때보고 지금다시봐도 재밌어요ㅋㅋ      1\n",
              "1   8132799  디자인을 배우는 학생으로, 외국디자이너와 그들이 일군 전통을 통해 발전해가는 문화산...      1\n",
              "2   4655635               폴리스스토리 시리즈는 1부터 뉴까지 버릴께 하나도 없음.. 최고.      1\n",
              "3   9251303  와.. 연기가 진짜 개쩔구나.. 지루할거라고 생각했는데 몰입해서 봤다.. 그래 이런...      1\n",
              "4  10067386                        안개 자욱한 밤하늘에 떠 있는 초승달 같은 영화.      1\n",
              "5   2190435                      사랑을 해본사람이라면 처음부터 끝까지 웃을수 있는영화      1\n",
              "6   9279041                                   완전 감동입니다 다시봐도 감동      1\n",
              "7   7865729                        개들의 전쟁2 나오나요? 나오면 1빠로 보고 싶음      1\n",
              "8   7477618                                                  굿      1\n",
              "9   9250537                                     바보가 아니라 병 쉰 인듯      1"
            ]
          },
          "metadata": {
            "tags": []
          },
          "execution_count": 12
        }
      ]
    },
    {
      "cell_type": "code",
      "metadata": {
        "id": "JOPTQte2umbR",
        "colab": {
          "base_uri": "https://localhost:8080/",
          "height": 351
        },
        "outputId": "18f4feb1-7bad-468b-d57e-f04e2bc84029"
      },
      "source": [
        "# null 제거\n",
        "nsmc_data = nsmc_data.dropna()\n",
        "print(f\"null 제거 후 데이터의 개수: {len(nsmc_data)}\")\n",
        "nsmc_data.head(10)"
      ],
      "execution_count": null,
      "outputs": [
        {
          "output_type": "stream",
          "text": [
            "null 제거 후 데이터의 개수: 199992\n"
          ],
          "name": "stdout"
        },
        {
          "output_type": "execute_result",
          "data": {
            "text/html": [
              "<div>\n",
              "<style scoped>\n",
              "    .dataframe tbody tr th:only-of-type {\n",
              "        vertical-align: middle;\n",
              "    }\n",
              "\n",
              "    .dataframe tbody tr th {\n",
              "        vertical-align: top;\n",
              "    }\n",
              "\n",
              "    .dataframe thead th {\n",
              "        text-align: right;\n",
              "    }\n",
              "</style>\n",
              "<table border=\"1\" class=\"dataframe\">\n",
              "  <thead>\n",
              "    <tr style=\"text-align: right;\">\n",
              "      <th></th>\n",
              "      <th>id</th>\n",
              "      <th>document</th>\n",
              "      <th>label</th>\n",
              "    </tr>\n",
              "  </thead>\n",
              "  <tbody>\n",
              "    <tr>\n",
              "      <th>0</th>\n",
              "      <td>8112052</td>\n",
              "      <td>어릴때보고 지금다시봐도 재밌어요ㅋㅋ</td>\n",
              "      <td>1</td>\n",
              "    </tr>\n",
              "    <tr>\n",
              "      <th>1</th>\n",
              "      <td>8132799</td>\n",
              "      <td>디자인을 배우는 학생으로, 외국디자이너와 그들이 일군 전통을 통해 발전해가는 문화산...</td>\n",
              "      <td>1</td>\n",
              "    </tr>\n",
              "    <tr>\n",
              "      <th>2</th>\n",
              "      <td>4655635</td>\n",
              "      <td>폴리스스토리 시리즈는 1부터 뉴까지 버릴께 하나도 없음.. 최고.</td>\n",
              "      <td>1</td>\n",
              "    </tr>\n",
              "    <tr>\n",
              "      <th>3</th>\n",
              "      <td>9251303</td>\n",
              "      <td>와.. 연기가 진짜 개쩔구나.. 지루할거라고 생각했는데 몰입해서 봤다.. 그래 이런...</td>\n",
              "      <td>1</td>\n",
              "    </tr>\n",
              "    <tr>\n",
              "      <th>4</th>\n",
              "      <td>10067386</td>\n",
              "      <td>안개 자욱한 밤하늘에 떠 있는 초승달 같은 영화.</td>\n",
              "      <td>1</td>\n",
              "    </tr>\n",
              "    <tr>\n",
              "      <th>5</th>\n",
              "      <td>2190435</td>\n",
              "      <td>사랑을 해본사람이라면 처음부터 끝까지 웃을수 있는영화</td>\n",
              "      <td>1</td>\n",
              "    </tr>\n",
              "    <tr>\n",
              "      <th>6</th>\n",
              "      <td>9279041</td>\n",
              "      <td>완전 감동입니다 다시봐도 감동</td>\n",
              "      <td>1</td>\n",
              "    </tr>\n",
              "    <tr>\n",
              "      <th>7</th>\n",
              "      <td>7865729</td>\n",
              "      <td>개들의 전쟁2 나오나요? 나오면 1빠로 보고 싶음</td>\n",
              "      <td>1</td>\n",
              "    </tr>\n",
              "    <tr>\n",
              "      <th>8</th>\n",
              "      <td>7477618</td>\n",
              "      <td>굿</td>\n",
              "      <td>1</td>\n",
              "    </tr>\n",
              "    <tr>\n",
              "      <th>9</th>\n",
              "      <td>9250537</td>\n",
              "      <td>바보가 아니라 병 쉰 인듯</td>\n",
              "      <td>1</td>\n",
              "    </tr>\n",
              "  </tbody>\n",
              "</table>\n",
              "</div>"
            ],
            "text/plain": [
              "         id                                           document  label\n",
              "0   8112052                                어릴때보고 지금다시봐도 재밌어요ㅋㅋ      1\n",
              "1   8132799  디자인을 배우는 학생으로, 외국디자이너와 그들이 일군 전통을 통해 발전해가는 문화산...      1\n",
              "2   4655635               폴리스스토리 시리즈는 1부터 뉴까지 버릴께 하나도 없음.. 최고.      1\n",
              "3   9251303  와.. 연기가 진짜 개쩔구나.. 지루할거라고 생각했는데 몰입해서 봤다.. 그래 이런...      1\n",
              "4  10067386                        안개 자욱한 밤하늘에 떠 있는 초승달 같은 영화.      1\n",
              "5   2190435                      사랑을 해본사람이라면 처음부터 끝까지 웃을수 있는영화      1\n",
              "6   9279041                                   완전 감동입니다 다시봐도 감동      1\n",
              "7   7865729                        개들의 전쟁2 나오나요? 나오면 1빠로 보고 싶음      1\n",
              "8   7477618                                                  굿      1\n",
              "9   9250537                                     바보가 아니라 병 쉰 인듯      1"
            ]
          },
          "metadata": {
            "tags": []
          },
          "execution_count": 13
        }
      ]
    },
    {
      "cell_type": "code",
      "metadata": {
        "id": "BUwLwaBqurCl",
        "colab": {
          "base_uri": "https://localhost:8080/",
          "height": 351
        },
        "outputId": "135127b3-a6e4-4a43-8aab-39be1ca1236d"
      },
      "source": [
        "# 한글 이외의 문자 제거\n",
        "nsmc_data['document'] = nsmc_data['document'].str.replace(\"[^ㄱ-ㅎㅏ-ㅣ가-힣 ]\",\"\")\n",
        "nsmc_data.dropna()\n",
        "print(f\"한글 아닌 문자 제거 후 데이터의 개수: {len(nsmc_data)}\")\n",
        "nsmc_data.head(10)"
      ],
      "execution_count": null,
      "outputs": [
        {
          "output_type": "stream",
          "text": [
            "한글 아닌 문자 제거 후 데이터의 개수: 199992\n"
          ],
          "name": "stdout"
        },
        {
          "output_type": "execute_result",
          "data": {
            "text/html": [
              "<div>\n",
              "<style scoped>\n",
              "    .dataframe tbody tr th:only-of-type {\n",
              "        vertical-align: middle;\n",
              "    }\n",
              "\n",
              "    .dataframe tbody tr th {\n",
              "        vertical-align: top;\n",
              "    }\n",
              "\n",
              "    .dataframe thead th {\n",
              "        text-align: right;\n",
              "    }\n",
              "</style>\n",
              "<table border=\"1\" class=\"dataframe\">\n",
              "  <thead>\n",
              "    <tr style=\"text-align: right;\">\n",
              "      <th></th>\n",
              "      <th>id</th>\n",
              "      <th>document</th>\n",
              "      <th>label</th>\n",
              "    </tr>\n",
              "  </thead>\n",
              "  <tbody>\n",
              "    <tr>\n",
              "      <th>0</th>\n",
              "      <td>8112052</td>\n",
              "      <td>어릴때보고 지금다시봐도 재밌어요ㅋㅋ</td>\n",
              "      <td>1</td>\n",
              "    </tr>\n",
              "    <tr>\n",
              "      <th>1</th>\n",
              "      <td>8132799</td>\n",
              "      <td>디자인을 배우는 학생으로 외국디자이너와 그들이 일군 전통을 통해 발전해가는 문화산업...</td>\n",
              "      <td>1</td>\n",
              "    </tr>\n",
              "    <tr>\n",
              "      <th>2</th>\n",
              "      <td>4655635</td>\n",
              "      <td>폴리스스토리 시리즈는 부터 뉴까지 버릴께 하나도 없음 최고</td>\n",
              "      <td>1</td>\n",
              "    </tr>\n",
              "    <tr>\n",
              "      <th>3</th>\n",
              "      <td>9251303</td>\n",
              "      <td>와 연기가 진짜 개쩔구나 지루할거라고 생각했는데 몰입해서 봤다 그래 이런게 진짜 영화지</td>\n",
              "      <td>1</td>\n",
              "    </tr>\n",
              "    <tr>\n",
              "      <th>4</th>\n",
              "      <td>10067386</td>\n",
              "      <td>안개 자욱한 밤하늘에 떠 있는 초승달 같은 영화</td>\n",
              "      <td>1</td>\n",
              "    </tr>\n",
              "    <tr>\n",
              "      <th>5</th>\n",
              "      <td>2190435</td>\n",
              "      <td>사랑을 해본사람이라면 처음부터 끝까지 웃을수 있는영화</td>\n",
              "      <td>1</td>\n",
              "    </tr>\n",
              "    <tr>\n",
              "      <th>6</th>\n",
              "      <td>9279041</td>\n",
              "      <td>완전 감동입니다 다시봐도 감동</td>\n",
              "      <td>1</td>\n",
              "    </tr>\n",
              "    <tr>\n",
              "      <th>7</th>\n",
              "      <td>7865729</td>\n",
              "      <td>개들의 전쟁 나오나요 나오면 빠로 보고 싶음</td>\n",
              "      <td>1</td>\n",
              "    </tr>\n",
              "    <tr>\n",
              "      <th>8</th>\n",
              "      <td>7477618</td>\n",
              "      <td>굿</td>\n",
              "      <td>1</td>\n",
              "    </tr>\n",
              "    <tr>\n",
              "      <th>9</th>\n",
              "      <td>9250537</td>\n",
              "      <td>바보가 아니라 병 쉰 인듯</td>\n",
              "      <td>1</td>\n",
              "    </tr>\n",
              "  </tbody>\n",
              "</table>\n",
              "</div>"
            ],
            "text/plain": [
              "         id                                           document  label\n",
              "0   8112052                                어릴때보고 지금다시봐도 재밌어요ㅋㅋ      1\n",
              "1   8132799  디자인을 배우는 학생으로 외국디자이너와 그들이 일군 전통을 통해 발전해가는 문화산업...      1\n",
              "2   4655635                   폴리스스토리 시리즈는 부터 뉴까지 버릴께 하나도 없음 최고      1\n",
              "3   9251303   와 연기가 진짜 개쩔구나 지루할거라고 생각했는데 몰입해서 봤다 그래 이런게 진짜 영화지      1\n",
              "4  10067386                         안개 자욱한 밤하늘에 떠 있는 초승달 같은 영화      1\n",
              "5   2190435                      사랑을 해본사람이라면 처음부터 끝까지 웃을수 있는영화      1\n",
              "6   9279041                                   완전 감동입니다 다시봐도 감동      1\n",
              "7   7865729                           개들의 전쟁 나오나요 나오면 빠로 보고 싶음      1\n",
              "8   7477618                                                  굿      1\n",
              "9   9250537                                     바보가 아니라 병 쉰 인듯      1"
            ]
          },
          "metadata": {
            "tags": []
          },
          "execution_count": 14
        }
      ]
    },
    {
      "cell_type": "code",
      "metadata": {
        "id": "i631tEdPuweA"
      },
      "source": [
        "# 불용어 정의 (빈도가 너무 많은 단어는 학습에서 제외 함)\n",
        "stopwords = ['의','가','이','은','들','는','좀','잘','걍','과','도','를','으로','자','에','와','한','하다']"
      ],
      "execution_count": null,
      "outputs": []
    },
    {
      "cell_type": "code",
      "metadata": {
        "id": "boV-eyeXu8_5",
        "colab": {
          "base_uri": "https://localhost:8080/",
          "height": 65,
          "referenced_widgets": [
            "d4e91aadfb6848ee8726f9fb3d8b2e60",
            "1bb3e82e4c224e968ff80492154595d5",
            "641635261e5643949ca45e3298362ce1",
            "785be93fba4146078658ee9083b95799",
            "a9c53222a84c4faf8c1539289f661163",
            "1ffa078ee9d64e558cb18ba6e51a8261",
            "fbf75983817f400abb54035c5285bde1",
            "48f3e2654ab44967a68457a6b0ac359b"
          ]
        },
        "outputId": "e73cae4e-e4a1-4b5d-b273-a16e7b1aa8ce"
      },
      "source": [
        "# okt 형태소 분석기를 이용해 형태소 단위로 분할 (이때 불용어 제거)\n",
        "tokens = []\n",
        "for i, document in enumerate(tqdm(nsmc_data['document'], total=len(nsmc_data))):\n",
        "    line = []\n",
        "    line = okt.morphs(document)\n",
        "    line = [word for word in line if not word in stopwords]\n",
        "    tokens.append(line)"
      ],
      "execution_count": null,
      "outputs": [
        {
          "output_type": "display_data",
          "data": {
            "application/vnd.jupyter.widget-view+json": {
              "model_id": "d4e91aadfb6848ee8726f9fb3d8b2e60",
              "version_minor": 0,
              "version_major": 2
            },
            "text/plain": [
              "HBox(children=(FloatProgress(value=0.0, max=199992.0), HTML(value='')))"
            ]
          },
          "metadata": {
            "tags": []
          }
        },
        {
          "output_type": "stream",
          "text": [
            "\n"
          ],
          "name": "stdout"
        }
      ]
    },
    {
      "cell_type": "code",
      "metadata": {
        "id": "QeRt8lzovIeY",
        "colab": {
          "base_uri": "https://localhost:8080/"
        },
        "outputId": "b3dc7c10-ba58-4b2e-8f86-843bb1e028e0"
      },
      "source": [
        "print(len(tokens))\n",
        "tokens[:10]"
      ],
      "execution_count": null,
      "outputs": [
        {
          "output_type": "stream",
          "text": [
            "199992\n"
          ],
          "name": "stdout"
        },
        {
          "output_type": "execute_result",
          "data": {
            "text/plain": [
              "[['어릴', '때', '보고', '지금', '다시', '봐도', '재밌어요', 'ㅋㅋ'],\n",
              " ['디자인',\n",
              "  '을',\n",
              "  '배우는',\n",
              "  '학생',\n",
              "  '외국',\n",
              "  '디자이너',\n",
              "  '그',\n",
              "  '일군',\n",
              "  '전통',\n",
              "  '을',\n",
              "  '통해',\n",
              "  '발전',\n",
              "  '해가는',\n",
              "  '문화',\n",
              "  '산업',\n",
              "  '부러웠는데',\n",
              "  '사실',\n",
              "  '우리나라',\n",
              "  '에서도',\n",
              "  '그',\n",
              "  '어려운',\n",
              "  '시절',\n",
              "  '끝',\n",
              "  '까지',\n",
              "  '열정',\n",
              "  '을',\n",
              "  '지킨',\n",
              "  '노라노',\n",
              "  '같은',\n",
              "  '전통',\n",
              "  '있어',\n",
              "  '저',\n",
              "  '같은',\n",
              "  '사람',\n",
              "  '꿈',\n",
              "  '을',\n",
              "  '꾸고',\n",
              "  '이뤄',\n",
              "  '나갈',\n",
              "  '수',\n",
              "  '있다는',\n",
              "  '것',\n",
              "  '감사합니다'],\n",
              " ['폴리스스토리', '시리즈', '부터', '뉴', '까지', '버릴께', '하나', '없음', '최고'],\n",
              " ['연기',\n",
              "  '진짜',\n",
              "  '개',\n",
              "  '쩔구나',\n",
              "  '지루할거라고',\n",
              "  '생각',\n",
              "  '했는데',\n",
              "  '몰입',\n",
              "  '해서',\n",
              "  '봤다',\n",
              "  '그래',\n",
              "  '이런게',\n",
              "  '진짜',\n",
              "  '영화',\n",
              "  '지'],\n",
              " ['안개', '자욱한', '밤하늘', '떠', '있는', '초승달', '같은', '영화'],\n",
              " ['사랑', '을', '해본', '사람', '라면', '처음', '부터', '끝', '까지', '웃을수', '있는', '영화'],\n",
              " ['완전', '감동', '입니다', '다시', '봐도', '감동'],\n",
              " ['개', '전쟁', '나오나요', '나오면', '빠', '로', '보고', '싶음'],\n",
              " ['굿'],\n",
              " ['바보', '아니라', '병', '쉰', '인듯']]"
            ]
          },
          "metadata": {
            "tags": []
          },
          "execution_count": 17
        }
      ]
    },
    {
      "cell_type": "code",
      "metadata": {
        "id": "R4MWIQTrxrKU"
      },
      "source": [
        "# gensim 학습\n",
        "word2vec_100 = gensim.models.Word2Vec(sentences=tokens, size=100, window=5, min_count=5)"
      ],
      "execution_count": null,
      "outputs": []
    },
    {
      "cell_type": "code",
      "metadata": {
        "id": "Dn_m0dpWxy0n",
        "colab": {
          "base_uri": "https://localhost:8080/"
        },
        "outputId": "fae36937-6638-4eaa-a4a3-599c9122ec6b"
      },
      "source": [
        "words = list(word2vec_100.wv.vocab)\n",
        "len(words), words[:100]"
      ],
      "execution_count": null,
      "outputs": [
        {
          "output_type": "execute_result",
          "data": {
            "text/plain": [
              "(26174,\n",
              " ['어릴',\n",
              "  '때',\n",
              "  '보고',\n",
              "  '지금',\n",
              "  '다시',\n",
              "  '봐도',\n",
              "  '재밌어요',\n",
              "  'ㅋㅋ',\n",
              "  '디자인',\n",
              "  '을',\n",
              "  '배우는',\n",
              "  '학생',\n",
              "  '외국',\n",
              "  '디자이너',\n",
              "  '그',\n",
              "  '전통',\n",
              "  '통해',\n",
              "  '발전',\n",
              "  '해가는',\n",
              "  '문화',\n",
              "  '산업',\n",
              "  '사실',\n",
              "  '우리나라',\n",
              "  '에서도',\n",
              "  '어려운',\n",
              "  '시절',\n",
              "  '끝',\n",
              "  '까지',\n",
              "  '열정',\n",
              "  '지킨',\n",
              "  '같은',\n",
              "  '있어',\n",
              "  '저',\n",
              "  '사람',\n",
              "  '꿈',\n",
              "  '꾸고',\n",
              "  '이뤄',\n",
              "  '나갈',\n",
              "  '수',\n",
              "  '있다는',\n",
              "  '것',\n",
              "  '감사합니다',\n",
              "  '폴리스스토리',\n",
              "  '시리즈',\n",
              "  '부터',\n",
              "  '뉴',\n",
              "  '하나',\n",
              "  '없음',\n",
              "  '최고',\n",
              "  '연기',\n",
              "  '진짜',\n",
              "  '개',\n",
              "  '생각',\n",
              "  '했는데',\n",
              "  '몰입',\n",
              "  '해서',\n",
              "  '봤다',\n",
              "  '그래',\n",
              "  '이런게',\n",
              "  '영화',\n",
              "  '지',\n",
              "  '안개',\n",
              "  '밤하늘',\n",
              "  '떠',\n",
              "  '있는',\n",
              "  '사랑',\n",
              "  '해본',\n",
              "  '라면',\n",
              "  '처음',\n",
              "  '웃을수',\n",
              "  '완전',\n",
              "  '감동',\n",
              "  '입니다',\n",
              "  '전쟁',\n",
              "  '나오나요',\n",
              "  '나오면',\n",
              "  '빠',\n",
              "  '로',\n",
              "  '싶음',\n",
              "  '굿',\n",
              "  '바보',\n",
              "  '아니라',\n",
              "  '병',\n",
              "  '쉰',\n",
              "  '인듯',\n",
              "  '내',\n",
              "  '나이',\n",
              "  '본',\n",
              "  '나',\n",
              "  '적',\n",
              "  '이다',\n",
              "  '하지만',\n",
              "  '훗날',\n",
              "  '사하나',\n",
              "  '하',\n",
              "  '감정',\n",
              "  '완벽하게',\n",
              "  '이해',\n",
              "  '같다',\n",
              "  '재밌다'])"
            ]
          },
          "metadata": {
            "tags": []
          },
          "execution_count": 19
        }
      ]
    },
    {
      "cell_type": "code",
      "metadata": {
        "id": "4IU7LjCLx9nl",
        "colab": {
          "base_uri": "https://localhost:8080/"
        },
        "outputId": "59f9b8c1-17ab-41e2-d34b-cd15b08a360c"
      },
      "source": [
        "similar = word2vec_100.wv.most_similar(\"영화\")\n",
        "similar"
      ],
      "execution_count": null,
      "outputs": [
        {
          "output_type": "execute_result",
          "data": {
            "text/plain": [
              "[('애니', 0.613872766494751),\n",
              " ('다큐', 0.6115419864654541),\n",
              " ('애니메이션', 0.5967451333999634),\n",
              " ('공포영화', 0.5940037965774536),\n",
              " ('액션영화', 0.5865364074707031),\n",
              " ('작품', 0.5448018312454224),\n",
              " ('독립영화', 0.5418421030044556),\n",
              " ('만화영화', 0.5360821485519409),\n",
              " ('다큐멘터리', 0.5273967981338501),\n",
              " ('수작', 0.5263684988021851)]"
            ]
          },
          "metadata": {
            "tags": []
          },
          "execution_count": 20
        }
      ]
    },
    {
      "cell_type": "code",
      "metadata": {
        "id": "FqGoZ9VMyBuE",
        "colab": {
          "base_uri": "https://localhost:8080/"
        },
        "outputId": "04a25aa1-9b5f-412c-9011-99cdba75b5de"
      },
      "source": [
        "similar = word2vec_100.wv.most_similar(\"최민수\")\n",
        "similar"
      ],
      "execution_count": null,
      "outputs": [
        {
          "output_type": "execute_result",
          "data": {
            "text/plain": [
              "[('김희선', 0.9326217770576477),\n",
              " ('안성기', 0.9166045188903809),\n",
              " ('김승우', 0.9121912717819214),\n",
              " ('주진모', 0.9099200963973999),\n",
              " ('차승원', 0.9077414870262146),\n",
              " ('다우니', 0.9044102430343628),\n",
              " ('주니어', 0.9043997526168823),\n",
              " ('고소영', 0.9035391807556152),\n",
              " ('메릴', 0.9026621580123901),\n",
              " ('한석규', 0.9024266004562378)]"
            ]
          },
          "metadata": {
            "tags": []
          },
          "execution_count": 21
        }
      ]
    },
    {
      "cell_type": "code",
      "metadata": {
        "id": "LtIIZu5GyV1s",
        "colab": {
          "base_uri": "https://localhost:8080/"
        },
        "outputId": "1c5104f0-e922-435c-babd-7afa87c380d2"
      },
      "source": [
        "similar = word2vec_100.wv.most_similar(\"장동건\")\n",
        "similar"
      ],
      "execution_count": null,
      "outputs": [
        {
          "output_type": "execute_result",
          "data": {
            "text/plain": [
              "[('에릭', 0.8947008848190308),\n",
              " ('안성기', 0.8936293721199036),\n",
              " ('이천희', 0.8934798836708069),\n",
              " ('윤여정', 0.8896331787109375),\n",
              " ('송은채', 0.8887768983840942),\n",
              " ('찌찌', 0.8822858333587646),\n",
              " ('이영애', 0.8801983594894409),\n",
              " ('한고은', 0.8781827688217163),\n",
              " ('장만옥', 0.8769034147262573),\n",
              " ('아델', 0.8765411972999573)]"
            ]
          },
          "metadata": {
            "tags": []
          },
          "execution_count": 22
        }
      ]
    },
    {
      "cell_type": "code",
      "metadata": {
        "id": "e5jlaSDmyHo9",
        "colab": {
          "base_uri": "https://localhost:8080/"
        },
        "outputId": "d0a53c9c-0412-4688-8f49-9e2ad5c0fda3"
      },
      "source": [
        "# 설경구 - 송윤아 + 고소영\n",
        "result = word2vec_100.wv.most_similar(positive=['고소영', '설경구'], negative=['송윤아'])\n",
        "result"
      ],
      "execution_count": null,
      "outputs": [
        {
          "output_type": "execute_result",
          "data": {
            "text/plain": [
              "[('혼신', 0.862230658531189),\n",
              " ('송강호', 0.8248682022094727),\n",
              " ('김혜수', 0.8198894262313843),\n",
              " ('차승원', 0.8158605098724365),\n",
              " ('최민수', 0.8138892650604248),\n",
              " ('하정우', 0.813798725605011),\n",
              " ('엄정화', 0.810836911201477),\n",
              " ('박중훈', 0.8108094334602356),\n",
              " ('한석규', 0.7945865988731384),\n",
              " ('디카프리오', 0.7931475639343262)]"
            ]
          },
          "metadata": {
            "tags": []
          },
          "execution_count": 23
        }
      ]
    },
    {
      "cell_type": "code",
      "metadata": {
        "id": "5LKoqmC7yb8H"
      },
      "source": [
        ""
      ],
      "execution_count": null,
      "outputs": []
    }
  ]
}