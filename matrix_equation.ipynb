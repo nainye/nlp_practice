{
  "nbformat": 4,
  "nbformat_minor": 0,
  "metadata": {
    "colab": {
      "name": "03-00.matrix-equation.ipynb",
      "provenance": [],
      "collapsed_sections": [
        "BuaFwJqDVumT",
        "wS_edoagzneJ",
        "h71F8NjjMhgT",
        "StVZG6BQNuHv"
      ],
      "include_colab_link": true
    },
    "kernelspec": {
      "name": "python3",
      "display_name": "Python 3"
    }
  },
  "cells": [
    {
      "cell_type": "markdown",
      "metadata": {
        "id": "view-in-github",
        "colab_type": "text"
      },
      "source": [
        "<a href=\"https://colab.research.google.com/github/nainye/nlp_practice/blob/main/matrix_equation.ipynb\" target=\"_parent\"><img src=\"https://colab.research.google.com/assets/colab-badge.svg\" alt=\"Open In Colab\"/></a>"
      ]
    },
    {
      "cell_type": "markdown",
      "metadata": {
        "id": "BuaFwJqDVumT"
      },
      "source": [
        "# EVN"
      ]
    },
    {
      "cell_type": "code",
      "metadata": {
        "id": "ODiNPGQ9VwLK"
      },
      "source": [
        "import numpy as np\n",
        "import matplotlib.pyplot as plt\n",
        "\n",
        "import tensorflow as tf"
      ],
      "execution_count": 1,
      "outputs": []
    },
    {
      "cell_type": "markdown",
      "metadata": {
        "id": "sFo_3tAlzneI"
      },
      "source": [
        "# 행렬연산"
      ]
    },
    {
      "cell_type": "markdown",
      "metadata": {
        "id": "erIr-mg8zneJ"
      },
      "source": [
        "## 데이터"
      ]
    },
    {
      "cell_type": "code",
      "metadata": {
        "id": "KQqU4MBIzneJ",
        "colab": {
          "base_uri": "https://localhost:8080/"
        },
        "outputId": "b2c2050e-af38-4477-9a93-c091789566c9"
      },
      "source": [
        "hidden = np.random.randint(-9, 10, (5, 4)) / 10\n",
        "hidden"
      ],
      "execution_count": 2,
      "outputs": [
        {
          "output_type": "execute_result",
          "data": {
            "text/plain": [
              "array([[-0.7,  0.1,  0. ,  0.3],\n",
              "       [-0.4,  0.2,  0.4, -0.8],\n",
              "       [ 0.4, -0.4, -0.8, -0.3],\n",
              "       [-0.5, -0.3,  0.9,  0.6],\n",
              "       [ 0.8,  0.4, -0.4,  0.9]])"
            ]
          },
          "metadata": {
            "tags": []
          },
          "execution_count": 2
        }
      ]
    },
    {
      "cell_type": "markdown",
      "metadata": {
        "id": "wS_edoagzneJ"
      },
      "source": [
        "## element wise sum"
      ]
    },
    {
      "cell_type": "code",
      "metadata": {
        "id": "BJA0tV61UMWv",
        "colab": {
          "base_uri": "https://localhost:8080/"
        },
        "outputId": "20d8520a-2648-4fd4-e835-1db4dc70e233"
      },
      "source": [
        "arg = np.random.randint(-9, 10, (5, 4)) / 10\n",
        "arg, hidden + arg"
      ],
      "execution_count": 3,
      "outputs": [
        {
          "output_type": "execute_result",
          "data": {
            "text/plain": [
              "(array([[-0.1,  0.4, -0.6,  0.3],\n",
              "        [ 0.4, -0.7,  0.4, -0.7],\n",
              "        [ 0.4,  0.6,  0.8, -0.2],\n",
              "        [ 0.5,  0.8,  0.2,  0.5],\n",
              "        [ 0.9,  0. ,  0.1,  0. ]]), array([[-0.8,  0.5, -0.6,  0.6],\n",
              "        [ 0. , -0.5,  0.8, -1.5],\n",
              "        [ 0.8,  0.2,  0. , -0.5],\n",
              "        [ 0. ,  0.5,  1.1,  1.1],\n",
              "        [ 1.7,  0.4, -0.3,  0.9]]))"
            ]
          },
          "metadata": {
            "tags": []
          },
          "execution_count": 3
        }
      ]
    },
    {
      "cell_type": "code",
      "metadata": {
        "id": "jrpIT_63UNu5",
        "colab": {
          "base_uri": "https://localhost:8080/"
        },
        "outputId": "0d9ee697-c982-4871-e75c-b08c25d216d7"
      },
      "source": [
        "arg = np.random.randint(-9, 10, (1, 4)) / 10\n",
        "arg, hidden + arg"
      ],
      "execution_count": 4,
      "outputs": [
        {
          "output_type": "execute_result",
          "data": {
            "text/plain": [
              "(array([[-0.5,  0. , -0.2,  0.4]]), array([[-1.2,  0.1, -0.2,  0.7],\n",
              "        [-0.9,  0.2,  0.2, -0.4],\n",
              "        [-0.1, -0.4, -1. ,  0.1],\n",
              "        [-1. , -0.3,  0.7,  1. ],\n",
              "        [ 0.3,  0.4, -0.6,  1.3]]))"
            ]
          },
          "metadata": {
            "tags": []
          },
          "execution_count": 4
        }
      ]
    },
    {
      "cell_type": "code",
      "metadata": {
        "id": "RoT8iffUzneJ",
        "colab": {
          "base_uri": "https://localhost:8080/"
        },
        "outputId": "c611e769-8cbd-4816-fad6-59fbf0eabb84"
      },
      "source": [
        "arg = np.random.randint(-9, 10, (5, 1)) / 10\n",
        "arg, hidden + arg"
      ],
      "execution_count": 5,
      "outputs": [
        {
          "output_type": "execute_result",
          "data": {
            "text/plain": [
              "(array([[ 0.2],\n",
              "        [ 0.6],\n",
              "        [ 0.2],\n",
              "        [ 0. ],\n",
              "        [-0.1]]), array([[-0.5,  0.3,  0.2,  0.5],\n",
              "        [ 0.2,  0.8,  1. , -0.2],\n",
              "        [ 0.6, -0.2, -0.6, -0.1],\n",
              "        [-0.5, -0.3,  0.9,  0.6],\n",
              "        [ 0.7,  0.3, -0.5,  0.8]]))"
            ]
          },
          "metadata": {
            "tags": []
          },
          "execution_count": 5
        }
      ]
    },
    {
      "cell_type": "code",
      "metadata": {
        "id": "_qeklV9-UTzH",
        "colab": {
          "base_uri": "https://localhost:8080/"
        },
        "outputId": "f0991278-29a9-46be-a51f-f2a8cb034ca0"
      },
      "source": [
        "arg = np.random.randint(-9, 10, (1, 1)) / 10\n",
        "arg, hidden + arg"
      ],
      "execution_count": 6,
      "outputs": [
        {
          "output_type": "execute_result",
          "data": {
            "text/plain": [
              "(array([[0.1]]), array([[-0.6,  0.2,  0.1,  0.4],\n",
              "        [-0.3,  0.3,  0.5, -0.7],\n",
              "        [ 0.5, -0.3, -0.7, -0.2],\n",
              "        [-0.4, -0.2,  1. ,  0.7],\n",
              "        [ 0.9,  0.5, -0.3,  1. ]]))"
            ]
          },
          "metadata": {
            "tags": []
          },
          "execution_count": 6
        }
      ]
    },
    {
      "cell_type": "code",
      "metadata": {
        "id": "7bgNlTYUEzxI",
        "colab": {
          "base_uri": "https://localhost:8080/"
        },
        "outputId": "c921390b-d536-45d0-8bf2-051b071a820f"
      },
      "source": [
        "hidden + 1"
      ],
      "execution_count": 7,
      "outputs": [
        {
          "output_type": "execute_result",
          "data": {
            "text/plain": [
              "array([[0.3, 1.1, 1. , 1.3],\n",
              "       [0.6, 1.2, 1.4, 0.2],\n",
              "       [1.4, 0.6, 0.2, 0.7],\n",
              "       [0.5, 0.7, 1.9, 1.6],\n",
              "       [1.8, 1.4, 0.6, 1.9]])"
            ]
          },
          "metadata": {
            "tags": []
          },
          "execution_count": 7
        }
      ]
    },
    {
      "cell_type": "code",
      "metadata": {
        "id": "7DWycYWQE3X2",
        "colab": {
          "base_uri": "https://localhost:8080/"
        },
        "outputId": "7737f67a-bbf8-4190-d245-d49a5eb6b4cb"
      },
      "source": [
        "1 + hidden"
      ],
      "execution_count": 8,
      "outputs": [
        {
          "output_type": "execute_result",
          "data": {
            "text/plain": [
              "array([[0.3, 1.1, 1. , 1.3],\n",
              "       [0.6, 1.2, 1.4, 0.2],\n",
              "       [1.4, 0.6, 0.2, 0.7],\n",
              "       [0.5, 0.7, 1.9, 1.6],\n",
              "       [1.8, 1.4, 0.6, 1.9]])"
            ]
          },
          "metadata": {
            "tags": []
          },
          "execution_count": 8
        }
      ]
    },
    {
      "cell_type": "markdown",
      "metadata": {
        "id": "h71F8NjjMhgT"
      },
      "source": [
        "## element wise multiplication"
      ]
    },
    {
      "cell_type": "code",
      "metadata": {
        "id": "jkYCGNhFMhgf",
        "colab": {
          "base_uri": "https://localhost:8080/"
        },
        "outputId": "2d2d8ac8-da3a-4b10-927f-a9b2cc1ba7fc"
      },
      "source": [
        "arg = np.random.randint(-9, 10, (5, 4)) / 10\n",
        "arg, hidden * arg"
      ],
      "execution_count": 9,
      "outputs": [
        {
          "output_type": "execute_result",
          "data": {
            "text/plain": [
              "(array([[ 0. ,  0. , -0.8, -0.9],\n",
              "        [-0.2,  0.4,  0.4,  0.3],\n",
              "        [ 0.7,  0.8,  0.1,  0.2],\n",
              "        [ 0.4, -0.6, -0.1, -0.6],\n",
              "        [ 0.1, -0.7, -0.7,  0. ]]), array([[-0.  ,  0.  , -0.  , -0.27],\n",
              "        [ 0.08,  0.08,  0.16, -0.24],\n",
              "        [ 0.28, -0.32, -0.08, -0.06],\n",
              "        [-0.2 ,  0.18, -0.09, -0.36],\n",
              "        [ 0.08, -0.28,  0.28,  0.  ]]))"
            ]
          },
          "metadata": {
            "tags": []
          },
          "execution_count": 9
        }
      ]
    },
    {
      "cell_type": "code",
      "metadata": {
        "id": "8RkPr0jfMhgg",
        "colab": {
          "base_uri": "https://localhost:8080/"
        },
        "outputId": "a3ee6b94-b6e0-4e32-eae9-b4a6a42a001d"
      },
      "source": [
        "arg = np.random.randint(-9, 10, (1, 4)) / 10\n",
        "arg, hidden * arg"
      ],
      "execution_count": 10,
      "outputs": [
        {
          "output_type": "execute_result",
          "data": {
            "text/plain": [
              "(array([[ 0.8, -0.8, -0.4,  0.6]]), array([[-0.56, -0.08, -0.  ,  0.18],\n",
              "        [-0.32, -0.16, -0.16, -0.48],\n",
              "        [ 0.32,  0.32,  0.32, -0.18],\n",
              "        [-0.4 ,  0.24, -0.36,  0.36],\n",
              "        [ 0.64, -0.32,  0.16,  0.54]]))"
            ]
          },
          "metadata": {
            "tags": []
          },
          "execution_count": 10
        }
      ]
    },
    {
      "cell_type": "code",
      "metadata": {
        "id": "gOxjqjyUMhgg",
        "colab": {
          "base_uri": "https://localhost:8080/"
        },
        "outputId": "d671874c-48eb-48e9-873f-e545b5b7f94a"
      },
      "source": [
        "arg = np.random.randint(-9, 10, (5, 1)) / 10\n",
        "arg, hidden * arg"
      ],
      "execution_count": 11,
      "outputs": [
        {
          "output_type": "execute_result",
          "data": {
            "text/plain": [
              "(array([[ 0. ],\n",
              "        [ 0.9],\n",
              "        [-0.7],\n",
              "        [-0.4],\n",
              "        [-0.4]]), array([[-0.  ,  0.  ,  0.  ,  0.  ],\n",
              "        [-0.36,  0.18,  0.36, -0.72],\n",
              "        [-0.28,  0.28,  0.56,  0.21],\n",
              "        [ 0.2 ,  0.12, -0.36, -0.24],\n",
              "        [-0.32, -0.16,  0.16, -0.36]]))"
            ]
          },
          "metadata": {
            "tags": []
          },
          "execution_count": 11
        }
      ]
    },
    {
      "cell_type": "code",
      "metadata": {
        "id": "svhBfZHmMhgg",
        "colab": {
          "base_uri": "https://localhost:8080/"
        },
        "outputId": "00611de0-878a-4c06-b898-9c2afc3c2f5e"
      },
      "source": [
        "arg = np.random.randint(-9, 10, (1, 1)) / 10\n",
        "arg, hidden * arg"
      ],
      "execution_count": 12,
      "outputs": [
        {
          "output_type": "execute_result",
          "data": {
            "text/plain": [
              "(array([[-0.8]]), array([[ 0.56, -0.08, -0.  , -0.24],\n",
              "        [ 0.32, -0.16, -0.32,  0.64],\n",
              "        [-0.32,  0.32,  0.64,  0.24],\n",
              "        [ 0.4 ,  0.24, -0.72, -0.48],\n",
              "        [-0.64, -0.32,  0.32, -0.72]]))"
            ]
          },
          "metadata": {
            "tags": []
          },
          "execution_count": 12
        }
      ]
    },
    {
      "cell_type": "code",
      "metadata": {
        "id": "ICFetaBqFK3X",
        "colab": {
          "base_uri": "https://localhost:8080/"
        },
        "outputId": "a957318e-f112-4481-fce1-1c02bab72cc9"
      },
      "source": [
        "hidden * 2"
      ],
      "execution_count": 13,
      "outputs": [
        {
          "output_type": "execute_result",
          "data": {
            "text/plain": [
              "array([[-1.4,  0.2,  0. ,  0.6],\n",
              "       [-0.8,  0.4,  0.8, -1.6],\n",
              "       [ 0.8, -0.8, -1.6, -0.6],\n",
              "       [-1. , -0.6,  1.8,  1.2],\n",
              "       [ 1.6,  0.8, -0.8,  1.8]])"
            ]
          },
          "metadata": {
            "tags": []
          },
          "execution_count": 13
        }
      ]
    },
    {
      "cell_type": "code",
      "metadata": {
        "id": "jFgp0LhBFJVX",
        "colab": {
          "base_uri": "https://localhost:8080/"
        },
        "outputId": "24cb12df-c11c-43fb-9ce2-1e897d82a669"
      },
      "source": [
        "2 * hidden"
      ],
      "execution_count": 14,
      "outputs": [
        {
          "output_type": "execute_result",
          "data": {
            "text/plain": [
              "array([[-1.4,  0.2,  0. ,  0.6],\n",
              "       [-0.8,  0.4,  0.8, -1.6],\n",
              "       [ 0.8, -0.8, -1.6, -0.6],\n",
              "       [-1. , -0.6,  1.8,  1.2],\n",
              "       [ 1.6,  0.8, -0.8,  1.8]])"
            ]
          },
          "metadata": {
            "tags": []
          },
          "execution_count": 14
        }
      ]
    },
    {
      "cell_type": "markdown",
      "metadata": {
        "id": "StVZG6BQNuHv"
      },
      "source": [
        "## matrix multiplication"
      ]
    },
    {
      "cell_type": "code",
      "metadata": {
        "colab": {
          "base_uri": "https://localhost:8080/"
        },
        "id": "e82GdCnQaTYc",
        "outputId": "6544cbc5-b372-4317-a4c7-3de659f501dd"
      },
      "source": [
        "hidden"
      ],
      "execution_count": 15,
      "outputs": [
        {
          "output_type": "execute_result",
          "data": {
            "text/plain": [
              "array([[-0.7,  0.1,  0. ,  0.3],\n",
              "       [-0.4,  0.2,  0.4, -0.8],\n",
              "       [ 0.4, -0.4, -0.8, -0.3],\n",
              "       [-0.5, -0.3,  0.9,  0.6],\n",
              "       [ 0.8,  0.4, -0.4,  0.9]])"
            ]
          },
          "metadata": {
            "tags": []
          },
          "execution_count": 15
        }
      ]
    },
    {
      "cell_type": "code",
      "metadata": {
        "colab": {
          "base_uri": "https://localhost:8080/"
        },
        "id": "9OaatIhpNuH4",
        "outputId": "e0649711-542f-4c18-d224-c3fda2cbce36"
      },
      "source": [
        "arg = np.random.randint(-9, 10, (4, 5)) / 10\n",
        "arg, np.matmul(hidden, arg)"
      ],
      "execution_count": 16,
      "outputs": [
        {
          "output_type": "execute_result",
          "data": {
            "text/plain": [
              "(array([[-0.3,  0.3,  0.4, -0.4, -0.8],\n",
              "        [-0.5, -0.6,  0.9, -0.3, -0.2],\n",
              "        [-0.4, -0.1,  0.9,  0.7,  0.4],\n",
              "        [ 0.1, -0.9, -0.7, -0.6,  0.8]]),\n",
              " array([[ 1.90000000e-01, -5.40000000e-01, -4.00000000e-01,\n",
              "          7.00000000e-02,  7.80000000e-01],\n",
              "        [-2.20000000e-01,  4.40000000e-01,  9.40000000e-01,\n",
              "          8.60000000e-01, -2.00000000e-01],\n",
              "        [ 3.70000000e-01,  7.10000000e-01, -7.10000000e-01,\n",
              "         -4.20000000e-01, -8.00000000e-01],\n",
              "        [-3.83026943e-17, -6.00000000e-01, -8.00000000e-02,\n",
              "          5.60000000e-01,  1.30000000e+00],\n",
              "        [-1.90000000e-01, -7.70000000e-01, -3.10000000e-01,\n",
              "         -1.26000000e+00, -1.60000000e-01]]))"
            ]
          },
          "metadata": {
            "tags": []
          },
          "execution_count": 16
        }
      ]
    },
    {
      "cell_type": "code",
      "metadata": {
        "colab": {
          "base_uri": "https://localhost:8080/"
        },
        "id": "5Cb1dK4XRjqc",
        "outputId": "b939f734-cf2a-4082-b78f-557341b5828a"
      },
      "source": [
        "val = np.zeros((hidden.shape[0], arg.shape[1]))\n",
        "val"
      ],
      "execution_count": 17,
      "outputs": [
        {
          "output_type": "execute_result",
          "data": {
            "text/plain": [
              "array([[0., 0., 0., 0., 0.],\n",
              "       [0., 0., 0., 0., 0.],\n",
              "       [0., 0., 0., 0., 0.],\n",
              "       [0., 0., 0., 0., 0.],\n",
              "       [0., 0., 0., 0., 0.]])"
            ]
          },
          "metadata": {
            "tags": []
          },
          "execution_count": 17
        }
      ]
    },
    {
      "cell_type": "code",
      "metadata": {
        "colab": {
          "base_uri": "https://localhost:8080/"
        },
        "id": "eygkZ2N6RmuV",
        "outputId": "80571c79-763b-4dbb-c843-a0241fce2dc1"
      },
      "source": [
        "for row in range(hidden.shape[0]):\n",
        "    row_v = hidden[row]\n",
        "    for col in range(arg.shape[1]):\n",
        "        col_v = arg[:, col]\n",
        "        val[row][col] = np.dot(row_v, col_v)\n",
        "val"
      ],
      "execution_count": 18,
      "outputs": [
        {
          "output_type": "execute_result",
          "data": {
            "text/plain": [
              "array([[ 1.90000000e-01, -5.40000000e-01, -4.00000000e-01,\n",
              "         7.00000000e-02,  7.80000000e-01],\n",
              "       [-2.20000000e-01,  4.40000000e-01,  9.40000000e-01,\n",
              "         8.60000000e-01, -2.00000000e-01],\n",
              "       [ 3.70000000e-01,  7.10000000e-01, -7.10000000e-01,\n",
              "        -4.20000000e-01, -8.00000000e-01],\n",
              "       [-5.55111512e-17, -6.00000000e-01, -8.00000000e-02,\n",
              "         5.60000000e-01,  1.30000000e+00],\n",
              "       [-1.90000000e-01, -7.70000000e-01, -3.10000000e-01,\n",
              "        -1.26000000e+00, -1.60000000e-01]])"
            ]
          },
          "metadata": {
            "tags": []
          },
          "execution_count": 18
        }
      ]
    },
    {
      "cell_type": "code",
      "metadata": {
        "id": "DBeV6JNvFWLC"
      },
      "source": [
        ""
      ],
      "execution_count": 18,
      "outputs": []
    }
  ]
}